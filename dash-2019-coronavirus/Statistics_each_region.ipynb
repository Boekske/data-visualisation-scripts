{
 "cells": [
  {
   "cell_type": "code",
   "execution_count": 2,
   "metadata": {},
   "outputs": [],
   "source": [
    "import pandas as pd\n",
    "import numpy as np\n",
    "from datetime import datetime, timedelta\n",
    "import math \n",
    "\n",
    "import plotly.graph_objects as go\n",
    "from plotly.subplots import make_subplots"
   ]
  },
  {
   "cell_type": "code",
   "execution_count": 176,
   "metadata": {},
   "outputs": [
    {
     "name": "stdout",
     "output_type": "stream",
     "text": [
      "CPU times: user 1.18 s, sys: 20.3 ms, total: 1.2 s\n",
      "Wall time: 1.2 s\n"
     ]
    }
   ],
   "source": [
    "%%time\n",
    "# Import xlsx file and store each sheet in to a df list\n",
    "xl_file = pd.ExcelFile('./data.xls')\n",
    "\n",
    "dfs = {sheet_name: xl_file.parse(sheet_name) \n",
    "          for sheet_name in xl_file.sheet_names}"
   ]
  },
  {
   "cell_type": "code",
   "execution_count": 175,
   "metadata": {},
   "outputs": [
    {
     "name": "stdout",
     "output_type": "stream",
     "text": [
      "CPU times: user 1.86 s, sys: 8.07 ms, total: 1.87 s\n",
      "Wall time: 1.87 s\n"
     ]
    }
   ],
   "source": [
    "%%time\n",
    "# Data from each sheet can be accessed via key\n",
    "keyList = list(dfs.keys())\n",
    "# Data cleansing\n",
    "for key, df in dfs.items():\n",
    "    dfs[key].loc[:,'Confirmed'].fillna(value=0, inplace=True)\n",
    "    dfs[key].loc[:,'Deaths'].fillna(value=0, inplace=True)\n",
    "    dfs[key].loc[:,'Recovered'].fillna(value=0, inplace=True)\n",
    "    dfs[key]=dfs[key].astype({'Confirmed':'int64', 'Deaths':'int64', 'Recovered':'int64'})\n",
    "    # Change as China for coordinate search\n",
    "    dfs[key]=dfs[key].replace({'Country/Region':'Mainland China'}, 'China')\n",
    "    # Add a zero to the date so can be convert by datetime.strptime as 0-padded date\n",
    "    dfs[key]['Last Update'] = '0' + dfs[key]['Last Update']\n",
    "    # Convert time as Australian eastern daylight time\n",
    "    dfs[key]['Date_last_updated_AEDT'] = [datetime.strptime(d, '%m/%d/%Y %H:%M') for d in dfs[key]['Last Update']]\n",
    "    dfs[key]['Date_last_updated_AEDT'] = dfs[key]['Date_last_updated_AEDT'] + timedelta(hours=16)\n",
    "    \n",
    "# Check \n",
    "#dfs[keyList[0]].head()"
   ]
  },
  {
   "cell_type": "code",
   "execution_count": 6,
   "metadata": {},
   "outputs": [
    {
     "data": {
      "text/plain": [
       "(5, 2)"
      ]
     },
     "execution_count": 6,
     "metadata": {},
     "output_type": "execute_result"
    }
   ],
   "source": [
    "for key, df in dfs.items():\n",
    "    dfTpm = df.groupby(['Country/Region'])['Confirmed'].agg(np.sum)\n",
    "    dfTpm = pd.DataFrame({'Code':dfTpm.index, 'Confirmed':dfTpm.values})\n",
    "    dfTpm = dfTpm.sort_values(by='Confirmed', ascending=False).reset_index(drop=True)\n",
    "dfTpm.shape"
   ]
  },
  {
   "cell_type": "code",
   "execution_count": 9,
   "metadata": {},
   "outputs": [
    {
     "data": {
      "text/html": [
       "<div>\n",
       "<style scoped>\n",
       "    .dataframe tbody tr th:only-of-type {\n",
       "        vertical-align: middle;\n",
       "    }\n",
       "\n",
       "    .dataframe tbody tr th {\n",
       "        vertical-align: top;\n",
       "    }\n",
       "\n",
       "    .dataframe thead th {\n",
       "        text-align: right;\n",
       "    }\n",
       "</style>\n",
       "<table border=\"1\" class=\"dataframe\">\n",
       "  <thead>\n",
       "    <tr style=\"text-align: right;\">\n",
       "      <th></th>\n",
       "      <th>Province/State</th>\n",
       "      <th>Country/Region</th>\n",
       "      <th>Last Update</th>\n",
       "      <th>Confirmed</th>\n",
       "      <th>Deaths</th>\n",
       "      <th>Recovered</th>\n",
       "      <th>Date_last_updated_AEDT</th>\n",
       "    </tr>\n",
       "  </thead>\n",
       "  <tbody>\n",
       "    <tr>\n",
       "      <th>0</th>\n",
       "      <td>Hubei</td>\n",
       "      <td>China</td>\n",
       "      <td>03/04/2020  18:00</td>\n",
       "      <td>67332</td>\n",
       "      <td>2871</td>\n",
       "      <td>38556</td>\n",
       "      <td>2020-03-05 10:00:00</td>\n",
       "    </tr>\n",
       "    <tr>\n",
       "      <th>1</th>\n",
       "      <td>Guangdong</td>\n",
       "      <td>China</td>\n",
       "      <td>03/04/2020  18:00</td>\n",
       "      <td>1350</td>\n",
       "      <td>7</td>\n",
       "      <td>1133</td>\n",
       "      <td>2020-03-05 10:00:00</td>\n",
       "    </tr>\n",
       "    <tr>\n",
       "      <th>2</th>\n",
       "      <td>Zhejiang</td>\n",
       "      <td>China</td>\n",
       "      <td>03/04/2020  18:00</td>\n",
       "      <td>1213</td>\n",
       "      <td>1</td>\n",
       "      <td>1114</td>\n",
       "      <td>2020-03-05 10:00:00</td>\n",
       "    </tr>\n",
       "    <tr>\n",
       "      <th>3</th>\n",
       "      <td>Shandong</td>\n",
       "      <td>China</td>\n",
       "      <td>03/04/2020  18:00</td>\n",
       "      <td>758</td>\n",
       "      <td>6</td>\n",
       "      <td>515</td>\n",
       "      <td>2020-03-05 10:00:00</td>\n",
       "    </tr>\n",
       "    <tr>\n",
       "      <th>4</th>\n",
       "      <td>Henan</td>\n",
       "      <td>China</td>\n",
       "      <td>03/04/2020  18:00</td>\n",
       "      <td>1272</td>\n",
       "      <td>22</td>\n",
       "      <td>1234</td>\n",
       "      <td>2020-03-05 10:00:00</td>\n",
       "    </tr>\n",
       "  </tbody>\n",
       "</table>\n",
       "</div>"
      ],
      "text/plain": [
       "  Province/State Country/Region        Last Update  Confirmed  Deaths  \\\n",
       "0          Hubei          China  03/04/2020  18:00      67332    2871   \n",
       "1      Guangdong          China  03/04/2020  18:00       1350       7   \n",
       "2       Zhejiang          China  03/04/2020  18:00       1213       1   \n",
       "3       Shandong          China  03/04/2020  18:00        758       6   \n",
       "4          Henan          China  03/04/2020  18:00       1272      22   \n",
       "\n",
       "   Recovered Date_last_updated_AEDT  \n",
       "0      38556    2020-03-05 10:00:00  \n",
       "1       1133    2020-03-05 10:00:00  \n",
       "2       1114    2020-03-05 10:00:00  \n",
       "3        515    2020-03-05 10:00:00  \n",
       "4       1234    2020-03-05 10:00:00  "
      ]
     },
     "execution_count": 9,
     "metadata": {},
     "output_type": "execute_result"
    }
   ],
   "source": [
    "df = dfs[keyList[0]]\n",
    "df.head()"
   ]
  },
  {
   "cell_type": "code",
   "execution_count": 13,
   "metadata": {},
   "outputs": [
    {
     "data": {
      "text/html": [
       "<div>\n",
       "<style scoped>\n",
       "    .dataframe tbody tr th:only-of-type {\n",
       "        vertical-align: middle;\n",
       "    }\n",
       "\n",
       "    .dataframe tbody tr th {\n",
       "        vertical-align: top;\n",
       "    }\n",
       "\n",
       "    .dataframe thead th {\n",
       "        text-align: right;\n",
       "    }\n",
       "</style>\n",
       "<table border=\"1\" class=\"dataframe\">\n",
       "  <thead>\n",
       "    <tr style=\"text-align: right;\">\n",
       "      <th></th>\n",
       "      <th>Confirmed</th>\n",
       "      <th>Deaths</th>\n",
       "      <th>Recovered</th>\n",
       "    </tr>\n",
       "    <tr>\n",
       "      <th>Country/Region</th>\n",
       "      <th></th>\n",
       "      <th></th>\n",
       "      <th></th>\n",
       "    </tr>\n",
       "  </thead>\n",
       "  <tbody>\n",
       "    <tr>\n",
       "      <th>Afghanistan</th>\n",
       "      <td>1</td>\n",
       "      <td>0</td>\n",
       "      <td>0</td>\n",
       "    </tr>\n",
       "    <tr>\n",
       "      <th>Algeria</th>\n",
       "      <td>17</td>\n",
       "      <td>0</td>\n",
       "      <td>0</td>\n",
       "    </tr>\n",
       "    <tr>\n",
       "      <th>Andorra</th>\n",
       "      <td>1</td>\n",
       "      <td>0</td>\n",
       "      <td>0</td>\n",
       "    </tr>\n",
       "    <tr>\n",
       "      <th>Argentina</th>\n",
       "      <td>1</td>\n",
       "      <td>0</td>\n",
       "      <td>0</td>\n",
       "    </tr>\n",
       "    <tr>\n",
       "      <th>Armenia</th>\n",
       "      <td>1</td>\n",
       "      <td>0</td>\n",
       "      <td>0</td>\n",
       "    </tr>\n",
       "    <tr>\n",
       "      <th>...</th>\n",
       "      <td>...</td>\n",
       "      <td>...</td>\n",
       "      <td>...</td>\n",
       "    </tr>\n",
       "    <tr>\n",
       "      <th>UK</th>\n",
       "      <td>87</td>\n",
       "      <td>0</td>\n",
       "      <td>8</td>\n",
       "    </tr>\n",
       "    <tr>\n",
       "      <th>US</th>\n",
       "      <td>155</td>\n",
       "      <td>11</td>\n",
       "      <td>7</td>\n",
       "    </tr>\n",
       "    <tr>\n",
       "      <th>Ukraine</th>\n",
       "      <td>1</td>\n",
       "      <td>0</td>\n",
       "      <td>0</td>\n",
       "    </tr>\n",
       "    <tr>\n",
       "      <th>United Arab Emirates</th>\n",
       "      <td>28</td>\n",
       "      <td>0</td>\n",
       "      <td>5</td>\n",
       "    </tr>\n",
       "    <tr>\n",
       "      <th>Vietnam</th>\n",
       "      <td>16</td>\n",
       "      <td>0</td>\n",
       "      <td>16</td>\n",
       "    </tr>\n",
       "  </tbody>\n",
       "</table>\n",
       "<p>83 rows × 3 columns</p>\n",
       "</div>"
      ],
      "text/plain": [
       "                      Confirmed  Deaths  Recovered\n",
       "Country/Region                                    \n",
       "Afghanistan                   1       0          0\n",
       "Algeria                      17       0          0\n",
       "Andorra                       1       0          0\n",
       "Argentina                     1       0          0\n",
       "Armenia                       1       0          0\n",
       "...                         ...     ...        ...\n",
       "UK                           87       0          8\n",
       "US                          155      11          7\n",
       "Ukraine                       1       0          0\n",
       "United Arab Emirates         28       0          5\n",
       "Vietnam                      16       0         16\n",
       "\n",
       "[83 rows x 3 columns]"
      ]
     },
     "execution_count": 13,
     "metadata": {},
     "output_type": "execute_result"
    }
   ],
   "source": [
    "dfTpm = df.groupby(['Country/Region'])['Confirmed', 'Deaths', 'Recovered'].agg(np.sum)\n",
    "\n",
    "dfTpm"
   ]
  },
  {
   "cell_type": "code",
   "execution_count": 120,
   "metadata": {},
   "outputs": [],
   "source": [
    "def df_for_lineplot_diff(dfs, CaseType):\n",
    "    '''This is the function for construct df for line plot'''\n",
    "    \n",
    "    assert type(CaseType) is str, \"CaseType must be one of the following three strings Confirmed/Recovered/Deaths\"\n",
    "    \n",
    "    \n",
    "    # Construct confirmed cases dataframe for line plot\n",
    "    DateList = []\n",
    "    ChinaList =[]\n",
    "    OtherList = []\n",
    "\n",
    "    for key, df in dfs.items():\n",
    "        dfTpm = df.groupby(['Country/Region'])[CaseType].agg(np.sum)\n",
    "        dfTpm = pd.DataFrame({'Code':dfTpm.index, CaseType:dfTpm.values})\n",
    "        dfTpm = dfTpm.sort_values(by=CaseType, ascending=False).reset_index(drop=True)\n",
    "        DateList.append(df['Date_last_updated_AEDT'][0])\n",
    "        ChinaList.append(dfTpm[CaseType][0])\n",
    "        OtherList.append(dfTpm[CaseType][1:].sum())\n",
    "\n",
    "    df = pd.DataFrame({'Date':DateList,\n",
    "                       'Mainland China':ChinaList,\n",
    "                       'Other locations':OtherList})\n",
    "    df['Total']=df['Mainland China']+df['Other locations']\n",
    "\n",
    "    # Calculate differenec in a 24-hour window\n",
    "    for index, _ in df.iterrows():\n",
    "        # Calculate the time differnece in hour\n",
    "        diff=(df['Date'][0] - df['Date'][index]).total_seconds()/3600\n",
    "        # find out the latest time after 24-hour\n",
    "        if diff >= 24:\n",
    "            break\n",
    "    plusNum = df['Total'][0] - df['Total'][index]\n",
    "    plusPercentNum = (df['Total'][0] - df['Total'][index])/df['Total'][index]\n",
    "\n",
    "    # Select the latest data from a given date\n",
    "    df['date_day']=[d.date() for d in df['Date']]\n",
    "    df=df.groupby(by=df['date_day'], sort=False).transform(max).drop_duplicates(['Date'])\n",
    "    \n",
    "    df=df.reset_index(drop=True)\n",
    "    \n",
    "    return df, plusNum, plusPercentNum "
   ]
  },
  {
   "cell_type": "code",
   "execution_count": 122,
   "metadata": {},
   "outputs": [
    {
     "name": "stdout",
     "output_type": "stream",
     "text": [
      "CPU times: user 760 ms, sys: 3.47 ms, total: 763 ms\n",
      "Wall time: 766 ms\n"
     ]
    }
   ],
   "source": [
    "%%time\n",
    "df_confirmed, plusConfirmedNum, plusPercentNum1 = df_for_lineplot_diff(dfs, 'Confirmed')"
   ]
  },
  {
   "cell_type": "code",
   "execution_count": 123,
   "metadata": {},
   "outputs": [
    {
     "data": {
      "text/html": [
       "<div>\n",
       "<style scoped>\n",
       "    .dataframe tbody tr th:only-of-type {\n",
       "        vertical-align: middle;\n",
       "    }\n",
       "\n",
       "    .dataframe tbody tr th {\n",
       "        vertical-align: top;\n",
       "    }\n",
       "\n",
       "    .dataframe thead th {\n",
       "        text-align: right;\n",
       "    }\n",
       "</style>\n",
       "<table border=\"1\" class=\"dataframe\">\n",
       "  <thead>\n",
       "    <tr style=\"text-align: right;\">\n",
       "      <th></th>\n",
       "      <th>Date</th>\n",
       "      <th>Mainland China</th>\n",
       "      <th>Other locations</th>\n",
       "      <th>Total</th>\n",
       "    </tr>\n",
       "  </thead>\n",
       "  <tbody>\n",
       "    <tr>\n",
       "      <th>0</th>\n",
       "      <td>2020-03-05 12:00:00</td>\n",
       "      <td>80408</td>\n",
       "      <td>15048</td>\n",
       "      <td>95456</td>\n",
       "    </tr>\n",
       "    <tr>\n",
       "      <th>1</th>\n",
       "      <td>2020-03-04 22:00:00</td>\n",
       "      <td>80266</td>\n",
       "      <td>13298</td>\n",
       "      <td>93564</td>\n",
       "    </tr>\n",
       "    <tr>\n",
       "      <th>2</th>\n",
       "      <td>2020-03-03 22:00:00</td>\n",
       "      <td>80151</td>\n",
       "      <td>12034</td>\n",
       "      <td>92185</td>\n",
       "    </tr>\n",
       "    <tr>\n",
       "      <th>3</th>\n",
       "      <td>2020-03-02 22:00:00</td>\n",
       "      <td>80026</td>\n",
       "      <td>9753</td>\n",
       "      <td>89779</td>\n",
       "    </tr>\n",
       "    <tr>\n",
       "      <th>4</th>\n",
       "      <td>2020-03-01 22:00:00</td>\n",
       "      <td>79823</td>\n",
       "      <td>7170</td>\n",
       "      <td>86993</td>\n",
       "    </tr>\n",
       "  </tbody>\n",
       "</table>\n",
       "</div>"
      ],
      "text/plain": [
       "                 Date  Mainland China  Other locations  Total\n",
       "0 2020-03-05 12:00:00           80408            15048  95456\n",
       "1 2020-03-04 22:00:00           80266            13298  93564\n",
       "2 2020-03-03 22:00:00           80151            12034  92185\n",
       "3 2020-03-02 22:00:00           80026             9753  89779\n",
       "4 2020-03-01 22:00:00           79823             7170  86993"
      ]
     },
     "execution_count": 123,
     "metadata": {},
     "output_type": "execute_result"
    }
   ],
   "source": [
    "df_confirmed.head()"
   ]
  },
  {
   "cell_type": "code",
   "execution_count": 124,
   "metadata": {},
   "outputs": [
    {
     "data": {
      "text/plain": [
       "2570"
      ]
     },
     "execution_count": 124,
     "metadata": {},
     "output_type": "execute_result"
    }
   ],
   "source": [
    "plusConfirmedNum"
   ]
  },
  {
   "cell_type": "code",
   "execution_count": 125,
   "metadata": {},
   "outputs": [
    {
     "data": {
      "text/plain": [
       "0.027668324612966432"
      ]
     },
     "execution_count": 125,
     "metadata": {},
     "output_type": "execute_result"
    }
   ],
   "source": [
    "plusPercentNum1"
   ]
  },
  {
   "cell_type": "code",
   "execution_count": 141,
   "metadata": {},
   "outputs": [],
   "source": [
    "df_recovered, plusRecoveredNum, plusPercentNum2 = df_for_lineplot_diff(dfs, 'Recovered')"
   ]
  },
  {
   "cell_type": "code",
   "execution_count": 142,
   "metadata": {},
   "outputs": [
    {
     "data": {
      "text/html": [
       "<div>\n",
       "<style scoped>\n",
       "    .dataframe tbody tr th:only-of-type {\n",
       "        vertical-align: middle;\n",
       "    }\n",
       "\n",
       "    .dataframe tbody tr th {\n",
       "        vertical-align: top;\n",
       "    }\n",
       "\n",
       "    .dataframe thead th {\n",
       "        text-align: right;\n",
       "    }\n",
       "</style>\n",
       "<table border=\"1\" class=\"dataframe\">\n",
       "  <thead>\n",
       "    <tr style=\"text-align: right;\">\n",
       "      <th></th>\n",
       "      <th>Date</th>\n",
       "      <th>Mainland China</th>\n",
       "      <th>Other locations</th>\n",
       "      <th>Total</th>\n",
       "    </tr>\n",
       "  </thead>\n",
       "  <tbody>\n",
       "    <tr>\n",
       "      <th>0</th>\n",
       "      <td>2020-03-05 12:00:00</td>\n",
       "      <td>52077</td>\n",
       "      <td>1483</td>\n",
       "      <td>53560</td>\n",
       "    </tr>\n",
       "    <tr>\n",
       "      <th>1</th>\n",
       "      <td>2020-03-04 22:00:00</td>\n",
       "      <td>49906</td>\n",
       "      <td>1081</td>\n",
       "      <td>50987</td>\n",
       "    </tr>\n",
       "    <tr>\n",
       "      <th>2</th>\n",
       "      <td>2020-03-03 22:00:00</td>\n",
       "      <td>47335</td>\n",
       "      <td>914</td>\n",
       "      <td>48249</td>\n",
       "    </tr>\n",
       "    <tr>\n",
       "      <th>3</th>\n",
       "      <td>2020-03-02 22:00:00</td>\n",
       "      <td>44546</td>\n",
       "      <td>626</td>\n",
       "      <td>45172</td>\n",
       "    </tr>\n",
       "    <tr>\n",
       "      <th>4</th>\n",
       "      <td>2020-03-01 22:00:00</td>\n",
       "      <td>42070</td>\n",
       "      <td>520</td>\n",
       "      <td>42590</td>\n",
       "    </tr>\n",
       "  </tbody>\n",
       "</table>\n",
       "</div>"
      ],
      "text/plain": [
       "                 Date  Mainland China  Other locations  Total\n",
       "0 2020-03-05 12:00:00           52077             1483  53560\n",
       "1 2020-03-04 22:00:00           49906             1081  50987\n",
       "2 2020-03-03 22:00:00           47335              914  48249\n",
       "3 2020-03-02 22:00:00           44546              626  45172\n",
       "4 2020-03-01 22:00:00           42070              520  42590"
      ]
     },
     "execution_count": 142,
     "metadata": {},
     "output_type": "execute_result"
    }
   ],
   "source": [
    "df_recovered.head()"
   ]
  },
  {
   "cell_type": "code",
   "execution_count": 136,
   "metadata": {},
   "outputs": [
    {
     "data": {
      "text/plain": [
       "5154"
      ]
     },
     "execution_count": 136,
     "metadata": {},
     "output_type": "execute_result"
    }
   ],
   "source": [
    "plusRecoveredNum"
   ]
  },
  {
   "cell_type": "code",
   "execution_count": 137,
   "metadata": {},
   "outputs": [
    {
     "data": {
      "text/plain": [
       "0.1064744039995042"
      ]
     },
     "execution_count": 137,
     "metadata": {},
     "output_type": "execute_result"
    }
   ],
   "source": [
    "plusPercentNum2"
   ]
  },
  {
   "cell_type": "code",
   "execution_count": 132,
   "metadata": {},
   "outputs": [],
   "source": [
    "df_deaths, plusDeathNum, plusPercentNum3 = df_for_lineplot(dfs, 'Deaths')"
   ]
  },
  {
   "cell_type": "code",
   "execution_count": 133,
   "metadata": {},
   "outputs": [
    {
     "data": {
      "text/plain": [
       "122"
      ]
     },
     "execution_count": 133,
     "metadata": {},
     "output_type": "execute_result"
    }
   ],
   "source": [
    "plusDeathNum"
   ]
  },
  {
   "cell_type": "code",
   "execution_count": 134,
   "metadata": {},
   "outputs": [
    {
     "data": {
      "text/plain": [
       "0.03859538120847833"
      ]
     },
     "execution_count": 134,
     "metadata": {},
     "output_type": "execute_result"
    }
   ],
   "source": [
    "plusPercentNum3"
   ]
  },
  {
   "cell_type": "code",
   "execution_count": null,
   "metadata": {},
   "outputs": [],
   "source": []
  },
  {
   "cell_type": "code",
   "execution_count": null,
   "metadata": {},
   "outputs": [],
   "source": []
  },
  {
   "cell_type": "code",
   "execution_count": null,
   "metadata": {},
   "outputs": [],
   "source": []
  },
  {
   "cell_type": "code",
   "execution_count": null,
   "metadata": {},
   "outputs": [],
   "source": []
  },
  {
   "cell_type": "code",
   "execution_count": null,
   "metadata": {},
   "outputs": [],
   "source": []
  }
 ],
 "metadata": {
  "kernelspec": {
   "display_name": "Python 3",
   "language": "python",
   "name": "python3"
  },
  "language_info": {
   "codemirror_mode": {
    "name": "ipython",
    "version": 3
   },
   "file_extension": ".py",
   "mimetype": "text/x-python",
   "name": "python",
   "nbconvert_exporter": "python",
   "pygments_lexer": "ipython3",
   "version": "3.6.9"
  },
  "toc": {
   "base_numbering": 1,
   "nav_menu": {},
   "number_sections": true,
   "sideBar": true,
   "skip_h1_title": false,
   "title_cell": "Table of Contents",
   "title_sidebar": "Contents",
   "toc_cell": false,
   "toc_position": {},
   "toc_section_display": true,
   "toc_window_display": false
  },
  "varInspector": {
   "cols": {
    "lenName": 16,
    "lenType": 16,
    "lenVar": 40
   },
   "kernels_config": {
    "python": {
     "delete_cmd_postfix": "",
     "delete_cmd_prefix": "del ",
     "library": "var_list.py",
     "varRefreshCmd": "print(var_dic_list())"
    },
    "r": {
     "delete_cmd_postfix": ") ",
     "delete_cmd_prefix": "rm(",
     "library": "var_list.r",
     "varRefreshCmd": "cat(var_dic_list()) "
    }
   },
   "types_to_exclude": [
    "module",
    "function",
    "builtin_function_or_method",
    "instance",
    "_Feature"
   ],
   "window_display": false
  }
 },
 "nbformat": 4,
 "nbformat_minor": 2
}
