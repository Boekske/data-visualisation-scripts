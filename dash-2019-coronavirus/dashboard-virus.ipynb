{
 "cells": [
  {
   "cell_type": "code",
   "execution_count": 1,
   "metadata": {},
   "outputs": [],
   "source": [
    "import pandas as pd\n",
    "import numpy as np\n",
    "from datetime import datetime, timedelta\n",
    "import math \n",
    "\n",
    "import plotly.graph_objects as go\n",
    "from plotly.subplots import make_subplots"
   ]
  },
  {
   "cell_type": "code",
   "execution_count": 25,
   "metadata": {},
   "outputs": [],
   "source": [
    "# Import xlsx file and store each sheet in to a df list\n",
    "xl_file = pd.ExcelFile('./data.xlsx',)\n",
    "\n",
    "dfs = {sheet_name: xl_file.parse(sheet_name) \n",
    "          for sheet_name in xl_file.sheet_names}"
   ]
  },
  {
   "cell_type": "code",
   "execution_count": 26,
   "metadata": {},
   "outputs": [],
   "source": [
    "# Data from each sheet can be accessed via key\n",
    "keyList = list(dfs.keys())"
   ]
  },
  {
   "cell_type": "code",
   "execution_count": 27,
   "metadata": {
    "scrolled": true
   },
   "outputs": [],
   "source": [
    "# Data cleansing\n",
    "for key, df in dfs.items():\n",
    "    dfs[key].loc[:,'Confirmed'].fillna(value=0, inplace=True)\n",
    "    dfs[key].loc[:,'Deaths'].fillna(value=0, inplace=True)\n",
    "    dfs[key].loc[:,'Recovered'].fillna(value=0, inplace=True)\n",
    "    dfs[key]=dfs[key].astype({'Confirmed':'int64', 'Deaths':'int64', 'Recovered':'int64'})\n",
    "    # Change as China for coordinate search\n",
    "    dfs[key]=dfs[key].replace({'Country/Region':'Mainland China'}, 'China')\n",
    "    dfs[key]=dfs[key].replace({'Province/State':'Queensland'}, 'Brisbane')\n",
    "    dfs[key]=dfs[key].replace({'Province/State':'New South Wales'}, 'Sydney')\n",
    "    dfs[key]=dfs[key].replace({'Province/State':'Victoria'}, 'Melbourne')\n",
    "    # Add a zero to the date so can be convert by datetime.strptime as 0-padded date\n",
    "    dfs[key]['Last Update'] = '0' + dfs[key]['Last Update']\n",
    "    dfs[key]['Date_last_updated'] = [datetime.strptime(d, '%m/%d/%Y %H:%M') for d in dfs[key]['Last Update']]"
   ]
  },
  {
   "cell_type": "code",
   "execution_count": 28,
   "metadata": {},
   "outputs": [
    {
     "data": {
      "text/html": [
       "<div>\n",
       "<style scoped>\n",
       "    .dataframe tbody tr th:only-of-type {\n",
       "        vertical-align: middle;\n",
       "    }\n",
       "\n",
       "    .dataframe tbody tr th {\n",
       "        vertical-align: top;\n",
       "    }\n",
       "\n",
       "    .dataframe thead th {\n",
       "        text-align: right;\n",
       "    }\n",
       "</style>\n",
       "<table border=\"1\" class=\"dataframe\">\n",
       "  <thead>\n",
       "    <tr style=\"text-align: right;\">\n",
       "      <th></th>\n",
       "      <th>Province/State</th>\n",
       "      <th>Country/Region</th>\n",
       "      <th>Last Update</th>\n",
       "      <th>Confirmed</th>\n",
       "      <th>Deaths</th>\n",
       "      <th>Recovered</th>\n",
       "      <th>City</th>\n",
       "      <th>Date_last_updated</th>\n",
       "    </tr>\n",
       "  </thead>\n",
       "  <tbody>\n",
       "    <tr>\n",
       "      <th>0</th>\n",
       "      <td>Hubei</td>\n",
       "      <td>China</td>\n",
       "      <td>02/02/2020 20:00</td>\n",
       "      <td>11177</td>\n",
       "      <td>350</td>\n",
       "      <td>295</td>\n",
       "      <td>NaN</td>\n",
       "      <td>2020-02-02 20:00:00</td>\n",
       "    </tr>\n",
       "    <tr>\n",
       "      <th>1</th>\n",
       "      <td>Zhejiang</td>\n",
       "      <td>China</td>\n",
       "      <td>02/02/2020 20:00</td>\n",
       "      <td>661</td>\n",
       "      <td>0</td>\n",
       "      <td>32</td>\n",
       "      <td>NaN</td>\n",
       "      <td>2020-02-02 20:00:00</td>\n",
       "    </tr>\n",
       "    <tr>\n",
       "      <th>2</th>\n",
       "      <td>Guangdong</td>\n",
       "      <td>China</td>\n",
       "      <td>02/02/2020 20:00</td>\n",
       "      <td>632</td>\n",
       "      <td>0</td>\n",
       "      <td>15</td>\n",
       "      <td>NaN</td>\n",
       "      <td>2020-02-02 20:00:00</td>\n",
       "    </tr>\n",
       "    <tr>\n",
       "      <th>3</th>\n",
       "      <td>Henan</td>\n",
       "      <td>China</td>\n",
       "      <td>02/02/2020 20:00</td>\n",
       "      <td>493</td>\n",
       "      <td>2</td>\n",
       "      <td>10</td>\n",
       "      <td>NaN</td>\n",
       "      <td>2020-02-02 20:00:00</td>\n",
       "    </tr>\n",
       "    <tr>\n",
       "      <th>4</th>\n",
       "      <td>Hunan</td>\n",
       "      <td>China</td>\n",
       "      <td>02/02/2020 20:00</td>\n",
       "      <td>463</td>\n",
       "      <td>0</td>\n",
       "      <td>16</td>\n",
       "      <td>NaN</td>\n",
       "      <td>2020-02-02 20:00:00</td>\n",
       "    </tr>\n",
       "  </tbody>\n",
       "</table>\n",
       "</div>"
      ],
      "text/plain": [
       "  Province/State Country/Region       Last Update  Confirmed  Deaths  \\\n",
       "0          Hubei          China  02/02/2020 20:00      11177     350   \n",
       "1       Zhejiang          China  02/02/2020 20:00        661       0   \n",
       "2      Guangdong          China  02/02/2020 20:00        632       0   \n",
       "3          Henan          China  02/02/2020 20:00        493       2   \n",
       "4          Hunan          China  02/02/2020 20:00        463       0   \n",
       "\n",
       "   Recovered City   Date_last_updated  \n",
       "0        295  NaN 2020-02-02 20:00:00  \n",
       "1         32  NaN 2020-02-02 20:00:00  \n",
       "2         15  NaN 2020-02-02 20:00:00  \n",
       "3         10  NaN 2020-02-02 20:00:00  \n",
       "4         16  NaN 2020-02-02 20:00:00  "
      ]
     },
     "execution_count": 28,
     "metadata": {},
     "output_type": "execute_result"
    }
   ],
   "source": [
    "# Check \n",
    "dfs[keyList[0]].head()"
   ]
  },
  {
   "cell_type": "code",
   "execution_count": 29,
   "metadata": {},
   "outputs": [],
   "source": [
    "# Import data with coordinates (coordinates were called seperately in \"Updated_coordinates\")\n",
    "dfs[keyList[0]]=pd.read_csv('{}_data.csv'.format(keyList[0]))"
   ]
  },
  {
   "cell_type": "code",
   "execution_count": 30,
   "metadata": {},
   "outputs": [],
   "source": [
    "# Save numbers into variables to use in the app\n",
    "confirmedCases=dfs[keyList[0]]['Confirmed'].sum()\n",
    "deathsCases=dfs[keyList[0]]['Deaths'].sum()\n",
    "recoveredCases=dfs[keyList[0]]['Recovered'].sum()"
   ]
  },
  {
   "cell_type": "code",
   "execution_count": 31,
   "metadata": {},
   "outputs": [],
   "source": [
    "# Construct new dataframe for line plot\n",
    "DateList = []\n",
    "ChinaList =[]\n",
    "OtherList = []\n",
    "\n",
    "for key, df in dfs.items():\n",
    "    dfTpm = df.groupby(['Country/Region'])['Confirmed'].agg(np.sum)\n",
    "    dfTpm = pd.DataFrame({'Code':dfTpm.index, 'Confirmed':dfTpm.values})\n",
    "    dfTpm = dfTpm.sort_values(by='Confirmed', ascending=False).reset_index(drop=True)\n",
    "    DateList.append(df['Date_last_updated'][0])\n",
    "    ChinaList.append(dfTpm['Confirmed'][0])\n",
    "    OtherList.append(dfTpm['Confirmed'][1:].sum())\n",
    "    \n",
    "df_confirmed = pd.DataFrame({'Date':DateList,\n",
    "                             'Mainland China':ChinaList,\n",
    "                             'Other locations':OtherList})    "
   ]
  },
  {
   "cell_type": "code",
   "execution_count": 32,
   "metadata": {},
   "outputs": [
    {
     "data": {
      "text/html": [
       "<div>\n",
       "<style scoped>\n",
       "    .dataframe tbody tr th:only-of-type {\n",
       "        vertical-align: middle;\n",
       "    }\n",
       "\n",
       "    .dataframe tbody tr th {\n",
       "        vertical-align: top;\n",
       "    }\n",
       "\n",
       "    .dataframe thead th {\n",
       "        text-align: right;\n",
       "    }\n",
       "</style>\n",
       "<table border=\"1\" class=\"dataframe\">\n",
       "  <thead>\n",
       "    <tr style=\"text-align: right;\">\n",
       "      <th></th>\n",
       "      <th>Date</th>\n",
       "      <th>Mainland China</th>\n",
       "      <th>Other locations</th>\n",
       "    </tr>\n",
       "  </thead>\n",
       "  <tbody>\n",
       "    <tr>\n",
       "      <th>0</th>\n",
       "      <td>2020-02-02 20:00:00</td>\n",
       "      <td>16726</td>\n",
       "      <td>181</td>\n",
       "    </tr>\n",
       "    <tr>\n",
       "      <th>3</th>\n",
       "      <td>2020-02-01 23:00:00</td>\n",
       "      <td>14375</td>\n",
       "      <td>174</td>\n",
       "    </tr>\n",
       "    <tr>\n",
       "      <th>6</th>\n",
       "      <td>2020-01-31 19:00:00</td>\n",
       "      <td>11221</td>\n",
       "      <td>153</td>\n",
       "    </tr>\n",
       "    <tr>\n",
       "      <th>8</th>\n",
       "      <td>2020-01-30 21:30:00</td>\n",
       "      <td>9658</td>\n",
       "      <td>118</td>\n",
       "    </tr>\n",
       "    <tr>\n",
       "      <th>10</th>\n",
       "      <td>2020-01-29 21:00:00</td>\n",
       "      <td>7678</td>\n",
       "      <td>105</td>\n",
       "    </tr>\n",
       "    <tr>\n",
       "      <th>13</th>\n",
       "      <td>2020-01-28 23:00:00</td>\n",
       "      <td>5970</td>\n",
       "      <td>87</td>\n",
       "    </tr>\n",
       "    <tr>\n",
       "      <th>16</th>\n",
       "      <td>2020-01-27 20:30:00</td>\n",
       "      <td>4409</td>\n",
       "      <td>64</td>\n",
       "    </tr>\n",
       "    <tr>\n",
       "      <th>19</th>\n",
       "      <td>2020-01-26 23:00:00</td>\n",
       "      <td>2737</td>\n",
       "      <td>57</td>\n",
       "    </tr>\n",
       "    <tr>\n",
       "      <th>21</th>\n",
       "      <td>2020-01-25 22:00:00</td>\n",
       "      <td>1979</td>\n",
       "      <td>40</td>\n",
       "    </tr>\n",
       "    <tr>\n",
       "      <th>24</th>\n",
       "      <td>2020-01-24 12:00:00</td>\n",
       "      <td>916</td>\n",
       "      <td>25</td>\n",
       "    </tr>\n",
       "    <tr>\n",
       "      <th>26</th>\n",
       "      <td>2020-01-23 12:00:00</td>\n",
       "      <td>639</td>\n",
       "      <td>26</td>\n",
       "    </tr>\n",
       "    <tr>\n",
       "      <th>27</th>\n",
       "      <td>2020-01-22 12:00:00</td>\n",
       "      <td>549</td>\n",
       "      <td>6</td>\n",
       "    </tr>\n",
       "    <tr>\n",
       "      <th>28</th>\n",
       "      <td>2020-01-21 00:00:00</td>\n",
       "      <td>327</td>\n",
       "      <td>5</td>\n",
       "    </tr>\n",
       "  </tbody>\n",
       "</table>\n",
       "</div>"
      ],
      "text/plain": [
       "                  Date  Mainland China  Other locations\n",
       "0  2020-02-02 20:00:00           16726              181\n",
       "3  2020-02-01 23:00:00           14375              174\n",
       "6  2020-01-31 19:00:00           11221              153\n",
       "8  2020-01-30 21:30:00            9658              118\n",
       "10 2020-01-29 21:00:00            7678              105\n",
       "13 2020-01-28 23:00:00            5970               87\n",
       "16 2020-01-27 20:30:00            4409               64\n",
       "19 2020-01-26 23:00:00            2737               57\n",
       "21 2020-01-25 22:00:00            1979               40\n",
       "24 2020-01-24 12:00:00             916               25\n",
       "26 2020-01-23 12:00:00             639               26\n",
       "27 2020-01-22 12:00:00             549                6\n",
       "28 2020-01-21 00:00:00             327                5"
      ]
     },
     "execution_count": 32,
     "metadata": {},
     "output_type": "execute_result"
    }
   ],
   "source": [
    "df_confirmed['date_day']=[d.date() for d in df_confirmed['Date']]\n",
    "df_confirmed=df_confirmed.groupby(by=df_confirmed['date_day'], sort=False).transform(max).drop_duplicates(['Mainland China'])\n",
    "\n",
    "df_confirmed"
   ]
  },
  {
   "cell_type": "code",
   "execution_count": 33,
   "metadata": {},
   "outputs": [],
   "source": [
    "# Construct new dataframe for line plot\n",
    "DateList = []\n",
    "ChinaList =[]\n",
    "OtherList = []\n",
    "\n",
    "for key, df in dfs.items():\n",
    "    dfTpm = df.groupby(['Country/Region'])['Recovered'].agg(np.sum)\n",
    "    dfTpm = pd.DataFrame({'Code':dfTpm.index, 'Recovered':dfTpm.values})\n",
    "    dfTpm = dfTpm.sort_values(by='Recovered', ascending=False).reset_index(drop=True)\n",
    "    DateList.append(df['Date_last_updated'][0])\n",
    "    ChinaList.append(dfTpm['Recovered'][0])\n",
    "    OtherList.append(dfTpm['Recovered'][1:].sum())\n",
    "    \n",
    "df_recovered = pd.DataFrame({'Date':DateList,\n",
    "                             'Mainland China':ChinaList,\n",
    "                             'Other locations':OtherList})  "
   ]
  },
  {
   "cell_type": "code",
   "execution_count": 34,
   "metadata": {},
   "outputs": [
    {
     "data": {
      "text/html": [
       "<div>\n",
       "<style scoped>\n",
       "    .dataframe tbody tr th:only-of-type {\n",
       "        vertical-align: middle;\n",
       "    }\n",
       "\n",
       "    .dataframe tbody tr th {\n",
       "        vertical-align: top;\n",
       "    }\n",
       "\n",
       "    .dataframe thead th {\n",
       "        text-align: right;\n",
       "    }\n",
       "</style>\n",
       "<table border=\"1\" class=\"dataframe\">\n",
       "  <thead>\n",
       "    <tr style=\"text-align: right;\">\n",
       "      <th></th>\n",
       "      <th>Date</th>\n",
       "      <th>Mainland China</th>\n",
       "      <th>Other locations</th>\n",
       "    </tr>\n",
       "  </thead>\n",
       "  <tbody>\n",
       "    <tr>\n",
       "      <th>0</th>\n",
       "      <td>2020-02-02 20:00:00</td>\n",
       "      <td>463</td>\n",
       "      <td>9</td>\n",
       "    </tr>\n",
       "    <tr>\n",
       "      <th>3</th>\n",
       "      <td>2020-02-01 23:00:00</td>\n",
       "      <td>331</td>\n",
       "      <td>12</td>\n",
       "    </tr>\n",
       "    <tr>\n",
       "      <th>6</th>\n",
       "      <td>2020-01-31 19:00:00</td>\n",
       "      <td>242</td>\n",
       "      <td>10</td>\n",
       "    </tr>\n",
       "    <tr>\n",
       "      <th>8</th>\n",
       "      <td>2020-01-30 21:30:00</td>\n",
       "      <td>179</td>\n",
       "      <td>8</td>\n",
       "    </tr>\n",
       "    <tr>\n",
       "      <th>10</th>\n",
       "      <td>2020-01-29 21:00:00</td>\n",
       "      <td>127</td>\n",
       "      <td>6</td>\n",
       "    </tr>\n",
       "    <tr>\n",
       "      <th>13</th>\n",
       "      <td>2020-01-28 23:00:00</td>\n",
       "      <td>104</td>\n",
       "      <td>6</td>\n",
       "    </tr>\n",
       "    <tr>\n",
       "      <th>16</th>\n",
       "      <td>2020-01-27 20:30:00</td>\n",
       "      <td>60</td>\n",
       "      <td>3</td>\n",
       "    </tr>\n",
       "    <tr>\n",
       "      <th>19</th>\n",
       "      <td>2020-01-26 23:00:00</td>\n",
       "      <td>51</td>\n",
       "      <td>3</td>\n",
       "    </tr>\n",
       "    <tr>\n",
       "      <th>21</th>\n",
       "      <td>2020-01-25 22:00:00</td>\n",
       "      <td>49</td>\n",
       "      <td>0</td>\n",
       "    </tr>\n",
       "    <tr>\n",
       "      <th>24</th>\n",
       "      <td>2020-01-24 12:00:00</td>\n",
       "      <td>36</td>\n",
       "      <td>0</td>\n",
       "    </tr>\n",
       "    <tr>\n",
       "      <th>26</th>\n",
       "      <td>2020-01-23 12:00:00</td>\n",
       "      <td>30</td>\n",
       "      <td>0</td>\n",
       "    </tr>\n",
       "    <tr>\n",
       "      <th>27</th>\n",
       "      <td>2020-01-22 12:00:00</td>\n",
       "      <td>0</td>\n",
       "      <td>0</td>\n",
       "    </tr>\n",
       "  </tbody>\n",
       "</table>\n",
       "</div>"
      ],
      "text/plain": [
       "                  Date  Mainland China  Other locations\n",
       "0  2020-02-02 20:00:00             463                9\n",
       "3  2020-02-01 23:00:00             331               12\n",
       "6  2020-01-31 19:00:00             242               10\n",
       "8  2020-01-30 21:30:00             179                8\n",
       "10 2020-01-29 21:00:00             127                6\n",
       "13 2020-01-28 23:00:00             104                6\n",
       "16 2020-01-27 20:30:00              60                3\n",
       "19 2020-01-26 23:00:00              51                3\n",
       "21 2020-01-25 22:00:00              49                0\n",
       "24 2020-01-24 12:00:00              36                0\n",
       "26 2020-01-23 12:00:00              30                0\n",
       "27 2020-01-22 12:00:00               0                0"
      ]
     },
     "execution_count": 34,
     "metadata": {},
     "output_type": "execute_result"
    }
   ],
   "source": [
    "df_recovered['date_day']=[d.date() for d in df_recovered['Date']]\n",
    "df_recovered=df_recovered.groupby(by=df_recovered['date_day'], sort=False).transform(max).drop_duplicates(['Mainland China'])\n",
    "\n",
    "df_recovered"
   ]
  },
  {
   "cell_type": "code",
   "execution_count": 35,
   "metadata": {},
   "outputs": [],
   "source": [
    "# Construct new dataframe for line plot\n",
    "DateList = []\n",
    "ChinaList =[]\n",
    "OtherList = []\n",
    "\n",
    "for key, df in dfs.items():\n",
    "    dfTpm = df.groupby(['Country/Region'])['Deaths'].agg(np.sum)\n",
    "    dfTpm = pd.DataFrame({'Code':dfTpm.index, 'Deaths':dfTpm.values})\n",
    "    dfTpm = dfTpm.sort_values(by='Deaths', ascending=False).reset_index(drop=True)\n",
    "    DateList.append(df['Date_last_updated'][0])\n",
    "    ChinaList.append(dfTpm['Deaths'][0])\n",
    "    OtherList.append(dfTpm['Deaths'][1:].sum())\n",
    "    \n",
    "df_deaths = pd.DataFrame({'Date':DateList,\n",
    "                          'Mainland China':ChinaList,\n",
    "                          'Other locations':OtherList})  "
   ]
  },
  {
   "cell_type": "code",
   "execution_count": 36,
   "metadata": {},
   "outputs": [
    {
     "data": {
      "text/html": [
       "<div>\n",
       "<style scoped>\n",
       "    .dataframe tbody tr th:only-of-type {\n",
       "        vertical-align: middle;\n",
       "    }\n",
       "\n",
       "    .dataframe tbody tr th {\n",
       "        vertical-align: top;\n",
       "    }\n",
       "\n",
       "    .dataframe thead th {\n",
       "        text-align: right;\n",
       "    }\n",
       "</style>\n",
       "<table border=\"1\" class=\"dataframe\">\n",
       "  <thead>\n",
       "    <tr style=\"text-align: right;\">\n",
       "      <th></th>\n",
       "      <th>Date</th>\n",
       "      <th>Mainland China</th>\n",
       "      <th>Other locations</th>\n",
       "    </tr>\n",
       "  </thead>\n",
       "  <tbody>\n",
       "    <tr>\n",
       "      <th>0</th>\n",
       "      <td>2020-02-02 20:00:00</td>\n",
       "      <td>361</td>\n",
       "      <td>1</td>\n",
       "    </tr>\n",
       "    <tr>\n",
       "      <th>3</th>\n",
       "      <td>2020-02-01 23:00:00</td>\n",
       "      <td>304</td>\n",
       "      <td>1</td>\n",
       "    </tr>\n",
       "    <tr>\n",
       "      <th>6</th>\n",
       "      <td>2020-01-31 19:00:00</td>\n",
       "      <td>259</td>\n",
       "      <td>0</td>\n",
       "    </tr>\n",
       "    <tr>\n",
       "      <th>8</th>\n",
       "      <td>2020-01-30 21:30:00</td>\n",
       "      <td>213</td>\n",
       "      <td>0</td>\n",
       "    </tr>\n",
       "    <tr>\n",
       "      <th>10</th>\n",
       "      <td>2020-01-29 21:00:00</td>\n",
       "      <td>170</td>\n",
       "      <td>0</td>\n",
       "    </tr>\n",
       "    <tr>\n",
       "      <th>13</th>\n",
       "      <td>2020-01-28 23:00:00</td>\n",
       "      <td>132</td>\n",
       "      <td>0</td>\n",
       "    </tr>\n",
       "    <tr>\n",
       "      <th>16</th>\n",
       "      <td>2020-01-27 20:30:00</td>\n",
       "      <td>107</td>\n",
       "      <td>0</td>\n",
       "    </tr>\n",
       "    <tr>\n",
       "      <th>19</th>\n",
       "      <td>2020-01-26 23:00:00</td>\n",
       "      <td>80</td>\n",
       "      <td>0</td>\n",
       "    </tr>\n",
       "    <tr>\n",
       "      <th>21</th>\n",
       "      <td>2020-01-25 22:00:00</td>\n",
       "      <td>56</td>\n",
       "      <td>0</td>\n",
       "    </tr>\n",
       "    <tr>\n",
       "      <th>24</th>\n",
       "      <td>2020-01-24 12:00:00</td>\n",
       "      <td>26</td>\n",
       "      <td>0</td>\n",
       "    </tr>\n",
       "    <tr>\n",
       "      <th>26</th>\n",
       "      <td>2020-01-23 12:00:00</td>\n",
       "      <td>18</td>\n",
       "      <td>0</td>\n",
       "    </tr>\n",
       "    <tr>\n",
       "      <th>27</th>\n",
       "      <td>2020-01-22 12:00:00</td>\n",
       "      <td>0</td>\n",
       "      <td>0</td>\n",
       "    </tr>\n",
       "  </tbody>\n",
       "</table>\n",
       "</div>"
      ],
      "text/plain": [
       "                  Date  Mainland China  Other locations\n",
       "0  2020-02-02 20:00:00             361                1\n",
       "3  2020-02-01 23:00:00             304                1\n",
       "6  2020-01-31 19:00:00             259                0\n",
       "8  2020-01-30 21:30:00             213                0\n",
       "10 2020-01-29 21:00:00             170                0\n",
       "13 2020-01-28 23:00:00             132                0\n",
       "16 2020-01-27 20:30:00             107                0\n",
       "19 2020-01-26 23:00:00              80                0\n",
       "21 2020-01-25 22:00:00              56                0\n",
       "24 2020-01-24 12:00:00              26                0\n",
       "26 2020-01-23 12:00:00              18                0\n",
       "27 2020-01-22 12:00:00               0                0"
      ]
     },
     "execution_count": 36,
     "metadata": {},
     "output_type": "execute_result"
    }
   ],
   "source": [
    "df_deaths['date_day']=[d.date() for d in df_deaths['Date']]\n",
    "df_deaths=df_deaths.groupby(by=df_deaths['date_day'], sort=False).transform(max).drop_duplicates(['Mainland China'])\n",
    "\n",
    "df_deaths"
   ]
  },
  {
   "cell_type": "code",
   "execution_count": 37,
   "metadata": {},
   "outputs": [],
   "source": [
    "# Save numbers into variables to use in the app\n",
    "# Change to Sydney time\n",
    "latestDate=datetime.strftime(df_confirmed['Date'][0] + timedelta(hours=16), '%b %d %Y %H:%M AEDT')\n",
    "daysOutbreak=(df_confirmed['Date'][0] - datetime.strptime('12/31/2019', '%m/%d/%Y')).days"
   ]
  },
  {
   "cell_type": "code",
   "execution_count": 38,
   "metadata": {},
   "outputs": [
    {
     "data": {
      "text/plain": [
       "Timestamp('2020-02-02 20:00:00')"
      ]
     },
     "execution_count": 38,
     "metadata": {},
     "output_type": "execute_result"
    }
   ],
   "source": [
    "df_confirmed['Date'][0]"
   ]
  },
  {
   "cell_type": "code",
   "execution_count": 52,
   "metadata": {},
   "outputs": [
    {
     "data": {
      "application/vnd.plotly.v1+json": {
       "config": {
        "plotlyServerURL": "https://plot.ly"
       },
       "data": [
        {
         "hovertemplate": "<b>%{text}</b><br></br>Mainland China confirmed<br>%{y} cases<br><extra></extra>",
         "line": {
          "color": "#921113",
          "width": 2
         },
         "marker": {
          "size": 8
         },
         "mode": "lines+markers",
         "name": "Mainland China",
         "text": [
          "Feb 03 2020 AEDT",
          "Feb 02 2020 AEDT",
          "Feb 01 2020 AEDT",
          "Jan 31 2020 AEDT",
          "Jan 30 2020 AEDT",
          "Jan 29 2020 AEDT",
          "Jan 28 2020 AEDT",
          "Jan 27 2020 AEDT",
          "Jan 26 2020 AEDT",
          "Jan 25 2020 AEDT",
          "Jan 24 2020 AEDT",
          "Jan 23 2020 AEDT",
          "Jan 21 2020 AEDT"
         ],
         "type": "scatter",
         "x": [
          "2020-02-03T12:00:00",
          "2020-02-02T15:00:00",
          "2020-02-01T11:00:00",
          "2020-01-31T13:30:00",
          "2020-01-30T13:00:00",
          "2020-01-29T15:00:00",
          "2020-01-28T12:30:00",
          "2020-01-27T15:00:00",
          "2020-01-26T14:00:00",
          "2020-01-25T04:00:00",
          "2020-01-24T04:00:00",
          "2020-01-23T04:00:00",
          "2020-01-21T16:00:00"
         ],
         "y": [
          16726,
          14375,
          11221,
          9658,
          7678,
          5970,
          4409,
          2737,
          1979,
          916,
          639,
          549,
          327
         ]
        },
        {
         "hovertemplate": "<b>%{text}</b><br></br>Other region confirmed<br>%{y} cases<br><extra></extra>",
         "line": {
          "color": "#eb5254",
          "width": 2
         },
         "marker": {
          "size": 8
         },
         "mode": "lines+markers",
         "name": "Other Region",
         "text": [
          "Feb 03 2020 12:00 AEDT",
          "Feb 02 2020 15:00 AEDT",
          "Feb 01 2020 11:00 AEDT",
          "Jan 31 2020 13:30 AEDT",
          "Jan 30 2020 13:00 AEDT",
          "Jan 29 2020 15:00 AEDT",
          "Jan 28 2020 12:30 AEDT",
          "Jan 27 2020 15:00 AEDT",
          "Jan 26 2020 14:00 AEDT",
          "Jan 25 2020 04:00 AEDT",
          "Jan 24 2020 04:00 AEDT",
          "Jan 23 2020 04:00 AEDT",
          "Jan 21 2020 16:00 AEDT"
         ],
         "type": "scatter",
         "x": [
          "2020-02-03T12:00:00",
          "2020-02-02T15:00:00",
          "2020-02-01T11:00:00",
          "2020-01-31T13:30:00",
          "2020-01-30T13:00:00",
          "2020-01-29T15:00:00",
          "2020-01-28T12:30:00",
          "2020-01-27T15:00:00",
          "2020-01-26T14:00:00",
          "2020-01-25T04:00:00",
          "2020-01-24T04:00:00",
          "2020-01-23T04:00:00",
          "2020-01-21T16:00:00"
         ],
         "y": [
          181,
          174,
          153,
          118,
          105,
          87,
          64,
          57,
          40,
          25,
          26,
          6,
          5
         ]
        }
       ],
       "layout": {
        "font": {
         "color": "#ffffff"
        },
        "hovermode": "x",
        "legend": {
         "orientation": "h"
        },
        "margin": {
         "b": 10,
         "l": 5,
         "pad": 0,
         "r": 10,
         "t": 50
        },
        "paper_bgcolor": "#272e3e",
        "plot_bgcolor": "#151920",
        "template": {
         "data": {
          "bar": [
           {
            "error_x": {
             "color": "#2a3f5f"
            },
            "error_y": {
             "color": "#2a3f5f"
            },
            "marker": {
             "line": {
              "color": "#E5ECF6",
              "width": 0.5
             }
            },
            "type": "bar"
           }
          ],
          "barpolar": [
           {
            "marker": {
             "line": {
              "color": "#E5ECF6",
              "width": 0.5
             }
            },
            "type": "barpolar"
           }
          ],
          "carpet": [
           {
            "aaxis": {
             "endlinecolor": "#2a3f5f",
             "gridcolor": "white",
             "linecolor": "white",
             "minorgridcolor": "white",
             "startlinecolor": "#2a3f5f"
            },
            "baxis": {
             "endlinecolor": "#2a3f5f",
             "gridcolor": "white",
             "linecolor": "white",
             "minorgridcolor": "white",
             "startlinecolor": "#2a3f5f"
            },
            "type": "carpet"
           }
          ],
          "choropleth": [
           {
            "colorbar": {
             "outlinewidth": 0,
             "ticks": ""
            },
            "type": "choropleth"
           }
          ],
          "contour": [
           {
            "colorbar": {
             "outlinewidth": 0,
             "ticks": ""
            },
            "colorscale": [
             [
              0,
              "#0d0887"
             ],
             [
              0.1111111111111111,
              "#46039f"
             ],
             [
              0.2222222222222222,
              "#7201a8"
             ],
             [
              0.3333333333333333,
              "#9c179e"
             ],
             [
              0.4444444444444444,
              "#bd3786"
             ],
             [
              0.5555555555555556,
              "#d8576b"
             ],
             [
              0.6666666666666666,
              "#ed7953"
             ],
             [
              0.7777777777777778,
              "#fb9f3a"
             ],
             [
              0.8888888888888888,
              "#fdca26"
             ],
             [
              1,
              "#f0f921"
             ]
            ],
            "type": "contour"
           }
          ],
          "contourcarpet": [
           {
            "colorbar": {
             "outlinewidth": 0,
             "ticks": ""
            },
            "type": "contourcarpet"
           }
          ],
          "heatmap": [
           {
            "colorbar": {
             "outlinewidth": 0,
             "ticks": ""
            },
            "colorscale": [
             [
              0,
              "#0d0887"
             ],
             [
              0.1111111111111111,
              "#46039f"
             ],
             [
              0.2222222222222222,
              "#7201a8"
             ],
             [
              0.3333333333333333,
              "#9c179e"
             ],
             [
              0.4444444444444444,
              "#bd3786"
             ],
             [
              0.5555555555555556,
              "#d8576b"
             ],
             [
              0.6666666666666666,
              "#ed7953"
             ],
             [
              0.7777777777777778,
              "#fb9f3a"
             ],
             [
              0.8888888888888888,
              "#fdca26"
             ],
             [
              1,
              "#f0f921"
             ]
            ],
            "type": "heatmap"
           }
          ],
          "heatmapgl": [
           {
            "colorbar": {
             "outlinewidth": 0,
             "ticks": ""
            },
            "colorscale": [
             [
              0,
              "#0d0887"
             ],
             [
              0.1111111111111111,
              "#46039f"
             ],
             [
              0.2222222222222222,
              "#7201a8"
             ],
             [
              0.3333333333333333,
              "#9c179e"
             ],
             [
              0.4444444444444444,
              "#bd3786"
             ],
             [
              0.5555555555555556,
              "#d8576b"
             ],
             [
              0.6666666666666666,
              "#ed7953"
             ],
             [
              0.7777777777777778,
              "#fb9f3a"
             ],
             [
              0.8888888888888888,
              "#fdca26"
             ],
             [
              1,
              "#f0f921"
             ]
            ],
            "type": "heatmapgl"
           }
          ],
          "histogram": [
           {
            "marker": {
             "colorbar": {
              "outlinewidth": 0,
              "ticks": ""
             }
            },
            "type": "histogram"
           }
          ],
          "histogram2d": [
           {
            "colorbar": {
             "outlinewidth": 0,
             "ticks": ""
            },
            "colorscale": [
             [
              0,
              "#0d0887"
             ],
             [
              0.1111111111111111,
              "#46039f"
             ],
             [
              0.2222222222222222,
              "#7201a8"
             ],
             [
              0.3333333333333333,
              "#9c179e"
             ],
             [
              0.4444444444444444,
              "#bd3786"
             ],
             [
              0.5555555555555556,
              "#d8576b"
             ],
             [
              0.6666666666666666,
              "#ed7953"
             ],
             [
              0.7777777777777778,
              "#fb9f3a"
             ],
             [
              0.8888888888888888,
              "#fdca26"
             ],
             [
              1,
              "#f0f921"
             ]
            ],
            "type": "histogram2d"
           }
          ],
          "histogram2dcontour": [
           {
            "colorbar": {
             "outlinewidth": 0,
             "ticks": ""
            },
            "colorscale": [
             [
              0,
              "#0d0887"
             ],
             [
              0.1111111111111111,
              "#46039f"
             ],
             [
              0.2222222222222222,
              "#7201a8"
             ],
             [
              0.3333333333333333,
              "#9c179e"
             ],
             [
              0.4444444444444444,
              "#bd3786"
             ],
             [
              0.5555555555555556,
              "#d8576b"
             ],
             [
              0.6666666666666666,
              "#ed7953"
             ],
             [
              0.7777777777777778,
              "#fb9f3a"
             ],
             [
              0.8888888888888888,
              "#fdca26"
             ],
             [
              1,
              "#f0f921"
             ]
            ],
            "type": "histogram2dcontour"
           }
          ],
          "mesh3d": [
           {
            "colorbar": {
             "outlinewidth": 0,
             "ticks": ""
            },
            "type": "mesh3d"
           }
          ],
          "parcoords": [
           {
            "line": {
             "colorbar": {
              "outlinewidth": 0,
              "ticks": ""
             }
            },
            "type": "parcoords"
           }
          ],
          "pie": [
           {
            "automargin": true,
            "type": "pie"
           }
          ],
          "scatter": [
           {
            "marker": {
             "colorbar": {
              "outlinewidth": 0,
              "ticks": ""
             }
            },
            "type": "scatter"
           }
          ],
          "scatter3d": [
           {
            "line": {
             "colorbar": {
              "outlinewidth": 0,
              "ticks": ""
             }
            },
            "marker": {
             "colorbar": {
              "outlinewidth": 0,
              "ticks": ""
             }
            },
            "type": "scatter3d"
           }
          ],
          "scattercarpet": [
           {
            "marker": {
             "colorbar": {
              "outlinewidth": 0,
              "ticks": ""
             }
            },
            "type": "scattercarpet"
           }
          ],
          "scattergeo": [
           {
            "marker": {
             "colorbar": {
              "outlinewidth": 0,
              "ticks": ""
             }
            },
            "type": "scattergeo"
           }
          ],
          "scattergl": [
           {
            "marker": {
             "colorbar": {
              "outlinewidth": 0,
              "ticks": ""
             }
            },
            "type": "scattergl"
           }
          ],
          "scattermapbox": [
           {
            "marker": {
             "colorbar": {
              "outlinewidth": 0,
              "ticks": ""
             }
            },
            "type": "scattermapbox"
           }
          ],
          "scatterpolar": [
           {
            "marker": {
             "colorbar": {
              "outlinewidth": 0,
              "ticks": ""
             }
            },
            "type": "scatterpolar"
           }
          ],
          "scatterpolargl": [
           {
            "marker": {
             "colorbar": {
              "outlinewidth": 0,
              "ticks": ""
             }
            },
            "type": "scatterpolargl"
           }
          ],
          "scatterternary": [
           {
            "marker": {
             "colorbar": {
              "outlinewidth": 0,
              "ticks": ""
             }
            },
            "type": "scatterternary"
           }
          ],
          "surface": [
           {
            "colorbar": {
             "outlinewidth": 0,
             "ticks": ""
            },
            "colorscale": [
             [
              0,
              "#0d0887"
             ],
             [
              0.1111111111111111,
              "#46039f"
             ],
             [
              0.2222222222222222,
              "#7201a8"
             ],
             [
              0.3333333333333333,
              "#9c179e"
             ],
             [
              0.4444444444444444,
              "#bd3786"
             ],
             [
              0.5555555555555556,
              "#d8576b"
             ],
             [
              0.6666666666666666,
              "#ed7953"
             ],
             [
              0.7777777777777778,
              "#fb9f3a"
             ],
             [
              0.8888888888888888,
              "#fdca26"
             ],
             [
              1,
              "#f0f921"
             ]
            ],
            "type": "surface"
           }
          ],
          "table": [
           {
            "cells": {
             "fill": {
              "color": "#EBF0F8"
             },
             "line": {
              "color": "white"
             }
            },
            "header": {
             "fill": {
              "color": "#C8D4E3"
             },
             "line": {
              "color": "white"
             }
            },
            "type": "table"
           }
          ]
         },
         "layout": {
          "annotationdefaults": {
           "arrowcolor": "#2a3f5f",
           "arrowhead": 0,
           "arrowwidth": 1
          },
          "coloraxis": {
           "colorbar": {
            "outlinewidth": 0,
            "ticks": ""
           }
          },
          "colorscale": {
           "diverging": [
            [
             0,
             "#8e0152"
            ],
            [
             0.1,
             "#c51b7d"
            ],
            [
             0.2,
             "#de77ae"
            ],
            [
             0.3,
             "#f1b6da"
            ],
            [
             0.4,
             "#fde0ef"
            ],
            [
             0.5,
             "#f7f7f7"
            ],
            [
             0.6,
             "#e6f5d0"
            ],
            [
             0.7,
             "#b8e186"
            ],
            [
             0.8,
             "#7fbc41"
            ],
            [
             0.9,
             "#4d9221"
            ],
            [
             1,
             "#276419"
            ]
           ],
           "sequential": [
            [
             0,
             "#0d0887"
            ],
            [
             0.1111111111111111,
             "#46039f"
            ],
            [
             0.2222222222222222,
             "#7201a8"
            ],
            [
             0.3333333333333333,
             "#9c179e"
            ],
            [
             0.4444444444444444,
             "#bd3786"
            ],
            [
             0.5555555555555556,
             "#d8576b"
            ],
            [
             0.6666666666666666,
             "#ed7953"
            ],
            [
             0.7777777777777778,
             "#fb9f3a"
            ],
            [
             0.8888888888888888,
             "#fdca26"
            ],
            [
             1,
             "#f0f921"
            ]
           ],
           "sequentialminus": [
            [
             0,
             "#0d0887"
            ],
            [
             0.1111111111111111,
             "#46039f"
            ],
            [
             0.2222222222222222,
             "#7201a8"
            ],
            [
             0.3333333333333333,
             "#9c179e"
            ],
            [
             0.4444444444444444,
             "#bd3786"
            ],
            [
             0.5555555555555556,
             "#d8576b"
            ],
            [
             0.6666666666666666,
             "#ed7953"
            ],
            [
             0.7777777777777778,
             "#fb9f3a"
            ],
            [
             0.8888888888888888,
             "#fdca26"
            ],
            [
             1,
             "#f0f921"
            ]
           ]
          },
          "colorway": [
           "#636efa",
           "#EF553B",
           "#00cc96",
           "#ab63fa",
           "#FFA15A",
           "#19d3f3",
           "#FF6692",
           "#B6E880",
           "#FF97FF",
           "#FECB52"
          ],
          "font": {
           "color": "#2a3f5f"
          },
          "geo": {
           "bgcolor": "white",
           "lakecolor": "white",
           "landcolor": "#E5ECF6",
           "showlakes": true,
           "showland": true,
           "subunitcolor": "white"
          },
          "hoverlabel": {
           "align": "left"
          },
          "hovermode": "closest",
          "mapbox": {
           "style": "light"
          },
          "paper_bgcolor": "white",
          "plot_bgcolor": "#E5ECF6",
          "polar": {
           "angularaxis": {
            "gridcolor": "white",
            "linecolor": "white",
            "ticks": ""
           },
           "bgcolor": "#E5ECF6",
           "radialaxis": {
            "gridcolor": "white",
            "linecolor": "white",
            "ticks": ""
           }
          },
          "scene": {
           "xaxis": {
            "backgroundcolor": "#E5ECF6",
            "gridcolor": "white",
            "gridwidth": 2,
            "linecolor": "white",
            "showbackground": true,
            "ticks": "",
            "zerolinecolor": "white"
           },
           "yaxis": {
            "backgroundcolor": "#E5ECF6",
            "gridcolor": "white",
            "gridwidth": 2,
            "linecolor": "white",
            "showbackground": true,
            "ticks": "",
            "zerolinecolor": "white"
           },
           "zaxis": {
            "backgroundcolor": "#E5ECF6",
            "gridcolor": "white",
            "gridwidth": 2,
            "linecolor": "white",
            "showbackground": true,
            "ticks": "",
            "zerolinecolor": "white"
           }
          },
          "shapedefaults": {
           "line": {
            "color": "#2a3f5f"
           }
          },
          "ternary": {
           "aaxis": {
            "gridcolor": "white",
            "linecolor": "white",
            "ticks": ""
           },
           "baxis": {
            "gridcolor": "white",
            "linecolor": "white",
            "ticks": ""
           },
           "bgcolor": "#E5ECF6",
           "caxis": {
            "gridcolor": "white",
            "linecolor": "white",
            "ticks": ""
           }
          },
          "title": {
           "x": 0.05
          },
          "xaxis": {
           "automargin": true,
           "gridcolor": "white",
           "linecolor": "white",
           "ticks": "",
           "title": {
            "standoff": 15
           },
           "zerolinecolor": "white",
           "zerolinewidth": 2
          },
          "yaxis": {
           "automargin": true,
           "gridcolor": "white",
           "linecolor": "white",
           "ticks": "",
           "title": {
            "standoff": 15
           },
           "zerolinecolor": "white",
           "zerolinewidth": 2
          }
         }
        },
        "title": {
         "font": {
          "color": "#ffffff",
          "family": "Playfair Display",
          "size": 20
         },
         "text": "<b>Confirmed Cases Timeline<b>",
         "x": 0.5,
         "xanchor": "center",
         "y": 0.96,
         "yanchor": "top"
        },
        "xaxis": {
         "gridcolor": "#272e3e",
         "gridwidth": 0.1,
         "linecolor": "#272e3e",
         "showline": true,
         "tickformat": "%b %d",
         "zeroline": false
        },
        "yaxis": {
         "gridcolor": "#272e3e",
         "gridwidth": 0.1,
         "linecolor": "#272e3e",
         "showline": true,
         "tickmode": "array",
         "ticktext": [
          "0k",
          "2k",
          "4k",
          "6k",
          "8k",
          "10k",
          "12k",
          "14k",
          "16k"
         ],
         "tickvals": [
          0,
          2000,
          4000,
          6000,
          8000,
          10000,
          12000,
          14000,
          16000
         ],
         "title": {
          "text": "Total Confirmed Case Number"
         },
         "zeroline": false
        }
       }
      },
      "text/html": [
       "<div>\n",
       "        \n",
       "        \n",
       "            <div id=\"165b8ff1-112a-493b-a557-927da5f56da4\" class=\"plotly-graph-div\" style=\"height:525px; width:100%;\"></div>\n",
       "            <script type=\"text/javascript\">\n",
       "                require([\"plotly\"], function(Plotly) {\n",
       "                    window.PLOTLYENV=window.PLOTLYENV || {};\n",
       "                    \n",
       "                if (document.getElementById(\"165b8ff1-112a-493b-a557-927da5f56da4\")) {\n",
       "                    Plotly.newPlot(\n",
       "                        '165b8ff1-112a-493b-a557-927da5f56da4',\n",
       "                        [{\"hovertemplate\": \"<b>%{text}</b><br></br>Mainland China confirmed<br>%{y} cases<br><extra></extra>\", \"line\": {\"color\": \"#921113\", \"width\": 2}, \"marker\": {\"size\": 8}, \"mode\": \"lines+markers\", \"name\": \"Mainland China\", \"text\": [\"Feb 03 2020 AEDT\", \"Feb 02 2020 AEDT\", \"Feb 01 2020 AEDT\", \"Jan 31 2020 AEDT\", \"Jan 30 2020 AEDT\", \"Jan 29 2020 AEDT\", \"Jan 28 2020 AEDT\", \"Jan 27 2020 AEDT\", \"Jan 26 2020 AEDT\", \"Jan 25 2020 AEDT\", \"Jan 24 2020 AEDT\", \"Jan 23 2020 AEDT\", \"Jan 21 2020 AEDT\"], \"type\": \"scatter\", \"x\": [\"2020-02-03T12:00:00\", \"2020-02-02T15:00:00\", \"2020-02-01T11:00:00\", \"2020-01-31T13:30:00\", \"2020-01-30T13:00:00\", \"2020-01-29T15:00:00\", \"2020-01-28T12:30:00\", \"2020-01-27T15:00:00\", \"2020-01-26T14:00:00\", \"2020-01-25T04:00:00\", \"2020-01-24T04:00:00\", \"2020-01-23T04:00:00\", \"2020-01-21T16:00:00\"], \"y\": [16726, 14375, 11221, 9658, 7678, 5970, 4409, 2737, 1979, 916, 639, 549, 327]}, {\"hovertemplate\": \"<b>%{text}</b><br></br>Other region confirmed<br>%{y} cases<br><extra></extra>\", \"line\": {\"color\": \"#eb5254\", \"width\": 2}, \"marker\": {\"size\": 8}, \"mode\": \"lines+markers\", \"name\": \"Other Region\", \"text\": [\"Feb 03 2020 12:00 AEDT\", \"Feb 02 2020 15:00 AEDT\", \"Feb 01 2020 11:00 AEDT\", \"Jan 31 2020 13:30 AEDT\", \"Jan 30 2020 13:00 AEDT\", \"Jan 29 2020 15:00 AEDT\", \"Jan 28 2020 12:30 AEDT\", \"Jan 27 2020 15:00 AEDT\", \"Jan 26 2020 14:00 AEDT\", \"Jan 25 2020 04:00 AEDT\", \"Jan 24 2020 04:00 AEDT\", \"Jan 23 2020 04:00 AEDT\", \"Jan 21 2020 16:00 AEDT\"], \"type\": \"scatter\", \"x\": [\"2020-02-03T12:00:00\", \"2020-02-02T15:00:00\", \"2020-02-01T11:00:00\", \"2020-01-31T13:30:00\", \"2020-01-30T13:00:00\", \"2020-01-29T15:00:00\", \"2020-01-28T12:30:00\", \"2020-01-27T15:00:00\", \"2020-01-26T14:00:00\", \"2020-01-25T04:00:00\", \"2020-01-24T04:00:00\", \"2020-01-23T04:00:00\", \"2020-01-21T16:00:00\"], \"y\": [181, 174, 153, 118, 105, 87, 64, 57, 40, 25, 26, 6, 5]}],\n",
       "                        {\"font\": {\"color\": \"#ffffff\"}, \"hovermode\": \"x\", \"legend\": {\"orientation\": \"h\"}, \"margin\": {\"b\": 10, \"l\": 5, \"pad\": 0, \"r\": 10, \"t\": 50}, \"paper_bgcolor\": \"#272e3e\", \"plot_bgcolor\": \"#151920\", \"template\": {\"data\": {\"bar\": [{\"error_x\": {\"color\": \"#2a3f5f\"}, \"error_y\": {\"color\": \"#2a3f5f\"}, \"marker\": {\"line\": {\"color\": \"#E5ECF6\", \"width\": 0.5}}, \"type\": \"bar\"}], \"barpolar\": [{\"marker\": {\"line\": {\"color\": \"#E5ECF6\", \"width\": 0.5}}, \"type\": \"barpolar\"}], \"carpet\": [{\"aaxis\": {\"endlinecolor\": \"#2a3f5f\", \"gridcolor\": \"white\", \"linecolor\": \"white\", \"minorgridcolor\": \"white\", \"startlinecolor\": \"#2a3f5f\"}, \"baxis\": {\"endlinecolor\": \"#2a3f5f\", \"gridcolor\": \"white\", \"linecolor\": \"white\", \"minorgridcolor\": \"white\", \"startlinecolor\": \"#2a3f5f\"}, \"type\": \"carpet\"}], \"choropleth\": [{\"colorbar\": {\"outlinewidth\": 0, \"ticks\": \"\"}, \"type\": \"choropleth\"}], \"contour\": [{\"colorbar\": {\"outlinewidth\": 0, \"ticks\": \"\"}, \"colorscale\": [[0.0, \"#0d0887\"], [0.1111111111111111, \"#46039f\"], [0.2222222222222222, \"#7201a8\"], [0.3333333333333333, \"#9c179e\"], [0.4444444444444444, \"#bd3786\"], [0.5555555555555556, \"#d8576b\"], [0.6666666666666666, \"#ed7953\"], [0.7777777777777778, \"#fb9f3a\"], [0.8888888888888888, \"#fdca26\"], [1.0, \"#f0f921\"]], \"type\": \"contour\"}], \"contourcarpet\": [{\"colorbar\": {\"outlinewidth\": 0, \"ticks\": \"\"}, \"type\": \"contourcarpet\"}], \"heatmap\": [{\"colorbar\": {\"outlinewidth\": 0, \"ticks\": \"\"}, \"colorscale\": [[0.0, \"#0d0887\"], [0.1111111111111111, \"#46039f\"], [0.2222222222222222, \"#7201a8\"], [0.3333333333333333, \"#9c179e\"], [0.4444444444444444, \"#bd3786\"], [0.5555555555555556, \"#d8576b\"], [0.6666666666666666, \"#ed7953\"], [0.7777777777777778, \"#fb9f3a\"], [0.8888888888888888, \"#fdca26\"], [1.0, \"#f0f921\"]], \"type\": \"heatmap\"}], \"heatmapgl\": [{\"colorbar\": {\"outlinewidth\": 0, \"ticks\": \"\"}, \"colorscale\": [[0.0, \"#0d0887\"], [0.1111111111111111, \"#46039f\"], [0.2222222222222222, \"#7201a8\"], [0.3333333333333333, \"#9c179e\"], [0.4444444444444444, \"#bd3786\"], [0.5555555555555556, \"#d8576b\"], [0.6666666666666666, \"#ed7953\"], [0.7777777777777778, \"#fb9f3a\"], [0.8888888888888888, \"#fdca26\"], [1.0, \"#f0f921\"]], \"type\": \"heatmapgl\"}], \"histogram\": [{\"marker\": {\"colorbar\": {\"outlinewidth\": 0, \"ticks\": \"\"}}, \"type\": \"histogram\"}], \"histogram2d\": [{\"colorbar\": {\"outlinewidth\": 0, \"ticks\": \"\"}, \"colorscale\": [[0.0, \"#0d0887\"], [0.1111111111111111, \"#46039f\"], [0.2222222222222222, \"#7201a8\"], [0.3333333333333333, \"#9c179e\"], [0.4444444444444444, \"#bd3786\"], [0.5555555555555556, \"#d8576b\"], [0.6666666666666666, \"#ed7953\"], [0.7777777777777778, \"#fb9f3a\"], [0.8888888888888888, \"#fdca26\"], [1.0, \"#f0f921\"]], \"type\": \"histogram2d\"}], \"histogram2dcontour\": [{\"colorbar\": {\"outlinewidth\": 0, \"ticks\": \"\"}, \"colorscale\": [[0.0, \"#0d0887\"], [0.1111111111111111, \"#46039f\"], [0.2222222222222222, \"#7201a8\"], [0.3333333333333333, \"#9c179e\"], [0.4444444444444444, \"#bd3786\"], [0.5555555555555556, \"#d8576b\"], [0.6666666666666666, \"#ed7953\"], [0.7777777777777778, \"#fb9f3a\"], [0.8888888888888888, \"#fdca26\"], [1.0, \"#f0f921\"]], \"type\": \"histogram2dcontour\"}], \"mesh3d\": [{\"colorbar\": {\"outlinewidth\": 0, \"ticks\": \"\"}, \"type\": \"mesh3d\"}], \"parcoords\": [{\"line\": {\"colorbar\": {\"outlinewidth\": 0, \"ticks\": \"\"}}, \"type\": \"parcoords\"}], \"pie\": [{\"automargin\": true, \"type\": \"pie\"}], \"scatter\": [{\"marker\": {\"colorbar\": {\"outlinewidth\": 0, \"ticks\": \"\"}}, \"type\": \"scatter\"}], \"scatter3d\": [{\"line\": {\"colorbar\": {\"outlinewidth\": 0, \"ticks\": \"\"}}, \"marker\": {\"colorbar\": {\"outlinewidth\": 0, \"ticks\": \"\"}}, \"type\": \"scatter3d\"}], \"scattercarpet\": [{\"marker\": {\"colorbar\": {\"outlinewidth\": 0, \"ticks\": \"\"}}, \"type\": \"scattercarpet\"}], \"scattergeo\": [{\"marker\": {\"colorbar\": {\"outlinewidth\": 0, \"ticks\": \"\"}}, \"type\": \"scattergeo\"}], \"scattergl\": [{\"marker\": {\"colorbar\": {\"outlinewidth\": 0, \"ticks\": \"\"}}, \"type\": \"scattergl\"}], \"scattermapbox\": [{\"marker\": {\"colorbar\": {\"outlinewidth\": 0, \"ticks\": \"\"}}, \"type\": \"scattermapbox\"}], \"scatterpolar\": [{\"marker\": {\"colorbar\": {\"outlinewidth\": 0, \"ticks\": \"\"}}, \"type\": \"scatterpolar\"}], \"scatterpolargl\": [{\"marker\": {\"colorbar\": {\"outlinewidth\": 0, \"ticks\": \"\"}}, \"type\": \"scatterpolargl\"}], \"scatterternary\": [{\"marker\": {\"colorbar\": {\"outlinewidth\": 0, \"ticks\": \"\"}}, \"type\": \"scatterternary\"}], \"surface\": [{\"colorbar\": {\"outlinewidth\": 0, \"ticks\": \"\"}, \"colorscale\": [[0.0, \"#0d0887\"], [0.1111111111111111, \"#46039f\"], [0.2222222222222222, \"#7201a8\"], [0.3333333333333333, \"#9c179e\"], [0.4444444444444444, \"#bd3786\"], [0.5555555555555556, \"#d8576b\"], [0.6666666666666666, \"#ed7953\"], [0.7777777777777778, \"#fb9f3a\"], [0.8888888888888888, \"#fdca26\"], [1.0, \"#f0f921\"]], \"type\": \"surface\"}], \"table\": [{\"cells\": {\"fill\": {\"color\": \"#EBF0F8\"}, \"line\": {\"color\": \"white\"}}, \"header\": {\"fill\": {\"color\": \"#C8D4E3\"}, \"line\": {\"color\": \"white\"}}, \"type\": \"table\"}]}, \"layout\": {\"annotationdefaults\": {\"arrowcolor\": \"#2a3f5f\", \"arrowhead\": 0, \"arrowwidth\": 1}, \"coloraxis\": {\"colorbar\": {\"outlinewidth\": 0, \"ticks\": \"\"}}, \"colorscale\": {\"diverging\": [[0, \"#8e0152\"], [0.1, \"#c51b7d\"], [0.2, \"#de77ae\"], [0.3, \"#f1b6da\"], [0.4, \"#fde0ef\"], [0.5, \"#f7f7f7\"], [0.6, \"#e6f5d0\"], [0.7, \"#b8e186\"], [0.8, \"#7fbc41\"], [0.9, \"#4d9221\"], [1, \"#276419\"]], \"sequential\": [[0.0, \"#0d0887\"], [0.1111111111111111, \"#46039f\"], [0.2222222222222222, \"#7201a8\"], [0.3333333333333333, \"#9c179e\"], [0.4444444444444444, \"#bd3786\"], [0.5555555555555556, \"#d8576b\"], [0.6666666666666666, \"#ed7953\"], [0.7777777777777778, \"#fb9f3a\"], [0.8888888888888888, \"#fdca26\"], [1.0, \"#f0f921\"]], \"sequentialminus\": [[0.0, \"#0d0887\"], [0.1111111111111111, \"#46039f\"], [0.2222222222222222, \"#7201a8\"], [0.3333333333333333, \"#9c179e\"], [0.4444444444444444, \"#bd3786\"], [0.5555555555555556, \"#d8576b\"], [0.6666666666666666, \"#ed7953\"], [0.7777777777777778, \"#fb9f3a\"], [0.8888888888888888, \"#fdca26\"], [1.0, \"#f0f921\"]]}, \"colorway\": [\"#636efa\", \"#EF553B\", \"#00cc96\", \"#ab63fa\", \"#FFA15A\", \"#19d3f3\", \"#FF6692\", \"#B6E880\", \"#FF97FF\", \"#FECB52\"], \"font\": {\"color\": \"#2a3f5f\"}, \"geo\": {\"bgcolor\": \"white\", \"lakecolor\": \"white\", \"landcolor\": \"#E5ECF6\", \"showlakes\": true, \"showland\": true, \"subunitcolor\": \"white\"}, \"hoverlabel\": {\"align\": \"left\"}, \"hovermode\": \"closest\", \"mapbox\": {\"style\": \"light\"}, \"paper_bgcolor\": \"white\", \"plot_bgcolor\": \"#E5ECF6\", \"polar\": {\"angularaxis\": {\"gridcolor\": \"white\", \"linecolor\": \"white\", \"ticks\": \"\"}, \"bgcolor\": \"#E5ECF6\", \"radialaxis\": {\"gridcolor\": \"white\", \"linecolor\": \"white\", \"ticks\": \"\"}}, \"scene\": {\"xaxis\": {\"backgroundcolor\": \"#E5ECF6\", \"gridcolor\": \"white\", \"gridwidth\": 2, \"linecolor\": \"white\", \"showbackground\": true, \"ticks\": \"\", \"zerolinecolor\": \"white\"}, \"yaxis\": {\"backgroundcolor\": \"#E5ECF6\", \"gridcolor\": \"white\", \"gridwidth\": 2, \"linecolor\": \"white\", \"showbackground\": true, \"ticks\": \"\", \"zerolinecolor\": \"white\"}, \"zaxis\": {\"backgroundcolor\": \"#E5ECF6\", \"gridcolor\": \"white\", \"gridwidth\": 2, \"linecolor\": \"white\", \"showbackground\": true, \"ticks\": \"\", \"zerolinecolor\": \"white\"}}, \"shapedefaults\": {\"line\": {\"color\": \"#2a3f5f\"}}, \"ternary\": {\"aaxis\": {\"gridcolor\": \"white\", \"linecolor\": \"white\", \"ticks\": \"\"}, \"baxis\": {\"gridcolor\": \"white\", \"linecolor\": \"white\", \"ticks\": \"\"}, \"bgcolor\": \"#E5ECF6\", \"caxis\": {\"gridcolor\": \"white\", \"linecolor\": \"white\", \"ticks\": \"\"}}, \"title\": {\"x\": 0.05}, \"xaxis\": {\"automargin\": true, \"gridcolor\": \"white\", \"linecolor\": \"white\", \"ticks\": \"\", \"title\": {\"standoff\": 15}, \"zerolinecolor\": \"white\", \"zerolinewidth\": 2}, \"yaxis\": {\"automargin\": true, \"gridcolor\": \"white\", \"linecolor\": \"white\", \"ticks\": \"\", \"title\": {\"standoff\": 15}, \"zerolinecolor\": \"white\", \"zerolinewidth\": 2}}}, \"title\": {\"font\": {\"color\": \"#ffffff\", \"family\": \"Playfair Display\", \"size\": 20}, \"text\": \"<b>Confirmed Cases Timeline<b>\", \"x\": 0.5, \"xanchor\": \"center\", \"y\": 0.96, \"yanchor\": \"top\"}, \"xaxis\": {\"gridcolor\": \"#272e3e\", \"gridwidth\": 0.1, \"linecolor\": \"#272e3e\", \"showline\": true, \"tickformat\": \"%b %d\", \"zeroline\": false}, \"yaxis\": {\"gridcolor\": \"#272e3e\", \"gridwidth\": 0.1, \"linecolor\": \"#272e3e\", \"showline\": true, \"tickmode\": \"array\", \"ticktext\": [\"0k\", \"2k\", \"4k\", \"6k\", \"8k\", \"10k\", \"12k\", \"14k\", \"16k\"], \"tickvals\": [0, 2000, 4000, 6000, 8000, 10000, 12000, 14000, 16000], \"title\": {\"text\": \"Total Confirmed Case Number\"}, \"zeroline\": false}},\n",
       "                        {\"responsive\": true}\n",
       "                    ).then(function(){\n",
       "                            \n",
       "var gd = document.getElementById('165b8ff1-112a-493b-a557-927da5f56da4');\n",
       "var x = new MutationObserver(function (mutations, observer) {{\n",
       "        var display = window.getComputedStyle(gd).display;\n",
       "        if (!display || display === 'none') {{\n",
       "            console.log([gd, 'removed!']);\n",
       "            Plotly.purge(gd);\n",
       "            observer.disconnect();\n",
       "        }}\n",
       "}});\n",
       "\n",
       "// Listen for the removal of the full notebook cells\n",
       "var notebookContainer = gd.closest('#notebook-container');\n",
       "if (notebookContainer) {{\n",
       "    x.observe(notebookContainer, {childList: true});\n",
       "}}\n",
       "\n",
       "// Listen for the clearing of the current output cell\n",
       "var outputEl = gd.closest('.output');\n",
       "if (outputEl) {{\n",
       "    x.observe(outputEl, {childList: true});\n",
       "}}\n",
       "\n",
       "                        })\n",
       "                };\n",
       "                });\n",
       "            </script>\n",
       "        </div>"
      ]
     },
     "metadata": {},
     "output_type": "display_data"
    }
   ],
   "source": [
    "# Line plot for confirmed cases\n",
    "# Set up tick scale based on confirmed case number\n",
    "tickList = list(np.arange(0, df_confirmed['Mainland China'].max()+1000, 2000))\n",
    "\n",
    "# Create empty figure canvas\n",
    "fig_confirmed = go.Figure()\n",
    "# Add trace to the figure\n",
    "fig_confirmed.add_trace(go.Scatter(x=df_confirmed['Date']+timedelta(hours=16), y=df_confirmed['Mainland China'],\n",
    "                         mode='lines+markers',\n",
    "                         name='Mainland China',\n",
    "                         line=dict(color='#921113', width=2),\n",
    "                         marker=dict(size=8),\n",
    "                         text=[datetime.strftime(d+timedelta(hours=16), '%b %d %Y AEDT') for d in df_confirmed['Date']],\n",
    "                         hovertemplate='<b>%{text}</b><br></br>'+\n",
    "                                       'Mainland China confirmed<br>'+\n",
    "                                       '%{y} cases<br>'+\n",
    "                                       '<extra></extra>'))\n",
    "fig_confirmed.add_trace(go.Scatter(x=df_confirmed['Date']+timedelta(hours=16), y=df_confirmed['Other locations'],\n",
    "                         mode='lines+markers',\n",
    "                         name='Other Region',\n",
    "                         line=dict(color='#eb5254', width=2),\n",
    "                         marker=dict(size=8),\n",
    "                         text=[datetime.strftime(d+timedelta(hours=16), '%b %d %Y %H:%M AEDT') for d in df_confirmed['Date']],\n",
    "                         hovertemplate='<b>%{text}</b><br></br>'+\n",
    "                                       'Other region confirmed<br>'+\n",
    "                                       '%{y} cases<br>'+\n",
    "                                       '<extra></extra>'))\n",
    "# Customise layout\n",
    "fig_confirmed.update_layout(\n",
    "    title=dict(\n",
    "        text=\"<b>Confirmed Cases Timeline<b>\",\n",
    "        y=0.96, x=0.5, xanchor='center', yanchor='top',\n",
    "        font=dict(size=20, color=\"#ffffff\", family=\"Playfair Display\")\n",
    "    ),\n",
    "    margin=go.layout.Margin(\n",
    "        l=5,\n",
    "        r=10,\n",
    "        b=10,\n",
    "        t=50,\n",
    "        pad=0\n",
    "    ),\n",
    "    yaxis=dict(\n",
    "        showline=True, linecolor='#272e3e',\n",
    "        zeroline=False,\n",
    "        gridcolor='#272e3e',\n",
    "        gridwidth = .1,\n",
    "        tickmode='array',\n",
    "        # Set tick range based on the maximum number\n",
    "        tickvals=tickList,\n",
    "        # Set tick label accordingly\n",
    "        ticktext=[\"{:.0f}k\".format(i/1000) for i in tickList]\n",
    "    ),\n",
    "    yaxis_title=\"Total Confirmed Case Number\",\n",
    "    xaxis=dict(\n",
    "        showline=True, linecolor='#272e3e',\n",
    "        gridcolor='#272e3e',\n",
    "        gridwidth = .1,\n",
    "        zeroline=False\n",
    "    ),\n",
    "    xaxis_tickformat='%b %d',\n",
    "    hovermode = 'x',\n",
    "    legend_orientation=\"h\",\n",
    "    plot_bgcolor='#151920',\n",
    "    paper_bgcolor='#272e3e',\n",
    "    font=dict(color='#ffffff')\n",
    ")\n",
    "\n",
    "fig_confirmed.show()"
   ]
  },
  {
   "cell_type": "code",
   "execution_count": 53,
   "metadata": {},
   "outputs": [
    {
     "data": {
      "application/vnd.plotly.v1+json": {
       "config": {
        "plotlyServerURL": "https://plot.ly"
       },
       "data": [
        {
         "hovertemplate": "<b>%{text}</b><br></br>Mainland China recovered<br>%{y} cases<br><extra></extra>",
         "line": {
          "color": "#168038",
          "width": 2
         },
         "marker": {
          "size": 8
         },
         "mode": "lines+markers",
         "name": "Mainland China",
         "text": [
          "Feb 03 2020 AEDT",
          "Feb 02 2020 AEDT",
          "Feb 01 2020 AEDT",
          "Jan 31 2020 AEDT",
          "Jan 30 2020 AEDT",
          "Jan 29 2020 AEDT",
          "Jan 28 2020 AEDT",
          "Jan 27 2020 AEDT",
          "Jan 26 2020 AEDT",
          "Jan 25 2020 AEDT",
          "Jan 24 2020 AEDT",
          "Jan 23 2020 AEDT"
         ],
         "type": "scatter",
         "x": [
          "2020-02-03T12:00:00",
          "2020-02-02T15:00:00",
          "2020-02-01T11:00:00",
          "2020-01-31T13:30:00",
          "2020-01-30T13:00:00",
          "2020-01-29T15:00:00",
          "2020-01-28T12:30:00",
          "2020-01-27T15:00:00",
          "2020-01-26T14:00:00",
          "2020-01-25T04:00:00",
          "2020-01-24T04:00:00",
          "2020-01-23T04:00:00"
         ],
         "y": [
          463,
          331,
          242,
          179,
          127,
          104,
          60,
          51,
          49,
          36,
          30,
          0
         ]
        },
        {
         "hovertemplate": "<b>%{text}</b><br></br>Other region recovered<br>%{y} cases<br><extra></extra>",
         "line": {
          "color": "#25d75d",
          "width": 2
         },
         "marker": {
          "size": 8
         },
         "mode": "lines+markers",
         "name": "Other Region",
         "text": [
          "Feb 03 2020 AEDT",
          "Feb 02 2020 AEDT",
          "Feb 01 2020 AEDT",
          "Jan 31 2020 AEDT",
          "Jan 30 2020 AEDT",
          "Jan 29 2020 AEDT",
          "Jan 28 2020 AEDT",
          "Jan 27 2020 AEDT",
          "Jan 26 2020 AEDT",
          "Jan 25 2020 AEDT",
          "Jan 24 2020 AEDT",
          "Jan 23 2020 AEDT"
         ],
         "type": "scatter",
         "x": [
          "2020-02-03T12:00:00",
          "2020-02-02T15:00:00",
          "2020-02-01T11:00:00",
          "2020-01-31T13:30:00",
          "2020-01-30T13:00:00",
          "2020-01-29T15:00:00",
          "2020-01-28T12:30:00",
          "2020-01-27T15:00:00",
          "2020-01-26T14:00:00",
          "2020-01-25T04:00:00",
          "2020-01-24T04:00:00",
          "2020-01-23T04:00:00"
         ],
         "y": [
          9,
          12,
          10,
          8,
          6,
          6,
          3,
          3,
          0,
          0,
          0,
          0
         ]
        }
       ],
       "layout": {
        "font": {
         "color": "#ffffff"
        },
        "hovermode": "x",
        "legend": {
         "orientation": "h"
        },
        "margin": {
         "b": 10,
         "l": 5,
         "pad": 0,
         "r": 10,
         "t": 50
        },
        "paper_bgcolor": "#272e3e",
        "plot_bgcolor": "#151920",
        "template": {
         "data": {
          "bar": [
           {
            "error_x": {
             "color": "#2a3f5f"
            },
            "error_y": {
             "color": "#2a3f5f"
            },
            "marker": {
             "line": {
              "color": "#E5ECF6",
              "width": 0.5
             }
            },
            "type": "bar"
           }
          ],
          "barpolar": [
           {
            "marker": {
             "line": {
              "color": "#E5ECF6",
              "width": 0.5
             }
            },
            "type": "barpolar"
           }
          ],
          "carpet": [
           {
            "aaxis": {
             "endlinecolor": "#2a3f5f",
             "gridcolor": "white",
             "linecolor": "white",
             "minorgridcolor": "white",
             "startlinecolor": "#2a3f5f"
            },
            "baxis": {
             "endlinecolor": "#2a3f5f",
             "gridcolor": "white",
             "linecolor": "white",
             "minorgridcolor": "white",
             "startlinecolor": "#2a3f5f"
            },
            "type": "carpet"
           }
          ],
          "choropleth": [
           {
            "colorbar": {
             "outlinewidth": 0,
             "ticks": ""
            },
            "type": "choropleth"
           }
          ],
          "contour": [
           {
            "colorbar": {
             "outlinewidth": 0,
             "ticks": ""
            },
            "colorscale": [
             [
              0,
              "#0d0887"
             ],
             [
              0.1111111111111111,
              "#46039f"
             ],
             [
              0.2222222222222222,
              "#7201a8"
             ],
             [
              0.3333333333333333,
              "#9c179e"
             ],
             [
              0.4444444444444444,
              "#bd3786"
             ],
             [
              0.5555555555555556,
              "#d8576b"
             ],
             [
              0.6666666666666666,
              "#ed7953"
             ],
             [
              0.7777777777777778,
              "#fb9f3a"
             ],
             [
              0.8888888888888888,
              "#fdca26"
             ],
             [
              1,
              "#f0f921"
             ]
            ],
            "type": "contour"
           }
          ],
          "contourcarpet": [
           {
            "colorbar": {
             "outlinewidth": 0,
             "ticks": ""
            },
            "type": "contourcarpet"
           }
          ],
          "heatmap": [
           {
            "colorbar": {
             "outlinewidth": 0,
             "ticks": ""
            },
            "colorscale": [
             [
              0,
              "#0d0887"
             ],
             [
              0.1111111111111111,
              "#46039f"
             ],
             [
              0.2222222222222222,
              "#7201a8"
             ],
             [
              0.3333333333333333,
              "#9c179e"
             ],
             [
              0.4444444444444444,
              "#bd3786"
             ],
             [
              0.5555555555555556,
              "#d8576b"
             ],
             [
              0.6666666666666666,
              "#ed7953"
             ],
             [
              0.7777777777777778,
              "#fb9f3a"
             ],
             [
              0.8888888888888888,
              "#fdca26"
             ],
             [
              1,
              "#f0f921"
             ]
            ],
            "type": "heatmap"
           }
          ],
          "heatmapgl": [
           {
            "colorbar": {
             "outlinewidth": 0,
             "ticks": ""
            },
            "colorscale": [
             [
              0,
              "#0d0887"
             ],
             [
              0.1111111111111111,
              "#46039f"
             ],
             [
              0.2222222222222222,
              "#7201a8"
             ],
             [
              0.3333333333333333,
              "#9c179e"
             ],
             [
              0.4444444444444444,
              "#bd3786"
             ],
             [
              0.5555555555555556,
              "#d8576b"
             ],
             [
              0.6666666666666666,
              "#ed7953"
             ],
             [
              0.7777777777777778,
              "#fb9f3a"
             ],
             [
              0.8888888888888888,
              "#fdca26"
             ],
             [
              1,
              "#f0f921"
             ]
            ],
            "type": "heatmapgl"
           }
          ],
          "histogram": [
           {
            "marker": {
             "colorbar": {
              "outlinewidth": 0,
              "ticks": ""
             }
            },
            "type": "histogram"
           }
          ],
          "histogram2d": [
           {
            "colorbar": {
             "outlinewidth": 0,
             "ticks": ""
            },
            "colorscale": [
             [
              0,
              "#0d0887"
             ],
             [
              0.1111111111111111,
              "#46039f"
             ],
             [
              0.2222222222222222,
              "#7201a8"
             ],
             [
              0.3333333333333333,
              "#9c179e"
             ],
             [
              0.4444444444444444,
              "#bd3786"
             ],
             [
              0.5555555555555556,
              "#d8576b"
             ],
             [
              0.6666666666666666,
              "#ed7953"
             ],
             [
              0.7777777777777778,
              "#fb9f3a"
             ],
             [
              0.8888888888888888,
              "#fdca26"
             ],
             [
              1,
              "#f0f921"
             ]
            ],
            "type": "histogram2d"
           }
          ],
          "histogram2dcontour": [
           {
            "colorbar": {
             "outlinewidth": 0,
             "ticks": ""
            },
            "colorscale": [
             [
              0,
              "#0d0887"
             ],
             [
              0.1111111111111111,
              "#46039f"
             ],
             [
              0.2222222222222222,
              "#7201a8"
             ],
             [
              0.3333333333333333,
              "#9c179e"
             ],
             [
              0.4444444444444444,
              "#bd3786"
             ],
             [
              0.5555555555555556,
              "#d8576b"
             ],
             [
              0.6666666666666666,
              "#ed7953"
             ],
             [
              0.7777777777777778,
              "#fb9f3a"
             ],
             [
              0.8888888888888888,
              "#fdca26"
             ],
             [
              1,
              "#f0f921"
             ]
            ],
            "type": "histogram2dcontour"
           }
          ],
          "mesh3d": [
           {
            "colorbar": {
             "outlinewidth": 0,
             "ticks": ""
            },
            "type": "mesh3d"
           }
          ],
          "parcoords": [
           {
            "line": {
             "colorbar": {
              "outlinewidth": 0,
              "ticks": ""
             }
            },
            "type": "parcoords"
           }
          ],
          "pie": [
           {
            "automargin": true,
            "type": "pie"
           }
          ],
          "scatter": [
           {
            "marker": {
             "colorbar": {
              "outlinewidth": 0,
              "ticks": ""
             }
            },
            "type": "scatter"
           }
          ],
          "scatter3d": [
           {
            "line": {
             "colorbar": {
              "outlinewidth": 0,
              "ticks": ""
             }
            },
            "marker": {
             "colorbar": {
              "outlinewidth": 0,
              "ticks": ""
             }
            },
            "type": "scatter3d"
           }
          ],
          "scattercarpet": [
           {
            "marker": {
             "colorbar": {
              "outlinewidth": 0,
              "ticks": ""
             }
            },
            "type": "scattercarpet"
           }
          ],
          "scattergeo": [
           {
            "marker": {
             "colorbar": {
              "outlinewidth": 0,
              "ticks": ""
             }
            },
            "type": "scattergeo"
           }
          ],
          "scattergl": [
           {
            "marker": {
             "colorbar": {
              "outlinewidth": 0,
              "ticks": ""
             }
            },
            "type": "scattergl"
           }
          ],
          "scattermapbox": [
           {
            "marker": {
             "colorbar": {
              "outlinewidth": 0,
              "ticks": ""
             }
            },
            "type": "scattermapbox"
           }
          ],
          "scatterpolar": [
           {
            "marker": {
             "colorbar": {
              "outlinewidth": 0,
              "ticks": ""
             }
            },
            "type": "scatterpolar"
           }
          ],
          "scatterpolargl": [
           {
            "marker": {
             "colorbar": {
              "outlinewidth": 0,
              "ticks": ""
             }
            },
            "type": "scatterpolargl"
           }
          ],
          "scatterternary": [
           {
            "marker": {
             "colorbar": {
              "outlinewidth": 0,
              "ticks": ""
             }
            },
            "type": "scatterternary"
           }
          ],
          "surface": [
           {
            "colorbar": {
             "outlinewidth": 0,
             "ticks": ""
            },
            "colorscale": [
             [
              0,
              "#0d0887"
             ],
             [
              0.1111111111111111,
              "#46039f"
             ],
             [
              0.2222222222222222,
              "#7201a8"
             ],
             [
              0.3333333333333333,
              "#9c179e"
             ],
             [
              0.4444444444444444,
              "#bd3786"
             ],
             [
              0.5555555555555556,
              "#d8576b"
             ],
             [
              0.6666666666666666,
              "#ed7953"
             ],
             [
              0.7777777777777778,
              "#fb9f3a"
             ],
             [
              0.8888888888888888,
              "#fdca26"
             ],
             [
              1,
              "#f0f921"
             ]
            ],
            "type": "surface"
           }
          ],
          "table": [
           {
            "cells": {
             "fill": {
              "color": "#EBF0F8"
             },
             "line": {
              "color": "white"
             }
            },
            "header": {
             "fill": {
              "color": "#C8D4E3"
             },
             "line": {
              "color": "white"
             }
            },
            "type": "table"
           }
          ]
         },
         "layout": {
          "annotationdefaults": {
           "arrowcolor": "#2a3f5f",
           "arrowhead": 0,
           "arrowwidth": 1
          },
          "coloraxis": {
           "colorbar": {
            "outlinewidth": 0,
            "ticks": ""
           }
          },
          "colorscale": {
           "diverging": [
            [
             0,
             "#8e0152"
            ],
            [
             0.1,
             "#c51b7d"
            ],
            [
             0.2,
             "#de77ae"
            ],
            [
             0.3,
             "#f1b6da"
            ],
            [
             0.4,
             "#fde0ef"
            ],
            [
             0.5,
             "#f7f7f7"
            ],
            [
             0.6,
             "#e6f5d0"
            ],
            [
             0.7,
             "#b8e186"
            ],
            [
             0.8,
             "#7fbc41"
            ],
            [
             0.9,
             "#4d9221"
            ],
            [
             1,
             "#276419"
            ]
           ],
           "sequential": [
            [
             0,
             "#0d0887"
            ],
            [
             0.1111111111111111,
             "#46039f"
            ],
            [
             0.2222222222222222,
             "#7201a8"
            ],
            [
             0.3333333333333333,
             "#9c179e"
            ],
            [
             0.4444444444444444,
             "#bd3786"
            ],
            [
             0.5555555555555556,
             "#d8576b"
            ],
            [
             0.6666666666666666,
             "#ed7953"
            ],
            [
             0.7777777777777778,
             "#fb9f3a"
            ],
            [
             0.8888888888888888,
             "#fdca26"
            ],
            [
             1,
             "#f0f921"
            ]
           ],
           "sequentialminus": [
            [
             0,
             "#0d0887"
            ],
            [
             0.1111111111111111,
             "#46039f"
            ],
            [
             0.2222222222222222,
             "#7201a8"
            ],
            [
             0.3333333333333333,
             "#9c179e"
            ],
            [
             0.4444444444444444,
             "#bd3786"
            ],
            [
             0.5555555555555556,
             "#d8576b"
            ],
            [
             0.6666666666666666,
             "#ed7953"
            ],
            [
             0.7777777777777778,
             "#fb9f3a"
            ],
            [
             0.8888888888888888,
             "#fdca26"
            ],
            [
             1,
             "#f0f921"
            ]
           ]
          },
          "colorway": [
           "#636efa",
           "#EF553B",
           "#00cc96",
           "#ab63fa",
           "#FFA15A",
           "#19d3f3",
           "#FF6692",
           "#B6E880",
           "#FF97FF",
           "#FECB52"
          ],
          "font": {
           "color": "#2a3f5f"
          },
          "geo": {
           "bgcolor": "white",
           "lakecolor": "white",
           "landcolor": "#E5ECF6",
           "showlakes": true,
           "showland": true,
           "subunitcolor": "white"
          },
          "hoverlabel": {
           "align": "left"
          },
          "hovermode": "closest",
          "mapbox": {
           "style": "light"
          },
          "paper_bgcolor": "white",
          "plot_bgcolor": "#E5ECF6",
          "polar": {
           "angularaxis": {
            "gridcolor": "white",
            "linecolor": "white",
            "ticks": ""
           },
           "bgcolor": "#E5ECF6",
           "radialaxis": {
            "gridcolor": "white",
            "linecolor": "white",
            "ticks": ""
           }
          },
          "scene": {
           "xaxis": {
            "backgroundcolor": "#E5ECF6",
            "gridcolor": "white",
            "gridwidth": 2,
            "linecolor": "white",
            "showbackground": true,
            "ticks": "",
            "zerolinecolor": "white"
           },
           "yaxis": {
            "backgroundcolor": "#E5ECF6",
            "gridcolor": "white",
            "gridwidth": 2,
            "linecolor": "white",
            "showbackground": true,
            "ticks": "",
            "zerolinecolor": "white"
           },
           "zaxis": {
            "backgroundcolor": "#E5ECF6",
            "gridcolor": "white",
            "gridwidth": 2,
            "linecolor": "white",
            "showbackground": true,
            "ticks": "",
            "zerolinecolor": "white"
           }
          },
          "shapedefaults": {
           "line": {
            "color": "#2a3f5f"
           }
          },
          "ternary": {
           "aaxis": {
            "gridcolor": "white",
            "linecolor": "white",
            "ticks": ""
           },
           "baxis": {
            "gridcolor": "white",
            "linecolor": "white",
            "ticks": ""
           },
           "bgcolor": "#E5ECF6",
           "caxis": {
            "gridcolor": "white",
            "linecolor": "white",
            "ticks": ""
           }
          },
          "title": {
           "x": 0.05
          },
          "xaxis": {
           "automargin": true,
           "gridcolor": "white",
           "linecolor": "white",
           "ticks": "",
           "title": {
            "standoff": 15
           },
           "zerolinecolor": "white",
           "zerolinewidth": 2
          },
          "yaxis": {
           "automargin": true,
           "gridcolor": "white",
           "linecolor": "white",
           "ticks": "",
           "title": {
            "standoff": 15
           },
           "zerolinecolor": "white",
           "zerolinewidth": 2
          }
         }
        },
        "title": {
         "font": {
          "color": "#ffffff",
          "family": "Playfair Display",
          "size": 20
         },
         "text": "<b>Recovered Cases Timeline<b>",
         "x": 0.5,
         "xanchor": "center",
         "y": 0.96,
         "yanchor": "top"
        },
        "xaxis": {
         "gridcolor": "#272e3e",
         "gridwidth": 0.1,
         "linecolor": "#272e3e",
         "showline": true,
         "tickformat": "%b %d",
         "zeroline": false
        },
        "yaxis": {
         "gridcolor": "#272e3e",
         "gridwidth": 0.1,
         "linecolor": "#272e3e",
         "showline": true,
         "tickmode": "array",
         "ticktext": [
          "0",
          "100",
          "200",
          "300",
          "400",
          "500"
         ],
         "tickvals": [
          0,
          100,
          200,
          300,
          400,
          500
         ],
         "title": {
          "text": "Total Recovered Case Number"
         },
         "zeroline": false
        }
       }
      },
      "text/html": [
       "<div>\n",
       "        \n",
       "        \n",
       "            <div id=\"f45124a2-551c-4ef5-9bad-7cb1ebfb6539\" class=\"plotly-graph-div\" style=\"height:525px; width:100%;\"></div>\n",
       "            <script type=\"text/javascript\">\n",
       "                require([\"plotly\"], function(Plotly) {\n",
       "                    window.PLOTLYENV=window.PLOTLYENV || {};\n",
       "                    \n",
       "                if (document.getElementById(\"f45124a2-551c-4ef5-9bad-7cb1ebfb6539\")) {\n",
       "                    Plotly.newPlot(\n",
       "                        'f45124a2-551c-4ef5-9bad-7cb1ebfb6539',\n",
       "                        [{\"hovertemplate\": \"<b>%{text}</b><br></br>Mainland China recovered<br>%{y} cases<br><extra></extra>\", \"line\": {\"color\": \"#168038\", \"width\": 2}, \"marker\": {\"size\": 8}, \"mode\": \"lines+markers\", \"name\": \"Mainland China\", \"text\": [\"Feb 03 2020 AEDT\", \"Feb 02 2020 AEDT\", \"Feb 01 2020 AEDT\", \"Jan 31 2020 AEDT\", \"Jan 30 2020 AEDT\", \"Jan 29 2020 AEDT\", \"Jan 28 2020 AEDT\", \"Jan 27 2020 AEDT\", \"Jan 26 2020 AEDT\", \"Jan 25 2020 AEDT\", \"Jan 24 2020 AEDT\", \"Jan 23 2020 AEDT\"], \"type\": \"scatter\", \"x\": [\"2020-02-03T12:00:00\", \"2020-02-02T15:00:00\", \"2020-02-01T11:00:00\", \"2020-01-31T13:30:00\", \"2020-01-30T13:00:00\", \"2020-01-29T15:00:00\", \"2020-01-28T12:30:00\", \"2020-01-27T15:00:00\", \"2020-01-26T14:00:00\", \"2020-01-25T04:00:00\", \"2020-01-24T04:00:00\", \"2020-01-23T04:00:00\"], \"y\": [463, 331, 242, 179, 127, 104, 60, 51, 49, 36, 30, 0]}, {\"hovertemplate\": \"<b>%{text}</b><br></br>Other region recovered<br>%{y} cases<br><extra></extra>\", \"line\": {\"color\": \"#25d75d\", \"width\": 2}, \"marker\": {\"size\": 8}, \"mode\": \"lines+markers\", \"name\": \"Other Region\", \"text\": [\"Feb 03 2020 AEDT\", \"Feb 02 2020 AEDT\", \"Feb 01 2020 AEDT\", \"Jan 31 2020 AEDT\", \"Jan 30 2020 AEDT\", \"Jan 29 2020 AEDT\", \"Jan 28 2020 AEDT\", \"Jan 27 2020 AEDT\", \"Jan 26 2020 AEDT\", \"Jan 25 2020 AEDT\", \"Jan 24 2020 AEDT\", \"Jan 23 2020 AEDT\"], \"type\": \"scatter\", \"x\": [\"2020-02-03T12:00:00\", \"2020-02-02T15:00:00\", \"2020-02-01T11:00:00\", \"2020-01-31T13:30:00\", \"2020-01-30T13:00:00\", \"2020-01-29T15:00:00\", \"2020-01-28T12:30:00\", \"2020-01-27T15:00:00\", \"2020-01-26T14:00:00\", \"2020-01-25T04:00:00\", \"2020-01-24T04:00:00\", \"2020-01-23T04:00:00\"], \"y\": [9, 12, 10, 8, 6, 6, 3, 3, 0, 0, 0, 0]}],\n",
       "                        {\"font\": {\"color\": \"#ffffff\"}, \"hovermode\": \"x\", \"legend\": {\"orientation\": \"h\"}, \"margin\": {\"b\": 10, \"l\": 5, \"pad\": 0, \"r\": 10, \"t\": 50}, \"paper_bgcolor\": \"#272e3e\", \"plot_bgcolor\": \"#151920\", \"template\": {\"data\": {\"bar\": [{\"error_x\": {\"color\": \"#2a3f5f\"}, \"error_y\": {\"color\": \"#2a3f5f\"}, \"marker\": {\"line\": {\"color\": \"#E5ECF6\", \"width\": 0.5}}, \"type\": \"bar\"}], \"barpolar\": [{\"marker\": {\"line\": {\"color\": \"#E5ECF6\", \"width\": 0.5}}, \"type\": \"barpolar\"}], \"carpet\": [{\"aaxis\": {\"endlinecolor\": \"#2a3f5f\", \"gridcolor\": \"white\", \"linecolor\": \"white\", \"minorgridcolor\": \"white\", \"startlinecolor\": \"#2a3f5f\"}, \"baxis\": {\"endlinecolor\": \"#2a3f5f\", \"gridcolor\": \"white\", \"linecolor\": \"white\", \"minorgridcolor\": \"white\", \"startlinecolor\": \"#2a3f5f\"}, \"type\": \"carpet\"}], \"choropleth\": [{\"colorbar\": {\"outlinewidth\": 0, \"ticks\": \"\"}, \"type\": \"choropleth\"}], \"contour\": [{\"colorbar\": {\"outlinewidth\": 0, \"ticks\": \"\"}, \"colorscale\": [[0.0, \"#0d0887\"], [0.1111111111111111, \"#46039f\"], [0.2222222222222222, \"#7201a8\"], [0.3333333333333333, \"#9c179e\"], [0.4444444444444444, \"#bd3786\"], [0.5555555555555556, \"#d8576b\"], [0.6666666666666666, \"#ed7953\"], [0.7777777777777778, \"#fb9f3a\"], [0.8888888888888888, \"#fdca26\"], [1.0, \"#f0f921\"]], \"type\": \"contour\"}], \"contourcarpet\": [{\"colorbar\": {\"outlinewidth\": 0, \"ticks\": \"\"}, \"type\": \"contourcarpet\"}], \"heatmap\": [{\"colorbar\": {\"outlinewidth\": 0, \"ticks\": \"\"}, \"colorscale\": [[0.0, \"#0d0887\"], [0.1111111111111111, \"#46039f\"], [0.2222222222222222, \"#7201a8\"], [0.3333333333333333, \"#9c179e\"], [0.4444444444444444, \"#bd3786\"], [0.5555555555555556, \"#d8576b\"], [0.6666666666666666, \"#ed7953\"], [0.7777777777777778, \"#fb9f3a\"], [0.8888888888888888, \"#fdca26\"], [1.0, \"#f0f921\"]], \"type\": \"heatmap\"}], \"heatmapgl\": [{\"colorbar\": {\"outlinewidth\": 0, \"ticks\": \"\"}, \"colorscale\": [[0.0, \"#0d0887\"], [0.1111111111111111, \"#46039f\"], [0.2222222222222222, \"#7201a8\"], [0.3333333333333333, \"#9c179e\"], [0.4444444444444444, \"#bd3786\"], [0.5555555555555556, \"#d8576b\"], [0.6666666666666666, \"#ed7953\"], [0.7777777777777778, \"#fb9f3a\"], [0.8888888888888888, \"#fdca26\"], [1.0, \"#f0f921\"]], \"type\": \"heatmapgl\"}], \"histogram\": [{\"marker\": {\"colorbar\": {\"outlinewidth\": 0, \"ticks\": \"\"}}, \"type\": \"histogram\"}], \"histogram2d\": [{\"colorbar\": {\"outlinewidth\": 0, \"ticks\": \"\"}, \"colorscale\": [[0.0, \"#0d0887\"], [0.1111111111111111, \"#46039f\"], [0.2222222222222222, \"#7201a8\"], [0.3333333333333333, \"#9c179e\"], [0.4444444444444444, \"#bd3786\"], [0.5555555555555556, \"#d8576b\"], [0.6666666666666666, \"#ed7953\"], [0.7777777777777778, \"#fb9f3a\"], [0.8888888888888888, \"#fdca26\"], [1.0, \"#f0f921\"]], \"type\": \"histogram2d\"}], \"histogram2dcontour\": [{\"colorbar\": {\"outlinewidth\": 0, \"ticks\": \"\"}, \"colorscale\": [[0.0, \"#0d0887\"], [0.1111111111111111, \"#46039f\"], [0.2222222222222222, \"#7201a8\"], [0.3333333333333333, \"#9c179e\"], [0.4444444444444444, \"#bd3786\"], [0.5555555555555556, \"#d8576b\"], [0.6666666666666666, \"#ed7953\"], [0.7777777777777778, \"#fb9f3a\"], [0.8888888888888888, \"#fdca26\"], [1.0, \"#f0f921\"]], \"type\": \"histogram2dcontour\"}], \"mesh3d\": [{\"colorbar\": {\"outlinewidth\": 0, \"ticks\": \"\"}, \"type\": \"mesh3d\"}], \"parcoords\": [{\"line\": {\"colorbar\": {\"outlinewidth\": 0, \"ticks\": \"\"}}, \"type\": \"parcoords\"}], \"pie\": [{\"automargin\": true, \"type\": \"pie\"}], \"scatter\": [{\"marker\": {\"colorbar\": {\"outlinewidth\": 0, \"ticks\": \"\"}}, \"type\": \"scatter\"}], \"scatter3d\": [{\"line\": {\"colorbar\": {\"outlinewidth\": 0, \"ticks\": \"\"}}, \"marker\": {\"colorbar\": {\"outlinewidth\": 0, \"ticks\": \"\"}}, \"type\": \"scatter3d\"}], \"scattercarpet\": [{\"marker\": {\"colorbar\": {\"outlinewidth\": 0, \"ticks\": \"\"}}, \"type\": \"scattercarpet\"}], \"scattergeo\": [{\"marker\": {\"colorbar\": {\"outlinewidth\": 0, \"ticks\": \"\"}}, \"type\": \"scattergeo\"}], \"scattergl\": [{\"marker\": {\"colorbar\": {\"outlinewidth\": 0, \"ticks\": \"\"}}, \"type\": \"scattergl\"}], \"scattermapbox\": [{\"marker\": {\"colorbar\": {\"outlinewidth\": 0, \"ticks\": \"\"}}, \"type\": \"scattermapbox\"}], \"scatterpolar\": [{\"marker\": {\"colorbar\": {\"outlinewidth\": 0, \"ticks\": \"\"}}, \"type\": \"scatterpolar\"}], \"scatterpolargl\": [{\"marker\": {\"colorbar\": {\"outlinewidth\": 0, \"ticks\": \"\"}}, \"type\": \"scatterpolargl\"}], \"scatterternary\": [{\"marker\": {\"colorbar\": {\"outlinewidth\": 0, \"ticks\": \"\"}}, \"type\": \"scatterternary\"}], \"surface\": [{\"colorbar\": {\"outlinewidth\": 0, \"ticks\": \"\"}, \"colorscale\": [[0.0, \"#0d0887\"], [0.1111111111111111, \"#46039f\"], [0.2222222222222222, \"#7201a8\"], [0.3333333333333333, \"#9c179e\"], [0.4444444444444444, \"#bd3786\"], [0.5555555555555556, \"#d8576b\"], [0.6666666666666666, \"#ed7953\"], [0.7777777777777778, \"#fb9f3a\"], [0.8888888888888888, \"#fdca26\"], [1.0, \"#f0f921\"]], \"type\": \"surface\"}], \"table\": [{\"cells\": {\"fill\": {\"color\": \"#EBF0F8\"}, \"line\": {\"color\": \"white\"}}, \"header\": {\"fill\": {\"color\": \"#C8D4E3\"}, \"line\": {\"color\": \"white\"}}, \"type\": \"table\"}]}, \"layout\": {\"annotationdefaults\": {\"arrowcolor\": \"#2a3f5f\", \"arrowhead\": 0, \"arrowwidth\": 1}, \"coloraxis\": {\"colorbar\": {\"outlinewidth\": 0, \"ticks\": \"\"}}, \"colorscale\": {\"diverging\": [[0, \"#8e0152\"], [0.1, \"#c51b7d\"], [0.2, \"#de77ae\"], [0.3, \"#f1b6da\"], [0.4, \"#fde0ef\"], [0.5, \"#f7f7f7\"], [0.6, \"#e6f5d0\"], [0.7, \"#b8e186\"], [0.8, \"#7fbc41\"], [0.9, \"#4d9221\"], [1, \"#276419\"]], \"sequential\": [[0.0, \"#0d0887\"], [0.1111111111111111, \"#46039f\"], [0.2222222222222222, \"#7201a8\"], [0.3333333333333333, \"#9c179e\"], [0.4444444444444444, \"#bd3786\"], [0.5555555555555556, \"#d8576b\"], [0.6666666666666666, \"#ed7953\"], [0.7777777777777778, \"#fb9f3a\"], [0.8888888888888888, \"#fdca26\"], [1.0, \"#f0f921\"]], \"sequentialminus\": [[0.0, \"#0d0887\"], [0.1111111111111111, \"#46039f\"], [0.2222222222222222, \"#7201a8\"], [0.3333333333333333, \"#9c179e\"], [0.4444444444444444, \"#bd3786\"], [0.5555555555555556, \"#d8576b\"], [0.6666666666666666, \"#ed7953\"], [0.7777777777777778, \"#fb9f3a\"], [0.8888888888888888, \"#fdca26\"], [1.0, \"#f0f921\"]]}, \"colorway\": [\"#636efa\", \"#EF553B\", \"#00cc96\", \"#ab63fa\", \"#FFA15A\", \"#19d3f3\", \"#FF6692\", \"#B6E880\", \"#FF97FF\", \"#FECB52\"], \"font\": {\"color\": \"#2a3f5f\"}, \"geo\": {\"bgcolor\": \"white\", \"lakecolor\": \"white\", \"landcolor\": \"#E5ECF6\", \"showlakes\": true, \"showland\": true, \"subunitcolor\": \"white\"}, \"hoverlabel\": {\"align\": \"left\"}, \"hovermode\": \"closest\", \"mapbox\": {\"style\": \"light\"}, \"paper_bgcolor\": \"white\", \"plot_bgcolor\": \"#E5ECF6\", \"polar\": {\"angularaxis\": {\"gridcolor\": \"white\", \"linecolor\": \"white\", \"ticks\": \"\"}, \"bgcolor\": \"#E5ECF6\", \"radialaxis\": {\"gridcolor\": \"white\", \"linecolor\": \"white\", \"ticks\": \"\"}}, \"scene\": {\"xaxis\": {\"backgroundcolor\": \"#E5ECF6\", \"gridcolor\": \"white\", \"gridwidth\": 2, \"linecolor\": \"white\", \"showbackground\": true, \"ticks\": \"\", \"zerolinecolor\": \"white\"}, \"yaxis\": {\"backgroundcolor\": \"#E5ECF6\", \"gridcolor\": \"white\", \"gridwidth\": 2, \"linecolor\": \"white\", \"showbackground\": true, \"ticks\": \"\", \"zerolinecolor\": \"white\"}, \"zaxis\": {\"backgroundcolor\": \"#E5ECF6\", \"gridcolor\": \"white\", \"gridwidth\": 2, \"linecolor\": \"white\", \"showbackground\": true, \"ticks\": \"\", \"zerolinecolor\": \"white\"}}, \"shapedefaults\": {\"line\": {\"color\": \"#2a3f5f\"}}, \"ternary\": {\"aaxis\": {\"gridcolor\": \"white\", \"linecolor\": \"white\", \"ticks\": \"\"}, \"baxis\": {\"gridcolor\": \"white\", \"linecolor\": \"white\", \"ticks\": \"\"}, \"bgcolor\": \"#E5ECF6\", \"caxis\": {\"gridcolor\": \"white\", \"linecolor\": \"white\", \"ticks\": \"\"}}, \"title\": {\"x\": 0.05}, \"xaxis\": {\"automargin\": true, \"gridcolor\": \"white\", \"linecolor\": \"white\", \"ticks\": \"\", \"title\": {\"standoff\": 15}, \"zerolinecolor\": \"white\", \"zerolinewidth\": 2}, \"yaxis\": {\"automargin\": true, \"gridcolor\": \"white\", \"linecolor\": \"white\", \"ticks\": \"\", \"title\": {\"standoff\": 15}, \"zerolinecolor\": \"white\", \"zerolinewidth\": 2}}}, \"title\": {\"font\": {\"color\": \"#ffffff\", \"family\": \"Playfair Display\", \"size\": 20}, \"text\": \"<b>Recovered Cases Timeline<b>\", \"x\": 0.5, \"xanchor\": \"center\", \"y\": 0.96, \"yanchor\": \"top\"}, \"xaxis\": {\"gridcolor\": \"#272e3e\", \"gridwidth\": 0.1, \"linecolor\": \"#272e3e\", \"showline\": true, \"tickformat\": \"%b %d\", \"zeroline\": false}, \"yaxis\": {\"gridcolor\": \"#272e3e\", \"gridwidth\": 0.1, \"linecolor\": \"#272e3e\", \"showline\": true, \"tickmode\": \"array\", \"ticktext\": [\"0\", \"100\", \"200\", \"300\", \"400\", \"500\"], \"tickvals\": [0, 100, 200, 300, 400, 500], \"title\": {\"text\": \"Total Recovered Case Number\"}, \"zeroline\": false}},\n",
       "                        {\"responsive\": true}\n",
       "                    ).then(function(){\n",
       "                            \n",
       "var gd = document.getElementById('f45124a2-551c-4ef5-9bad-7cb1ebfb6539');\n",
       "var x = new MutationObserver(function (mutations, observer) {{\n",
       "        var display = window.getComputedStyle(gd).display;\n",
       "        if (!display || display === 'none') {{\n",
       "            console.log([gd, 'removed!']);\n",
       "            Plotly.purge(gd);\n",
       "            observer.disconnect();\n",
       "        }}\n",
       "}});\n",
       "\n",
       "// Listen for the removal of the full notebook cells\n",
       "var notebookContainer = gd.closest('#notebook-container');\n",
       "if (notebookContainer) {{\n",
       "    x.observe(notebookContainer, {childList: true});\n",
       "}}\n",
       "\n",
       "// Listen for the clearing of the current output cell\n",
       "var outputEl = gd.closest('.output');\n",
       "if (outputEl) {{\n",
       "    x.observe(outputEl, {childList: true});\n",
       "}}\n",
       "\n",
       "                        })\n",
       "                };\n",
       "                });\n",
       "            </script>\n",
       "        </div>"
      ]
     },
     "metadata": {},
     "output_type": "display_data"
    }
   ],
   "source": [
    "# Line plot for recovered cases\n",
    "# Set up tick scale based on confirmed case number\n",
    "tickList = list(np.arange(0, df_recovered['Mainland China'].max()+100, 100))\n",
    "\n",
    "# Create empty figure canvas\n",
    "fig_recovered = go.Figure()\n",
    "# Add trace to the figure\n",
    "fig_recovered.add_trace(go.Scatter(x=df_recovered['Date']+timedelta(hours=16), y=df_recovered['Mainland China'],\n",
    "                         mode='lines+markers',\n",
    "                         name='Mainland China',\n",
    "                         line=dict(color='#168038', width=2),\n",
    "                         marker=dict(size=8),\n",
    "                         text=[datetime.strftime(d+timedelta(hours=16), '%b %d %Y AEDT') for d in df_recovered['Date']],\n",
    "                         hovertemplate='<b>%{text}</b><br></br>'+\n",
    "                                       'Mainland China recovered<br>'+\n",
    "                                       '%{y} cases<br>'+\n",
    "                                       '<extra></extra>'))\n",
    "fig_recovered.add_trace(go.Scatter(x=df_recovered['Date']+timedelta(hours=16), y=df_recovered['Other locations'],\n",
    "                         mode='lines+markers',\n",
    "                         name='Other Region',\n",
    "                         line=dict(color='#25d75d', width=2),\n",
    "                         marker=dict(size=8),\n",
    "                         text=[datetime.strftime(d+timedelta(hours=16), '%b %d %Y AEDT') for d in df_recovered['Date']],\n",
    "                         hovertemplate='<b>%{text}</b><br></br>'+\n",
    "                                       'Other region recovered<br>'+\n",
    "                                       '%{y} cases<br>'+\n",
    "                                       '<extra></extra>'))\n",
    "# Customise layout\n",
    "fig_recovered.update_layout(\n",
    "    title=dict(\n",
    "        text=\"<b>Recovered Cases Timeline<b>\",\n",
    "        y=0.96, x=0.5, xanchor='center', yanchor='top',\n",
    "        font=dict(size=20, color=\"#ffffff\", family=\"Playfair Display\")\n",
    "    ),\n",
    "    margin=go.layout.Margin(\n",
    "        l=5,\n",
    "        r=10,\n",
    "        b=10,\n",
    "        t=50,\n",
    "        pad=0\n",
    "    ),\n",
    "    yaxis=dict(\n",
    "        showline=True, linecolor='#272e3e',\n",
    "        zeroline=False,\n",
    "        gridcolor='#272e3e',\n",
    "        gridwidth = .1,\n",
    "        tickmode='array',\n",
    "        # Set tick range based on the maximum number\n",
    "        tickvals=tickList,\n",
    "        # Set tick label accordingly\n",
    "        ticktext=['{:.0f}'.format(i) for i in tickList]\n",
    "    ),\n",
    "    yaxis_title=\"Total Recovered Case Number\",\n",
    "    xaxis=dict(\n",
    "        showline=True, linecolor='#272e3e',\n",
    "        gridcolor='#272e3e',\n",
    "        gridwidth = .1,\n",
    "        zeroline=False\n",
    "    ),\n",
    "    xaxis_tickformat='%b %d',\n",
    "    hovermode = 'x',\n",
    "    legend_orientation=\"h\",\n",
    "    plot_bgcolor='#151920',\n",
    "    paper_bgcolor='#272e3e',\n",
    "    font=dict(color='#ffffff')\n",
    ")\n",
    "\n",
    "fig_recovered.show()"
   ]
  },
  {
   "cell_type": "code",
   "execution_count": 54,
   "metadata": {},
   "outputs": [
    {
     "data": {
      "application/vnd.plotly.v1+json": {
       "config": {
        "plotlyServerURL": "https://plot.ly"
       },
       "data": [
        {
         "hovertemplate": "<b>%{text}</b><br></br>Mainland China death<br>%{y} cases<br><extra></extra>",
         "line": {
          "color": "#626262",
          "width": 2
         },
         "marker": {
          "size": 8
         },
         "mode": "lines+markers",
         "name": "Mainland China",
         "text": [
          "Feb 03 2020 AEDT",
          "Feb 02 2020 AEDT",
          "Feb 01 2020 AEDT",
          "Jan 31 2020 AEDT",
          "Jan 30 2020 AEDT",
          "Jan 29 2020 AEDT",
          "Jan 28 2020 AEDT",
          "Jan 27 2020 AEDT",
          "Jan 26 2020 AEDT",
          "Jan 25 2020 AEDT",
          "Jan 24 2020 AEDT",
          "Jan 23 2020 AEDT"
         ],
         "type": "scatter",
         "x": [
          "2020-02-03T12:00:00",
          "2020-02-02T15:00:00",
          "2020-02-01T11:00:00",
          "2020-01-31T13:30:00",
          "2020-01-30T13:00:00",
          "2020-01-29T15:00:00",
          "2020-01-28T12:30:00",
          "2020-01-27T15:00:00",
          "2020-01-26T14:00:00",
          "2020-01-25T04:00:00",
          "2020-01-24T04:00:00",
          "2020-01-23T04:00:00"
         ],
         "y": [
          361,
          304,
          259,
          213,
          170,
          132,
          107,
          80,
          56,
          26,
          18,
          0
         ]
        },
        {
         "hovertemplate": "<b>%{text}</b><br></br>Other region death<br>%{y} cases<br><extra></extra>",
         "line": {
          "color": "#a7a7a7",
          "width": 2
         },
         "marker": {
          "size": 8
         },
         "mode": "lines+markers",
         "name": "Other Region",
         "text": [
          "Feb 03 2020 AEDT",
          "Feb 02 2020 AEDT",
          "Feb 01 2020 AEDT",
          "Jan 31 2020 AEDT",
          "Jan 30 2020 AEDT",
          "Jan 29 2020 AEDT",
          "Jan 28 2020 AEDT",
          "Jan 27 2020 AEDT",
          "Jan 26 2020 AEDT",
          "Jan 25 2020 AEDT",
          "Jan 24 2020 AEDT",
          "Jan 23 2020 AEDT"
         ],
         "type": "scatter",
         "x": [
          "2020-02-03T12:00:00",
          "2020-02-02T15:00:00",
          "2020-02-01T11:00:00",
          "2020-01-31T13:30:00",
          "2020-01-30T13:00:00",
          "2020-01-29T15:00:00",
          "2020-01-28T12:30:00",
          "2020-01-27T15:00:00",
          "2020-01-26T14:00:00",
          "2020-01-25T04:00:00",
          "2020-01-24T04:00:00",
          "2020-01-23T04:00:00"
         ],
         "y": [
          1,
          1,
          0,
          0,
          0,
          0,
          0,
          0,
          0,
          0,
          0,
          0
         ]
        }
       ],
       "layout": {
        "font": {
         "color": "#ffffff"
        },
        "hovermode": "x",
        "legend": {
         "orientation": "h"
        },
        "margin": {
         "b": 10,
         "l": 5,
         "pad": 0,
         "r": 10,
         "t": 50
        },
        "paper_bgcolor": "#272e3e",
        "plot_bgcolor": "#151920",
        "template": {
         "data": {
          "bar": [
           {
            "error_x": {
             "color": "#2a3f5f"
            },
            "error_y": {
             "color": "#2a3f5f"
            },
            "marker": {
             "line": {
              "color": "#E5ECF6",
              "width": 0.5
             }
            },
            "type": "bar"
           }
          ],
          "barpolar": [
           {
            "marker": {
             "line": {
              "color": "#E5ECF6",
              "width": 0.5
             }
            },
            "type": "barpolar"
           }
          ],
          "carpet": [
           {
            "aaxis": {
             "endlinecolor": "#2a3f5f",
             "gridcolor": "white",
             "linecolor": "white",
             "minorgridcolor": "white",
             "startlinecolor": "#2a3f5f"
            },
            "baxis": {
             "endlinecolor": "#2a3f5f",
             "gridcolor": "white",
             "linecolor": "white",
             "minorgridcolor": "white",
             "startlinecolor": "#2a3f5f"
            },
            "type": "carpet"
           }
          ],
          "choropleth": [
           {
            "colorbar": {
             "outlinewidth": 0,
             "ticks": ""
            },
            "type": "choropleth"
           }
          ],
          "contour": [
           {
            "colorbar": {
             "outlinewidth": 0,
             "ticks": ""
            },
            "colorscale": [
             [
              0,
              "#0d0887"
             ],
             [
              0.1111111111111111,
              "#46039f"
             ],
             [
              0.2222222222222222,
              "#7201a8"
             ],
             [
              0.3333333333333333,
              "#9c179e"
             ],
             [
              0.4444444444444444,
              "#bd3786"
             ],
             [
              0.5555555555555556,
              "#d8576b"
             ],
             [
              0.6666666666666666,
              "#ed7953"
             ],
             [
              0.7777777777777778,
              "#fb9f3a"
             ],
             [
              0.8888888888888888,
              "#fdca26"
             ],
             [
              1,
              "#f0f921"
             ]
            ],
            "type": "contour"
           }
          ],
          "contourcarpet": [
           {
            "colorbar": {
             "outlinewidth": 0,
             "ticks": ""
            },
            "type": "contourcarpet"
           }
          ],
          "heatmap": [
           {
            "colorbar": {
             "outlinewidth": 0,
             "ticks": ""
            },
            "colorscale": [
             [
              0,
              "#0d0887"
             ],
             [
              0.1111111111111111,
              "#46039f"
             ],
             [
              0.2222222222222222,
              "#7201a8"
             ],
             [
              0.3333333333333333,
              "#9c179e"
             ],
             [
              0.4444444444444444,
              "#bd3786"
             ],
             [
              0.5555555555555556,
              "#d8576b"
             ],
             [
              0.6666666666666666,
              "#ed7953"
             ],
             [
              0.7777777777777778,
              "#fb9f3a"
             ],
             [
              0.8888888888888888,
              "#fdca26"
             ],
             [
              1,
              "#f0f921"
             ]
            ],
            "type": "heatmap"
           }
          ],
          "heatmapgl": [
           {
            "colorbar": {
             "outlinewidth": 0,
             "ticks": ""
            },
            "colorscale": [
             [
              0,
              "#0d0887"
             ],
             [
              0.1111111111111111,
              "#46039f"
             ],
             [
              0.2222222222222222,
              "#7201a8"
             ],
             [
              0.3333333333333333,
              "#9c179e"
             ],
             [
              0.4444444444444444,
              "#bd3786"
             ],
             [
              0.5555555555555556,
              "#d8576b"
             ],
             [
              0.6666666666666666,
              "#ed7953"
             ],
             [
              0.7777777777777778,
              "#fb9f3a"
             ],
             [
              0.8888888888888888,
              "#fdca26"
             ],
             [
              1,
              "#f0f921"
             ]
            ],
            "type": "heatmapgl"
           }
          ],
          "histogram": [
           {
            "marker": {
             "colorbar": {
              "outlinewidth": 0,
              "ticks": ""
             }
            },
            "type": "histogram"
           }
          ],
          "histogram2d": [
           {
            "colorbar": {
             "outlinewidth": 0,
             "ticks": ""
            },
            "colorscale": [
             [
              0,
              "#0d0887"
             ],
             [
              0.1111111111111111,
              "#46039f"
             ],
             [
              0.2222222222222222,
              "#7201a8"
             ],
             [
              0.3333333333333333,
              "#9c179e"
             ],
             [
              0.4444444444444444,
              "#bd3786"
             ],
             [
              0.5555555555555556,
              "#d8576b"
             ],
             [
              0.6666666666666666,
              "#ed7953"
             ],
             [
              0.7777777777777778,
              "#fb9f3a"
             ],
             [
              0.8888888888888888,
              "#fdca26"
             ],
             [
              1,
              "#f0f921"
             ]
            ],
            "type": "histogram2d"
           }
          ],
          "histogram2dcontour": [
           {
            "colorbar": {
             "outlinewidth": 0,
             "ticks": ""
            },
            "colorscale": [
             [
              0,
              "#0d0887"
             ],
             [
              0.1111111111111111,
              "#46039f"
             ],
             [
              0.2222222222222222,
              "#7201a8"
             ],
             [
              0.3333333333333333,
              "#9c179e"
             ],
             [
              0.4444444444444444,
              "#bd3786"
             ],
             [
              0.5555555555555556,
              "#d8576b"
             ],
             [
              0.6666666666666666,
              "#ed7953"
             ],
             [
              0.7777777777777778,
              "#fb9f3a"
             ],
             [
              0.8888888888888888,
              "#fdca26"
             ],
             [
              1,
              "#f0f921"
             ]
            ],
            "type": "histogram2dcontour"
           }
          ],
          "mesh3d": [
           {
            "colorbar": {
             "outlinewidth": 0,
             "ticks": ""
            },
            "type": "mesh3d"
           }
          ],
          "parcoords": [
           {
            "line": {
             "colorbar": {
              "outlinewidth": 0,
              "ticks": ""
             }
            },
            "type": "parcoords"
           }
          ],
          "pie": [
           {
            "automargin": true,
            "type": "pie"
           }
          ],
          "scatter": [
           {
            "marker": {
             "colorbar": {
              "outlinewidth": 0,
              "ticks": ""
             }
            },
            "type": "scatter"
           }
          ],
          "scatter3d": [
           {
            "line": {
             "colorbar": {
              "outlinewidth": 0,
              "ticks": ""
             }
            },
            "marker": {
             "colorbar": {
              "outlinewidth": 0,
              "ticks": ""
             }
            },
            "type": "scatter3d"
           }
          ],
          "scattercarpet": [
           {
            "marker": {
             "colorbar": {
              "outlinewidth": 0,
              "ticks": ""
             }
            },
            "type": "scattercarpet"
           }
          ],
          "scattergeo": [
           {
            "marker": {
             "colorbar": {
              "outlinewidth": 0,
              "ticks": ""
             }
            },
            "type": "scattergeo"
           }
          ],
          "scattergl": [
           {
            "marker": {
             "colorbar": {
              "outlinewidth": 0,
              "ticks": ""
             }
            },
            "type": "scattergl"
           }
          ],
          "scattermapbox": [
           {
            "marker": {
             "colorbar": {
              "outlinewidth": 0,
              "ticks": ""
             }
            },
            "type": "scattermapbox"
           }
          ],
          "scatterpolar": [
           {
            "marker": {
             "colorbar": {
              "outlinewidth": 0,
              "ticks": ""
             }
            },
            "type": "scatterpolar"
           }
          ],
          "scatterpolargl": [
           {
            "marker": {
             "colorbar": {
              "outlinewidth": 0,
              "ticks": ""
             }
            },
            "type": "scatterpolargl"
           }
          ],
          "scatterternary": [
           {
            "marker": {
             "colorbar": {
              "outlinewidth": 0,
              "ticks": ""
             }
            },
            "type": "scatterternary"
           }
          ],
          "surface": [
           {
            "colorbar": {
             "outlinewidth": 0,
             "ticks": ""
            },
            "colorscale": [
             [
              0,
              "#0d0887"
             ],
             [
              0.1111111111111111,
              "#46039f"
             ],
             [
              0.2222222222222222,
              "#7201a8"
             ],
             [
              0.3333333333333333,
              "#9c179e"
             ],
             [
              0.4444444444444444,
              "#bd3786"
             ],
             [
              0.5555555555555556,
              "#d8576b"
             ],
             [
              0.6666666666666666,
              "#ed7953"
             ],
             [
              0.7777777777777778,
              "#fb9f3a"
             ],
             [
              0.8888888888888888,
              "#fdca26"
             ],
             [
              1,
              "#f0f921"
             ]
            ],
            "type": "surface"
           }
          ],
          "table": [
           {
            "cells": {
             "fill": {
              "color": "#EBF0F8"
             },
             "line": {
              "color": "white"
             }
            },
            "header": {
             "fill": {
              "color": "#C8D4E3"
             },
             "line": {
              "color": "white"
             }
            },
            "type": "table"
           }
          ]
         },
         "layout": {
          "annotationdefaults": {
           "arrowcolor": "#2a3f5f",
           "arrowhead": 0,
           "arrowwidth": 1
          },
          "coloraxis": {
           "colorbar": {
            "outlinewidth": 0,
            "ticks": ""
           }
          },
          "colorscale": {
           "diverging": [
            [
             0,
             "#8e0152"
            ],
            [
             0.1,
             "#c51b7d"
            ],
            [
             0.2,
             "#de77ae"
            ],
            [
             0.3,
             "#f1b6da"
            ],
            [
             0.4,
             "#fde0ef"
            ],
            [
             0.5,
             "#f7f7f7"
            ],
            [
             0.6,
             "#e6f5d0"
            ],
            [
             0.7,
             "#b8e186"
            ],
            [
             0.8,
             "#7fbc41"
            ],
            [
             0.9,
             "#4d9221"
            ],
            [
             1,
             "#276419"
            ]
           ],
           "sequential": [
            [
             0,
             "#0d0887"
            ],
            [
             0.1111111111111111,
             "#46039f"
            ],
            [
             0.2222222222222222,
             "#7201a8"
            ],
            [
             0.3333333333333333,
             "#9c179e"
            ],
            [
             0.4444444444444444,
             "#bd3786"
            ],
            [
             0.5555555555555556,
             "#d8576b"
            ],
            [
             0.6666666666666666,
             "#ed7953"
            ],
            [
             0.7777777777777778,
             "#fb9f3a"
            ],
            [
             0.8888888888888888,
             "#fdca26"
            ],
            [
             1,
             "#f0f921"
            ]
           ],
           "sequentialminus": [
            [
             0,
             "#0d0887"
            ],
            [
             0.1111111111111111,
             "#46039f"
            ],
            [
             0.2222222222222222,
             "#7201a8"
            ],
            [
             0.3333333333333333,
             "#9c179e"
            ],
            [
             0.4444444444444444,
             "#bd3786"
            ],
            [
             0.5555555555555556,
             "#d8576b"
            ],
            [
             0.6666666666666666,
             "#ed7953"
            ],
            [
             0.7777777777777778,
             "#fb9f3a"
            ],
            [
             0.8888888888888888,
             "#fdca26"
            ],
            [
             1,
             "#f0f921"
            ]
           ]
          },
          "colorway": [
           "#636efa",
           "#EF553B",
           "#00cc96",
           "#ab63fa",
           "#FFA15A",
           "#19d3f3",
           "#FF6692",
           "#B6E880",
           "#FF97FF",
           "#FECB52"
          ],
          "font": {
           "color": "#2a3f5f"
          },
          "geo": {
           "bgcolor": "white",
           "lakecolor": "white",
           "landcolor": "#E5ECF6",
           "showlakes": true,
           "showland": true,
           "subunitcolor": "white"
          },
          "hoverlabel": {
           "align": "left"
          },
          "hovermode": "closest",
          "mapbox": {
           "style": "light"
          },
          "paper_bgcolor": "white",
          "plot_bgcolor": "#E5ECF6",
          "polar": {
           "angularaxis": {
            "gridcolor": "white",
            "linecolor": "white",
            "ticks": ""
           },
           "bgcolor": "#E5ECF6",
           "radialaxis": {
            "gridcolor": "white",
            "linecolor": "white",
            "ticks": ""
           }
          },
          "scene": {
           "xaxis": {
            "backgroundcolor": "#E5ECF6",
            "gridcolor": "white",
            "gridwidth": 2,
            "linecolor": "white",
            "showbackground": true,
            "ticks": "",
            "zerolinecolor": "white"
           },
           "yaxis": {
            "backgroundcolor": "#E5ECF6",
            "gridcolor": "white",
            "gridwidth": 2,
            "linecolor": "white",
            "showbackground": true,
            "ticks": "",
            "zerolinecolor": "white"
           },
           "zaxis": {
            "backgroundcolor": "#E5ECF6",
            "gridcolor": "white",
            "gridwidth": 2,
            "linecolor": "white",
            "showbackground": true,
            "ticks": "",
            "zerolinecolor": "white"
           }
          },
          "shapedefaults": {
           "line": {
            "color": "#2a3f5f"
           }
          },
          "ternary": {
           "aaxis": {
            "gridcolor": "white",
            "linecolor": "white",
            "ticks": ""
           },
           "baxis": {
            "gridcolor": "white",
            "linecolor": "white",
            "ticks": ""
           },
           "bgcolor": "#E5ECF6",
           "caxis": {
            "gridcolor": "white",
            "linecolor": "white",
            "ticks": ""
           }
          },
          "title": {
           "x": 0.05
          },
          "xaxis": {
           "automargin": true,
           "gridcolor": "white",
           "linecolor": "white",
           "ticks": "",
           "title": {
            "standoff": 15
           },
           "zerolinecolor": "white",
           "zerolinewidth": 2
          },
          "yaxis": {
           "automargin": true,
           "gridcolor": "white",
           "linecolor": "white",
           "ticks": "",
           "title": {
            "standoff": 15
           },
           "zerolinecolor": "white",
           "zerolinewidth": 2
          }
         }
        },
        "title": {
         "font": {
          "color": "#ffffff",
          "family": "Playfair Display",
          "size": 20
         },
         "text": "<b>Death Cases Timeline<b>",
         "x": 0.5,
         "xanchor": "center",
         "y": 0.96,
         "yanchor": "top"
        },
        "xaxis": {
         "gridcolor": "#272e3e",
         "gridwidth": 0.1,
         "linecolor": "#272e3e",
         "showline": true,
         "tickformat": "%b %d",
         "zeroline": false
        },
        "yaxis": {
         "gridcolor": "#272e3e",
         "gridwidth": 0.1,
         "linecolor": "#272e3e",
         "showline": true,
         "tickmode": "array",
         "ticktext": [
          "0",
          "50",
          "100",
          "150",
          "200",
          "250",
          "300",
          "350",
          "400",
          "450"
         ],
         "tickvals": [
          0,
          50,
          100,
          150,
          200,
          250,
          300,
          350,
          400,
          450
         ],
         "title": {
          "text": "Total Death Case Number"
         },
         "zeroline": false
        }
       }
      },
      "text/html": [
       "<div>\n",
       "        \n",
       "        \n",
       "            <div id=\"bbb03656-78a1-4428-afee-40ce54be5140\" class=\"plotly-graph-div\" style=\"height:525px; width:100%;\"></div>\n",
       "            <script type=\"text/javascript\">\n",
       "                require([\"plotly\"], function(Plotly) {\n",
       "                    window.PLOTLYENV=window.PLOTLYENV || {};\n",
       "                    \n",
       "                if (document.getElementById(\"bbb03656-78a1-4428-afee-40ce54be5140\")) {\n",
       "                    Plotly.newPlot(\n",
       "                        'bbb03656-78a1-4428-afee-40ce54be5140',\n",
       "                        [{\"hovertemplate\": \"<b>%{text}</b><br></br>Mainland China death<br>%{y} cases<br><extra></extra>\", \"line\": {\"color\": \"#626262\", \"width\": 2}, \"marker\": {\"size\": 8}, \"mode\": \"lines+markers\", \"name\": \"Mainland China\", \"text\": [\"Feb 03 2020 AEDT\", \"Feb 02 2020 AEDT\", \"Feb 01 2020 AEDT\", \"Jan 31 2020 AEDT\", \"Jan 30 2020 AEDT\", \"Jan 29 2020 AEDT\", \"Jan 28 2020 AEDT\", \"Jan 27 2020 AEDT\", \"Jan 26 2020 AEDT\", \"Jan 25 2020 AEDT\", \"Jan 24 2020 AEDT\", \"Jan 23 2020 AEDT\"], \"type\": \"scatter\", \"x\": [\"2020-02-03T12:00:00\", \"2020-02-02T15:00:00\", \"2020-02-01T11:00:00\", \"2020-01-31T13:30:00\", \"2020-01-30T13:00:00\", \"2020-01-29T15:00:00\", \"2020-01-28T12:30:00\", \"2020-01-27T15:00:00\", \"2020-01-26T14:00:00\", \"2020-01-25T04:00:00\", \"2020-01-24T04:00:00\", \"2020-01-23T04:00:00\"], \"y\": [361, 304, 259, 213, 170, 132, 107, 80, 56, 26, 18, 0]}, {\"hovertemplate\": \"<b>%{text}</b><br></br>Other region death<br>%{y} cases<br><extra></extra>\", \"line\": {\"color\": \"#a7a7a7\", \"width\": 2}, \"marker\": {\"size\": 8}, \"mode\": \"lines+markers\", \"name\": \"Other Region\", \"text\": [\"Feb 03 2020 AEDT\", \"Feb 02 2020 AEDT\", \"Feb 01 2020 AEDT\", \"Jan 31 2020 AEDT\", \"Jan 30 2020 AEDT\", \"Jan 29 2020 AEDT\", \"Jan 28 2020 AEDT\", \"Jan 27 2020 AEDT\", \"Jan 26 2020 AEDT\", \"Jan 25 2020 AEDT\", \"Jan 24 2020 AEDT\", \"Jan 23 2020 AEDT\"], \"type\": \"scatter\", \"x\": [\"2020-02-03T12:00:00\", \"2020-02-02T15:00:00\", \"2020-02-01T11:00:00\", \"2020-01-31T13:30:00\", \"2020-01-30T13:00:00\", \"2020-01-29T15:00:00\", \"2020-01-28T12:30:00\", \"2020-01-27T15:00:00\", \"2020-01-26T14:00:00\", \"2020-01-25T04:00:00\", \"2020-01-24T04:00:00\", \"2020-01-23T04:00:00\"], \"y\": [1, 1, 0, 0, 0, 0, 0, 0, 0, 0, 0, 0]}],\n",
       "                        {\"font\": {\"color\": \"#ffffff\"}, \"hovermode\": \"x\", \"legend\": {\"orientation\": \"h\"}, \"margin\": {\"b\": 10, \"l\": 5, \"pad\": 0, \"r\": 10, \"t\": 50}, \"paper_bgcolor\": \"#272e3e\", \"plot_bgcolor\": \"#151920\", \"template\": {\"data\": {\"bar\": [{\"error_x\": {\"color\": \"#2a3f5f\"}, \"error_y\": {\"color\": \"#2a3f5f\"}, \"marker\": {\"line\": {\"color\": \"#E5ECF6\", \"width\": 0.5}}, \"type\": \"bar\"}], \"barpolar\": [{\"marker\": {\"line\": {\"color\": \"#E5ECF6\", \"width\": 0.5}}, \"type\": \"barpolar\"}], \"carpet\": [{\"aaxis\": {\"endlinecolor\": \"#2a3f5f\", \"gridcolor\": \"white\", \"linecolor\": \"white\", \"minorgridcolor\": \"white\", \"startlinecolor\": \"#2a3f5f\"}, \"baxis\": {\"endlinecolor\": \"#2a3f5f\", \"gridcolor\": \"white\", \"linecolor\": \"white\", \"minorgridcolor\": \"white\", \"startlinecolor\": \"#2a3f5f\"}, \"type\": \"carpet\"}], \"choropleth\": [{\"colorbar\": {\"outlinewidth\": 0, \"ticks\": \"\"}, \"type\": \"choropleth\"}], \"contour\": [{\"colorbar\": {\"outlinewidth\": 0, \"ticks\": \"\"}, \"colorscale\": [[0.0, \"#0d0887\"], [0.1111111111111111, \"#46039f\"], [0.2222222222222222, \"#7201a8\"], [0.3333333333333333, \"#9c179e\"], [0.4444444444444444, \"#bd3786\"], [0.5555555555555556, \"#d8576b\"], [0.6666666666666666, \"#ed7953\"], [0.7777777777777778, \"#fb9f3a\"], [0.8888888888888888, \"#fdca26\"], [1.0, \"#f0f921\"]], \"type\": \"contour\"}], \"contourcarpet\": [{\"colorbar\": {\"outlinewidth\": 0, \"ticks\": \"\"}, \"type\": \"contourcarpet\"}], \"heatmap\": [{\"colorbar\": {\"outlinewidth\": 0, \"ticks\": \"\"}, \"colorscale\": [[0.0, \"#0d0887\"], [0.1111111111111111, \"#46039f\"], [0.2222222222222222, \"#7201a8\"], [0.3333333333333333, \"#9c179e\"], [0.4444444444444444, \"#bd3786\"], [0.5555555555555556, \"#d8576b\"], [0.6666666666666666, \"#ed7953\"], [0.7777777777777778, \"#fb9f3a\"], [0.8888888888888888, \"#fdca26\"], [1.0, \"#f0f921\"]], \"type\": \"heatmap\"}], \"heatmapgl\": [{\"colorbar\": {\"outlinewidth\": 0, \"ticks\": \"\"}, \"colorscale\": [[0.0, \"#0d0887\"], [0.1111111111111111, \"#46039f\"], [0.2222222222222222, \"#7201a8\"], [0.3333333333333333, \"#9c179e\"], [0.4444444444444444, \"#bd3786\"], [0.5555555555555556, \"#d8576b\"], [0.6666666666666666, \"#ed7953\"], [0.7777777777777778, \"#fb9f3a\"], [0.8888888888888888, \"#fdca26\"], [1.0, \"#f0f921\"]], \"type\": \"heatmapgl\"}], \"histogram\": [{\"marker\": {\"colorbar\": {\"outlinewidth\": 0, \"ticks\": \"\"}}, \"type\": \"histogram\"}], \"histogram2d\": [{\"colorbar\": {\"outlinewidth\": 0, \"ticks\": \"\"}, \"colorscale\": [[0.0, \"#0d0887\"], [0.1111111111111111, \"#46039f\"], [0.2222222222222222, \"#7201a8\"], [0.3333333333333333, \"#9c179e\"], [0.4444444444444444, \"#bd3786\"], [0.5555555555555556, \"#d8576b\"], [0.6666666666666666, \"#ed7953\"], [0.7777777777777778, \"#fb9f3a\"], [0.8888888888888888, \"#fdca26\"], [1.0, \"#f0f921\"]], \"type\": \"histogram2d\"}], \"histogram2dcontour\": [{\"colorbar\": {\"outlinewidth\": 0, \"ticks\": \"\"}, \"colorscale\": [[0.0, \"#0d0887\"], [0.1111111111111111, \"#46039f\"], [0.2222222222222222, \"#7201a8\"], [0.3333333333333333, \"#9c179e\"], [0.4444444444444444, \"#bd3786\"], [0.5555555555555556, \"#d8576b\"], [0.6666666666666666, \"#ed7953\"], [0.7777777777777778, \"#fb9f3a\"], [0.8888888888888888, \"#fdca26\"], [1.0, \"#f0f921\"]], \"type\": \"histogram2dcontour\"}], \"mesh3d\": [{\"colorbar\": {\"outlinewidth\": 0, \"ticks\": \"\"}, \"type\": \"mesh3d\"}], \"parcoords\": [{\"line\": {\"colorbar\": {\"outlinewidth\": 0, \"ticks\": \"\"}}, \"type\": \"parcoords\"}], \"pie\": [{\"automargin\": true, \"type\": \"pie\"}], \"scatter\": [{\"marker\": {\"colorbar\": {\"outlinewidth\": 0, \"ticks\": \"\"}}, \"type\": \"scatter\"}], \"scatter3d\": [{\"line\": {\"colorbar\": {\"outlinewidth\": 0, \"ticks\": \"\"}}, \"marker\": {\"colorbar\": {\"outlinewidth\": 0, \"ticks\": \"\"}}, \"type\": \"scatter3d\"}], \"scattercarpet\": [{\"marker\": {\"colorbar\": {\"outlinewidth\": 0, \"ticks\": \"\"}}, \"type\": \"scattercarpet\"}], \"scattergeo\": [{\"marker\": {\"colorbar\": {\"outlinewidth\": 0, \"ticks\": \"\"}}, \"type\": \"scattergeo\"}], \"scattergl\": [{\"marker\": {\"colorbar\": {\"outlinewidth\": 0, \"ticks\": \"\"}}, \"type\": \"scattergl\"}], \"scattermapbox\": [{\"marker\": {\"colorbar\": {\"outlinewidth\": 0, \"ticks\": \"\"}}, \"type\": \"scattermapbox\"}], \"scatterpolar\": [{\"marker\": {\"colorbar\": {\"outlinewidth\": 0, \"ticks\": \"\"}}, \"type\": \"scatterpolar\"}], \"scatterpolargl\": [{\"marker\": {\"colorbar\": {\"outlinewidth\": 0, \"ticks\": \"\"}}, \"type\": \"scatterpolargl\"}], \"scatterternary\": [{\"marker\": {\"colorbar\": {\"outlinewidth\": 0, \"ticks\": \"\"}}, \"type\": \"scatterternary\"}], \"surface\": [{\"colorbar\": {\"outlinewidth\": 0, \"ticks\": \"\"}, \"colorscale\": [[0.0, \"#0d0887\"], [0.1111111111111111, \"#46039f\"], [0.2222222222222222, \"#7201a8\"], [0.3333333333333333, \"#9c179e\"], [0.4444444444444444, \"#bd3786\"], [0.5555555555555556, \"#d8576b\"], [0.6666666666666666, \"#ed7953\"], [0.7777777777777778, \"#fb9f3a\"], [0.8888888888888888, \"#fdca26\"], [1.0, \"#f0f921\"]], \"type\": \"surface\"}], \"table\": [{\"cells\": {\"fill\": {\"color\": \"#EBF0F8\"}, \"line\": {\"color\": \"white\"}}, \"header\": {\"fill\": {\"color\": \"#C8D4E3\"}, \"line\": {\"color\": \"white\"}}, \"type\": \"table\"}]}, \"layout\": {\"annotationdefaults\": {\"arrowcolor\": \"#2a3f5f\", \"arrowhead\": 0, \"arrowwidth\": 1}, \"coloraxis\": {\"colorbar\": {\"outlinewidth\": 0, \"ticks\": \"\"}}, \"colorscale\": {\"diverging\": [[0, \"#8e0152\"], [0.1, \"#c51b7d\"], [0.2, \"#de77ae\"], [0.3, \"#f1b6da\"], [0.4, \"#fde0ef\"], [0.5, \"#f7f7f7\"], [0.6, \"#e6f5d0\"], [0.7, \"#b8e186\"], [0.8, \"#7fbc41\"], [0.9, \"#4d9221\"], [1, \"#276419\"]], \"sequential\": [[0.0, \"#0d0887\"], [0.1111111111111111, \"#46039f\"], [0.2222222222222222, \"#7201a8\"], [0.3333333333333333, \"#9c179e\"], [0.4444444444444444, \"#bd3786\"], [0.5555555555555556, \"#d8576b\"], [0.6666666666666666, \"#ed7953\"], [0.7777777777777778, \"#fb9f3a\"], [0.8888888888888888, \"#fdca26\"], [1.0, \"#f0f921\"]], \"sequentialminus\": [[0.0, \"#0d0887\"], [0.1111111111111111, \"#46039f\"], [0.2222222222222222, \"#7201a8\"], [0.3333333333333333, \"#9c179e\"], [0.4444444444444444, \"#bd3786\"], [0.5555555555555556, \"#d8576b\"], [0.6666666666666666, \"#ed7953\"], [0.7777777777777778, \"#fb9f3a\"], [0.8888888888888888, \"#fdca26\"], [1.0, \"#f0f921\"]]}, \"colorway\": [\"#636efa\", \"#EF553B\", \"#00cc96\", \"#ab63fa\", \"#FFA15A\", \"#19d3f3\", \"#FF6692\", \"#B6E880\", \"#FF97FF\", \"#FECB52\"], \"font\": {\"color\": \"#2a3f5f\"}, \"geo\": {\"bgcolor\": \"white\", \"lakecolor\": \"white\", \"landcolor\": \"#E5ECF6\", \"showlakes\": true, \"showland\": true, \"subunitcolor\": \"white\"}, \"hoverlabel\": {\"align\": \"left\"}, \"hovermode\": \"closest\", \"mapbox\": {\"style\": \"light\"}, \"paper_bgcolor\": \"white\", \"plot_bgcolor\": \"#E5ECF6\", \"polar\": {\"angularaxis\": {\"gridcolor\": \"white\", \"linecolor\": \"white\", \"ticks\": \"\"}, \"bgcolor\": \"#E5ECF6\", \"radialaxis\": {\"gridcolor\": \"white\", \"linecolor\": \"white\", \"ticks\": \"\"}}, \"scene\": {\"xaxis\": {\"backgroundcolor\": \"#E5ECF6\", \"gridcolor\": \"white\", \"gridwidth\": 2, \"linecolor\": \"white\", \"showbackground\": true, \"ticks\": \"\", \"zerolinecolor\": \"white\"}, \"yaxis\": {\"backgroundcolor\": \"#E5ECF6\", \"gridcolor\": \"white\", \"gridwidth\": 2, \"linecolor\": \"white\", \"showbackground\": true, \"ticks\": \"\", \"zerolinecolor\": \"white\"}, \"zaxis\": {\"backgroundcolor\": \"#E5ECF6\", \"gridcolor\": \"white\", \"gridwidth\": 2, \"linecolor\": \"white\", \"showbackground\": true, \"ticks\": \"\", \"zerolinecolor\": \"white\"}}, \"shapedefaults\": {\"line\": {\"color\": \"#2a3f5f\"}}, \"ternary\": {\"aaxis\": {\"gridcolor\": \"white\", \"linecolor\": \"white\", \"ticks\": \"\"}, \"baxis\": {\"gridcolor\": \"white\", \"linecolor\": \"white\", \"ticks\": \"\"}, \"bgcolor\": \"#E5ECF6\", \"caxis\": {\"gridcolor\": \"white\", \"linecolor\": \"white\", \"ticks\": \"\"}}, \"title\": {\"x\": 0.05}, \"xaxis\": {\"automargin\": true, \"gridcolor\": \"white\", \"linecolor\": \"white\", \"ticks\": \"\", \"title\": {\"standoff\": 15}, \"zerolinecolor\": \"white\", \"zerolinewidth\": 2}, \"yaxis\": {\"automargin\": true, \"gridcolor\": \"white\", \"linecolor\": \"white\", \"ticks\": \"\", \"title\": {\"standoff\": 15}, \"zerolinecolor\": \"white\", \"zerolinewidth\": 2}}}, \"title\": {\"font\": {\"color\": \"#ffffff\", \"family\": \"Playfair Display\", \"size\": 20}, \"text\": \"<b>Death Cases Timeline<b>\", \"x\": 0.5, \"xanchor\": \"center\", \"y\": 0.96, \"yanchor\": \"top\"}, \"xaxis\": {\"gridcolor\": \"#272e3e\", \"gridwidth\": 0.1, \"linecolor\": \"#272e3e\", \"showline\": true, \"tickformat\": \"%b %d\", \"zeroline\": false}, \"yaxis\": {\"gridcolor\": \"#272e3e\", \"gridwidth\": 0.1, \"linecolor\": \"#272e3e\", \"showline\": true, \"tickmode\": \"array\", \"ticktext\": [\"0\", \"50\", \"100\", \"150\", \"200\", \"250\", \"300\", \"350\", \"400\", \"450\"], \"tickvals\": [0, 50, 100, 150, 200, 250, 300, 350, 400, 450], \"title\": {\"text\": \"Total Death Case Number\"}, \"zeroline\": false}},\n",
       "                        {\"responsive\": true}\n",
       "                    ).then(function(){\n",
       "                            \n",
       "var gd = document.getElementById('bbb03656-78a1-4428-afee-40ce54be5140');\n",
       "var x = new MutationObserver(function (mutations, observer) {{\n",
       "        var display = window.getComputedStyle(gd).display;\n",
       "        if (!display || display === 'none') {{\n",
       "            console.log([gd, 'removed!']);\n",
       "            Plotly.purge(gd);\n",
       "            observer.disconnect();\n",
       "        }}\n",
       "}});\n",
       "\n",
       "// Listen for the removal of the full notebook cells\n",
       "var notebookContainer = gd.closest('#notebook-container');\n",
       "if (notebookContainer) {{\n",
       "    x.observe(notebookContainer, {childList: true});\n",
       "}}\n",
       "\n",
       "// Listen for the clearing of the current output cell\n",
       "var outputEl = gd.closest('.output');\n",
       "if (outputEl) {{\n",
       "    x.observe(outputEl, {childList: true});\n",
       "}}\n",
       "\n",
       "                        })\n",
       "                };\n",
       "                });\n",
       "            </script>\n",
       "        </div>"
      ]
     },
     "metadata": {},
     "output_type": "display_data"
    }
   ],
   "source": [
    "# Line plot for deaths cases\n",
    "# Set up tick scale based on confirmed case number\n",
    "tickList = list(np.arange(0, df_deaths['Mainland China'].max()+100, 50))\n",
    "\n",
    "# Create empty figure canvas\n",
    "fig_deaths = go.Figure()\n",
    "# Add trace to the figure\n",
    "fig_deaths.add_trace(go.Scatter(x=df_deaths['Date']+timedelta(hours=16), y=df_deaths['Mainland China'],\n",
    "                         mode='lines+markers',\n",
    "                         name='Mainland China',\n",
    "                         line=dict(color='#626262', width=2),\n",
    "                         marker=dict(size=8),\n",
    "                         text=[datetime.strftime(d+timedelta(hours=16), '%b %d %Y AEDT') for d in df_deaths['Date']],\n",
    "                         hovertemplate='<b>%{text}</b><br></br>'+\n",
    "                                       'Mainland China death<br>'+\n",
    "                                       '%{y} cases<br>'+\n",
    "                                       '<extra></extra>'))\n",
    "fig_deaths.add_trace(go.Scatter(x=df_deaths['Date']+timedelta(hours=16), y=df_deaths['Other locations'],\n",
    "                         mode='lines+markers',\n",
    "                         name='Other Region',\n",
    "                         line=dict(color='#a7a7a7', width=2),\n",
    "                         marker=dict(size=8),\n",
    "                         text=[datetime.strftime(d+timedelta(hours=16), '%b %d %Y AEDT') for d in df_deaths['Date']],\n",
    "                         hovertemplate='<b>%{text}</b><br></br>'+\n",
    "                                       'Other region death<br>'+\n",
    "                                       '%{y} cases<br>'+\n",
    "                                       '<extra></extra>'))\n",
    "# Customise layout\n",
    "fig_deaths.update_layout(\n",
    "    title=dict(\n",
    "        text=\"<b>Death Cases Timeline<b>\",\n",
    "        y=0.96, x=0.5, xanchor='center', yanchor='top',\n",
    "        font=dict(size=20, color=\"#ffffff\", family=\"Playfair Display\")\n",
    "    ),\n",
    "    margin=go.layout.Margin(\n",
    "        l=5,\n",
    "        r=10,\n",
    "        b=10,\n",
    "        t=50,\n",
    "        pad=0\n",
    "    ),\n",
    "    yaxis=dict(\n",
    "        showline=True, linecolor='#272e3e',\n",
    "        zeroline=False,\n",
    "        gridcolor='#272e3e',\n",
    "        gridwidth = .1,\n",
    "        tickmode='array',\n",
    "        # Set tick range based on the maximum number\n",
    "        tickvals=tickList,\n",
    "        # Set tick label accordingly\n",
    "        ticktext=['{:.0f}'.format(i) for i in tickList]\n",
    "    ),\n",
    "    yaxis_title=\"Total Death Case Number\",\n",
    "    xaxis=dict(\n",
    "        showline=True, linecolor='#272e3e',\n",
    "        gridcolor='#272e3e',\n",
    "        gridwidth = .1,\n",
    "        zeroline=False\n",
    "    ),\n",
    "    xaxis_tickformat='%b %d',\n",
    "    hovermode = 'x',\n",
    "    legend_orientation=\"h\",\n",
    "    plot_bgcolor='#151920',\n",
    "    paper_bgcolor='#272e3e',\n",
    "    font=dict(color='#ffffff')\n",
    ")\n",
    "\n",
    "fig_deaths.show()"
   ]
  },
  {
   "cell_type": "code",
   "execution_count": 55,
   "metadata": {},
   "outputs": [
    {
     "data": {
      "application/vnd.plotly.v1+json": {
       "config": {
        "plotlyServerURL": "https://plot.ly"
       },
       "data": [
        {
         "hovertemplate": "<b>%{text}</b><br><br>%{hovertext}<br><extra></extra>",
         "hovertext": [
          "Comfirmed: 11177<br>Recovered: 295<br>Death: 350",
          "Comfirmed: 661<br>Recovered: 32<br>Death: 0",
          "Comfirmed: 632<br>Recovered: 15<br>Death: 0",
          "Comfirmed: 493<br>Recovered: 10<br>Death: 2",
          "Comfirmed: 463<br>Recovered: 16<br>Death: 0",
          "Comfirmed: 408<br>Recovered: 7<br>Death: 0",
          "Comfirmed: 333<br>Recovered: 12<br>Death: 0",
          "Comfirmed: 300<br>Recovered: 7<br>Death: 2",
          "Comfirmed: 236<br>Recovered: 7<br>Death: 0",
          "Comfirmed: 231<br>Recovered: 11<br>Death: 1",
          "Comfirmed: 230<br>Recovered: 6<br>Death: 0",
          "Comfirmed: 191<br>Recovered: 9<br>Death: 1",
          "Comfirmed: 193<br>Recovered: 10<br>Death: 1",
          "Comfirmed: 159<br>Recovered: 0<br>Death: 0",
          "Comfirmed: 116<br>Recovered: 0<br>Death: 0",
          "Comfirmed: 127<br>Recovered: 2<br>Death: 0",
          "Comfirmed: 113<br>Recovered: 3<br>Death: 1",
          "Comfirmed: 95<br>Recovered: 2<br>Death: 2",
          "Comfirmed: 105<br>Recovered: 3<br>Death: 0",
          "Comfirmed: 70<br>Recovered: 1<br>Death: 0",
          "Comfirmed: 71<br>Recovered: 4<br>Death: 1",
          "Comfirmed: 66<br>Recovered: 3<br>Death: 0",
          "Comfirmed: 48<br>Recovered: 1<br>Death: 0",
          "Comfirmed: 51<br>Recovered: 3<br>Death: 0",
          "Comfirmed: 38<br>Recovered: 2<br>Death: 0",
          "Comfirmed: 28<br>Recovered: 0<br>Death: 0",
          "Comfirmed: 27<br>Recovered: 1<br>Death: 0",
          "Comfirmed: 31<br>Recovered: 1<br>Death: 0",
          "Comfirmed: 21<br>Recovered: 0<br>Death: 0",
          "Comfirmed: 20<br>Recovered: 1<br>Death: 0",
          "Comfirmed: 19<br>Recovered: 5<br>Death: 0",
          "Comfirmed: 18<br>Recovered: 0<br>Death: 0",
          "Comfirmed: 15<br>Recovered: 0<br>Death: 0",
          "Comfirmed: 15<br>Recovered: 0<br>Death: 0",
          "Comfirmed: 10<br>Recovered: 0<br>Death: 0",
          "Comfirmed: 11<br>Recovered: 0<br>Death: 0",
          "Comfirmed: 10<br>Recovered: 0<br>Death: 0",
          "Comfirmed: 8<br>Recovered: 0<br>Death: 0",
          "Comfirmed: 8<br>Recovered: 0<br>Death: 0",
          "Comfirmed: 6<br>Recovered: 0<br>Death: 0",
          "Comfirmed: 6<br>Recovered: 1<br>Death: 0",
          "Comfirmed: 4<br>Recovered: 2<br>Death: 0",
          "Comfirmed: 4<br>Recovered: 0<br>Death: 0",
          "Comfirmed: 5<br>Recovered: 0<br>Death: 0",
          "Comfirmed: 3<br>Recovered: 0<br>Death: 0",
          "Comfirmed: 3<br>Recovered: 0<br>Death: 0",
          "Comfirmed: 4<br>Recovered: 0<br>Death: 0",
          "Comfirmed: 2<br>Recovered: 0<br>Death: 0",
          "Comfirmed: 2<br>Recovered: 0<br>Death: 1",
          "Comfirmed: 2<br>Recovered: 0<br>Death: 0",
          "Comfirmed: 2<br>Recovered: 0<br>Death: 0",
          "Comfirmed: 2<br>Recovered: 0<br>Death: 0",
          "Comfirmed: 1<br>Recovered: 0<br>Death: 0",
          "Comfirmed: 1<br>Recovered: 0<br>Death: 0",
          "Comfirmed: 1<br>Recovered: 0<br>Death: 0",
          "Comfirmed: 1<br>Recovered: 0<br>Death: 0",
          "Comfirmed: 2<br>Recovered: 0<br>Death: 0",
          "Comfirmed: 1<br>Recovered: 0<br>Death: 0",
          "Comfirmed: 1<br>Recovered: 0<br>Death: 0",
          "Comfirmed: 1<br>Recovered: 0<br>Death: 0",
          "Comfirmed: 1<br>Recovered: 0<br>Death: 0",
          "Comfirmed: 1<br>Recovered: 0<br>Death: 0",
          "Comfirmed: 1<br>Recovered: 0<br>Death: 0",
          "Comfirmed: 1<br>Recovered: 0<br>Death: 0",
          "Comfirmed: 1<br>Recovered: 0<br>Death: 0"
         ],
         "lat": [
          31.151725199999998,
          29.000000099999998,
          23.135769399999997,
          34.0000001,
          27.6662087,
          32,
          28,
          29.5585712,
          33.0000001,
          30.500000099999998,
          36.0000001,
          39.906217,
          31.225298499999997,
          26.5450001,
          36,
          24,
          39.0000001,
          48.000004700000005,
          25,
          40.9739116,
          19.2000001,
          37,
          39.1235635,
          38.0000001,
          27,
          37.3095528,
          43.2443242,
          42.9995032,
          41.7574769,
          34.9046568,
          18.7544594,
          1.340863,
          36.5581914,
          22.2793278,
          23.973937399999997,
          35.40709520000001,
          51.38762620000001,
          4.5693754,
          22.175760500000003,
          45.1562575,
          13.2904027,
          -33.8548157,
          -37.814217600000006,
          24.0002488,
          -27.468968199999996,
          50.000678,
          36.7014631,
          46.3144754,
          12.750348599999999,
          48.278378499999995,
          54.702354500000006,
          40.079660600000004,
          -34.928180499999996,
          13.5066394,
          55.001251,
          63.2467777,
          16.387698699999998,
          31.894343199999998,
          28.108392900000002,
          39.3262345,
          7.189522099999999,
          63.4352121,
          42.3788774,
          38.894893200000006,
          34.395342
         ],
         "lon": [
          112.87832220000001,
          119.9999999,
          113.19826880000001,
          113.9999999,
          111.74870630000001,
          117,
          116,
          106.5492822,
          119.9999999,
          102.4999999,
          118.9999999,
          116.3912757,
          121.4890497,
          117.84277800000001,
          109,
          109,
          116,
          127.99999199999999,
          102,
          122.3263915,
          109.5999999,
          112,
          117.1980785,
          101.9999999,
          107,
          105.9608553,
          114.32516640000001,
          125.9816054,
          87.1673842,
          136.6310496,
          100.624804,
          103.8303918,
          127.9408564,
          114.16281310000001,
          120.9820179,
          95.95211570000001,
          7.0015229,
          102.2656823,
          113.5514142,
          5.451582900000001,
          108.42651129999999,
          151.2164539,
          144.9631608,
          53.999482900000004,
          153.02349909999998,
          -86.000977,
          -118.75599740000001,
          11.0480288,
          122.7312101,
          46.166364200000004,
          -3.2765752999999997,
          -89.4337288,
          138.5999312,
          104.869423,
          -125.00244099999999,
          25.9209164,
          73.7305913,
          87.07813709999999,
          84.0917139,
          -4.838064900000001,
          79.95485740000001,
          14.829086300000002,
          -72.03236600000001,
          -77.0365529,
          -111.76327549999999
         ],
         "marker": {
          "color": "#ff1414",
          "size": [
           11177,
           661,
           632,
           493,
           463,
           408,
           333,
           300,
           236,
           231,
           230,
           191,
           193,
           159,
           116,
           127,
           113,
           95,
           105,
           70,
           71,
           66,
           48,
           51,
           38,
           28,
           27,
           31,
           21,
           20,
           19,
           18,
           15,
           15,
           10,
           11,
           10,
           8,
           8,
           6,
           6,
           4,
           4,
           5,
           3,
           3,
           4,
           2,
           2,
           2,
           2,
           2,
           1,
           1,
           1,
           1,
           2,
           1,
           1,
           1,
           1,
           1,
           1,
           1,
           1
          ],
          "sizemin": 2,
          "sizemode": "area",
          "sizeref": 13.97125
         },
         "mode": "markers",
         "text": [
          "Hubei, China",
          "Zhejiang, China",
          "Guangdong, China",
          "Henan, China",
          "Hunan, China",
          "Anhui, China",
          "Jiangxi, China",
          "Chongqing, China",
          "Jiangsu, China",
          "Sichuan, China",
          "Shandong, China",
          "Beijing, China",
          "Shanghai, China",
          "Fujian, China",
          "Shaanxi, China",
          "Guangxi, China",
          "Hebei, China",
          "Heilongjiang, China",
          "Yunnan, China",
          "Liaoning, China",
          "Hainan, China",
          "Shanxi, China",
          "Tianjin, China",
          "Gansu, China",
          "Guizhou, China",
          "Ningxia, China",
          "Inner Mongolia, China",
          "Jilin, China",
          "Xinjiang, China",
          "Japan",
          "Thailand",
          "Singapore",
          "South Korea",
          "Hong Kong",
          "Taiwan",
          "Qinghai, China",
          "Germany",
          "Malaysia",
          "Macau",
          "France",
          "Vietnam",
          "Sydney, Australia",
          "Melbourne, Australia",
          "United Arab Emirates",
          "Brisbane, Australia",
          "Ontario, Canada",
          "California, US",
          "Italy",
          "Philippines",
          "Russia",
          "UK",
          "Illinois, US",
          "Adelaide, Australia",
          "Cambodia",
          "British Columbia, Canada",
          "Finland",
          "India",
          "Tibet, China",
          "Nepal",
          "Spain",
          "Sri Lanka",
          "Sweden",
          "Massachusetts, US",
          "Washington, US",
          "Arizona, US"
         ],
         "type": "scattermapbox"
        }
       ],
       "layout": {
        "hovermode": "closest",
        "mapbox": {
         "accesstoken": "pk.eyJ1IjoicGxvdGx5bWFwYm94IiwiYSI6ImNqdnBvNDMyaTAxYzkzeW5ubWdpZ2VjbmMifQ.TXcBE-xg9BFdV2ocecc_7g",
         "bearing": 0,
         "center": {
          "lat": 29.53886,
          "lon": 173.304781
         },
         "pitch": 0,
         "style": "mapbox://styles/plotlymapbox/cjvprkf3t1kns1cqjxuxmwixz",
         "zoom": 2
        },
        "margin": {
         "b": 10,
         "l": 10,
         "pad": 40,
         "r": 10,
         "t": 50
        },
        "paper_bgcolor": "#272e3e",
        "plot_bgcolor": "#151920",
        "template": {
         "data": {
          "bar": [
           {
            "error_x": {
             "color": "#2a3f5f"
            },
            "error_y": {
             "color": "#2a3f5f"
            },
            "marker": {
             "line": {
              "color": "#E5ECF6",
              "width": 0.5
             }
            },
            "type": "bar"
           }
          ],
          "barpolar": [
           {
            "marker": {
             "line": {
              "color": "#E5ECF6",
              "width": 0.5
             }
            },
            "type": "barpolar"
           }
          ],
          "carpet": [
           {
            "aaxis": {
             "endlinecolor": "#2a3f5f",
             "gridcolor": "white",
             "linecolor": "white",
             "minorgridcolor": "white",
             "startlinecolor": "#2a3f5f"
            },
            "baxis": {
             "endlinecolor": "#2a3f5f",
             "gridcolor": "white",
             "linecolor": "white",
             "minorgridcolor": "white",
             "startlinecolor": "#2a3f5f"
            },
            "type": "carpet"
           }
          ],
          "choropleth": [
           {
            "colorbar": {
             "outlinewidth": 0,
             "ticks": ""
            },
            "type": "choropleth"
           }
          ],
          "contour": [
           {
            "colorbar": {
             "outlinewidth": 0,
             "ticks": ""
            },
            "colorscale": [
             [
              0,
              "#0d0887"
             ],
             [
              0.1111111111111111,
              "#46039f"
             ],
             [
              0.2222222222222222,
              "#7201a8"
             ],
             [
              0.3333333333333333,
              "#9c179e"
             ],
             [
              0.4444444444444444,
              "#bd3786"
             ],
             [
              0.5555555555555556,
              "#d8576b"
             ],
             [
              0.6666666666666666,
              "#ed7953"
             ],
             [
              0.7777777777777778,
              "#fb9f3a"
             ],
             [
              0.8888888888888888,
              "#fdca26"
             ],
             [
              1,
              "#f0f921"
             ]
            ],
            "type": "contour"
           }
          ],
          "contourcarpet": [
           {
            "colorbar": {
             "outlinewidth": 0,
             "ticks": ""
            },
            "type": "contourcarpet"
           }
          ],
          "heatmap": [
           {
            "colorbar": {
             "outlinewidth": 0,
             "ticks": ""
            },
            "colorscale": [
             [
              0,
              "#0d0887"
             ],
             [
              0.1111111111111111,
              "#46039f"
             ],
             [
              0.2222222222222222,
              "#7201a8"
             ],
             [
              0.3333333333333333,
              "#9c179e"
             ],
             [
              0.4444444444444444,
              "#bd3786"
             ],
             [
              0.5555555555555556,
              "#d8576b"
             ],
             [
              0.6666666666666666,
              "#ed7953"
             ],
             [
              0.7777777777777778,
              "#fb9f3a"
             ],
             [
              0.8888888888888888,
              "#fdca26"
             ],
             [
              1,
              "#f0f921"
             ]
            ],
            "type": "heatmap"
           }
          ],
          "heatmapgl": [
           {
            "colorbar": {
             "outlinewidth": 0,
             "ticks": ""
            },
            "colorscale": [
             [
              0,
              "#0d0887"
             ],
             [
              0.1111111111111111,
              "#46039f"
             ],
             [
              0.2222222222222222,
              "#7201a8"
             ],
             [
              0.3333333333333333,
              "#9c179e"
             ],
             [
              0.4444444444444444,
              "#bd3786"
             ],
             [
              0.5555555555555556,
              "#d8576b"
             ],
             [
              0.6666666666666666,
              "#ed7953"
             ],
             [
              0.7777777777777778,
              "#fb9f3a"
             ],
             [
              0.8888888888888888,
              "#fdca26"
             ],
             [
              1,
              "#f0f921"
             ]
            ],
            "type": "heatmapgl"
           }
          ],
          "histogram": [
           {
            "marker": {
             "colorbar": {
              "outlinewidth": 0,
              "ticks": ""
             }
            },
            "type": "histogram"
           }
          ],
          "histogram2d": [
           {
            "colorbar": {
             "outlinewidth": 0,
             "ticks": ""
            },
            "colorscale": [
             [
              0,
              "#0d0887"
             ],
             [
              0.1111111111111111,
              "#46039f"
             ],
             [
              0.2222222222222222,
              "#7201a8"
             ],
             [
              0.3333333333333333,
              "#9c179e"
             ],
             [
              0.4444444444444444,
              "#bd3786"
             ],
             [
              0.5555555555555556,
              "#d8576b"
             ],
             [
              0.6666666666666666,
              "#ed7953"
             ],
             [
              0.7777777777777778,
              "#fb9f3a"
             ],
             [
              0.8888888888888888,
              "#fdca26"
             ],
             [
              1,
              "#f0f921"
             ]
            ],
            "type": "histogram2d"
           }
          ],
          "histogram2dcontour": [
           {
            "colorbar": {
             "outlinewidth": 0,
             "ticks": ""
            },
            "colorscale": [
             [
              0,
              "#0d0887"
             ],
             [
              0.1111111111111111,
              "#46039f"
             ],
             [
              0.2222222222222222,
              "#7201a8"
             ],
             [
              0.3333333333333333,
              "#9c179e"
             ],
             [
              0.4444444444444444,
              "#bd3786"
             ],
             [
              0.5555555555555556,
              "#d8576b"
             ],
             [
              0.6666666666666666,
              "#ed7953"
             ],
             [
              0.7777777777777778,
              "#fb9f3a"
             ],
             [
              0.8888888888888888,
              "#fdca26"
             ],
             [
              1,
              "#f0f921"
             ]
            ],
            "type": "histogram2dcontour"
           }
          ],
          "mesh3d": [
           {
            "colorbar": {
             "outlinewidth": 0,
             "ticks": ""
            },
            "type": "mesh3d"
           }
          ],
          "parcoords": [
           {
            "line": {
             "colorbar": {
              "outlinewidth": 0,
              "ticks": ""
             }
            },
            "type": "parcoords"
           }
          ],
          "pie": [
           {
            "automargin": true,
            "type": "pie"
           }
          ],
          "scatter": [
           {
            "marker": {
             "colorbar": {
              "outlinewidth": 0,
              "ticks": ""
             }
            },
            "type": "scatter"
           }
          ],
          "scatter3d": [
           {
            "line": {
             "colorbar": {
              "outlinewidth": 0,
              "ticks": ""
             }
            },
            "marker": {
             "colorbar": {
              "outlinewidth": 0,
              "ticks": ""
             }
            },
            "type": "scatter3d"
           }
          ],
          "scattercarpet": [
           {
            "marker": {
             "colorbar": {
              "outlinewidth": 0,
              "ticks": ""
             }
            },
            "type": "scattercarpet"
           }
          ],
          "scattergeo": [
           {
            "marker": {
             "colorbar": {
              "outlinewidth": 0,
              "ticks": ""
             }
            },
            "type": "scattergeo"
           }
          ],
          "scattergl": [
           {
            "marker": {
             "colorbar": {
              "outlinewidth": 0,
              "ticks": ""
             }
            },
            "type": "scattergl"
           }
          ],
          "scattermapbox": [
           {
            "marker": {
             "colorbar": {
              "outlinewidth": 0,
              "ticks": ""
             }
            },
            "type": "scattermapbox"
           }
          ],
          "scatterpolar": [
           {
            "marker": {
             "colorbar": {
              "outlinewidth": 0,
              "ticks": ""
             }
            },
            "type": "scatterpolar"
           }
          ],
          "scatterpolargl": [
           {
            "marker": {
             "colorbar": {
              "outlinewidth": 0,
              "ticks": ""
             }
            },
            "type": "scatterpolargl"
           }
          ],
          "scatterternary": [
           {
            "marker": {
             "colorbar": {
              "outlinewidth": 0,
              "ticks": ""
             }
            },
            "type": "scatterternary"
           }
          ],
          "surface": [
           {
            "colorbar": {
             "outlinewidth": 0,
             "ticks": ""
            },
            "colorscale": [
             [
              0,
              "#0d0887"
             ],
             [
              0.1111111111111111,
              "#46039f"
             ],
             [
              0.2222222222222222,
              "#7201a8"
             ],
             [
              0.3333333333333333,
              "#9c179e"
             ],
             [
              0.4444444444444444,
              "#bd3786"
             ],
             [
              0.5555555555555556,
              "#d8576b"
             ],
             [
              0.6666666666666666,
              "#ed7953"
             ],
             [
              0.7777777777777778,
              "#fb9f3a"
             ],
             [
              0.8888888888888888,
              "#fdca26"
             ],
             [
              1,
              "#f0f921"
             ]
            ],
            "type": "surface"
           }
          ],
          "table": [
           {
            "cells": {
             "fill": {
              "color": "#EBF0F8"
             },
             "line": {
              "color": "white"
             }
            },
            "header": {
             "fill": {
              "color": "#C8D4E3"
             },
             "line": {
              "color": "white"
             }
            },
            "type": "table"
           }
          ]
         },
         "layout": {
          "annotationdefaults": {
           "arrowcolor": "#2a3f5f",
           "arrowhead": 0,
           "arrowwidth": 1
          },
          "coloraxis": {
           "colorbar": {
            "outlinewidth": 0,
            "ticks": ""
           }
          },
          "colorscale": {
           "diverging": [
            [
             0,
             "#8e0152"
            ],
            [
             0.1,
             "#c51b7d"
            ],
            [
             0.2,
             "#de77ae"
            ],
            [
             0.3,
             "#f1b6da"
            ],
            [
             0.4,
             "#fde0ef"
            ],
            [
             0.5,
             "#f7f7f7"
            ],
            [
             0.6,
             "#e6f5d0"
            ],
            [
             0.7,
             "#b8e186"
            ],
            [
             0.8,
             "#7fbc41"
            ],
            [
             0.9,
             "#4d9221"
            ],
            [
             1,
             "#276419"
            ]
           ],
           "sequential": [
            [
             0,
             "#0d0887"
            ],
            [
             0.1111111111111111,
             "#46039f"
            ],
            [
             0.2222222222222222,
             "#7201a8"
            ],
            [
             0.3333333333333333,
             "#9c179e"
            ],
            [
             0.4444444444444444,
             "#bd3786"
            ],
            [
             0.5555555555555556,
             "#d8576b"
            ],
            [
             0.6666666666666666,
             "#ed7953"
            ],
            [
             0.7777777777777778,
             "#fb9f3a"
            ],
            [
             0.8888888888888888,
             "#fdca26"
            ],
            [
             1,
             "#f0f921"
            ]
           ],
           "sequentialminus": [
            [
             0,
             "#0d0887"
            ],
            [
             0.1111111111111111,
             "#46039f"
            ],
            [
             0.2222222222222222,
             "#7201a8"
            ],
            [
             0.3333333333333333,
             "#9c179e"
            ],
            [
             0.4444444444444444,
             "#bd3786"
            ],
            [
             0.5555555555555556,
             "#d8576b"
            ],
            [
             0.6666666666666666,
             "#ed7953"
            ],
            [
             0.7777777777777778,
             "#fb9f3a"
            ],
            [
             0.8888888888888888,
             "#fdca26"
            ],
            [
             1,
             "#f0f921"
            ]
           ]
          },
          "colorway": [
           "#636efa",
           "#EF553B",
           "#00cc96",
           "#ab63fa",
           "#FFA15A",
           "#19d3f3",
           "#FF6692",
           "#B6E880",
           "#FF97FF",
           "#FECB52"
          ],
          "font": {
           "color": "#2a3f5f"
          },
          "geo": {
           "bgcolor": "white",
           "lakecolor": "white",
           "landcolor": "#E5ECF6",
           "showlakes": true,
           "showland": true,
           "subunitcolor": "white"
          },
          "hoverlabel": {
           "align": "left"
          },
          "hovermode": "closest",
          "mapbox": {
           "style": "light"
          },
          "paper_bgcolor": "white",
          "plot_bgcolor": "#E5ECF6",
          "polar": {
           "angularaxis": {
            "gridcolor": "white",
            "linecolor": "white",
            "ticks": ""
           },
           "bgcolor": "#E5ECF6",
           "radialaxis": {
            "gridcolor": "white",
            "linecolor": "white",
            "ticks": ""
           }
          },
          "scene": {
           "xaxis": {
            "backgroundcolor": "#E5ECF6",
            "gridcolor": "white",
            "gridwidth": 2,
            "linecolor": "white",
            "showbackground": true,
            "ticks": "",
            "zerolinecolor": "white"
           },
           "yaxis": {
            "backgroundcolor": "#E5ECF6",
            "gridcolor": "white",
            "gridwidth": 2,
            "linecolor": "white",
            "showbackground": true,
            "ticks": "",
            "zerolinecolor": "white"
           },
           "zaxis": {
            "backgroundcolor": "#E5ECF6",
            "gridcolor": "white",
            "gridwidth": 2,
            "linecolor": "white",
            "showbackground": true,
            "ticks": "",
            "zerolinecolor": "white"
           }
          },
          "shapedefaults": {
           "line": {
            "color": "#2a3f5f"
           }
          },
          "ternary": {
           "aaxis": {
            "gridcolor": "white",
            "linecolor": "white",
            "ticks": ""
           },
           "baxis": {
            "gridcolor": "white",
            "linecolor": "white",
            "ticks": ""
           },
           "bgcolor": "#E5ECF6",
           "caxis": {
            "gridcolor": "white",
            "linecolor": "white",
            "ticks": ""
           }
          },
          "title": {
           "x": 0.05
          },
          "xaxis": {
           "automargin": true,
           "gridcolor": "white",
           "linecolor": "white",
           "ticks": "",
           "title": {
            "standoff": 15
           },
           "zerolinecolor": "white",
           "zerolinewidth": 2
          },
          "yaxis": {
           "automargin": true,
           "gridcolor": "white",
           "linecolor": "white",
           "ticks": "",
           "title": {
            "standoff": 15
           },
           "zerolinecolor": "white",
           "zerolinewidth": 2
          }
         }
        },
        "title": {
         "font": {
          "color": "#ffffff",
          "family": "Playfair Display",
          "size": 20
         },
         "text": "<b>Latest Coronavirus Outbreak Map<b>",
         "x": 0.5,
         "xanchor": "center",
         "y": 0.96,
         "yanchor": "top"
        }
       }
      },
      "text/html": [
       "<div>\n",
       "        \n",
       "        \n",
       "            <div id=\"6404dbe7-0ba5-4d13-8d9b-6d5152b38f6f\" class=\"plotly-graph-div\" style=\"height:525px; width:100%;\"></div>\n",
       "            <script type=\"text/javascript\">\n",
       "                require([\"plotly\"], function(Plotly) {\n",
       "                    window.PLOTLYENV=window.PLOTLYENV || {};\n",
       "                    \n",
       "                if (document.getElementById(\"6404dbe7-0ba5-4d13-8d9b-6d5152b38f6f\")) {\n",
       "                    Plotly.newPlot(\n",
       "                        '6404dbe7-0ba5-4d13-8d9b-6d5152b38f6f',\n",
       "                        [{\"hovertemplate\": \"<b>%{text}</b><br><br>%{hovertext}<br><extra></extra>\", \"hovertext\": [\"Comfirmed: 11177<br>Recovered: 295<br>Death: 350\", \"Comfirmed: 661<br>Recovered: 32<br>Death: 0\", \"Comfirmed: 632<br>Recovered: 15<br>Death: 0\", \"Comfirmed: 493<br>Recovered: 10<br>Death: 2\", \"Comfirmed: 463<br>Recovered: 16<br>Death: 0\", \"Comfirmed: 408<br>Recovered: 7<br>Death: 0\", \"Comfirmed: 333<br>Recovered: 12<br>Death: 0\", \"Comfirmed: 300<br>Recovered: 7<br>Death: 2\", \"Comfirmed: 236<br>Recovered: 7<br>Death: 0\", \"Comfirmed: 231<br>Recovered: 11<br>Death: 1\", \"Comfirmed: 230<br>Recovered: 6<br>Death: 0\", \"Comfirmed: 191<br>Recovered: 9<br>Death: 1\", \"Comfirmed: 193<br>Recovered: 10<br>Death: 1\", \"Comfirmed: 159<br>Recovered: 0<br>Death: 0\", \"Comfirmed: 116<br>Recovered: 0<br>Death: 0\", \"Comfirmed: 127<br>Recovered: 2<br>Death: 0\", \"Comfirmed: 113<br>Recovered: 3<br>Death: 1\", \"Comfirmed: 95<br>Recovered: 2<br>Death: 2\", \"Comfirmed: 105<br>Recovered: 3<br>Death: 0\", \"Comfirmed: 70<br>Recovered: 1<br>Death: 0\", \"Comfirmed: 71<br>Recovered: 4<br>Death: 1\", \"Comfirmed: 66<br>Recovered: 3<br>Death: 0\", \"Comfirmed: 48<br>Recovered: 1<br>Death: 0\", \"Comfirmed: 51<br>Recovered: 3<br>Death: 0\", \"Comfirmed: 38<br>Recovered: 2<br>Death: 0\", \"Comfirmed: 28<br>Recovered: 0<br>Death: 0\", \"Comfirmed: 27<br>Recovered: 1<br>Death: 0\", \"Comfirmed: 31<br>Recovered: 1<br>Death: 0\", \"Comfirmed: 21<br>Recovered: 0<br>Death: 0\", \"Comfirmed: 20<br>Recovered: 1<br>Death: 0\", \"Comfirmed: 19<br>Recovered: 5<br>Death: 0\", \"Comfirmed: 18<br>Recovered: 0<br>Death: 0\", \"Comfirmed: 15<br>Recovered: 0<br>Death: 0\", \"Comfirmed: 15<br>Recovered: 0<br>Death: 0\", \"Comfirmed: 10<br>Recovered: 0<br>Death: 0\", \"Comfirmed: 11<br>Recovered: 0<br>Death: 0\", \"Comfirmed: 10<br>Recovered: 0<br>Death: 0\", \"Comfirmed: 8<br>Recovered: 0<br>Death: 0\", \"Comfirmed: 8<br>Recovered: 0<br>Death: 0\", \"Comfirmed: 6<br>Recovered: 0<br>Death: 0\", \"Comfirmed: 6<br>Recovered: 1<br>Death: 0\", \"Comfirmed: 4<br>Recovered: 2<br>Death: 0\", \"Comfirmed: 4<br>Recovered: 0<br>Death: 0\", \"Comfirmed: 5<br>Recovered: 0<br>Death: 0\", \"Comfirmed: 3<br>Recovered: 0<br>Death: 0\", \"Comfirmed: 3<br>Recovered: 0<br>Death: 0\", \"Comfirmed: 4<br>Recovered: 0<br>Death: 0\", \"Comfirmed: 2<br>Recovered: 0<br>Death: 0\", \"Comfirmed: 2<br>Recovered: 0<br>Death: 1\", \"Comfirmed: 2<br>Recovered: 0<br>Death: 0\", \"Comfirmed: 2<br>Recovered: 0<br>Death: 0\", \"Comfirmed: 2<br>Recovered: 0<br>Death: 0\", \"Comfirmed: 1<br>Recovered: 0<br>Death: 0\", \"Comfirmed: 1<br>Recovered: 0<br>Death: 0\", \"Comfirmed: 1<br>Recovered: 0<br>Death: 0\", \"Comfirmed: 1<br>Recovered: 0<br>Death: 0\", \"Comfirmed: 2<br>Recovered: 0<br>Death: 0\", \"Comfirmed: 1<br>Recovered: 0<br>Death: 0\", \"Comfirmed: 1<br>Recovered: 0<br>Death: 0\", \"Comfirmed: 1<br>Recovered: 0<br>Death: 0\", \"Comfirmed: 1<br>Recovered: 0<br>Death: 0\", \"Comfirmed: 1<br>Recovered: 0<br>Death: 0\", \"Comfirmed: 1<br>Recovered: 0<br>Death: 0\", \"Comfirmed: 1<br>Recovered: 0<br>Death: 0\", \"Comfirmed: 1<br>Recovered: 0<br>Death: 0\"], \"lat\": [31.151725199999998, 29.000000099999998, 23.135769399999997, 34.0000001, 27.6662087, 32.0, 28.0, 29.5585712, 33.0000001, 30.500000099999998, 36.0000001, 39.906217, 31.225298499999997, 26.5450001, 36.0, 24.0, 39.0000001, 48.000004700000005, 25.0, 40.9739116, 19.2000001, 37.0, 39.1235635, 38.0000001, 27.0, 37.3095528, 43.2443242, 42.9995032, 41.7574769, 34.9046568, 18.7544594, 1.340863, 36.5581914, 22.2793278, 23.973937399999997, 35.40709520000001, 51.38762620000001, 4.5693754, 22.175760500000003, 45.1562575, 13.2904027, -33.8548157, -37.814217600000006, 24.0002488, -27.468968199999996, 50.000678, 36.7014631, 46.3144754, 12.750348599999999, 48.278378499999995, 54.702354500000006, 40.079660600000004, -34.928180499999996, 13.5066394, 55.001251, 63.2467777, 16.387698699999998, 31.894343199999998, 28.108392900000002, 39.3262345, 7.189522099999999, 63.4352121, 42.3788774, 38.894893200000006, 34.395342], \"lon\": [112.87832220000001, 119.9999999, 113.19826880000001, 113.9999999, 111.74870630000001, 117.0, 116.0, 106.5492822, 119.9999999, 102.4999999, 118.9999999, 116.3912757, 121.4890497, 117.84277800000001, 109.0, 109.0, 116.0, 127.99999199999999, 102.0, 122.3263915, 109.5999999, 112.0, 117.1980785, 101.9999999, 107.0, 105.9608553, 114.32516640000001, 125.9816054, 87.1673842, 136.6310496, 100.624804, 103.8303918, 127.9408564, 114.16281310000001, 120.9820179, 95.95211570000001, 7.0015229, 102.2656823, 113.5514142, 5.451582900000001, 108.42651129999999, 151.2164539, 144.9631608, 53.999482900000004, 153.02349909999998, -86.000977, -118.75599740000001, 11.0480288, 122.7312101, 46.166364200000004, -3.2765752999999997, -89.4337288, 138.5999312, 104.869423, -125.00244099999999, 25.9209164, 73.7305913, 87.07813709999999, 84.0917139, -4.838064900000001, 79.95485740000001, 14.829086300000002, -72.03236600000001, -77.0365529, -111.76327549999999], \"marker\": {\"color\": \"#ff1414\", \"size\": [11177, 661, 632, 493, 463, 408, 333, 300, 236, 231, 230, 191, 193, 159, 116, 127, 113, 95, 105, 70, 71, 66, 48, 51, 38, 28, 27, 31, 21, 20, 19, 18, 15, 15, 10, 11, 10, 8, 8, 6, 6, 4, 4, 5, 3, 3, 4, 2, 2, 2, 2, 2, 1, 1, 1, 1, 2, 1, 1, 1, 1, 1, 1, 1, 1], \"sizemin\": 2, \"sizemode\": \"area\", \"sizeref\": 13.97125}, \"mode\": \"markers\", \"text\": [\"Hubei, China\", \"Zhejiang, China\", \"Guangdong, China\", \"Henan, China\", \"Hunan, China\", \"Anhui, China\", \"Jiangxi, China\", \"Chongqing, China\", \"Jiangsu, China\", \"Sichuan, China\", \"Shandong, China\", \"Beijing, China\", \"Shanghai, China\", \"Fujian, China\", \"Shaanxi, China\", \"Guangxi, China\", \"Hebei, China\", \"Heilongjiang, China\", \"Yunnan, China\", \"Liaoning, China\", \"Hainan, China\", \"Shanxi, China\", \"Tianjin, China\", \"Gansu, China\", \"Guizhou, China\", \"Ningxia, China\", \"Inner Mongolia, China\", \"Jilin, China\", \"Xinjiang, China\", \"Japan\", \"Thailand\", \"Singapore\", \"South Korea\", \"Hong Kong\", \"Taiwan\", \"Qinghai, China\", \"Germany\", \"Malaysia\", \"Macau\", \"France\", \"Vietnam\", \"Sydney, Australia\", \"Melbourne, Australia\", \"United Arab Emirates\", \"Brisbane, Australia\", \"Ontario, Canada\", \"California, US\", \"Italy\", \"Philippines\", \"Russia\", \"UK\", \"Illinois, US\", \"Adelaide, Australia\", \"Cambodia\", \"British Columbia, Canada\", \"Finland\", \"India\", \"Tibet, China\", \"Nepal\", \"Spain\", \"Sri Lanka\", \"Sweden\", \"Massachusetts, US\", \"Washington, US\", \"Arizona, US\"], \"type\": \"scattermapbox\"}],\n",
       "                        {\"hovermode\": \"closest\", \"mapbox\": {\"accesstoken\": \"pk.eyJ1IjoicGxvdGx5bWFwYm94IiwiYSI6ImNqdnBvNDMyaTAxYzkzeW5ubWdpZ2VjbmMifQ.TXcBE-xg9BFdV2ocecc_7g\", \"bearing\": 0, \"center\": {\"lat\": 29.53886, \"lon\": 173.304781}, \"pitch\": 0, \"style\": \"mapbox://styles/plotlymapbox/cjvprkf3t1kns1cqjxuxmwixz\", \"zoom\": 2}, \"margin\": {\"b\": 10, \"l\": 10, \"pad\": 40, \"r\": 10, \"t\": 50}, \"paper_bgcolor\": \"#272e3e\", \"plot_bgcolor\": \"#151920\", \"template\": {\"data\": {\"bar\": [{\"error_x\": {\"color\": \"#2a3f5f\"}, \"error_y\": {\"color\": \"#2a3f5f\"}, \"marker\": {\"line\": {\"color\": \"#E5ECF6\", \"width\": 0.5}}, \"type\": \"bar\"}], \"barpolar\": [{\"marker\": {\"line\": {\"color\": \"#E5ECF6\", \"width\": 0.5}}, \"type\": \"barpolar\"}], \"carpet\": [{\"aaxis\": {\"endlinecolor\": \"#2a3f5f\", \"gridcolor\": \"white\", \"linecolor\": \"white\", \"minorgridcolor\": \"white\", \"startlinecolor\": \"#2a3f5f\"}, \"baxis\": {\"endlinecolor\": \"#2a3f5f\", \"gridcolor\": \"white\", \"linecolor\": \"white\", \"minorgridcolor\": \"white\", \"startlinecolor\": \"#2a3f5f\"}, \"type\": \"carpet\"}], \"choropleth\": [{\"colorbar\": {\"outlinewidth\": 0, \"ticks\": \"\"}, \"type\": \"choropleth\"}], \"contour\": [{\"colorbar\": {\"outlinewidth\": 0, \"ticks\": \"\"}, \"colorscale\": [[0.0, \"#0d0887\"], [0.1111111111111111, \"#46039f\"], [0.2222222222222222, \"#7201a8\"], [0.3333333333333333, \"#9c179e\"], [0.4444444444444444, \"#bd3786\"], [0.5555555555555556, \"#d8576b\"], [0.6666666666666666, \"#ed7953\"], [0.7777777777777778, \"#fb9f3a\"], [0.8888888888888888, \"#fdca26\"], [1.0, \"#f0f921\"]], \"type\": \"contour\"}], \"contourcarpet\": [{\"colorbar\": {\"outlinewidth\": 0, \"ticks\": \"\"}, \"type\": \"contourcarpet\"}], \"heatmap\": [{\"colorbar\": {\"outlinewidth\": 0, \"ticks\": \"\"}, \"colorscale\": [[0.0, \"#0d0887\"], [0.1111111111111111, \"#46039f\"], [0.2222222222222222, \"#7201a8\"], [0.3333333333333333, \"#9c179e\"], [0.4444444444444444, \"#bd3786\"], [0.5555555555555556, \"#d8576b\"], [0.6666666666666666, \"#ed7953\"], [0.7777777777777778, \"#fb9f3a\"], [0.8888888888888888, \"#fdca26\"], [1.0, \"#f0f921\"]], \"type\": \"heatmap\"}], \"heatmapgl\": [{\"colorbar\": {\"outlinewidth\": 0, \"ticks\": \"\"}, \"colorscale\": [[0.0, \"#0d0887\"], [0.1111111111111111, \"#46039f\"], [0.2222222222222222, \"#7201a8\"], [0.3333333333333333, \"#9c179e\"], [0.4444444444444444, \"#bd3786\"], [0.5555555555555556, \"#d8576b\"], [0.6666666666666666, \"#ed7953\"], [0.7777777777777778, \"#fb9f3a\"], [0.8888888888888888, \"#fdca26\"], [1.0, \"#f0f921\"]], \"type\": \"heatmapgl\"}], \"histogram\": [{\"marker\": {\"colorbar\": {\"outlinewidth\": 0, \"ticks\": \"\"}}, \"type\": \"histogram\"}], \"histogram2d\": [{\"colorbar\": {\"outlinewidth\": 0, \"ticks\": \"\"}, \"colorscale\": [[0.0, \"#0d0887\"], [0.1111111111111111, \"#46039f\"], [0.2222222222222222, \"#7201a8\"], [0.3333333333333333, \"#9c179e\"], [0.4444444444444444, \"#bd3786\"], [0.5555555555555556, \"#d8576b\"], [0.6666666666666666, \"#ed7953\"], [0.7777777777777778, \"#fb9f3a\"], [0.8888888888888888, \"#fdca26\"], [1.0, \"#f0f921\"]], \"type\": \"histogram2d\"}], \"histogram2dcontour\": [{\"colorbar\": {\"outlinewidth\": 0, \"ticks\": \"\"}, \"colorscale\": [[0.0, \"#0d0887\"], [0.1111111111111111, \"#46039f\"], [0.2222222222222222, \"#7201a8\"], [0.3333333333333333, \"#9c179e\"], [0.4444444444444444, \"#bd3786\"], [0.5555555555555556, \"#d8576b\"], [0.6666666666666666, \"#ed7953\"], [0.7777777777777778, \"#fb9f3a\"], [0.8888888888888888, \"#fdca26\"], [1.0, \"#f0f921\"]], \"type\": \"histogram2dcontour\"}], \"mesh3d\": [{\"colorbar\": {\"outlinewidth\": 0, \"ticks\": \"\"}, \"type\": \"mesh3d\"}], \"parcoords\": [{\"line\": {\"colorbar\": {\"outlinewidth\": 0, \"ticks\": \"\"}}, \"type\": \"parcoords\"}], \"pie\": [{\"automargin\": true, \"type\": \"pie\"}], \"scatter\": [{\"marker\": {\"colorbar\": {\"outlinewidth\": 0, \"ticks\": \"\"}}, \"type\": \"scatter\"}], \"scatter3d\": [{\"line\": {\"colorbar\": {\"outlinewidth\": 0, \"ticks\": \"\"}}, \"marker\": {\"colorbar\": {\"outlinewidth\": 0, \"ticks\": \"\"}}, \"type\": \"scatter3d\"}], \"scattercarpet\": [{\"marker\": {\"colorbar\": {\"outlinewidth\": 0, \"ticks\": \"\"}}, \"type\": \"scattercarpet\"}], \"scattergeo\": [{\"marker\": {\"colorbar\": {\"outlinewidth\": 0, \"ticks\": \"\"}}, \"type\": \"scattergeo\"}], \"scattergl\": [{\"marker\": {\"colorbar\": {\"outlinewidth\": 0, \"ticks\": \"\"}}, \"type\": \"scattergl\"}], \"scattermapbox\": [{\"marker\": {\"colorbar\": {\"outlinewidth\": 0, \"ticks\": \"\"}}, \"type\": \"scattermapbox\"}], \"scatterpolar\": [{\"marker\": {\"colorbar\": {\"outlinewidth\": 0, \"ticks\": \"\"}}, \"type\": \"scatterpolar\"}], \"scatterpolargl\": [{\"marker\": {\"colorbar\": {\"outlinewidth\": 0, \"ticks\": \"\"}}, \"type\": \"scatterpolargl\"}], \"scatterternary\": [{\"marker\": {\"colorbar\": {\"outlinewidth\": 0, \"ticks\": \"\"}}, \"type\": \"scatterternary\"}], \"surface\": [{\"colorbar\": {\"outlinewidth\": 0, \"ticks\": \"\"}, \"colorscale\": [[0.0, \"#0d0887\"], [0.1111111111111111, \"#46039f\"], [0.2222222222222222, \"#7201a8\"], [0.3333333333333333, \"#9c179e\"], [0.4444444444444444, \"#bd3786\"], [0.5555555555555556, \"#d8576b\"], [0.6666666666666666, \"#ed7953\"], [0.7777777777777778, \"#fb9f3a\"], [0.8888888888888888, \"#fdca26\"], [1.0, \"#f0f921\"]], \"type\": \"surface\"}], \"table\": [{\"cells\": {\"fill\": {\"color\": \"#EBF0F8\"}, \"line\": {\"color\": \"white\"}}, \"header\": {\"fill\": {\"color\": \"#C8D4E3\"}, \"line\": {\"color\": \"white\"}}, \"type\": \"table\"}]}, \"layout\": {\"annotationdefaults\": {\"arrowcolor\": \"#2a3f5f\", \"arrowhead\": 0, \"arrowwidth\": 1}, \"coloraxis\": {\"colorbar\": {\"outlinewidth\": 0, \"ticks\": \"\"}}, \"colorscale\": {\"diverging\": [[0, \"#8e0152\"], [0.1, \"#c51b7d\"], [0.2, \"#de77ae\"], [0.3, \"#f1b6da\"], [0.4, \"#fde0ef\"], [0.5, \"#f7f7f7\"], [0.6, \"#e6f5d0\"], [0.7, \"#b8e186\"], [0.8, \"#7fbc41\"], [0.9, \"#4d9221\"], [1, \"#276419\"]], \"sequential\": [[0.0, \"#0d0887\"], [0.1111111111111111, \"#46039f\"], [0.2222222222222222, \"#7201a8\"], [0.3333333333333333, \"#9c179e\"], [0.4444444444444444, \"#bd3786\"], [0.5555555555555556, \"#d8576b\"], [0.6666666666666666, \"#ed7953\"], [0.7777777777777778, \"#fb9f3a\"], [0.8888888888888888, \"#fdca26\"], [1.0, \"#f0f921\"]], \"sequentialminus\": [[0.0, \"#0d0887\"], [0.1111111111111111, \"#46039f\"], [0.2222222222222222, \"#7201a8\"], [0.3333333333333333, \"#9c179e\"], [0.4444444444444444, \"#bd3786\"], [0.5555555555555556, \"#d8576b\"], [0.6666666666666666, \"#ed7953\"], [0.7777777777777778, \"#fb9f3a\"], [0.8888888888888888, \"#fdca26\"], [1.0, \"#f0f921\"]]}, \"colorway\": [\"#636efa\", \"#EF553B\", \"#00cc96\", \"#ab63fa\", \"#FFA15A\", \"#19d3f3\", \"#FF6692\", \"#B6E880\", \"#FF97FF\", \"#FECB52\"], \"font\": {\"color\": \"#2a3f5f\"}, \"geo\": {\"bgcolor\": \"white\", \"lakecolor\": \"white\", \"landcolor\": \"#E5ECF6\", \"showlakes\": true, \"showland\": true, \"subunitcolor\": \"white\"}, \"hoverlabel\": {\"align\": \"left\"}, \"hovermode\": \"closest\", \"mapbox\": {\"style\": \"light\"}, \"paper_bgcolor\": \"white\", \"plot_bgcolor\": \"#E5ECF6\", \"polar\": {\"angularaxis\": {\"gridcolor\": \"white\", \"linecolor\": \"white\", \"ticks\": \"\"}, \"bgcolor\": \"#E5ECF6\", \"radialaxis\": {\"gridcolor\": \"white\", \"linecolor\": \"white\", \"ticks\": \"\"}}, \"scene\": {\"xaxis\": {\"backgroundcolor\": \"#E5ECF6\", \"gridcolor\": \"white\", \"gridwidth\": 2, \"linecolor\": \"white\", \"showbackground\": true, \"ticks\": \"\", \"zerolinecolor\": \"white\"}, \"yaxis\": {\"backgroundcolor\": \"#E5ECF6\", \"gridcolor\": \"white\", \"gridwidth\": 2, \"linecolor\": \"white\", \"showbackground\": true, \"ticks\": \"\", \"zerolinecolor\": \"white\"}, \"zaxis\": {\"backgroundcolor\": \"#E5ECF6\", \"gridcolor\": \"white\", \"gridwidth\": 2, \"linecolor\": \"white\", \"showbackground\": true, \"ticks\": \"\", \"zerolinecolor\": \"white\"}}, \"shapedefaults\": {\"line\": {\"color\": \"#2a3f5f\"}}, \"ternary\": {\"aaxis\": {\"gridcolor\": \"white\", \"linecolor\": \"white\", \"ticks\": \"\"}, \"baxis\": {\"gridcolor\": \"white\", \"linecolor\": \"white\", \"ticks\": \"\"}, \"bgcolor\": \"#E5ECF6\", \"caxis\": {\"gridcolor\": \"white\", \"linecolor\": \"white\", \"ticks\": \"\"}}, \"title\": {\"x\": 0.05}, \"xaxis\": {\"automargin\": true, \"gridcolor\": \"white\", \"linecolor\": \"white\", \"ticks\": \"\", \"title\": {\"standoff\": 15}, \"zerolinecolor\": \"white\", \"zerolinewidth\": 2}, \"yaxis\": {\"automargin\": true, \"gridcolor\": \"white\", \"linecolor\": \"white\", \"ticks\": \"\", \"title\": {\"standoff\": 15}, \"zerolinecolor\": \"white\", \"zerolinewidth\": 2}}}, \"title\": {\"font\": {\"color\": \"#ffffff\", \"family\": \"Playfair Display\", \"size\": 20}, \"text\": \"<b>Latest Coronavirus Outbreak Map<b>\", \"x\": 0.5, \"xanchor\": \"center\", \"y\": 0.96, \"yanchor\": \"top\"}},\n",
       "                        {\"responsive\": true}\n",
       "                    ).then(function(){\n",
       "                            \n",
       "var gd = document.getElementById('6404dbe7-0ba5-4d13-8d9b-6d5152b38f6f');\n",
       "var x = new MutationObserver(function (mutations, observer) {{\n",
       "        var display = window.getComputedStyle(gd).display;\n",
       "        if (!display || display === 'none') {{\n",
       "            console.log([gd, 'removed!']);\n",
       "            Plotly.purge(gd);\n",
       "            observer.disconnect();\n",
       "        }}\n",
       "}});\n",
       "\n",
       "// Listen for the removal of the full notebook cells\n",
       "var notebookContainer = gd.closest('#notebook-container');\n",
       "if (notebookContainer) {{\n",
       "    x.observe(notebookContainer, {childList: true});\n",
       "}}\n",
       "\n",
       "// Listen for the clearing of the current output cell\n",
       "var outputEl = gd.closest('.output');\n",
       "if (outputEl) {{\n",
       "    x.observe(outputEl, {childList: true});\n",
       "}}\n",
       "\n",
       "                        })\n",
       "                };\n",
       "                });\n",
       "            </script>\n",
       "        </div>"
      ]
     },
     "metadata": {},
     "output_type": "display_data"
    }
   ],
   "source": [
    "mapbox_access_token = \"pk.eyJ1IjoicGxvdGx5bWFwYm94IiwiYSI6ImNqdnBvNDMyaTAxYzkzeW5ubWdpZ2VjbmMifQ.TXcBE-xg9BFdV2ocecc_7g\"\n",
    "\n",
    "textList=[]\n",
    "for area, region in zip(dfs[keyList[0]]['Province/State'], dfs[keyList[0]]['Country/Region']):\n",
    "    \n",
    "    if type(area) is str:\n",
    "        if region == \"Hong Kong\" or region == \"Macau\" or region == \"Taiwan\":\n",
    "            textList.append(area)\n",
    "        else:\n",
    "            textList.append(area+', '+region)\n",
    "    else:\n",
    "        textList.append(region)\n",
    "\n",
    "fig2 = go.Figure(go.Scattermapbox(\n",
    "        lat=dfs[keyList[0]]['lat'],\n",
    "        lon=dfs[keyList[0]]['lon'],\n",
    "        mode='markers',\n",
    "        marker=go.scattermapbox.Marker(\n",
    "            color='#ff1414',\n",
    "            size=dfs[keyList[0]]['Confirmed'].tolist(), \n",
    "            sizemin=2,\n",
    "            sizemode='area',\n",
    "            sizeref=2.*max(dfs[keyList[0]]['Confirmed'].tolist())/(40.**2),\n",
    "        ),\n",
    "        text=textList,\n",
    "        hovertext=['Comfirmed: {}<br>Recovered: {}<br>Death: {}'.format(i, j, k) for i, j, k in zip(dfs[keyList[0]]['Confirmed'],\n",
    "                                                                                                    dfs[keyList[0]]['Recovered'],\n",
    "                                                                                                    dfs[keyList[0]]['Deaths'])],\n",
    "    \n",
    "        hovertemplate = \"<b>%{text}</b><br><br>\" +\n",
    "                        \"%{hovertext}<br>\" +\n",
    "                        \"<extra></extra>\")\n",
    "    \n",
    "        )\n",
    "\n",
    "fig2.update_layout(\n",
    "    title=dict(\n",
    "        text=\"<b>Latest Coronavirus Outbreak Map<b>\",\n",
    "        y=0.96, x=0.5, xanchor='center', yanchor='top',\n",
    "        font=dict(size=20, color=\"#ffffff\", family=\"Playfair Display\")\n",
    "    ),\n",
    "    plot_bgcolor='#151920',\n",
    "    paper_bgcolor='#272e3e',\n",
    "    margin=go.layout.Margin(\n",
    "        l=10,\n",
    "        r=10,\n",
    "        b=10,\n",
    "        t=50,\n",
    "        pad=40\n",
    "    ),\n",
    "    hovermode='closest',\n",
    "    mapbox=go.layout.Mapbox(\n",
    "        accesstoken=mapbox_access_token,\n",
    "        style=\"mapbox://styles/plotlymapbox/cjvprkf3t1kns1cqjxuxmwixz\",\n",
    "        bearing=0,\n",
    "        center=go.layout.mapbox.Center(\n",
    "            lat=29.538860, \n",
    "            lon=173.304781\n",
    "        ),\n",
    "        pitch=0,\n",
    "        zoom=2\n",
    "    )\n",
    ")\n",
    "\n",
    "fig2.show()"
   ]
  },
  {
   "cell_type": "code",
   "execution_count": 56,
   "metadata": {},
   "outputs": [],
   "source": [
    "import dash\n",
    "import dash_core_components as dcc\n",
    "import dash_html_components as html \n",
    "import dash_bootstrap_components as dbc"
   ]
  },
  {
   "cell_type": "code",
   "execution_count": 57,
   "metadata": {},
   "outputs": [],
   "source": [
    "app = dash.Dash(__name__, assets_folder='./assets/',\n",
    "                meta_tags=[\n",
    "                    {\"name\": \"viewport\", \"content\": \"width=device-width, height=device-height, initial-scale=1.0\"}\n",
    "    ])"
   ]
  },
  {
   "cell_type": "code",
   "execution_count": 68,
   "metadata": {},
   "outputs": [],
   "source": [
    "app.layout = html.Div(style={'backgroundColor':'#151920'},\n",
    "    children=[\n",
    "        html.Div(\n",
    "            id=\"header\",\n",
    "            children=[                          \n",
    "                html.H4(children=\"Wuhan Coronavirus (2019-nCoV) Outbreak Monitor\"),\n",
    "                html.P(\n",
    "                    id=\"description\",\n",
    "                    children=\"On Dec 31, 2019, the World Health Organization (WHO) was informed of \\\n",
    "                    an outbreak of “pneumonia of unknown cause” detected in Wuhan City, Hubei Province, China – the \\\n",
    "                    seventh-largest city in China with 11 million residents. As of {}, there are over {} cases \\\n",
    "                    of 2019-nCoV confirmed globally.\\\n",
    "                    This dash board is developed to visualise and track the recent reported \\\n",
    "                    cases on a daily timescale.\".format(latestDate, confirmedCases),\n",
    "                ),\n",
    "                html.P(style={'fontWeight':'bold'},\n",
    "                    children=\"Last updated on {}.\".format(latestDate))\n",
    "            ]        \n",
    "        ),\n",
    "        html.Div(\n",
    "            id=\"number-plate\",\n",
    "            style={'marginLeft':'1.5%','marginRight':'1.5%','marginBottom':'.5%'},\n",
    "                 children=[\n",
    "                     html.Div(\n",
    "                         style={'width':'24.4%','backgroundColor':'#272e3e','display':'inline-block','marginRight':'.8%'},\n",
    "                              children=[html.P(style={'textAlign':'center',\n",
    "                                                      'fontWeight':'bold','color':'#ffffbf','padding':'1rem'},\n",
    "                                               children=\"Days Since Outbreak\"),\n",
    "                                        html.H3(style={'textAlign':'center',\n",
    "                                                       'fontWeight':'bold','color':'#ffffbf'},\n",
    "                                               children='{}'.format(daysOutbreak))]),\n",
    "                     html.Div(style={'width':'24.4%','backgroundColor':'#272e3e','display':'inline-block','marginRight':'.8%'},\n",
    "                              children=[html.P(style={'textAlign':'center',\n",
    "                                                      'fontWeight':'bold','color':'#d7191c','padding':'1rem'},\n",
    "                                               children=\"Confirmed Cases\"),\n",
    "                                        html.H3(style={'textAlign':'center',\n",
    "                                                       'fontWeight':'bold','color':'#d7191c'},\n",
    "                                                children='{}'.format(confirmedCases))]),\n",
    "                     html.Div(style={'width':'24.4%','backgroundColor':'#272e3e','display':'inline-block','marginRight':'.8%'},\n",
    "                              children=[html.P(style={'textAlign':'center',\n",
    "                                                      'fontWeight':'bold','color':'#1a9622','padding':'1rem'},\n",
    "                                               children=\"Recovered Cases\"),\n",
    "                                        html.H3(style={'textAlign':'center',\n",
    "                                                       'fontWeight':'bold','color':'#1a9622'},\n",
    "                                               children='{}'.format(recoveredCases))]),\n",
    "                     html.Div(style={'width':'24.4%','backgroundColor':'#272e3e','display':'inline-block','marginTop':'.5%'},\n",
    "                              children=[html.P(style={'textAlign':'center',\n",
    "                                                      'fontWeight':'bold','color':'#6c6c6c','padding':'1rem'},\n",
    "                                               children=\"Death Cases\"),\n",
    "                                        html.H3(style={'textAlign':'center',\n",
    "                                                       'fontWeight':'black','color':'#6c6c6c'},\n",
    "                                                children='{}'.format(deathsCases))])]),\n",
    "        html.Div(style={'marginLeft':'1.5%','marginRight':'1.5%','marginBottom':'.35%','marginTop':'.5%'},\n",
    "                 children=[\n",
    "                     html.Div(style={'width':'32.79%','display':'inline-block','marginRight':'.8%'},\n",
    "                              children=[dcc.Graph(figure=fig_confirmed)]),\n",
    "                     html.Div(style={'width':'32.79%','display':'inline-block','marginRight':'.8%'},\n",
    "                              children=[dcc.Graph(figure=fig_recovered)]),\n",
    "                     html.Div(style={'width':'32.79%','display':'inline-block'},\n",
    "                              children=[dcc.Graph(figure=fig_deaths)])]),\n",
    "        html.Div(style={'marginLeft':'1.5%','marginRight':'1.5%','marginBottom':'.5%'},\n",
    "                 children=[\n",
    "                     html.Div(style={'width':'100%','display':'inline-block'},\n",
    "                              children=[dcc.Graph(figure=fig2)]),]),\n",
    "        html.Div(style={'marginLeft':'1.5%','marginRight':'1.5%'},\n",
    "                 children=[\n",
    "                     html.P(style={'textAlign':'center','margin':'auto'},\n",
    "                            children=[\"Data source from \", \n",
    "                                      html.A('JHU CSSE,', href='https://docs.google.com/spreadsheets/d/1yZv9w9z\\\n",
    "                                      RKwrGTaR-YzmAqMefw4wMlaXocejdxZaTs6w/htmlview?usp=sharing&sle=true#'),\n",
    "                                      html.A(' Dingxiangyuan', href='https://ncov.dxy.cn/ncovh5/view/pneumonia?sce\\\n",
    "                                      ne=2&clicktime=1579582238&enterid=1579582238&from=singlemessage&isappinstalled=0'),\n",
    "                                      \" | 🙏 Pray for China, Pray for the World 🙏 |\",\n",
    "                                      \" Developed by \",html.A('Jun', href='https://junye0798.com/'),\" with ❤️\"])])\n",
    "\n",
    "                         ])\n"
   ]
  },
  {
   "cell_type": "code",
   "execution_count": 69,
   "metadata": {},
   "outputs": [
    {
     "name": "stdout",
     "output_type": "stream",
     "text": [
      " * Serving Flask app \"__main__\" (lazy loading)\n",
      " * Environment: production\n",
      "   WARNING: This is a development server. Do not use it in a production deployment.\n",
      "   Use a production WSGI server instead.\n",
      " * Debug mode: off\n"
     ]
    },
    {
     "name": "stderr",
     "output_type": "stream",
     "text": [
      " * Running on http://127.0.0.1:8882/ (Press CTRL+C to quit)\n",
      "127.0.0.1 - - [03/Feb/2020 17:11:43] \"GET / HTTP/1.1\" 200 -\n",
      "127.0.0.1 - - [03/Feb/2020 17:11:43] \"GET /_dash-component-suites/dash_renderer/prop-types@15.7.2.min.js?v=1.1.2&m=1576595738 HTTP/1.1\" 200 -\n",
      "127.0.0.1 - - [03/Feb/2020 17:11:43] \"GET /_dash-component-suites/dash_renderer/react@16.8.6.min.js?v=1.1.2&m=1576595738 HTTP/1.1\" 200 -\n",
      "127.0.0.1 - - [03/Feb/2020 17:11:43] \"GET /_dash-component-suites/dash_renderer/react-dom@16.8.6.min.js?v=1.1.2&m=1576595738 HTTP/1.1\" 200 -\n",
      "127.0.0.1 - - [03/Feb/2020 17:11:43] \"GET /_dash-component-suites/dash_html_components/dash_html_components.min.js?v=1.0.1&m=1576596177 HTTP/1.1\" 200 -\n",
      "127.0.0.1 - - [03/Feb/2020 17:11:43] \"GET /_dash-component-suites/dash_bootstrap_components/_components/dash_bootstrap_components.min.js?v=0.8.2&m=1580284437 HTTP/1.1\" 200 -\n",
      "127.0.0.1 - - [03/Feb/2020 17:11:43] \"GET /_dash-component-suites/dash_core_components/highlight.pack.js?v=1.3.1&m=1576595950 HTTP/1.1\" 200 -\n",
      "127.0.0.1 - - [03/Feb/2020 17:11:43] \"GET /_dash-component-suites/dash_renderer/dash_renderer.min.js?v=1.1.2&m=1576595738 HTTP/1.1\" 200 -\n",
      "127.0.0.1 - - [03/Feb/2020 17:11:43] \"GET /_dash-component-suites/dash_core_components/dash_core_components.min.js?v=1.3.1&m=1576595950 HTTP/1.1\" 200 -\n",
      "127.0.0.1 - - [03/Feb/2020 17:11:43] \"GET /_dash-component-suites/dash_core_components/plotly-1.50.1.min.js?v=1.3.1&m=1576595950 HTTP/1.1\" 200 -\n",
      "127.0.0.1 - - [03/Feb/2020 17:11:44] \"GET /_dash-layout HTTP/1.1\" 200 -\n",
      "127.0.0.1 - - [03/Feb/2020 17:11:44] \"GET /_dash-dependencies HTTP/1.1\" 200 -\n"
     ]
    }
   ],
   "source": [
    "if __name__ == '__main__':\n",
    "    app.run_server(port=8882)"
   ]
  },
  {
   "cell_type": "code",
   "execution_count": null,
   "metadata": {},
   "outputs": [],
   "source": []
  },
  {
   "cell_type": "code",
   "execution_count": null,
   "metadata": {},
   "outputs": [],
   "source": []
  },
  {
   "cell_type": "code",
   "execution_count": null,
   "metadata": {},
   "outputs": [],
   "source": []
  }
 ],
 "metadata": {
  "kernelspec": {
   "display_name": "Python 3",
   "language": "python",
   "name": "python3"
  },
  "language_info": {
   "codemirror_mode": {
    "name": "ipython",
    "version": 3
   },
   "file_extension": ".py",
   "mimetype": "text/x-python",
   "name": "python",
   "nbconvert_exporter": "python",
   "pygments_lexer": "ipython3",
   "version": "3.6.9"
  },
  "toc": {
   "base_numbering": 1,
   "nav_menu": {},
   "number_sections": true,
   "sideBar": true,
   "skip_h1_title": false,
   "title_cell": "Table of Contents",
   "title_sidebar": "Contents",
   "toc_cell": false,
   "toc_position": {},
   "toc_section_display": true,
   "toc_window_display": false
  },
  "varInspector": {
   "cols": {
    "lenName": 16,
    "lenType": 16,
    "lenVar": 40
   },
   "kernels_config": {
    "python": {
     "delete_cmd_postfix": "",
     "delete_cmd_prefix": "del ",
     "library": "var_list.py",
     "varRefreshCmd": "print(var_dic_list())"
    },
    "r": {
     "delete_cmd_postfix": ") ",
     "delete_cmd_prefix": "rm(",
     "library": "var_list.r",
     "varRefreshCmd": "cat(var_dic_list()) "
    }
   },
   "types_to_exclude": [
    "module",
    "function",
    "builtin_function_or_method",
    "instance",
    "_Feature"
   ],
   "window_display": false
  }
 },
 "nbformat": 4,
 "nbformat_minor": 2
}
