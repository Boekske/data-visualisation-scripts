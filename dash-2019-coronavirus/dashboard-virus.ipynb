{
 "cells": [
  {
   "cell_type": "code",
   "execution_count": 1,
   "metadata": {},
   "outputs": [],
   "source": [
    "import pandas as pd\n",
    "import numpy as np\n",
    "from datetime import datetime\n",
    "import math \n",
    "\n",
    "import plotly.graph_objects as go\n",
    "from plotly.subplots import make_subplots"
   ]
  },
  {
   "cell_type": "code",
   "execution_count": 297,
   "metadata": {},
   "outputs": [],
   "source": [
    "# Import xlsx file and store each sheet in to a df list\n",
    "xl_file = pd.ExcelFile('./data.xlsx',)\n",
    "\n",
    "dfs = {sheet_name: xl_file.parse(sheet_name) \n",
    "          for sheet_name in xl_file.sheet_names}"
   ]
  },
  {
   "cell_type": "code",
   "execution_count": 298,
   "metadata": {},
   "outputs": [],
   "source": [
    "# Data from each sheet can be accessed via key\n",
    "keyList = list(dfs.keys())"
   ]
  },
  {
   "cell_type": "code",
   "execution_count": 299,
   "metadata": {
    "scrolled": true
   },
   "outputs": [],
   "source": [
    "# Data cleansing\n",
    "for key, df in dfs.items():\n",
    "    dfs[key].loc[:,'Confirmed'].fillna(value=0, inplace=True)\n",
    "    dfs[key].loc[:,'Deaths'].fillna(value=0, inplace=True)\n",
    "    dfs[key].loc[:,'Recovered'].fillna(value=0, inplace=True)\n",
    "    dfs[key]=dfs[key].astype({'Confirmed':'int64', 'Deaths':'int64', 'Recovered':'int64'})\n",
    "    # Change as China for coordinate search\n",
    "    dfs[key]=dfs[key].replace({'Country/Region':'Mainland China'}, 'China')\n",
    "    dfs[key]=dfs[key].replace({'Province/State':'Queensland'}, 'Brisbane')\n",
    "    dfs[key]=dfs[key].replace({'Province/State':'New South Wales'}, 'Sydney')\n",
    "    dfs[key]=dfs[key].replace({'Province/State':'Victoria'}, 'Melbourne')\n",
    "    # Add a zero to the date so can be convert by datetime.strptime as 0-padded date\n",
    "    dfs[key]['Last Update'] = '0' + dfs[key]['Last Update']\n",
    "    dfs[key]['Date_last_updated'] = [datetime.strptime(d, '%m/%d/%Y %H:%M') for d in dfs[key]['Last Update']]"
   ]
  },
  {
   "cell_type": "code",
   "execution_count": 300,
   "metadata": {},
   "outputs": [
    {
     "data": {
      "text/html": [
       "<div>\n",
       "<style scoped>\n",
       "    .dataframe tbody tr th:only-of-type {\n",
       "        vertical-align: middle;\n",
       "    }\n",
       "\n",
       "    .dataframe tbody tr th {\n",
       "        vertical-align: top;\n",
       "    }\n",
       "\n",
       "    .dataframe thead th {\n",
       "        text-align: right;\n",
       "    }\n",
       "</style>\n",
       "<table border=\"1\" class=\"dataframe\">\n",
       "  <thead>\n",
       "    <tr style=\"text-align: right;\">\n",
       "      <th></th>\n",
       "      <th>Province/State</th>\n",
       "      <th>Country/Region</th>\n",
       "      <th>Last Update</th>\n",
       "      <th>Confirmed</th>\n",
       "      <th>Deaths</th>\n",
       "      <th>Recovered</th>\n",
       "      <th>Date_last_updated</th>\n",
       "    </tr>\n",
       "  </thead>\n",
       "  <tbody>\n",
       "    <tr>\n",
       "      <th>0</th>\n",
       "      <td>Hubei</td>\n",
       "      <td>China</td>\n",
       "      <td>01/30/2020 21:30</td>\n",
       "      <td>5806</td>\n",
       "      <td>204</td>\n",
       "      <td>116</td>\n",
       "      <td>2020-01-30 21:30:00</td>\n",
       "    </tr>\n",
       "    <tr>\n",
       "      <th>1</th>\n",
       "      <td>Zhejiang</td>\n",
       "      <td>China</td>\n",
       "      <td>01/30/2020 21:30</td>\n",
       "      <td>537</td>\n",
       "      <td>0</td>\n",
       "      <td>9</td>\n",
       "      <td>2020-01-30 21:30:00</td>\n",
       "    </tr>\n",
       "    <tr>\n",
       "      <th>2</th>\n",
       "      <td>Guangdong</td>\n",
       "      <td>China</td>\n",
       "      <td>01/30/2020 21:30</td>\n",
       "      <td>393</td>\n",
       "      <td>0</td>\n",
       "      <td>11</td>\n",
       "      <td>2020-01-30 21:30:00</td>\n",
       "    </tr>\n",
       "    <tr>\n",
       "      <th>3</th>\n",
       "      <td>Henan</td>\n",
       "      <td>China</td>\n",
       "      <td>01/30/2020 21:30</td>\n",
       "      <td>352</td>\n",
       "      <td>2</td>\n",
       "      <td>3</td>\n",
       "      <td>2020-01-30 21:30:00</td>\n",
       "    </tr>\n",
       "    <tr>\n",
       "      <th>4</th>\n",
       "      <td>Hunan</td>\n",
       "      <td>China</td>\n",
       "      <td>01/30/2020 21:30</td>\n",
       "      <td>332</td>\n",
       "      <td>0</td>\n",
       "      <td>2</td>\n",
       "      <td>2020-01-30 21:30:00</td>\n",
       "    </tr>\n",
       "  </tbody>\n",
       "</table>\n",
       "</div>"
      ],
      "text/plain": [
       "  Province/State Country/Region       Last Update  Confirmed  Deaths  \\\n",
       "0          Hubei          China  01/30/2020 21:30       5806     204   \n",
       "1       Zhejiang          China  01/30/2020 21:30        537       0   \n",
       "2      Guangdong          China  01/30/2020 21:30        393       0   \n",
       "3          Henan          China  01/30/2020 21:30        352       2   \n",
       "4          Hunan          China  01/30/2020 21:30        332       0   \n",
       "\n",
       "   Recovered   Date_last_updated  \n",
       "0        116 2020-01-30 21:30:00  \n",
       "1          9 2020-01-30 21:30:00  \n",
       "2         11 2020-01-30 21:30:00  \n",
       "3          3 2020-01-30 21:30:00  \n",
       "4          2 2020-01-30 21:30:00  "
      ]
     },
     "execution_count": 300,
     "metadata": {},
     "output_type": "execute_result"
    }
   ],
   "source": [
    "# Check \n",
    "dfs[keyList[0]].head()"
   ]
  },
  {
   "cell_type": "code",
   "execution_count": 310,
   "metadata": {},
   "outputs": [],
   "source": [
    "# Add coordinates for each area in the list for the latest table sheet\n",
    "# As there are limit for free account, we only call coordinates for the latest table sheet\n",
    "from opencage.geocoder import OpenCageGeocode\n",
    "key = 'b33700b33d0a446aa6e16c0b57fc82d1'  # get api key from:  https://opencagedata.com\n",
    "geocoder = OpenCageGeocode(key)\n",
    "\n",
    "list_lat = []   # create empty lists\n",
    "list_long = []    \n",
    "for index, row in dfs[keyList[0]].iterrows(): # iterate over rows in dataframe\n",
    "    City = row['Province/State']\n",
    "    State = row['Country/Region']\n",
    "\n",
    "    if City:\n",
    "        if City == 'Macau' or City == 'Hong Kong':\n",
    "            query = str(City)+','+'China'\n",
    "            results = geocoder.geocode(query)   \n",
    "            lat = results[0]['geometry']['lat']\n",
    "            long = results[0]['geometry']['lng']\n",
    "\n",
    "            list_lat.append(lat)\n",
    "            list_long.append(long)\n",
    "        else:\n",
    "            query = str(City)+','+str(State)\n",
    "            results = geocoder.geocode(query)   \n",
    "            lat = results[0]['geometry']['lat']\n",
    "            long = results[0]['geometry']['lng']\n",
    "\n",
    "            list_lat.append(lat)\n",
    "            list_long.append(long)\n",
    "\n",
    "    else:\n",
    "        query = str(State)\n",
    "        results = geocoder.geocode(query)   \n",
    "        lat = results[0]['geometry']['lat']\n",
    "        long = results[0]['geometry']['lng']\n",
    "\n",
    "        list_lat.append(lat)\n",
    "        list_long.append(long)\n",
    "# create new columns from lists    \n",
    "dfs[keyList[0]]['lat'] = list_lat   \n",
    "dfs[keyList[0]]['lon'] = list_long"
   ]
  },
  {
   "cell_type": "code",
   "execution_count": 312,
   "metadata": {},
   "outputs": [],
   "source": [
    "dfs[keyList[0]].to_csv(\"{}_data.csv\".format(keyList[0]), index=False)"
   ]
  },
  {
   "cell_type": "code",
   "execution_count": 321,
   "metadata": {},
   "outputs": [],
   "source": [
    "# Import data with coordinates\n",
    "dfs[keyList[0]]=pd.read_csv('{}_data.csv'.format(keyList[0]))"
   ]
  },
  {
   "cell_type": "code",
   "execution_count": 322,
   "metadata": {},
   "outputs": [],
   "source": [
    "# Save numbers into variables to use in the app\n",
    "confirmedCases=dfs[keyList[0]]['Confirmed'].sum()\n",
    "deathsCases=dfs[keyList[0]]['Deaths'].sum()\n",
    "recoveredCases=dfs[keyList[0]]['Recovered'].sum()"
   ]
  },
  {
   "cell_type": "code",
   "execution_count": 323,
   "metadata": {},
   "outputs": [],
   "source": [
    "# Construct new dataframe for line plot\n",
    "DateList = []\n",
    "ChinaList =[]\n",
    "OtherList = []\n",
    "\n",
    "for key, df in dfs.items():\n",
    "    dfTpm = df.groupby(['Country/Region'])['Confirmed'].agg(np.sum)\n",
    "    dfTpm = pd.DataFrame({'Code':dfTpm.index, 'Confirmed':dfTpm.values})\n",
    "    dfTpm = dfTpm.sort_values(by='Confirmed', ascending=False).reset_index(drop=True)\n",
    "    DateList.append(df['Date_last_updated'][0])\n",
    "    ChinaList.append(dfTpm['Confirmed'][0])\n",
    "    OtherList.append(dfTpm['Confirmed'][1:].sum())\n",
    "    \n",
    "df_confirmed = pd.DataFrame({'Date':DateList,\n",
    "                             'Mainland China':ChinaList,\n",
    "                             'Other locations':OtherList})    "
   ]
  },
  {
   "cell_type": "code",
   "execution_count": 324,
   "metadata": {},
   "outputs": [
    {
     "data": {
      "text/html": [
       "<div>\n",
       "<style scoped>\n",
       "    .dataframe tbody tr th:only-of-type {\n",
       "        vertical-align: middle;\n",
       "    }\n",
       "\n",
       "    .dataframe tbody tr th {\n",
       "        vertical-align: top;\n",
       "    }\n",
       "\n",
       "    .dataframe thead th {\n",
       "        text-align: right;\n",
       "    }\n",
       "</style>\n",
       "<table border=\"1\" class=\"dataframe\">\n",
       "  <thead>\n",
       "    <tr style=\"text-align: right;\">\n",
       "      <th></th>\n",
       "      <th>Date</th>\n",
       "      <th>Mainland China</th>\n",
       "      <th>Other locations</th>\n",
       "    </tr>\n",
       "  </thead>\n",
       "  <tbody>\n",
       "    <tr>\n",
       "      <th>0</th>\n",
       "      <td>2020-01-30 21:30:00</td>\n",
       "      <td>9658</td>\n",
       "      <td>118</td>\n",
       "    </tr>\n",
       "    <tr>\n",
       "      <th>1</th>\n",
       "      <td>2020-01-30 11:00:00</td>\n",
       "      <td>8124</td>\n",
       "      <td>111</td>\n",
       "    </tr>\n",
       "    <tr>\n",
       "      <th>2</th>\n",
       "      <td>2020-01-29 21:00:00</td>\n",
       "      <td>7678</td>\n",
       "      <td>105</td>\n",
       "    </tr>\n",
       "    <tr>\n",
       "      <th>3</th>\n",
       "      <td>2020-01-29 14:30:00</td>\n",
       "      <td>6070</td>\n",
       "      <td>95</td>\n",
       "    </tr>\n",
       "    <tr>\n",
       "      <th>4</th>\n",
       "      <td>2020-01-29 13:30:00</td>\n",
       "      <td>6070</td>\n",
       "      <td>94</td>\n",
       "    </tr>\n",
       "  </tbody>\n",
       "</table>\n",
       "</div>"
      ],
      "text/plain": [
       "                 Date  Mainland China  Other locations\n",
       "0 2020-01-30 21:30:00            9658              118\n",
       "1 2020-01-30 11:00:00            8124              111\n",
       "2 2020-01-29 21:00:00            7678              105\n",
       "3 2020-01-29 14:30:00            6070               95\n",
       "4 2020-01-29 13:30:00            6070               94"
      ]
     },
     "execution_count": 324,
     "metadata": {},
     "output_type": "execute_result"
    }
   ],
   "source": [
    "df_confirmed.head()"
   ]
  },
  {
   "cell_type": "code",
   "execution_count": 325,
   "metadata": {},
   "outputs": [],
   "source": [
    "# Construct new dataframe for line plot\n",
    "DateList = []\n",
    "ChinaList =[]\n",
    "OtherList = []\n",
    "\n",
    "for key, df in dfs.items():\n",
    "    dfTpm = df.groupby(['Country/Region'])['Recovered'].agg(np.sum)\n",
    "    dfTpm = pd.DataFrame({'Code':dfTpm.index, 'Recovered':dfTpm.values})\n",
    "    dfTpm = dfTpm.sort_values(by='Recovered', ascending=False).reset_index(drop=True)\n",
    "    DateList.append(df['Date_last_updated'][0])\n",
    "    ChinaList.append(dfTpm['Recovered'][0])\n",
    "    OtherList.append(dfTpm['Recovered'][1:].sum())\n",
    "    \n",
    "df_recovered = pd.DataFrame({'Date':DateList,\n",
    "                             'Mainland China':ChinaList,\n",
    "                             'Other locations':OtherList})  "
   ]
  },
  {
   "cell_type": "code",
   "execution_count": 326,
   "metadata": {},
   "outputs": [
    {
     "data": {
      "text/html": [
       "<div>\n",
       "<style scoped>\n",
       "    .dataframe tbody tr th:only-of-type {\n",
       "        vertical-align: middle;\n",
       "    }\n",
       "\n",
       "    .dataframe tbody tr th {\n",
       "        vertical-align: top;\n",
       "    }\n",
       "\n",
       "    .dataframe thead th {\n",
       "        text-align: right;\n",
       "    }\n",
       "</style>\n",
       "<table border=\"1\" class=\"dataframe\">\n",
       "  <thead>\n",
       "    <tr style=\"text-align: right;\">\n",
       "      <th></th>\n",
       "      <th>Date</th>\n",
       "      <th>Mainland China</th>\n",
       "      <th>Other locations</th>\n",
       "    </tr>\n",
       "  </thead>\n",
       "  <tbody>\n",
       "    <tr>\n",
       "      <th>0</th>\n",
       "      <td>2020-01-30 21:30:00</td>\n",
       "      <td>179</td>\n",
       "      <td>8</td>\n",
       "    </tr>\n",
       "    <tr>\n",
       "      <th>1</th>\n",
       "      <td>2020-01-30 11:00:00</td>\n",
       "      <td>135</td>\n",
       "      <td>8</td>\n",
       "    </tr>\n",
       "    <tr>\n",
       "      <th>2</th>\n",
       "      <td>2020-01-29 21:00:00</td>\n",
       "      <td>127</td>\n",
       "      <td>6</td>\n",
       "    </tr>\n",
       "    <tr>\n",
       "      <th>3</th>\n",
       "      <td>2020-01-29 14:30:00</td>\n",
       "      <td>120</td>\n",
       "      <td>6</td>\n",
       "    </tr>\n",
       "    <tr>\n",
       "      <th>4</th>\n",
       "      <td>2020-01-29 13:30:00</td>\n",
       "      <td>106</td>\n",
       "      <td>6</td>\n",
       "    </tr>\n",
       "  </tbody>\n",
       "</table>\n",
       "</div>"
      ],
      "text/plain": [
       "                 Date  Mainland China  Other locations\n",
       "0 2020-01-30 21:30:00             179                8\n",
       "1 2020-01-30 11:00:00             135                8\n",
       "2 2020-01-29 21:00:00             127                6\n",
       "3 2020-01-29 14:30:00             120                6\n",
       "4 2020-01-29 13:30:00             106                6"
      ]
     },
     "execution_count": 326,
     "metadata": {},
     "output_type": "execute_result"
    }
   ],
   "source": [
    "df_recovered.head()"
   ]
  },
  {
   "cell_type": "code",
   "execution_count": 327,
   "metadata": {},
   "outputs": [],
   "source": [
    "# Construct new dataframe for line plot\n",
    "DateList = []\n",
    "ChinaList =[]\n",
    "OtherList = []\n",
    "\n",
    "for key, df in dfs.items():\n",
    "    dfTpm = df.groupby(['Country/Region'])['Deaths'].agg(np.sum)\n",
    "    dfTpm = pd.DataFrame({'Code':dfTpm.index, 'Deaths':dfTpm.values})\n",
    "    dfTpm = dfTpm.sort_values(by='Deaths', ascending=False).reset_index(drop=True)\n",
    "    DateList.append(df['Date_last_updated'][0])\n",
    "    ChinaList.append(dfTpm['Deaths'][0])\n",
    "    OtherList.append(dfTpm['Deaths'][1:].sum())\n",
    "    \n",
    "df_deaths = pd.DataFrame({'Date':DateList,\n",
    "                          'Mainland China':ChinaList,\n",
    "                          'Other locations':OtherList})  "
   ]
  },
  {
   "cell_type": "code",
   "execution_count": 328,
   "metadata": {},
   "outputs": [
    {
     "data": {
      "text/html": [
       "<div>\n",
       "<style scoped>\n",
       "    .dataframe tbody tr th:only-of-type {\n",
       "        vertical-align: middle;\n",
       "    }\n",
       "\n",
       "    .dataframe tbody tr th {\n",
       "        vertical-align: top;\n",
       "    }\n",
       "\n",
       "    .dataframe thead th {\n",
       "        text-align: right;\n",
       "    }\n",
       "</style>\n",
       "<table border=\"1\" class=\"dataframe\">\n",
       "  <thead>\n",
       "    <tr style=\"text-align: right;\">\n",
       "      <th></th>\n",
       "      <th>Date</th>\n",
       "      <th>Mainland China</th>\n",
       "      <th>Other locations</th>\n",
       "    </tr>\n",
       "  </thead>\n",
       "  <tbody>\n",
       "    <tr>\n",
       "      <th>0</th>\n",
       "      <td>2020-01-30 21:30:00</td>\n",
       "      <td>213</td>\n",
       "      <td>0</td>\n",
       "    </tr>\n",
       "    <tr>\n",
       "      <th>1</th>\n",
       "      <td>2020-01-30 11:00:00</td>\n",
       "      <td>171</td>\n",
       "      <td>0</td>\n",
       "    </tr>\n",
       "    <tr>\n",
       "      <th>2</th>\n",
       "      <td>2020-01-29 21:00:00</td>\n",
       "      <td>170</td>\n",
       "      <td>0</td>\n",
       "    </tr>\n",
       "    <tr>\n",
       "      <th>3</th>\n",
       "      <td>2020-01-29 14:30:00</td>\n",
       "      <td>133</td>\n",
       "      <td>0</td>\n",
       "    </tr>\n",
       "    <tr>\n",
       "      <th>4</th>\n",
       "      <td>2020-01-29 13:30:00</td>\n",
       "      <td>132</td>\n",
       "      <td>0</td>\n",
       "    </tr>\n",
       "  </tbody>\n",
       "</table>\n",
       "</div>"
      ],
      "text/plain": [
       "                 Date  Mainland China  Other locations\n",
       "0 2020-01-30 21:30:00             213                0\n",
       "1 2020-01-30 11:00:00             171                0\n",
       "2 2020-01-29 21:00:00             170                0\n",
       "3 2020-01-29 14:30:00             133                0\n",
       "4 2020-01-29 13:30:00             132                0"
      ]
     },
     "execution_count": 328,
     "metadata": {},
     "output_type": "execute_result"
    }
   ],
   "source": [
    "df_deaths.head()"
   ]
  },
  {
   "cell_type": "code",
   "execution_count": 329,
   "metadata": {},
   "outputs": [],
   "source": [
    "# Save numbers into variables to use in the app\n",
    "latestDate=datetime.strftime(df_confirmed['Date'][0], '%b %d %Y %H:%M EST')\n",
    "daysOutbreak=(df_confirmed['Date'][0] - datetime.strptime('12/31/2019', '%m/%d/%Y')).days"
   ]
  },
  {
   "cell_type": "code",
   "execution_count": 343,
   "metadata": {},
   "outputs": [
    {
     "data": {
      "application/vnd.plotly.v1+json": {
       "config": {
        "plotlyServerURL": "https://plot.ly"
       },
       "data": [
        {
         "hovertemplate": "<b>%{text}</b><br></br>Mainland China confirmed<br>%{y} cases<br><extra></extra>",
         "line": {
          "color": "#921113",
          "width": 2
         },
         "marker": {
          "size": 8
         },
         "mode": "lines+markers",
         "name": "Mainland China",
         "text": [
          "Jan 30 2020 21:30 EST",
          "Jan 30 2020 11:00 EST",
          "Jan 29 2020 21:00 EST",
          "Jan 29 2020 14:30 EST",
          "Jan 29 2020 13:30 EST",
          "Jan 28 2020 23:00 EST",
          "Jan 28 2020 18:00 EST",
          "Jan 28 2020 13:00 EST",
          "Jan 27 2020 20:30 EST",
          "Jan 27 2020 19:00 EST",
          "Jan 27 2020 09:00 EST",
          "Jan 26 2020 23:00 EST",
          "Jan 26 2020 11:00 EST",
          "Jan 25 2020 22:00 EST",
          "Jan 25 2020 12:00 EST",
          "Jan 25 2020 00:00 EST",
          "Jan 24 2020 12:00 EST",
          "Jan 24 2020 00:00 EST",
          "Jan 23 2020 12:00 EST",
          "Jan 22 2020 12:00 EST",
          "Jan 21 2020 00:00 EST"
         ],
         "type": "scatter",
         "x": [
          "2020-01-30T21:30:00",
          "2020-01-30T11:00:00",
          "2020-01-29T21:00:00",
          "2020-01-29T14:30:00",
          "2020-01-29T13:30:00",
          "2020-01-28T23:00:00",
          "2020-01-28T18:00:00",
          "2020-01-28T13:00:00",
          "2020-01-27T20:30:00",
          "2020-01-27T19:00:00",
          "2020-01-27T09:00:00",
          "2020-01-26T23:00:00",
          "2020-01-26T11:00:00",
          "2020-01-25T22:00:00",
          "2020-01-25T12:00:00",
          "2020-01-25T00:00:00",
          "2020-01-24T12:00:00",
          "2020-01-24T00:00:00",
          "2020-01-23T12:00:00",
          "2020-01-22T12:00:00",
          "2020-01-21T00:00:00"
         ],
         "y": [
          9658,
          8124,
          7678,
          6070,
          6070,
          5970,
          5494,
          4610,
          4409,
          2863,
          2825,
          2737,
          2062,
          1979,
          1399,
          1320,
          916,
          865,
          639,
          549,
          327
         ]
        },
        {
         "hovertemplate": "<b>%{text}</b><br></br>Other region confirmed<br>%{y} cases<br><extra></extra>",
         "line": {
          "color": "#eb5254",
          "width": 2
         },
         "marker": {
          "size": 8
         },
         "mode": "lines+markers",
         "name": "Other Region",
         "text": [
          "Jan 30 2020 21:30 EST",
          "Jan 30 2020 11:00 EST",
          "Jan 29 2020 21:00 EST",
          "Jan 29 2020 14:30 EST",
          "Jan 29 2020 13:30 EST",
          "Jan 28 2020 23:00 EST",
          "Jan 28 2020 18:00 EST",
          "Jan 28 2020 13:00 EST",
          "Jan 27 2020 20:30 EST",
          "Jan 27 2020 19:00 EST",
          "Jan 27 2020 09:00 EST",
          "Jan 26 2020 23:00 EST",
          "Jan 26 2020 11:00 EST",
          "Jan 25 2020 22:00 EST",
          "Jan 25 2020 12:00 EST",
          "Jan 25 2020 00:00 EST",
          "Jan 24 2020 12:00 EST",
          "Jan 24 2020 00:00 EST",
          "Jan 23 2020 12:00 EST",
          "Jan 22 2020 12:00 EST",
          "Jan 21 2020 00:00 EST"
         ],
         "type": "scatter",
         "x": [
          "2020-01-30T21:30:00",
          "2020-01-30T11:00:00",
          "2020-01-29T21:00:00",
          "2020-01-29T14:30:00",
          "2020-01-29T13:30:00",
          "2020-01-28T23:00:00",
          "2020-01-28T18:00:00",
          "2020-01-28T13:00:00",
          "2020-01-27T20:30:00",
          "2020-01-27T19:00:00",
          "2020-01-27T09:00:00",
          "2020-01-26T23:00:00",
          "2020-01-26T11:00:00",
          "2020-01-25T22:00:00",
          "2020-01-25T12:00:00",
          "2020-01-25T00:00:00",
          "2020-01-24T12:00:00",
          "2020-01-24T00:00:00",
          "2020-01-23T12:00:00",
          "2020-01-22T12:00:00",
          "2020-01-21T00:00:00"
         ],
         "y": [
          118,
          111,
          105,
          95,
          94,
          87,
          84,
          80,
          64,
          64,
          61,
          57,
          54,
          40,
          39,
          34,
          25,
          16,
          26,
          6,
          5
         ]
        }
       ],
       "layout": {
        "font": {
         "color": "#7fafdf"
        },
        "hovermode": "x",
        "legend": {
         "orientation": "h"
        },
        "margin": {
         "b": 10,
         "l": 5,
         "pad": 0,
         "r": 10,
         "t": 50
        },
        "paper_bgcolor": "#272e3e",
        "plot_bgcolor": "#151920",
        "template": {
         "data": {
          "bar": [
           {
            "error_x": {
             "color": "#2a3f5f"
            },
            "error_y": {
             "color": "#2a3f5f"
            },
            "marker": {
             "line": {
              "color": "#E5ECF6",
              "width": 0.5
             }
            },
            "type": "bar"
           }
          ],
          "barpolar": [
           {
            "marker": {
             "line": {
              "color": "#E5ECF6",
              "width": 0.5
             }
            },
            "type": "barpolar"
           }
          ],
          "carpet": [
           {
            "aaxis": {
             "endlinecolor": "#2a3f5f",
             "gridcolor": "white",
             "linecolor": "white",
             "minorgridcolor": "white",
             "startlinecolor": "#2a3f5f"
            },
            "baxis": {
             "endlinecolor": "#2a3f5f",
             "gridcolor": "white",
             "linecolor": "white",
             "minorgridcolor": "white",
             "startlinecolor": "#2a3f5f"
            },
            "type": "carpet"
           }
          ],
          "choropleth": [
           {
            "colorbar": {
             "outlinewidth": 0,
             "ticks": ""
            },
            "type": "choropleth"
           }
          ],
          "contour": [
           {
            "colorbar": {
             "outlinewidth": 0,
             "ticks": ""
            },
            "colorscale": [
             [
              0,
              "#0d0887"
             ],
             [
              0.1111111111111111,
              "#46039f"
             ],
             [
              0.2222222222222222,
              "#7201a8"
             ],
             [
              0.3333333333333333,
              "#9c179e"
             ],
             [
              0.4444444444444444,
              "#bd3786"
             ],
             [
              0.5555555555555556,
              "#d8576b"
             ],
             [
              0.6666666666666666,
              "#ed7953"
             ],
             [
              0.7777777777777778,
              "#fb9f3a"
             ],
             [
              0.8888888888888888,
              "#fdca26"
             ],
             [
              1,
              "#f0f921"
             ]
            ],
            "type": "contour"
           }
          ],
          "contourcarpet": [
           {
            "colorbar": {
             "outlinewidth": 0,
             "ticks": ""
            },
            "type": "contourcarpet"
           }
          ],
          "heatmap": [
           {
            "colorbar": {
             "outlinewidth": 0,
             "ticks": ""
            },
            "colorscale": [
             [
              0,
              "#0d0887"
             ],
             [
              0.1111111111111111,
              "#46039f"
             ],
             [
              0.2222222222222222,
              "#7201a8"
             ],
             [
              0.3333333333333333,
              "#9c179e"
             ],
             [
              0.4444444444444444,
              "#bd3786"
             ],
             [
              0.5555555555555556,
              "#d8576b"
             ],
             [
              0.6666666666666666,
              "#ed7953"
             ],
             [
              0.7777777777777778,
              "#fb9f3a"
             ],
             [
              0.8888888888888888,
              "#fdca26"
             ],
             [
              1,
              "#f0f921"
             ]
            ],
            "type": "heatmap"
           }
          ],
          "heatmapgl": [
           {
            "colorbar": {
             "outlinewidth": 0,
             "ticks": ""
            },
            "colorscale": [
             [
              0,
              "#0d0887"
             ],
             [
              0.1111111111111111,
              "#46039f"
             ],
             [
              0.2222222222222222,
              "#7201a8"
             ],
             [
              0.3333333333333333,
              "#9c179e"
             ],
             [
              0.4444444444444444,
              "#bd3786"
             ],
             [
              0.5555555555555556,
              "#d8576b"
             ],
             [
              0.6666666666666666,
              "#ed7953"
             ],
             [
              0.7777777777777778,
              "#fb9f3a"
             ],
             [
              0.8888888888888888,
              "#fdca26"
             ],
             [
              1,
              "#f0f921"
             ]
            ],
            "type": "heatmapgl"
           }
          ],
          "histogram": [
           {
            "marker": {
             "colorbar": {
              "outlinewidth": 0,
              "ticks": ""
             }
            },
            "type": "histogram"
           }
          ],
          "histogram2d": [
           {
            "colorbar": {
             "outlinewidth": 0,
             "ticks": ""
            },
            "colorscale": [
             [
              0,
              "#0d0887"
             ],
             [
              0.1111111111111111,
              "#46039f"
             ],
             [
              0.2222222222222222,
              "#7201a8"
             ],
             [
              0.3333333333333333,
              "#9c179e"
             ],
             [
              0.4444444444444444,
              "#bd3786"
             ],
             [
              0.5555555555555556,
              "#d8576b"
             ],
             [
              0.6666666666666666,
              "#ed7953"
             ],
             [
              0.7777777777777778,
              "#fb9f3a"
             ],
             [
              0.8888888888888888,
              "#fdca26"
             ],
             [
              1,
              "#f0f921"
             ]
            ],
            "type": "histogram2d"
           }
          ],
          "histogram2dcontour": [
           {
            "colorbar": {
             "outlinewidth": 0,
             "ticks": ""
            },
            "colorscale": [
             [
              0,
              "#0d0887"
             ],
             [
              0.1111111111111111,
              "#46039f"
             ],
             [
              0.2222222222222222,
              "#7201a8"
             ],
             [
              0.3333333333333333,
              "#9c179e"
             ],
             [
              0.4444444444444444,
              "#bd3786"
             ],
             [
              0.5555555555555556,
              "#d8576b"
             ],
             [
              0.6666666666666666,
              "#ed7953"
             ],
             [
              0.7777777777777778,
              "#fb9f3a"
             ],
             [
              0.8888888888888888,
              "#fdca26"
             ],
             [
              1,
              "#f0f921"
             ]
            ],
            "type": "histogram2dcontour"
           }
          ],
          "mesh3d": [
           {
            "colorbar": {
             "outlinewidth": 0,
             "ticks": ""
            },
            "type": "mesh3d"
           }
          ],
          "parcoords": [
           {
            "line": {
             "colorbar": {
              "outlinewidth": 0,
              "ticks": ""
             }
            },
            "type": "parcoords"
           }
          ],
          "pie": [
           {
            "automargin": true,
            "type": "pie"
           }
          ],
          "scatter": [
           {
            "marker": {
             "colorbar": {
              "outlinewidth": 0,
              "ticks": ""
             }
            },
            "type": "scatter"
           }
          ],
          "scatter3d": [
           {
            "line": {
             "colorbar": {
              "outlinewidth": 0,
              "ticks": ""
             }
            },
            "marker": {
             "colorbar": {
              "outlinewidth": 0,
              "ticks": ""
             }
            },
            "type": "scatter3d"
           }
          ],
          "scattercarpet": [
           {
            "marker": {
             "colorbar": {
              "outlinewidth": 0,
              "ticks": ""
             }
            },
            "type": "scattercarpet"
           }
          ],
          "scattergeo": [
           {
            "marker": {
             "colorbar": {
              "outlinewidth": 0,
              "ticks": ""
             }
            },
            "type": "scattergeo"
           }
          ],
          "scattergl": [
           {
            "marker": {
             "colorbar": {
              "outlinewidth": 0,
              "ticks": ""
             }
            },
            "type": "scattergl"
           }
          ],
          "scattermapbox": [
           {
            "marker": {
             "colorbar": {
              "outlinewidth": 0,
              "ticks": ""
             }
            },
            "type": "scattermapbox"
           }
          ],
          "scatterpolar": [
           {
            "marker": {
             "colorbar": {
              "outlinewidth": 0,
              "ticks": ""
             }
            },
            "type": "scatterpolar"
           }
          ],
          "scatterpolargl": [
           {
            "marker": {
             "colorbar": {
              "outlinewidth": 0,
              "ticks": ""
             }
            },
            "type": "scatterpolargl"
           }
          ],
          "scatterternary": [
           {
            "marker": {
             "colorbar": {
              "outlinewidth": 0,
              "ticks": ""
             }
            },
            "type": "scatterternary"
           }
          ],
          "surface": [
           {
            "colorbar": {
             "outlinewidth": 0,
             "ticks": ""
            },
            "colorscale": [
             [
              0,
              "#0d0887"
             ],
             [
              0.1111111111111111,
              "#46039f"
             ],
             [
              0.2222222222222222,
              "#7201a8"
             ],
             [
              0.3333333333333333,
              "#9c179e"
             ],
             [
              0.4444444444444444,
              "#bd3786"
             ],
             [
              0.5555555555555556,
              "#d8576b"
             ],
             [
              0.6666666666666666,
              "#ed7953"
             ],
             [
              0.7777777777777778,
              "#fb9f3a"
             ],
             [
              0.8888888888888888,
              "#fdca26"
             ],
             [
              1,
              "#f0f921"
             ]
            ],
            "type": "surface"
           }
          ],
          "table": [
           {
            "cells": {
             "fill": {
              "color": "#EBF0F8"
             },
             "line": {
              "color": "white"
             }
            },
            "header": {
             "fill": {
              "color": "#C8D4E3"
             },
             "line": {
              "color": "white"
             }
            },
            "type": "table"
           }
          ]
         },
         "layout": {
          "annotationdefaults": {
           "arrowcolor": "#2a3f5f",
           "arrowhead": 0,
           "arrowwidth": 1
          },
          "coloraxis": {
           "colorbar": {
            "outlinewidth": 0,
            "ticks": ""
           }
          },
          "colorscale": {
           "diverging": [
            [
             0,
             "#8e0152"
            ],
            [
             0.1,
             "#c51b7d"
            ],
            [
             0.2,
             "#de77ae"
            ],
            [
             0.3,
             "#f1b6da"
            ],
            [
             0.4,
             "#fde0ef"
            ],
            [
             0.5,
             "#f7f7f7"
            ],
            [
             0.6,
             "#e6f5d0"
            ],
            [
             0.7,
             "#b8e186"
            ],
            [
             0.8,
             "#7fbc41"
            ],
            [
             0.9,
             "#4d9221"
            ],
            [
             1,
             "#276419"
            ]
           ],
           "sequential": [
            [
             0,
             "#0d0887"
            ],
            [
             0.1111111111111111,
             "#46039f"
            ],
            [
             0.2222222222222222,
             "#7201a8"
            ],
            [
             0.3333333333333333,
             "#9c179e"
            ],
            [
             0.4444444444444444,
             "#bd3786"
            ],
            [
             0.5555555555555556,
             "#d8576b"
            ],
            [
             0.6666666666666666,
             "#ed7953"
            ],
            [
             0.7777777777777778,
             "#fb9f3a"
            ],
            [
             0.8888888888888888,
             "#fdca26"
            ],
            [
             1,
             "#f0f921"
            ]
           ],
           "sequentialminus": [
            [
             0,
             "#0d0887"
            ],
            [
             0.1111111111111111,
             "#46039f"
            ],
            [
             0.2222222222222222,
             "#7201a8"
            ],
            [
             0.3333333333333333,
             "#9c179e"
            ],
            [
             0.4444444444444444,
             "#bd3786"
            ],
            [
             0.5555555555555556,
             "#d8576b"
            ],
            [
             0.6666666666666666,
             "#ed7953"
            ],
            [
             0.7777777777777778,
             "#fb9f3a"
            ],
            [
             0.8888888888888888,
             "#fdca26"
            ],
            [
             1,
             "#f0f921"
            ]
           ]
          },
          "colorway": [
           "#636efa",
           "#EF553B",
           "#00cc96",
           "#ab63fa",
           "#FFA15A",
           "#19d3f3",
           "#FF6692",
           "#B6E880",
           "#FF97FF",
           "#FECB52"
          ],
          "font": {
           "color": "#2a3f5f"
          },
          "geo": {
           "bgcolor": "white",
           "lakecolor": "white",
           "landcolor": "#E5ECF6",
           "showlakes": true,
           "showland": true,
           "subunitcolor": "white"
          },
          "hoverlabel": {
           "align": "left"
          },
          "hovermode": "closest",
          "mapbox": {
           "style": "light"
          },
          "paper_bgcolor": "white",
          "plot_bgcolor": "#E5ECF6",
          "polar": {
           "angularaxis": {
            "gridcolor": "white",
            "linecolor": "white",
            "ticks": ""
           },
           "bgcolor": "#E5ECF6",
           "radialaxis": {
            "gridcolor": "white",
            "linecolor": "white",
            "ticks": ""
           }
          },
          "scene": {
           "xaxis": {
            "backgroundcolor": "#E5ECF6",
            "gridcolor": "white",
            "gridwidth": 2,
            "linecolor": "white",
            "showbackground": true,
            "ticks": "",
            "zerolinecolor": "white"
           },
           "yaxis": {
            "backgroundcolor": "#E5ECF6",
            "gridcolor": "white",
            "gridwidth": 2,
            "linecolor": "white",
            "showbackground": true,
            "ticks": "",
            "zerolinecolor": "white"
           },
           "zaxis": {
            "backgroundcolor": "#E5ECF6",
            "gridcolor": "white",
            "gridwidth": 2,
            "linecolor": "white",
            "showbackground": true,
            "ticks": "",
            "zerolinecolor": "white"
           }
          },
          "shapedefaults": {
           "line": {
            "color": "#2a3f5f"
           }
          },
          "ternary": {
           "aaxis": {
            "gridcolor": "white",
            "linecolor": "white",
            "ticks": ""
           },
           "baxis": {
            "gridcolor": "white",
            "linecolor": "white",
            "ticks": ""
           },
           "bgcolor": "#E5ECF6",
           "caxis": {
            "gridcolor": "white",
            "linecolor": "white",
            "ticks": ""
           }
          },
          "title": {
           "x": 0.05
          },
          "xaxis": {
           "automargin": true,
           "gridcolor": "white",
           "linecolor": "white",
           "ticks": "",
           "title": {
            "standoff": 15
           },
           "zerolinecolor": "white",
           "zerolinewidth": 2
          },
          "yaxis": {
           "automargin": true,
           "gridcolor": "white",
           "linecolor": "white",
           "ticks": "",
           "title": {
            "standoff": 15
           },
           "zerolinecolor": "white",
           "zerolinewidth": 2
          }
         }
        },
        "title": {
         "font": {
          "color": "#7fafdf",
          "family": "Playfair Display",
          "size": 20
         },
         "text": "<b>Confirmed Cases Timeline<b>",
         "x": 0.5,
         "xanchor": "center",
         "y": 0.96,
         "yanchor": "top"
        },
        "xaxis": {
         "gridcolor": "#272e3e",
         "gridwidth": 0.1,
         "linecolor": "#272e3e",
         "showline": true,
         "tickformat": "%b %d",
         "zeroline": false
        },
        "yaxis": {
         "gridcolor": "#272e3e",
         "gridwidth": 0.1,
         "linecolor": "#272e3e",
         "showline": true,
         "tickmode": "array",
         "ticktext": [
          "0k",
          "1k",
          "2k",
          "3k",
          "4k",
          "5k",
          "6k",
          "7k",
          "8k",
          "9k",
          "10k"
         ],
         "tickvals": [
          0,
          1000,
          2000,
          3000,
          4000,
          5000,
          6000,
          7000,
          8000,
          9000,
          10000
         ],
         "title": {
          "text": "Total Confirmed Case Number"
         },
         "zeroline": false
        }
       }
      },
      "text/html": [
       "<div>\n",
       "        \n",
       "        \n",
       "            <div id=\"e1a396d9-d926-416c-9465-943cb33951d2\" class=\"plotly-graph-div\" style=\"height:525px; width:100%;\"></div>\n",
       "            <script type=\"text/javascript\">\n",
       "                require([\"plotly\"], function(Plotly) {\n",
       "                    window.PLOTLYENV=window.PLOTLYENV || {};\n",
       "                    \n",
       "                if (document.getElementById(\"e1a396d9-d926-416c-9465-943cb33951d2\")) {\n",
       "                    Plotly.newPlot(\n",
       "                        'e1a396d9-d926-416c-9465-943cb33951d2',\n",
       "                        [{\"hovertemplate\": \"<b>%{text}</b><br></br>Mainland China confirmed<br>%{y} cases<br><extra></extra>\", \"line\": {\"color\": \"#921113\", \"width\": 2}, \"marker\": {\"size\": 8}, \"mode\": \"lines+markers\", \"name\": \"Mainland China\", \"text\": [\"Jan 30 2020 21:30 EST\", \"Jan 30 2020 11:00 EST\", \"Jan 29 2020 21:00 EST\", \"Jan 29 2020 14:30 EST\", \"Jan 29 2020 13:30 EST\", \"Jan 28 2020 23:00 EST\", \"Jan 28 2020 18:00 EST\", \"Jan 28 2020 13:00 EST\", \"Jan 27 2020 20:30 EST\", \"Jan 27 2020 19:00 EST\", \"Jan 27 2020 09:00 EST\", \"Jan 26 2020 23:00 EST\", \"Jan 26 2020 11:00 EST\", \"Jan 25 2020 22:00 EST\", \"Jan 25 2020 12:00 EST\", \"Jan 25 2020 00:00 EST\", \"Jan 24 2020 12:00 EST\", \"Jan 24 2020 00:00 EST\", \"Jan 23 2020 12:00 EST\", \"Jan 22 2020 12:00 EST\", \"Jan 21 2020 00:00 EST\"], \"type\": \"scatter\", \"x\": [\"2020-01-30T21:30:00\", \"2020-01-30T11:00:00\", \"2020-01-29T21:00:00\", \"2020-01-29T14:30:00\", \"2020-01-29T13:30:00\", \"2020-01-28T23:00:00\", \"2020-01-28T18:00:00\", \"2020-01-28T13:00:00\", \"2020-01-27T20:30:00\", \"2020-01-27T19:00:00\", \"2020-01-27T09:00:00\", \"2020-01-26T23:00:00\", \"2020-01-26T11:00:00\", \"2020-01-25T22:00:00\", \"2020-01-25T12:00:00\", \"2020-01-25T00:00:00\", \"2020-01-24T12:00:00\", \"2020-01-24T00:00:00\", \"2020-01-23T12:00:00\", \"2020-01-22T12:00:00\", \"2020-01-21T00:00:00\"], \"y\": [9658, 8124, 7678, 6070, 6070, 5970, 5494, 4610, 4409, 2863, 2825, 2737, 2062, 1979, 1399, 1320, 916, 865, 639, 549, 327]}, {\"hovertemplate\": \"<b>%{text}</b><br></br>Other region confirmed<br>%{y} cases<br><extra></extra>\", \"line\": {\"color\": \"#eb5254\", \"width\": 2}, \"marker\": {\"size\": 8}, \"mode\": \"lines+markers\", \"name\": \"Other Region\", \"text\": [\"Jan 30 2020 21:30 EST\", \"Jan 30 2020 11:00 EST\", \"Jan 29 2020 21:00 EST\", \"Jan 29 2020 14:30 EST\", \"Jan 29 2020 13:30 EST\", \"Jan 28 2020 23:00 EST\", \"Jan 28 2020 18:00 EST\", \"Jan 28 2020 13:00 EST\", \"Jan 27 2020 20:30 EST\", \"Jan 27 2020 19:00 EST\", \"Jan 27 2020 09:00 EST\", \"Jan 26 2020 23:00 EST\", \"Jan 26 2020 11:00 EST\", \"Jan 25 2020 22:00 EST\", \"Jan 25 2020 12:00 EST\", \"Jan 25 2020 00:00 EST\", \"Jan 24 2020 12:00 EST\", \"Jan 24 2020 00:00 EST\", \"Jan 23 2020 12:00 EST\", \"Jan 22 2020 12:00 EST\", \"Jan 21 2020 00:00 EST\"], \"type\": \"scatter\", \"x\": [\"2020-01-30T21:30:00\", \"2020-01-30T11:00:00\", \"2020-01-29T21:00:00\", \"2020-01-29T14:30:00\", \"2020-01-29T13:30:00\", \"2020-01-28T23:00:00\", \"2020-01-28T18:00:00\", \"2020-01-28T13:00:00\", \"2020-01-27T20:30:00\", \"2020-01-27T19:00:00\", \"2020-01-27T09:00:00\", \"2020-01-26T23:00:00\", \"2020-01-26T11:00:00\", \"2020-01-25T22:00:00\", \"2020-01-25T12:00:00\", \"2020-01-25T00:00:00\", \"2020-01-24T12:00:00\", \"2020-01-24T00:00:00\", \"2020-01-23T12:00:00\", \"2020-01-22T12:00:00\", \"2020-01-21T00:00:00\"], \"y\": [118, 111, 105, 95, 94, 87, 84, 80, 64, 64, 61, 57, 54, 40, 39, 34, 25, 16, 26, 6, 5]}],\n",
       "                        {\"font\": {\"color\": \"#7fafdf\"}, \"hovermode\": \"x\", \"legend\": {\"orientation\": \"h\"}, \"margin\": {\"b\": 10, \"l\": 5, \"pad\": 0, \"r\": 10, \"t\": 50}, \"paper_bgcolor\": \"#272e3e\", \"plot_bgcolor\": \"#151920\", \"template\": {\"data\": {\"bar\": [{\"error_x\": {\"color\": \"#2a3f5f\"}, \"error_y\": {\"color\": \"#2a3f5f\"}, \"marker\": {\"line\": {\"color\": \"#E5ECF6\", \"width\": 0.5}}, \"type\": \"bar\"}], \"barpolar\": [{\"marker\": {\"line\": {\"color\": \"#E5ECF6\", \"width\": 0.5}}, \"type\": \"barpolar\"}], \"carpet\": [{\"aaxis\": {\"endlinecolor\": \"#2a3f5f\", \"gridcolor\": \"white\", \"linecolor\": \"white\", \"minorgridcolor\": \"white\", \"startlinecolor\": \"#2a3f5f\"}, \"baxis\": {\"endlinecolor\": \"#2a3f5f\", \"gridcolor\": \"white\", \"linecolor\": \"white\", \"minorgridcolor\": \"white\", \"startlinecolor\": \"#2a3f5f\"}, \"type\": \"carpet\"}], \"choropleth\": [{\"colorbar\": {\"outlinewidth\": 0, \"ticks\": \"\"}, \"type\": \"choropleth\"}], \"contour\": [{\"colorbar\": {\"outlinewidth\": 0, \"ticks\": \"\"}, \"colorscale\": [[0.0, \"#0d0887\"], [0.1111111111111111, \"#46039f\"], [0.2222222222222222, \"#7201a8\"], [0.3333333333333333, \"#9c179e\"], [0.4444444444444444, \"#bd3786\"], [0.5555555555555556, \"#d8576b\"], [0.6666666666666666, \"#ed7953\"], [0.7777777777777778, \"#fb9f3a\"], [0.8888888888888888, \"#fdca26\"], [1.0, \"#f0f921\"]], \"type\": \"contour\"}], \"contourcarpet\": [{\"colorbar\": {\"outlinewidth\": 0, \"ticks\": \"\"}, \"type\": \"contourcarpet\"}], \"heatmap\": [{\"colorbar\": {\"outlinewidth\": 0, \"ticks\": \"\"}, \"colorscale\": [[0.0, \"#0d0887\"], [0.1111111111111111, \"#46039f\"], [0.2222222222222222, \"#7201a8\"], [0.3333333333333333, \"#9c179e\"], [0.4444444444444444, \"#bd3786\"], [0.5555555555555556, \"#d8576b\"], [0.6666666666666666, \"#ed7953\"], [0.7777777777777778, \"#fb9f3a\"], [0.8888888888888888, \"#fdca26\"], [1.0, \"#f0f921\"]], \"type\": \"heatmap\"}], \"heatmapgl\": [{\"colorbar\": {\"outlinewidth\": 0, \"ticks\": \"\"}, \"colorscale\": [[0.0, \"#0d0887\"], [0.1111111111111111, \"#46039f\"], [0.2222222222222222, \"#7201a8\"], [0.3333333333333333, \"#9c179e\"], [0.4444444444444444, \"#bd3786\"], [0.5555555555555556, \"#d8576b\"], [0.6666666666666666, \"#ed7953\"], [0.7777777777777778, \"#fb9f3a\"], [0.8888888888888888, \"#fdca26\"], [1.0, \"#f0f921\"]], \"type\": \"heatmapgl\"}], \"histogram\": [{\"marker\": {\"colorbar\": {\"outlinewidth\": 0, \"ticks\": \"\"}}, \"type\": \"histogram\"}], \"histogram2d\": [{\"colorbar\": {\"outlinewidth\": 0, \"ticks\": \"\"}, \"colorscale\": [[0.0, \"#0d0887\"], [0.1111111111111111, \"#46039f\"], [0.2222222222222222, \"#7201a8\"], [0.3333333333333333, \"#9c179e\"], [0.4444444444444444, \"#bd3786\"], [0.5555555555555556, \"#d8576b\"], [0.6666666666666666, \"#ed7953\"], [0.7777777777777778, \"#fb9f3a\"], [0.8888888888888888, \"#fdca26\"], [1.0, \"#f0f921\"]], \"type\": \"histogram2d\"}], \"histogram2dcontour\": [{\"colorbar\": {\"outlinewidth\": 0, \"ticks\": \"\"}, \"colorscale\": [[0.0, \"#0d0887\"], [0.1111111111111111, \"#46039f\"], [0.2222222222222222, \"#7201a8\"], [0.3333333333333333, \"#9c179e\"], [0.4444444444444444, \"#bd3786\"], [0.5555555555555556, \"#d8576b\"], [0.6666666666666666, \"#ed7953\"], [0.7777777777777778, \"#fb9f3a\"], [0.8888888888888888, \"#fdca26\"], [1.0, \"#f0f921\"]], \"type\": \"histogram2dcontour\"}], \"mesh3d\": [{\"colorbar\": {\"outlinewidth\": 0, \"ticks\": \"\"}, \"type\": \"mesh3d\"}], \"parcoords\": [{\"line\": {\"colorbar\": {\"outlinewidth\": 0, \"ticks\": \"\"}}, \"type\": \"parcoords\"}], \"pie\": [{\"automargin\": true, \"type\": \"pie\"}], \"scatter\": [{\"marker\": {\"colorbar\": {\"outlinewidth\": 0, \"ticks\": \"\"}}, \"type\": \"scatter\"}], \"scatter3d\": [{\"line\": {\"colorbar\": {\"outlinewidth\": 0, \"ticks\": \"\"}}, \"marker\": {\"colorbar\": {\"outlinewidth\": 0, \"ticks\": \"\"}}, \"type\": \"scatter3d\"}], \"scattercarpet\": [{\"marker\": {\"colorbar\": {\"outlinewidth\": 0, \"ticks\": \"\"}}, \"type\": \"scattercarpet\"}], \"scattergeo\": [{\"marker\": {\"colorbar\": {\"outlinewidth\": 0, \"ticks\": \"\"}}, \"type\": \"scattergeo\"}], \"scattergl\": [{\"marker\": {\"colorbar\": {\"outlinewidth\": 0, \"ticks\": \"\"}}, \"type\": \"scattergl\"}], \"scattermapbox\": [{\"marker\": {\"colorbar\": {\"outlinewidth\": 0, \"ticks\": \"\"}}, \"type\": \"scattermapbox\"}], \"scatterpolar\": [{\"marker\": {\"colorbar\": {\"outlinewidth\": 0, \"ticks\": \"\"}}, \"type\": \"scatterpolar\"}], \"scatterpolargl\": [{\"marker\": {\"colorbar\": {\"outlinewidth\": 0, \"ticks\": \"\"}}, \"type\": \"scatterpolargl\"}], \"scatterternary\": [{\"marker\": {\"colorbar\": {\"outlinewidth\": 0, \"ticks\": \"\"}}, \"type\": \"scatterternary\"}], \"surface\": [{\"colorbar\": {\"outlinewidth\": 0, \"ticks\": \"\"}, \"colorscale\": [[0.0, \"#0d0887\"], [0.1111111111111111, \"#46039f\"], [0.2222222222222222, \"#7201a8\"], [0.3333333333333333, \"#9c179e\"], [0.4444444444444444, \"#bd3786\"], [0.5555555555555556, \"#d8576b\"], [0.6666666666666666, \"#ed7953\"], [0.7777777777777778, \"#fb9f3a\"], [0.8888888888888888, \"#fdca26\"], [1.0, \"#f0f921\"]], \"type\": \"surface\"}], \"table\": [{\"cells\": {\"fill\": {\"color\": \"#EBF0F8\"}, \"line\": {\"color\": \"white\"}}, \"header\": {\"fill\": {\"color\": \"#C8D4E3\"}, \"line\": {\"color\": \"white\"}}, \"type\": \"table\"}]}, \"layout\": {\"annotationdefaults\": {\"arrowcolor\": \"#2a3f5f\", \"arrowhead\": 0, \"arrowwidth\": 1}, \"coloraxis\": {\"colorbar\": {\"outlinewidth\": 0, \"ticks\": \"\"}}, \"colorscale\": {\"diverging\": [[0, \"#8e0152\"], [0.1, \"#c51b7d\"], [0.2, \"#de77ae\"], [0.3, \"#f1b6da\"], [0.4, \"#fde0ef\"], [0.5, \"#f7f7f7\"], [0.6, \"#e6f5d0\"], [0.7, \"#b8e186\"], [0.8, \"#7fbc41\"], [0.9, \"#4d9221\"], [1, \"#276419\"]], \"sequential\": [[0.0, \"#0d0887\"], [0.1111111111111111, \"#46039f\"], [0.2222222222222222, \"#7201a8\"], [0.3333333333333333, \"#9c179e\"], [0.4444444444444444, \"#bd3786\"], [0.5555555555555556, \"#d8576b\"], [0.6666666666666666, \"#ed7953\"], [0.7777777777777778, \"#fb9f3a\"], [0.8888888888888888, \"#fdca26\"], [1.0, \"#f0f921\"]], \"sequentialminus\": [[0.0, \"#0d0887\"], [0.1111111111111111, \"#46039f\"], [0.2222222222222222, \"#7201a8\"], [0.3333333333333333, \"#9c179e\"], [0.4444444444444444, \"#bd3786\"], [0.5555555555555556, \"#d8576b\"], [0.6666666666666666, \"#ed7953\"], [0.7777777777777778, \"#fb9f3a\"], [0.8888888888888888, \"#fdca26\"], [1.0, \"#f0f921\"]]}, \"colorway\": [\"#636efa\", \"#EF553B\", \"#00cc96\", \"#ab63fa\", \"#FFA15A\", \"#19d3f3\", \"#FF6692\", \"#B6E880\", \"#FF97FF\", \"#FECB52\"], \"font\": {\"color\": \"#2a3f5f\"}, \"geo\": {\"bgcolor\": \"white\", \"lakecolor\": \"white\", \"landcolor\": \"#E5ECF6\", \"showlakes\": true, \"showland\": true, \"subunitcolor\": \"white\"}, \"hoverlabel\": {\"align\": \"left\"}, \"hovermode\": \"closest\", \"mapbox\": {\"style\": \"light\"}, \"paper_bgcolor\": \"white\", \"plot_bgcolor\": \"#E5ECF6\", \"polar\": {\"angularaxis\": {\"gridcolor\": \"white\", \"linecolor\": \"white\", \"ticks\": \"\"}, \"bgcolor\": \"#E5ECF6\", \"radialaxis\": {\"gridcolor\": \"white\", \"linecolor\": \"white\", \"ticks\": \"\"}}, \"scene\": {\"xaxis\": {\"backgroundcolor\": \"#E5ECF6\", \"gridcolor\": \"white\", \"gridwidth\": 2, \"linecolor\": \"white\", \"showbackground\": true, \"ticks\": \"\", \"zerolinecolor\": \"white\"}, \"yaxis\": {\"backgroundcolor\": \"#E5ECF6\", \"gridcolor\": \"white\", \"gridwidth\": 2, \"linecolor\": \"white\", \"showbackground\": true, \"ticks\": \"\", \"zerolinecolor\": \"white\"}, \"zaxis\": {\"backgroundcolor\": \"#E5ECF6\", \"gridcolor\": \"white\", \"gridwidth\": 2, \"linecolor\": \"white\", \"showbackground\": true, \"ticks\": \"\", \"zerolinecolor\": \"white\"}}, \"shapedefaults\": {\"line\": {\"color\": \"#2a3f5f\"}}, \"ternary\": {\"aaxis\": {\"gridcolor\": \"white\", \"linecolor\": \"white\", \"ticks\": \"\"}, \"baxis\": {\"gridcolor\": \"white\", \"linecolor\": \"white\", \"ticks\": \"\"}, \"bgcolor\": \"#E5ECF6\", \"caxis\": {\"gridcolor\": \"white\", \"linecolor\": \"white\", \"ticks\": \"\"}}, \"title\": {\"x\": 0.05}, \"xaxis\": {\"automargin\": true, \"gridcolor\": \"white\", \"linecolor\": \"white\", \"ticks\": \"\", \"title\": {\"standoff\": 15}, \"zerolinecolor\": \"white\", \"zerolinewidth\": 2}, \"yaxis\": {\"automargin\": true, \"gridcolor\": \"white\", \"linecolor\": \"white\", \"ticks\": \"\", \"title\": {\"standoff\": 15}, \"zerolinecolor\": \"white\", \"zerolinewidth\": 2}}}, \"title\": {\"font\": {\"color\": \"#7fafdf\", \"family\": \"Playfair Display\", \"size\": 20}, \"text\": \"<b>Confirmed Cases Timeline<b>\", \"x\": 0.5, \"xanchor\": \"center\", \"y\": 0.96, \"yanchor\": \"top\"}, \"xaxis\": {\"gridcolor\": \"#272e3e\", \"gridwidth\": 0.1, \"linecolor\": \"#272e3e\", \"showline\": true, \"tickformat\": \"%b %d\", \"zeroline\": false}, \"yaxis\": {\"gridcolor\": \"#272e3e\", \"gridwidth\": 0.1, \"linecolor\": \"#272e3e\", \"showline\": true, \"tickmode\": \"array\", \"ticktext\": [\"0k\", \"1k\", \"2k\", \"3k\", \"4k\", \"5k\", \"6k\", \"7k\", \"8k\", \"9k\", \"10k\"], \"tickvals\": [0, 1000, 2000, 3000, 4000, 5000, 6000, 7000, 8000, 9000, 10000], \"title\": {\"text\": \"Total Confirmed Case Number\"}, \"zeroline\": false}},\n",
       "                        {\"responsive\": true}\n",
       "                    ).then(function(){\n",
       "                            \n",
       "var gd = document.getElementById('e1a396d9-d926-416c-9465-943cb33951d2');\n",
       "var x = new MutationObserver(function (mutations, observer) {{\n",
       "        var display = window.getComputedStyle(gd).display;\n",
       "        if (!display || display === 'none') {{\n",
       "            console.log([gd, 'removed!']);\n",
       "            Plotly.purge(gd);\n",
       "            observer.disconnect();\n",
       "        }}\n",
       "}});\n",
       "\n",
       "// Listen for the removal of the full notebook cells\n",
       "var notebookContainer = gd.closest('#notebook-container');\n",
       "if (notebookContainer) {{\n",
       "    x.observe(notebookContainer, {childList: true});\n",
       "}}\n",
       "\n",
       "// Listen for the clearing of the current output cell\n",
       "var outputEl = gd.closest('.output');\n",
       "if (outputEl) {{\n",
       "    x.observe(outputEl, {childList: true});\n",
       "}}\n",
       "\n",
       "                        })\n",
       "                };\n",
       "                });\n",
       "            </script>\n",
       "        </div>"
      ]
     },
     "metadata": {},
     "output_type": "display_data"
    }
   ],
   "source": [
    "# Line plot for confirmed cases\n",
    "# Set up tick scale based on confirmed case number\n",
    "tickList = list(np.arange(0, df_confirmed['Mainland China'].max()+1000, 1000))\n",
    "\n",
    "# Create empty figure canvas\n",
    "fig_confirmed = go.Figure()\n",
    "# Add trace to the figure\n",
    "fig_confirmed.add_trace(go.Scatter(x=df_confirmed['Date'], y=df_confirmed['Mainland China'],\n",
    "                         mode='lines+markers',\n",
    "                         name='Mainland China',\n",
    "                         line=dict(color='#921113', width=2),\n",
    "                         marker=dict(size=8),\n",
    "                         text=[datetime.strftime(d, '%b %d %Y %H:%M EST') for d in df_confirmed['Date']],\n",
    "                         hovertemplate='<b>%{text}</b><br></br>'+\n",
    "                                       'Mainland China confirmed<br>'+\n",
    "                                       '%{y} cases<br>'+\n",
    "                                       '<extra></extra>'))\n",
    "fig_confirmed.add_trace(go.Scatter(x=df_confirmed['Date'], y=df_confirmed['Other locations'],\n",
    "                         mode='lines+markers',\n",
    "                         name='Other Region',\n",
    "                         line=dict(color='#eb5254', width=2),\n",
    "                         marker=dict(size=8),\n",
    "                         text=[datetime.strftime(d, '%b %d %Y %H:%M EST') for d in df_confirmed['Date']],\n",
    "                         hovertemplate='<b>%{text}</b><br></br>'+\n",
    "                                       'Other region confirmed<br>'+\n",
    "                                       '%{y} cases<br>'+\n",
    "                                       '<extra></extra>'))\n",
    "# Customise layout\n",
    "fig_confirmed.update_layout(\n",
    "    title=dict(\n",
    "        text=\"<b>Confirmed Cases Timeline<b>\",\n",
    "        y=0.96, x=0.5, xanchor='center', yanchor='top',\n",
    "        font=dict(size=20, color=\"#7fafdf\", family=\"Playfair Display\")\n",
    "    ),\n",
    "    margin=go.layout.Margin(\n",
    "        l=5,\n",
    "        r=10,\n",
    "        b=10,\n",
    "        t=50,\n",
    "        pad=0\n",
    "    ),\n",
    "    yaxis=dict(\n",
    "        showline=True, linecolor='#272e3e',\n",
    "        zeroline=False,\n",
    "        gridcolor='#272e3e',\n",
    "        gridwidth = .1,\n",
    "        tickmode='array',\n",
    "        # Set tick range based on the maximum number\n",
    "        tickvals=tickList,\n",
    "        # Set tick label accordingly\n",
    "        ticktext=['{:.0f}k'.format(i/1000) for i in tickList]\n",
    "    ),\n",
    "    yaxis_title=\"Total Confirmed Case Number\",\n",
    "    xaxis=dict(\n",
    "        showline=True, linecolor='#272e3e',\n",
    "        gridcolor='#272e3e',\n",
    "        gridwidth = .1,\n",
    "        zeroline=False\n",
    "    ),\n",
    "    xaxis_tickformat='%b %d',\n",
    "    hovermode = 'x',\n",
    "    legend_orientation=\"h\",\n",
    "    plot_bgcolor='#151920',\n",
    "    paper_bgcolor='#272e3e',\n",
    "    font=dict(color='#7fafdf')\n",
    ")\n",
    "\n",
    "fig_confirmed.show()"
   ]
  },
  {
   "cell_type": "code",
   "execution_count": 342,
   "metadata": {},
   "outputs": [
    {
     "data": {
      "application/vnd.plotly.v1+json": {
       "config": {
        "plotlyServerURL": "https://plot.ly"
       },
       "data": [
        {
         "hovertemplate": "<b>%{text}</b><br></br>Mainland China recovered<br>%{y} cases<br><extra></extra>",
         "line": {
          "color": "#0f5525",
          "width": 2
         },
         "marker": {
          "size": 8
         },
         "mode": "lines+markers",
         "name": "Mainland China",
         "text": [
          "Jan 30 2020 21:30 EST",
          "Jan 30 2020 11:00 EST",
          "Jan 29 2020 21:00 EST",
          "Jan 29 2020 14:30 EST",
          "Jan 29 2020 13:30 EST",
          "Jan 28 2020 23:00 EST",
          "Jan 28 2020 18:00 EST",
          "Jan 28 2020 13:00 EST",
          "Jan 27 2020 20:30 EST",
          "Jan 27 2020 19:00 EST",
          "Jan 27 2020 09:00 EST",
          "Jan 26 2020 23:00 EST",
          "Jan 26 2020 11:00 EST",
          "Jan 25 2020 22:00 EST",
          "Jan 25 2020 12:00 EST",
          "Jan 25 2020 00:00 EST",
          "Jan 24 2020 12:00 EST",
          "Jan 24 2020 00:00 EST",
          "Jan 23 2020 12:00 EST",
          "Jan 22 2020 12:00 EST",
          "Jan 21 2020 00:00 EST"
         ],
         "type": "scatter",
         "x": [
          "2020-01-30T21:30:00",
          "2020-01-30T11:00:00",
          "2020-01-29T21:00:00",
          "2020-01-29T14:30:00",
          "2020-01-29T13:30:00",
          "2020-01-28T23:00:00",
          "2020-01-28T18:00:00",
          "2020-01-28T13:00:00",
          "2020-01-27T20:30:00",
          "2020-01-27T19:00:00",
          "2020-01-27T09:00:00",
          "2020-01-26T23:00:00",
          "2020-01-26T11:00:00",
          "2020-01-25T22:00:00",
          "2020-01-25T12:00:00",
          "2020-01-25T00:00:00",
          "2020-01-24T12:00:00",
          "2020-01-24T00:00:00",
          "2020-01-23T12:00:00",
          "2020-01-22T12:00:00",
          "2020-01-21T00:00:00"
         ],
         "y": [
          179,
          135,
          127,
          120,
          106,
          104,
          101,
          73,
          60,
          58,
          56,
          51,
          49,
          49,
          39,
          38,
          36,
          34,
          30,
          0,
          0
         ]
        },
        {
         "hovertemplate": "<b>%{text}</b><br></br>Other region recovered<br>%{y} cases<br><extra></extra>",
         "line": {
          "color": "#25d75d",
          "width": 2
         },
         "marker": {
          "size": 8
         },
         "mode": "lines+markers",
         "name": "Other Region",
         "text": [
          "Jan 30 2020 21:30 EST",
          "Jan 30 2020 11:00 EST",
          "Jan 29 2020 21:00 EST",
          "Jan 29 2020 14:30 EST",
          "Jan 29 2020 13:30 EST",
          "Jan 28 2020 23:00 EST",
          "Jan 28 2020 18:00 EST",
          "Jan 28 2020 13:00 EST",
          "Jan 27 2020 20:30 EST",
          "Jan 27 2020 19:00 EST",
          "Jan 27 2020 09:00 EST",
          "Jan 26 2020 23:00 EST",
          "Jan 26 2020 11:00 EST",
          "Jan 25 2020 22:00 EST",
          "Jan 25 2020 12:00 EST",
          "Jan 25 2020 00:00 EST",
          "Jan 24 2020 12:00 EST",
          "Jan 24 2020 00:00 EST",
          "Jan 23 2020 12:00 EST",
          "Jan 22 2020 12:00 EST",
          "Jan 21 2020 00:00 EST"
         ],
         "type": "scatter",
         "x": [
          "2020-01-30T21:30:00",
          "2020-01-30T11:00:00",
          "2020-01-29T21:00:00",
          "2020-01-29T14:30:00",
          "2020-01-29T13:30:00",
          "2020-01-28T23:00:00",
          "2020-01-28T18:00:00",
          "2020-01-28T13:00:00",
          "2020-01-27T20:30:00",
          "2020-01-27T19:00:00",
          "2020-01-27T09:00:00",
          "2020-01-26T23:00:00",
          "2020-01-26T11:00:00",
          "2020-01-25T22:00:00",
          "2020-01-25T12:00:00",
          "2020-01-25T00:00:00",
          "2020-01-24T12:00:00",
          "2020-01-24T00:00:00",
          "2020-01-23T12:00:00",
          "2020-01-22T12:00:00",
          "2020-01-21T00:00:00"
         ],
         "y": [
          8,
          8,
          6,
          6,
          6,
          6,
          6,
          6,
          3,
          3,
          3,
          3,
          3,
          0,
          0,
          0,
          0,
          0,
          0,
          0,
          0
         ]
        }
       ],
       "layout": {
        "font": {
         "color": "#7fafdf"
        },
        "hovermode": "x",
        "legend": {
         "orientation": "h"
        },
        "margin": {
         "b": 10,
         "l": 5,
         "pad": 0,
         "r": 10,
         "t": 50
        },
        "paper_bgcolor": "#272e3e",
        "plot_bgcolor": "#151920",
        "template": {
         "data": {
          "bar": [
           {
            "error_x": {
             "color": "#2a3f5f"
            },
            "error_y": {
             "color": "#2a3f5f"
            },
            "marker": {
             "line": {
              "color": "#E5ECF6",
              "width": 0.5
             }
            },
            "type": "bar"
           }
          ],
          "barpolar": [
           {
            "marker": {
             "line": {
              "color": "#E5ECF6",
              "width": 0.5
             }
            },
            "type": "barpolar"
           }
          ],
          "carpet": [
           {
            "aaxis": {
             "endlinecolor": "#2a3f5f",
             "gridcolor": "white",
             "linecolor": "white",
             "minorgridcolor": "white",
             "startlinecolor": "#2a3f5f"
            },
            "baxis": {
             "endlinecolor": "#2a3f5f",
             "gridcolor": "white",
             "linecolor": "white",
             "minorgridcolor": "white",
             "startlinecolor": "#2a3f5f"
            },
            "type": "carpet"
           }
          ],
          "choropleth": [
           {
            "colorbar": {
             "outlinewidth": 0,
             "ticks": ""
            },
            "type": "choropleth"
           }
          ],
          "contour": [
           {
            "colorbar": {
             "outlinewidth": 0,
             "ticks": ""
            },
            "colorscale": [
             [
              0,
              "#0d0887"
             ],
             [
              0.1111111111111111,
              "#46039f"
             ],
             [
              0.2222222222222222,
              "#7201a8"
             ],
             [
              0.3333333333333333,
              "#9c179e"
             ],
             [
              0.4444444444444444,
              "#bd3786"
             ],
             [
              0.5555555555555556,
              "#d8576b"
             ],
             [
              0.6666666666666666,
              "#ed7953"
             ],
             [
              0.7777777777777778,
              "#fb9f3a"
             ],
             [
              0.8888888888888888,
              "#fdca26"
             ],
             [
              1,
              "#f0f921"
             ]
            ],
            "type": "contour"
           }
          ],
          "contourcarpet": [
           {
            "colorbar": {
             "outlinewidth": 0,
             "ticks": ""
            },
            "type": "contourcarpet"
           }
          ],
          "heatmap": [
           {
            "colorbar": {
             "outlinewidth": 0,
             "ticks": ""
            },
            "colorscale": [
             [
              0,
              "#0d0887"
             ],
             [
              0.1111111111111111,
              "#46039f"
             ],
             [
              0.2222222222222222,
              "#7201a8"
             ],
             [
              0.3333333333333333,
              "#9c179e"
             ],
             [
              0.4444444444444444,
              "#bd3786"
             ],
             [
              0.5555555555555556,
              "#d8576b"
             ],
             [
              0.6666666666666666,
              "#ed7953"
             ],
             [
              0.7777777777777778,
              "#fb9f3a"
             ],
             [
              0.8888888888888888,
              "#fdca26"
             ],
             [
              1,
              "#f0f921"
             ]
            ],
            "type": "heatmap"
           }
          ],
          "heatmapgl": [
           {
            "colorbar": {
             "outlinewidth": 0,
             "ticks": ""
            },
            "colorscale": [
             [
              0,
              "#0d0887"
             ],
             [
              0.1111111111111111,
              "#46039f"
             ],
             [
              0.2222222222222222,
              "#7201a8"
             ],
             [
              0.3333333333333333,
              "#9c179e"
             ],
             [
              0.4444444444444444,
              "#bd3786"
             ],
             [
              0.5555555555555556,
              "#d8576b"
             ],
             [
              0.6666666666666666,
              "#ed7953"
             ],
             [
              0.7777777777777778,
              "#fb9f3a"
             ],
             [
              0.8888888888888888,
              "#fdca26"
             ],
             [
              1,
              "#f0f921"
             ]
            ],
            "type": "heatmapgl"
           }
          ],
          "histogram": [
           {
            "marker": {
             "colorbar": {
              "outlinewidth": 0,
              "ticks": ""
             }
            },
            "type": "histogram"
           }
          ],
          "histogram2d": [
           {
            "colorbar": {
             "outlinewidth": 0,
             "ticks": ""
            },
            "colorscale": [
             [
              0,
              "#0d0887"
             ],
             [
              0.1111111111111111,
              "#46039f"
             ],
             [
              0.2222222222222222,
              "#7201a8"
             ],
             [
              0.3333333333333333,
              "#9c179e"
             ],
             [
              0.4444444444444444,
              "#bd3786"
             ],
             [
              0.5555555555555556,
              "#d8576b"
             ],
             [
              0.6666666666666666,
              "#ed7953"
             ],
             [
              0.7777777777777778,
              "#fb9f3a"
             ],
             [
              0.8888888888888888,
              "#fdca26"
             ],
             [
              1,
              "#f0f921"
             ]
            ],
            "type": "histogram2d"
           }
          ],
          "histogram2dcontour": [
           {
            "colorbar": {
             "outlinewidth": 0,
             "ticks": ""
            },
            "colorscale": [
             [
              0,
              "#0d0887"
             ],
             [
              0.1111111111111111,
              "#46039f"
             ],
             [
              0.2222222222222222,
              "#7201a8"
             ],
             [
              0.3333333333333333,
              "#9c179e"
             ],
             [
              0.4444444444444444,
              "#bd3786"
             ],
             [
              0.5555555555555556,
              "#d8576b"
             ],
             [
              0.6666666666666666,
              "#ed7953"
             ],
             [
              0.7777777777777778,
              "#fb9f3a"
             ],
             [
              0.8888888888888888,
              "#fdca26"
             ],
             [
              1,
              "#f0f921"
             ]
            ],
            "type": "histogram2dcontour"
           }
          ],
          "mesh3d": [
           {
            "colorbar": {
             "outlinewidth": 0,
             "ticks": ""
            },
            "type": "mesh3d"
           }
          ],
          "parcoords": [
           {
            "line": {
             "colorbar": {
              "outlinewidth": 0,
              "ticks": ""
             }
            },
            "type": "parcoords"
           }
          ],
          "pie": [
           {
            "automargin": true,
            "type": "pie"
           }
          ],
          "scatter": [
           {
            "marker": {
             "colorbar": {
              "outlinewidth": 0,
              "ticks": ""
             }
            },
            "type": "scatter"
           }
          ],
          "scatter3d": [
           {
            "line": {
             "colorbar": {
              "outlinewidth": 0,
              "ticks": ""
             }
            },
            "marker": {
             "colorbar": {
              "outlinewidth": 0,
              "ticks": ""
             }
            },
            "type": "scatter3d"
           }
          ],
          "scattercarpet": [
           {
            "marker": {
             "colorbar": {
              "outlinewidth": 0,
              "ticks": ""
             }
            },
            "type": "scattercarpet"
           }
          ],
          "scattergeo": [
           {
            "marker": {
             "colorbar": {
              "outlinewidth": 0,
              "ticks": ""
             }
            },
            "type": "scattergeo"
           }
          ],
          "scattergl": [
           {
            "marker": {
             "colorbar": {
              "outlinewidth": 0,
              "ticks": ""
             }
            },
            "type": "scattergl"
           }
          ],
          "scattermapbox": [
           {
            "marker": {
             "colorbar": {
              "outlinewidth": 0,
              "ticks": ""
             }
            },
            "type": "scattermapbox"
           }
          ],
          "scatterpolar": [
           {
            "marker": {
             "colorbar": {
              "outlinewidth": 0,
              "ticks": ""
             }
            },
            "type": "scatterpolar"
           }
          ],
          "scatterpolargl": [
           {
            "marker": {
             "colorbar": {
              "outlinewidth": 0,
              "ticks": ""
             }
            },
            "type": "scatterpolargl"
           }
          ],
          "scatterternary": [
           {
            "marker": {
             "colorbar": {
              "outlinewidth": 0,
              "ticks": ""
             }
            },
            "type": "scatterternary"
           }
          ],
          "surface": [
           {
            "colorbar": {
             "outlinewidth": 0,
             "ticks": ""
            },
            "colorscale": [
             [
              0,
              "#0d0887"
             ],
             [
              0.1111111111111111,
              "#46039f"
             ],
             [
              0.2222222222222222,
              "#7201a8"
             ],
             [
              0.3333333333333333,
              "#9c179e"
             ],
             [
              0.4444444444444444,
              "#bd3786"
             ],
             [
              0.5555555555555556,
              "#d8576b"
             ],
             [
              0.6666666666666666,
              "#ed7953"
             ],
             [
              0.7777777777777778,
              "#fb9f3a"
             ],
             [
              0.8888888888888888,
              "#fdca26"
             ],
             [
              1,
              "#f0f921"
             ]
            ],
            "type": "surface"
           }
          ],
          "table": [
           {
            "cells": {
             "fill": {
              "color": "#EBF0F8"
             },
             "line": {
              "color": "white"
             }
            },
            "header": {
             "fill": {
              "color": "#C8D4E3"
             },
             "line": {
              "color": "white"
             }
            },
            "type": "table"
           }
          ]
         },
         "layout": {
          "annotationdefaults": {
           "arrowcolor": "#2a3f5f",
           "arrowhead": 0,
           "arrowwidth": 1
          },
          "coloraxis": {
           "colorbar": {
            "outlinewidth": 0,
            "ticks": ""
           }
          },
          "colorscale": {
           "diverging": [
            [
             0,
             "#8e0152"
            ],
            [
             0.1,
             "#c51b7d"
            ],
            [
             0.2,
             "#de77ae"
            ],
            [
             0.3,
             "#f1b6da"
            ],
            [
             0.4,
             "#fde0ef"
            ],
            [
             0.5,
             "#f7f7f7"
            ],
            [
             0.6,
             "#e6f5d0"
            ],
            [
             0.7,
             "#b8e186"
            ],
            [
             0.8,
             "#7fbc41"
            ],
            [
             0.9,
             "#4d9221"
            ],
            [
             1,
             "#276419"
            ]
           ],
           "sequential": [
            [
             0,
             "#0d0887"
            ],
            [
             0.1111111111111111,
             "#46039f"
            ],
            [
             0.2222222222222222,
             "#7201a8"
            ],
            [
             0.3333333333333333,
             "#9c179e"
            ],
            [
             0.4444444444444444,
             "#bd3786"
            ],
            [
             0.5555555555555556,
             "#d8576b"
            ],
            [
             0.6666666666666666,
             "#ed7953"
            ],
            [
             0.7777777777777778,
             "#fb9f3a"
            ],
            [
             0.8888888888888888,
             "#fdca26"
            ],
            [
             1,
             "#f0f921"
            ]
           ],
           "sequentialminus": [
            [
             0,
             "#0d0887"
            ],
            [
             0.1111111111111111,
             "#46039f"
            ],
            [
             0.2222222222222222,
             "#7201a8"
            ],
            [
             0.3333333333333333,
             "#9c179e"
            ],
            [
             0.4444444444444444,
             "#bd3786"
            ],
            [
             0.5555555555555556,
             "#d8576b"
            ],
            [
             0.6666666666666666,
             "#ed7953"
            ],
            [
             0.7777777777777778,
             "#fb9f3a"
            ],
            [
             0.8888888888888888,
             "#fdca26"
            ],
            [
             1,
             "#f0f921"
            ]
           ]
          },
          "colorway": [
           "#636efa",
           "#EF553B",
           "#00cc96",
           "#ab63fa",
           "#FFA15A",
           "#19d3f3",
           "#FF6692",
           "#B6E880",
           "#FF97FF",
           "#FECB52"
          ],
          "font": {
           "color": "#2a3f5f"
          },
          "geo": {
           "bgcolor": "white",
           "lakecolor": "white",
           "landcolor": "#E5ECF6",
           "showlakes": true,
           "showland": true,
           "subunitcolor": "white"
          },
          "hoverlabel": {
           "align": "left"
          },
          "hovermode": "closest",
          "mapbox": {
           "style": "light"
          },
          "paper_bgcolor": "white",
          "plot_bgcolor": "#E5ECF6",
          "polar": {
           "angularaxis": {
            "gridcolor": "white",
            "linecolor": "white",
            "ticks": ""
           },
           "bgcolor": "#E5ECF6",
           "radialaxis": {
            "gridcolor": "white",
            "linecolor": "white",
            "ticks": ""
           }
          },
          "scene": {
           "xaxis": {
            "backgroundcolor": "#E5ECF6",
            "gridcolor": "white",
            "gridwidth": 2,
            "linecolor": "white",
            "showbackground": true,
            "ticks": "",
            "zerolinecolor": "white"
           },
           "yaxis": {
            "backgroundcolor": "#E5ECF6",
            "gridcolor": "white",
            "gridwidth": 2,
            "linecolor": "white",
            "showbackground": true,
            "ticks": "",
            "zerolinecolor": "white"
           },
           "zaxis": {
            "backgroundcolor": "#E5ECF6",
            "gridcolor": "white",
            "gridwidth": 2,
            "linecolor": "white",
            "showbackground": true,
            "ticks": "",
            "zerolinecolor": "white"
           }
          },
          "shapedefaults": {
           "line": {
            "color": "#2a3f5f"
           }
          },
          "ternary": {
           "aaxis": {
            "gridcolor": "white",
            "linecolor": "white",
            "ticks": ""
           },
           "baxis": {
            "gridcolor": "white",
            "linecolor": "white",
            "ticks": ""
           },
           "bgcolor": "#E5ECF6",
           "caxis": {
            "gridcolor": "white",
            "linecolor": "white",
            "ticks": ""
           }
          },
          "title": {
           "x": 0.05
          },
          "xaxis": {
           "automargin": true,
           "gridcolor": "white",
           "linecolor": "white",
           "ticks": "",
           "title": {
            "standoff": 15
           },
           "zerolinecolor": "white",
           "zerolinewidth": 2
          },
          "yaxis": {
           "automargin": true,
           "gridcolor": "white",
           "linecolor": "white",
           "ticks": "",
           "title": {
            "standoff": 15
           },
           "zerolinecolor": "white",
           "zerolinewidth": 2
          }
         }
        },
        "title": {
         "font": {
          "color": "#7fafdf",
          "family": "Playfair Display",
          "size": 20
         },
         "text": "<b>Recovered Cases Timeline<b>",
         "x": 0.5,
         "xanchor": "center",
         "y": 0.96,
         "yanchor": "top"
        },
        "xaxis": {
         "gridcolor": "#272e3e",
         "gridwidth": 0.1,
         "linecolor": "#272e3e",
         "showline": true,
         "tickformat": "%b %d",
         "zeroline": false
        },
        "yaxis": {
         "gridcolor": "#272e3e",
         "gridwidth": 0.1,
         "linecolor": "#272e3e",
         "showline": true,
         "tickmode": "array",
         "ticktext": [
          "0",
          "20",
          "40",
          "60",
          "80",
          "100",
          "120",
          "140",
          "160",
          "180",
          "200",
          "220",
          "240",
          "260"
         ],
         "tickvals": [
          0,
          20,
          40,
          60,
          80,
          100,
          120,
          140,
          160,
          180,
          200,
          220,
          240,
          260
         ],
         "title": {
          "text": "Total Recovered Case Number"
         },
         "zeroline": false
        }
       }
      },
      "text/html": [
       "<div>\n",
       "        \n",
       "        \n",
       "            <div id=\"761ba915-7e4f-467a-91b8-fd3695899cc3\" class=\"plotly-graph-div\" style=\"height:525px; width:100%;\"></div>\n",
       "            <script type=\"text/javascript\">\n",
       "                require([\"plotly\"], function(Plotly) {\n",
       "                    window.PLOTLYENV=window.PLOTLYENV || {};\n",
       "                    \n",
       "                if (document.getElementById(\"761ba915-7e4f-467a-91b8-fd3695899cc3\")) {\n",
       "                    Plotly.newPlot(\n",
       "                        '761ba915-7e4f-467a-91b8-fd3695899cc3',\n",
       "                        [{\"hovertemplate\": \"<b>%{text}</b><br></br>Mainland China recovered<br>%{y} cases<br><extra></extra>\", \"line\": {\"color\": \"#0f5525\", \"width\": 2}, \"marker\": {\"size\": 8}, \"mode\": \"lines+markers\", \"name\": \"Mainland China\", \"text\": [\"Jan 30 2020 21:30 EST\", \"Jan 30 2020 11:00 EST\", \"Jan 29 2020 21:00 EST\", \"Jan 29 2020 14:30 EST\", \"Jan 29 2020 13:30 EST\", \"Jan 28 2020 23:00 EST\", \"Jan 28 2020 18:00 EST\", \"Jan 28 2020 13:00 EST\", \"Jan 27 2020 20:30 EST\", \"Jan 27 2020 19:00 EST\", \"Jan 27 2020 09:00 EST\", \"Jan 26 2020 23:00 EST\", \"Jan 26 2020 11:00 EST\", \"Jan 25 2020 22:00 EST\", \"Jan 25 2020 12:00 EST\", \"Jan 25 2020 00:00 EST\", \"Jan 24 2020 12:00 EST\", \"Jan 24 2020 00:00 EST\", \"Jan 23 2020 12:00 EST\", \"Jan 22 2020 12:00 EST\", \"Jan 21 2020 00:00 EST\"], \"type\": \"scatter\", \"x\": [\"2020-01-30T21:30:00\", \"2020-01-30T11:00:00\", \"2020-01-29T21:00:00\", \"2020-01-29T14:30:00\", \"2020-01-29T13:30:00\", \"2020-01-28T23:00:00\", \"2020-01-28T18:00:00\", \"2020-01-28T13:00:00\", \"2020-01-27T20:30:00\", \"2020-01-27T19:00:00\", \"2020-01-27T09:00:00\", \"2020-01-26T23:00:00\", \"2020-01-26T11:00:00\", \"2020-01-25T22:00:00\", \"2020-01-25T12:00:00\", \"2020-01-25T00:00:00\", \"2020-01-24T12:00:00\", \"2020-01-24T00:00:00\", \"2020-01-23T12:00:00\", \"2020-01-22T12:00:00\", \"2020-01-21T00:00:00\"], \"y\": [179, 135, 127, 120, 106, 104, 101, 73, 60, 58, 56, 51, 49, 49, 39, 38, 36, 34, 30, 0, 0]}, {\"hovertemplate\": \"<b>%{text}</b><br></br>Other region recovered<br>%{y} cases<br><extra></extra>\", \"line\": {\"color\": \"#25d75d\", \"width\": 2}, \"marker\": {\"size\": 8}, \"mode\": \"lines+markers\", \"name\": \"Other Region\", \"text\": [\"Jan 30 2020 21:30 EST\", \"Jan 30 2020 11:00 EST\", \"Jan 29 2020 21:00 EST\", \"Jan 29 2020 14:30 EST\", \"Jan 29 2020 13:30 EST\", \"Jan 28 2020 23:00 EST\", \"Jan 28 2020 18:00 EST\", \"Jan 28 2020 13:00 EST\", \"Jan 27 2020 20:30 EST\", \"Jan 27 2020 19:00 EST\", \"Jan 27 2020 09:00 EST\", \"Jan 26 2020 23:00 EST\", \"Jan 26 2020 11:00 EST\", \"Jan 25 2020 22:00 EST\", \"Jan 25 2020 12:00 EST\", \"Jan 25 2020 00:00 EST\", \"Jan 24 2020 12:00 EST\", \"Jan 24 2020 00:00 EST\", \"Jan 23 2020 12:00 EST\", \"Jan 22 2020 12:00 EST\", \"Jan 21 2020 00:00 EST\"], \"type\": \"scatter\", \"x\": [\"2020-01-30T21:30:00\", \"2020-01-30T11:00:00\", \"2020-01-29T21:00:00\", \"2020-01-29T14:30:00\", \"2020-01-29T13:30:00\", \"2020-01-28T23:00:00\", \"2020-01-28T18:00:00\", \"2020-01-28T13:00:00\", \"2020-01-27T20:30:00\", \"2020-01-27T19:00:00\", \"2020-01-27T09:00:00\", \"2020-01-26T23:00:00\", \"2020-01-26T11:00:00\", \"2020-01-25T22:00:00\", \"2020-01-25T12:00:00\", \"2020-01-25T00:00:00\", \"2020-01-24T12:00:00\", \"2020-01-24T00:00:00\", \"2020-01-23T12:00:00\", \"2020-01-22T12:00:00\", \"2020-01-21T00:00:00\"], \"y\": [8, 8, 6, 6, 6, 6, 6, 6, 3, 3, 3, 3, 3, 0, 0, 0, 0, 0, 0, 0, 0]}],\n",
       "                        {\"font\": {\"color\": \"#7fafdf\"}, \"hovermode\": \"x\", \"legend\": {\"orientation\": \"h\"}, \"margin\": {\"b\": 10, \"l\": 5, \"pad\": 0, \"r\": 10, \"t\": 50}, \"paper_bgcolor\": \"#272e3e\", \"plot_bgcolor\": \"#151920\", \"template\": {\"data\": {\"bar\": [{\"error_x\": {\"color\": \"#2a3f5f\"}, \"error_y\": {\"color\": \"#2a3f5f\"}, \"marker\": {\"line\": {\"color\": \"#E5ECF6\", \"width\": 0.5}}, \"type\": \"bar\"}], \"barpolar\": [{\"marker\": {\"line\": {\"color\": \"#E5ECF6\", \"width\": 0.5}}, \"type\": \"barpolar\"}], \"carpet\": [{\"aaxis\": {\"endlinecolor\": \"#2a3f5f\", \"gridcolor\": \"white\", \"linecolor\": \"white\", \"minorgridcolor\": \"white\", \"startlinecolor\": \"#2a3f5f\"}, \"baxis\": {\"endlinecolor\": \"#2a3f5f\", \"gridcolor\": \"white\", \"linecolor\": \"white\", \"minorgridcolor\": \"white\", \"startlinecolor\": \"#2a3f5f\"}, \"type\": \"carpet\"}], \"choropleth\": [{\"colorbar\": {\"outlinewidth\": 0, \"ticks\": \"\"}, \"type\": \"choropleth\"}], \"contour\": [{\"colorbar\": {\"outlinewidth\": 0, \"ticks\": \"\"}, \"colorscale\": [[0.0, \"#0d0887\"], [0.1111111111111111, \"#46039f\"], [0.2222222222222222, \"#7201a8\"], [0.3333333333333333, \"#9c179e\"], [0.4444444444444444, \"#bd3786\"], [0.5555555555555556, \"#d8576b\"], [0.6666666666666666, \"#ed7953\"], [0.7777777777777778, \"#fb9f3a\"], [0.8888888888888888, \"#fdca26\"], [1.0, \"#f0f921\"]], \"type\": \"contour\"}], \"contourcarpet\": [{\"colorbar\": {\"outlinewidth\": 0, \"ticks\": \"\"}, \"type\": \"contourcarpet\"}], \"heatmap\": [{\"colorbar\": {\"outlinewidth\": 0, \"ticks\": \"\"}, \"colorscale\": [[0.0, \"#0d0887\"], [0.1111111111111111, \"#46039f\"], [0.2222222222222222, \"#7201a8\"], [0.3333333333333333, \"#9c179e\"], [0.4444444444444444, \"#bd3786\"], [0.5555555555555556, \"#d8576b\"], [0.6666666666666666, \"#ed7953\"], [0.7777777777777778, \"#fb9f3a\"], [0.8888888888888888, \"#fdca26\"], [1.0, \"#f0f921\"]], \"type\": \"heatmap\"}], \"heatmapgl\": [{\"colorbar\": {\"outlinewidth\": 0, \"ticks\": \"\"}, \"colorscale\": [[0.0, \"#0d0887\"], [0.1111111111111111, \"#46039f\"], [0.2222222222222222, \"#7201a8\"], [0.3333333333333333, \"#9c179e\"], [0.4444444444444444, \"#bd3786\"], [0.5555555555555556, \"#d8576b\"], [0.6666666666666666, \"#ed7953\"], [0.7777777777777778, \"#fb9f3a\"], [0.8888888888888888, \"#fdca26\"], [1.0, \"#f0f921\"]], \"type\": \"heatmapgl\"}], \"histogram\": [{\"marker\": {\"colorbar\": {\"outlinewidth\": 0, \"ticks\": \"\"}}, \"type\": \"histogram\"}], \"histogram2d\": [{\"colorbar\": {\"outlinewidth\": 0, \"ticks\": \"\"}, \"colorscale\": [[0.0, \"#0d0887\"], [0.1111111111111111, \"#46039f\"], [0.2222222222222222, \"#7201a8\"], [0.3333333333333333, \"#9c179e\"], [0.4444444444444444, \"#bd3786\"], [0.5555555555555556, \"#d8576b\"], [0.6666666666666666, \"#ed7953\"], [0.7777777777777778, \"#fb9f3a\"], [0.8888888888888888, \"#fdca26\"], [1.0, \"#f0f921\"]], \"type\": \"histogram2d\"}], \"histogram2dcontour\": [{\"colorbar\": {\"outlinewidth\": 0, \"ticks\": \"\"}, \"colorscale\": [[0.0, \"#0d0887\"], [0.1111111111111111, \"#46039f\"], [0.2222222222222222, \"#7201a8\"], [0.3333333333333333, \"#9c179e\"], [0.4444444444444444, \"#bd3786\"], [0.5555555555555556, \"#d8576b\"], [0.6666666666666666, \"#ed7953\"], [0.7777777777777778, \"#fb9f3a\"], [0.8888888888888888, \"#fdca26\"], [1.0, \"#f0f921\"]], \"type\": \"histogram2dcontour\"}], \"mesh3d\": [{\"colorbar\": {\"outlinewidth\": 0, \"ticks\": \"\"}, \"type\": \"mesh3d\"}], \"parcoords\": [{\"line\": {\"colorbar\": {\"outlinewidth\": 0, \"ticks\": \"\"}}, \"type\": \"parcoords\"}], \"pie\": [{\"automargin\": true, \"type\": \"pie\"}], \"scatter\": [{\"marker\": {\"colorbar\": {\"outlinewidth\": 0, \"ticks\": \"\"}}, \"type\": \"scatter\"}], \"scatter3d\": [{\"line\": {\"colorbar\": {\"outlinewidth\": 0, \"ticks\": \"\"}}, \"marker\": {\"colorbar\": {\"outlinewidth\": 0, \"ticks\": \"\"}}, \"type\": \"scatter3d\"}], \"scattercarpet\": [{\"marker\": {\"colorbar\": {\"outlinewidth\": 0, \"ticks\": \"\"}}, \"type\": \"scattercarpet\"}], \"scattergeo\": [{\"marker\": {\"colorbar\": {\"outlinewidth\": 0, \"ticks\": \"\"}}, \"type\": \"scattergeo\"}], \"scattergl\": [{\"marker\": {\"colorbar\": {\"outlinewidth\": 0, \"ticks\": \"\"}}, \"type\": \"scattergl\"}], \"scattermapbox\": [{\"marker\": {\"colorbar\": {\"outlinewidth\": 0, \"ticks\": \"\"}}, \"type\": \"scattermapbox\"}], \"scatterpolar\": [{\"marker\": {\"colorbar\": {\"outlinewidth\": 0, \"ticks\": \"\"}}, \"type\": \"scatterpolar\"}], \"scatterpolargl\": [{\"marker\": {\"colorbar\": {\"outlinewidth\": 0, \"ticks\": \"\"}}, \"type\": \"scatterpolargl\"}], \"scatterternary\": [{\"marker\": {\"colorbar\": {\"outlinewidth\": 0, \"ticks\": \"\"}}, \"type\": \"scatterternary\"}], \"surface\": [{\"colorbar\": {\"outlinewidth\": 0, \"ticks\": \"\"}, \"colorscale\": [[0.0, \"#0d0887\"], [0.1111111111111111, \"#46039f\"], [0.2222222222222222, \"#7201a8\"], [0.3333333333333333, \"#9c179e\"], [0.4444444444444444, \"#bd3786\"], [0.5555555555555556, \"#d8576b\"], [0.6666666666666666, \"#ed7953\"], [0.7777777777777778, \"#fb9f3a\"], [0.8888888888888888, \"#fdca26\"], [1.0, \"#f0f921\"]], \"type\": \"surface\"}], \"table\": [{\"cells\": {\"fill\": {\"color\": \"#EBF0F8\"}, \"line\": {\"color\": \"white\"}}, \"header\": {\"fill\": {\"color\": \"#C8D4E3\"}, \"line\": {\"color\": \"white\"}}, \"type\": \"table\"}]}, \"layout\": {\"annotationdefaults\": {\"arrowcolor\": \"#2a3f5f\", \"arrowhead\": 0, \"arrowwidth\": 1}, \"coloraxis\": {\"colorbar\": {\"outlinewidth\": 0, \"ticks\": \"\"}}, \"colorscale\": {\"diverging\": [[0, \"#8e0152\"], [0.1, \"#c51b7d\"], [0.2, \"#de77ae\"], [0.3, \"#f1b6da\"], [0.4, \"#fde0ef\"], [0.5, \"#f7f7f7\"], [0.6, \"#e6f5d0\"], [0.7, \"#b8e186\"], [0.8, \"#7fbc41\"], [0.9, \"#4d9221\"], [1, \"#276419\"]], \"sequential\": [[0.0, \"#0d0887\"], [0.1111111111111111, \"#46039f\"], [0.2222222222222222, \"#7201a8\"], [0.3333333333333333, \"#9c179e\"], [0.4444444444444444, \"#bd3786\"], [0.5555555555555556, \"#d8576b\"], [0.6666666666666666, \"#ed7953\"], [0.7777777777777778, \"#fb9f3a\"], [0.8888888888888888, \"#fdca26\"], [1.0, \"#f0f921\"]], \"sequentialminus\": [[0.0, \"#0d0887\"], [0.1111111111111111, \"#46039f\"], [0.2222222222222222, \"#7201a8\"], [0.3333333333333333, \"#9c179e\"], [0.4444444444444444, \"#bd3786\"], [0.5555555555555556, \"#d8576b\"], [0.6666666666666666, \"#ed7953\"], [0.7777777777777778, \"#fb9f3a\"], [0.8888888888888888, \"#fdca26\"], [1.0, \"#f0f921\"]]}, \"colorway\": [\"#636efa\", \"#EF553B\", \"#00cc96\", \"#ab63fa\", \"#FFA15A\", \"#19d3f3\", \"#FF6692\", \"#B6E880\", \"#FF97FF\", \"#FECB52\"], \"font\": {\"color\": \"#2a3f5f\"}, \"geo\": {\"bgcolor\": \"white\", \"lakecolor\": \"white\", \"landcolor\": \"#E5ECF6\", \"showlakes\": true, \"showland\": true, \"subunitcolor\": \"white\"}, \"hoverlabel\": {\"align\": \"left\"}, \"hovermode\": \"closest\", \"mapbox\": {\"style\": \"light\"}, \"paper_bgcolor\": \"white\", \"plot_bgcolor\": \"#E5ECF6\", \"polar\": {\"angularaxis\": {\"gridcolor\": \"white\", \"linecolor\": \"white\", \"ticks\": \"\"}, \"bgcolor\": \"#E5ECF6\", \"radialaxis\": {\"gridcolor\": \"white\", \"linecolor\": \"white\", \"ticks\": \"\"}}, \"scene\": {\"xaxis\": {\"backgroundcolor\": \"#E5ECF6\", \"gridcolor\": \"white\", \"gridwidth\": 2, \"linecolor\": \"white\", \"showbackground\": true, \"ticks\": \"\", \"zerolinecolor\": \"white\"}, \"yaxis\": {\"backgroundcolor\": \"#E5ECF6\", \"gridcolor\": \"white\", \"gridwidth\": 2, \"linecolor\": \"white\", \"showbackground\": true, \"ticks\": \"\", \"zerolinecolor\": \"white\"}, \"zaxis\": {\"backgroundcolor\": \"#E5ECF6\", \"gridcolor\": \"white\", \"gridwidth\": 2, \"linecolor\": \"white\", \"showbackground\": true, \"ticks\": \"\", \"zerolinecolor\": \"white\"}}, \"shapedefaults\": {\"line\": {\"color\": \"#2a3f5f\"}}, \"ternary\": {\"aaxis\": {\"gridcolor\": \"white\", \"linecolor\": \"white\", \"ticks\": \"\"}, \"baxis\": {\"gridcolor\": \"white\", \"linecolor\": \"white\", \"ticks\": \"\"}, \"bgcolor\": \"#E5ECF6\", \"caxis\": {\"gridcolor\": \"white\", \"linecolor\": \"white\", \"ticks\": \"\"}}, \"title\": {\"x\": 0.05}, \"xaxis\": {\"automargin\": true, \"gridcolor\": \"white\", \"linecolor\": \"white\", \"ticks\": \"\", \"title\": {\"standoff\": 15}, \"zerolinecolor\": \"white\", \"zerolinewidth\": 2}, \"yaxis\": {\"automargin\": true, \"gridcolor\": \"white\", \"linecolor\": \"white\", \"ticks\": \"\", \"title\": {\"standoff\": 15}, \"zerolinecolor\": \"white\", \"zerolinewidth\": 2}}}, \"title\": {\"font\": {\"color\": \"#7fafdf\", \"family\": \"Playfair Display\", \"size\": 20}, \"text\": \"<b>Recovered Cases Timeline<b>\", \"x\": 0.5, \"xanchor\": \"center\", \"y\": 0.96, \"yanchor\": \"top\"}, \"xaxis\": {\"gridcolor\": \"#272e3e\", \"gridwidth\": 0.1, \"linecolor\": \"#272e3e\", \"showline\": true, \"tickformat\": \"%b %d\", \"zeroline\": false}, \"yaxis\": {\"gridcolor\": \"#272e3e\", \"gridwidth\": 0.1, \"linecolor\": \"#272e3e\", \"showline\": true, \"tickmode\": \"array\", \"ticktext\": [\"0\", \"20\", \"40\", \"60\", \"80\", \"100\", \"120\", \"140\", \"160\", \"180\", \"200\", \"220\", \"240\", \"260\"], \"tickvals\": [0, 20, 40, 60, 80, 100, 120, 140, 160, 180, 200, 220, 240, 260], \"title\": {\"text\": \"Total Recovered Case Number\"}, \"zeroline\": false}},\n",
       "                        {\"responsive\": true}\n",
       "                    ).then(function(){\n",
       "                            \n",
       "var gd = document.getElementById('761ba915-7e4f-467a-91b8-fd3695899cc3');\n",
       "var x = new MutationObserver(function (mutations, observer) {{\n",
       "        var display = window.getComputedStyle(gd).display;\n",
       "        if (!display || display === 'none') {{\n",
       "            console.log([gd, 'removed!']);\n",
       "            Plotly.purge(gd);\n",
       "            observer.disconnect();\n",
       "        }}\n",
       "}});\n",
       "\n",
       "// Listen for the removal of the full notebook cells\n",
       "var notebookContainer = gd.closest('#notebook-container');\n",
       "if (notebookContainer) {{\n",
       "    x.observe(notebookContainer, {childList: true});\n",
       "}}\n",
       "\n",
       "// Listen for the clearing of the current output cell\n",
       "var outputEl = gd.closest('.output');\n",
       "if (outputEl) {{\n",
       "    x.observe(outputEl, {childList: true});\n",
       "}}\n",
       "\n",
       "                        })\n",
       "                };\n",
       "                });\n",
       "            </script>\n",
       "        </div>"
      ]
     },
     "metadata": {},
     "output_type": "display_data"
    }
   ],
   "source": [
    "# Line plot for recovered cases\n",
    "# Set up tick scale based on confirmed case number\n",
    "tickList = list(np.arange(0, df_recovered['Mainland China'].max()+100, 20))\n",
    "\n",
    "# Create empty figure canvas\n",
    "fig_recovered = go.Figure()\n",
    "# Add trace to the figure\n",
    "fig_recovered.add_trace(go.Scatter(x=df_recovered['Date'], y=df_recovered['Mainland China'],\n",
    "                         mode='lines+markers',\n",
    "                         name='Mainland China',\n",
    "                         line=dict(color='#0f5525', width=2),\n",
    "                         marker=dict(size=8),\n",
    "                         text=[datetime.strftime(d, '%b %d %Y %H:%M EST') for d in df_recovered['Date']],\n",
    "                         hovertemplate='<b>%{text}</b><br></br>'+\n",
    "                                       'Mainland China recovered<br>'+\n",
    "                                       '%{y} cases<br>'+\n",
    "                                       '<extra></extra>'))\n",
    "fig_recovered.add_trace(go.Scatter(x=df_recovered['Date'], y=df_recovered['Other locations'],\n",
    "                         mode='lines+markers',\n",
    "                         name='Other Region',\n",
    "                         line=dict(color='#25d75d', width=2),\n",
    "                         marker=dict(size=8),\n",
    "                         text=[datetime.strftime(d, '%b %d %Y %H:%M EST') for d in df_recovered['Date']],\n",
    "                         hovertemplate='<b>%{text}</b><br></br>'+\n",
    "                                       'Other region recovered<br>'+\n",
    "                                       '%{y} cases<br>'+\n",
    "                                       '<extra></extra>'))\n",
    "# Customise layout\n",
    "fig_recovered.update_layout(\n",
    "    title=dict(\n",
    "        text=\"<b>Recovered Cases Timeline<b>\",\n",
    "        y=0.96, x=0.5, xanchor='center', yanchor='top',\n",
    "        font=dict(size=20, color=\"#7fafdf\", family=\"Playfair Display\")\n",
    "    ),\n",
    "    margin=go.layout.Margin(\n",
    "        l=5,\n",
    "        r=10,\n",
    "        b=10,\n",
    "        t=50,\n",
    "        pad=0\n",
    "    ),\n",
    "    yaxis=dict(\n",
    "        showline=True, linecolor='#272e3e',\n",
    "        zeroline=False,\n",
    "        gridcolor='#272e3e',\n",
    "        gridwidth = .1,\n",
    "        tickmode='array',\n",
    "        # Set tick range based on the maximum number\n",
    "        tickvals=tickList,\n",
    "        # Set tick label accordingly\n",
    "        ticktext=['{:.0f}'.format(i) for i in tickList]\n",
    "    ),\n",
    "    yaxis_title=\"Total Recovered Case Number\",\n",
    "    xaxis=dict(\n",
    "        showline=True, linecolor='#272e3e',\n",
    "        gridcolor='#272e3e',\n",
    "        gridwidth = .1,\n",
    "        zeroline=False\n",
    "    ),\n",
    "    xaxis_tickformat='%b %d',\n",
    "    hovermode = 'x',\n",
    "    legend_orientation=\"h\",\n",
    "    plot_bgcolor='#151920',\n",
    "    paper_bgcolor='#272e3e',\n",
    "    font=dict(color='#7fafdf')\n",
    ")\n",
    "\n",
    "fig_recovered.show()"
   ]
  },
  {
   "cell_type": "code",
   "execution_count": 341,
   "metadata": {},
   "outputs": [
    {
     "data": {
      "application/vnd.plotly.v1+json": {
       "config": {
        "plotlyServerURL": "https://plot.ly"
       },
       "data": [
        {
         "hovertemplate": "<b>%{text}</b><br></br>Mainland China death<br>%{y} cases<br><extra></extra>",
         "line": {
          "color": "#fc8715",
          "width": 2
         },
         "marker": {
          "size": 8
         },
         "mode": "lines+markers",
         "name": "Mainland China",
         "text": [
          "Jan 30 2020 21:30 EST",
          "Jan 30 2020 11:00 EST",
          "Jan 29 2020 21:00 EST",
          "Jan 29 2020 14:30 EST",
          "Jan 29 2020 13:30 EST",
          "Jan 28 2020 23:00 EST",
          "Jan 28 2020 18:00 EST",
          "Jan 28 2020 13:00 EST",
          "Jan 27 2020 20:30 EST",
          "Jan 27 2020 19:00 EST",
          "Jan 27 2020 09:00 EST",
          "Jan 26 2020 23:00 EST",
          "Jan 26 2020 11:00 EST",
          "Jan 25 2020 22:00 EST",
          "Jan 25 2020 12:00 EST",
          "Jan 25 2020 00:00 EST",
          "Jan 24 2020 12:00 EST",
          "Jan 24 2020 00:00 EST",
          "Jan 23 2020 12:00 EST",
          "Jan 22 2020 12:00 EST",
          "Jan 21 2020 00:00 EST"
         ],
         "type": "scatter",
         "x": [
          "2020-01-30T21:30:00",
          "2020-01-30T11:00:00",
          "2020-01-29T21:00:00",
          "2020-01-29T14:30:00",
          "2020-01-29T13:30:00",
          "2020-01-28T23:00:00",
          "2020-01-28T18:00:00",
          "2020-01-28T13:00:00",
          "2020-01-27T20:30:00",
          "2020-01-27T19:00:00",
          "2020-01-27T09:00:00",
          "2020-01-26T23:00:00",
          "2020-01-26T11:00:00",
          "2020-01-25T22:00:00",
          "2020-01-25T12:00:00",
          "2020-01-25T00:00:00",
          "2020-01-24T12:00:00",
          "2020-01-24T00:00:00",
          "2020-01-23T12:00:00",
          "2020-01-22T12:00:00",
          "2020-01-21T00:00:00"
         ],
         "y": [
          213,
          171,
          170,
          133,
          132,
          132,
          131,
          106,
          107,
          82,
          81,
          80,
          56,
          56,
          42,
          41,
          26,
          26,
          18,
          0,
          0
         ]
        },
        {
         "hovertemplate": "<b>%{text}</b><br></br>Other region death<br>%{y} cases<br><extra></extra>",
         "line": {
          "color": "#fed5ad",
          "width": 2
         },
         "marker": {
          "size": 8
         },
         "mode": "lines+markers",
         "name": "Other Region",
         "text": [
          "Jan 30 2020 21:30 EST",
          "Jan 30 2020 11:00 EST",
          "Jan 29 2020 21:00 EST",
          "Jan 29 2020 14:30 EST",
          "Jan 29 2020 13:30 EST",
          "Jan 28 2020 23:00 EST",
          "Jan 28 2020 18:00 EST",
          "Jan 28 2020 13:00 EST",
          "Jan 27 2020 20:30 EST",
          "Jan 27 2020 19:00 EST",
          "Jan 27 2020 09:00 EST",
          "Jan 26 2020 23:00 EST",
          "Jan 26 2020 11:00 EST",
          "Jan 25 2020 22:00 EST",
          "Jan 25 2020 12:00 EST",
          "Jan 25 2020 00:00 EST",
          "Jan 24 2020 12:00 EST",
          "Jan 24 2020 00:00 EST",
          "Jan 23 2020 12:00 EST",
          "Jan 22 2020 12:00 EST",
          "Jan 21 2020 00:00 EST"
         ],
         "type": "scatter",
         "x": [
          "2020-01-30T21:30:00",
          "2020-01-30T11:00:00",
          "2020-01-29T21:00:00",
          "2020-01-29T14:30:00",
          "2020-01-29T13:30:00",
          "2020-01-28T23:00:00",
          "2020-01-28T18:00:00",
          "2020-01-28T13:00:00",
          "2020-01-27T20:30:00",
          "2020-01-27T19:00:00",
          "2020-01-27T09:00:00",
          "2020-01-26T23:00:00",
          "2020-01-26T11:00:00",
          "2020-01-25T22:00:00",
          "2020-01-25T12:00:00",
          "2020-01-25T00:00:00",
          "2020-01-24T12:00:00",
          "2020-01-24T00:00:00",
          "2020-01-23T12:00:00",
          "2020-01-22T12:00:00",
          "2020-01-21T00:00:00"
         ],
         "y": [
          0,
          0,
          0,
          0,
          0,
          0,
          0,
          0,
          0,
          0,
          0,
          0,
          0,
          0,
          0,
          0,
          0,
          0,
          0,
          0,
          0
         ]
        }
       ],
       "layout": {
        "font": {
         "color": "#7fafdf"
        },
        "hovermode": "x",
        "legend": {
         "orientation": "h"
        },
        "margin": {
         "b": 10,
         "l": 5,
         "pad": 0,
         "r": 10,
         "t": 50
        },
        "paper_bgcolor": "#272e3e",
        "plot_bgcolor": "#151920",
        "template": {
         "data": {
          "bar": [
           {
            "error_x": {
             "color": "#2a3f5f"
            },
            "error_y": {
             "color": "#2a3f5f"
            },
            "marker": {
             "line": {
              "color": "#E5ECF6",
              "width": 0.5
             }
            },
            "type": "bar"
           }
          ],
          "barpolar": [
           {
            "marker": {
             "line": {
              "color": "#E5ECF6",
              "width": 0.5
             }
            },
            "type": "barpolar"
           }
          ],
          "carpet": [
           {
            "aaxis": {
             "endlinecolor": "#2a3f5f",
             "gridcolor": "white",
             "linecolor": "white",
             "minorgridcolor": "white",
             "startlinecolor": "#2a3f5f"
            },
            "baxis": {
             "endlinecolor": "#2a3f5f",
             "gridcolor": "white",
             "linecolor": "white",
             "minorgridcolor": "white",
             "startlinecolor": "#2a3f5f"
            },
            "type": "carpet"
           }
          ],
          "choropleth": [
           {
            "colorbar": {
             "outlinewidth": 0,
             "ticks": ""
            },
            "type": "choropleth"
           }
          ],
          "contour": [
           {
            "colorbar": {
             "outlinewidth": 0,
             "ticks": ""
            },
            "colorscale": [
             [
              0,
              "#0d0887"
             ],
             [
              0.1111111111111111,
              "#46039f"
             ],
             [
              0.2222222222222222,
              "#7201a8"
             ],
             [
              0.3333333333333333,
              "#9c179e"
             ],
             [
              0.4444444444444444,
              "#bd3786"
             ],
             [
              0.5555555555555556,
              "#d8576b"
             ],
             [
              0.6666666666666666,
              "#ed7953"
             ],
             [
              0.7777777777777778,
              "#fb9f3a"
             ],
             [
              0.8888888888888888,
              "#fdca26"
             ],
             [
              1,
              "#f0f921"
             ]
            ],
            "type": "contour"
           }
          ],
          "contourcarpet": [
           {
            "colorbar": {
             "outlinewidth": 0,
             "ticks": ""
            },
            "type": "contourcarpet"
           }
          ],
          "heatmap": [
           {
            "colorbar": {
             "outlinewidth": 0,
             "ticks": ""
            },
            "colorscale": [
             [
              0,
              "#0d0887"
             ],
             [
              0.1111111111111111,
              "#46039f"
             ],
             [
              0.2222222222222222,
              "#7201a8"
             ],
             [
              0.3333333333333333,
              "#9c179e"
             ],
             [
              0.4444444444444444,
              "#bd3786"
             ],
             [
              0.5555555555555556,
              "#d8576b"
             ],
             [
              0.6666666666666666,
              "#ed7953"
             ],
             [
              0.7777777777777778,
              "#fb9f3a"
             ],
             [
              0.8888888888888888,
              "#fdca26"
             ],
             [
              1,
              "#f0f921"
             ]
            ],
            "type": "heatmap"
           }
          ],
          "heatmapgl": [
           {
            "colorbar": {
             "outlinewidth": 0,
             "ticks": ""
            },
            "colorscale": [
             [
              0,
              "#0d0887"
             ],
             [
              0.1111111111111111,
              "#46039f"
             ],
             [
              0.2222222222222222,
              "#7201a8"
             ],
             [
              0.3333333333333333,
              "#9c179e"
             ],
             [
              0.4444444444444444,
              "#bd3786"
             ],
             [
              0.5555555555555556,
              "#d8576b"
             ],
             [
              0.6666666666666666,
              "#ed7953"
             ],
             [
              0.7777777777777778,
              "#fb9f3a"
             ],
             [
              0.8888888888888888,
              "#fdca26"
             ],
             [
              1,
              "#f0f921"
             ]
            ],
            "type": "heatmapgl"
           }
          ],
          "histogram": [
           {
            "marker": {
             "colorbar": {
              "outlinewidth": 0,
              "ticks": ""
             }
            },
            "type": "histogram"
           }
          ],
          "histogram2d": [
           {
            "colorbar": {
             "outlinewidth": 0,
             "ticks": ""
            },
            "colorscale": [
             [
              0,
              "#0d0887"
             ],
             [
              0.1111111111111111,
              "#46039f"
             ],
             [
              0.2222222222222222,
              "#7201a8"
             ],
             [
              0.3333333333333333,
              "#9c179e"
             ],
             [
              0.4444444444444444,
              "#bd3786"
             ],
             [
              0.5555555555555556,
              "#d8576b"
             ],
             [
              0.6666666666666666,
              "#ed7953"
             ],
             [
              0.7777777777777778,
              "#fb9f3a"
             ],
             [
              0.8888888888888888,
              "#fdca26"
             ],
             [
              1,
              "#f0f921"
             ]
            ],
            "type": "histogram2d"
           }
          ],
          "histogram2dcontour": [
           {
            "colorbar": {
             "outlinewidth": 0,
             "ticks": ""
            },
            "colorscale": [
             [
              0,
              "#0d0887"
             ],
             [
              0.1111111111111111,
              "#46039f"
             ],
             [
              0.2222222222222222,
              "#7201a8"
             ],
             [
              0.3333333333333333,
              "#9c179e"
             ],
             [
              0.4444444444444444,
              "#bd3786"
             ],
             [
              0.5555555555555556,
              "#d8576b"
             ],
             [
              0.6666666666666666,
              "#ed7953"
             ],
             [
              0.7777777777777778,
              "#fb9f3a"
             ],
             [
              0.8888888888888888,
              "#fdca26"
             ],
             [
              1,
              "#f0f921"
             ]
            ],
            "type": "histogram2dcontour"
           }
          ],
          "mesh3d": [
           {
            "colorbar": {
             "outlinewidth": 0,
             "ticks": ""
            },
            "type": "mesh3d"
           }
          ],
          "parcoords": [
           {
            "line": {
             "colorbar": {
              "outlinewidth": 0,
              "ticks": ""
             }
            },
            "type": "parcoords"
           }
          ],
          "pie": [
           {
            "automargin": true,
            "type": "pie"
           }
          ],
          "scatter": [
           {
            "marker": {
             "colorbar": {
              "outlinewidth": 0,
              "ticks": ""
             }
            },
            "type": "scatter"
           }
          ],
          "scatter3d": [
           {
            "line": {
             "colorbar": {
              "outlinewidth": 0,
              "ticks": ""
             }
            },
            "marker": {
             "colorbar": {
              "outlinewidth": 0,
              "ticks": ""
             }
            },
            "type": "scatter3d"
           }
          ],
          "scattercarpet": [
           {
            "marker": {
             "colorbar": {
              "outlinewidth": 0,
              "ticks": ""
             }
            },
            "type": "scattercarpet"
           }
          ],
          "scattergeo": [
           {
            "marker": {
             "colorbar": {
              "outlinewidth": 0,
              "ticks": ""
             }
            },
            "type": "scattergeo"
           }
          ],
          "scattergl": [
           {
            "marker": {
             "colorbar": {
              "outlinewidth": 0,
              "ticks": ""
             }
            },
            "type": "scattergl"
           }
          ],
          "scattermapbox": [
           {
            "marker": {
             "colorbar": {
              "outlinewidth": 0,
              "ticks": ""
             }
            },
            "type": "scattermapbox"
           }
          ],
          "scatterpolar": [
           {
            "marker": {
             "colorbar": {
              "outlinewidth": 0,
              "ticks": ""
             }
            },
            "type": "scatterpolar"
           }
          ],
          "scatterpolargl": [
           {
            "marker": {
             "colorbar": {
              "outlinewidth": 0,
              "ticks": ""
             }
            },
            "type": "scatterpolargl"
           }
          ],
          "scatterternary": [
           {
            "marker": {
             "colorbar": {
              "outlinewidth": 0,
              "ticks": ""
             }
            },
            "type": "scatterternary"
           }
          ],
          "surface": [
           {
            "colorbar": {
             "outlinewidth": 0,
             "ticks": ""
            },
            "colorscale": [
             [
              0,
              "#0d0887"
             ],
             [
              0.1111111111111111,
              "#46039f"
             ],
             [
              0.2222222222222222,
              "#7201a8"
             ],
             [
              0.3333333333333333,
              "#9c179e"
             ],
             [
              0.4444444444444444,
              "#bd3786"
             ],
             [
              0.5555555555555556,
              "#d8576b"
             ],
             [
              0.6666666666666666,
              "#ed7953"
             ],
             [
              0.7777777777777778,
              "#fb9f3a"
             ],
             [
              0.8888888888888888,
              "#fdca26"
             ],
             [
              1,
              "#f0f921"
             ]
            ],
            "type": "surface"
           }
          ],
          "table": [
           {
            "cells": {
             "fill": {
              "color": "#EBF0F8"
             },
             "line": {
              "color": "white"
             }
            },
            "header": {
             "fill": {
              "color": "#C8D4E3"
             },
             "line": {
              "color": "white"
             }
            },
            "type": "table"
           }
          ]
         },
         "layout": {
          "annotationdefaults": {
           "arrowcolor": "#2a3f5f",
           "arrowhead": 0,
           "arrowwidth": 1
          },
          "coloraxis": {
           "colorbar": {
            "outlinewidth": 0,
            "ticks": ""
           }
          },
          "colorscale": {
           "diverging": [
            [
             0,
             "#8e0152"
            ],
            [
             0.1,
             "#c51b7d"
            ],
            [
             0.2,
             "#de77ae"
            ],
            [
             0.3,
             "#f1b6da"
            ],
            [
             0.4,
             "#fde0ef"
            ],
            [
             0.5,
             "#f7f7f7"
            ],
            [
             0.6,
             "#e6f5d0"
            ],
            [
             0.7,
             "#b8e186"
            ],
            [
             0.8,
             "#7fbc41"
            ],
            [
             0.9,
             "#4d9221"
            ],
            [
             1,
             "#276419"
            ]
           ],
           "sequential": [
            [
             0,
             "#0d0887"
            ],
            [
             0.1111111111111111,
             "#46039f"
            ],
            [
             0.2222222222222222,
             "#7201a8"
            ],
            [
             0.3333333333333333,
             "#9c179e"
            ],
            [
             0.4444444444444444,
             "#bd3786"
            ],
            [
             0.5555555555555556,
             "#d8576b"
            ],
            [
             0.6666666666666666,
             "#ed7953"
            ],
            [
             0.7777777777777778,
             "#fb9f3a"
            ],
            [
             0.8888888888888888,
             "#fdca26"
            ],
            [
             1,
             "#f0f921"
            ]
           ],
           "sequentialminus": [
            [
             0,
             "#0d0887"
            ],
            [
             0.1111111111111111,
             "#46039f"
            ],
            [
             0.2222222222222222,
             "#7201a8"
            ],
            [
             0.3333333333333333,
             "#9c179e"
            ],
            [
             0.4444444444444444,
             "#bd3786"
            ],
            [
             0.5555555555555556,
             "#d8576b"
            ],
            [
             0.6666666666666666,
             "#ed7953"
            ],
            [
             0.7777777777777778,
             "#fb9f3a"
            ],
            [
             0.8888888888888888,
             "#fdca26"
            ],
            [
             1,
             "#f0f921"
            ]
           ]
          },
          "colorway": [
           "#636efa",
           "#EF553B",
           "#00cc96",
           "#ab63fa",
           "#FFA15A",
           "#19d3f3",
           "#FF6692",
           "#B6E880",
           "#FF97FF",
           "#FECB52"
          ],
          "font": {
           "color": "#2a3f5f"
          },
          "geo": {
           "bgcolor": "white",
           "lakecolor": "white",
           "landcolor": "#E5ECF6",
           "showlakes": true,
           "showland": true,
           "subunitcolor": "white"
          },
          "hoverlabel": {
           "align": "left"
          },
          "hovermode": "closest",
          "mapbox": {
           "style": "light"
          },
          "paper_bgcolor": "white",
          "plot_bgcolor": "#E5ECF6",
          "polar": {
           "angularaxis": {
            "gridcolor": "white",
            "linecolor": "white",
            "ticks": ""
           },
           "bgcolor": "#E5ECF6",
           "radialaxis": {
            "gridcolor": "white",
            "linecolor": "white",
            "ticks": ""
           }
          },
          "scene": {
           "xaxis": {
            "backgroundcolor": "#E5ECF6",
            "gridcolor": "white",
            "gridwidth": 2,
            "linecolor": "white",
            "showbackground": true,
            "ticks": "",
            "zerolinecolor": "white"
           },
           "yaxis": {
            "backgroundcolor": "#E5ECF6",
            "gridcolor": "white",
            "gridwidth": 2,
            "linecolor": "white",
            "showbackground": true,
            "ticks": "",
            "zerolinecolor": "white"
           },
           "zaxis": {
            "backgroundcolor": "#E5ECF6",
            "gridcolor": "white",
            "gridwidth": 2,
            "linecolor": "white",
            "showbackground": true,
            "ticks": "",
            "zerolinecolor": "white"
           }
          },
          "shapedefaults": {
           "line": {
            "color": "#2a3f5f"
           }
          },
          "ternary": {
           "aaxis": {
            "gridcolor": "white",
            "linecolor": "white",
            "ticks": ""
           },
           "baxis": {
            "gridcolor": "white",
            "linecolor": "white",
            "ticks": ""
           },
           "bgcolor": "#E5ECF6",
           "caxis": {
            "gridcolor": "white",
            "linecolor": "white",
            "ticks": ""
           }
          },
          "title": {
           "x": 0.05
          },
          "xaxis": {
           "automargin": true,
           "gridcolor": "white",
           "linecolor": "white",
           "ticks": "",
           "title": {
            "standoff": 15
           },
           "zerolinecolor": "white",
           "zerolinewidth": 2
          },
          "yaxis": {
           "automargin": true,
           "gridcolor": "white",
           "linecolor": "white",
           "ticks": "",
           "title": {
            "standoff": 15
           },
           "zerolinecolor": "white",
           "zerolinewidth": 2
          }
         }
        },
        "title": {
         "font": {
          "color": "#7fafdf",
          "family": "Playfair Display",
          "size": 20
         },
         "text": "<b>Death Cases Timeline<b>",
         "x": 0.5,
         "xanchor": "center",
         "y": 0.96,
         "yanchor": "top"
        },
        "xaxis": {
         "gridcolor": "#272e3e",
         "gridwidth": 0.1,
         "linecolor": "#272e3e",
         "showline": true,
         "tickformat": "%b %d",
         "zeroline": false
        },
        "yaxis": {
         "gridcolor": "#272e3e",
         "gridwidth": 0.1,
         "linecolor": "#272e3e",
         "showline": true,
         "tickmode": "array",
         "ticktext": [
          "0",
          "20",
          "40",
          "60",
          "80",
          "100",
          "120",
          "140",
          "160",
          "180",
          "200",
          "220",
          "240",
          "260",
          "280",
          "300"
         ],
         "tickvals": [
          0,
          20,
          40,
          60,
          80,
          100,
          120,
          140,
          160,
          180,
          200,
          220,
          240,
          260,
          280,
          300
         ],
         "title": {
          "text": "Total Death Case Number"
         },
         "zeroline": false
        }
       }
      },
      "text/html": [
       "<div>\n",
       "        \n",
       "        \n",
       "            <div id=\"88fe4f31-5382-4f0b-904b-fdaf326815d2\" class=\"plotly-graph-div\" style=\"height:525px; width:100%;\"></div>\n",
       "            <script type=\"text/javascript\">\n",
       "                require([\"plotly\"], function(Plotly) {\n",
       "                    window.PLOTLYENV=window.PLOTLYENV || {};\n",
       "                    \n",
       "                if (document.getElementById(\"88fe4f31-5382-4f0b-904b-fdaf326815d2\")) {\n",
       "                    Plotly.newPlot(\n",
       "                        '88fe4f31-5382-4f0b-904b-fdaf326815d2',\n",
       "                        [{\"hovertemplate\": \"<b>%{text}</b><br></br>Mainland China death<br>%{y} cases<br><extra></extra>\", \"line\": {\"color\": \"#fc8715\", \"width\": 2}, \"marker\": {\"size\": 8}, \"mode\": \"lines+markers\", \"name\": \"Mainland China\", \"text\": [\"Jan 30 2020 21:30 EST\", \"Jan 30 2020 11:00 EST\", \"Jan 29 2020 21:00 EST\", \"Jan 29 2020 14:30 EST\", \"Jan 29 2020 13:30 EST\", \"Jan 28 2020 23:00 EST\", \"Jan 28 2020 18:00 EST\", \"Jan 28 2020 13:00 EST\", \"Jan 27 2020 20:30 EST\", \"Jan 27 2020 19:00 EST\", \"Jan 27 2020 09:00 EST\", \"Jan 26 2020 23:00 EST\", \"Jan 26 2020 11:00 EST\", \"Jan 25 2020 22:00 EST\", \"Jan 25 2020 12:00 EST\", \"Jan 25 2020 00:00 EST\", \"Jan 24 2020 12:00 EST\", \"Jan 24 2020 00:00 EST\", \"Jan 23 2020 12:00 EST\", \"Jan 22 2020 12:00 EST\", \"Jan 21 2020 00:00 EST\"], \"type\": \"scatter\", \"x\": [\"2020-01-30T21:30:00\", \"2020-01-30T11:00:00\", \"2020-01-29T21:00:00\", \"2020-01-29T14:30:00\", \"2020-01-29T13:30:00\", \"2020-01-28T23:00:00\", \"2020-01-28T18:00:00\", \"2020-01-28T13:00:00\", \"2020-01-27T20:30:00\", \"2020-01-27T19:00:00\", \"2020-01-27T09:00:00\", \"2020-01-26T23:00:00\", \"2020-01-26T11:00:00\", \"2020-01-25T22:00:00\", \"2020-01-25T12:00:00\", \"2020-01-25T00:00:00\", \"2020-01-24T12:00:00\", \"2020-01-24T00:00:00\", \"2020-01-23T12:00:00\", \"2020-01-22T12:00:00\", \"2020-01-21T00:00:00\"], \"y\": [213, 171, 170, 133, 132, 132, 131, 106, 107, 82, 81, 80, 56, 56, 42, 41, 26, 26, 18, 0, 0]}, {\"hovertemplate\": \"<b>%{text}</b><br></br>Other region death<br>%{y} cases<br><extra></extra>\", \"line\": {\"color\": \"#fed5ad\", \"width\": 2}, \"marker\": {\"size\": 8}, \"mode\": \"lines+markers\", \"name\": \"Other Region\", \"text\": [\"Jan 30 2020 21:30 EST\", \"Jan 30 2020 11:00 EST\", \"Jan 29 2020 21:00 EST\", \"Jan 29 2020 14:30 EST\", \"Jan 29 2020 13:30 EST\", \"Jan 28 2020 23:00 EST\", \"Jan 28 2020 18:00 EST\", \"Jan 28 2020 13:00 EST\", \"Jan 27 2020 20:30 EST\", \"Jan 27 2020 19:00 EST\", \"Jan 27 2020 09:00 EST\", \"Jan 26 2020 23:00 EST\", \"Jan 26 2020 11:00 EST\", \"Jan 25 2020 22:00 EST\", \"Jan 25 2020 12:00 EST\", \"Jan 25 2020 00:00 EST\", \"Jan 24 2020 12:00 EST\", \"Jan 24 2020 00:00 EST\", \"Jan 23 2020 12:00 EST\", \"Jan 22 2020 12:00 EST\", \"Jan 21 2020 00:00 EST\"], \"type\": \"scatter\", \"x\": [\"2020-01-30T21:30:00\", \"2020-01-30T11:00:00\", \"2020-01-29T21:00:00\", \"2020-01-29T14:30:00\", \"2020-01-29T13:30:00\", \"2020-01-28T23:00:00\", \"2020-01-28T18:00:00\", \"2020-01-28T13:00:00\", \"2020-01-27T20:30:00\", \"2020-01-27T19:00:00\", \"2020-01-27T09:00:00\", \"2020-01-26T23:00:00\", \"2020-01-26T11:00:00\", \"2020-01-25T22:00:00\", \"2020-01-25T12:00:00\", \"2020-01-25T00:00:00\", \"2020-01-24T12:00:00\", \"2020-01-24T00:00:00\", \"2020-01-23T12:00:00\", \"2020-01-22T12:00:00\", \"2020-01-21T00:00:00\"], \"y\": [0, 0, 0, 0, 0, 0, 0, 0, 0, 0, 0, 0, 0, 0, 0, 0, 0, 0, 0, 0, 0]}],\n",
       "                        {\"font\": {\"color\": \"#7fafdf\"}, \"hovermode\": \"x\", \"legend\": {\"orientation\": \"h\"}, \"margin\": {\"b\": 10, \"l\": 5, \"pad\": 0, \"r\": 10, \"t\": 50}, \"paper_bgcolor\": \"#272e3e\", \"plot_bgcolor\": \"#151920\", \"template\": {\"data\": {\"bar\": [{\"error_x\": {\"color\": \"#2a3f5f\"}, \"error_y\": {\"color\": \"#2a3f5f\"}, \"marker\": {\"line\": {\"color\": \"#E5ECF6\", \"width\": 0.5}}, \"type\": \"bar\"}], \"barpolar\": [{\"marker\": {\"line\": {\"color\": \"#E5ECF6\", \"width\": 0.5}}, \"type\": \"barpolar\"}], \"carpet\": [{\"aaxis\": {\"endlinecolor\": \"#2a3f5f\", \"gridcolor\": \"white\", \"linecolor\": \"white\", \"minorgridcolor\": \"white\", \"startlinecolor\": \"#2a3f5f\"}, \"baxis\": {\"endlinecolor\": \"#2a3f5f\", \"gridcolor\": \"white\", \"linecolor\": \"white\", \"minorgridcolor\": \"white\", \"startlinecolor\": \"#2a3f5f\"}, \"type\": \"carpet\"}], \"choropleth\": [{\"colorbar\": {\"outlinewidth\": 0, \"ticks\": \"\"}, \"type\": \"choropleth\"}], \"contour\": [{\"colorbar\": {\"outlinewidth\": 0, \"ticks\": \"\"}, \"colorscale\": [[0.0, \"#0d0887\"], [0.1111111111111111, \"#46039f\"], [0.2222222222222222, \"#7201a8\"], [0.3333333333333333, \"#9c179e\"], [0.4444444444444444, \"#bd3786\"], [0.5555555555555556, \"#d8576b\"], [0.6666666666666666, \"#ed7953\"], [0.7777777777777778, \"#fb9f3a\"], [0.8888888888888888, \"#fdca26\"], [1.0, \"#f0f921\"]], \"type\": \"contour\"}], \"contourcarpet\": [{\"colorbar\": {\"outlinewidth\": 0, \"ticks\": \"\"}, \"type\": \"contourcarpet\"}], \"heatmap\": [{\"colorbar\": {\"outlinewidth\": 0, \"ticks\": \"\"}, \"colorscale\": [[0.0, \"#0d0887\"], [0.1111111111111111, \"#46039f\"], [0.2222222222222222, \"#7201a8\"], [0.3333333333333333, \"#9c179e\"], [0.4444444444444444, \"#bd3786\"], [0.5555555555555556, \"#d8576b\"], [0.6666666666666666, \"#ed7953\"], [0.7777777777777778, \"#fb9f3a\"], [0.8888888888888888, \"#fdca26\"], [1.0, \"#f0f921\"]], \"type\": \"heatmap\"}], \"heatmapgl\": [{\"colorbar\": {\"outlinewidth\": 0, \"ticks\": \"\"}, \"colorscale\": [[0.0, \"#0d0887\"], [0.1111111111111111, \"#46039f\"], [0.2222222222222222, \"#7201a8\"], [0.3333333333333333, \"#9c179e\"], [0.4444444444444444, \"#bd3786\"], [0.5555555555555556, \"#d8576b\"], [0.6666666666666666, \"#ed7953\"], [0.7777777777777778, \"#fb9f3a\"], [0.8888888888888888, \"#fdca26\"], [1.0, \"#f0f921\"]], \"type\": \"heatmapgl\"}], \"histogram\": [{\"marker\": {\"colorbar\": {\"outlinewidth\": 0, \"ticks\": \"\"}}, \"type\": \"histogram\"}], \"histogram2d\": [{\"colorbar\": {\"outlinewidth\": 0, \"ticks\": \"\"}, \"colorscale\": [[0.0, \"#0d0887\"], [0.1111111111111111, \"#46039f\"], [0.2222222222222222, \"#7201a8\"], [0.3333333333333333, \"#9c179e\"], [0.4444444444444444, \"#bd3786\"], [0.5555555555555556, \"#d8576b\"], [0.6666666666666666, \"#ed7953\"], [0.7777777777777778, \"#fb9f3a\"], [0.8888888888888888, \"#fdca26\"], [1.0, \"#f0f921\"]], \"type\": \"histogram2d\"}], \"histogram2dcontour\": [{\"colorbar\": {\"outlinewidth\": 0, \"ticks\": \"\"}, \"colorscale\": [[0.0, \"#0d0887\"], [0.1111111111111111, \"#46039f\"], [0.2222222222222222, \"#7201a8\"], [0.3333333333333333, \"#9c179e\"], [0.4444444444444444, \"#bd3786\"], [0.5555555555555556, \"#d8576b\"], [0.6666666666666666, \"#ed7953\"], [0.7777777777777778, \"#fb9f3a\"], [0.8888888888888888, \"#fdca26\"], [1.0, \"#f0f921\"]], \"type\": \"histogram2dcontour\"}], \"mesh3d\": [{\"colorbar\": {\"outlinewidth\": 0, \"ticks\": \"\"}, \"type\": \"mesh3d\"}], \"parcoords\": [{\"line\": {\"colorbar\": {\"outlinewidth\": 0, \"ticks\": \"\"}}, \"type\": \"parcoords\"}], \"pie\": [{\"automargin\": true, \"type\": \"pie\"}], \"scatter\": [{\"marker\": {\"colorbar\": {\"outlinewidth\": 0, \"ticks\": \"\"}}, \"type\": \"scatter\"}], \"scatter3d\": [{\"line\": {\"colorbar\": {\"outlinewidth\": 0, \"ticks\": \"\"}}, \"marker\": {\"colorbar\": {\"outlinewidth\": 0, \"ticks\": \"\"}}, \"type\": \"scatter3d\"}], \"scattercarpet\": [{\"marker\": {\"colorbar\": {\"outlinewidth\": 0, \"ticks\": \"\"}}, \"type\": \"scattercarpet\"}], \"scattergeo\": [{\"marker\": {\"colorbar\": {\"outlinewidth\": 0, \"ticks\": \"\"}}, \"type\": \"scattergeo\"}], \"scattergl\": [{\"marker\": {\"colorbar\": {\"outlinewidth\": 0, \"ticks\": \"\"}}, \"type\": \"scattergl\"}], \"scattermapbox\": [{\"marker\": {\"colorbar\": {\"outlinewidth\": 0, \"ticks\": \"\"}}, \"type\": \"scattermapbox\"}], \"scatterpolar\": [{\"marker\": {\"colorbar\": {\"outlinewidth\": 0, \"ticks\": \"\"}}, \"type\": \"scatterpolar\"}], \"scatterpolargl\": [{\"marker\": {\"colorbar\": {\"outlinewidth\": 0, \"ticks\": \"\"}}, \"type\": \"scatterpolargl\"}], \"scatterternary\": [{\"marker\": {\"colorbar\": {\"outlinewidth\": 0, \"ticks\": \"\"}}, \"type\": \"scatterternary\"}], \"surface\": [{\"colorbar\": {\"outlinewidth\": 0, \"ticks\": \"\"}, \"colorscale\": [[0.0, \"#0d0887\"], [0.1111111111111111, \"#46039f\"], [0.2222222222222222, \"#7201a8\"], [0.3333333333333333, \"#9c179e\"], [0.4444444444444444, \"#bd3786\"], [0.5555555555555556, \"#d8576b\"], [0.6666666666666666, \"#ed7953\"], [0.7777777777777778, \"#fb9f3a\"], [0.8888888888888888, \"#fdca26\"], [1.0, \"#f0f921\"]], \"type\": \"surface\"}], \"table\": [{\"cells\": {\"fill\": {\"color\": \"#EBF0F8\"}, \"line\": {\"color\": \"white\"}}, \"header\": {\"fill\": {\"color\": \"#C8D4E3\"}, \"line\": {\"color\": \"white\"}}, \"type\": \"table\"}]}, \"layout\": {\"annotationdefaults\": {\"arrowcolor\": \"#2a3f5f\", \"arrowhead\": 0, \"arrowwidth\": 1}, \"coloraxis\": {\"colorbar\": {\"outlinewidth\": 0, \"ticks\": \"\"}}, \"colorscale\": {\"diverging\": [[0, \"#8e0152\"], [0.1, \"#c51b7d\"], [0.2, \"#de77ae\"], [0.3, \"#f1b6da\"], [0.4, \"#fde0ef\"], [0.5, \"#f7f7f7\"], [0.6, \"#e6f5d0\"], [0.7, \"#b8e186\"], [0.8, \"#7fbc41\"], [0.9, \"#4d9221\"], [1, \"#276419\"]], \"sequential\": [[0.0, \"#0d0887\"], [0.1111111111111111, \"#46039f\"], [0.2222222222222222, \"#7201a8\"], [0.3333333333333333, \"#9c179e\"], [0.4444444444444444, \"#bd3786\"], [0.5555555555555556, \"#d8576b\"], [0.6666666666666666, \"#ed7953\"], [0.7777777777777778, \"#fb9f3a\"], [0.8888888888888888, \"#fdca26\"], [1.0, \"#f0f921\"]], \"sequentialminus\": [[0.0, \"#0d0887\"], [0.1111111111111111, \"#46039f\"], [0.2222222222222222, \"#7201a8\"], [0.3333333333333333, \"#9c179e\"], [0.4444444444444444, \"#bd3786\"], [0.5555555555555556, \"#d8576b\"], [0.6666666666666666, \"#ed7953\"], [0.7777777777777778, \"#fb9f3a\"], [0.8888888888888888, \"#fdca26\"], [1.0, \"#f0f921\"]]}, \"colorway\": [\"#636efa\", \"#EF553B\", \"#00cc96\", \"#ab63fa\", \"#FFA15A\", \"#19d3f3\", \"#FF6692\", \"#B6E880\", \"#FF97FF\", \"#FECB52\"], \"font\": {\"color\": \"#2a3f5f\"}, \"geo\": {\"bgcolor\": \"white\", \"lakecolor\": \"white\", \"landcolor\": \"#E5ECF6\", \"showlakes\": true, \"showland\": true, \"subunitcolor\": \"white\"}, \"hoverlabel\": {\"align\": \"left\"}, \"hovermode\": \"closest\", \"mapbox\": {\"style\": \"light\"}, \"paper_bgcolor\": \"white\", \"plot_bgcolor\": \"#E5ECF6\", \"polar\": {\"angularaxis\": {\"gridcolor\": \"white\", \"linecolor\": \"white\", \"ticks\": \"\"}, \"bgcolor\": \"#E5ECF6\", \"radialaxis\": {\"gridcolor\": \"white\", \"linecolor\": \"white\", \"ticks\": \"\"}}, \"scene\": {\"xaxis\": {\"backgroundcolor\": \"#E5ECF6\", \"gridcolor\": \"white\", \"gridwidth\": 2, \"linecolor\": \"white\", \"showbackground\": true, \"ticks\": \"\", \"zerolinecolor\": \"white\"}, \"yaxis\": {\"backgroundcolor\": \"#E5ECF6\", \"gridcolor\": \"white\", \"gridwidth\": 2, \"linecolor\": \"white\", \"showbackground\": true, \"ticks\": \"\", \"zerolinecolor\": \"white\"}, \"zaxis\": {\"backgroundcolor\": \"#E5ECF6\", \"gridcolor\": \"white\", \"gridwidth\": 2, \"linecolor\": \"white\", \"showbackground\": true, \"ticks\": \"\", \"zerolinecolor\": \"white\"}}, \"shapedefaults\": {\"line\": {\"color\": \"#2a3f5f\"}}, \"ternary\": {\"aaxis\": {\"gridcolor\": \"white\", \"linecolor\": \"white\", \"ticks\": \"\"}, \"baxis\": {\"gridcolor\": \"white\", \"linecolor\": \"white\", \"ticks\": \"\"}, \"bgcolor\": \"#E5ECF6\", \"caxis\": {\"gridcolor\": \"white\", \"linecolor\": \"white\", \"ticks\": \"\"}}, \"title\": {\"x\": 0.05}, \"xaxis\": {\"automargin\": true, \"gridcolor\": \"white\", \"linecolor\": \"white\", \"ticks\": \"\", \"title\": {\"standoff\": 15}, \"zerolinecolor\": \"white\", \"zerolinewidth\": 2}, \"yaxis\": {\"automargin\": true, \"gridcolor\": \"white\", \"linecolor\": \"white\", \"ticks\": \"\", \"title\": {\"standoff\": 15}, \"zerolinecolor\": \"white\", \"zerolinewidth\": 2}}}, \"title\": {\"font\": {\"color\": \"#7fafdf\", \"family\": \"Playfair Display\", \"size\": 20}, \"text\": \"<b>Death Cases Timeline<b>\", \"x\": 0.5, \"xanchor\": \"center\", \"y\": 0.96, \"yanchor\": \"top\"}, \"xaxis\": {\"gridcolor\": \"#272e3e\", \"gridwidth\": 0.1, \"linecolor\": \"#272e3e\", \"showline\": true, \"tickformat\": \"%b %d\", \"zeroline\": false}, \"yaxis\": {\"gridcolor\": \"#272e3e\", \"gridwidth\": 0.1, \"linecolor\": \"#272e3e\", \"showline\": true, \"tickmode\": \"array\", \"ticktext\": [\"0\", \"20\", \"40\", \"60\", \"80\", \"100\", \"120\", \"140\", \"160\", \"180\", \"200\", \"220\", \"240\", \"260\", \"280\", \"300\"], \"tickvals\": [0, 20, 40, 60, 80, 100, 120, 140, 160, 180, 200, 220, 240, 260, 280, 300], \"title\": {\"text\": \"Total Death Case Number\"}, \"zeroline\": false}},\n",
       "                        {\"responsive\": true}\n",
       "                    ).then(function(){\n",
       "                            \n",
       "var gd = document.getElementById('88fe4f31-5382-4f0b-904b-fdaf326815d2');\n",
       "var x = new MutationObserver(function (mutations, observer) {{\n",
       "        var display = window.getComputedStyle(gd).display;\n",
       "        if (!display || display === 'none') {{\n",
       "            console.log([gd, 'removed!']);\n",
       "            Plotly.purge(gd);\n",
       "            observer.disconnect();\n",
       "        }}\n",
       "}});\n",
       "\n",
       "// Listen for the removal of the full notebook cells\n",
       "var notebookContainer = gd.closest('#notebook-container');\n",
       "if (notebookContainer) {{\n",
       "    x.observe(notebookContainer, {childList: true});\n",
       "}}\n",
       "\n",
       "// Listen for the clearing of the current output cell\n",
       "var outputEl = gd.closest('.output');\n",
       "if (outputEl) {{\n",
       "    x.observe(outputEl, {childList: true});\n",
       "}}\n",
       "\n",
       "                        })\n",
       "                };\n",
       "                });\n",
       "            </script>\n",
       "        </div>"
      ]
     },
     "metadata": {},
     "output_type": "display_data"
    }
   ],
   "source": [
    "# Line plot for deaths cases\n",
    "# Set up tick scale based on confirmed case number\n",
    "tickList = list(np.arange(0, df_deaths['Mainland China'].max()+100, 20))\n",
    "\n",
    "# Create empty figure canvas\n",
    "fig_deaths = go.Figure()\n",
    "# Add trace to the figure\n",
    "fig_deaths.add_trace(go.Scatter(x=df_deaths['Date'], y=df_deaths['Mainland China'],\n",
    "                         mode='lines+markers',\n",
    "                         name='Mainland China',\n",
    "                         line=dict(color='#fc8715', width=2),\n",
    "                         marker=dict(size=8),\n",
    "                         text=[datetime.strftime(d, '%b %d %Y %H:%M EST') for d in df_deaths['Date']],\n",
    "                         hovertemplate='<b>%{text}</b><br></br>'+\n",
    "                                       'Mainland China death<br>'+\n",
    "                                       '%{y} cases<br>'+\n",
    "                                       '<extra></extra>'))\n",
    "fig_deaths.add_trace(go.Scatter(x=df_deaths['Date'], y=df_deaths['Other locations'],\n",
    "                         mode='lines+markers',\n",
    "                         name='Other Region',\n",
    "                         line=dict(color='#fed5ad', width=2),\n",
    "                         marker=dict(size=8),\n",
    "                         text=[datetime.strftime(d, '%b %d %Y %H:%M EST') for d in df_deaths['Date']],\n",
    "                         hovertemplate='<b>%{text}</b><br></br>'+\n",
    "                                       'Other region death<br>'+\n",
    "                                       '%{y} cases<br>'+\n",
    "                                       '<extra></extra>'))\n",
    "# Customise layout\n",
    "fig_deaths.update_layout(\n",
    "    title=dict(\n",
    "        text=\"<b>Death Cases Timeline<b>\",\n",
    "        y=0.96, x=0.5, xanchor='center', yanchor='top',\n",
    "        font=dict(size=20, color=\"#7fafdf\", family=\"Playfair Display\")\n",
    "    ),\n",
    "    margin=go.layout.Margin(\n",
    "        l=5,\n",
    "        r=10,\n",
    "        b=10,\n",
    "        t=50,\n",
    "        pad=0\n",
    "    ),\n",
    "    yaxis=dict(\n",
    "        showline=True, linecolor='#272e3e',\n",
    "        zeroline=False,\n",
    "        gridcolor='#272e3e',\n",
    "        gridwidth = .1,\n",
    "        tickmode='array',\n",
    "        # Set tick range based on the maximum number\n",
    "        tickvals=tickList,\n",
    "        # Set tick label accordingly\n",
    "        ticktext=['{:.0f}'.format(i) for i in tickList]\n",
    "    ),\n",
    "    yaxis_title=\"Total Death Case Number\",\n",
    "    xaxis=dict(\n",
    "        showline=True, linecolor='#272e3e',\n",
    "        gridcolor='#272e3e',\n",
    "        gridwidth = .1,\n",
    "        zeroline=False\n",
    "    ),\n",
    "    xaxis_tickformat='%b %d',\n",
    "    hovermode = 'x',\n",
    "    legend_orientation=\"h\",\n",
    "    plot_bgcolor='#151920',\n",
    "    paper_bgcolor='#272e3e',\n",
    "    font=dict(color='#7fafdf')\n",
    ")\n",
    "\n",
    "fig_deaths.show()"
   ]
  },
  {
   "cell_type": "code",
   "execution_count": 333,
   "metadata": {},
   "outputs": [
    {
     "data": {
      "application/vnd.plotly.v1+json": {
       "config": {
        "plotlyServerURL": "https://plot.ly"
       },
       "data": [
        {
         "hovertemplate": "<b>%{text}</b><br><br>%{hovertext}<br><extra></extra>",
         "hovertext": [
          "Comfirmed: 5806<br>Recovered: 116<br>Death: 204",
          "Comfirmed: 537<br>Recovered: 9<br>Death: 0",
          "Comfirmed: 393<br>Recovered: 11<br>Death: 0",
          "Comfirmed: 352<br>Recovered: 3<br>Death: 2",
          "Comfirmed: 332<br>Recovered: 2<br>Death: 0",
          "Comfirmed: 240<br>Recovered: 7<br>Death: 0",
          "Comfirmed: 237<br>Recovered: 3<br>Death: 0",
          "Comfirmed: 206<br>Recovered: 1<br>Death: 0",
          "Comfirmed: 178<br>Recovered: 2<br>Death: 0",
          "Comfirmed: 177<br>Recovered: 1<br>Death: 1",
          "Comfirmed: 168<br>Recovered: 2<br>Death: 0",
          "Comfirmed: 128<br>Recovered: 9<br>Death: 1",
          "Comfirmed: 121<br>Recovered: 5<br>Death: 1",
          "Comfirmed: 101<br>Recovered: 0<br>Death: 0",
          "Comfirmed: 87<br>Recovered: 2<br>Death: 0",
          "Comfirmed: 82<br>Recovered: 0<br>Death: 1",
          "Comfirmed: 76<br>Recovered: 0<br>Death: 0",
          "Comfirmed: 87<br>Recovered: 0<br>Death: 0",
          "Comfirmed: 59<br>Recovered: 0<br>Death: 2",
          "Comfirmed: 50<br>Recovered: 1<br>Death: 1",
          "Comfirmed: 45<br>Recovered: 1<br>Death: 0",
          "Comfirmed: 39<br>Recovered: 1<br>Death: 0",
          "Comfirmed: 32<br>Recovered: 0<br>Death: 0",
          "Comfirmed: 29<br>Recovered: 0<br>Death: 0",
          "Comfirmed: 21<br>Recovered: 1<br>Death: 0",
          "Comfirmed: 20<br>Recovered: 0<br>Death: 0",
          "Comfirmed: 17<br>Recovered: 0<br>Death: 0",
          "Comfirmed: 15<br>Recovered: 1<br>Death: 0",
          "Comfirmed: 14<br>Recovered: 1<br>Death: 0",
          "Comfirmed: 12<br>Recovered: 0<br>Death: 0",
          "Comfirmed: 9<br>Recovered: 0<br>Death: 0",
          "Comfirmed: 8<br>Recovered: 0<br>Death: 0",
          "Comfirmed: 7<br>Recovered: 0<br>Death: 0",
          "Comfirmed: 1<br>Recovered: 0<br>Death: 0",
          "Comfirmed: 1<br>Recovered: 0<br>Death: 0",
          "Comfirmed: 2<br>Recovered: 0<br>Death: 0",
          "Comfirmed: 2<br>Recovered: 0<br>Death: 0",
          "Comfirmed: 1<br>Recovered: 0<br>Death: 0",
          "Comfirmed: 11<br>Recovered: 1<br>Death: 0",
          "Comfirmed: 14<br>Recovered: 5<br>Death: 0",
          "Comfirmed: 6<br>Recovered: 0<br>Death: 0",
          "Comfirmed: 10<br>Recovered: 0<br>Death: 0",
          "Comfirmed: 2<br>Recovered: 0<br>Death: 0",
          "Comfirmed: 5<br>Recovered: 0<br>Death: 0",
          "Comfirmed: 1<br>Recovered: 0<br>Death: 0",
          "Comfirmed: 8<br>Recovered: 0<br>Death: 0",
          "Comfirmed: 2<br>Recovered: 0<br>Death: 0",
          "Comfirmed: 1<br>Recovered: 0<br>Death: 0",
          "Comfirmed: 1<br>Recovered: 0<br>Death: 0",
          "Comfirmed: 1<br>Recovered: 0<br>Death: 0",
          "Comfirmed: 4<br>Recovered: 2<br>Death: 0",
          "Comfirmed: 2<br>Recovered: 0<br>Death: 0",
          "Comfirmed: 3<br>Recovered: 0<br>Death: 0",
          "Comfirmed: 4<br>Recovered: 0<br>Death: 0",
          "Comfirmed: 1<br>Recovered: 0<br>Death: 0",
          "Comfirmed: 4<br>Recovered: 0<br>Death: 0",
          "Comfirmed: 1<br>Recovered: 0<br>Death: 0",
          "Comfirmed: 1<br>Recovered: 0<br>Death: 0",
          "Comfirmed: 2<br>Recovered: 0<br>Death: 0"
         ],
         "lat": [
          31.151725199999998,
          29.000000099999998,
          23.135769399999997,
          34.0000001,
          27.6662087,
          28,
          32,
          29.5585712,
          36.0000001,
          30.500000099999998,
          33.0000001,
          31.225298499999997,
          39.906217,
          26.5450001,
          24,
          39.0000001,
          25,
          36,
          48.000004700000005,
          19.2000001,
          40.9739116,
          37,
          39.1235635,
          38.0000001,
          37.3095528,
          43.2443242,
          41.7574769,
          27,
          42.9995032,
          22.2793278,
          23.973937399999997,
          35.40709520000001,
          22.175760500000003,
          31.894343199999998,
          38.894893200000006,
          40.079660600000004,
          36.7014631,
          34.395342,
          34.9046568,
          18.7544594,
          36.5581914,
          1.340863,
          13.2904027,
          45.1562575,
          28.108392900000002,
          4.5693754,
          50.000678,
          55.001251,
          13.5066394,
          7.189522099999999,
          -33.8548157,
          -37.814217600000006,
          -27.468968199999996,
          48.9467562,
          63.2467777,
          24.0002488,
          12.750348599999999,
          16.387698699999998,
          46.3144754
         ],
         "lon": [
          112.87832220000001,
          119.9999999,
          113.19826880000001,
          113.9999999,
          111.74870630000001,
          116,
          117,
          106.5492822,
          118.9999999,
          102.4999999,
          119.9999999,
          121.4890497,
          116.3912757,
          117.84277800000001,
          109,
          116,
          102,
          109,
          127.99999199999999,
          109.5999999,
          122.3263915,
          112,
          117.1980785,
          101.9999999,
          105.9608553,
          114.32516640000001,
          87.1673842,
          107,
          125.9816054,
          114.16281310000001,
          120.9820179,
          95.95211570000001,
          113.5514142,
          87.07813709999999,
          -77.0365529,
          -89.4337288,
          -118.75599740000001,
          -111.76327549999999,
          136.6310496,
          100.624804,
          127.9408564,
          103.8303918,
          108.42651129999999,
          5.451582900000001,
          84.0917139,
          102.2656823,
          -86.000977,
          -125.00244099999999,
          104.869423,
          79.95485740000001,
          151.2164539,
          144.9631608,
          153.02349909999998,
          11.4038717,
          25.9209164,
          53.999482900000004,
          122.7312101,
          73.7305913,
          11.0480288
         ],
         "marker": {
          "color": "#ff1414",
          "size": [
           5806,
           537,
           393,
           352,
           332,
           240,
           237,
           206,
           178,
           177,
           168,
           128,
           121,
           101,
           87,
           82,
           76,
           87,
           59,
           50,
           45,
           39,
           32,
           29,
           21,
           20,
           17,
           15,
           14,
           12,
           9,
           8,
           7,
           1,
           1,
           2,
           2,
           1,
           11,
           14,
           6,
           10,
           2,
           5,
           1,
           8,
           2,
           1,
           1,
           1,
           4,
           2,
           3,
           4,
           1,
           4,
           1,
           1,
           2
          ],
          "sizemin": 2,
          "sizemode": "area",
          "sizeref": 7.2575
         },
         "mode": "markers",
         "text": [
          "Hubei, China",
          "Zhejiang, China",
          "Guangdong, China",
          "Henan, China",
          "Hunan, China",
          "Jiangxi, China",
          "Anhui, China",
          "Chongqing, China",
          "Shandong, China",
          "Sichuan, China",
          "Jiangsu, China",
          "Shanghai, China",
          "Beijing, China",
          "Fujian, China",
          "Guangxi, China",
          "Hebei, China",
          "Yunnan, China",
          "Shaanxi, China",
          "Heilongjiang, China",
          "Hainan, China",
          "Liaoning, China",
          "Shanxi, China",
          "Tianjin, China",
          "Gansu, China",
          "Ningxia, China",
          "Inner Mongolia, China",
          "Xinjiang, China",
          "Guizhou, China",
          "Jilin, China",
          "Hong Kong",
          "Taiwan",
          "Qinghai, China",
          "Macau",
          "Tibet, China",
          "Washington, US",
          "Illinois, US",
          "California, US",
          "Arizona, US",
          "Japan",
          "Thailand",
          "South Korea",
          "Singapore",
          "Vietnam",
          "France",
          "Nepal",
          "Malaysia",
          "Ontario, Canada",
          "British Columbia, Canada",
          "Cambodia",
          "Sri Lanka",
          "Sydney, Australia",
          "Melbourne, Australia",
          "Brisbane, Australia",
          "Bavaria, Germany",
          "Finland",
          "United Arab Emirates",
          "Philippines",
          "India",
          "Italy"
         ],
         "type": "scattermapbox"
        }
       ],
       "layout": {
        "hovermode": "closest",
        "mapbox": {
         "accesstoken": "pk.eyJ1IjoicGxvdGx5bWFwYm94IiwiYSI6ImNqdnBvNDMyaTAxYzkzeW5ubWdpZ2VjbmMifQ.TXcBE-xg9BFdV2ocecc_7g",
         "bearing": 0,
         "center": {
          "lat": 29.53886,
          "lon": 173.304781
         },
         "pitch": 0,
         "style": "mapbox://styles/plotlymapbox/cjvprkf3t1kns1cqjxuxmwixz",
         "zoom": 2
        },
        "margin": {
         "b": 10,
         "l": 10,
         "pad": 40,
         "r": 10,
         "t": 50
        },
        "paper_bgcolor": "#272e3e",
        "plot_bgcolor": "#151920",
        "template": {
         "data": {
          "bar": [
           {
            "error_x": {
             "color": "#2a3f5f"
            },
            "error_y": {
             "color": "#2a3f5f"
            },
            "marker": {
             "line": {
              "color": "#E5ECF6",
              "width": 0.5
             }
            },
            "type": "bar"
           }
          ],
          "barpolar": [
           {
            "marker": {
             "line": {
              "color": "#E5ECF6",
              "width": 0.5
             }
            },
            "type": "barpolar"
           }
          ],
          "carpet": [
           {
            "aaxis": {
             "endlinecolor": "#2a3f5f",
             "gridcolor": "white",
             "linecolor": "white",
             "minorgridcolor": "white",
             "startlinecolor": "#2a3f5f"
            },
            "baxis": {
             "endlinecolor": "#2a3f5f",
             "gridcolor": "white",
             "linecolor": "white",
             "minorgridcolor": "white",
             "startlinecolor": "#2a3f5f"
            },
            "type": "carpet"
           }
          ],
          "choropleth": [
           {
            "colorbar": {
             "outlinewidth": 0,
             "ticks": ""
            },
            "type": "choropleth"
           }
          ],
          "contour": [
           {
            "colorbar": {
             "outlinewidth": 0,
             "ticks": ""
            },
            "colorscale": [
             [
              0,
              "#0d0887"
             ],
             [
              0.1111111111111111,
              "#46039f"
             ],
             [
              0.2222222222222222,
              "#7201a8"
             ],
             [
              0.3333333333333333,
              "#9c179e"
             ],
             [
              0.4444444444444444,
              "#bd3786"
             ],
             [
              0.5555555555555556,
              "#d8576b"
             ],
             [
              0.6666666666666666,
              "#ed7953"
             ],
             [
              0.7777777777777778,
              "#fb9f3a"
             ],
             [
              0.8888888888888888,
              "#fdca26"
             ],
             [
              1,
              "#f0f921"
             ]
            ],
            "type": "contour"
           }
          ],
          "contourcarpet": [
           {
            "colorbar": {
             "outlinewidth": 0,
             "ticks": ""
            },
            "type": "contourcarpet"
           }
          ],
          "heatmap": [
           {
            "colorbar": {
             "outlinewidth": 0,
             "ticks": ""
            },
            "colorscale": [
             [
              0,
              "#0d0887"
             ],
             [
              0.1111111111111111,
              "#46039f"
             ],
             [
              0.2222222222222222,
              "#7201a8"
             ],
             [
              0.3333333333333333,
              "#9c179e"
             ],
             [
              0.4444444444444444,
              "#bd3786"
             ],
             [
              0.5555555555555556,
              "#d8576b"
             ],
             [
              0.6666666666666666,
              "#ed7953"
             ],
             [
              0.7777777777777778,
              "#fb9f3a"
             ],
             [
              0.8888888888888888,
              "#fdca26"
             ],
             [
              1,
              "#f0f921"
             ]
            ],
            "type": "heatmap"
           }
          ],
          "heatmapgl": [
           {
            "colorbar": {
             "outlinewidth": 0,
             "ticks": ""
            },
            "colorscale": [
             [
              0,
              "#0d0887"
             ],
             [
              0.1111111111111111,
              "#46039f"
             ],
             [
              0.2222222222222222,
              "#7201a8"
             ],
             [
              0.3333333333333333,
              "#9c179e"
             ],
             [
              0.4444444444444444,
              "#bd3786"
             ],
             [
              0.5555555555555556,
              "#d8576b"
             ],
             [
              0.6666666666666666,
              "#ed7953"
             ],
             [
              0.7777777777777778,
              "#fb9f3a"
             ],
             [
              0.8888888888888888,
              "#fdca26"
             ],
             [
              1,
              "#f0f921"
             ]
            ],
            "type": "heatmapgl"
           }
          ],
          "histogram": [
           {
            "marker": {
             "colorbar": {
              "outlinewidth": 0,
              "ticks": ""
             }
            },
            "type": "histogram"
           }
          ],
          "histogram2d": [
           {
            "colorbar": {
             "outlinewidth": 0,
             "ticks": ""
            },
            "colorscale": [
             [
              0,
              "#0d0887"
             ],
             [
              0.1111111111111111,
              "#46039f"
             ],
             [
              0.2222222222222222,
              "#7201a8"
             ],
             [
              0.3333333333333333,
              "#9c179e"
             ],
             [
              0.4444444444444444,
              "#bd3786"
             ],
             [
              0.5555555555555556,
              "#d8576b"
             ],
             [
              0.6666666666666666,
              "#ed7953"
             ],
             [
              0.7777777777777778,
              "#fb9f3a"
             ],
             [
              0.8888888888888888,
              "#fdca26"
             ],
             [
              1,
              "#f0f921"
             ]
            ],
            "type": "histogram2d"
           }
          ],
          "histogram2dcontour": [
           {
            "colorbar": {
             "outlinewidth": 0,
             "ticks": ""
            },
            "colorscale": [
             [
              0,
              "#0d0887"
             ],
             [
              0.1111111111111111,
              "#46039f"
             ],
             [
              0.2222222222222222,
              "#7201a8"
             ],
             [
              0.3333333333333333,
              "#9c179e"
             ],
             [
              0.4444444444444444,
              "#bd3786"
             ],
             [
              0.5555555555555556,
              "#d8576b"
             ],
             [
              0.6666666666666666,
              "#ed7953"
             ],
             [
              0.7777777777777778,
              "#fb9f3a"
             ],
             [
              0.8888888888888888,
              "#fdca26"
             ],
             [
              1,
              "#f0f921"
             ]
            ],
            "type": "histogram2dcontour"
           }
          ],
          "mesh3d": [
           {
            "colorbar": {
             "outlinewidth": 0,
             "ticks": ""
            },
            "type": "mesh3d"
           }
          ],
          "parcoords": [
           {
            "line": {
             "colorbar": {
              "outlinewidth": 0,
              "ticks": ""
             }
            },
            "type": "parcoords"
           }
          ],
          "pie": [
           {
            "automargin": true,
            "type": "pie"
           }
          ],
          "scatter": [
           {
            "marker": {
             "colorbar": {
              "outlinewidth": 0,
              "ticks": ""
             }
            },
            "type": "scatter"
           }
          ],
          "scatter3d": [
           {
            "line": {
             "colorbar": {
              "outlinewidth": 0,
              "ticks": ""
             }
            },
            "marker": {
             "colorbar": {
              "outlinewidth": 0,
              "ticks": ""
             }
            },
            "type": "scatter3d"
           }
          ],
          "scattercarpet": [
           {
            "marker": {
             "colorbar": {
              "outlinewidth": 0,
              "ticks": ""
             }
            },
            "type": "scattercarpet"
           }
          ],
          "scattergeo": [
           {
            "marker": {
             "colorbar": {
              "outlinewidth": 0,
              "ticks": ""
             }
            },
            "type": "scattergeo"
           }
          ],
          "scattergl": [
           {
            "marker": {
             "colorbar": {
              "outlinewidth": 0,
              "ticks": ""
             }
            },
            "type": "scattergl"
           }
          ],
          "scattermapbox": [
           {
            "marker": {
             "colorbar": {
              "outlinewidth": 0,
              "ticks": ""
             }
            },
            "type": "scattermapbox"
           }
          ],
          "scatterpolar": [
           {
            "marker": {
             "colorbar": {
              "outlinewidth": 0,
              "ticks": ""
             }
            },
            "type": "scatterpolar"
           }
          ],
          "scatterpolargl": [
           {
            "marker": {
             "colorbar": {
              "outlinewidth": 0,
              "ticks": ""
             }
            },
            "type": "scatterpolargl"
           }
          ],
          "scatterternary": [
           {
            "marker": {
             "colorbar": {
              "outlinewidth": 0,
              "ticks": ""
             }
            },
            "type": "scatterternary"
           }
          ],
          "surface": [
           {
            "colorbar": {
             "outlinewidth": 0,
             "ticks": ""
            },
            "colorscale": [
             [
              0,
              "#0d0887"
             ],
             [
              0.1111111111111111,
              "#46039f"
             ],
             [
              0.2222222222222222,
              "#7201a8"
             ],
             [
              0.3333333333333333,
              "#9c179e"
             ],
             [
              0.4444444444444444,
              "#bd3786"
             ],
             [
              0.5555555555555556,
              "#d8576b"
             ],
             [
              0.6666666666666666,
              "#ed7953"
             ],
             [
              0.7777777777777778,
              "#fb9f3a"
             ],
             [
              0.8888888888888888,
              "#fdca26"
             ],
             [
              1,
              "#f0f921"
             ]
            ],
            "type": "surface"
           }
          ],
          "table": [
           {
            "cells": {
             "fill": {
              "color": "#EBF0F8"
             },
             "line": {
              "color": "white"
             }
            },
            "header": {
             "fill": {
              "color": "#C8D4E3"
             },
             "line": {
              "color": "white"
             }
            },
            "type": "table"
           }
          ]
         },
         "layout": {
          "annotationdefaults": {
           "arrowcolor": "#2a3f5f",
           "arrowhead": 0,
           "arrowwidth": 1
          },
          "coloraxis": {
           "colorbar": {
            "outlinewidth": 0,
            "ticks": ""
           }
          },
          "colorscale": {
           "diverging": [
            [
             0,
             "#8e0152"
            ],
            [
             0.1,
             "#c51b7d"
            ],
            [
             0.2,
             "#de77ae"
            ],
            [
             0.3,
             "#f1b6da"
            ],
            [
             0.4,
             "#fde0ef"
            ],
            [
             0.5,
             "#f7f7f7"
            ],
            [
             0.6,
             "#e6f5d0"
            ],
            [
             0.7,
             "#b8e186"
            ],
            [
             0.8,
             "#7fbc41"
            ],
            [
             0.9,
             "#4d9221"
            ],
            [
             1,
             "#276419"
            ]
           ],
           "sequential": [
            [
             0,
             "#0d0887"
            ],
            [
             0.1111111111111111,
             "#46039f"
            ],
            [
             0.2222222222222222,
             "#7201a8"
            ],
            [
             0.3333333333333333,
             "#9c179e"
            ],
            [
             0.4444444444444444,
             "#bd3786"
            ],
            [
             0.5555555555555556,
             "#d8576b"
            ],
            [
             0.6666666666666666,
             "#ed7953"
            ],
            [
             0.7777777777777778,
             "#fb9f3a"
            ],
            [
             0.8888888888888888,
             "#fdca26"
            ],
            [
             1,
             "#f0f921"
            ]
           ],
           "sequentialminus": [
            [
             0,
             "#0d0887"
            ],
            [
             0.1111111111111111,
             "#46039f"
            ],
            [
             0.2222222222222222,
             "#7201a8"
            ],
            [
             0.3333333333333333,
             "#9c179e"
            ],
            [
             0.4444444444444444,
             "#bd3786"
            ],
            [
             0.5555555555555556,
             "#d8576b"
            ],
            [
             0.6666666666666666,
             "#ed7953"
            ],
            [
             0.7777777777777778,
             "#fb9f3a"
            ],
            [
             0.8888888888888888,
             "#fdca26"
            ],
            [
             1,
             "#f0f921"
            ]
           ]
          },
          "colorway": [
           "#636efa",
           "#EF553B",
           "#00cc96",
           "#ab63fa",
           "#FFA15A",
           "#19d3f3",
           "#FF6692",
           "#B6E880",
           "#FF97FF",
           "#FECB52"
          ],
          "font": {
           "color": "#2a3f5f"
          },
          "geo": {
           "bgcolor": "white",
           "lakecolor": "white",
           "landcolor": "#E5ECF6",
           "showlakes": true,
           "showland": true,
           "subunitcolor": "white"
          },
          "hoverlabel": {
           "align": "left"
          },
          "hovermode": "closest",
          "mapbox": {
           "style": "light"
          },
          "paper_bgcolor": "white",
          "plot_bgcolor": "#E5ECF6",
          "polar": {
           "angularaxis": {
            "gridcolor": "white",
            "linecolor": "white",
            "ticks": ""
           },
           "bgcolor": "#E5ECF6",
           "radialaxis": {
            "gridcolor": "white",
            "linecolor": "white",
            "ticks": ""
           }
          },
          "scene": {
           "xaxis": {
            "backgroundcolor": "#E5ECF6",
            "gridcolor": "white",
            "gridwidth": 2,
            "linecolor": "white",
            "showbackground": true,
            "ticks": "",
            "zerolinecolor": "white"
           },
           "yaxis": {
            "backgroundcolor": "#E5ECF6",
            "gridcolor": "white",
            "gridwidth": 2,
            "linecolor": "white",
            "showbackground": true,
            "ticks": "",
            "zerolinecolor": "white"
           },
           "zaxis": {
            "backgroundcolor": "#E5ECF6",
            "gridcolor": "white",
            "gridwidth": 2,
            "linecolor": "white",
            "showbackground": true,
            "ticks": "",
            "zerolinecolor": "white"
           }
          },
          "shapedefaults": {
           "line": {
            "color": "#2a3f5f"
           }
          },
          "ternary": {
           "aaxis": {
            "gridcolor": "white",
            "linecolor": "white",
            "ticks": ""
           },
           "baxis": {
            "gridcolor": "white",
            "linecolor": "white",
            "ticks": ""
           },
           "bgcolor": "#E5ECF6",
           "caxis": {
            "gridcolor": "white",
            "linecolor": "white",
            "ticks": ""
           }
          },
          "title": {
           "x": 0.05
          },
          "xaxis": {
           "automargin": true,
           "gridcolor": "white",
           "linecolor": "white",
           "ticks": "",
           "title": {
            "standoff": 15
           },
           "zerolinecolor": "white",
           "zerolinewidth": 2
          },
          "yaxis": {
           "automargin": true,
           "gridcolor": "white",
           "linecolor": "white",
           "ticks": "",
           "title": {
            "standoff": 15
           },
           "zerolinecolor": "white",
           "zerolinewidth": 2
          }
         }
        },
        "title": {
         "font": {
          "color": "#7fafdf",
          "family": "Playfair Display",
          "size": 20
         },
         "text": "<b>Latest Coronavirus Outbreak Map<b>",
         "x": 0.5,
         "xanchor": "center",
         "y": 0.96,
         "yanchor": "top"
        }
       }
      },
      "text/html": [
       "<div>\n",
       "        \n",
       "        \n",
       "            <div id=\"4bb3d9a2-30e8-4823-ac29-3e64ef9ec5cf\" class=\"plotly-graph-div\" style=\"height:525px; width:100%;\"></div>\n",
       "            <script type=\"text/javascript\">\n",
       "                require([\"plotly\"], function(Plotly) {\n",
       "                    window.PLOTLYENV=window.PLOTLYENV || {};\n",
       "                    \n",
       "                if (document.getElementById(\"4bb3d9a2-30e8-4823-ac29-3e64ef9ec5cf\")) {\n",
       "                    Plotly.newPlot(\n",
       "                        '4bb3d9a2-30e8-4823-ac29-3e64ef9ec5cf',\n",
       "                        [{\"hovertemplate\": \"<b>%{text}</b><br><br>%{hovertext}<br><extra></extra>\", \"hovertext\": [\"Comfirmed: 5806<br>Recovered: 116<br>Death: 204\", \"Comfirmed: 537<br>Recovered: 9<br>Death: 0\", \"Comfirmed: 393<br>Recovered: 11<br>Death: 0\", \"Comfirmed: 352<br>Recovered: 3<br>Death: 2\", \"Comfirmed: 332<br>Recovered: 2<br>Death: 0\", \"Comfirmed: 240<br>Recovered: 7<br>Death: 0\", \"Comfirmed: 237<br>Recovered: 3<br>Death: 0\", \"Comfirmed: 206<br>Recovered: 1<br>Death: 0\", \"Comfirmed: 178<br>Recovered: 2<br>Death: 0\", \"Comfirmed: 177<br>Recovered: 1<br>Death: 1\", \"Comfirmed: 168<br>Recovered: 2<br>Death: 0\", \"Comfirmed: 128<br>Recovered: 9<br>Death: 1\", \"Comfirmed: 121<br>Recovered: 5<br>Death: 1\", \"Comfirmed: 101<br>Recovered: 0<br>Death: 0\", \"Comfirmed: 87<br>Recovered: 2<br>Death: 0\", \"Comfirmed: 82<br>Recovered: 0<br>Death: 1\", \"Comfirmed: 76<br>Recovered: 0<br>Death: 0\", \"Comfirmed: 87<br>Recovered: 0<br>Death: 0\", \"Comfirmed: 59<br>Recovered: 0<br>Death: 2\", \"Comfirmed: 50<br>Recovered: 1<br>Death: 1\", \"Comfirmed: 45<br>Recovered: 1<br>Death: 0\", \"Comfirmed: 39<br>Recovered: 1<br>Death: 0\", \"Comfirmed: 32<br>Recovered: 0<br>Death: 0\", \"Comfirmed: 29<br>Recovered: 0<br>Death: 0\", \"Comfirmed: 21<br>Recovered: 1<br>Death: 0\", \"Comfirmed: 20<br>Recovered: 0<br>Death: 0\", \"Comfirmed: 17<br>Recovered: 0<br>Death: 0\", \"Comfirmed: 15<br>Recovered: 1<br>Death: 0\", \"Comfirmed: 14<br>Recovered: 1<br>Death: 0\", \"Comfirmed: 12<br>Recovered: 0<br>Death: 0\", \"Comfirmed: 9<br>Recovered: 0<br>Death: 0\", \"Comfirmed: 8<br>Recovered: 0<br>Death: 0\", \"Comfirmed: 7<br>Recovered: 0<br>Death: 0\", \"Comfirmed: 1<br>Recovered: 0<br>Death: 0\", \"Comfirmed: 1<br>Recovered: 0<br>Death: 0\", \"Comfirmed: 2<br>Recovered: 0<br>Death: 0\", \"Comfirmed: 2<br>Recovered: 0<br>Death: 0\", \"Comfirmed: 1<br>Recovered: 0<br>Death: 0\", \"Comfirmed: 11<br>Recovered: 1<br>Death: 0\", \"Comfirmed: 14<br>Recovered: 5<br>Death: 0\", \"Comfirmed: 6<br>Recovered: 0<br>Death: 0\", \"Comfirmed: 10<br>Recovered: 0<br>Death: 0\", \"Comfirmed: 2<br>Recovered: 0<br>Death: 0\", \"Comfirmed: 5<br>Recovered: 0<br>Death: 0\", \"Comfirmed: 1<br>Recovered: 0<br>Death: 0\", \"Comfirmed: 8<br>Recovered: 0<br>Death: 0\", \"Comfirmed: 2<br>Recovered: 0<br>Death: 0\", \"Comfirmed: 1<br>Recovered: 0<br>Death: 0\", \"Comfirmed: 1<br>Recovered: 0<br>Death: 0\", \"Comfirmed: 1<br>Recovered: 0<br>Death: 0\", \"Comfirmed: 4<br>Recovered: 2<br>Death: 0\", \"Comfirmed: 2<br>Recovered: 0<br>Death: 0\", \"Comfirmed: 3<br>Recovered: 0<br>Death: 0\", \"Comfirmed: 4<br>Recovered: 0<br>Death: 0\", \"Comfirmed: 1<br>Recovered: 0<br>Death: 0\", \"Comfirmed: 4<br>Recovered: 0<br>Death: 0\", \"Comfirmed: 1<br>Recovered: 0<br>Death: 0\", \"Comfirmed: 1<br>Recovered: 0<br>Death: 0\", \"Comfirmed: 2<br>Recovered: 0<br>Death: 0\"], \"lat\": [31.151725199999998, 29.000000099999998, 23.135769399999997, 34.0000001, 27.6662087, 28.0, 32.0, 29.5585712, 36.0000001, 30.500000099999998, 33.0000001, 31.225298499999997, 39.906217, 26.5450001, 24.0, 39.0000001, 25.0, 36.0, 48.000004700000005, 19.2000001, 40.9739116, 37.0, 39.1235635, 38.0000001, 37.3095528, 43.2443242, 41.7574769, 27.0, 42.9995032, 22.2793278, 23.973937399999997, 35.40709520000001, 22.175760500000003, 31.894343199999998, 38.894893200000006, 40.079660600000004, 36.7014631, 34.395342, 34.9046568, 18.7544594, 36.5581914, 1.340863, 13.2904027, 45.1562575, 28.108392900000002, 4.5693754, 50.000678, 55.001251, 13.5066394, 7.189522099999999, -33.8548157, -37.814217600000006, -27.468968199999996, 48.9467562, 63.2467777, 24.0002488, 12.750348599999999, 16.387698699999998, 46.3144754], \"lon\": [112.87832220000001, 119.9999999, 113.19826880000001, 113.9999999, 111.74870630000001, 116.0, 117.0, 106.5492822, 118.9999999, 102.4999999, 119.9999999, 121.4890497, 116.3912757, 117.84277800000001, 109.0, 116.0, 102.0, 109.0, 127.99999199999999, 109.5999999, 122.3263915, 112.0, 117.1980785, 101.9999999, 105.9608553, 114.32516640000001, 87.1673842, 107.0, 125.9816054, 114.16281310000001, 120.9820179, 95.95211570000001, 113.5514142, 87.07813709999999, -77.0365529, -89.4337288, -118.75599740000001, -111.76327549999999, 136.6310496, 100.624804, 127.9408564, 103.8303918, 108.42651129999999, 5.451582900000001, 84.0917139, 102.2656823, -86.000977, -125.00244099999999, 104.869423, 79.95485740000001, 151.2164539, 144.9631608, 153.02349909999998, 11.4038717, 25.9209164, 53.999482900000004, 122.7312101, 73.7305913, 11.0480288], \"marker\": {\"color\": \"#ff1414\", \"size\": [5806, 537, 393, 352, 332, 240, 237, 206, 178, 177, 168, 128, 121, 101, 87, 82, 76, 87, 59, 50, 45, 39, 32, 29, 21, 20, 17, 15, 14, 12, 9, 8, 7, 1, 1, 2, 2, 1, 11, 14, 6, 10, 2, 5, 1, 8, 2, 1, 1, 1, 4, 2, 3, 4, 1, 4, 1, 1, 2], \"sizemin\": 2, \"sizemode\": \"area\", \"sizeref\": 7.2575}, \"mode\": \"markers\", \"text\": [\"Hubei, China\", \"Zhejiang, China\", \"Guangdong, China\", \"Henan, China\", \"Hunan, China\", \"Jiangxi, China\", \"Anhui, China\", \"Chongqing, China\", \"Shandong, China\", \"Sichuan, China\", \"Jiangsu, China\", \"Shanghai, China\", \"Beijing, China\", \"Fujian, China\", \"Guangxi, China\", \"Hebei, China\", \"Yunnan, China\", \"Shaanxi, China\", \"Heilongjiang, China\", \"Hainan, China\", \"Liaoning, China\", \"Shanxi, China\", \"Tianjin, China\", \"Gansu, China\", \"Ningxia, China\", \"Inner Mongolia, China\", \"Xinjiang, China\", \"Guizhou, China\", \"Jilin, China\", \"Hong Kong\", \"Taiwan\", \"Qinghai, China\", \"Macau\", \"Tibet, China\", \"Washington, US\", \"Illinois, US\", \"California, US\", \"Arizona, US\", \"Japan\", \"Thailand\", \"South Korea\", \"Singapore\", \"Vietnam\", \"France\", \"Nepal\", \"Malaysia\", \"Ontario, Canada\", \"British Columbia, Canada\", \"Cambodia\", \"Sri Lanka\", \"Sydney, Australia\", \"Melbourne, Australia\", \"Brisbane, Australia\", \"Bavaria, Germany\", \"Finland\", \"United Arab Emirates\", \"Philippines\", \"India\", \"Italy\"], \"type\": \"scattermapbox\"}],\n",
       "                        {\"hovermode\": \"closest\", \"mapbox\": {\"accesstoken\": \"pk.eyJ1IjoicGxvdGx5bWFwYm94IiwiYSI6ImNqdnBvNDMyaTAxYzkzeW5ubWdpZ2VjbmMifQ.TXcBE-xg9BFdV2ocecc_7g\", \"bearing\": 0, \"center\": {\"lat\": 29.53886, \"lon\": 173.304781}, \"pitch\": 0, \"style\": \"mapbox://styles/plotlymapbox/cjvprkf3t1kns1cqjxuxmwixz\", \"zoom\": 2}, \"margin\": {\"b\": 10, \"l\": 10, \"pad\": 40, \"r\": 10, \"t\": 50}, \"paper_bgcolor\": \"#272e3e\", \"plot_bgcolor\": \"#151920\", \"template\": {\"data\": {\"bar\": [{\"error_x\": {\"color\": \"#2a3f5f\"}, \"error_y\": {\"color\": \"#2a3f5f\"}, \"marker\": {\"line\": {\"color\": \"#E5ECF6\", \"width\": 0.5}}, \"type\": \"bar\"}], \"barpolar\": [{\"marker\": {\"line\": {\"color\": \"#E5ECF6\", \"width\": 0.5}}, \"type\": \"barpolar\"}], \"carpet\": [{\"aaxis\": {\"endlinecolor\": \"#2a3f5f\", \"gridcolor\": \"white\", \"linecolor\": \"white\", \"minorgridcolor\": \"white\", \"startlinecolor\": \"#2a3f5f\"}, \"baxis\": {\"endlinecolor\": \"#2a3f5f\", \"gridcolor\": \"white\", \"linecolor\": \"white\", \"minorgridcolor\": \"white\", \"startlinecolor\": \"#2a3f5f\"}, \"type\": \"carpet\"}], \"choropleth\": [{\"colorbar\": {\"outlinewidth\": 0, \"ticks\": \"\"}, \"type\": \"choropleth\"}], \"contour\": [{\"colorbar\": {\"outlinewidth\": 0, \"ticks\": \"\"}, \"colorscale\": [[0.0, \"#0d0887\"], [0.1111111111111111, \"#46039f\"], [0.2222222222222222, \"#7201a8\"], [0.3333333333333333, \"#9c179e\"], [0.4444444444444444, \"#bd3786\"], [0.5555555555555556, \"#d8576b\"], [0.6666666666666666, \"#ed7953\"], [0.7777777777777778, \"#fb9f3a\"], [0.8888888888888888, \"#fdca26\"], [1.0, \"#f0f921\"]], \"type\": \"contour\"}], \"contourcarpet\": [{\"colorbar\": {\"outlinewidth\": 0, \"ticks\": \"\"}, \"type\": \"contourcarpet\"}], \"heatmap\": [{\"colorbar\": {\"outlinewidth\": 0, \"ticks\": \"\"}, \"colorscale\": [[0.0, \"#0d0887\"], [0.1111111111111111, \"#46039f\"], [0.2222222222222222, \"#7201a8\"], [0.3333333333333333, \"#9c179e\"], [0.4444444444444444, \"#bd3786\"], [0.5555555555555556, \"#d8576b\"], [0.6666666666666666, \"#ed7953\"], [0.7777777777777778, \"#fb9f3a\"], [0.8888888888888888, \"#fdca26\"], [1.0, \"#f0f921\"]], \"type\": \"heatmap\"}], \"heatmapgl\": [{\"colorbar\": {\"outlinewidth\": 0, \"ticks\": \"\"}, \"colorscale\": [[0.0, \"#0d0887\"], [0.1111111111111111, \"#46039f\"], [0.2222222222222222, \"#7201a8\"], [0.3333333333333333, \"#9c179e\"], [0.4444444444444444, \"#bd3786\"], [0.5555555555555556, \"#d8576b\"], [0.6666666666666666, \"#ed7953\"], [0.7777777777777778, \"#fb9f3a\"], [0.8888888888888888, \"#fdca26\"], [1.0, \"#f0f921\"]], \"type\": \"heatmapgl\"}], \"histogram\": [{\"marker\": {\"colorbar\": {\"outlinewidth\": 0, \"ticks\": \"\"}}, \"type\": \"histogram\"}], \"histogram2d\": [{\"colorbar\": {\"outlinewidth\": 0, \"ticks\": \"\"}, \"colorscale\": [[0.0, \"#0d0887\"], [0.1111111111111111, \"#46039f\"], [0.2222222222222222, \"#7201a8\"], [0.3333333333333333, \"#9c179e\"], [0.4444444444444444, \"#bd3786\"], [0.5555555555555556, \"#d8576b\"], [0.6666666666666666, \"#ed7953\"], [0.7777777777777778, \"#fb9f3a\"], [0.8888888888888888, \"#fdca26\"], [1.0, \"#f0f921\"]], \"type\": \"histogram2d\"}], \"histogram2dcontour\": [{\"colorbar\": {\"outlinewidth\": 0, \"ticks\": \"\"}, \"colorscale\": [[0.0, \"#0d0887\"], [0.1111111111111111, \"#46039f\"], [0.2222222222222222, \"#7201a8\"], [0.3333333333333333, \"#9c179e\"], [0.4444444444444444, \"#bd3786\"], [0.5555555555555556, \"#d8576b\"], [0.6666666666666666, \"#ed7953\"], [0.7777777777777778, \"#fb9f3a\"], [0.8888888888888888, \"#fdca26\"], [1.0, \"#f0f921\"]], \"type\": \"histogram2dcontour\"}], \"mesh3d\": [{\"colorbar\": {\"outlinewidth\": 0, \"ticks\": \"\"}, \"type\": \"mesh3d\"}], \"parcoords\": [{\"line\": {\"colorbar\": {\"outlinewidth\": 0, \"ticks\": \"\"}}, \"type\": \"parcoords\"}], \"pie\": [{\"automargin\": true, \"type\": \"pie\"}], \"scatter\": [{\"marker\": {\"colorbar\": {\"outlinewidth\": 0, \"ticks\": \"\"}}, \"type\": \"scatter\"}], \"scatter3d\": [{\"line\": {\"colorbar\": {\"outlinewidth\": 0, \"ticks\": \"\"}}, \"marker\": {\"colorbar\": {\"outlinewidth\": 0, \"ticks\": \"\"}}, \"type\": \"scatter3d\"}], \"scattercarpet\": [{\"marker\": {\"colorbar\": {\"outlinewidth\": 0, \"ticks\": \"\"}}, \"type\": \"scattercarpet\"}], \"scattergeo\": [{\"marker\": {\"colorbar\": {\"outlinewidth\": 0, \"ticks\": \"\"}}, \"type\": \"scattergeo\"}], \"scattergl\": [{\"marker\": {\"colorbar\": {\"outlinewidth\": 0, \"ticks\": \"\"}}, \"type\": \"scattergl\"}], \"scattermapbox\": [{\"marker\": {\"colorbar\": {\"outlinewidth\": 0, \"ticks\": \"\"}}, \"type\": \"scattermapbox\"}], \"scatterpolar\": [{\"marker\": {\"colorbar\": {\"outlinewidth\": 0, \"ticks\": \"\"}}, \"type\": \"scatterpolar\"}], \"scatterpolargl\": [{\"marker\": {\"colorbar\": {\"outlinewidth\": 0, \"ticks\": \"\"}}, \"type\": \"scatterpolargl\"}], \"scatterternary\": [{\"marker\": {\"colorbar\": {\"outlinewidth\": 0, \"ticks\": \"\"}}, \"type\": \"scatterternary\"}], \"surface\": [{\"colorbar\": {\"outlinewidth\": 0, \"ticks\": \"\"}, \"colorscale\": [[0.0, \"#0d0887\"], [0.1111111111111111, \"#46039f\"], [0.2222222222222222, \"#7201a8\"], [0.3333333333333333, \"#9c179e\"], [0.4444444444444444, \"#bd3786\"], [0.5555555555555556, \"#d8576b\"], [0.6666666666666666, \"#ed7953\"], [0.7777777777777778, \"#fb9f3a\"], [0.8888888888888888, \"#fdca26\"], [1.0, \"#f0f921\"]], \"type\": \"surface\"}], \"table\": [{\"cells\": {\"fill\": {\"color\": \"#EBF0F8\"}, \"line\": {\"color\": \"white\"}}, \"header\": {\"fill\": {\"color\": \"#C8D4E3\"}, \"line\": {\"color\": \"white\"}}, \"type\": \"table\"}]}, \"layout\": {\"annotationdefaults\": {\"arrowcolor\": \"#2a3f5f\", \"arrowhead\": 0, \"arrowwidth\": 1}, \"coloraxis\": {\"colorbar\": {\"outlinewidth\": 0, \"ticks\": \"\"}}, \"colorscale\": {\"diverging\": [[0, \"#8e0152\"], [0.1, \"#c51b7d\"], [0.2, \"#de77ae\"], [0.3, \"#f1b6da\"], [0.4, \"#fde0ef\"], [0.5, \"#f7f7f7\"], [0.6, \"#e6f5d0\"], [0.7, \"#b8e186\"], [0.8, \"#7fbc41\"], [0.9, \"#4d9221\"], [1, \"#276419\"]], \"sequential\": [[0.0, \"#0d0887\"], [0.1111111111111111, \"#46039f\"], [0.2222222222222222, \"#7201a8\"], [0.3333333333333333, \"#9c179e\"], [0.4444444444444444, \"#bd3786\"], [0.5555555555555556, \"#d8576b\"], [0.6666666666666666, \"#ed7953\"], [0.7777777777777778, \"#fb9f3a\"], [0.8888888888888888, \"#fdca26\"], [1.0, \"#f0f921\"]], \"sequentialminus\": [[0.0, \"#0d0887\"], [0.1111111111111111, \"#46039f\"], [0.2222222222222222, \"#7201a8\"], [0.3333333333333333, \"#9c179e\"], [0.4444444444444444, \"#bd3786\"], [0.5555555555555556, \"#d8576b\"], [0.6666666666666666, \"#ed7953\"], [0.7777777777777778, \"#fb9f3a\"], [0.8888888888888888, \"#fdca26\"], [1.0, \"#f0f921\"]]}, \"colorway\": [\"#636efa\", \"#EF553B\", \"#00cc96\", \"#ab63fa\", \"#FFA15A\", \"#19d3f3\", \"#FF6692\", \"#B6E880\", \"#FF97FF\", \"#FECB52\"], \"font\": {\"color\": \"#2a3f5f\"}, \"geo\": {\"bgcolor\": \"white\", \"lakecolor\": \"white\", \"landcolor\": \"#E5ECF6\", \"showlakes\": true, \"showland\": true, \"subunitcolor\": \"white\"}, \"hoverlabel\": {\"align\": \"left\"}, \"hovermode\": \"closest\", \"mapbox\": {\"style\": \"light\"}, \"paper_bgcolor\": \"white\", \"plot_bgcolor\": \"#E5ECF6\", \"polar\": {\"angularaxis\": {\"gridcolor\": \"white\", \"linecolor\": \"white\", \"ticks\": \"\"}, \"bgcolor\": \"#E5ECF6\", \"radialaxis\": {\"gridcolor\": \"white\", \"linecolor\": \"white\", \"ticks\": \"\"}}, \"scene\": {\"xaxis\": {\"backgroundcolor\": \"#E5ECF6\", \"gridcolor\": \"white\", \"gridwidth\": 2, \"linecolor\": \"white\", \"showbackground\": true, \"ticks\": \"\", \"zerolinecolor\": \"white\"}, \"yaxis\": {\"backgroundcolor\": \"#E5ECF6\", \"gridcolor\": \"white\", \"gridwidth\": 2, \"linecolor\": \"white\", \"showbackground\": true, \"ticks\": \"\", \"zerolinecolor\": \"white\"}, \"zaxis\": {\"backgroundcolor\": \"#E5ECF6\", \"gridcolor\": \"white\", \"gridwidth\": 2, \"linecolor\": \"white\", \"showbackground\": true, \"ticks\": \"\", \"zerolinecolor\": \"white\"}}, \"shapedefaults\": {\"line\": {\"color\": \"#2a3f5f\"}}, \"ternary\": {\"aaxis\": {\"gridcolor\": \"white\", \"linecolor\": \"white\", \"ticks\": \"\"}, \"baxis\": {\"gridcolor\": \"white\", \"linecolor\": \"white\", \"ticks\": \"\"}, \"bgcolor\": \"#E5ECF6\", \"caxis\": {\"gridcolor\": \"white\", \"linecolor\": \"white\", \"ticks\": \"\"}}, \"title\": {\"x\": 0.05}, \"xaxis\": {\"automargin\": true, \"gridcolor\": \"white\", \"linecolor\": \"white\", \"ticks\": \"\", \"title\": {\"standoff\": 15}, \"zerolinecolor\": \"white\", \"zerolinewidth\": 2}, \"yaxis\": {\"automargin\": true, \"gridcolor\": \"white\", \"linecolor\": \"white\", \"ticks\": \"\", \"title\": {\"standoff\": 15}, \"zerolinecolor\": \"white\", \"zerolinewidth\": 2}}}, \"title\": {\"font\": {\"color\": \"#7fafdf\", \"family\": \"Playfair Display\", \"size\": 20}, \"text\": \"<b>Latest Coronavirus Outbreak Map<b>\", \"x\": 0.5, \"xanchor\": \"center\", \"y\": 0.96, \"yanchor\": \"top\"}},\n",
       "                        {\"responsive\": true}\n",
       "                    ).then(function(){\n",
       "                            \n",
       "var gd = document.getElementById('4bb3d9a2-30e8-4823-ac29-3e64ef9ec5cf');\n",
       "var x = new MutationObserver(function (mutations, observer) {{\n",
       "        var display = window.getComputedStyle(gd).display;\n",
       "        if (!display || display === 'none') {{\n",
       "            console.log([gd, 'removed!']);\n",
       "            Plotly.purge(gd);\n",
       "            observer.disconnect();\n",
       "        }}\n",
       "}});\n",
       "\n",
       "// Listen for the removal of the full notebook cells\n",
       "var notebookContainer = gd.closest('#notebook-container');\n",
       "if (notebookContainer) {{\n",
       "    x.observe(notebookContainer, {childList: true});\n",
       "}}\n",
       "\n",
       "// Listen for the clearing of the current output cell\n",
       "var outputEl = gd.closest('.output');\n",
       "if (outputEl) {{\n",
       "    x.observe(outputEl, {childList: true});\n",
       "}}\n",
       "\n",
       "                        })\n",
       "                };\n",
       "                });\n",
       "            </script>\n",
       "        </div>"
      ]
     },
     "metadata": {},
     "output_type": "display_data"
    }
   ],
   "source": [
    "mapbox_access_token = \"pk.eyJ1IjoicGxvdGx5bWFwYm94IiwiYSI6ImNqdnBvNDMyaTAxYzkzeW5ubWdpZ2VjbmMifQ.TXcBE-xg9BFdV2ocecc_7g\"\n",
    "\n",
    "textList=[]\n",
    "for area, region in zip(dfs[keyList[0]]['Province/State'], dfs[keyList[0]]['Country/Region']):\n",
    "    \n",
    "    if type(area) is str:\n",
    "        if region == \"Hong Kong\" or region == \"Macau\" or region == \"Taiwan\":\n",
    "            textList.append(area)\n",
    "        else:\n",
    "            textList.append(area+', '+region)\n",
    "    else:\n",
    "        textList.append(region)\n",
    "\n",
    "fig2 = go.Figure(go.Scattermapbox(\n",
    "        lat=dfs[keyList[0]]['lat'],\n",
    "        lon=dfs[keyList[0]]['lon'],\n",
    "        mode='markers',\n",
    "        marker=go.scattermapbox.Marker(\n",
    "            color='#ff1414',\n",
    "            size=dfs[keyList[0]]['Confirmed'].tolist(), \n",
    "            sizemin=2,\n",
    "            sizemode='area',\n",
    "            sizeref=2.*max(dfs[keyList[0]]['Confirmed'].tolist())/(40.**2),\n",
    "        ),\n",
    "        text=textList,\n",
    "        hovertext=['Comfirmed: {}<br>Recovered: {}<br>Death: {}'.format(i, j, k) for i, j, k in zip(dfs[keyList[0]]['Confirmed'],\n",
    "                                                                                                    dfs[keyList[0]]['Recovered'],\n",
    "                                                                                                    dfs[keyList[0]]['Deaths'])],\n",
    "    \n",
    "        hovertemplate = \"<b>%{text}</b><br><br>\" +\n",
    "                        \"%{hovertext}<br>\" +\n",
    "                        \"<extra></extra>\")\n",
    "    \n",
    "        )\n",
    "\n",
    "fig2.update_layout(\n",
    "    title=dict(\n",
    "        text=\"<b>Latest Coronavirus Outbreak Map<b>\",\n",
    "        y=0.96, x=0.5, xanchor='center', yanchor='top',\n",
    "        font=dict(size=20, color=\"#7fafdf\", family=\"Playfair Display\")\n",
    "    ),\n",
    "    plot_bgcolor='#151920',\n",
    "    paper_bgcolor='#272e3e',\n",
    "    margin=go.layout.Margin(\n",
    "        l=10,\n",
    "        r=10,\n",
    "        b=10,\n",
    "        t=50,\n",
    "        pad=40\n",
    "    ),\n",
    "    hovermode='closest',\n",
    "    mapbox=go.layout.Mapbox(\n",
    "        accesstoken=mapbox_access_token,\n",
    "        style=\"mapbox://styles/plotlymapbox/cjvprkf3t1kns1cqjxuxmwixz\",\n",
    "        bearing=0,\n",
    "        center=go.layout.mapbox.Center(\n",
    "            lat=29.538860, \n",
    "            lon=173.304781\n",
    "        ),\n",
    "        pitch=0,\n",
    "        zoom=2\n",
    "    )\n",
    ")\n",
    "\n",
    "fig2.show()"
   ]
  },
  {
   "cell_type": "code",
   "execution_count": 334,
   "metadata": {},
   "outputs": [],
   "source": [
    "import dash\n",
    "import dash_core_components as dcc\n",
    "import dash_html_components as html \n",
    "import dash_bootstrap_components as dbc"
   ]
  },
  {
   "cell_type": "code",
   "execution_count": 344,
   "metadata": {},
   "outputs": [],
   "source": [
    "app = dash.Dash(__name__, assets_folder='./assets/',\n",
    "                meta_tags=[\n",
    "                    {\"name\": \"viewport\", \"content\": \"width=device-width, height=device-height, initial-scale=1.0\"}\n",
    "    ])"
   ]
  },
  {
   "cell_type": "code",
   "execution_count": 345,
   "metadata": {},
   "outputs": [],
   "source": [
    "app.layout = html.Div(style={'backgroundColor':'#151920'},\n",
    "    children=[\n",
    "        html.Div(\n",
    "            id=\"header\",\n",
    "            children=[\n",
    "                html.P(id=\"logo\", children=[\"Data source from \", \n",
    "                                            html.A('JHU CSSE', href='https://docs.google.com/spreadsheets/d/1yZv9w9z\\\n",
    "                                            RKwrGTaR-YzmAqMefw4wMlaXocejdxZaTs6w/htmlview?usp=sharing&sle=true#'),\n",
    "                                            html.P(\"🙏 Praise for China 🙏\"),\n",
    "                                            \"Developed by \",html.A('Jun', href='https://junye0798.com/'),\" with ❤️\"\n",
    "                                           ]),                          \n",
    "                html.H4(children=\"Wuhan Coronavirus (2019-nCoV) Outbreak Monitor\"),\n",
    "                html.P(\n",
    "                    id=\"description\",\n",
    "                    children=\"On Dec 31, 2019, the World Health Organization (WHO) was informed of \\\n",
    "                    an outbreak of “pneumonia of unknown cause” detected in Wuhan City, Hubei Province, China – the \\\n",
    "                    seventh-largest city in China with 11 million residents. As of {}, there are over {} cases \\\n",
    "                    of 2019-nCoV confirmed globally.\\\n",
    "                    This dash board is developed to visualise and track the recent reported \\\n",
    "                    cases on a daily timescale.\".format(latestDate, confirmedCases),\n",
    "                ),\n",
    "                html.P(style={'fontWeight':'bold'},\n",
    "                    children=\"Last updated on {}.\".format(latestDate))\n",
    "            ]        \n",
    "        ),\n",
    "        html.Div(style={'marginLeft':'1.5%','marginRight':'1.5%'},\n",
    "                 children=[\n",
    "                     html.Div(\n",
    "                         children=[\n",
    "                             html.Div(style={'width':'24.6%','backgroundColor':'#272e3e','display':'inline-block','marginRight':'10px'},\n",
    "                                 children=[html.P(style={'textAlign':'center','fontSize':'3rem',\n",
    "                                                         'fontWeight':'bold','color':'#ffffbf','padding':'1rem'},\n",
    "                                                  children=\"Days Since Outbreak\"),\n",
    "                                           html.H3(style={'textAlign':'center','fontSize':'6rem',\n",
    "                                                          'fontWeight':'bold','color':'#ffffbf'},\n",
    "                                                  children='{}'.format(daysOutbreak))]),\n",
    "                             html.Div(style={'width':'24.6%','backgroundColor':'#272e3e','display':'inline-block','marginRight':'10px'},\n",
    "                                 children=[html.P(style={'textAlign':'center','fontSize':'3rem',\n",
    "                                                         'fontWeight':'bold','color':'#d7191c','padding':'1rem'},\n",
    "                                                  children=\"Confirmed Cases\"),\n",
    "                                           html.H3(style={'textAlign':'center','fontSize':'6rem',\n",
    "                                                          'fontWeight':'bold','color':'#d7191c'},\n",
    "                                                  children='{}'.format(confirmedCases))]),\n",
    "                             html.Div(style={'width':'24.6%','backgroundColor':'#272e3e','display':'inline-block','marginRight':'10px'},\n",
    "                                 children=[html.P(style={'textAlign':'center','fontSize':'3rem',\n",
    "                                                         'fontWeight':'bold','color':'#1a9641','padding':'1rem'},\n",
    "                                                  children=\"Recovered Cases\"),\n",
    "                                           html.H3(style={'textAlign':'center','fontSize':'6rem',\n",
    "                                                          'fontWeight':'bold','color':'#1a9641'},\n",
    "                                                   children='{}'.format(recoveredCases))]),\n",
    "                             html.Div(style={'width':'24.6%','backgroundColor':'#272e3e','display':'inline-block','marginTop':'10px'},\n",
    "                                  children=[html.P(style={'textAlign':'center','fontSize':'3rem',\n",
    "                                                          'fontWeight':'bold','color':'#fdae61','padding':'1rem'},\n",
    "                                                  children=\"Death Cases\"),\n",
    "                                            html.H3(style={'textAlign':'center','fontSize':'6rem',\n",
    "                                                           'fontWeight':'bold','color':'#fdae61'},\n",
    "                                                children='{}'.format(deathsCases))]),\n",
    "                             html.Div(style={'width':'33%','display':'inline-block','marginTop':'10px','marginRight':'10px'},\n",
    "                                  children=[dcc.Graph(figure=fig_confirmed)]),\n",
    "                             html.Div(style={'width':'33%','display':'inline-block','marginTop':'10px','marginRight':'10px'},\n",
    "                                  children=[dcc.Graph(figure=fig_recovered)]),\n",
    "                             html.Div(style={'width':'32.9%','display':'inline-block','marginTop':'10px'},\n",
    "                                  children=[dcc.Graph(figure=fig_deaths)]),\n",
    "                             html.Div(style={'width':'100%','display':'inline-block','marginTop':'10px','marginBottom':'1.5%'},\n",
    "                                 children=[dcc.Graph(figure=fig2)]),\n",
    "\n",
    "                         ])\n",
    "                 ]),\n",
    "])\n"
   ]
  },
  {
   "cell_type": "code",
   "execution_count": null,
   "metadata": {},
   "outputs": [
    {
     "name": "stdout",
     "output_type": "stream",
     "text": [
      " * Serving Flask app \"__main__\" (lazy loading)\n",
      " * Environment: production\n",
      "   WARNING: This is a development server. Do not use it in a production deployment.\n",
      "   Use a production WSGI server instead.\n",
      " * Debug mode: off\n"
     ]
    },
    {
     "name": "stderr",
     "output_type": "stream",
     "text": [
      " * Running on http://127.0.0.1:8882/ (Press CTRL+C to quit)\n",
      "127.0.0.1 - - [31/Jan/2020 21:42:55] \"GET / HTTP/1.1\" 200 -\n",
      "127.0.0.1 - - [31/Jan/2020 21:42:55] \"GET /_dash-component-suites/dash_renderer/prop-types@15.7.2.min.js?v=1.1.2&m=1576595738 HTTP/1.1\" 200 -\n",
      "127.0.0.1 - - [31/Jan/2020 21:42:55] \"GET /_dash-component-suites/dash_renderer/react@16.8.6.min.js?v=1.1.2&m=1576595738 HTTP/1.1\" 200 -\n",
      "127.0.0.1 - - [31/Jan/2020 21:42:55] \"GET /_dash-component-suites/dash_renderer/react-dom@16.8.6.min.js?v=1.1.2&m=1576595738 HTTP/1.1\" 200 -\n",
      "127.0.0.1 - - [31/Jan/2020 21:42:55] \"GET /_dash-component-suites/dash_html_components/dash_html_components.min.js?v=1.0.1&m=1576596177 HTTP/1.1\" 200 -\n",
      "127.0.0.1 - - [31/Jan/2020 21:42:55] \"GET /_dash-component-suites/dash_core_components/highlight.pack.js?v=1.3.1&m=1576595950 HTTP/1.1\" 200 -\n",
      "127.0.0.1 - - [31/Jan/2020 21:42:55] \"GET /_dash-component-suites/dash_bootstrap_components/_components/dash_bootstrap_components.min.js?v=0.8.2&m=1580284437 HTTP/1.1\" 200 -\n",
      "127.0.0.1 - - [31/Jan/2020 21:42:55] \"GET /_dash-component-suites/dash_renderer/dash_renderer.min.js?v=1.1.2&m=1576595738 HTTP/1.1\" 200 -\n",
      "127.0.0.1 - - [31/Jan/2020 21:42:55] \"GET /_dash-component-suites/dash_core_components/dash_core_components.min.js?v=1.3.1&m=1576595950 HTTP/1.1\" 200 -\n",
      "127.0.0.1 - - [31/Jan/2020 21:42:55] \"GET /_dash-component-suites/dash_core_components/plotly-1.50.1.min.js?v=1.3.1&m=1576595950 HTTP/1.1\" 200 -\n",
      "127.0.0.1 - - [31/Jan/2020 21:42:56] \"GET /_dash-dependencies HTTP/1.1\" 200 -\n",
      "127.0.0.1 - - [31/Jan/2020 21:42:56] \"GET /_dash-layout HTTP/1.1\" 200 -\n"
     ]
    }
   ],
   "source": [
    "if __name__ == '__main__':\n",
    "    app.run_server(port=8882)"
   ]
  },
  {
   "cell_type": "code",
   "execution_count": null,
   "metadata": {},
   "outputs": [],
   "source": []
  },
  {
   "cell_type": "code",
   "execution_count": null,
   "metadata": {},
   "outputs": [],
   "source": []
  },
  {
   "cell_type": "code",
   "execution_count": null,
   "metadata": {},
   "outputs": [],
   "source": []
  },
  {
   "cell_type": "code",
   "execution_count": null,
   "metadata": {},
   "outputs": [],
   "source": [
    "app.layout = html.Div(style={'backgroundColor':'#151920'},\n",
    "    children=[\n",
    "        html.Div(\n",
    "            id=\"header\",\n",
    "            children=[\n",
    "                html.P(id=\"logo\", children=[\"Data source from \", html.A('JHU CSSE', href='https://docs.google.com/spreadsheets/d/1yZv9w9zRKwrGTaR-YzmAqMefw4wMlaXocejdxZaTs6w/htmlview?usp=sharing&sle=true#')]),\n",
    "                html.H4(children=\"Wuhan Coronavirus (2019-nCoV) Outbreak Monitor\"),\n",
    "                html.P(\n",
    "                    id=\"description\",\n",
    "                    children=\"On Dec 31, 2019, the World Health Organization (WHO) was informed of \\\n",
    "                    an outbreak of “pneumonia of unknown cause” detected in Wuhan City, Hubei Province, China – the \\\n",
    "                    seventh-largest city in China with 11 million residents. As of {}, there are over {} cases \\\n",
    "                    of 2019-nCoV confirmed globally.\\\n",
    "                    This dash board is developed to visualise and track the recent reported \\\n",
    "                    cases on a daily timescale.\".format(latestDate, confirmedCases),\n",
    "                ),\n",
    "                html.P(style={'fontWeight':'bold'},\n",
    "                    children=\"Last updated on {}.\".format(latestDate))\n",
    "            ]        \n",
    "        ),\n",
    "        html.Div(style={'marginLeft':'1.5%','marginRight':'1.5%'},\n",
    "                 children=[\n",
    "                     html.Div(\n",
    "                         children=[\n",
    "                             html.Div(style={'width':'24.6%','backgroundColor':'#272e3e','display':'inline-block','marginRight':'10px'},\n",
    "                                 children=[html.P(style={'textAlign':'center','fontSize':'3rem',\n",
    "                                                         'fontWeight':'bold','color':'#ffffbf','padding':'1rem'},\n",
    "                                                  children=\"Days Since Outbreak\"),\n",
    "                                           html.H3(style={'textAlign':'center','fontSize':'6rem',\n",
    "                                                          'fontWeight':'bold','color':'#ffffbf'},\n",
    "                                                  children='{}'.format(daysOutbreak))]),\n",
    "                             html.Div(style={'width':'24.6%','backgroundColor':'#272e3e','display':'inline-block','marginRight':'10px'},\n",
    "                                 children=[html.P(style={'textAlign':'center','fontSize':'3rem',\n",
    "                                                         'fontWeight':'bold','color':'#d7191c','padding':'1rem'},\n",
    "                                                  children=\"Confirmed Cases\"),\n",
    "                                           html.H3(style={'textAlign':'center','fontSize':'6rem',\n",
    "                                                          'fontWeight':'bold','color':'#d7191c'},\n",
    "                                                  children='{}'.format(confirmedCases))]),\n",
    "                             html.Div(style={'width':'24.6%','backgroundColor':'#272e3e','display':'inline-block','marginRight':'10px'},\n",
    "                                 children=[html.P(style={'textAlign':'center','fontSize':'3rem',\n",
    "                                                         'fontWeight':'bold','color':'#1a9641','padding':'1rem'},\n",
    "                                                  children=\"Recovered Cases\"),\n",
    "                                           html.H3(style={'textAlign':'center','fontSize':'6rem',\n",
    "                                                          'fontWeight':'bold','color':'#1a9641'},\n",
    "                                                   children='{}'.format(recoveredCases))]),\n",
    "                             html.Div(style={'width':'24.6%','backgroundColor':'#272e3e','display':'inline-block','marginTop':'10px'},\n",
    "                                  children=[html.P(style={'textAlign':'center','fontSize':'3rem',\n",
    "                                                          'fontWeight':'bold','color':'#fdae61','padding':'1rem'},\n",
    "                                                  children=\"Death Cases\"),\n",
    "                                            html.H3(style={'textAlign':'center','fontSize':'6rem',\n",
    "                                                           'fontWeight':'bold','color':'#fdae61'},\n",
    "                                                children='{}'.format(deathsCases))]),\n",
    "                             html.Div(style={'width':'100%','display':'inline-block','marginTop':'10px'},\n",
    "                                  children=[dcc.Graph(figure=fig_confirmed)]),\n",
    "                             \n",
    "                             html.Div(style={'width':'100%','display':'inline-block','marginTop':'10px','marginBottom':'1.5%'},\n",
    "                                 children=[dcc.Graph(figure=fig2)]),\n",
    "\n",
    "                         ])\n",
    "                 ]),\n",
    "])\n"
   ]
  }
 ],
 "metadata": {
  "kernelspec": {
   "display_name": "Python 3",
   "language": "python",
   "name": "python3"
  },
  "language_info": {
   "codemirror_mode": {
    "name": "ipython",
    "version": 3
   },
   "file_extension": ".py",
   "mimetype": "text/x-python",
   "name": "python",
   "nbconvert_exporter": "python",
   "pygments_lexer": "ipython3",
   "version": "3.6.9"
  },
  "toc": {
   "base_numbering": 1,
   "nav_menu": {},
   "number_sections": true,
   "sideBar": true,
   "skip_h1_title": false,
   "title_cell": "Table of Contents",
   "title_sidebar": "Contents",
   "toc_cell": false,
   "toc_position": {},
   "toc_section_display": true,
   "toc_window_display": false
  },
  "varInspector": {
   "cols": {
    "lenName": 16,
    "lenType": 16,
    "lenVar": 40
   },
   "kernels_config": {
    "python": {
     "delete_cmd_postfix": "",
     "delete_cmd_prefix": "del ",
     "library": "var_list.py",
     "varRefreshCmd": "print(var_dic_list())"
    },
    "r": {
     "delete_cmd_postfix": ") ",
     "delete_cmd_prefix": "rm(",
     "library": "var_list.r",
     "varRefreshCmd": "cat(var_dic_list()) "
    }
   },
   "types_to_exclude": [
    "module",
    "function",
    "builtin_function_or_method",
    "instance",
    "_Feature"
   ],
   "window_display": false
  }
 },
 "nbformat": 4,
 "nbformat_minor": 2
}
