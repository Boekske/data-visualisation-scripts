{
 "cells": [
  {
   "cell_type": "code",
   "execution_count": 33,
   "metadata": {},
   "outputs": [],
   "source": [
    "import pandas as pd\n",
    "import numpy as np\n",
    "from datetime import datetime, timedelta\n",
    "import math \n",
    "\n",
    "import plotly.graph_objects as go\n",
    "from plotly.subplots import make_subplots"
   ]
  },
  {
   "cell_type": "code",
   "execution_count": 105,
   "metadata": {},
   "outputs": [],
   "source": [
    "# Import xlsx file and store each sheet in to a df list\n",
    "xl_file = pd.ExcelFile('./data.xlsx',)\n",
    "\n",
    "dfs = {sheet_name: xl_file.parse(sheet_name) \n",
    "          for sheet_name in xl_file.sheet_names}"
   ]
  },
  {
   "cell_type": "code",
   "execution_count": 106,
   "metadata": {},
   "outputs": [],
   "source": [
    "# Data from each sheet can be accessed via key\n",
    "keyList = list(dfs.keys())"
   ]
  },
  {
   "cell_type": "code",
   "execution_count": 107,
   "metadata": {
    "scrolled": true
   },
   "outputs": [],
   "source": [
    "# Data cleansing\n",
    "for key, df in dfs.items():\n",
    "    dfs[key].loc[:,'Confirmed'].fillna(value=0, inplace=True)\n",
    "    dfs[key].loc[:,'Deaths'].fillna(value=0, inplace=True)\n",
    "    dfs[key].loc[:,'Recovered'].fillna(value=0, inplace=True)\n",
    "    dfs[key]=dfs[key].astype({'Confirmed':'int64', 'Deaths':'int64', 'Recovered':'int64'})\n",
    "    # Change as China for coordinate search\n",
    "    dfs[key]=dfs[key].replace({'Country/Region':'Mainland China'}, 'China')\n",
    "    dfs[key]=dfs[key].replace({'Province/State':'Queensland'}, 'Brisbane')\n",
    "    dfs[key]=dfs[key].replace({'Province/State':'New South Wales'}, 'Sydney')\n",
    "    dfs[key]=dfs[key].replace({'Province/State':'Victoria'}, 'Melbourne')\n",
    "    # Add a zero to the date so can be convert by datetime.strptime as 0-padded date\n",
    "    dfs[key]['Last Update'] = '0' + dfs[key]['Last Update']\n",
    "    dfs[key]['Date_last_updated'] = [datetime.strptime(d, '%m/%d/%Y %H:%M') for d in dfs[key]['Last Update']]"
   ]
  },
  {
   "cell_type": "code",
   "execution_count": 108,
   "metadata": {},
   "outputs": [
    {
     "data": {
      "text/html": [
       "<div>\n",
       "<style scoped>\n",
       "    .dataframe tbody tr th:only-of-type {\n",
       "        vertical-align: middle;\n",
       "    }\n",
       "\n",
       "    .dataframe tbody tr th {\n",
       "        vertical-align: top;\n",
       "    }\n",
       "\n",
       "    .dataframe thead th {\n",
       "        text-align: right;\n",
       "    }\n",
       "</style>\n",
       "<table border=\"1\" class=\"dataframe\">\n",
       "  <thead>\n",
       "    <tr style=\"text-align: right;\">\n",
       "      <th></th>\n",
       "      <th>Province/State</th>\n",
       "      <th>Country/Region</th>\n",
       "      <th>Last Update</th>\n",
       "      <th>Confirmed</th>\n",
       "      <th>Deaths</th>\n",
       "      <th>Recovered</th>\n",
       "      <th>Date_last_updated</th>\n",
       "    </tr>\n",
       "  </thead>\n",
       "  <tbody>\n",
       "    <tr>\n",
       "      <th>0</th>\n",
       "      <td>Hubei</td>\n",
       "      <td>China</td>\n",
       "      <td>01/31/2020 18:00</td>\n",
       "      <td>7153</td>\n",
       "      <td>249</td>\n",
       "      <td>159</td>\n",
       "      <td>2020-01-31 18:00:00</td>\n",
       "    </tr>\n",
       "    <tr>\n",
       "      <th>1</th>\n",
       "      <td>Zhejiang</td>\n",
       "      <td>China</td>\n",
       "      <td>01/31/2020 18:00</td>\n",
       "      <td>537</td>\n",
       "      <td>0</td>\n",
       "      <td>11</td>\n",
       "      <td>2020-01-31 18:00:00</td>\n",
       "    </tr>\n",
       "    <tr>\n",
       "      <th>2</th>\n",
       "      <td>Guangdong</td>\n",
       "      <td>China</td>\n",
       "      <td>01/31/2020 18:00</td>\n",
       "      <td>436</td>\n",
       "      <td>0</td>\n",
       "      <td>11</td>\n",
       "      <td>2020-01-31 18:00:00</td>\n",
       "    </tr>\n",
       "    <tr>\n",
       "      <th>3</th>\n",
       "      <td>Henan</td>\n",
       "      <td>China</td>\n",
       "      <td>01/31/2020 18:00</td>\n",
       "      <td>352</td>\n",
       "      <td>2</td>\n",
       "      <td>3</td>\n",
       "      <td>2020-01-31 18:00:00</td>\n",
       "    </tr>\n",
       "    <tr>\n",
       "      <th>4</th>\n",
       "      <td>Hunan</td>\n",
       "      <td>China</td>\n",
       "      <td>01/31/2020 18:00</td>\n",
       "      <td>332</td>\n",
       "      <td>0</td>\n",
       "      <td>2</td>\n",
       "      <td>2020-01-31 18:00:00</td>\n",
       "    </tr>\n",
       "  </tbody>\n",
       "</table>\n",
       "</div>"
      ],
      "text/plain": [
       "  Province/State Country/Region       Last Update  Confirmed  Deaths  \\\n",
       "0          Hubei          China  01/31/2020 18:00       7153     249   \n",
       "1       Zhejiang          China  01/31/2020 18:00        537       0   \n",
       "2      Guangdong          China  01/31/2020 18:00        436       0   \n",
       "3          Henan          China  01/31/2020 18:00        352       2   \n",
       "4          Hunan          China  01/31/2020 18:00        332       0   \n",
       "\n",
       "   Recovered   Date_last_updated  \n",
       "0        159 2020-01-31 18:00:00  \n",
       "1         11 2020-01-31 18:00:00  \n",
       "2         11 2020-01-31 18:00:00  \n",
       "3          3 2020-01-31 18:00:00  \n",
       "4          2 2020-01-31 18:00:00  "
      ]
     },
     "execution_count": 108,
     "metadata": {},
     "output_type": "execute_result"
    }
   ],
   "source": [
    "# Check \n",
    "dfs[keyList[0]].head()"
   ]
  },
  {
   "cell_type": "code",
   "execution_count": 109,
   "metadata": {},
   "outputs": [],
   "source": [
    "# Import data with coordinates (coordinates were called seperately in \"Updated_coordinates\")\n",
    "dfs[keyList[0]]=pd.read_csv('{}_data.csv'.format(keyList[0]))"
   ]
  },
  {
   "cell_type": "code",
   "execution_count": 110,
   "metadata": {},
   "outputs": [],
   "source": [
    "# Save numbers into variables to use in the app\n",
    "confirmedCases=dfs[keyList[0]]['Confirmed'].sum()\n",
    "deathsCases=dfs[keyList[0]]['Deaths'].sum()\n",
    "recoveredCases=dfs[keyList[0]]['Recovered'].sum()"
   ]
  },
  {
   "cell_type": "code",
   "execution_count": 111,
   "metadata": {},
   "outputs": [],
   "source": [
    "# Construct new dataframe for line plot\n",
    "DateList = []\n",
    "ChinaList =[]\n",
    "OtherList = []\n",
    "\n",
    "for key, df in dfs.items():\n",
    "    dfTpm = df.groupby(['Country/Region'])['Confirmed'].agg(np.sum)\n",
    "    dfTpm = pd.DataFrame({'Code':dfTpm.index, 'Confirmed':dfTpm.values})\n",
    "    dfTpm = dfTpm.sort_values(by='Confirmed', ascending=False).reset_index(drop=True)\n",
    "    DateList.append(df['Date_last_updated'][0])\n",
    "    ChinaList.append(dfTpm['Confirmed'][0])\n",
    "    OtherList.append(dfTpm['Confirmed'][1:].sum())\n",
    "    \n",
    "df_confirmed = pd.DataFrame({'Date':DateList,\n",
    "                             'Mainland China':ChinaList,\n",
    "                             'Other locations':OtherList})    "
   ]
  },
  {
   "cell_type": "code",
   "execution_count": 112,
   "metadata": {},
   "outputs": [
    {
     "data": {
      "text/html": [
       "<div>\n",
       "<style scoped>\n",
       "    .dataframe tbody tr th:only-of-type {\n",
       "        vertical-align: middle;\n",
       "    }\n",
       "\n",
       "    .dataframe tbody tr th {\n",
       "        vertical-align: top;\n",
       "    }\n",
       "\n",
       "    .dataframe thead th {\n",
       "        text-align: right;\n",
       "    }\n",
       "</style>\n",
       "<table border=\"1\" class=\"dataframe\">\n",
       "  <thead>\n",
       "    <tr style=\"text-align: right;\">\n",
       "      <th></th>\n",
       "      <th>Date</th>\n",
       "      <th>Mainland China</th>\n",
       "      <th>Other locations</th>\n",
       "    </tr>\n",
       "  </thead>\n",
       "  <tbody>\n",
       "    <tr>\n",
       "      <th>0</th>\n",
       "      <td>2020-01-31 18:00:00</td>\n",
       "      <td>11182</td>\n",
       "      <td>146</td>\n",
       "    </tr>\n",
       "    <tr>\n",
       "      <th>1</th>\n",
       "      <td>2020-01-31 14:00:00</td>\n",
       "      <td>9783</td>\n",
       "      <td>142</td>\n",
       "    </tr>\n",
       "    <tr>\n",
       "      <th>2</th>\n",
       "      <td>2020-01-30 21:30:00</td>\n",
       "      <td>9658</td>\n",
       "      <td>118</td>\n",
       "    </tr>\n",
       "    <tr>\n",
       "      <th>3</th>\n",
       "      <td>2020-01-30 11:00:00</td>\n",
       "      <td>8124</td>\n",
       "      <td>111</td>\n",
       "    </tr>\n",
       "    <tr>\n",
       "      <th>4</th>\n",
       "      <td>2020-01-29 21:00:00</td>\n",
       "      <td>7678</td>\n",
       "      <td>105</td>\n",
       "    </tr>\n",
       "  </tbody>\n",
       "</table>\n",
       "</div>"
      ],
      "text/plain": [
       "                 Date  Mainland China  Other locations\n",
       "0 2020-01-31 18:00:00           11182              146\n",
       "1 2020-01-31 14:00:00            9783              142\n",
       "2 2020-01-30 21:30:00            9658              118\n",
       "3 2020-01-30 11:00:00            8124              111\n",
       "4 2020-01-29 21:00:00            7678              105"
      ]
     },
     "execution_count": 112,
     "metadata": {},
     "output_type": "execute_result"
    }
   ],
   "source": [
    "df_confirmed.head()"
   ]
  },
  {
   "cell_type": "code",
   "execution_count": 113,
   "metadata": {},
   "outputs": [],
   "source": [
    "# Construct new dataframe for line plot\n",
    "DateList = []\n",
    "ChinaList =[]\n",
    "OtherList = []\n",
    "\n",
    "for key, df in dfs.items():\n",
    "    dfTpm = df.groupby(['Country/Region'])['Recovered'].agg(np.sum)\n",
    "    dfTpm = pd.DataFrame({'Code':dfTpm.index, 'Recovered':dfTpm.values})\n",
    "    dfTpm = dfTpm.sort_values(by='Recovered', ascending=False).reset_index(drop=True)\n",
    "    DateList.append(df['Date_last_updated'][0])\n",
    "    ChinaList.append(dfTpm['Recovered'][0])\n",
    "    OtherList.append(dfTpm['Recovered'][1:].sum())\n",
    "    \n",
    "df_recovered = pd.DataFrame({'Date':DateList,\n",
    "                             'Mainland China':ChinaList,\n",
    "                             'Other locations':OtherList})  "
   ]
  },
  {
   "cell_type": "code",
   "execution_count": 114,
   "metadata": {},
   "outputs": [
    {
     "data": {
      "text/html": [
       "<div>\n",
       "<style scoped>\n",
       "    .dataframe tbody tr th:only-of-type {\n",
       "        vertical-align: middle;\n",
       "    }\n",
       "\n",
       "    .dataframe tbody tr th {\n",
       "        vertical-align: top;\n",
       "    }\n",
       "\n",
       "    .dataframe thead th {\n",
       "        text-align: right;\n",
       "    }\n",
       "</style>\n",
       "<table border=\"1\" class=\"dataframe\">\n",
       "  <thead>\n",
       "    <tr style=\"text-align: right;\">\n",
       "      <th></th>\n",
       "      <th>Date</th>\n",
       "      <th>Mainland China</th>\n",
       "      <th>Other locations</th>\n",
       "    </tr>\n",
       "  </thead>\n",
       "  <tbody>\n",
       "    <tr>\n",
       "      <th>0</th>\n",
       "      <td>2020-01-31 18:00:00</td>\n",
       "      <td>228</td>\n",
       "      <td>8</td>\n",
       "    </tr>\n",
       "    <tr>\n",
       "      <th>1</th>\n",
       "      <td>2020-01-31 14:00:00</td>\n",
       "      <td>214</td>\n",
       "      <td>8</td>\n",
       "    </tr>\n",
       "    <tr>\n",
       "      <th>2</th>\n",
       "      <td>2020-01-30 21:30:00</td>\n",
       "      <td>179</td>\n",
       "      <td>8</td>\n",
       "    </tr>\n",
       "    <tr>\n",
       "      <th>3</th>\n",
       "      <td>2020-01-30 11:00:00</td>\n",
       "      <td>135</td>\n",
       "      <td>8</td>\n",
       "    </tr>\n",
       "    <tr>\n",
       "      <th>4</th>\n",
       "      <td>2020-01-29 21:00:00</td>\n",
       "      <td>127</td>\n",
       "      <td>6</td>\n",
       "    </tr>\n",
       "  </tbody>\n",
       "</table>\n",
       "</div>"
      ],
      "text/plain": [
       "                 Date  Mainland China  Other locations\n",
       "0 2020-01-31 18:00:00             228                8\n",
       "1 2020-01-31 14:00:00             214                8\n",
       "2 2020-01-30 21:30:00             179                8\n",
       "3 2020-01-30 11:00:00             135                8\n",
       "4 2020-01-29 21:00:00             127                6"
      ]
     },
     "execution_count": 114,
     "metadata": {},
     "output_type": "execute_result"
    }
   ],
   "source": [
    "df_recovered.head()"
   ]
  },
  {
   "cell_type": "code",
   "execution_count": 115,
   "metadata": {},
   "outputs": [],
   "source": [
    "# Construct new dataframe for line plot\n",
    "DateList = []\n",
    "ChinaList =[]\n",
    "OtherList = []\n",
    "\n",
    "for key, df in dfs.items():\n",
    "    dfTpm = df.groupby(['Country/Region'])['Deaths'].agg(np.sum)\n",
    "    dfTpm = pd.DataFrame({'Code':dfTpm.index, 'Deaths':dfTpm.values})\n",
    "    dfTpm = dfTpm.sort_values(by='Deaths', ascending=False).reset_index(drop=True)\n",
    "    DateList.append(df['Date_last_updated'][0])\n",
    "    ChinaList.append(dfTpm['Deaths'][0])\n",
    "    OtherList.append(dfTpm['Deaths'][1:].sum())\n",
    "    \n",
    "df_deaths = pd.DataFrame({'Date':DateList,\n",
    "                          'Mainland China':ChinaList,\n",
    "                          'Other locations':OtherList})  "
   ]
  },
  {
   "cell_type": "code",
   "execution_count": 116,
   "metadata": {},
   "outputs": [
    {
     "data": {
      "text/html": [
       "<div>\n",
       "<style scoped>\n",
       "    .dataframe tbody tr th:only-of-type {\n",
       "        vertical-align: middle;\n",
       "    }\n",
       "\n",
       "    .dataframe tbody tr th {\n",
       "        vertical-align: top;\n",
       "    }\n",
       "\n",
       "    .dataframe thead th {\n",
       "        text-align: right;\n",
       "    }\n",
       "</style>\n",
       "<table border=\"1\" class=\"dataframe\">\n",
       "  <thead>\n",
       "    <tr style=\"text-align: right;\">\n",
       "      <th></th>\n",
       "      <th>Date</th>\n",
       "      <th>Mainland China</th>\n",
       "      <th>Other locations</th>\n",
       "    </tr>\n",
       "  </thead>\n",
       "  <tbody>\n",
       "    <tr>\n",
       "      <th>0</th>\n",
       "      <td>2020-01-31 18:00:00</td>\n",
       "      <td>258</td>\n",
       "      <td>0</td>\n",
       "    </tr>\n",
       "    <tr>\n",
       "      <th>1</th>\n",
       "      <td>2020-01-31 14:00:00</td>\n",
       "      <td>213</td>\n",
       "      <td>0</td>\n",
       "    </tr>\n",
       "    <tr>\n",
       "      <th>2</th>\n",
       "      <td>2020-01-30 21:30:00</td>\n",
       "      <td>213</td>\n",
       "      <td>0</td>\n",
       "    </tr>\n",
       "    <tr>\n",
       "      <th>3</th>\n",
       "      <td>2020-01-30 11:00:00</td>\n",
       "      <td>171</td>\n",
       "      <td>0</td>\n",
       "    </tr>\n",
       "    <tr>\n",
       "      <th>4</th>\n",
       "      <td>2020-01-29 21:00:00</td>\n",
       "      <td>170</td>\n",
       "      <td>0</td>\n",
       "    </tr>\n",
       "  </tbody>\n",
       "</table>\n",
       "</div>"
      ],
      "text/plain": [
       "                 Date  Mainland China  Other locations\n",
       "0 2020-01-31 18:00:00             258                0\n",
       "1 2020-01-31 14:00:00             213                0\n",
       "2 2020-01-30 21:30:00             213                0\n",
       "3 2020-01-30 11:00:00             171                0\n",
       "4 2020-01-29 21:00:00             170                0"
      ]
     },
     "execution_count": 116,
     "metadata": {},
     "output_type": "execute_result"
    }
   ],
   "source": [
    "df_deaths.head()"
   ]
  },
  {
   "cell_type": "code",
   "execution_count": 117,
   "metadata": {},
   "outputs": [],
   "source": [
    "# Save numbers into variables to use in the app\n",
    "# Change to Sydney time\n",
    "latestDate=datetime.strftime(df_confirmed['Date'][0] + timedelta(hours=16), '%b %d %Y %H:%M AEDT')\n",
    "daysOutbreak=(df_confirmed['Date'][0] + timedelta(hours=16) - datetime.strptime('12/31/2019', '%m/%d/%Y')).days"
   ]
  },
  {
   "cell_type": "code",
   "execution_count": 118,
   "metadata": {},
   "outputs": [
    {
     "data": {
      "text/plain": [
       "Timestamp('2020-01-31 18:00:00')"
      ]
     },
     "execution_count": 118,
     "metadata": {},
     "output_type": "execute_result"
    }
   ],
   "source": [
    "df_confirmed['Date'][0]"
   ]
  },
  {
   "cell_type": "code",
   "execution_count": 119,
   "metadata": {},
   "outputs": [
    {
     "data": {
      "text/plain": [
       "32"
      ]
     },
     "execution_count": 119,
     "metadata": {},
     "output_type": "execute_result"
    }
   ],
   "source": [
    "daysOutbreak"
   ]
  },
  {
   "cell_type": "code",
   "execution_count": 130,
   "metadata": {},
   "outputs": [
    {
     "data": {
      "application/vnd.plotly.v1+json": {
       "config": {
        "plotlyServerURL": "https://plot.ly"
       },
       "data": [
        {
         "hovertemplate": "<b>%{text}</b><br></br>Mainland China confirmed<br>%{y} cases<br><extra></extra>",
         "line": {
          "color": "#921113",
          "width": 2
         },
         "marker": {
          "size": 8
         },
         "mode": "lines+markers",
         "name": "Mainland China",
         "text": [
          "Feb 01 2020 10:00 AEDT",
          "Feb 01 2020 06:00 AEDT",
          "Jan 31 2020 13:30 AEDT",
          "Jan 31 2020 03:00 AEDT",
          "Jan 30 2020 13:00 AEDT",
          "Jan 30 2020 06:30 AEDT",
          "Jan 30 2020 05:30 AEDT",
          "Jan 29 2020 15:00 AEDT",
          "Jan 29 2020 10:00 AEDT",
          "Jan 29 2020 05:00 AEDT",
          "Jan 28 2020 12:30 AEDT",
          "Jan 28 2020 11:00 AEDT",
          "Jan 28 2020 01:00 AEDT",
          "Jan 27 2020 15:00 AEDT",
          "Jan 27 2020 03:00 AEDT",
          "Jan 26 2020 14:00 AEDT",
          "Jan 26 2020 04:00 AEDT",
          "Jan 25 2020 16:00 AEDT",
          "Jan 25 2020 04:00 AEDT",
          "Jan 24 2020 16:00 AEDT",
          "Jan 24 2020 04:00 AEDT",
          "Jan 23 2020 04:00 AEDT",
          "Jan 21 2020 16:00 AEDT"
         ],
         "type": "scatter",
         "x": [
          "2020-01-31T18:00:00",
          "2020-01-31T14:00:00",
          "2020-01-30T21:30:00",
          "2020-01-30T11:00:00",
          "2020-01-29T21:00:00",
          "2020-01-29T14:30:00",
          "2020-01-29T13:30:00",
          "2020-01-28T23:00:00",
          "2020-01-28T18:00:00",
          "2020-01-28T13:00:00",
          "2020-01-27T20:30:00",
          "2020-01-27T19:00:00",
          "2020-01-27T09:00:00",
          "2020-01-26T23:00:00",
          "2020-01-26T11:00:00",
          "2020-01-25T22:00:00",
          "2020-01-25T12:00:00",
          "2020-01-25T00:00:00",
          "2020-01-24T12:00:00",
          "2020-01-24T00:00:00",
          "2020-01-23T12:00:00",
          "2020-01-22T12:00:00",
          "2020-01-21T00:00:00"
         ],
         "y": [
          11182,
          9783,
          9658,
          8124,
          7678,
          6070,
          6070,
          5970,
          5494,
          4610,
          4409,
          2863,
          2825,
          2737,
          2062,
          1979,
          1399,
          1320,
          916,
          865,
          639,
          549,
          327
         ]
        },
        {
         "hovertemplate": "<b>%{text}</b><br></br>Other region confirmed<br>%{y} cases<br><extra></extra>",
         "line": {
          "color": "#eb5254",
          "width": 2
         },
         "marker": {
          "size": 8
         },
         "mode": "lines+markers",
         "name": "Other Region",
         "text": [
          "Feb 01 2020 10:00 AEDT",
          "Feb 01 2020 06:00 AEDT",
          "Jan 31 2020 13:30 AEDT",
          "Jan 31 2020 03:00 AEDT",
          "Jan 30 2020 13:00 AEDT",
          "Jan 30 2020 06:30 AEDT",
          "Jan 30 2020 05:30 AEDT",
          "Jan 29 2020 15:00 AEDT",
          "Jan 29 2020 10:00 AEDT",
          "Jan 29 2020 05:00 AEDT",
          "Jan 28 2020 12:30 AEDT",
          "Jan 28 2020 11:00 AEDT",
          "Jan 28 2020 01:00 AEDT",
          "Jan 27 2020 15:00 AEDT",
          "Jan 27 2020 03:00 AEDT",
          "Jan 26 2020 14:00 AEDT",
          "Jan 26 2020 04:00 AEDT",
          "Jan 25 2020 16:00 AEDT",
          "Jan 25 2020 04:00 AEDT",
          "Jan 24 2020 16:00 AEDT",
          "Jan 24 2020 04:00 AEDT",
          "Jan 23 2020 04:00 AEDT",
          "Jan 21 2020 16:00 AEDT"
         ],
         "type": "scatter",
         "x": [
          "2020-01-31T18:00:00",
          "2020-01-31T14:00:00",
          "2020-01-30T21:30:00",
          "2020-01-30T11:00:00",
          "2020-01-29T21:00:00",
          "2020-01-29T14:30:00",
          "2020-01-29T13:30:00",
          "2020-01-28T23:00:00",
          "2020-01-28T18:00:00",
          "2020-01-28T13:00:00",
          "2020-01-27T20:30:00",
          "2020-01-27T19:00:00",
          "2020-01-27T09:00:00",
          "2020-01-26T23:00:00",
          "2020-01-26T11:00:00",
          "2020-01-25T22:00:00",
          "2020-01-25T12:00:00",
          "2020-01-25T00:00:00",
          "2020-01-24T12:00:00",
          "2020-01-24T00:00:00",
          "2020-01-23T12:00:00",
          "2020-01-22T12:00:00",
          "2020-01-21T00:00:00"
         ],
         "y": [
          146,
          142,
          118,
          111,
          105,
          95,
          94,
          87,
          84,
          80,
          64,
          64,
          61,
          57,
          54,
          40,
          39,
          34,
          25,
          16,
          26,
          6,
          5
         ]
        }
       ],
       "layout": {
        "font": {
         "color": "#7fafdf"
        },
        "hovermode": "x",
        "legend": {
         "orientation": "h"
        },
        "margin": {
         "b": 10,
         "l": 5,
         "pad": 0,
         "r": 10,
         "t": 50
        },
        "paper_bgcolor": "#272e3e",
        "plot_bgcolor": "#151920",
        "template": {
         "data": {
          "bar": [
           {
            "error_x": {
             "color": "#2a3f5f"
            },
            "error_y": {
             "color": "#2a3f5f"
            },
            "marker": {
             "line": {
              "color": "#E5ECF6",
              "width": 0.5
             }
            },
            "type": "bar"
           }
          ],
          "barpolar": [
           {
            "marker": {
             "line": {
              "color": "#E5ECF6",
              "width": 0.5
             }
            },
            "type": "barpolar"
           }
          ],
          "carpet": [
           {
            "aaxis": {
             "endlinecolor": "#2a3f5f",
             "gridcolor": "white",
             "linecolor": "white",
             "minorgridcolor": "white",
             "startlinecolor": "#2a3f5f"
            },
            "baxis": {
             "endlinecolor": "#2a3f5f",
             "gridcolor": "white",
             "linecolor": "white",
             "minorgridcolor": "white",
             "startlinecolor": "#2a3f5f"
            },
            "type": "carpet"
           }
          ],
          "choropleth": [
           {
            "colorbar": {
             "outlinewidth": 0,
             "ticks": ""
            },
            "type": "choropleth"
           }
          ],
          "contour": [
           {
            "colorbar": {
             "outlinewidth": 0,
             "ticks": ""
            },
            "colorscale": [
             [
              0,
              "#0d0887"
             ],
             [
              0.1111111111111111,
              "#46039f"
             ],
             [
              0.2222222222222222,
              "#7201a8"
             ],
             [
              0.3333333333333333,
              "#9c179e"
             ],
             [
              0.4444444444444444,
              "#bd3786"
             ],
             [
              0.5555555555555556,
              "#d8576b"
             ],
             [
              0.6666666666666666,
              "#ed7953"
             ],
             [
              0.7777777777777778,
              "#fb9f3a"
             ],
             [
              0.8888888888888888,
              "#fdca26"
             ],
             [
              1,
              "#f0f921"
             ]
            ],
            "type": "contour"
           }
          ],
          "contourcarpet": [
           {
            "colorbar": {
             "outlinewidth": 0,
             "ticks": ""
            },
            "type": "contourcarpet"
           }
          ],
          "heatmap": [
           {
            "colorbar": {
             "outlinewidth": 0,
             "ticks": ""
            },
            "colorscale": [
             [
              0,
              "#0d0887"
             ],
             [
              0.1111111111111111,
              "#46039f"
             ],
             [
              0.2222222222222222,
              "#7201a8"
             ],
             [
              0.3333333333333333,
              "#9c179e"
             ],
             [
              0.4444444444444444,
              "#bd3786"
             ],
             [
              0.5555555555555556,
              "#d8576b"
             ],
             [
              0.6666666666666666,
              "#ed7953"
             ],
             [
              0.7777777777777778,
              "#fb9f3a"
             ],
             [
              0.8888888888888888,
              "#fdca26"
             ],
             [
              1,
              "#f0f921"
             ]
            ],
            "type": "heatmap"
           }
          ],
          "heatmapgl": [
           {
            "colorbar": {
             "outlinewidth": 0,
             "ticks": ""
            },
            "colorscale": [
             [
              0,
              "#0d0887"
             ],
             [
              0.1111111111111111,
              "#46039f"
             ],
             [
              0.2222222222222222,
              "#7201a8"
             ],
             [
              0.3333333333333333,
              "#9c179e"
             ],
             [
              0.4444444444444444,
              "#bd3786"
             ],
             [
              0.5555555555555556,
              "#d8576b"
             ],
             [
              0.6666666666666666,
              "#ed7953"
             ],
             [
              0.7777777777777778,
              "#fb9f3a"
             ],
             [
              0.8888888888888888,
              "#fdca26"
             ],
             [
              1,
              "#f0f921"
             ]
            ],
            "type": "heatmapgl"
           }
          ],
          "histogram": [
           {
            "marker": {
             "colorbar": {
              "outlinewidth": 0,
              "ticks": ""
             }
            },
            "type": "histogram"
           }
          ],
          "histogram2d": [
           {
            "colorbar": {
             "outlinewidth": 0,
             "ticks": ""
            },
            "colorscale": [
             [
              0,
              "#0d0887"
             ],
             [
              0.1111111111111111,
              "#46039f"
             ],
             [
              0.2222222222222222,
              "#7201a8"
             ],
             [
              0.3333333333333333,
              "#9c179e"
             ],
             [
              0.4444444444444444,
              "#bd3786"
             ],
             [
              0.5555555555555556,
              "#d8576b"
             ],
             [
              0.6666666666666666,
              "#ed7953"
             ],
             [
              0.7777777777777778,
              "#fb9f3a"
             ],
             [
              0.8888888888888888,
              "#fdca26"
             ],
             [
              1,
              "#f0f921"
             ]
            ],
            "type": "histogram2d"
           }
          ],
          "histogram2dcontour": [
           {
            "colorbar": {
             "outlinewidth": 0,
             "ticks": ""
            },
            "colorscale": [
             [
              0,
              "#0d0887"
             ],
             [
              0.1111111111111111,
              "#46039f"
             ],
             [
              0.2222222222222222,
              "#7201a8"
             ],
             [
              0.3333333333333333,
              "#9c179e"
             ],
             [
              0.4444444444444444,
              "#bd3786"
             ],
             [
              0.5555555555555556,
              "#d8576b"
             ],
             [
              0.6666666666666666,
              "#ed7953"
             ],
             [
              0.7777777777777778,
              "#fb9f3a"
             ],
             [
              0.8888888888888888,
              "#fdca26"
             ],
             [
              1,
              "#f0f921"
             ]
            ],
            "type": "histogram2dcontour"
           }
          ],
          "mesh3d": [
           {
            "colorbar": {
             "outlinewidth": 0,
             "ticks": ""
            },
            "type": "mesh3d"
           }
          ],
          "parcoords": [
           {
            "line": {
             "colorbar": {
              "outlinewidth": 0,
              "ticks": ""
             }
            },
            "type": "parcoords"
           }
          ],
          "pie": [
           {
            "automargin": true,
            "type": "pie"
           }
          ],
          "scatter": [
           {
            "marker": {
             "colorbar": {
              "outlinewidth": 0,
              "ticks": ""
             }
            },
            "type": "scatter"
           }
          ],
          "scatter3d": [
           {
            "line": {
             "colorbar": {
              "outlinewidth": 0,
              "ticks": ""
             }
            },
            "marker": {
             "colorbar": {
              "outlinewidth": 0,
              "ticks": ""
             }
            },
            "type": "scatter3d"
           }
          ],
          "scattercarpet": [
           {
            "marker": {
             "colorbar": {
              "outlinewidth": 0,
              "ticks": ""
             }
            },
            "type": "scattercarpet"
           }
          ],
          "scattergeo": [
           {
            "marker": {
             "colorbar": {
              "outlinewidth": 0,
              "ticks": ""
             }
            },
            "type": "scattergeo"
           }
          ],
          "scattergl": [
           {
            "marker": {
             "colorbar": {
              "outlinewidth": 0,
              "ticks": ""
             }
            },
            "type": "scattergl"
           }
          ],
          "scattermapbox": [
           {
            "marker": {
             "colorbar": {
              "outlinewidth": 0,
              "ticks": ""
             }
            },
            "type": "scattermapbox"
           }
          ],
          "scatterpolar": [
           {
            "marker": {
             "colorbar": {
              "outlinewidth": 0,
              "ticks": ""
             }
            },
            "type": "scatterpolar"
           }
          ],
          "scatterpolargl": [
           {
            "marker": {
             "colorbar": {
              "outlinewidth": 0,
              "ticks": ""
             }
            },
            "type": "scatterpolargl"
           }
          ],
          "scatterternary": [
           {
            "marker": {
             "colorbar": {
              "outlinewidth": 0,
              "ticks": ""
             }
            },
            "type": "scatterternary"
           }
          ],
          "surface": [
           {
            "colorbar": {
             "outlinewidth": 0,
             "ticks": ""
            },
            "colorscale": [
             [
              0,
              "#0d0887"
             ],
             [
              0.1111111111111111,
              "#46039f"
             ],
             [
              0.2222222222222222,
              "#7201a8"
             ],
             [
              0.3333333333333333,
              "#9c179e"
             ],
             [
              0.4444444444444444,
              "#bd3786"
             ],
             [
              0.5555555555555556,
              "#d8576b"
             ],
             [
              0.6666666666666666,
              "#ed7953"
             ],
             [
              0.7777777777777778,
              "#fb9f3a"
             ],
             [
              0.8888888888888888,
              "#fdca26"
             ],
             [
              1,
              "#f0f921"
             ]
            ],
            "type": "surface"
           }
          ],
          "table": [
           {
            "cells": {
             "fill": {
              "color": "#EBF0F8"
             },
             "line": {
              "color": "white"
             }
            },
            "header": {
             "fill": {
              "color": "#C8D4E3"
             },
             "line": {
              "color": "white"
             }
            },
            "type": "table"
           }
          ]
         },
         "layout": {
          "annotationdefaults": {
           "arrowcolor": "#2a3f5f",
           "arrowhead": 0,
           "arrowwidth": 1
          },
          "coloraxis": {
           "colorbar": {
            "outlinewidth": 0,
            "ticks": ""
           }
          },
          "colorscale": {
           "diverging": [
            [
             0,
             "#8e0152"
            ],
            [
             0.1,
             "#c51b7d"
            ],
            [
             0.2,
             "#de77ae"
            ],
            [
             0.3,
             "#f1b6da"
            ],
            [
             0.4,
             "#fde0ef"
            ],
            [
             0.5,
             "#f7f7f7"
            ],
            [
             0.6,
             "#e6f5d0"
            ],
            [
             0.7,
             "#b8e186"
            ],
            [
             0.8,
             "#7fbc41"
            ],
            [
             0.9,
             "#4d9221"
            ],
            [
             1,
             "#276419"
            ]
           ],
           "sequential": [
            [
             0,
             "#0d0887"
            ],
            [
             0.1111111111111111,
             "#46039f"
            ],
            [
             0.2222222222222222,
             "#7201a8"
            ],
            [
             0.3333333333333333,
             "#9c179e"
            ],
            [
             0.4444444444444444,
             "#bd3786"
            ],
            [
             0.5555555555555556,
             "#d8576b"
            ],
            [
             0.6666666666666666,
             "#ed7953"
            ],
            [
             0.7777777777777778,
             "#fb9f3a"
            ],
            [
             0.8888888888888888,
             "#fdca26"
            ],
            [
             1,
             "#f0f921"
            ]
           ],
           "sequentialminus": [
            [
             0,
             "#0d0887"
            ],
            [
             0.1111111111111111,
             "#46039f"
            ],
            [
             0.2222222222222222,
             "#7201a8"
            ],
            [
             0.3333333333333333,
             "#9c179e"
            ],
            [
             0.4444444444444444,
             "#bd3786"
            ],
            [
             0.5555555555555556,
             "#d8576b"
            ],
            [
             0.6666666666666666,
             "#ed7953"
            ],
            [
             0.7777777777777778,
             "#fb9f3a"
            ],
            [
             0.8888888888888888,
             "#fdca26"
            ],
            [
             1,
             "#f0f921"
            ]
           ]
          },
          "colorway": [
           "#636efa",
           "#EF553B",
           "#00cc96",
           "#ab63fa",
           "#FFA15A",
           "#19d3f3",
           "#FF6692",
           "#B6E880",
           "#FF97FF",
           "#FECB52"
          ],
          "font": {
           "color": "#2a3f5f"
          },
          "geo": {
           "bgcolor": "white",
           "lakecolor": "white",
           "landcolor": "#E5ECF6",
           "showlakes": true,
           "showland": true,
           "subunitcolor": "white"
          },
          "hoverlabel": {
           "align": "left"
          },
          "hovermode": "closest",
          "mapbox": {
           "style": "light"
          },
          "paper_bgcolor": "white",
          "plot_bgcolor": "#E5ECF6",
          "polar": {
           "angularaxis": {
            "gridcolor": "white",
            "linecolor": "white",
            "ticks": ""
           },
           "bgcolor": "#E5ECF6",
           "radialaxis": {
            "gridcolor": "white",
            "linecolor": "white",
            "ticks": ""
           }
          },
          "scene": {
           "xaxis": {
            "backgroundcolor": "#E5ECF6",
            "gridcolor": "white",
            "gridwidth": 2,
            "linecolor": "white",
            "showbackground": true,
            "ticks": "",
            "zerolinecolor": "white"
           },
           "yaxis": {
            "backgroundcolor": "#E5ECF6",
            "gridcolor": "white",
            "gridwidth": 2,
            "linecolor": "white",
            "showbackground": true,
            "ticks": "",
            "zerolinecolor": "white"
           },
           "zaxis": {
            "backgroundcolor": "#E5ECF6",
            "gridcolor": "white",
            "gridwidth": 2,
            "linecolor": "white",
            "showbackground": true,
            "ticks": "",
            "zerolinecolor": "white"
           }
          },
          "shapedefaults": {
           "line": {
            "color": "#2a3f5f"
           }
          },
          "ternary": {
           "aaxis": {
            "gridcolor": "white",
            "linecolor": "white",
            "ticks": ""
           },
           "baxis": {
            "gridcolor": "white",
            "linecolor": "white",
            "ticks": ""
           },
           "bgcolor": "#E5ECF6",
           "caxis": {
            "gridcolor": "white",
            "linecolor": "white",
            "ticks": ""
           }
          },
          "title": {
           "x": 0.05
          },
          "xaxis": {
           "automargin": true,
           "gridcolor": "white",
           "linecolor": "white",
           "ticks": "",
           "title": {
            "standoff": 15
           },
           "zerolinecolor": "white",
           "zerolinewidth": 2
          },
          "yaxis": {
           "automargin": true,
           "gridcolor": "white",
           "linecolor": "white",
           "ticks": "",
           "title": {
            "standoff": 15
           },
           "zerolinecolor": "white",
           "zerolinewidth": 2
          }
         }
        },
        "title": {
         "font": {
          "color": "#7fafdf",
          "family": "Playfair Display",
          "size": 20
         },
         "text": "<b>Confirmed Cases Timeline<b>",
         "x": 0.5,
         "xanchor": "center",
         "y": 0.96,
         "yanchor": "top"
        },
        "xaxis": {
         "gridcolor": "#272e3e",
         "gridwidth": 0.1,
         "linecolor": "#272e3e",
         "showline": true,
         "tickformat": "%b %d",
         "zeroline": false
        },
        "yaxis": {
         "gridcolor": "#272e3e",
         "gridwidth": 0.1,
         "linecolor": "#272e3e",
         "showline": true,
         "tickmode": "array",
         "ticktext": [
          "0k",
          "1k",
          "2k",
          "3k",
          "4k",
          "5k",
          "6k",
          "7k",
          "8k",
          "9k",
          "10k",
          "11k",
          "12k"
         ],
         "tickvals": [
          0,
          1000,
          2000,
          3000,
          4000,
          5000,
          6000,
          7000,
          8000,
          9000,
          10000,
          11000,
          12000
         ],
         "title": {
          "text": "Total Confirmed Case Number"
         },
         "zeroline": false
        }
       }
      },
      "text/html": [
       "<div>\n",
       "        \n",
       "        \n",
       "            <div id=\"fa26b506-063f-4f99-97a6-9447dba5d6de\" class=\"plotly-graph-div\" style=\"height:525px; width:100%;\"></div>\n",
       "            <script type=\"text/javascript\">\n",
       "                require([\"plotly\"], function(Plotly) {\n",
       "                    window.PLOTLYENV=window.PLOTLYENV || {};\n",
       "                    \n",
       "                if (document.getElementById(\"fa26b506-063f-4f99-97a6-9447dba5d6de\")) {\n",
       "                    Plotly.newPlot(\n",
       "                        'fa26b506-063f-4f99-97a6-9447dba5d6de',\n",
       "                        [{\"hovertemplate\": \"<b>%{text}</b><br></br>Mainland China confirmed<br>%{y} cases<br><extra></extra>\", \"line\": {\"color\": \"#921113\", \"width\": 2}, \"marker\": {\"size\": 8}, \"mode\": \"lines+markers\", \"name\": \"Mainland China\", \"text\": [\"Feb 01 2020 10:00 AEDT\", \"Feb 01 2020 06:00 AEDT\", \"Jan 31 2020 13:30 AEDT\", \"Jan 31 2020 03:00 AEDT\", \"Jan 30 2020 13:00 AEDT\", \"Jan 30 2020 06:30 AEDT\", \"Jan 30 2020 05:30 AEDT\", \"Jan 29 2020 15:00 AEDT\", \"Jan 29 2020 10:00 AEDT\", \"Jan 29 2020 05:00 AEDT\", \"Jan 28 2020 12:30 AEDT\", \"Jan 28 2020 11:00 AEDT\", \"Jan 28 2020 01:00 AEDT\", \"Jan 27 2020 15:00 AEDT\", \"Jan 27 2020 03:00 AEDT\", \"Jan 26 2020 14:00 AEDT\", \"Jan 26 2020 04:00 AEDT\", \"Jan 25 2020 16:00 AEDT\", \"Jan 25 2020 04:00 AEDT\", \"Jan 24 2020 16:00 AEDT\", \"Jan 24 2020 04:00 AEDT\", \"Jan 23 2020 04:00 AEDT\", \"Jan 21 2020 16:00 AEDT\"], \"type\": \"scatter\", \"x\": [\"2020-01-31T18:00:00\", \"2020-01-31T14:00:00\", \"2020-01-30T21:30:00\", \"2020-01-30T11:00:00\", \"2020-01-29T21:00:00\", \"2020-01-29T14:30:00\", \"2020-01-29T13:30:00\", \"2020-01-28T23:00:00\", \"2020-01-28T18:00:00\", \"2020-01-28T13:00:00\", \"2020-01-27T20:30:00\", \"2020-01-27T19:00:00\", \"2020-01-27T09:00:00\", \"2020-01-26T23:00:00\", \"2020-01-26T11:00:00\", \"2020-01-25T22:00:00\", \"2020-01-25T12:00:00\", \"2020-01-25T00:00:00\", \"2020-01-24T12:00:00\", \"2020-01-24T00:00:00\", \"2020-01-23T12:00:00\", \"2020-01-22T12:00:00\", \"2020-01-21T00:00:00\"], \"y\": [11182, 9783, 9658, 8124, 7678, 6070, 6070, 5970, 5494, 4610, 4409, 2863, 2825, 2737, 2062, 1979, 1399, 1320, 916, 865, 639, 549, 327]}, {\"hovertemplate\": \"<b>%{text}</b><br></br>Other region confirmed<br>%{y} cases<br><extra></extra>\", \"line\": {\"color\": \"#eb5254\", \"width\": 2}, \"marker\": {\"size\": 8}, \"mode\": \"lines+markers\", \"name\": \"Other Region\", \"text\": [\"Feb 01 2020 10:00 AEDT\", \"Feb 01 2020 06:00 AEDT\", \"Jan 31 2020 13:30 AEDT\", \"Jan 31 2020 03:00 AEDT\", \"Jan 30 2020 13:00 AEDT\", \"Jan 30 2020 06:30 AEDT\", \"Jan 30 2020 05:30 AEDT\", \"Jan 29 2020 15:00 AEDT\", \"Jan 29 2020 10:00 AEDT\", \"Jan 29 2020 05:00 AEDT\", \"Jan 28 2020 12:30 AEDT\", \"Jan 28 2020 11:00 AEDT\", \"Jan 28 2020 01:00 AEDT\", \"Jan 27 2020 15:00 AEDT\", \"Jan 27 2020 03:00 AEDT\", \"Jan 26 2020 14:00 AEDT\", \"Jan 26 2020 04:00 AEDT\", \"Jan 25 2020 16:00 AEDT\", \"Jan 25 2020 04:00 AEDT\", \"Jan 24 2020 16:00 AEDT\", \"Jan 24 2020 04:00 AEDT\", \"Jan 23 2020 04:00 AEDT\", \"Jan 21 2020 16:00 AEDT\"], \"type\": \"scatter\", \"x\": [\"2020-01-31T18:00:00\", \"2020-01-31T14:00:00\", \"2020-01-30T21:30:00\", \"2020-01-30T11:00:00\", \"2020-01-29T21:00:00\", \"2020-01-29T14:30:00\", \"2020-01-29T13:30:00\", \"2020-01-28T23:00:00\", \"2020-01-28T18:00:00\", \"2020-01-28T13:00:00\", \"2020-01-27T20:30:00\", \"2020-01-27T19:00:00\", \"2020-01-27T09:00:00\", \"2020-01-26T23:00:00\", \"2020-01-26T11:00:00\", \"2020-01-25T22:00:00\", \"2020-01-25T12:00:00\", \"2020-01-25T00:00:00\", \"2020-01-24T12:00:00\", \"2020-01-24T00:00:00\", \"2020-01-23T12:00:00\", \"2020-01-22T12:00:00\", \"2020-01-21T00:00:00\"], \"y\": [146, 142, 118, 111, 105, 95, 94, 87, 84, 80, 64, 64, 61, 57, 54, 40, 39, 34, 25, 16, 26, 6, 5]}],\n",
       "                        {\"font\": {\"color\": \"#7fafdf\"}, \"hovermode\": \"x\", \"legend\": {\"orientation\": \"h\"}, \"margin\": {\"b\": 10, \"l\": 5, \"pad\": 0, \"r\": 10, \"t\": 50}, \"paper_bgcolor\": \"#272e3e\", \"plot_bgcolor\": \"#151920\", \"template\": {\"data\": {\"bar\": [{\"error_x\": {\"color\": \"#2a3f5f\"}, \"error_y\": {\"color\": \"#2a3f5f\"}, \"marker\": {\"line\": {\"color\": \"#E5ECF6\", \"width\": 0.5}}, \"type\": \"bar\"}], \"barpolar\": [{\"marker\": {\"line\": {\"color\": \"#E5ECF6\", \"width\": 0.5}}, \"type\": \"barpolar\"}], \"carpet\": [{\"aaxis\": {\"endlinecolor\": \"#2a3f5f\", \"gridcolor\": \"white\", \"linecolor\": \"white\", \"minorgridcolor\": \"white\", \"startlinecolor\": \"#2a3f5f\"}, \"baxis\": {\"endlinecolor\": \"#2a3f5f\", \"gridcolor\": \"white\", \"linecolor\": \"white\", \"minorgridcolor\": \"white\", \"startlinecolor\": \"#2a3f5f\"}, \"type\": \"carpet\"}], \"choropleth\": [{\"colorbar\": {\"outlinewidth\": 0, \"ticks\": \"\"}, \"type\": \"choropleth\"}], \"contour\": [{\"colorbar\": {\"outlinewidth\": 0, \"ticks\": \"\"}, \"colorscale\": [[0.0, \"#0d0887\"], [0.1111111111111111, \"#46039f\"], [0.2222222222222222, \"#7201a8\"], [0.3333333333333333, \"#9c179e\"], [0.4444444444444444, \"#bd3786\"], [0.5555555555555556, \"#d8576b\"], [0.6666666666666666, \"#ed7953\"], [0.7777777777777778, \"#fb9f3a\"], [0.8888888888888888, \"#fdca26\"], [1.0, \"#f0f921\"]], \"type\": \"contour\"}], \"contourcarpet\": [{\"colorbar\": {\"outlinewidth\": 0, \"ticks\": \"\"}, \"type\": \"contourcarpet\"}], \"heatmap\": [{\"colorbar\": {\"outlinewidth\": 0, \"ticks\": \"\"}, \"colorscale\": [[0.0, \"#0d0887\"], [0.1111111111111111, \"#46039f\"], [0.2222222222222222, \"#7201a8\"], [0.3333333333333333, \"#9c179e\"], [0.4444444444444444, \"#bd3786\"], [0.5555555555555556, \"#d8576b\"], [0.6666666666666666, \"#ed7953\"], [0.7777777777777778, \"#fb9f3a\"], [0.8888888888888888, \"#fdca26\"], [1.0, \"#f0f921\"]], \"type\": \"heatmap\"}], \"heatmapgl\": [{\"colorbar\": {\"outlinewidth\": 0, \"ticks\": \"\"}, \"colorscale\": [[0.0, \"#0d0887\"], [0.1111111111111111, \"#46039f\"], [0.2222222222222222, \"#7201a8\"], [0.3333333333333333, \"#9c179e\"], [0.4444444444444444, \"#bd3786\"], [0.5555555555555556, \"#d8576b\"], [0.6666666666666666, \"#ed7953\"], [0.7777777777777778, \"#fb9f3a\"], [0.8888888888888888, \"#fdca26\"], [1.0, \"#f0f921\"]], \"type\": \"heatmapgl\"}], \"histogram\": [{\"marker\": {\"colorbar\": {\"outlinewidth\": 0, \"ticks\": \"\"}}, \"type\": \"histogram\"}], \"histogram2d\": [{\"colorbar\": {\"outlinewidth\": 0, \"ticks\": \"\"}, \"colorscale\": [[0.0, \"#0d0887\"], [0.1111111111111111, \"#46039f\"], [0.2222222222222222, \"#7201a8\"], [0.3333333333333333, \"#9c179e\"], [0.4444444444444444, \"#bd3786\"], [0.5555555555555556, \"#d8576b\"], [0.6666666666666666, \"#ed7953\"], [0.7777777777777778, \"#fb9f3a\"], [0.8888888888888888, \"#fdca26\"], [1.0, \"#f0f921\"]], \"type\": \"histogram2d\"}], \"histogram2dcontour\": [{\"colorbar\": {\"outlinewidth\": 0, \"ticks\": \"\"}, \"colorscale\": [[0.0, \"#0d0887\"], [0.1111111111111111, \"#46039f\"], [0.2222222222222222, \"#7201a8\"], [0.3333333333333333, \"#9c179e\"], [0.4444444444444444, \"#bd3786\"], [0.5555555555555556, \"#d8576b\"], [0.6666666666666666, \"#ed7953\"], [0.7777777777777778, \"#fb9f3a\"], [0.8888888888888888, \"#fdca26\"], [1.0, \"#f0f921\"]], \"type\": \"histogram2dcontour\"}], \"mesh3d\": [{\"colorbar\": {\"outlinewidth\": 0, \"ticks\": \"\"}, \"type\": \"mesh3d\"}], \"parcoords\": [{\"line\": {\"colorbar\": {\"outlinewidth\": 0, \"ticks\": \"\"}}, \"type\": \"parcoords\"}], \"pie\": [{\"automargin\": true, \"type\": \"pie\"}], \"scatter\": [{\"marker\": {\"colorbar\": {\"outlinewidth\": 0, \"ticks\": \"\"}}, \"type\": \"scatter\"}], \"scatter3d\": [{\"line\": {\"colorbar\": {\"outlinewidth\": 0, \"ticks\": \"\"}}, \"marker\": {\"colorbar\": {\"outlinewidth\": 0, \"ticks\": \"\"}}, \"type\": \"scatter3d\"}], \"scattercarpet\": [{\"marker\": {\"colorbar\": {\"outlinewidth\": 0, \"ticks\": \"\"}}, \"type\": \"scattercarpet\"}], \"scattergeo\": [{\"marker\": {\"colorbar\": {\"outlinewidth\": 0, \"ticks\": \"\"}}, \"type\": \"scattergeo\"}], \"scattergl\": [{\"marker\": {\"colorbar\": {\"outlinewidth\": 0, \"ticks\": \"\"}}, \"type\": \"scattergl\"}], \"scattermapbox\": [{\"marker\": {\"colorbar\": {\"outlinewidth\": 0, \"ticks\": \"\"}}, \"type\": \"scattermapbox\"}], \"scatterpolar\": [{\"marker\": {\"colorbar\": {\"outlinewidth\": 0, \"ticks\": \"\"}}, \"type\": \"scatterpolar\"}], \"scatterpolargl\": [{\"marker\": {\"colorbar\": {\"outlinewidth\": 0, \"ticks\": \"\"}}, \"type\": \"scatterpolargl\"}], \"scatterternary\": [{\"marker\": {\"colorbar\": {\"outlinewidth\": 0, \"ticks\": \"\"}}, \"type\": \"scatterternary\"}], \"surface\": [{\"colorbar\": {\"outlinewidth\": 0, \"ticks\": \"\"}, \"colorscale\": [[0.0, \"#0d0887\"], [0.1111111111111111, \"#46039f\"], [0.2222222222222222, \"#7201a8\"], [0.3333333333333333, \"#9c179e\"], [0.4444444444444444, \"#bd3786\"], [0.5555555555555556, \"#d8576b\"], [0.6666666666666666, \"#ed7953\"], [0.7777777777777778, \"#fb9f3a\"], [0.8888888888888888, \"#fdca26\"], [1.0, \"#f0f921\"]], \"type\": \"surface\"}], \"table\": [{\"cells\": {\"fill\": {\"color\": \"#EBF0F8\"}, \"line\": {\"color\": \"white\"}}, \"header\": {\"fill\": {\"color\": \"#C8D4E3\"}, \"line\": {\"color\": \"white\"}}, \"type\": \"table\"}]}, \"layout\": {\"annotationdefaults\": {\"arrowcolor\": \"#2a3f5f\", \"arrowhead\": 0, \"arrowwidth\": 1}, \"coloraxis\": {\"colorbar\": {\"outlinewidth\": 0, \"ticks\": \"\"}}, \"colorscale\": {\"diverging\": [[0, \"#8e0152\"], [0.1, \"#c51b7d\"], [0.2, \"#de77ae\"], [0.3, \"#f1b6da\"], [0.4, \"#fde0ef\"], [0.5, \"#f7f7f7\"], [0.6, \"#e6f5d0\"], [0.7, \"#b8e186\"], [0.8, \"#7fbc41\"], [0.9, \"#4d9221\"], [1, \"#276419\"]], \"sequential\": [[0.0, \"#0d0887\"], [0.1111111111111111, \"#46039f\"], [0.2222222222222222, \"#7201a8\"], [0.3333333333333333, \"#9c179e\"], [0.4444444444444444, \"#bd3786\"], [0.5555555555555556, \"#d8576b\"], [0.6666666666666666, \"#ed7953\"], [0.7777777777777778, \"#fb9f3a\"], [0.8888888888888888, \"#fdca26\"], [1.0, \"#f0f921\"]], \"sequentialminus\": [[0.0, \"#0d0887\"], [0.1111111111111111, \"#46039f\"], [0.2222222222222222, \"#7201a8\"], [0.3333333333333333, \"#9c179e\"], [0.4444444444444444, \"#bd3786\"], [0.5555555555555556, \"#d8576b\"], [0.6666666666666666, \"#ed7953\"], [0.7777777777777778, \"#fb9f3a\"], [0.8888888888888888, \"#fdca26\"], [1.0, \"#f0f921\"]]}, \"colorway\": [\"#636efa\", \"#EF553B\", \"#00cc96\", \"#ab63fa\", \"#FFA15A\", \"#19d3f3\", \"#FF6692\", \"#B6E880\", \"#FF97FF\", \"#FECB52\"], \"font\": {\"color\": \"#2a3f5f\"}, \"geo\": {\"bgcolor\": \"white\", \"lakecolor\": \"white\", \"landcolor\": \"#E5ECF6\", \"showlakes\": true, \"showland\": true, \"subunitcolor\": \"white\"}, \"hoverlabel\": {\"align\": \"left\"}, \"hovermode\": \"closest\", \"mapbox\": {\"style\": \"light\"}, \"paper_bgcolor\": \"white\", \"plot_bgcolor\": \"#E5ECF6\", \"polar\": {\"angularaxis\": {\"gridcolor\": \"white\", \"linecolor\": \"white\", \"ticks\": \"\"}, \"bgcolor\": \"#E5ECF6\", \"radialaxis\": {\"gridcolor\": \"white\", \"linecolor\": \"white\", \"ticks\": \"\"}}, \"scene\": {\"xaxis\": {\"backgroundcolor\": \"#E5ECF6\", \"gridcolor\": \"white\", \"gridwidth\": 2, \"linecolor\": \"white\", \"showbackground\": true, \"ticks\": \"\", \"zerolinecolor\": \"white\"}, \"yaxis\": {\"backgroundcolor\": \"#E5ECF6\", \"gridcolor\": \"white\", \"gridwidth\": 2, \"linecolor\": \"white\", \"showbackground\": true, \"ticks\": \"\", \"zerolinecolor\": \"white\"}, \"zaxis\": {\"backgroundcolor\": \"#E5ECF6\", \"gridcolor\": \"white\", \"gridwidth\": 2, \"linecolor\": \"white\", \"showbackground\": true, \"ticks\": \"\", \"zerolinecolor\": \"white\"}}, \"shapedefaults\": {\"line\": {\"color\": \"#2a3f5f\"}}, \"ternary\": {\"aaxis\": {\"gridcolor\": \"white\", \"linecolor\": \"white\", \"ticks\": \"\"}, \"baxis\": {\"gridcolor\": \"white\", \"linecolor\": \"white\", \"ticks\": \"\"}, \"bgcolor\": \"#E5ECF6\", \"caxis\": {\"gridcolor\": \"white\", \"linecolor\": \"white\", \"ticks\": \"\"}}, \"title\": {\"x\": 0.05}, \"xaxis\": {\"automargin\": true, \"gridcolor\": \"white\", \"linecolor\": \"white\", \"ticks\": \"\", \"title\": {\"standoff\": 15}, \"zerolinecolor\": \"white\", \"zerolinewidth\": 2}, \"yaxis\": {\"automargin\": true, \"gridcolor\": \"white\", \"linecolor\": \"white\", \"ticks\": \"\", \"title\": {\"standoff\": 15}, \"zerolinecolor\": \"white\", \"zerolinewidth\": 2}}}, \"title\": {\"font\": {\"color\": \"#7fafdf\", \"family\": \"Playfair Display\", \"size\": 20}, \"text\": \"<b>Confirmed Cases Timeline<b>\", \"x\": 0.5, \"xanchor\": \"center\", \"y\": 0.96, \"yanchor\": \"top\"}, \"xaxis\": {\"gridcolor\": \"#272e3e\", \"gridwidth\": 0.1, \"linecolor\": \"#272e3e\", \"showline\": true, \"tickformat\": \"%b %d\", \"zeroline\": false}, \"yaxis\": {\"gridcolor\": \"#272e3e\", \"gridwidth\": 0.1, \"linecolor\": \"#272e3e\", \"showline\": true, \"tickmode\": \"array\", \"ticktext\": [\"0k\", \"1k\", \"2k\", \"3k\", \"4k\", \"5k\", \"6k\", \"7k\", \"8k\", \"9k\", \"10k\", \"11k\", \"12k\"], \"tickvals\": [0, 1000, 2000, 3000, 4000, 5000, 6000, 7000, 8000, 9000, 10000, 11000, 12000], \"title\": {\"text\": \"Total Confirmed Case Number\"}, \"zeroline\": false}},\n",
       "                        {\"responsive\": true}\n",
       "                    ).then(function(){\n",
       "                            \n",
       "var gd = document.getElementById('fa26b506-063f-4f99-97a6-9447dba5d6de');\n",
       "var x = new MutationObserver(function (mutations, observer) {{\n",
       "        var display = window.getComputedStyle(gd).display;\n",
       "        if (!display || display === 'none') {{\n",
       "            console.log([gd, 'removed!']);\n",
       "            Plotly.purge(gd);\n",
       "            observer.disconnect();\n",
       "        }}\n",
       "}});\n",
       "\n",
       "// Listen for the removal of the full notebook cells\n",
       "var notebookContainer = gd.closest('#notebook-container');\n",
       "if (notebookContainer) {{\n",
       "    x.observe(notebookContainer, {childList: true});\n",
       "}}\n",
       "\n",
       "// Listen for the clearing of the current output cell\n",
       "var outputEl = gd.closest('.output');\n",
       "if (outputEl) {{\n",
       "    x.observe(outputEl, {childList: true});\n",
       "}}\n",
       "\n",
       "                        })\n",
       "                };\n",
       "                });\n",
       "            </script>\n",
       "        </div>"
      ]
     },
     "metadata": {},
     "output_type": "display_data"
    }
   ],
   "source": [
    "# Line plot for confirmed cases\n",
    "# Set up tick scale based on confirmed case number\n",
    "tickList = list(np.arange(0, df_confirmed['Mainland China'].max()+1000, 1000))\n",
    "\n",
    "# Create empty figure canvas\n",
    "fig_confirmed = go.Figure()\n",
    "# Add trace to the figure\n",
    "fig_confirmed.add_trace(go.Scatter(x=df_confirmed['Date'], y=df_confirmed['Mainland China'],\n",
    "                         mode='lines+markers',\n",
    "                         name='Mainland China',\n",
    "                         line=dict(color='#921113', width=2),\n",
    "                         marker=dict(size=8),\n",
    "                         text=[datetime.strftime(d+timedelta(hours=16), '%b %d %Y %H:%M AEDT') for d in df_confirmed['Date']],\n",
    "                         hovertemplate='<b>%{text}</b><br></br>'+\n",
    "                                       'Mainland China confirmed<br>'+\n",
    "                                       '%{y} cases<br>'+\n",
    "                                       '<extra></extra>'))\n",
    "fig_confirmed.add_trace(go.Scatter(x=df_confirmed['Date'], y=df_confirmed['Other locations'],\n",
    "                         mode='lines+markers',\n",
    "                         name='Other Region',\n",
    "                         line=dict(color='#eb5254', width=2),\n",
    "                         marker=dict(size=8),\n",
    "                         text=[datetime.strftime(d+timedelta(hours=16), '%b %d %Y %H:%M AEDT') for d in df_confirmed['Date']],\n",
    "                         hovertemplate='<b>%{text}</b><br></br>'+\n",
    "                                       'Other region confirmed<br>'+\n",
    "                                       '%{y} cases<br>'+\n",
    "                                       '<extra></extra>'))\n",
    "# Customise layout\n",
    "fig_confirmed.update_layout(\n",
    "    title=dict(\n",
    "        text=\"<b>Confirmed Cases Timeline<b>\",\n",
    "        y=0.96, x=0.5, xanchor='center', yanchor='top',\n",
    "        font=dict(size=20, color=\"#7fafdf\", family=\"Playfair Display\")\n",
    "    ),\n",
    "    margin=go.layout.Margin(\n",
    "        l=5,\n",
    "        r=10,\n",
    "        b=10,\n",
    "        t=50,\n",
    "        pad=0\n",
    "    ),\n",
    "    yaxis=dict(\n",
    "        showline=True, linecolor='#272e3e',\n",
    "        zeroline=False,\n",
    "        gridcolor='#272e3e',\n",
    "        gridwidth = .1,\n",
    "        tickmode='array',\n",
    "        # Set tick range based on the maximum number\n",
    "        tickvals=tickList,\n",
    "        # Set tick label accordingly\n",
    "        ticktext=['{:.0f}k'.format(i/1000) for i in tickList]\n",
    "    ),\n",
    "    yaxis_title=\"Total Confirmed Case Number\",\n",
    "    xaxis=dict(\n",
    "        showline=True, linecolor='#272e3e',\n",
    "        gridcolor='#272e3e',\n",
    "        gridwidth = .1,\n",
    "        zeroline=False\n",
    "    ),\n",
    "    xaxis_tickformat='%b %d',\n",
    "    hovermode = 'x',\n",
    "    legend_orientation=\"h\",\n",
    "    plot_bgcolor='#151920',\n",
    "    paper_bgcolor='#272e3e',\n",
    "    font=dict(color='#7fafdf')\n",
    ")\n",
    "\n",
    "fig_confirmed.show()"
   ]
  },
  {
   "cell_type": "code",
   "execution_count": 129,
   "metadata": {},
   "outputs": [
    {
     "data": {
      "application/vnd.plotly.v1+json": {
       "config": {
        "plotlyServerURL": "https://plot.ly"
       },
       "data": [
        {
         "hovertemplate": "<b>%{text}</b><br></br>Mainland China recovered<br>%{y} cases<br><extra></extra>",
         "line": {
          "color": "#0f5525",
          "width": 2
         },
         "marker": {
          "size": 8
         },
         "mode": "lines+markers",
         "name": "Mainland China",
         "text": [
          "Feb 01 2020 10:00 AEDT",
          "Feb 01 2020 06:00 AEDT",
          "Jan 31 2020 13:30 AEDT",
          "Jan 31 2020 03:00 AEDT",
          "Jan 30 2020 13:00 AEDT",
          "Jan 30 2020 06:30 AEDT",
          "Jan 30 2020 05:30 AEDT",
          "Jan 29 2020 15:00 AEDT",
          "Jan 29 2020 10:00 AEDT",
          "Jan 29 2020 05:00 AEDT",
          "Jan 28 2020 12:30 AEDT",
          "Jan 28 2020 11:00 AEDT",
          "Jan 28 2020 01:00 AEDT",
          "Jan 27 2020 15:00 AEDT",
          "Jan 27 2020 03:00 AEDT",
          "Jan 26 2020 14:00 AEDT",
          "Jan 26 2020 04:00 AEDT",
          "Jan 25 2020 16:00 AEDT",
          "Jan 25 2020 04:00 AEDT",
          "Jan 24 2020 16:00 AEDT",
          "Jan 24 2020 04:00 AEDT",
          "Jan 23 2020 04:00 AEDT",
          "Jan 21 2020 16:00 AEDT"
         ],
         "type": "scatter",
         "x": [
          "2020-01-31T18:00:00",
          "2020-01-31T14:00:00",
          "2020-01-30T21:30:00",
          "2020-01-30T11:00:00",
          "2020-01-29T21:00:00",
          "2020-01-29T14:30:00",
          "2020-01-29T13:30:00",
          "2020-01-28T23:00:00",
          "2020-01-28T18:00:00",
          "2020-01-28T13:00:00",
          "2020-01-27T20:30:00",
          "2020-01-27T19:00:00",
          "2020-01-27T09:00:00",
          "2020-01-26T23:00:00",
          "2020-01-26T11:00:00",
          "2020-01-25T22:00:00",
          "2020-01-25T12:00:00",
          "2020-01-25T00:00:00",
          "2020-01-24T12:00:00",
          "2020-01-24T00:00:00",
          "2020-01-23T12:00:00",
          "2020-01-22T12:00:00",
          "2020-01-21T00:00:00"
         ],
         "y": [
          228,
          214,
          179,
          135,
          127,
          120,
          106,
          104,
          101,
          73,
          60,
          58,
          56,
          51,
          49,
          49,
          39,
          38,
          36,
          34,
          30,
          0,
          0
         ]
        },
        {
         "hovertemplate": "<b>%{text}</b><br></br>Other region recovered<br>%{y} cases<br><extra></extra>",
         "line": {
          "color": "#25d75d",
          "width": 2
         },
         "marker": {
          "size": 8
         },
         "mode": "lines+markers",
         "name": "Other Region",
         "text": [
          "Feb 01 2020 10:00 AEDT",
          "Feb 01 2020 06:00 AEDT",
          "Jan 31 2020 13:30 AEDT",
          "Jan 31 2020 03:00 AEDT",
          "Jan 30 2020 13:00 AEDT",
          "Jan 30 2020 06:30 AEDT",
          "Jan 30 2020 05:30 AEDT",
          "Jan 29 2020 15:00 AEDT",
          "Jan 29 2020 10:00 AEDT",
          "Jan 29 2020 05:00 AEDT",
          "Jan 28 2020 12:30 AEDT",
          "Jan 28 2020 11:00 AEDT",
          "Jan 28 2020 01:00 AEDT",
          "Jan 27 2020 15:00 AEDT",
          "Jan 27 2020 03:00 AEDT",
          "Jan 26 2020 14:00 AEDT",
          "Jan 26 2020 04:00 AEDT",
          "Jan 25 2020 16:00 AEDT",
          "Jan 25 2020 04:00 AEDT",
          "Jan 24 2020 16:00 AEDT",
          "Jan 24 2020 04:00 AEDT",
          "Jan 23 2020 04:00 AEDT",
          "Jan 21 2020 16:00 AEDT"
         ],
         "type": "scatter",
         "x": [
          "2020-01-31T18:00:00",
          "2020-01-31T14:00:00",
          "2020-01-30T21:30:00",
          "2020-01-30T11:00:00",
          "2020-01-29T21:00:00",
          "2020-01-29T14:30:00",
          "2020-01-29T13:30:00",
          "2020-01-28T23:00:00",
          "2020-01-28T18:00:00",
          "2020-01-28T13:00:00",
          "2020-01-27T20:30:00",
          "2020-01-27T19:00:00",
          "2020-01-27T09:00:00",
          "2020-01-26T23:00:00",
          "2020-01-26T11:00:00",
          "2020-01-25T22:00:00",
          "2020-01-25T12:00:00",
          "2020-01-25T00:00:00",
          "2020-01-24T12:00:00",
          "2020-01-24T00:00:00",
          "2020-01-23T12:00:00",
          "2020-01-22T12:00:00",
          "2020-01-21T00:00:00"
         ],
         "y": [
          8,
          8,
          8,
          8,
          6,
          6,
          6,
          6,
          6,
          6,
          3,
          3,
          3,
          3,
          3,
          0,
          0,
          0,
          0,
          0,
          0,
          0,
          0
         ]
        }
       ],
       "layout": {
        "font": {
         "color": "#7fafdf"
        },
        "hovermode": "x",
        "legend": {
         "orientation": "h"
        },
        "margin": {
         "b": 10,
         "l": 5,
         "pad": 0,
         "r": 10,
         "t": 50
        },
        "paper_bgcolor": "#272e3e",
        "plot_bgcolor": "#151920",
        "template": {
         "data": {
          "bar": [
           {
            "error_x": {
             "color": "#2a3f5f"
            },
            "error_y": {
             "color": "#2a3f5f"
            },
            "marker": {
             "line": {
              "color": "#E5ECF6",
              "width": 0.5
             }
            },
            "type": "bar"
           }
          ],
          "barpolar": [
           {
            "marker": {
             "line": {
              "color": "#E5ECF6",
              "width": 0.5
             }
            },
            "type": "barpolar"
           }
          ],
          "carpet": [
           {
            "aaxis": {
             "endlinecolor": "#2a3f5f",
             "gridcolor": "white",
             "linecolor": "white",
             "minorgridcolor": "white",
             "startlinecolor": "#2a3f5f"
            },
            "baxis": {
             "endlinecolor": "#2a3f5f",
             "gridcolor": "white",
             "linecolor": "white",
             "minorgridcolor": "white",
             "startlinecolor": "#2a3f5f"
            },
            "type": "carpet"
           }
          ],
          "choropleth": [
           {
            "colorbar": {
             "outlinewidth": 0,
             "ticks": ""
            },
            "type": "choropleth"
           }
          ],
          "contour": [
           {
            "colorbar": {
             "outlinewidth": 0,
             "ticks": ""
            },
            "colorscale": [
             [
              0,
              "#0d0887"
             ],
             [
              0.1111111111111111,
              "#46039f"
             ],
             [
              0.2222222222222222,
              "#7201a8"
             ],
             [
              0.3333333333333333,
              "#9c179e"
             ],
             [
              0.4444444444444444,
              "#bd3786"
             ],
             [
              0.5555555555555556,
              "#d8576b"
             ],
             [
              0.6666666666666666,
              "#ed7953"
             ],
             [
              0.7777777777777778,
              "#fb9f3a"
             ],
             [
              0.8888888888888888,
              "#fdca26"
             ],
             [
              1,
              "#f0f921"
             ]
            ],
            "type": "contour"
           }
          ],
          "contourcarpet": [
           {
            "colorbar": {
             "outlinewidth": 0,
             "ticks": ""
            },
            "type": "contourcarpet"
           }
          ],
          "heatmap": [
           {
            "colorbar": {
             "outlinewidth": 0,
             "ticks": ""
            },
            "colorscale": [
             [
              0,
              "#0d0887"
             ],
             [
              0.1111111111111111,
              "#46039f"
             ],
             [
              0.2222222222222222,
              "#7201a8"
             ],
             [
              0.3333333333333333,
              "#9c179e"
             ],
             [
              0.4444444444444444,
              "#bd3786"
             ],
             [
              0.5555555555555556,
              "#d8576b"
             ],
             [
              0.6666666666666666,
              "#ed7953"
             ],
             [
              0.7777777777777778,
              "#fb9f3a"
             ],
             [
              0.8888888888888888,
              "#fdca26"
             ],
             [
              1,
              "#f0f921"
             ]
            ],
            "type": "heatmap"
           }
          ],
          "heatmapgl": [
           {
            "colorbar": {
             "outlinewidth": 0,
             "ticks": ""
            },
            "colorscale": [
             [
              0,
              "#0d0887"
             ],
             [
              0.1111111111111111,
              "#46039f"
             ],
             [
              0.2222222222222222,
              "#7201a8"
             ],
             [
              0.3333333333333333,
              "#9c179e"
             ],
             [
              0.4444444444444444,
              "#bd3786"
             ],
             [
              0.5555555555555556,
              "#d8576b"
             ],
             [
              0.6666666666666666,
              "#ed7953"
             ],
             [
              0.7777777777777778,
              "#fb9f3a"
             ],
             [
              0.8888888888888888,
              "#fdca26"
             ],
             [
              1,
              "#f0f921"
             ]
            ],
            "type": "heatmapgl"
           }
          ],
          "histogram": [
           {
            "marker": {
             "colorbar": {
              "outlinewidth": 0,
              "ticks": ""
             }
            },
            "type": "histogram"
           }
          ],
          "histogram2d": [
           {
            "colorbar": {
             "outlinewidth": 0,
             "ticks": ""
            },
            "colorscale": [
             [
              0,
              "#0d0887"
             ],
             [
              0.1111111111111111,
              "#46039f"
             ],
             [
              0.2222222222222222,
              "#7201a8"
             ],
             [
              0.3333333333333333,
              "#9c179e"
             ],
             [
              0.4444444444444444,
              "#bd3786"
             ],
             [
              0.5555555555555556,
              "#d8576b"
             ],
             [
              0.6666666666666666,
              "#ed7953"
             ],
             [
              0.7777777777777778,
              "#fb9f3a"
             ],
             [
              0.8888888888888888,
              "#fdca26"
             ],
             [
              1,
              "#f0f921"
             ]
            ],
            "type": "histogram2d"
           }
          ],
          "histogram2dcontour": [
           {
            "colorbar": {
             "outlinewidth": 0,
             "ticks": ""
            },
            "colorscale": [
             [
              0,
              "#0d0887"
             ],
             [
              0.1111111111111111,
              "#46039f"
             ],
             [
              0.2222222222222222,
              "#7201a8"
             ],
             [
              0.3333333333333333,
              "#9c179e"
             ],
             [
              0.4444444444444444,
              "#bd3786"
             ],
             [
              0.5555555555555556,
              "#d8576b"
             ],
             [
              0.6666666666666666,
              "#ed7953"
             ],
             [
              0.7777777777777778,
              "#fb9f3a"
             ],
             [
              0.8888888888888888,
              "#fdca26"
             ],
             [
              1,
              "#f0f921"
             ]
            ],
            "type": "histogram2dcontour"
           }
          ],
          "mesh3d": [
           {
            "colorbar": {
             "outlinewidth": 0,
             "ticks": ""
            },
            "type": "mesh3d"
           }
          ],
          "parcoords": [
           {
            "line": {
             "colorbar": {
              "outlinewidth": 0,
              "ticks": ""
             }
            },
            "type": "parcoords"
           }
          ],
          "pie": [
           {
            "automargin": true,
            "type": "pie"
           }
          ],
          "scatter": [
           {
            "marker": {
             "colorbar": {
              "outlinewidth": 0,
              "ticks": ""
             }
            },
            "type": "scatter"
           }
          ],
          "scatter3d": [
           {
            "line": {
             "colorbar": {
              "outlinewidth": 0,
              "ticks": ""
             }
            },
            "marker": {
             "colorbar": {
              "outlinewidth": 0,
              "ticks": ""
             }
            },
            "type": "scatter3d"
           }
          ],
          "scattercarpet": [
           {
            "marker": {
             "colorbar": {
              "outlinewidth": 0,
              "ticks": ""
             }
            },
            "type": "scattercarpet"
           }
          ],
          "scattergeo": [
           {
            "marker": {
             "colorbar": {
              "outlinewidth": 0,
              "ticks": ""
             }
            },
            "type": "scattergeo"
           }
          ],
          "scattergl": [
           {
            "marker": {
             "colorbar": {
              "outlinewidth": 0,
              "ticks": ""
             }
            },
            "type": "scattergl"
           }
          ],
          "scattermapbox": [
           {
            "marker": {
             "colorbar": {
              "outlinewidth": 0,
              "ticks": ""
             }
            },
            "type": "scattermapbox"
           }
          ],
          "scatterpolar": [
           {
            "marker": {
             "colorbar": {
              "outlinewidth": 0,
              "ticks": ""
             }
            },
            "type": "scatterpolar"
           }
          ],
          "scatterpolargl": [
           {
            "marker": {
             "colorbar": {
              "outlinewidth": 0,
              "ticks": ""
             }
            },
            "type": "scatterpolargl"
           }
          ],
          "scatterternary": [
           {
            "marker": {
             "colorbar": {
              "outlinewidth": 0,
              "ticks": ""
             }
            },
            "type": "scatterternary"
           }
          ],
          "surface": [
           {
            "colorbar": {
             "outlinewidth": 0,
             "ticks": ""
            },
            "colorscale": [
             [
              0,
              "#0d0887"
             ],
             [
              0.1111111111111111,
              "#46039f"
             ],
             [
              0.2222222222222222,
              "#7201a8"
             ],
             [
              0.3333333333333333,
              "#9c179e"
             ],
             [
              0.4444444444444444,
              "#bd3786"
             ],
             [
              0.5555555555555556,
              "#d8576b"
             ],
             [
              0.6666666666666666,
              "#ed7953"
             ],
             [
              0.7777777777777778,
              "#fb9f3a"
             ],
             [
              0.8888888888888888,
              "#fdca26"
             ],
             [
              1,
              "#f0f921"
             ]
            ],
            "type": "surface"
           }
          ],
          "table": [
           {
            "cells": {
             "fill": {
              "color": "#EBF0F8"
             },
             "line": {
              "color": "white"
             }
            },
            "header": {
             "fill": {
              "color": "#C8D4E3"
             },
             "line": {
              "color": "white"
             }
            },
            "type": "table"
           }
          ]
         },
         "layout": {
          "annotationdefaults": {
           "arrowcolor": "#2a3f5f",
           "arrowhead": 0,
           "arrowwidth": 1
          },
          "coloraxis": {
           "colorbar": {
            "outlinewidth": 0,
            "ticks": ""
           }
          },
          "colorscale": {
           "diverging": [
            [
             0,
             "#8e0152"
            ],
            [
             0.1,
             "#c51b7d"
            ],
            [
             0.2,
             "#de77ae"
            ],
            [
             0.3,
             "#f1b6da"
            ],
            [
             0.4,
             "#fde0ef"
            ],
            [
             0.5,
             "#f7f7f7"
            ],
            [
             0.6,
             "#e6f5d0"
            ],
            [
             0.7,
             "#b8e186"
            ],
            [
             0.8,
             "#7fbc41"
            ],
            [
             0.9,
             "#4d9221"
            ],
            [
             1,
             "#276419"
            ]
           ],
           "sequential": [
            [
             0,
             "#0d0887"
            ],
            [
             0.1111111111111111,
             "#46039f"
            ],
            [
             0.2222222222222222,
             "#7201a8"
            ],
            [
             0.3333333333333333,
             "#9c179e"
            ],
            [
             0.4444444444444444,
             "#bd3786"
            ],
            [
             0.5555555555555556,
             "#d8576b"
            ],
            [
             0.6666666666666666,
             "#ed7953"
            ],
            [
             0.7777777777777778,
             "#fb9f3a"
            ],
            [
             0.8888888888888888,
             "#fdca26"
            ],
            [
             1,
             "#f0f921"
            ]
           ],
           "sequentialminus": [
            [
             0,
             "#0d0887"
            ],
            [
             0.1111111111111111,
             "#46039f"
            ],
            [
             0.2222222222222222,
             "#7201a8"
            ],
            [
             0.3333333333333333,
             "#9c179e"
            ],
            [
             0.4444444444444444,
             "#bd3786"
            ],
            [
             0.5555555555555556,
             "#d8576b"
            ],
            [
             0.6666666666666666,
             "#ed7953"
            ],
            [
             0.7777777777777778,
             "#fb9f3a"
            ],
            [
             0.8888888888888888,
             "#fdca26"
            ],
            [
             1,
             "#f0f921"
            ]
           ]
          },
          "colorway": [
           "#636efa",
           "#EF553B",
           "#00cc96",
           "#ab63fa",
           "#FFA15A",
           "#19d3f3",
           "#FF6692",
           "#B6E880",
           "#FF97FF",
           "#FECB52"
          ],
          "font": {
           "color": "#2a3f5f"
          },
          "geo": {
           "bgcolor": "white",
           "lakecolor": "white",
           "landcolor": "#E5ECF6",
           "showlakes": true,
           "showland": true,
           "subunitcolor": "white"
          },
          "hoverlabel": {
           "align": "left"
          },
          "hovermode": "closest",
          "mapbox": {
           "style": "light"
          },
          "paper_bgcolor": "white",
          "plot_bgcolor": "#E5ECF6",
          "polar": {
           "angularaxis": {
            "gridcolor": "white",
            "linecolor": "white",
            "ticks": ""
           },
           "bgcolor": "#E5ECF6",
           "radialaxis": {
            "gridcolor": "white",
            "linecolor": "white",
            "ticks": ""
           }
          },
          "scene": {
           "xaxis": {
            "backgroundcolor": "#E5ECF6",
            "gridcolor": "white",
            "gridwidth": 2,
            "linecolor": "white",
            "showbackground": true,
            "ticks": "",
            "zerolinecolor": "white"
           },
           "yaxis": {
            "backgroundcolor": "#E5ECF6",
            "gridcolor": "white",
            "gridwidth": 2,
            "linecolor": "white",
            "showbackground": true,
            "ticks": "",
            "zerolinecolor": "white"
           },
           "zaxis": {
            "backgroundcolor": "#E5ECF6",
            "gridcolor": "white",
            "gridwidth": 2,
            "linecolor": "white",
            "showbackground": true,
            "ticks": "",
            "zerolinecolor": "white"
           }
          },
          "shapedefaults": {
           "line": {
            "color": "#2a3f5f"
           }
          },
          "ternary": {
           "aaxis": {
            "gridcolor": "white",
            "linecolor": "white",
            "ticks": ""
           },
           "baxis": {
            "gridcolor": "white",
            "linecolor": "white",
            "ticks": ""
           },
           "bgcolor": "#E5ECF6",
           "caxis": {
            "gridcolor": "white",
            "linecolor": "white",
            "ticks": ""
           }
          },
          "title": {
           "x": 0.05
          },
          "xaxis": {
           "automargin": true,
           "gridcolor": "white",
           "linecolor": "white",
           "ticks": "",
           "title": {
            "standoff": 15
           },
           "zerolinecolor": "white",
           "zerolinewidth": 2
          },
          "yaxis": {
           "automargin": true,
           "gridcolor": "white",
           "linecolor": "white",
           "ticks": "",
           "title": {
            "standoff": 15
           },
           "zerolinecolor": "white",
           "zerolinewidth": 2
          }
         }
        },
        "title": {
         "font": {
          "color": "#7fafdf",
          "family": "Playfair Display",
          "size": 20
         },
         "text": "<b>Recovered Cases Timeline<b>",
         "x": 0.5,
         "xanchor": "center",
         "y": 0.96,
         "yanchor": "top"
        },
        "xaxis": {
         "gridcolor": "#272e3e",
         "gridwidth": 0.1,
         "linecolor": "#272e3e",
         "showline": true,
         "tickformat": "%b %d",
         "zeroline": false
        },
        "yaxis": {
         "gridcolor": "#272e3e",
         "gridwidth": 0.1,
         "linecolor": "#272e3e",
         "showline": true,
         "tickmode": "array",
         "ticktext": [
          "0",
          "20",
          "40",
          "60",
          "80",
          "100",
          "120",
          "140",
          "160",
          "180",
          "200",
          "220",
          "240",
          "260",
          "280",
          "300",
          "320"
         ],
         "tickvals": [
          0,
          20,
          40,
          60,
          80,
          100,
          120,
          140,
          160,
          180,
          200,
          220,
          240,
          260,
          280,
          300,
          320
         ],
         "title": {
          "text": "Total Recovered Case Number"
         },
         "zeroline": false
        }
       }
      },
      "text/html": [
       "<div>\n",
       "        \n",
       "        \n",
       "            <div id=\"a8269a91-6a41-4cd7-8bf5-e824c60111c0\" class=\"plotly-graph-div\" style=\"height:525px; width:100%;\"></div>\n",
       "            <script type=\"text/javascript\">\n",
       "                require([\"plotly\"], function(Plotly) {\n",
       "                    window.PLOTLYENV=window.PLOTLYENV || {};\n",
       "                    \n",
       "                if (document.getElementById(\"a8269a91-6a41-4cd7-8bf5-e824c60111c0\")) {\n",
       "                    Plotly.newPlot(\n",
       "                        'a8269a91-6a41-4cd7-8bf5-e824c60111c0',\n",
       "                        [{\"hovertemplate\": \"<b>%{text}</b><br></br>Mainland China recovered<br>%{y} cases<br><extra></extra>\", \"line\": {\"color\": \"#0f5525\", \"width\": 2}, \"marker\": {\"size\": 8}, \"mode\": \"lines+markers\", \"name\": \"Mainland China\", \"text\": [\"Feb 01 2020 10:00 AEDT\", \"Feb 01 2020 06:00 AEDT\", \"Jan 31 2020 13:30 AEDT\", \"Jan 31 2020 03:00 AEDT\", \"Jan 30 2020 13:00 AEDT\", \"Jan 30 2020 06:30 AEDT\", \"Jan 30 2020 05:30 AEDT\", \"Jan 29 2020 15:00 AEDT\", \"Jan 29 2020 10:00 AEDT\", \"Jan 29 2020 05:00 AEDT\", \"Jan 28 2020 12:30 AEDT\", \"Jan 28 2020 11:00 AEDT\", \"Jan 28 2020 01:00 AEDT\", \"Jan 27 2020 15:00 AEDT\", \"Jan 27 2020 03:00 AEDT\", \"Jan 26 2020 14:00 AEDT\", \"Jan 26 2020 04:00 AEDT\", \"Jan 25 2020 16:00 AEDT\", \"Jan 25 2020 04:00 AEDT\", \"Jan 24 2020 16:00 AEDT\", \"Jan 24 2020 04:00 AEDT\", \"Jan 23 2020 04:00 AEDT\", \"Jan 21 2020 16:00 AEDT\"], \"type\": \"scatter\", \"x\": [\"2020-01-31T18:00:00\", \"2020-01-31T14:00:00\", \"2020-01-30T21:30:00\", \"2020-01-30T11:00:00\", \"2020-01-29T21:00:00\", \"2020-01-29T14:30:00\", \"2020-01-29T13:30:00\", \"2020-01-28T23:00:00\", \"2020-01-28T18:00:00\", \"2020-01-28T13:00:00\", \"2020-01-27T20:30:00\", \"2020-01-27T19:00:00\", \"2020-01-27T09:00:00\", \"2020-01-26T23:00:00\", \"2020-01-26T11:00:00\", \"2020-01-25T22:00:00\", \"2020-01-25T12:00:00\", \"2020-01-25T00:00:00\", \"2020-01-24T12:00:00\", \"2020-01-24T00:00:00\", \"2020-01-23T12:00:00\", \"2020-01-22T12:00:00\", \"2020-01-21T00:00:00\"], \"y\": [228, 214, 179, 135, 127, 120, 106, 104, 101, 73, 60, 58, 56, 51, 49, 49, 39, 38, 36, 34, 30, 0, 0]}, {\"hovertemplate\": \"<b>%{text}</b><br></br>Other region recovered<br>%{y} cases<br><extra></extra>\", \"line\": {\"color\": \"#25d75d\", \"width\": 2}, \"marker\": {\"size\": 8}, \"mode\": \"lines+markers\", \"name\": \"Other Region\", \"text\": [\"Feb 01 2020 10:00 AEDT\", \"Feb 01 2020 06:00 AEDT\", \"Jan 31 2020 13:30 AEDT\", \"Jan 31 2020 03:00 AEDT\", \"Jan 30 2020 13:00 AEDT\", \"Jan 30 2020 06:30 AEDT\", \"Jan 30 2020 05:30 AEDT\", \"Jan 29 2020 15:00 AEDT\", \"Jan 29 2020 10:00 AEDT\", \"Jan 29 2020 05:00 AEDT\", \"Jan 28 2020 12:30 AEDT\", \"Jan 28 2020 11:00 AEDT\", \"Jan 28 2020 01:00 AEDT\", \"Jan 27 2020 15:00 AEDT\", \"Jan 27 2020 03:00 AEDT\", \"Jan 26 2020 14:00 AEDT\", \"Jan 26 2020 04:00 AEDT\", \"Jan 25 2020 16:00 AEDT\", \"Jan 25 2020 04:00 AEDT\", \"Jan 24 2020 16:00 AEDT\", \"Jan 24 2020 04:00 AEDT\", \"Jan 23 2020 04:00 AEDT\", \"Jan 21 2020 16:00 AEDT\"], \"type\": \"scatter\", \"x\": [\"2020-01-31T18:00:00\", \"2020-01-31T14:00:00\", \"2020-01-30T21:30:00\", \"2020-01-30T11:00:00\", \"2020-01-29T21:00:00\", \"2020-01-29T14:30:00\", \"2020-01-29T13:30:00\", \"2020-01-28T23:00:00\", \"2020-01-28T18:00:00\", \"2020-01-28T13:00:00\", \"2020-01-27T20:30:00\", \"2020-01-27T19:00:00\", \"2020-01-27T09:00:00\", \"2020-01-26T23:00:00\", \"2020-01-26T11:00:00\", \"2020-01-25T22:00:00\", \"2020-01-25T12:00:00\", \"2020-01-25T00:00:00\", \"2020-01-24T12:00:00\", \"2020-01-24T00:00:00\", \"2020-01-23T12:00:00\", \"2020-01-22T12:00:00\", \"2020-01-21T00:00:00\"], \"y\": [8, 8, 8, 8, 6, 6, 6, 6, 6, 6, 3, 3, 3, 3, 3, 0, 0, 0, 0, 0, 0, 0, 0]}],\n",
       "                        {\"font\": {\"color\": \"#7fafdf\"}, \"hovermode\": \"x\", \"legend\": {\"orientation\": \"h\"}, \"margin\": {\"b\": 10, \"l\": 5, \"pad\": 0, \"r\": 10, \"t\": 50}, \"paper_bgcolor\": \"#272e3e\", \"plot_bgcolor\": \"#151920\", \"template\": {\"data\": {\"bar\": [{\"error_x\": {\"color\": \"#2a3f5f\"}, \"error_y\": {\"color\": \"#2a3f5f\"}, \"marker\": {\"line\": {\"color\": \"#E5ECF6\", \"width\": 0.5}}, \"type\": \"bar\"}], \"barpolar\": [{\"marker\": {\"line\": {\"color\": \"#E5ECF6\", \"width\": 0.5}}, \"type\": \"barpolar\"}], \"carpet\": [{\"aaxis\": {\"endlinecolor\": \"#2a3f5f\", \"gridcolor\": \"white\", \"linecolor\": \"white\", \"minorgridcolor\": \"white\", \"startlinecolor\": \"#2a3f5f\"}, \"baxis\": {\"endlinecolor\": \"#2a3f5f\", \"gridcolor\": \"white\", \"linecolor\": \"white\", \"minorgridcolor\": \"white\", \"startlinecolor\": \"#2a3f5f\"}, \"type\": \"carpet\"}], \"choropleth\": [{\"colorbar\": {\"outlinewidth\": 0, \"ticks\": \"\"}, \"type\": \"choropleth\"}], \"contour\": [{\"colorbar\": {\"outlinewidth\": 0, \"ticks\": \"\"}, \"colorscale\": [[0.0, \"#0d0887\"], [0.1111111111111111, \"#46039f\"], [0.2222222222222222, \"#7201a8\"], [0.3333333333333333, \"#9c179e\"], [0.4444444444444444, \"#bd3786\"], [0.5555555555555556, \"#d8576b\"], [0.6666666666666666, \"#ed7953\"], [0.7777777777777778, \"#fb9f3a\"], [0.8888888888888888, \"#fdca26\"], [1.0, \"#f0f921\"]], \"type\": \"contour\"}], \"contourcarpet\": [{\"colorbar\": {\"outlinewidth\": 0, \"ticks\": \"\"}, \"type\": \"contourcarpet\"}], \"heatmap\": [{\"colorbar\": {\"outlinewidth\": 0, \"ticks\": \"\"}, \"colorscale\": [[0.0, \"#0d0887\"], [0.1111111111111111, \"#46039f\"], [0.2222222222222222, \"#7201a8\"], [0.3333333333333333, \"#9c179e\"], [0.4444444444444444, \"#bd3786\"], [0.5555555555555556, \"#d8576b\"], [0.6666666666666666, \"#ed7953\"], [0.7777777777777778, \"#fb9f3a\"], [0.8888888888888888, \"#fdca26\"], [1.0, \"#f0f921\"]], \"type\": \"heatmap\"}], \"heatmapgl\": [{\"colorbar\": {\"outlinewidth\": 0, \"ticks\": \"\"}, \"colorscale\": [[0.0, \"#0d0887\"], [0.1111111111111111, \"#46039f\"], [0.2222222222222222, \"#7201a8\"], [0.3333333333333333, \"#9c179e\"], [0.4444444444444444, \"#bd3786\"], [0.5555555555555556, \"#d8576b\"], [0.6666666666666666, \"#ed7953\"], [0.7777777777777778, \"#fb9f3a\"], [0.8888888888888888, \"#fdca26\"], [1.0, \"#f0f921\"]], \"type\": \"heatmapgl\"}], \"histogram\": [{\"marker\": {\"colorbar\": {\"outlinewidth\": 0, \"ticks\": \"\"}}, \"type\": \"histogram\"}], \"histogram2d\": [{\"colorbar\": {\"outlinewidth\": 0, \"ticks\": \"\"}, \"colorscale\": [[0.0, \"#0d0887\"], [0.1111111111111111, \"#46039f\"], [0.2222222222222222, \"#7201a8\"], [0.3333333333333333, \"#9c179e\"], [0.4444444444444444, \"#bd3786\"], [0.5555555555555556, \"#d8576b\"], [0.6666666666666666, \"#ed7953\"], [0.7777777777777778, \"#fb9f3a\"], [0.8888888888888888, \"#fdca26\"], [1.0, \"#f0f921\"]], \"type\": \"histogram2d\"}], \"histogram2dcontour\": [{\"colorbar\": {\"outlinewidth\": 0, \"ticks\": \"\"}, \"colorscale\": [[0.0, \"#0d0887\"], [0.1111111111111111, \"#46039f\"], [0.2222222222222222, \"#7201a8\"], [0.3333333333333333, \"#9c179e\"], [0.4444444444444444, \"#bd3786\"], [0.5555555555555556, \"#d8576b\"], [0.6666666666666666, \"#ed7953\"], [0.7777777777777778, \"#fb9f3a\"], [0.8888888888888888, \"#fdca26\"], [1.0, \"#f0f921\"]], \"type\": \"histogram2dcontour\"}], \"mesh3d\": [{\"colorbar\": {\"outlinewidth\": 0, \"ticks\": \"\"}, \"type\": \"mesh3d\"}], \"parcoords\": [{\"line\": {\"colorbar\": {\"outlinewidth\": 0, \"ticks\": \"\"}}, \"type\": \"parcoords\"}], \"pie\": [{\"automargin\": true, \"type\": \"pie\"}], \"scatter\": [{\"marker\": {\"colorbar\": {\"outlinewidth\": 0, \"ticks\": \"\"}}, \"type\": \"scatter\"}], \"scatter3d\": [{\"line\": {\"colorbar\": {\"outlinewidth\": 0, \"ticks\": \"\"}}, \"marker\": {\"colorbar\": {\"outlinewidth\": 0, \"ticks\": \"\"}}, \"type\": \"scatter3d\"}], \"scattercarpet\": [{\"marker\": {\"colorbar\": {\"outlinewidth\": 0, \"ticks\": \"\"}}, \"type\": \"scattercarpet\"}], \"scattergeo\": [{\"marker\": {\"colorbar\": {\"outlinewidth\": 0, \"ticks\": \"\"}}, \"type\": \"scattergeo\"}], \"scattergl\": [{\"marker\": {\"colorbar\": {\"outlinewidth\": 0, \"ticks\": \"\"}}, \"type\": \"scattergl\"}], \"scattermapbox\": [{\"marker\": {\"colorbar\": {\"outlinewidth\": 0, \"ticks\": \"\"}}, \"type\": \"scattermapbox\"}], \"scatterpolar\": [{\"marker\": {\"colorbar\": {\"outlinewidth\": 0, \"ticks\": \"\"}}, \"type\": \"scatterpolar\"}], \"scatterpolargl\": [{\"marker\": {\"colorbar\": {\"outlinewidth\": 0, \"ticks\": \"\"}}, \"type\": \"scatterpolargl\"}], \"scatterternary\": [{\"marker\": {\"colorbar\": {\"outlinewidth\": 0, \"ticks\": \"\"}}, \"type\": \"scatterternary\"}], \"surface\": [{\"colorbar\": {\"outlinewidth\": 0, \"ticks\": \"\"}, \"colorscale\": [[0.0, \"#0d0887\"], [0.1111111111111111, \"#46039f\"], [0.2222222222222222, \"#7201a8\"], [0.3333333333333333, \"#9c179e\"], [0.4444444444444444, \"#bd3786\"], [0.5555555555555556, \"#d8576b\"], [0.6666666666666666, \"#ed7953\"], [0.7777777777777778, \"#fb9f3a\"], [0.8888888888888888, \"#fdca26\"], [1.0, \"#f0f921\"]], \"type\": \"surface\"}], \"table\": [{\"cells\": {\"fill\": {\"color\": \"#EBF0F8\"}, \"line\": {\"color\": \"white\"}}, \"header\": {\"fill\": {\"color\": \"#C8D4E3\"}, \"line\": {\"color\": \"white\"}}, \"type\": \"table\"}]}, \"layout\": {\"annotationdefaults\": {\"arrowcolor\": \"#2a3f5f\", \"arrowhead\": 0, \"arrowwidth\": 1}, \"coloraxis\": {\"colorbar\": {\"outlinewidth\": 0, \"ticks\": \"\"}}, \"colorscale\": {\"diverging\": [[0, \"#8e0152\"], [0.1, \"#c51b7d\"], [0.2, \"#de77ae\"], [0.3, \"#f1b6da\"], [0.4, \"#fde0ef\"], [0.5, \"#f7f7f7\"], [0.6, \"#e6f5d0\"], [0.7, \"#b8e186\"], [0.8, \"#7fbc41\"], [0.9, \"#4d9221\"], [1, \"#276419\"]], \"sequential\": [[0.0, \"#0d0887\"], [0.1111111111111111, \"#46039f\"], [0.2222222222222222, \"#7201a8\"], [0.3333333333333333, \"#9c179e\"], [0.4444444444444444, \"#bd3786\"], [0.5555555555555556, \"#d8576b\"], [0.6666666666666666, \"#ed7953\"], [0.7777777777777778, \"#fb9f3a\"], [0.8888888888888888, \"#fdca26\"], [1.0, \"#f0f921\"]], \"sequentialminus\": [[0.0, \"#0d0887\"], [0.1111111111111111, \"#46039f\"], [0.2222222222222222, \"#7201a8\"], [0.3333333333333333, \"#9c179e\"], [0.4444444444444444, \"#bd3786\"], [0.5555555555555556, \"#d8576b\"], [0.6666666666666666, \"#ed7953\"], [0.7777777777777778, \"#fb9f3a\"], [0.8888888888888888, \"#fdca26\"], [1.0, \"#f0f921\"]]}, \"colorway\": [\"#636efa\", \"#EF553B\", \"#00cc96\", \"#ab63fa\", \"#FFA15A\", \"#19d3f3\", \"#FF6692\", \"#B6E880\", \"#FF97FF\", \"#FECB52\"], \"font\": {\"color\": \"#2a3f5f\"}, \"geo\": {\"bgcolor\": \"white\", \"lakecolor\": \"white\", \"landcolor\": \"#E5ECF6\", \"showlakes\": true, \"showland\": true, \"subunitcolor\": \"white\"}, \"hoverlabel\": {\"align\": \"left\"}, \"hovermode\": \"closest\", \"mapbox\": {\"style\": \"light\"}, \"paper_bgcolor\": \"white\", \"plot_bgcolor\": \"#E5ECF6\", \"polar\": {\"angularaxis\": {\"gridcolor\": \"white\", \"linecolor\": \"white\", \"ticks\": \"\"}, \"bgcolor\": \"#E5ECF6\", \"radialaxis\": {\"gridcolor\": \"white\", \"linecolor\": \"white\", \"ticks\": \"\"}}, \"scene\": {\"xaxis\": {\"backgroundcolor\": \"#E5ECF6\", \"gridcolor\": \"white\", \"gridwidth\": 2, \"linecolor\": \"white\", \"showbackground\": true, \"ticks\": \"\", \"zerolinecolor\": \"white\"}, \"yaxis\": {\"backgroundcolor\": \"#E5ECF6\", \"gridcolor\": \"white\", \"gridwidth\": 2, \"linecolor\": \"white\", \"showbackground\": true, \"ticks\": \"\", \"zerolinecolor\": \"white\"}, \"zaxis\": {\"backgroundcolor\": \"#E5ECF6\", \"gridcolor\": \"white\", \"gridwidth\": 2, \"linecolor\": \"white\", \"showbackground\": true, \"ticks\": \"\", \"zerolinecolor\": \"white\"}}, \"shapedefaults\": {\"line\": {\"color\": \"#2a3f5f\"}}, \"ternary\": {\"aaxis\": {\"gridcolor\": \"white\", \"linecolor\": \"white\", \"ticks\": \"\"}, \"baxis\": {\"gridcolor\": \"white\", \"linecolor\": \"white\", \"ticks\": \"\"}, \"bgcolor\": \"#E5ECF6\", \"caxis\": {\"gridcolor\": \"white\", \"linecolor\": \"white\", \"ticks\": \"\"}}, \"title\": {\"x\": 0.05}, \"xaxis\": {\"automargin\": true, \"gridcolor\": \"white\", \"linecolor\": \"white\", \"ticks\": \"\", \"title\": {\"standoff\": 15}, \"zerolinecolor\": \"white\", \"zerolinewidth\": 2}, \"yaxis\": {\"automargin\": true, \"gridcolor\": \"white\", \"linecolor\": \"white\", \"ticks\": \"\", \"title\": {\"standoff\": 15}, \"zerolinecolor\": \"white\", \"zerolinewidth\": 2}}}, \"title\": {\"font\": {\"color\": \"#7fafdf\", \"family\": \"Playfair Display\", \"size\": 20}, \"text\": \"<b>Recovered Cases Timeline<b>\", \"x\": 0.5, \"xanchor\": \"center\", \"y\": 0.96, \"yanchor\": \"top\"}, \"xaxis\": {\"gridcolor\": \"#272e3e\", \"gridwidth\": 0.1, \"linecolor\": \"#272e3e\", \"showline\": true, \"tickformat\": \"%b %d\", \"zeroline\": false}, \"yaxis\": {\"gridcolor\": \"#272e3e\", \"gridwidth\": 0.1, \"linecolor\": \"#272e3e\", \"showline\": true, \"tickmode\": \"array\", \"ticktext\": [\"0\", \"20\", \"40\", \"60\", \"80\", \"100\", \"120\", \"140\", \"160\", \"180\", \"200\", \"220\", \"240\", \"260\", \"280\", \"300\", \"320\"], \"tickvals\": [0, 20, 40, 60, 80, 100, 120, 140, 160, 180, 200, 220, 240, 260, 280, 300, 320], \"title\": {\"text\": \"Total Recovered Case Number\"}, \"zeroline\": false}},\n",
       "                        {\"responsive\": true}\n",
       "                    ).then(function(){\n",
       "                            \n",
       "var gd = document.getElementById('a8269a91-6a41-4cd7-8bf5-e824c60111c0');\n",
       "var x = new MutationObserver(function (mutations, observer) {{\n",
       "        var display = window.getComputedStyle(gd).display;\n",
       "        if (!display || display === 'none') {{\n",
       "            console.log([gd, 'removed!']);\n",
       "            Plotly.purge(gd);\n",
       "            observer.disconnect();\n",
       "        }}\n",
       "}});\n",
       "\n",
       "// Listen for the removal of the full notebook cells\n",
       "var notebookContainer = gd.closest('#notebook-container');\n",
       "if (notebookContainer) {{\n",
       "    x.observe(notebookContainer, {childList: true});\n",
       "}}\n",
       "\n",
       "// Listen for the clearing of the current output cell\n",
       "var outputEl = gd.closest('.output');\n",
       "if (outputEl) {{\n",
       "    x.observe(outputEl, {childList: true});\n",
       "}}\n",
       "\n",
       "                        })\n",
       "                };\n",
       "                });\n",
       "            </script>\n",
       "        </div>"
      ]
     },
     "metadata": {},
     "output_type": "display_data"
    }
   ],
   "source": [
    "# Line plot for recovered cases\n",
    "# Set up tick scale based on confirmed case number\n",
    "tickList = list(np.arange(0, df_recovered['Mainland China'].max()+100, 20))\n",
    "\n",
    "# Create empty figure canvas\n",
    "fig_recovered = go.Figure()\n",
    "# Add trace to the figure\n",
    "fig_recovered.add_trace(go.Scatter(x=df_recovered['Date'], y=df_recovered['Mainland China'],\n",
    "                         mode='lines+markers',\n",
    "                         name='Mainland China',\n",
    "                         line=dict(color='#0f5525', width=2),\n",
    "                         marker=dict(size=8),\n",
    "                         text=[datetime.strftime(d+timedelta(hours=16), '%b %d %Y %H:%M AEDT') for d in df_recovered['Date']],\n",
    "                         hovertemplate='<b>%{text}</b><br></br>'+\n",
    "                                       'Mainland China recovered<br>'+\n",
    "                                       '%{y} cases<br>'+\n",
    "                                       '<extra></extra>'))\n",
    "fig_recovered.add_trace(go.Scatter(x=df_recovered['Date'], y=df_recovered['Other locations'],\n",
    "                         mode='lines+markers',\n",
    "                         name='Other Region',\n",
    "                         line=dict(color='#25d75d', width=2),\n",
    "                         marker=dict(size=8),\n",
    "                         text=[datetime.strftime(d+timedelta(hours=16), '%b %d %Y %H:%M AEDT') for d in df_recovered['Date']],\n",
    "                         hovertemplate='<b>%{text}</b><br></br>'+\n",
    "                                       'Other region recovered<br>'+\n",
    "                                       '%{y} cases<br>'+\n",
    "                                       '<extra></extra>'))\n",
    "# Customise layout\n",
    "fig_recovered.update_layout(\n",
    "    title=dict(\n",
    "        text=\"<b>Recovered Cases Timeline<b>\",\n",
    "        y=0.96, x=0.5, xanchor='center', yanchor='top',\n",
    "        font=dict(size=20, color=\"#7fafdf\", family=\"Playfair Display\")\n",
    "    ),\n",
    "    margin=go.layout.Margin(\n",
    "        l=5,\n",
    "        r=10,\n",
    "        b=10,\n",
    "        t=50,\n",
    "        pad=0\n",
    "    ),\n",
    "    yaxis=dict(\n",
    "        showline=True, linecolor='#272e3e',\n",
    "        zeroline=False,\n",
    "        gridcolor='#272e3e',\n",
    "        gridwidth = .1,\n",
    "        tickmode='array',\n",
    "        # Set tick range based on the maximum number\n",
    "        tickvals=tickList,\n",
    "        # Set tick label accordingly\n",
    "        ticktext=['{:.0f}'.format(i) for i in tickList]\n",
    "    ),\n",
    "    yaxis_title=\"Total Recovered Case Number\",\n",
    "    xaxis=dict(\n",
    "        showline=True, linecolor='#272e3e',\n",
    "        gridcolor='#272e3e',\n",
    "        gridwidth = .1,\n",
    "        zeroline=False\n",
    "    ),\n",
    "    xaxis_tickformat='%b %d',\n",
    "    hovermode = 'x',\n",
    "    legend_orientation=\"h\",\n",
    "    plot_bgcolor='#151920',\n",
    "    paper_bgcolor='#272e3e',\n",
    "    font=dict(color='#7fafdf')\n",
    ")\n",
    "\n",
    "fig_recovered.show()"
   ]
  },
  {
   "cell_type": "code",
   "execution_count": 131,
   "metadata": {},
   "outputs": [
    {
     "data": {
      "application/vnd.plotly.v1+json": {
       "config": {
        "plotlyServerURL": "https://plot.ly"
       },
       "data": [
        {
         "hovertemplate": "<b>%{text}</b><br></br>Mainland China death<br>%{y} cases<br><extra></extra>",
         "line": {
          "color": "#fc8715",
          "width": 2
         },
         "marker": {
          "size": 8
         },
         "mode": "lines+markers",
         "name": "Mainland China",
         "text": [
          "Feb 01 2020 10:00 AEDT",
          "Feb 01 2020 06:00 AEDT",
          "Jan 31 2020 13:30 AEDT",
          "Jan 31 2020 03:00 AEDT",
          "Jan 30 2020 13:00 AEDT",
          "Jan 30 2020 06:30 AEDT",
          "Jan 30 2020 05:30 AEDT",
          "Jan 29 2020 15:00 AEDT",
          "Jan 29 2020 10:00 AEDT",
          "Jan 29 2020 05:00 AEDT",
          "Jan 28 2020 12:30 AEDT",
          "Jan 28 2020 11:00 AEDT",
          "Jan 28 2020 01:00 AEDT",
          "Jan 27 2020 15:00 AEDT",
          "Jan 27 2020 03:00 AEDT",
          "Jan 26 2020 14:00 AEDT",
          "Jan 26 2020 04:00 AEDT",
          "Jan 25 2020 16:00 AEDT",
          "Jan 25 2020 04:00 AEDT",
          "Jan 24 2020 16:00 AEDT",
          "Jan 24 2020 04:00 AEDT",
          "Jan 23 2020 04:00 AEDT",
          "Jan 21 2020 16:00 AEDT"
         ],
         "type": "scatter",
         "x": [
          "2020-01-31T18:00:00",
          "2020-01-31T14:00:00",
          "2020-01-30T21:30:00",
          "2020-01-30T11:00:00",
          "2020-01-29T21:00:00",
          "2020-01-29T14:30:00",
          "2020-01-29T13:30:00",
          "2020-01-28T23:00:00",
          "2020-01-28T18:00:00",
          "2020-01-28T13:00:00",
          "2020-01-27T20:30:00",
          "2020-01-27T19:00:00",
          "2020-01-27T09:00:00",
          "2020-01-26T23:00:00",
          "2020-01-26T11:00:00",
          "2020-01-25T22:00:00",
          "2020-01-25T12:00:00",
          "2020-01-25T00:00:00",
          "2020-01-24T12:00:00",
          "2020-01-24T00:00:00",
          "2020-01-23T12:00:00",
          "2020-01-22T12:00:00",
          "2020-01-21T00:00:00"
         ],
         "y": [
          258,
          213,
          213,
          171,
          170,
          133,
          132,
          132,
          131,
          106,
          107,
          82,
          81,
          80,
          56,
          56,
          42,
          41,
          26,
          26,
          18,
          0,
          0
         ]
        },
        {
         "hovertemplate": "<b>%{text}</b><br></br>Other region death<br>%{y} cases<br><extra></extra>",
         "line": {
          "color": "#fed5ad",
          "width": 2
         },
         "marker": {
          "size": 8
         },
         "mode": "lines+markers",
         "name": "Other Region",
         "text": [
          "Feb 01 2020 10:00 AEDT",
          "Feb 01 2020 06:00 AEDT",
          "Jan 31 2020 13:30 AEDT",
          "Jan 31 2020 03:00 AEDT",
          "Jan 30 2020 13:00 AEDT",
          "Jan 30 2020 06:30 AEDT",
          "Jan 30 2020 05:30 AEDT",
          "Jan 29 2020 15:00 AEDT",
          "Jan 29 2020 10:00 AEDT",
          "Jan 29 2020 05:00 AEDT",
          "Jan 28 2020 12:30 AEDT",
          "Jan 28 2020 11:00 AEDT",
          "Jan 28 2020 01:00 AEDT",
          "Jan 27 2020 15:00 AEDT",
          "Jan 27 2020 03:00 AEDT",
          "Jan 26 2020 14:00 AEDT",
          "Jan 26 2020 04:00 AEDT",
          "Jan 25 2020 16:00 AEDT",
          "Jan 25 2020 04:00 AEDT",
          "Jan 24 2020 16:00 AEDT",
          "Jan 24 2020 04:00 AEDT",
          "Jan 23 2020 04:00 AEDT",
          "Jan 21 2020 16:00 AEDT"
         ],
         "type": "scatter",
         "x": [
          "2020-01-31T18:00:00",
          "2020-01-31T14:00:00",
          "2020-01-30T21:30:00",
          "2020-01-30T11:00:00",
          "2020-01-29T21:00:00",
          "2020-01-29T14:30:00",
          "2020-01-29T13:30:00",
          "2020-01-28T23:00:00",
          "2020-01-28T18:00:00",
          "2020-01-28T13:00:00",
          "2020-01-27T20:30:00",
          "2020-01-27T19:00:00",
          "2020-01-27T09:00:00",
          "2020-01-26T23:00:00",
          "2020-01-26T11:00:00",
          "2020-01-25T22:00:00",
          "2020-01-25T12:00:00",
          "2020-01-25T00:00:00",
          "2020-01-24T12:00:00",
          "2020-01-24T00:00:00",
          "2020-01-23T12:00:00",
          "2020-01-22T12:00:00",
          "2020-01-21T00:00:00"
         ],
         "y": [
          0,
          0,
          0,
          0,
          0,
          0,
          0,
          0,
          0,
          0,
          0,
          0,
          0,
          0,
          0,
          0,
          0,
          0,
          0,
          0,
          0,
          0,
          0
         ]
        }
       ],
       "layout": {
        "font": {
         "color": "#7fafdf"
        },
        "hovermode": "x",
        "legend": {
         "orientation": "h"
        },
        "margin": {
         "b": 10,
         "l": 5,
         "pad": 0,
         "r": 10,
         "t": 50
        },
        "paper_bgcolor": "#272e3e",
        "plot_bgcolor": "#151920",
        "template": {
         "data": {
          "bar": [
           {
            "error_x": {
             "color": "#2a3f5f"
            },
            "error_y": {
             "color": "#2a3f5f"
            },
            "marker": {
             "line": {
              "color": "#E5ECF6",
              "width": 0.5
             }
            },
            "type": "bar"
           }
          ],
          "barpolar": [
           {
            "marker": {
             "line": {
              "color": "#E5ECF6",
              "width": 0.5
             }
            },
            "type": "barpolar"
           }
          ],
          "carpet": [
           {
            "aaxis": {
             "endlinecolor": "#2a3f5f",
             "gridcolor": "white",
             "linecolor": "white",
             "minorgridcolor": "white",
             "startlinecolor": "#2a3f5f"
            },
            "baxis": {
             "endlinecolor": "#2a3f5f",
             "gridcolor": "white",
             "linecolor": "white",
             "minorgridcolor": "white",
             "startlinecolor": "#2a3f5f"
            },
            "type": "carpet"
           }
          ],
          "choropleth": [
           {
            "colorbar": {
             "outlinewidth": 0,
             "ticks": ""
            },
            "type": "choropleth"
           }
          ],
          "contour": [
           {
            "colorbar": {
             "outlinewidth": 0,
             "ticks": ""
            },
            "colorscale": [
             [
              0,
              "#0d0887"
             ],
             [
              0.1111111111111111,
              "#46039f"
             ],
             [
              0.2222222222222222,
              "#7201a8"
             ],
             [
              0.3333333333333333,
              "#9c179e"
             ],
             [
              0.4444444444444444,
              "#bd3786"
             ],
             [
              0.5555555555555556,
              "#d8576b"
             ],
             [
              0.6666666666666666,
              "#ed7953"
             ],
             [
              0.7777777777777778,
              "#fb9f3a"
             ],
             [
              0.8888888888888888,
              "#fdca26"
             ],
             [
              1,
              "#f0f921"
             ]
            ],
            "type": "contour"
           }
          ],
          "contourcarpet": [
           {
            "colorbar": {
             "outlinewidth": 0,
             "ticks": ""
            },
            "type": "contourcarpet"
           }
          ],
          "heatmap": [
           {
            "colorbar": {
             "outlinewidth": 0,
             "ticks": ""
            },
            "colorscale": [
             [
              0,
              "#0d0887"
             ],
             [
              0.1111111111111111,
              "#46039f"
             ],
             [
              0.2222222222222222,
              "#7201a8"
             ],
             [
              0.3333333333333333,
              "#9c179e"
             ],
             [
              0.4444444444444444,
              "#bd3786"
             ],
             [
              0.5555555555555556,
              "#d8576b"
             ],
             [
              0.6666666666666666,
              "#ed7953"
             ],
             [
              0.7777777777777778,
              "#fb9f3a"
             ],
             [
              0.8888888888888888,
              "#fdca26"
             ],
             [
              1,
              "#f0f921"
             ]
            ],
            "type": "heatmap"
           }
          ],
          "heatmapgl": [
           {
            "colorbar": {
             "outlinewidth": 0,
             "ticks": ""
            },
            "colorscale": [
             [
              0,
              "#0d0887"
             ],
             [
              0.1111111111111111,
              "#46039f"
             ],
             [
              0.2222222222222222,
              "#7201a8"
             ],
             [
              0.3333333333333333,
              "#9c179e"
             ],
             [
              0.4444444444444444,
              "#bd3786"
             ],
             [
              0.5555555555555556,
              "#d8576b"
             ],
             [
              0.6666666666666666,
              "#ed7953"
             ],
             [
              0.7777777777777778,
              "#fb9f3a"
             ],
             [
              0.8888888888888888,
              "#fdca26"
             ],
             [
              1,
              "#f0f921"
             ]
            ],
            "type": "heatmapgl"
           }
          ],
          "histogram": [
           {
            "marker": {
             "colorbar": {
              "outlinewidth": 0,
              "ticks": ""
             }
            },
            "type": "histogram"
           }
          ],
          "histogram2d": [
           {
            "colorbar": {
             "outlinewidth": 0,
             "ticks": ""
            },
            "colorscale": [
             [
              0,
              "#0d0887"
             ],
             [
              0.1111111111111111,
              "#46039f"
             ],
             [
              0.2222222222222222,
              "#7201a8"
             ],
             [
              0.3333333333333333,
              "#9c179e"
             ],
             [
              0.4444444444444444,
              "#bd3786"
             ],
             [
              0.5555555555555556,
              "#d8576b"
             ],
             [
              0.6666666666666666,
              "#ed7953"
             ],
             [
              0.7777777777777778,
              "#fb9f3a"
             ],
             [
              0.8888888888888888,
              "#fdca26"
             ],
             [
              1,
              "#f0f921"
             ]
            ],
            "type": "histogram2d"
           }
          ],
          "histogram2dcontour": [
           {
            "colorbar": {
             "outlinewidth": 0,
             "ticks": ""
            },
            "colorscale": [
             [
              0,
              "#0d0887"
             ],
             [
              0.1111111111111111,
              "#46039f"
             ],
             [
              0.2222222222222222,
              "#7201a8"
             ],
             [
              0.3333333333333333,
              "#9c179e"
             ],
             [
              0.4444444444444444,
              "#bd3786"
             ],
             [
              0.5555555555555556,
              "#d8576b"
             ],
             [
              0.6666666666666666,
              "#ed7953"
             ],
             [
              0.7777777777777778,
              "#fb9f3a"
             ],
             [
              0.8888888888888888,
              "#fdca26"
             ],
             [
              1,
              "#f0f921"
             ]
            ],
            "type": "histogram2dcontour"
           }
          ],
          "mesh3d": [
           {
            "colorbar": {
             "outlinewidth": 0,
             "ticks": ""
            },
            "type": "mesh3d"
           }
          ],
          "parcoords": [
           {
            "line": {
             "colorbar": {
              "outlinewidth": 0,
              "ticks": ""
             }
            },
            "type": "parcoords"
           }
          ],
          "pie": [
           {
            "automargin": true,
            "type": "pie"
           }
          ],
          "scatter": [
           {
            "marker": {
             "colorbar": {
              "outlinewidth": 0,
              "ticks": ""
             }
            },
            "type": "scatter"
           }
          ],
          "scatter3d": [
           {
            "line": {
             "colorbar": {
              "outlinewidth": 0,
              "ticks": ""
             }
            },
            "marker": {
             "colorbar": {
              "outlinewidth": 0,
              "ticks": ""
             }
            },
            "type": "scatter3d"
           }
          ],
          "scattercarpet": [
           {
            "marker": {
             "colorbar": {
              "outlinewidth": 0,
              "ticks": ""
             }
            },
            "type": "scattercarpet"
           }
          ],
          "scattergeo": [
           {
            "marker": {
             "colorbar": {
              "outlinewidth": 0,
              "ticks": ""
             }
            },
            "type": "scattergeo"
           }
          ],
          "scattergl": [
           {
            "marker": {
             "colorbar": {
              "outlinewidth": 0,
              "ticks": ""
             }
            },
            "type": "scattergl"
           }
          ],
          "scattermapbox": [
           {
            "marker": {
             "colorbar": {
              "outlinewidth": 0,
              "ticks": ""
             }
            },
            "type": "scattermapbox"
           }
          ],
          "scatterpolar": [
           {
            "marker": {
             "colorbar": {
              "outlinewidth": 0,
              "ticks": ""
             }
            },
            "type": "scatterpolar"
           }
          ],
          "scatterpolargl": [
           {
            "marker": {
             "colorbar": {
              "outlinewidth": 0,
              "ticks": ""
             }
            },
            "type": "scatterpolargl"
           }
          ],
          "scatterternary": [
           {
            "marker": {
             "colorbar": {
              "outlinewidth": 0,
              "ticks": ""
             }
            },
            "type": "scatterternary"
           }
          ],
          "surface": [
           {
            "colorbar": {
             "outlinewidth": 0,
             "ticks": ""
            },
            "colorscale": [
             [
              0,
              "#0d0887"
             ],
             [
              0.1111111111111111,
              "#46039f"
             ],
             [
              0.2222222222222222,
              "#7201a8"
             ],
             [
              0.3333333333333333,
              "#9c179e"
             ],
             [
              0.4444444444444444,
              "#bd3786"
             ],
             [
              0.5555555555555556,
              "#d8576b"
             ],
             [
              0.6666666666666666,
              "#ed7953"
             ],
             [
              0.7777777777777778,
              "#fb9f3a"
             ],
             [
              0.8888888888888888,
              "#fdca26"
             ],
             [
              1,
              "#f0f921"
             ]
            ],
            "type": "surface"
           }
          ],
          "table": [
           {
            "cells": {
             "fill": {
              "color": "#EBF0F8"
             },
             "line": {
              "color": "white"
             }
            },
            "header": {
             "fill": {
              "color": "#C8D4E3"
             },
             "line": {
              "color": "white"
             }
            },
            "type": "table"
           }
          ]
         },
         "layout": {
          "annotationdefaults": {
           "arrowcolor": "#2a3f5f",
           "arrowhead": 0,
           "arrowwidth": 1
          },
          "coloraxis": {
           "colorbar": {
            "outlinewidth": 0,
            "ticks": ""
           }
          },
          "colorscale": {
           "diverging": [
            [
             0,
             "#8e0152"
            ],
            [
             0.1,
             "#c51b7d"
            ],
            [
             0.2,
             "#de77ae"
            ],
            [
             0.3,
             "#f1b6da"
            ],
            [
             0.4,
             "#fde0ef"
            ],
            [
             0.5,
             "#f7f7f7"
            ],
            [
             0.6,
             "#e6f5d0"
            ],
            [
             0.7,
             "#b8e186"
            ],
            [
             0.8,
             "#7fbc41"
            ],
            [
             0.9,
             "#4d9221"
            ],
            [
             1,
             "#276419"
            ]
           ],
           "sequential": [
            [
             0,
             "#0d0887"
            ],
            [
             0.1111111111111111,
             "#46039f"
            ],
            [
             0.2222222222222222,
             "#7201a8"
            ],
            [
             0.3333333333333333,
             "#9c179e"
            ],
            [
             0.4444444444444444,
             "#bd3786"
            ],
            [
             0.5555555555555556,
             "#d8576b"
            ],
            [
             0.6666666666666666,
             "#ed7953"
            ],
            [
             0.7777777777777778,
             "#fb9f3a"
            ],
            [
             0.8888888888888888,
             "#fdca26"
            ],
            [
             1,
             "#f0f921"
            ]
           ],
           "sequentialminus": [
            [
             0,
             "#0d0887"
            ],
            [
             0.1111111111111111,
             "#46039f"
            ],
            [
             0.2222222222222222,
             "#7201a8"
            ],
            [
             0.3333333333333333,
             "#9c179e"
            ],
            [
             0.4444444444444444,
             "#bd3786"
            ],
            [
             0.5555555555555556,
             "#d8576b"
            ],
            [
             0.6666666666666666,
             "#ed7953"
            ],
            [
             0.7777777777777778,
             "#fb9f3a"
            ],
            [
             0.8888888888888888,
             "#fdca26"
            ],
            [
             1,
             "#f0f921"
            ]
           ]
          },
          "colorway": [
           "#636efa",
           "#EF553B",
           "#00cc96",
           "#ab63fa",
           "#FFA15A",
           "#19d3f3",
           "#FF6692",
           "#B6E880",
           "#FF97FF",
           "#FECB52"
          ],
          "font": {
           "color": "#2a3f5f"
          },
          "geo": {
           "bgcolor": "white",
           "lakecolor": "white",
           "landcolor": "#E5ECF6",
           "showlakes": true,
           "showland": true,
           "subunitcolor": "white"
          },
          "hoverlabel": {
           "align": "left"
          },
          "hovermode": "closest",
          "mapbox": {
           "style": "light"
          },
          "paper_bgcolor": "white",
          "plot_bgcolor": "#E5ECF6",
          "polar": {
           "angularaxis": {
            "gridcolor": "white",
            "linecolor": "white",
            "ticks": ""
           },
           "bgcolor": "#E5ECF6",
           "radialaxis": {
            "gridcolor": "white",
            "linecolor": "white",
            "ticks": ""
           }
          },
          "scene": {
           "xaxis": {
            "backgroundcolor": "#E5ECF6",
            "gridcolor": "white",
            "gridwidth": 2,
            "linecolor": "white",
            "showbackground": true,
            "ticks": "",
            "zerolinecolor": "white"
           },
           "yaxis": {
            "backgroundcolor": "#E5ECF6",
            "gridcolor": "white",
            "gridwidth": 2,
            "linecolor": "white",
            "showbackground": true,
            "ticks": "",
            "zerolinecolor": "white"
           },
           "zaxis": {
            "backgroundcolor": "#E5ECF6",
            "gridcolor": "white",
            "gridwidth": 2,
            "linecolor": "white",
            "showbackground": true,
            "ticks": "",
            "zerolinecolor": "white"
           }
          },
          "shapedefaults": {
           "line": {
            "color": "#2a3f5f"
           }
          },
          "ternary": {
           "aaxis": {
            "gridcolor": "white",
            "linecolor": "white",
            "ticks": ""
           },
           "baxis": {
            "gridcolor": "white",
            "linecolor": "white",
            "ticks": ""
           },
           "bgcolor": "#E5ECF6",
           "caxis": {
            "gridcolor": "white",
            "linecolor": "white",
            "ticks": ""
           }
          },
          "title": {
           "x": 0.05
          },
          "xaxis": {
           "automargin": true,
           "gridcolor": "white",
           "linecolor": "white",
           "ticks": "",
           "title": {
            "standoff": 15
           },
           "zerolinecolor": "white",
           "zerolinewidth": 2
          },
          "yaxis": {
           "automargin": true,
           "gridcolor": "white",
           "linecolor": "white",
           "ticks": "",
           "title": {
            "standoff": 15
           },
           "zerolinecolor": "white",
           "zerolinewidth": 2
          }
         }
        },
        "title": {
         "font": {
          "color": "#7fafdf",
          "family": "Playfair Display",
          "size": 20
         },
         "text": "<b>Death Cases Timeline<b>",
         "x": 0.5,
         "xanchor": "center",
         "y": 0.96,
         "yanchor": "top"
        },
        "xaxis": {
         "gridcolor": "#272e3e",
         "gridwidth": 0.1,
         "linecolor": "#272e3e",
         "showline": true,
         "tickformat": "%b %d",
         "zeroline": false
        },
        "yaxis": {
         "gridcolor": "#272e3e",
         "gridwidth": 0.1,
         "linecolor": "#272e3e",
         "showline": true,
         "tickmode": "array",
         "ticktext": [
          "0",
          "20",
          "40",
          "60",
          "80",
          "100",
          "120",
          "140",
          "160",
          "180",
          "200",
          "220",
          "240",
          "260",
          "280",
          "300",
          "320",
          "340"
         ],
         "tickvals": [
          0,
          20,
          40,
          60,
          80,
          100,
          120,
          140,
          160,
          180,
          200,
          220,
          240,
          260,
          280,
          300,
          320,
          340
         ],
         "title": {
          "text": "Total Death Case Number"
         },
         "zeroline": false
        }
       }
      },
      "text/html": [
       "<div>\n",
       "        \n",
       "        \n",
       "            <div id=\"5e86a556-e36e-46bc-bbdd-90363de62261\" class=\"plotly-graph-div\" style=\"height:525px; width:100%;\"></div>\n",
       "            <script type=\"text/javascript\">\n",
       "                require([\"plotly\"], function(Plotly) {\n",
       "                    window.PLOTLYENV=window.PLOTLYENV || {};\n",
       "                    \n",
       "                if (document.getElementById(\"5e86a556-e36e-46bc-bbdd-90363de62261\")) {\n",
       "                    Plotly.newPlot(\n",
       "                        '5e86a556-e36e-46bc-bbdd-90363de62261',\n",
       "                        [{\"hovertemplate\": \"<b>%{text}</b><br></br>Mainland China death<br>%{y} cases<br><extra></extra>\", \"line\": {\"color\": \"#fc8715\", \"width\": 2}, \"marker\": {\"size\": 8}, \"mode\": \"lines+markers\", \"name\": \"Mainland China\", \"text\": [\"Feb 01 2020 10:00 AEDT\", \"Feb 01 2020 06:00 AEDT\", \"Jan 31 2020 13:30 AEDT\", \"Jan 31 2020 03:00 AEDT\", \"Jan 30 2020 13:00 AEDT\", \"Jan 30 2020 06:30 AEDT\", \"Jan 30 2020 05:30 AEDT\", \"Jan 29 2020 15:00 AEDT\", \"Jan 29 2020 10:00 AEDT\", \"Jan 29 2020 05:00 AEDT\", \"Jan 28 2020 12:30 AEDT\", \"Jan 28 2020 11:00 AEDT\", \"Jan 28 2020 01:00 AEDT\", \"Jan 27 2020 15:00 AEDT\", \"Jan 27 2020 03:00 AEDT\", \"Jan 26 2020 14:00 AEDT\", \"Jan 26 2020 04:00 AEDT\", \"Jan 25 2020 16:00 AEDT\", \"Jan 25 2020 04:00 AEDT\", \"Jan 24 2020 16:00 AEDT\", \"Jan 24 2020 04:00 AEDT\", \"Jan 23 2020 04:00 AEDT\", \"Jan 21 2020 16:00 AEDT\"], \"type\": \"scatter\", \"x\": [\"2020-01-31T18:00:00\", \"2020-01-31T14:00:00\", \"2020-01-30T21:30:00\", \"2020-01-30T11:00:00\", \"2020-01-29T21:00:00\", \"2020-01-29T14:30:00\", \"2020-01-29T13:30:00\", \"2020-01-28T23:00:00\", \"2020-01-28T18:00:00\", \"2020-01-28T13:00:00\", \"2020-01-27T20:30:00\", \"2020-01-27T19:00:00\", \"2020-01-27T09:00:00\", \"2020-01-26T23:00:00\", \"2020-01-26T11:00:00\", \"2020-01-25T22:00:00\", \"2020-01-25T12:00:00\", \"2020-01-25T00:00:00\", \"2020-01-24T12:00:00\", \"2020-01-24T00:00:00\", \"2020-01-23T12:00:00\", \"2020-01-22T12:00:00\", \"2020-01-21T00:00:00\"], \"y\": [258, 213, 213, 171, 170, 133, 132, 132, 131, 106, 107, 82, 81, 80, 56, 56, 42, 41, 26, 26, 18, 0, 0]}, {\"hovertemplate\": \"<b>%{text}</b><br></br>Other region death<br>%{y} cases<br><extra></extra>\", \"line\": {\"color\": \"#fed5ad\", \"width\": 2}, \"marker\": {\"size\": 8}, \"mode\": \"lines+markers\", \"name\": \"Other Region\", \"text\": [\"Feb 01 2020 10:00 AEDT\", \"Feb 01 2020 06:00 AEDT\", \"Jan 31 2020 13:30 AEDT\", \"Jan 31 2020 03:00 AEDT\", \"Jan 30 2020 13:00 AEDT\", \"Jan 30 2020 06:30 AEDT\", \"Jan 30 2020 05:30 AEDT\", \"Jan 29 2020 15:00 AEDT\", \"Jan 29 2020 10:00 AEDT\", \"Jan 29 2020 05:00 AEDT\", \"Jan 28 2020 12:30 AEDT\", \"Jan 28 2020 11:00 AEDT\", \"Jan 28 2020 01:00 AEDT\", \"Jan 27 2020 15:00 AEDT\", \"Jan 27 2020 03:00 AEDT\", \"Jan 26 2020 14:00 AEDT\", \"Jan 26 2020 04:00 AEDT\", \"Jan 25 2020 16:00 AEDT\", \"Jan 25 2020 04:00 AEDT\", \"Jan 24 2020 16:00 AEDT\", \"Jan 24 2020 04:00 AEDT\", \"Jan 23 2020 04:00 AEDT\", \"Jan 21 2020 16:00 AEDT\"], \"type\": \"scatter\", \"x\": [\"2020-01-31T18:00:00\", \"2020-01-31T14:00:00\", \"2020-01-30T21:30:00\", \"2020-01-30T11:00:00\", \"2020-01-29T21:00:00\", \"2020-01-29T14:30:00\", \"2020-01-29T13:30:00\", \"2020-01-28T23:00:00\", \"2020-01-28T18:00:00\", \"2020-01-28T13:00:00\", \"2020-01-27T20:30:00\", \"2020-01-27T19:00:00\", \"2020-01-27T09:00:00\", \"2020-01-26T23:00:00\", \"2020-01-26T11:00:00\", \"2020-01-25T22:00:00\", \"2020-01-25T12:00:00\", \"2020-01-25T00:00:00\", \"2020-01-24T12:00:00\", \"2020-01-24T00:00:00\", \"2020-01-23T12:00:00\", \"2020-01-22T12:00:00\", \"2020-01-21T00:00:00\"], \"y\": [0, 0, 0, 0, 0, 0, 0, 0, 0, 0, 0, 0, 0, 0, 0, 0, 0, 0, 0, 0, 0, 0, 0]}],\n",
       "                        {\"font\": {\"color\": \"#7fafdf\"}, \"hovermode\": \"x\", \"legend\": {\"orientation\": \"h\"}, \"margin\": {\"b\": 10, \"l\": 5, \"pad\": 0, \"r\": 10, \"t\": 50}, \"paper_bgcolor\": \"#272e3e\", \"plot_bgcolor\": \"#151920\", \"template\": {\"data\": {\"bar\": [{\"error_x\": {\"color\": \"#2a3f5f\"}, \"error_y\": {\"color\": \"#2a3f5f\"}, \"marker\": {\"line\": {\"color\": \"#E5ECF6\", \"width\": 0.5}}, \"type\": \"bar\"}], \"barpolar\": [{\"marker\": {\"line\": {\"color\": \"#E5ECF6\", \"width\": 0.5}}, \"type\": \"barpolar\"}], \"carpet\": [{\"aaxis\": {\"endlinecolor\": \"#2a3f5f\", \"gridcolor\": \"white\", \"linecolor\": \"white\", \"minorgridcolor\": \"white\", \"startlinecolor\": \"#2a3f5f\"}, \"baxis\": {\"endlinecolor\": \"#2a3f5f\", \"gridcolor\": \"white\", \"linecolor\": \"white\", \"minorgridcolor\": \"white\", \"startlinecolor\": \"#2a3f5f\"}, \"type\": \"carpet\"}], \"choropleth\": [{\"colorbar\": {\"outlinewidth\": 0, \"ticks\": \"\"}, \"type\": \"choropleth\"}], \"contour\": [{\"colorbar\": {\"outlinewidth\": 0, \"ticks\": \"\"}, \"colorscale\": [[0.0, \"#0d0887\"], [0.1111111111111111, \"#46039f\"], [0.2222222222222222, \"#7201a8\"], [0.3333333333333333, \"#9c179e\"], [0.4444444444444444, \"#bd3786\"], [0.5555555555555556, \"#d8576b\"], [0.6666666666666666, \"#ed7953\"], [0.7777777777777778, \"#fb9f3a\"], [0.8888888888888888, \"#fdca26\"], [1.0, \"#f0f921\"]], \"type\": \"contour\"}], \"contourcarpet\": [{\"colorbar\": {\"outlinewidth\": 0, \"ticks\": \"\"}, \"type\": \"contourcarpet\"}], \"heatmap\": [{\"colorbar\": {\"outlinewidth\": 0, \"ticks\": \"\"}, \"colorscale\": [[0.0, \"#0d0887\"], [0.1111111111111111, \"#46039f\"], [0.2222222222222222, \"#7201a8\"], [0.3333333333333333, \"#9c179e\"], [0.4444444444444444, \"#bd3786\"], [0.5555555555555556, \"#d8576b\"], [0.6666666666666666, \"#ed7953\"], [0.7777777777777778, \"#fb9f3a\"], [0.8888888888888888, \"#fdca26\"], [1.0, \"#f0f921\"]], \"type\": \"heatmap\"}], \"heatmapgl\": [{\"colorbar\": {\"outlinewidth\": 0, \"ticks\": \"\"}, \"colorscale\": [[0.0, \"#0d0887\"], [0.1111111111111111, \"#46039f\"], [0.2222222222222222, \"#7201a8\"], [0.3333333333333333, \"#9c179e\"], [0.4444444444444444, \"#bd3786\"], [0.5555555555555556, \"#d8576b\"], [0.6666666666666666, \"#ed7953\"], [0.7777777777777778, \"#fb9f3a\"], [0.8888888888888888, \"#fdca26\"], [1.0, \"#f0f921\"]], \"type\": \"heatmapgl\"}], \"histogram\": [{\"marker\": {\"colorbar\": {\"outlinewidth\": 0, \"ticks\": \"\"}}, \"type\": \"histogram\"}], \"histogram2d\": [{\"colorbar\": {\"outlinewidth\": 0, \"ticks\": \"\"}, \"colorscale\": [[0.0, \"#0d0887\"], [0.1111111111111111, \"#46039f\"], [0.2222222222222222, \"#7201a8\"], [0.3333333333333333, \"#9c179e\"], [0.4444444444444444, \"#bd3786\"], [0.5555555555555556, \"#d8576b\"], [0.6666666666666666, \"#ed7953\"], [0.7777777777777778, \"#fb9f3a\"], [0.8888888888888888, \"#fdca26\"], [1.0, \"#f0f921\"]], \"type\": \"histogram2d\"}], \"histogram2dcontour\": [{\"colorbar\": {\"outlinewidth\": 0, \"ticks\": \"\"}, \"colorscale\": [[0.0, \"#0d0887\"], [0.1111111111111111, \"#46039f\"], [0.2222222222222222, \"#7201a8\"], [0.3333333333333333, \"#9c179e\"], [0.4444444444444444, \"#bd3786\"], [0.5555555555555556, \"#d8576b\"], [0.6666666666666666, \"#ed7953\"], [0.7777777777777778, \"#fb9f3a\"], [0.8888888888888888, \"#fdca26\"], [1.0, \"#f0f921\"]], \"type\": \"histogram2dcontour\"}], \"mesh3d\": [{\"colorbar\": {\"outlinewidth\": 0, \"ticks\": \"\"}, \"type\": \"mesh3d\"}], \"parcoords\": [{\"line\": {\"colorbar\": {\"outlinewidth\": 0, \"ticks\": \"\"}}, \"type\": \"parcoords\"}], \"pie\": [{\"automargin\": true, \"type\": \"pie\"}], \"scatter\": [{\"marker\": {\"colorbar\": {\"outlinewidth\": 0, \"ticks\": \"\"}}, \"type\": \"scatter\"}], \"scatter3d\": [{\"line\": {\"colorbar\": {\"outlinewidth\": 0, \"ticks\": \"\"}}, \"marker\": {\"colorbar\": {\"outlinewidth\": 0, \"ticks\": \"\"}}, \"type\": \"scatter3d\"}], \"scattercarpet\": [{\"marker\": {\"colorbar\": {\"outlinewidth\": 0, \"ticks\": \"\"}}, \"type\": \"scattercarpet\"}], \"scattergeo\": [{\"marker\": {\"colorbar\": {\"outlinewidth\": 0, \"ticks\": \"\"}}, \"type\": \"scattergeo\"}], \"scattergl\": [{\"marker\": {\"colorbar\": {\"outlinewidth\": 0, \"ticks\": \"\"}}, \"type\": \"scattergl\"}], \"scattermapbox\": [{\"marker\": {\"colorbar\": {\"outlinewidth\": 0, \"ticks\": \"\"}}, \"type\": \"scattermapbox\"}], \"scatterpolar\": [{\"marker\": {\"colorbar\": {\"outlinewidth\": 0, \"ticks\": \"\"}}, \"type\": \"scatterpolar\"}], \"scatterpolargl\": [{\"marker\": {\"colorbar\": {\"outlinewidth\": 0, \"ticks\": \"\"}}, \"type\": \"scatterpolargl\"}], \"scatterternary\": [{\"marker\": {\"colorbar\": {\"outlinewidth\": 0, \"ticks\": \"\"}}, \"type\": \"scatterternary\"}], \"surface\": [{\"colorbar\": {\"outlinewidth\": 0, \"ticks\": \"\"}, \"colorscale\": [[0.0, \"#0d0887\"], [0.1111111111111111, \"#46039f\"], [0.2222222222222222, \"#7201a8\"], [0.3333333333333333, \"#9c179e\"], [0.4444444444444444, \"#bd3786\"], [0.5555555555555556, \"#d8576b\"], [0.6666666666666666, \"#ed7953\"], [0.7777777777777778, \"#fb9f3a\"], [0.8888888888888888, \"#fdca26\"], [1.0, \"#f0f921\"]], \"type\": \"surface\"}], \"table\": [{\"cells\": {\"fill\": {\"color\": \"#EBF0F8\"}, \"line\": {\"color\": \"white\"}}, \"header\": {\"fill\": {\"color\": \"#C8D4E3\"}, \"line\": {\"color\": \"white\"}}, \"type\": \"table\"}]}, \"layout\": {\"annotationdefaults\": {\"arrowcolor\": \"#2a3f5f\", \"arrowhead\": 0, \"arrowwidth\": 1}, \"coloraxis\": {\"colorbar\": {\"outlinewidth\": 0, \"ticks\": \"\"}}, \"colorscale\": {\"diverging\": [[0, \"#8e0152\"], [0.1, \"#c51b7d\"], [0.2, \"#de77ae\"], [0.3, \"#f1b6da\"], [0.4, \"#fde0ef\"], [0.5, \"#f7f7f7\"], [0.6, \"#e6f5d0\"], [0.7, \"#b8e186\"], [0.8, \"#7fbc41\"], [0.9, \"#4d9221\"], [1, \"#276419\"]], \"sequential\": [[0.0, \"#0d0887\"], [0.1111111111111111, \"#46039f\"], [0.2222222222222222, \"#7201a8\"], [0.3333333333333333, \"#9c179e\"], [0.4444444444444444, \"#bd3786\"], [0.5555555555555556, \"#d8576b\"], [0.6666666666666666, \"#ed7953\"], [0.7777777777777778, \"#fb9f3a\"], [0.8888888888888888, \"#fdca26\"], [1.0, \"#f0f921\"]], \"sequentialminus\": [[0.0, \"#0d0887\"], [0.1111111111111111, \"#46039f\"], [0.2222222222222222, \"#7201a8\"], [0.3333333333333333, \"#9c179e\"], [0.4444444444444444, \"#bd3786\"], [0.5555555555555556, \"#d8576b\"], [0.6666666666666666, \"#ed7953\"], [0.7777777777777778, \"#fb9f3a\"], [0.8888888888888888, \"#fdca26\"], [1.0, \"#f0f921\"]]}, \"colorway\": [\"#636efa\", \"#EF553B\", \"#00cc96\", \"#ab63fa\", \"#FFA15A\", \"#19d3f3\", \"#FF6692\", \"#B6E880\", \"#FF97FF\", \"#FECB52\"], \"font\": {\"color\": \"#2a3f5f\"}, \"geo\": {\"bgcolor\": \"white\", \"lakecolor\": \"white\", \"landcolor\": \"#E5ECF6\", \"showlakes\": true, \"showland\": true, \"subunitcolor\": \"white\"}, \"hoverlabel\": {\"align\": \"left\"}, \"hovermode\": \"closest\", \"mapbox\": {\"style\": \"light\"}, \"paper_bgcolor\": \"white\", \"plot_bgcolor\": \"#E5ECF6\", \"polar\": {\"angularaxis\": {\"gridcolor\": \"white\", \"linecolor\": \"white\", \"ticks\": \"\"}, \"bgcolor\": \"#E5ECF6\", \"radialaxis\": {\"gridcolor\": \"white\", \"linecolor\": \"white\", \"ticks\": \"\"}}, \"scene\": {\"xaxis\": {\"backgroundcolor\": \"#E5ECF6\", \"gridcolor\": \"white\", \"gridwidth\": 2, \"linecolor\": \"white\", \"showbackground\": true, \"ticks\": \"\", \"zerolinecolor\": \"white\"}, \"yaxis\": {\"backgroundcolor\": \"#E5ECF6\", \"gridcolor\": \"white\", \"gridwidth\": 2, \"linecolor\": \"white\", \"showbackground\": true, \"ticks\": \"\", \"zerolinecolor\": \"white\"}, \"zaxis\": {\"backgroundcolor\": \"#E5ECF6\", \"gridcolor\": \"white\", \"gridwidth\": 2, \"linecolor\": \"white\", \"showbackground\": true, \"ticks\": \"\", \"zerolinecolor\": \"white\"}}, \"shapedefaults\": {\"line\": {\"color\": \"#2a3f5f\"}}, \"ternary\": {\"aaxis\": {\"gridcolor\": \"white\", \"linecolor\": \"white\", \"ticks\": \"\"}, \"baxis\": {\"gridcolor\": \"white\", \"linecolor\": \"white\", \"ticks\": \"\"}, \"bgcolor\": \"#E5ECF6\", \"caxis\": {\"gridcolor\": \"white\", \"linecolor\": \"white\", \"ticks\": \"\"}}, \"title\": {\"x\": 0.05}, \"xaxis\": {\"automargin\": true, \"gridcolor\": \"white\", \"linecolor\": \"white\", \"ticks\": \"\", \"title\": {\"standoff\": 15}, \"zerolinecolor\": \"white\", \"zerolinewidth\": 2}, \"yaxis\": {\"automargin\": true, \"gridcolor\": \"white\", \"linecolor\": \"white\", \"ticks\": \"\", \"title\": {\"standoff\": 15}, \"zerolinecolor\": \"white\", \"zerolinewidth\": 2}}}, \"title\": {\"font\": {\"color\": \"#7fafdf\", \"family\": \"Playfair Display\", \"size\": 20}, \"text\": \"<b>Death Cases Timeline<b>\", \"x\": 0.5, \"xanchor\": \"center\", \"y\": 0.96, \"yanchor\": \"top\"}, \"xaxis\": {\"gridcolor\": \"#272e3e\", \"gridwidth\": 0.1, \"linecolor\": \"#272e3e\", \"showline\": true, \"tickformat\": \"%b %d\", \"zeroline\": false}, \"yaxis\": {\"gridcolor\": \"#272e3e\", \"gridwidth\": 0.1, \"linecolor\": \"#272e3e\", \"showline\": true, \"tickmode\": \"array\", \"ticktext\": [\"0\", \"20\", \"40\", \"60\", \"80\", \"100\", \"120\", \"140\", \"160\", \"180\", \"200\", \"220\", \"240\", \"260\", \"280\", \"300\", \"320\", \"340\"], \"tickvals\": [0, 20, 40, 60, 80, 100, 120, 140, 160, 180, 200, 220, 240, 260, 280, 300, 320, 340], \"title\": {\"text\": \"Total Death Case Number\"}, \"zeroline\": false}},\n",
       "                        {\"responsive\": true}\n",
       "                    ).then(function(){\n",
       "                            \n",
       "var gd = document.getElementById('5e86a556-e36e-46bc-bbdd-90363de62261');\n",
       "var x = new MutationObserver(function (mutations, observer) {{\n",
       "        var display = window.getComputedStyle(gd).display;\n",
       "        if (!display || display === 'none') {{\n",
       "            console.log([gd, 'removed!']);\n",
       "            Plotly.purge(gd);\n",
       "            observer.disconnect();\n",
       "        }}\n",
       "}});\n",
       "\n",
       "// Listen for the removal of the full notebook cells\n",
       "var notebookContainer = gd.closest('#notebook-container');\n",
       "if (notebookContainer) {{\n",
       "    x.observe(notebookContainer, {childList: true});\n",
       "}}\n",
       "\n",
       "// Listen for the clearing of the current output cell\n",
       "var outputEl = gd.closest('.output');\n",
       "if (outputEl) {{\n",
       "    x.observe(outputEl, {childList: true});\n",
       "}}\n",
       "\n",
       "                        })\n",
       "                };\n",
       "                });\n",
       "            </script>\n",
       "        </div>"
      ]
     },
     "metadata": {},
     "output_type": "display_data"
    }
   ],
   "source": [
    "# Line plot for deaths cases\n",
    "# Set up tick scale based on confirmed case number\n",
    "tickList = list(np.arange(0, df_deaths['Mainland China'].max()+100, 20))\n",
    "\n",
    "# Create empty figure canvas\n",
    "fig_deaths = go.Figure()\n",
    "# Add trace to the figure\n",
    "fig_deaths.add_trace(go.Scatter(x=df_deaths['Date'], y=df_deaths['Mainland China'],\n",
    "                         mode='lines+markers',\n",
    "                         name='Mainland China',\n",
    "                         line=dict(color='#fc8715', width=2),\n",
    "                         marker=dict(size=8),\n",
    "                         text=[datetime.strftime(d+timedelta(hours=16), '%b %d %Y %H:%M AEDT') for d in df_deaths['Date']],\n",
    "                         hovertemplate='<b>%{text}</b><br></br>'+\n",
    "                                       'Mainland China death<br>'+\n",
    "                                       '%{y} cases<br>'+\n",
    "                                       '<extra></extra>'))\n",
    "fig_deaths.add_trace(go.Scatter(x=df_deaths['Date'], y=df_deaths['Other locations'],\n",
    "                         mode='lines+markers',\n",
    "                         name='Other Region',\n",
    "                         line=dict(color='#fed5ad', width=2),\n",
    "                         marker=dict(size=8),\n",
    "                         text=[datetime.strftime(d+timedelta(hours=16), '%b %d %Y %H:%M AEDT') for d in df_deaths['Date']],\n",
    "                         hovertemplate='<b>%{text}</b><br></br>'+\n",
    "                                       'Other region death<br>'+\n",
    "                                       '%{y} cases<br>'+\n",
    "                                       '<extra></extra>'))\n",
    "# Customise layout\n",
    "fig_deaths.update_layout(\n",
    "    title=dict(\n",
    "        text=\"<b>Death Cases Timeline<b>\",\n",
    "        y=0.96, x=0.5, xanchor='center', yanchor='top',\n",
    "        font=dict(size=20, color=\"#7fafdf\", family=\"Playfair Display\")\n",
    "    ),\n",
    "    margin=go.layout.Margin(\n",
    "        l=5,\n",
    "        r=10,\n",
    "        b=10,\n",
    "        t=50,\n",
    "        pad=0\n",
    "    ),\n",
    "    yaxis=dict(\n",
    "        showline=True, linecolor='#272e3e',\n",
    "        zeroline=False,\n",
    "        gridcolor='#272e3e',\n",
    "        gridwidth = .1,\n",
    "        tickmode='array',\n",
    "        # Set tick range based on the maximum number\n",
    "        tickvals=tickList,\n",
    "        # Set tick label accordingly\n",
    "        ticktext=['{:.0f}'.format(i) for i in tickList]\n",
    "    ),\n",
    "    yaxis_title=\"Total Death Case Number\",\n",
    "    xaxis=dict(\n",
    "        showline=True, linecolor='#272e3e',\n",
    "        gridcolor='#272e3e',\n",
    "        gridwidth = .1,\n",
    "        zeroline=False\n",
    "    ),\n",
    "    xaxis_tickformat='%b %d',\n",
    "    hovermode = 'x',\n",
    "    legend_orientation=\"h\",\n",
    "    plot_bgcolor='#151920',\n",
    "    paper_bgcolor='#272e3e',\n",
    "    font=dict(color='#7fafdf')\n",
    ")\n",
    "\n",
    "fig_deaths.show()"
   ]
  },
  {
   "cell_type": "code",
   "execution_count": 123,
   "metadata": {},
   "outputs": [
    {
     "data": {
      "application/vnd.plotly.v1+json": {
       "config": {
        "plotlyServerURL": "https://plot.ly"
       },
       "data": [
        {
         "hovertemplate": "<b>%{text}</b><br><br>%{hovertext}<br><extra></extra>",
         "hovertext": [
          "Comfirmed: 7153<br>Recovered: 159<br>Death: 249",
          "Comfirmed: 537<br>Recovered: 11<br>Death: 0",
          "Comfirmed: 436<br>Recovered: 11<br>Death: 0",
          "Comfirmed: 352<br>Recovered: 3<br>Death: 2",
          "Comfirmed: 332<br>Recovered: 2<br>Death: 0",
          "Comfirmed: 240<br>Recovered: 7<br>Death: 0",
          "Comfirmed: 237<br>Recovered: 3<br>Death: 0",
          "Comfirmed: 238<br>Recovered: 1<br>Death: 0",
          "Comfirmed: 184<br>Recovered: 2<br>Death: 0",
          "Comfirmed: 177<br>Recovered: 1<br>Death: 1",
          "Comfirmed: 168<br>Recovered: 5<br>Death: 0",
          "Comfirmed: 139<br>Recovered: 5<br>Death: 1",
          "Comfirmed: 135<br>Recovered: 9<br>Death: 1",
          "Comfirmed: 120<br>Recovered: 0<br>Death: 0",
          "Comfirmed: 87<br>Recovered: 2<br>Death: 0",
          "Comfirmed: 87<br>Recovered: 0<br>Death: 0",
          "Comfirmed: 83<br>Recovered: 1<br>Death: 0",
          "Comfirmed: 82<br>Recovered: 0<br>Death: 1",
          "Comfirmed: 59<br>Recovered: 0<br>Death: 2",
          "Comfirmed: 52<br>Recovered: 1<br>Death: 1",
          "Comfirmed: 60<br>Recovered: 1<br>Death: 0",
          "Comfirmed: 47<br>Recovered: 1<br>Death: 0",
          "Comfirmed: 32<br>Recovered: 0<br>Death: 0",
          "Comfirmed: 29<br>Recovered: 2<br>Death: 0",
          "Comfirmed: 35<br>Recovered: 0<br>Death: 0",
          "Comfirmed: 21<br>Recovered: 0<br>Death: 0",
          "Comfirmed: 20<br>Recovered: 1<br>Death: 0",
          "Comfirmed: 17<br>Recovered: 0<br>Death: 0",
          "Comfirmed: 14<br>Recovered: 0<br>Death: 0",
          "Comfirmed: 12<br>Recovered: 0<br>Death: 0",
          "Comfirmed: 10<br>Recovered: 0<br>Death: 0",
          "Comfirmed: 8<br>Recovered: 0<br>Death: 0",
          "Comfirmed: 7<br>Recovered: 0<br>Death: 0",
          "Comfirmed: 1<br>Recovered: 0<br>Death: 0",
          "Comfirmed: 19<br>Recovered: 5<br>Death: 0",
          "Comfirmed: 15<br>Recovered: 1<br>Death: 0",
          "Comfirmed: 13<br>Recovered: 0<br>Death: 0",
          "Comfirmed: 11<br>Recovered: 0<br>Death: 0",
          "Comfirmed: 8<br>Recovered: 0<br>Death: 0",
          "Comfirmed: 5<br>Recovered: 0<br>Death: 0",
          "Comfirmed: 8<br>Recovered: 0<br>Death: 0",
          "Comfirmed: 4<br>Recovered: 2<br>Death: 0",
          "Comfirmed: 4<br>Recovered: 0<br>Death: 0",
          "Comfirmed: 3<br>Recovered: 0<br>Death: 0",
          "Comfirmed: 2<br>Recovered: 0<br>Death: 0",
          "Comfirmed: 2<br>Recovered: 0<br>Death: 0",
          "Comfirmed: 2<br>Recovered: 0<br>Death: 0",
          "Comfirmed: 2<br>Recovered: 0<br>Death: 0",
          "Comfirmed: 2<br>Recovered: 0<br>Death: 0",
          "Comfirmed: 2<br>Recovered: 0<br>Death: 0",
          "Comfirmed: 2<br>Recovered: 0<br>Death: 0",
          "Comfirmed: 2<br>Recovered: 0<br>Death: 0",
          "Comfirmed: 1<br>Recovered: 0<br>Death: 0",
          "Comfirmed: 1<br>Recovered: 0<br>Death: 0",
          "Comfirmed: 1<br>Recovered: 0<br>Death: 0",
          "Comfirmed: 1<br>Recovered: 0<br>Death: 0",
          "Comfirmed: 1<br>Recovered: 0<br>Death: 0",
          "Comfirmed: 1<br>Recovered: 0<br>Death: 0",
          "Comfirmed: 1<br>Recovered: 0<br>Death: 0",
          "Comfirmed: 1<br>Recovered: 0<br>Death: 0",
          "Comfirmed: 1<br>Recovered: 0<br>Death: 0",
          "Comfirmed: 1<br>Recovered: 0<br>Death: 0",
          "Comfirmed: 1<br>Recovered: 0<br>Death: 0"
         ],
         "lat": [
          31.151725199999998,
          29.000000099999998,
          23.135769399999997,
          34.0000001,
          27.6662087,
          28,
          32,
          29.5585712,
          36.0000001,
          30.500000099999998,
          33.0000001,
          39.906217,
          31.225298499999997,
          26.5450001,
          24,
          36,
          25,
          39.0000001,
          48.000004700000005,
          19.2000001,
          40.9739116,
          37,
          39.1235635,
          27,
          38.0000001,
          37.3095528,
          43.2443242,
          41.7574769,
          42.9995032,
          22.2793278,
          23.973937399999997,
          35.40709520000001,
          22.175760500000003,
          31.894343199999998,
          18.7544594,
          34.9046568,
          1.340863,
          36.5581914,
          4.5693754,
          45.1562575,
          48.9467562,
          -33.8548157,
          24.0002488,
          -37.814217600000006,
          40.079660600000004,
          36.7014631,
          13.2904027,
          50.000678,
          -27.468968199999996,
          46.3144754,
          54.702354500000006,
          48.278378499999995,
          38.894893200000006,
          34.395342,
          28.108392900000002,
          55.001251,
          13.5066394,
          7.189522099999999,
          63.2467777,
          12.750348599999999,
          16.387698699999998,
          63.4352121,
          39.3262345
         ],
         "lon": [
          112.87832220000001,
          119.9999999,
          113.19826880000001,
          113.9999999,
          111.74870630000001,
          116,
          117,
          106.5492822,
          118.9999999,
          102.4999999,
          119.9999999,
          116.3912757,
          121.4890497,
          117.84277800000001,
          109,
          109,
          102,
          116,
          127.99999199999999,
          109.5999999,
          122.3263915,
          112,
          117.1980785,
          107,
          101.9999999,
          105.9608553,
          114.32516640000001,
          87.1673842,
          125.9816054,
          114.16281310000001,
          120.9820179,
          95.95211570000001,
          113.5514142,
          87.07813709999999,
          100.624804,
          136.6310496,
          103.8303918,
          127.9408564,
          102.2656823,
          5.451582900000001,
          11.4038717,
          151.2164539,
          53.999482900000004,
          144.9631608,
          -89.4337288,
          -118.75599740000001,
          108.42651129999999,
          -86.000977,
          153.02349909999998,
          11.0480288,
          -3.2765752999999997,
          46.166364200000004,
          -77.0365529,
          -111.76327549999999,
          84.0917139,
          -125.00244099999999,
          104.869423,
          79.95485740000001,
          25.9209164,
          122.7312101,
          73.7305913,
          14.829086300000002,
          -4.838064900000001
         ],
         "marker": {
          "color": "#ff1414",
          "size": [
           7153,
           537,
           436,
           352,
           332,
           240,
           237,
           238,
           184,
           177,
           168,
           139,
           135,
           120,
           87,
           87,
           83,
           82,
           59,
           52,
           60,
           47,
           32,
           29,
           35,
           21,
           20,
           17,
           14,
           12,
           10,
           8,
           7,
           1,
           19,
           15,
           13,
           11,
           8,
           5,
           8,
           4,
           4,
           3,
           2,
           2,
           2,
           2,
           2,
           2,
           2,
           2,
           1,
           1,
           1,
           1,
           1,
           1,
           1,
           1,
           1,
           1,
           1
          ],
          "sizemin": 2,
          "sizemode": "area",
          "sizeref": 8.94125
         },
         "mode": "markers",
         "text": [
          "Hubei, China",
          "Zhejiang, China",
          "Guangdong, China",
          "Henan, China",
          "Hunan, China",
          "Jiangxi, China",
          "Anhui, China",
          "Chongqing, China",
          "Shandong, China",
          "Sichuan, China",
          "Jiangsu, China",
          "Beijing, China",
          "Shanghai, China",
          "Fujian, China",
          "Guangxi, China",
          "Shaanxi, China",
          "Yunnan, China",
          "Hebei, China",
          "Heilongjiang, China",
          "Hainan, China",
          "Liaoning, China",
          "Shanxi, China",
          "Tianjin, China",
          "Guizhou, China",
          "Gansu, China",
          "Ningxia, China",
          "Inner Mongolia, China",
          "Xinjiang, China",
          "Jilin, China",
          "Hong Kong",
          "Taiwan",
          "Qinghai, China",
          "Macau",
          "Tibet, China",
          "Thailand",
          "Japan",
          "Singapore",
          "South Korea",
          "Malaysia",
          "France",
          "Bavaria, Germany",
          "Sydney, Australia",
          "United Arab Emirates",
          "Melbourne, Australia",
          "Illinois, US",
          "California, US",
          "Vietnam",
          "Ontario, Canada",
          "Brisbane, Australia",
          "Italy",
          "UK",
          "Russia",
          "Washington, US",
          "Arizona, US",
          "Nepal",
          "British Columbia, Canada",
          "Cambodia",
          "Sri Lanka",
          "Finland",
          "Philippines",
          "India",
          "Sweden",
          "Spain"
         ],
         "type": "scattermapbox"
        }
       ],
       "layout": {
        "hovermode": "closest",
        "mapbox": {
         "accesstoken": "pk.eyJ1IjoicGxvdGx5bWFwYm94IiwiYSI6ImNqdnBvNDMyaTAxYzkzeW5ubWdpZ2VjbmMifQ.TXcBE-xg9BFdV2ocecc_7g",
         "bearing": 0,
         "center": {
          "lat": 29.53886,
          "lon": 173.304781
         },
         "pitch": 0,
         "style": "mapbox://styles/plotlymapbox/cjvprkf3t1kns1cqjxuxmwixz",
         "zoom": 2
        },
        "margin": {
         "b": 10,
         "l": 10,
         "pad": 40,
         "r": 10,
         "t": 50
        },
        "paper_bgcolor": "#272e3e",
        "plot_bgcolor": "#151920",
        "template": {
         "data": {
          "bar": [
           {
            "error_x": {
             "color": "#2a3f5f"
            },
            "error_y": {
             "color": "#2a3f5f"
            },
            "marker": {
             "line": {
              "color": "#E5ECF6",
              "width": 0.5
             }
            },
            "type": "bar"
           }
          ],
          "barpolar": [
           {
            "marker": {
             "line": {
              "color": "#E5ECF6",
              "width": 0.5
             }
            },
            "type": "barpolar"
           }
          ],
          "carpet": [
           {
            "aaxis": {
             "endlinecolor": "#2a3f5f",
             "gridcolor": "white",
             "linecolor": "white",
             "minorgridcolor": "white",
             "startlinecolor": "#2a3f5f"
            },
            "baxis": {
             "endlinecolor": "#2a3f5f",
             "gridcolor": "white",
             "linecolor": "white",
             "minorgridcolor": "white",
             "startlinecolor": "#2a3f5f"
            },
            "type": "carpet"
           }
          ],
          "choropleth": [
           {
            "colorbar": {
             "outlinewidth": 0,
             "ticks": ""
            },
            "type": "choropleth"
           }
          ],
          "contour": [
           {
            "colorbar": {
             "outlinewidth": 0,
             "ticks": ""
            },
            "colorscale": [
             [
              0,
              "#0d0887"
             ],
             [
              0.1111111111111111,
              "#46039f"
             ],
             [
              0.2222222222222222,
              "#7201a8"
             ],
             [
              0.3333333333333333,
              "#9c179e"
             ],
             [
              0.4444444444444444,
              "#bd3786"
             ],
             [
              0.5555555555555556,
              "#d8576b"
             ],
             [
              0.6666666666666666,
              "#ed7953"
             ],
             [
              0.7777777777777778,
              "#fb9f3a"
             ],
             [
              0.8888888888888888,
              "#fdca26"
             ],
             [
              1,
              "#f0f921"
             ]
            ],
            "type": "contour"
           }
          ],
          "contourcarpet": [
           {
            "colorbar": {
             "outlinewidth": 0,
             "ticks": ""
            },
            "type": "contourcarpet"
           }
          ],
          "heatmap": [
           {
            "colorbar": {
             "outlinewidth": 0,
             "ticks": ""
            },
            "colorscale": [
             [
              0,
              "#0d0887"
             ],
             [
              0.1111111111111111,
              "#46039f"
             ],
             [
              0.2222222222222222,
              "#7201a8"
             ],
             [
              0.3333333333333333,
              "#9c179e"
             ],
             [
              0.4444444444444444,
              "#bd3786"
             ],
             [
              0.5555555555555556,
              "#d8576b"
             ],
             [
              0.6666666666666666,
              "#ed7953"
             ],
             [
              0.7777777777777778,
              "#fb9f3a"
             ],
             [
              0.8888888888888888,
              "#fdca26"
             ],
             [
              1,
              "#f0f921"
             ]
            ],
            "type": "heatmap"
           }
          ],
          "heatmapgl": [
           {
            "colorbar": {
             "outlinewidth": 0,
             "ticks": ""
            },
            "colorscale": [
             [
              0,
              "#0d0887"
             ],
             [
              0.1111111111111111,
              "#46039f"
             ],
             [
              0.2222222222222222,
              "#7201a8"
             ],
             [
              0.3333333333333333,
              "#9c179e"
             ],
             [
              0.4444444444444444,
              "#bd3786"
             ],
             [
              0.5555555555555556,
              "#d8576b"
             ],
             [
              0.6666666666666666,
              "#ed7953"
             ],
             [
              0.7777777777777778,
              "#fb9f3a"
             ],
             [
              0.8888888888888888,
              "#fdca26"
             ],
             [
              1,
              "#f0f921"
             ]
            ],
            "type": "heatmapgl"
           }
          ],
          "histogram": [
           {
            "marker": {
             "colorbar": {
              "outlinewidth": 0,
              "ticks": ""
             }
            },
            "type": "histogram"
           }
          ],
          "histogram2d": [
           {
            "colorbar": {
             "outlinewidth": 0,
             "ticks": ""
            },
            "colorscale": [
             [
              0,
              "#0d0887"
             ],
             [
              0.1111111111111111,
              "#46039f"
             ],
             [
              0.2222222222222222,
              "#7201a8"
             ],
             [
              0.3333333333333333,
              "#9c179e"
             ],
             [
              0.4444444444444444,
              "#bd3786"
             ],
             [
              0.5555555555555556,
              "#d8576b"
             ],
             [
              0.6666666666666666,
              "#ed7953"
             ],
             [
              0.7777777777777778,
              "#fb9f3a"
             ],
             [
              0.8888888888888888,
              "#fdca26"
             ],
             [
              1,
              "#f0f921"
             ]
            ],
            "type": "histogram2d"
           }
          ],
          "histogram2dcontour": [
           {
            "colorbar": {
             "outlinewidth": 0,
             "ticks": ""
            },
            "colorscale": [
             [
              0,
              "#0d0887"
             ],
             [
              0.1111111111111111,
              "#46039f"
             ],
             [
              0.2222222222222222,
              "#7201a8"
             ],
             [
              0.3333333333333333,
              "#9c179e"
             ],
             [
              0.4444444444444444,
              "#bd3786"
             ],
             [
              0.5555555555555556,
              "#d8576b"
             ],
             [
              0.6666666666666666,
              "#ed7953"
             ],
             [
              0.7777777777777778,
              "#fb9f3a"
             ],
             [
              0.8888888888888888,
              "#fdca26"
             ],
             [
              1,
              "#f0f921"
             ]
            ],
            "type": "histogram2dcontour"
           }
          ],
          "mesh3d": [
           {
            "colorbar": {
             "outlinewidth": 0,
             "ticks": ""
            },
            "type": "mesh3d"
           }
          ],
          "parcoords": [
           {
            "line": {
             "colorbar": {
              "outlinewidth": 0,
              "ticks": ""
             }
            },
            "type": "parcoords"
           }
          ],
          "pie": [
           {
            "automargin": true,
            "type": "pie"
           }
          ],
          "scatter": [
           {
            "marker": {
             "colorbar": {
              "outlinewidth": 0,
              "ticks": ""
             }
            },
            "type": "scatter"
           }
          ],
          "scatter3d": [
           {
            "line": {
             "colorbar": {
              "outlinewidth": 0,
              "ticks": ""
             }
            },
            "marker": {
             "colorbar": {
              "outlinewidth": 0,
              "ticks": ""
             }
            },
            "type": "scatter3d"
           }
          ],
          "scattercarpet": [
           {
            "marker": {
             "colorbar": {
              "outlinewidth": 0,
              "ticks": ""
             }
            },
            "type": "scattercarpet"
           }
          ],
          "scattergeo": [
           {
            "marker": {
             "colorbar": {
              "outlinewidth": 0,
              "ticks": ""
             }
            },
            "type": "scattergeo"
           }
          ],
          "scattergl": [
           {
            "marker": {
             "colorbar": {
              "outlinewidth": 0,
              "ticks": ""
             }
            },
            "type": "scattergl"
           }
          ],
          "scattermapbox": [
           {
            "marker": {
             "colorbar": {
              "outlinewidth": 0,
              "ticks": ""
             }
            },
            "type": "scattermapbox"
           }
          ],
          "scatterpolar": [
           {
            "marker": {
             "colorbar": {
              "outlinewidth": 0,
              "ticks": ""
             }
            },
            "type": "scatterpolar"
           }
          ],
          "scatterpolargl": [
           {
            "marker": {
             "colorbar": {
              "outlinewidth": 0,
              "ticks": ""
             }
            },
            "type": "scatterpolargl"
           }
          ],
          "scatterternary": [
           {
            "marker": {
             "colorbar": {
              "outlinewidth": 0,
              "ticks": ""
             }
            },
            "type": "scatterternary"
           }
          ],
          "surface": [
           {
            "colorbar": {
             "outlinewidth": 0,
             "ticks": ""
            },
            "colorscale": [
             [
              0,
              "#0d0887"
             ],
             [
              0.1111111111111111,
              "#46039f"
             ],
             [
              0.2222222222222222,
              "#7201a8"
             ],
             [
              0.3333333333333333,
              "#9c179e"
             ],
             [
              0.4444444444444444,
              "#bd3786"
             ],
             [
              0.5555555555555556,
              "#d8576b"
             ],
             [
              0.6666666666666666,
              "#ed7953"
             ],
             [
              0.7777777777777778,
              "#fb9f3a"
             ],
             [
              0.8888888888888888,
              "#fdca26"
             ],
             [
              1,
              "#f0f921"
             ]
            ],
            "type": "surface"
           }
          ],
          "table": [
           {
            "cells": {
             "fill": {
              "color": "#EBF0F8"
             },
             "line": {
              "color": "white"
             }
            },
            "header": {
             "fill": {
              "color": "#C8D4E3"
             },
             "line": {
              "color": "white"
             }
            },
            "type": "table"
           }
          ]
         },
         "layout": {
          "annotationdefaults": {
           "arrowcolor": "#2a3f5f",
           "arrowhead": 0,
           "arrowwidth": 1
          },
          "coloraxis": {
           "colorbar": {
            "outlinewidth": 0,
            "ticks": ""
           }
          },
          "colorscale": {
           "diverging": [
            [
             0,
             "#8e0152"
            ],
            [
             0.1,
             "#c51b7d"
            ],
            [
             0.2,
             "#de77ae"
            ],
            [
             0.3,
             "#f1b6da"
            ],
            [
             0.4,
             "#fde0ef"
            ],
            [
             0.5,
             "#f7f7f7"
            ],
            [
             0.6,
             "#e6f5d0"
            ],
            [
             0.7,
             "#b8e186"
            ],
            [
             0.8,
             "#7fbc41"
            ],
            [
             0.9,
             "#4d9221"
            ],
            [
             1,
             "#276419"
            ]
           ],
           "sequential": [
            [
             0,
             "#0d0887"
            ],
            [
             0.1111111111111111,
             "#46039f"
            ],
            [
             0.2222222222222222,
             "#7201a8"
            ],
            [
             0.3333333333333333,
             "#9c179e"
            ],
            [
             0.4444444444444444,
             "#bd3786"
            ],
            [
             0.5555555555555556,
             "#d8576b"
            ],
            [
             0.6666666666666666,
             "#ed7953"
            ],
            [
             0.7777777777777778,
             "#fb9f3a"
            ],
            [
             0.8888888888888888,
             "#fdca26"
            ],
            [
             1,
             "#f0f921"
            ]
           ],
           "sequentialminus": [
            [
             0,
             "#0d0887"
            ],
            [
             0.1111111111111111,
             "#46039f"
            ],
            [
             0.2222222222222222,
             "#7201a8"
            ],
            [
             0.3333333333333333,
             "#9c179e"
            ],
            [
             0.4444444444444444,
             "#bd3786"
            ],
            [
             0.5555555555555556,
             "#d8576b"
            ],
            [
             0.6666666666666666,
             "#ed7953"
            ],
            [
             0.7777777777777778,
             "#fb9f3a"
            ],
            [
             0.8888888888888888,
             "#fdca26"
            ],
            [
             1,
             "#f0f921"
            ]
           ]
          },
          "colorway": [
           "#636efa",
           "#EF553B",
           "#00cc96",
           "#ab63fa",
           "#FFA15A",
           "#19d3f3",
           "#FF6692",
           "#B6E880",
           "#FF97FF",
           "#FECB52"
          ],
          "font": {
           "color": "#2a3f5f"
          },
          "geo": {
           "bgcolor": "white",
           "lakecolor": "white",
           "landcolor": "#E5ECF6",
           "showlakes": true,
           "showland": true,
           "subunitcolor": "white"
          },
          "hoverlabel": {
           "align": "left"
          },
          "hovermode": "closest",
          "mapbox": {
           "style": "light"
          },
          "paper_bgcolor": "white",
          "plot_bgcolor": "#E5ECF6",
          "polar": {
           "angularaxis": {
            "gridcolor": "white",
            "linecolor": "white",
            "ticks": ""
           },
           "bgcolor": "#E5ECF6",
           "radialaxis": {
            "gridcolor": "white",
            "linecolor": "white",
            "ticks": ""
           }
          },
          "scene": {
           "xaxis": {
            "backgroundcolor": "#E5ECF6",
            "gridcolor": "white",
            "gridwidth": 2,
            "linecolor": "white",
            "showbackground": true,
            "ticks": "",
            "zerolinecolor": "white"
           },
           "yaxis": {
            "backgroundcolor": "#E5ECF6",
            "gridcolor": "white",
            "gridwidth": 2,
            "linecolor": "white",
            "showbackground": true,
            "ticks": "",
            "zerolinecolor": "white"
           },
           "zaxis": {
            "backgroundcolor": "#E5ECF6",
            "gridcolor": "white",
            "gridwidth": 2,
            "linecolor": "white",
            "showbackground": true,
            "ticks": "",
            "zerolinecolor": "white"
           }
          },
          "shapedefaults": {
           "line": {
            "color": "#2a3f5f"
           }
          },
          "ternary": {
           "aaxis": {
            "gridcolor": "white",
            "linecolor": "white",
            "ticks": ""
           },
           "baxis": {
            "gridcolor": "white",
            "linecolor": "white",
            "ticks": ""
           },
           "bgcolor": "#E5ECF6",
           "caxis": {
            "gridcolor": "white",
            "linecolor": "white",
            "ticks": ""
           }
          },
          "title": {
           "x": 0.05
          },
          "xaxis": {
           "automargin": true,
           "gridcolor": "white",
           "linecolor": "white",
           "ticks": "",
           "title": {
            "standoff": 15
           },
           "zerolinecolor": "white",
           "zerolinewidth": 2
          },
          "yaxis": {
           "automargin": true,
           "gridcolor": "white",
           "linecolor": "white",
           "ticks": "",
           "title": {
            "standoff": 15
           },
           "zerolinecolor": "white",
           "zerolinewidth": 2
          }
         }
        },
        "title": {
         "font": {
          "color": "#7fafdf",
          "family": "Playfair Display",
          "size": 20
         },
         "text": "<b>Latest Coronavirus Outbreak Map<b>",
         "x": 0.5,
         "xanchor": "center",
         "y": 0.96,
         "yanchor": "top"
        }
       }
      },
      "text/html": [
       "<div>\n",
       "        \n",
       "        \n",
       "            <div id=\"45ef332b-838b-4e68-bd5c-176b21980ab0\" class=\"plotly-graph-div\" style=\"height:525px; width:100%;\"></div>\n",
       "            <script type=\"text/javascript\">\n",
       "                require([\"plotly\"], function(Plotly) {\n",
       "                    window.PLOTLYENV=window.PLOTLYENV || {};\n",
       "                    \n",
       "                if (document.getElementById(\"45ef332b-838b-4e68-bd5c-176b21980ab0\")) {\n",
       "                    Plotly.newPlot(\n",
       "                        '45ef332b-838b-4e68-bd5c-176b21980ab0',\n",
       "                        [{\"hovertemplate\": \"<b>%{text}</b><br><br>%{hovertext}<br><extra></extra>\", \"hovertext\": [\"Comfirmed: 7153<br>Recovered: 159<br>Death: 249\", \"Comfirmed: 537<br>Recovered: 11<br>Death: 0\", \"Comfirmed: 436<br>Recovered: 11<br>Death: 0\", \"Comfirmed: 352<br>Recovered: 3<br>Death: 2\", \"Comfirmed: 332<br>Recovered: 2<br>Death: 0\", \"Comfirmed: 240<br>Recovered: 7<br>Death: 0\", \"Comfirmed: 237<br>Recovered: 3<br>Death: 0\", \"Comfirmed: 238<br>Recovered: 1<br>Death: 0\", \"Comfirmed: 184<br>Recovered: 2<br>Death: 0\", \"Comfirmed: 177<br>Recovered: 1<br>Death: 1\", \"Comfirmed: 168<br>Recovered: 5<br>Death: 0\", \"Comfirmed: 139<br>Recovered: 5<br>Death: 1\", \"Comfirmed: 135<br>Recovered: 9<br>Death: 1\", \"Comfirmed: 120<br>Recovered: 0<br>Death: 0\", \"Comfirmed: 87<br>Recovered: 2<br>Death: 0\", \"Comfirmed: 87<br>Recovered: 0<br>Death: 0\", \"Comfirmed: 83<br>Recovered: 1<br>Death: 0\", \"Comfirmed: 82<br>Recovered: 0<br>Death: 1\", \"Comfirmed: 59<br>Recovered: 0<br>Death: 2\", \"Comfirmed: 52<br>Recovered: 1<br>Death: 1\", \"Comfirmed: 60<br>Recovered: 1<br>Death: 0\", \"Comfirmed: 47<br>Recovered: 1<br>Death: 0\", \"Comfirmed: 32<br>Recovered: 0<br>Death: 0\", \"Comfirmed: 29<br>Recovered: 2<br>Death: 0\", \"Comfirmed: 35<br>Recovered: 0<br>Death: 0\", \"Comfirmed: 21<br>Recovered: 0<br>Death: 0\", \"Comfirmed: 20<br>Recovered: 1<br>Death: 0\", \"Comfirmed: 17<br>Recovered: 0<br>Death: 0\", \"Comfirmed: 14<br>Recovered: 0<br>Death: 0\", \"Comfirmed: 12<br>Recovered: 0<br>Death: 0\", \"Comfirmed: 10<br>Recovered: 0<br>Death: 0\", \"Comfirmed: 8<br>Recovered: 0<br>Death: 0\", \"Comfirmed: 7<br>Recovered: 0<br>Death: 0\", \"Comfirmed: 1<br>Recovered: 0<br>Death: 0\", \"Comfirmed: 19<br>Recovered: 5<br>Death: 0\", \"Comfirmed: 15<br>Recovered: 1<br>Death: 0\", \"Comfirmed: 13<br>Recovered: 0<br>Death: 0\", \"Comfirmed: 11<br>Recovered: 0<br>Death: 0\", \"Comfirmed: 8<br>Recovered: 0<br>Death: 0\", \"Comfirmed: 5<br>Recovered: 0<br>Death: 0\", \"Comfirmed: 8<br>Recovered: 0<br>Death: 0\", \"Comfirmed: 4<br>Recovered: 2<br>Death: 0\", \"Comfirmed: 4<br>Recovered: 0<br>Death: 0\", \"Comfirmed: 3<br>Recovered: 0<br>Death: 0\", \"Comfirmed: 2<br>Recovered: 0<br>Death: 0\", \"Comfirmed: 2<br>Recovered: 0<br>Death: 0\", \"Comfirmed: 2<br>Recovered: 0<br>Death: 0\", \"Comfirmed: 2<br>Recovered: 0<br>Death: 0\", \"Comfirmed: 2<br>Recovered: 0<br>Death: 0\", \"Comfirmed: 2<br>Recovered: 0<br>Death: 0\", \"Comfirmed: 2<br>Recovered: 0<br>Death: 0\", \"Comfirmed: 2<br>Recovered: 0<br>Death: 0\", \"Comfirmed: 1<br>Recovered: 0<br>Death: 0\", \"Comfirmed: 1<br>Recovered: 0<br>Death: 0\", \"Comfirmed: 1<br>Recovered: 0<br>Death: 0\", \"Comfirmed: 1<br>Recovered: 0<br>Death: 0\", \"Comfirmed: 1<br>Recovered: 0<br>Death: 0\", \"Comfirmed: 1<br>Recovered: 0<br>Death: 0\", \"Comfirmed: 1<br>Recovered: 0<br>Death: 0\", \"Comfirmed: 1<br>Recovered: 0<br>Death: 0\", \"Comfirmed: 1<br>Recovered: 0<br>Death: 0\", \"Comfirmed: 1<br>Recovered: 0<br>Death: 0\", \"Comfirmed: 1<br>Recovered: 0<br>Death: 0\"], \"lat\": [31.151725199999998, 29.000000099999998, 23.135769399999997, 34.0000001, 27.6662087, 28.0, 32.0, 29.5585712, 36.0000001, 30.500000099999998, 33.0000001, 39.906217, 31.225298499999997, 26.5450001, 24.0, 36.0, 25.0, 39.0000001, 48.000004700000005, 19.2000001, 40.9739116, 37.0, 39.1235635, 27.0, 38.0000001, 37.3095528, 43.2443242, 41.7574769, 42.9995032, 22.2793278, 23.973937399999997, 35.40709520000001, 22.175760500000003, 31.894343199999998, 18.7544594, 34.9046568, 1.340863, 36.5581914, 4.5693754, 45.1562575, 48.9467562, -33.8548157, 24.0002488, -37.814217600000006, 40.079660600000004, 36.7014631, 13.2904027, 50.000678, -27.468968199999996, 46.3144754, 54.702354500000006, 48.278378499999995, 38.894893200000006, 34.395342, 28.108392900000002, 55.001251, 13.5066394, 7.189522099999999, 63.2467777, 12.750348599999999, 16.387698699999998, 63.4352121, 39.3262345], \"lon\": [112.87832220000001, 119.9999999, 113.19826880000001, 113.9999999, 111.74870630000001, 116.0, 117.0, 106.5492822, 118.9999999, 102.4999999, 119.9999999, 116.3912757, 121.4890497, 117.84277800000001, 109.0, 109.0, 102.0, 116.0, 127.99999199999999, 109.5999999, 122.3263915, 112.0, 117.1980785, 107.0, 101.9999999, 105.9608553, 114.32516640000001, 87.1673842, 125.9816054, 114.16281310000001, 120.9820179, 95.95211570000001, 113.5514142, 87.07813709999999, 100.624804, 136.6310496, 103.8303918, 127.9408564, 102.2656823, 5.451582900000001, 11.4038717, 151.2164539, 53.999482900000004, 144.9631608, -89.4337288, -118.75599740000001, 108.42651129999999, -86.000977, 153.02349909999998, 11.0480288, -3.2765752999999997, 46.166364200000004, -77.0365529, -111.76327549999999, 84.0917139, -125.00244099999999, 104.869423, 79.95485740000001, 25.9209164, 122.7312101, 73.7305913, 14.829086300000002, -4.838064900000001], \"marker\": {\"color\": \"#ff1414\", \"size\": [7153, 537, 436, 352, 332, 240, 237, 238, 184, 177, 168, 139, 135, 120, 87, 87, 83, 82, 59, 52, 60, 47, 32, 29, 35, 21, 20, 17, 14, 12, 10, 8, 7, 1, 19, 15, 13, 11, 8, 5, 8, 4, 4, 3, 2, 2, 2, 2, 2, 2, 2, 2, 1, 1, 1, 1, 1, 1, 1, 1, 1, 1, 1], \"sizemin\": 2, \"sizemode\": \"area\", \"sizeref\": 8.94125}, \"mode\": \"markers\", \"text\": [\"Hubei, China\", \"Zhejiang, China\", \"Guangdong, China\", \"Henan, China\", \"Hunan, China\", \"Jiangxi, China\", \"Anhui, China\", \"Chongqing, China\", \"Shandong, China\", \"Sichuan, China\", \"Jiangsu, China\", \"Beijing, China\", \"Shanghai, China\", \"Fujian, China\", \"Guangxi, China\", \"Shaanxi, China\", \"Yunnan, China\", \"Hebei, China\", \"Heilongjiang, China\", \"Hainan, China\", \"Liaoning, China\", \"Shanxi, China\", \"Tianjin, China\", \"Guizhou, China\", \"Gansu, China\", \"Ningxia, China\", \"Inner Mongolia, China\", \"Xinjiang, China\", \"Jilin, China\", \"Hong Kong\", \"Taiwan\", \"Qinghai, China\", \"Macau\", \"Tibet, China\", \"Thailand\", \"Japan\", \"Singapore\", \"South Korea\", \"Malaysia\", \"France\", \"Bavaria, Germany\", \"Sydney, Australia\", \"United Arab Emirates\", \"Melbourne, Australia\", \"Illinois, US\", \"California, US\", \"Vietnam\", \"Ontario, Canada\", \"Brisbane, Australia\", \"Italy\", \"UK\", \"Russia\", \"Washington, US\", \"Arizona, US\", \"Nepal\", \"British Columbia, Canada\", \"Cambodia\", \"Sri Lanka\", \"Finland\", \"Philippines\", \"India\", \"Sweden\", \"Spain\"], \"type\": \"scattermapbox\"}],\n",
       "                        {\"hovermode\": \"closest\", \"mapbox\": {\"accesstoken\": \"pk.eyJ1IjoicGxvdGx5bWFwYm94IiwiYSI6ImNqdnBvNDMyaTAxYzkzeW5ubWdpZ2VjbmMifQ.TXcBE-xg9BFdV2ocecc_7g\", \"bearing\": 0, \"center\": {\"lat\": 29.53886, \"lon\": 173.304781}, \"pitch\": 0, \"style\": \"mapbox://styles/plotlymapbox/cjvprkf3t1kns1cqjxuxmwixz\", \"zoom\": 2}, \"margin\": {\"b\": 10, \"l\": 10, \"pad\": 40, \"r\": 10, \"t\": 50}, \"paper_bgcolor\": \"#272e3e\", \"plot_bgcolor\": \"#151920\", \"template\": {\"data\": {\"bar\": [{\"error_x\": {\"color\": \"#2a3f5f\"}, \"error_y\": {\"color\": \"#2a3f5f\"}, \"marker\": {\"line\": {\"color\": \"#E5ECF6\", \"width\": 0.5}}, \"type\": \"bar\"}], \"barpolar\": [{\"marker\": {\"line\": {\"color\": \"#E5ECF6\", \"width\": 0.5}}, \"type\": \"barpolar\"}], \"carpet\": [{\"aaxis\": {\"endlinecolor\": \"#2a3f5f\", \"gridcolor\": \"white\", \"linecolor\": \"white\", \"minorgridcolor\": \"white\", \"startlinecolor\": \"#2a3f5f\"}, \"baxis\": {\"endlinecolor\": \"#2a3f5f\", \"gridcolor\": \"white\", \"linecolor\": \"white\", \"minorgridcolor\": \"white\", \"startlinecolor\": \"#2a3f5f\"}, \"type\": \"carpet\"}], \"choropleth\": [{\"colorbar\": {\"outlinewidth\": 0, \"ticks\": \"\"}, \"type\": \"choropleth\"}], \"contour\": [{\"colorbar\": {\"outlinewidth\": 0, \"ticks\": \"\"}, \"colorscale\": [[0.0, \"#0d0887\"], [0.1111111111111111, \"#46039f\"], [0.2222222222222222, \"#7201a8\"], [0.3333333333333333, \"#9c179e\"], [0.4444444444444444, \"#bd3786\"], [0.5555555555555556, \"#d8576b\"], [0.6666666666666666, \"#ed7953\"], [0.7777777777777778, \"#fb9f3a\"], [0.8888888888888888, \"#fdca26\"], [1.0, \"#f0f921\"]], \"type\": \"contour\"}], \"contourcarpet\": [{\"colorbar\": {\"outlinewidth\": 0, \"ticks\": \"\"}, \"type\": \"contourcarpet\"}], \"heatmap\": [{\"colorbar\": {\"outlinewidth\": 0, \"ticks\": \"\"}, \"colorscale\": [[0.0, \"#0d0887\"], [0.1111111111111111, \"#46039f\"], [0.2222222222222222, \"#7201a8\"], [0.3333333333333333, \"#9c179e\"], [0.4444444444444444, \"#bd3786\"], [0.5555555555555556, \"#d8576b\"], [0.6666666666666666, \"#ed7953\"], [0.7777777777777778, \"#fb9f3a\"], [0.8888888888888888, \"#fdca26\"], [1.0, \"#f0f921\"]], \"type\": \"heatmap\"}], \"heatmapgl\": [{\"colorbar\": {\"outlinewidth\": 0, \"ticks\": \"\"}, \"colorscale\": [[0.0, \"#0d0887\"], [0.1111111111111111, \"#46039f\"], [0.2222222222222222, \"#7201a8\"], [0.3333333333333333, \"#9c179e\"], [0.4444444444444444, \"#bd3786\"], [0.5555555555555556, \"#d8576b\"], [0.6666666666666666, \"#ed7953\"], [0.7777777777777778, \"#fb9f3a\"], [0.8888888888888888, \"#fdca26\"], [1.0, \"#f0f921\"]], \"type\": \"heatmapgl\"}], \"histogram\": [{\"marker\": {\"colorbar\": {\"outlinewidth\": 0, \"ticks\": \"\"}}, \"type\": \"histogram\"}], \"histogram2d\": [{\"colorbar\": {\"outlinewidth\": 0, \"ticks\": \"\"}, \"colorscale\": [[0.0, \"#0d0887\"], [0.1111111111111111, \"#46039f\"], [0.2222222222222222, \"#7201a8\"], [0.3333333333333333, \"#9c179e\"], [0.4444444444444444, \"#bd3786\"], [0.5555555555555556, \"#d8576b\"], [0.6666666666666666, \"#ed7953\"], [0.7777777777777778, \"#fb9f3a\"], [0.8888888888888888, \"#fdca26\"], [1.0, \"#f0f921\"]], \"type\": \"histogram2d\"}], \"histogram2dcontour\": [{\"colorbar\": {\"outlinewidth\": 0, \"ticks\": \"\"}, \"colorscale\": [[0.0, \"#0d0887\"], [0.1111111111111111, \"#46039f\"], [0.2222222222222222, \"#7201a8\"], [0.3333333333333333, \"#9c179e\"], [0.4444444444444444, \"#bd3786\"], [0.5555555555555556, \"#d8576b\"], [0.6666666666666666, \"#ed7953\"], [0.7777777777777778, \"#fb9f3a\"], [0.8888888888888888, \"#fdca26\"], [1.0, \"#f0f921\"]], \"type\": \"histogram2dcontour\"}], \"mesh3d\": [{\"colorbar\": {\"outlinewidth\": 0, \"ticks\": \"\"}, \"type\": \"mesh3d\"}], \"parcoords\": [{\"line\": {\"colorbar\": {\"outlinewidth\": 0, \"ticks\": \"\"}}, \"type\": \"parcoords\"}], \"pie\": [{\"automargin\": true, \"type\": \"pie\"}], \"scatter\": [{\"marker\": {\"colorbar\": {\"outlinewidth\": 0, \"ticks\": \"\"}}, \"type\": \"scatter\"}], \"scatter3d\": [{\"line\": {\"colorbar\": {\"outlinewidth\": 0, \"ticks\": \"\"}}, \"marker\": {\"colorbar\": {\"outlinewidth\": 0, \"ticks\": \"\"}}, \"type\": \"scatter3d\"}], \"scattercarpet\": [{\"marker\": {\"colorbar\": {\"outlinewidth\": 0, \"ticks\": \"\"}}, \"type\": \"scattercarpet\"}], \"scattergeo\": [{\"marker\": {\"colorbar\": {\"outlinewidth\": 0, \"ticks\": \"\"}}, \"type\": \"scattergeo\"}], \"scattergl\": [{\"marker\": {\"colorbar\": {\"outlinewidth\": 0, \"ticks\": \"\"}}, \"type\": \"scattergl\"}], \"scattermapbox\": [{\"marker\": {\"colorbar\": {\"outlinewidth\": 0, \"ticks\": \"\"}}, \"type\": \"scattermapbox\"}], \"scatterpolar\": [{\"marker\": {\"colorbar\": {\"outlinewidth\": 0, \"ticks\": \"\"}}, \"type\": \"scatterpolar\"}], \"scatterpolargl\": [{\"marker\": {\"colorbar\": {\"outlinewidth\": 0, \"ticks\": \"\"}}, \"type\": \"scatterpolargl\"}], \"scatterternary\": [{\"marker\": {\"colorbar\": {\"outlinewidth\": 0, \"ticks\": \"\"}}, \"type\": \"scatterternary\"}], \"surface\": [{\"colorbar\": {\"outlinewidth\": 0, \"ticks\": \"\"}, \"colorscale\": [[0.0, \"#0d0887\"], [0.1111111111111111, \"#46039f\"], [0.2222222222222222, \"#7201a8\"], [0.3333333333333333, \"#9c179e\"], [0.4444444444444444, \"#bd3786\"], [0.5555555555555556, \"#d8576b\"], [0.6666666666666666, \"#ed7953\"], [0.7777777777777778, \"#fb9f3a\"], [0.8888888888888888, \"#fdca26\"], [1.0, \"#f0f921\"]], \"type\": \"surface\"}], \"table\": [{\"cells\": {\"fill\": {\"color\": \"#EBF0F8\"}, \"line\": {\"color\": \"white\"}}, \"header\": {\"fill\": {\"color\": \"#C8D4E3\"}, \"line\": {\"color\": \"white\"}}, \"type\": \"table\"}]}, \"layout\": {\"annotationdefaults\": {\"arrowcolor\": \"#2a3f5f\", \"arrowhead\": 0, \"arrowwidth\": 1}, \"coloraxis\": {\"colorbar\": {\"outlinewidth\": 0, \"ticks\": \"\"}}, \"colorscale\": {\"diverging\": [[0, \"#8e0152\"], [0.1, \"#c51b7d\"], [0.2, \"#de77ae\"], [0.3, \"#f1b6da\"], [0.4, \"#fde0ef\"], [0.5, \"#f7f7f7\"], [0.6, \"#e6f5d0\"], [0.7, \"#b8e186\"], [0.8, \"#7fbc41\"], [0.9, \"#4d9221\"], [1, \"#276419\"]], \"sequential\": [[0.0, \"#0d0887\"], [0.1111111111111111, \"#46039f\"], [0.2222222222222222, \"#7201a8\"], [0.3333333333333333, \"#9c179e\"], [0.4444444444444444, \"#bd3786\"], [0.5555555555555556, \"#d8576b\"], [0.6666666666666666, \"#ed7953\"], [0.7777777777777778, \"#fb9f3a\"], [0.8888888888888888, \"#fdca26\"], [1.0, \"#f0f921\"]], \"sequentialminus\": [[0.0, \"#0d0887\"], [0.1111111111111111, \"#46039f\"], [0.2222222222222222, \"#7201a8\"], [0.3333333333333333, \"#9c179e\"], [0.4444444444444444, \"#bd3786\"], [0.5555555555555556, \"#d8576b\"], [0.6666666666666666, \"#ed7953\"], [0.7777777777777778, \"#fb9f3a\"], [0.8888888888888888, \"#fdca26\"], [1.0, \"#f0f921\"]]}, \"colorway\": [\"#636efa\", \"#EF553B\", \"#00cc96\", \"#ab63fa\", \"#FFA15A\", \"#19d3f3\", \"#FF6692\", \"#B6E880\", \"#FF97FF\", \"#FECB52\"], \"font\": {\"color\": \"#2a3f5f\"}, \"geo\": {\"bgcolor\": \"white\", \"lakecolor\": \"white\", \"landcolor\": \"#E5ECF6\", \"showlakes\": true, \"showland\": true, \"subunitcolor\": \"white\"}, \"hoverlabel\": {\"align\": \"left\"}, \"hovermode\": \"closest\", \"mapbox\": {\"style\": \"light\"}, \"paper_bgcolor\": \"white\", \"plot_bgcolor\": \"#E5ECF6\", \"polar\": {\"angularaxis\": {\"gridcolor\": \"white\", \"linecolor\": \"white\", \"ticks\": \"\"}, \"bgcolor\": \"#E5ECF6\", \"radialaxis\": {\"gridcolor\": \"white\", \"linecolor\": \"white\", \"ticks\": \"\"}}, \"scene\": {\"xaxis\": {\"backgroundcolor\": \"#E5ECF6\", \"gridcolor\": \"white\", \"gridwidth\": 2, \"linecolor\": \"white\", \"showbackground\": true, \"ticks\": \"\", \"zerolinecolor\": \"white\"}, \"yaxis\": {\"backgroundcolor\": \"#E5ECF6\", \"gridcolor\": \"white\", \"gridwidth\": 2, \"linecolor\": \"white\", \"showbackground\": true, \"ticks\": \"\", \"zerolinecolor\": \"white\"}, \"zaxis\": {\"backgroundcolor\": \"#E5ECF6\", \"gridcolor\": \"white\", \"gridwidth\": 2, \"linecolor\": \"white\", \"showbackground\": true, \"ticks\": \"\", \"zerolinecolor\": \"white\"}}, \"shapedefaults\": {\"line\": {\"color\": \"#2a3f5f\"}}, \"ternary\": {\"aaxis\": {\"gridcolor\": \"white\", \"linecolor\": \"white\", \"ticks\": \"\"}, \"baxis\": {\"gridcolor\": \"white\", \"linecolor\": \"white\", \"ticks\": \"\"}, \"bgcolor\": \"#E5ECF6\", \"caxis\": {\"gridcolor\": \"white\", \"linecolor\": \"white\", \"ticks\": \"\"}}, \"title\": {\"x\": 0.05}, \"xaxis\": {\"automargin\": true, \"gridcolor\": \"white\", \"linecolor\": \"white\", \"ticks\": \"\", \"title\": {\"standoff\": 15}, \"zerolinecolor\": \"white\", \"zerolinewidth\": 2}, \"yaxis\": {\"automargin\": true, \"gridcolor\": \"white\", \"linecolor\": \"white\", \"ticks\": \"\", \"title\": {\"standoff\": 15}, \"zerolinecolor\": \"white\", \"zerolinewidth\": 2}}}, \"title\": {\"font\": {\"color\": \"#7fafdf\", \"family\": \"Playfair Display\", \"size\": 20}, \"text\": \"<b>Latest Coronavirus Outbreak Map<b>\", \"x\": 0.5, \"xanchor\": \"center\", \"y\": 0.96, \"yanchor\": \"top\"}},\n",
       "                        {\"responsive\": true}\n",
       "                    ).then(function(){\n",
       "                            \n",
       "var gd = document.getElementById('45ef332b-838b-4e68-bd5c-176b21980ab0');\n",
       "var x = new MutationObserver(function (mutations, observer) {{\n",
       "        var display = window.getComputedStyle(gd).display;\n",
       "        if (!display || display === 'none') {{\n",
       "            console.log([gd, 'removed!']);\n",
       "            Plotly.purge(gd);\n",
       "            observer.disconnect();\n",
       "        }}\n",
       "}});\n",
       "\n",
       "// Listen for the removal of the full notebook cells\n",
       "var notebookContainer = gd.closest('#notebook-container');\n",
       "if (notebookContainer) {{\n",
       "    x.observe(notebookContainer, {childList: true});\n",
       "}}\n",
       "\n",
       "// Listen for the clearing of the current output cell\n",
       "var outputEl = gd.closest('.output');\n",
       "if (outputEl) {{\n",
       "    x.observe(outputEl, {childList: true});\n",
       "}}\n",
       "\n",
       "                        })\n",
       "                };\n",
       "                });\n",
       "            </script>\n",
       "        </div>"
      ]
     },
     "metadata": {},
     "output_type": "display_data"
    }
   ],
   "source": [
    "mapbox_access_token = \"pk.eyJ1IjoicGxvdGx5bWFwYm94IiwiYSI6ImNqdnBvNDMyaTAxYzkzeW5ubWdpZ2VjbmMifQ.TXcBE-xg9BFdV2ocecc_7g\"\n",
    "\n",
    "textList=[]\n",
    "for area, region in zip(dfs[keyList[0]]['Province/State'], dfs[keyList[0]]['Country/Region']):\n",
    "    \n",
    "    if type(area) is str:\n",
    "        if region == \"Hong Kong\" or region == \"Macau\" or region == \"Taiwan\":\n",
    "            textList.append(area)\n",
    "        else:\n",
    "            textList.append(area+', '+region)\n",
    "    else:\n",
    "        textList.append(region)\n",
    "\n",
    "fig2 = go.Figure(go.Scattermapbox(\n",
    "        lat=dfs[keyList[0]]['lat'],\n",
    "        lon=dfs[keyList[0]]['lon'],\n",
    "        mode='markers',\n",
    "        marker=go.scattermapbox.Marker(\n",
    "            color='#ff1414',\n",
    "            size=dfs[keyList[0]]['Confirmed'].tolist(), \n",
    "            sizemin=2,\n",
    "            sizemode='area',\n",
    "            sizeref=2.*max(dfs[keyList[0]]['Confirmed'].tolist())/(40.**2),\n",
    "        ),\n",
    "        text=textList,\n",
    "        hovertext=['Comfirmed: {}<br>Recovered: {}<br>Death: {}'.format(i, j, k) for i, j, k in zip(dfs[keyList[0]]['Confirmed'],\n",
    "                                                                                                    dfs[keyList[0]]['Recovered'],\n",
    "                                                                                                    dfs[keyList[0]]['Deaths'])],\n",
    "    \n",
    "        hovertemplate = \"<b>%{text}</b><br><br>\" +\n",
    "                        \"%{hovertext}<br>\" +\n",
    "                        \"<extra></extra>\")\n",
    "    \n",
    "        )\n",
    "\n",
    "fig2.update_layout(\n",
    "    title=dict(\n",
    "        text=\"<b>Latest Coronavirus Outbreak Map<b>\",\n",
    "        y=0.96, x=0.5, xanchor='center', yanchor='top',\n",
    "        font=dict(size=20, color=\"#7fafdf\", family=\"Playfair Display\")\n",
    "    ),\n",
    "    plot_bgcolor='#151920',\n",
    "    paper_bgcolor='#272e3e',\n",
    "    margin=go.layout.Margin(\n",
    "        l=10,\n",
    "        r=10,\n",
    "        b=10,\n",
    "        t=50,\n",
    "        pad=40\n",
    "    ),\n",
    "    hovermode='closest',\n",
    "    mapbox=go.layout.Mapbox(\n",
    "        accesstoken=mapbox_access_token,\n",
    "        style=\"mapbox://styles/plotlymapbox/cjvprkf3t1kns1cqjxuxmwixz\",\n",
    "        bearing=0,\n",
    "        center=go.layout.mapbox.Center(\n",
    "            lat=29.538860, \n",
    "            lon=173.304781\n",
    "        ),\n",
    "        pitch=0,\n",
    "        zoom=2\n",
    "    )\n",
    ")\n",
    "\n",
    "fig2.show()"
   ]
  },
  {
   "cell_type": "code",
   "execution_count": 124,
   "metadata": {},
   "outputs": [],
   "source": [
    "import dash\n",
    "import dash_core_components as dcc\n",
    "import dash_html_components as html \n",
    "import dash_bootstrap_components as dbc"
   ]
  },
  {
   "cell_type": "code",
   "execution_count": 222,
   "metadata": {},
   "outputs": [],
   "source": [
    "app = dash.Dash(__name__, assets_folder='./assets/',\n",
    "                meta_tags=[\n",
    "                    {\"name\": \"viewport\", \"content\": \"width=device-width, height=device-height, initial-scale=1.0\"}\n",
    "    ])"
   ]
  },
  {
   "cell_type": "code",
   "execution_count": 225,
   "metadata": {},
   "outputs": [],
   "source": [
    "app.layout = html.Div(style={'backgroundColor':'#151920'},\n",
    "    children=[\n",
    "        html.Div(\n",
    "            id=\"header\",\n",
    "            children=[                          \n",
    "                html.H4(children=\"Wuhan Coronavirus (2019-nCoV) Outbreak Monitor\"),\n",
    "                html.P(\n",
    "                    id=\"description\",\n",
    "                    children=\"On Dec 31, 2019, the World Health Organization (WHO) was informed of \\\n",
    "                    an outbreak of “pneumonia of unknown cause” detected in Wuhan City, Hubei Province, China – the \\\n",
    "                    seventh-largest city in China with 11 million residents. As of {}, there are over {} cases \\\n",
    "                    of 2019-nCoV confirmed globally.\\\n",
    "                    This dash board is developed to visualise and track the recent reported \\\n",
    "                    cases on a daily timescale.\".format(latestDate, confirmedCases),\n",
    "                ),\n",
    "                html.P(style={'fontWeight':'bold'},\n",
    "                    children=\"Last updated on {}.\".format(latestDate))\n",
    "            ]        \n",
    "        ),\n",
    "        html.Div(\n",
    "            id=\"number-plate\",\n",
    "            style={'marginLeft':'1.5%','marginRight':'1.5%','marginBottom':'.5%'},\n",
    "                 children=[\n",
    "                     html.Div(\n",
    "                         style={'width':'24.4%','backgroundColor':'#272e3e','display':'inline-block','marginRight':'.8%'},\n",
    "                              children=[html.P(style={'textAlign':'center',\n",
    "                                                      'fontWeight':'bold','color':'#ffffbf','padding':'1rem'},\n",
    "                                               children=\"Days Since Outbreak\"),\n",
    "                                        html.H3(style={'textAlign':'center',\n",
    "                                                       'fontWeight':'bold','color':'#ffffbf'},\n",
    "                                               children='{}'.format(daysOutbreak))]),\n",
    "                     html.Div(style={'width':'24.4%','backgroundColor':'#272e3e','display':'inline-block','marginRight':'.8%'},\n",
    "                              children=[html.P(style={'textAlign':'center',\n",
    "                                                      'fontWeight':'bold','color':'#d7191c','padding':'1rem'},\n",
    "                                               children=\"Confirmed Cases\"),\n",
    "                                        html.H3(style={'textAlign':'center',\n",
    "                                                       'fontWeight':'bold','color':'#d7191c'},\n",
    "                                                children='{}'.format(confirmedCases))]),\n",
    "                     html.Div(style={'width':'24.4%','backgroundColor':'#272e3e','display':'inline-block','marginRight':'.8%'},\n",
    "                              children=[html.P(style={'textAlign':'center',\n",
    "                                                      'fontWeight':'bold','color':'#1a9641','padding':'1rem'},\n",
    "                                               children=\"Recovered Cases\"),\n",
    "                                        html.H3(style={'textAlign':'center',\n",
    "                                                       'fontWeight':'bold','color':'#1a9641'},\n",
    "                                               children='{}'.format(recoveredCases))]),\n",
    "                     html.Div(style={'width':'24.4%','backgroundColor':'#272e3e','display':'inline-block','marginTop':'.5%'},\n",
    "                              children=[html.P(style={'textAlign':'center',\n",
    "                                                      'fontWeight':'bold','color':'#fdae61','padding':'1rem'},\n",
    "                                               children=\"Death Cases\"),\n",
    "                                        html.H3(style={'textAlign':'center',\n",
    "                                                       'fontWeight':'bold','color':'#fdae61'},\n",
    "                                                children='{}'.format(deathsCases))])]),\n",
    "        html.Div(style={'marginLeft':'1.5%','marginRight':'1.5%','marginBottom':'.35%','marginTop':'.5%'},\n",
    "                 children=[\n",
    "                     html.Div(style={'width':'32.79%','display':'inline-block','marginRight':'.8%'},\n",
    "                              children=[dcc.Graph(figure=fig_confirmed)]),\n",
    "                     html.Div(style={'width':'32.79%','display':'inline-block','marginRight':'.8%'},\n",
    "                              children=[dcc.Graph(figure=fig_recovered)]),\n",
    "                     html.Div(style={'width':'32.79%','display':'inline-block'},\n",
    "                              children=[dcc.Graph(figure=fig_deaths)])]),\n",
    "        html.Div(style={'marginLeft':'1.5%','marginRight':'1.5%','marginBottom':'.5%'},\n",
    "                 children=[\n",
    "                     html.Div(style={'width':'100%','display':'inline-block'},\n",
    "                              children=[dcc.Graph(figure=fig2)]),]),\n",
    "        html.Div(style={'marginLeft':'1.5%','marginRight':'1.5%'},\n",
    "                 children=[\n",
    "                     html.P(style={'textAlign':'center','margin':'auto'},\n",
    "                            children=[\"Data source from \", \n",
    "                                      html.A('JHU CSSE,', href='https://docs.google.com/spreadsheets/d/1yZv9w9z\\\n",
    "                                      RKwrGTaR-YzmAqMefw4wMlaXocejdxZaTs6w/htmlview?usp=sharing&sle=true#'),\n",
    "                                      html.A(' Dingxiangyuan', href='https://ncov.dxy.cn/ncovh5/view/pneumonia?sce\\\n",
    "                                      ne=2&clicktime=1579582238&enterid=1579582238&from=singlemessage&isappinstalled=0'),\n",
    "                                      \" | 🙏 Pray for China, Pray for the World 🙏 |\",\n",
    "                                      \" Developed by \",html.A('Jun', href='https://junye0798.com/'),\" with ❤️\"])])\n",
    "\n",
    "                         ])\n"
   ]
  },
  {
   "cell_type": "code",
   "execution_count": 226,
   "metadata": {},
   "outputs": [
    {
     "name": "stdout",
     "output_type": "stream",
     "text": [
      " * Serving Flask app \"__main__\" (lazy loading)\n",
      " * Environment: production\n",
      "   WARNING: This is a development server. Do not use it in a production deployment.\n",
      "   Use a production WSGI server instead.\n",
      " * Debug mode: off\n"
     ]
    },
    {
     "name": "stderr",
     "output_type": "stream",
     "text": [
      " * Running on http://127.0.0.1:8882/ (Press CTRL+C to quit)\n",
      "127.0.0.1 - - [01/Feb/2020 16:40:01] \"GET / HTTP/1.1\" 200 -\n",
      "127.0.0.1 - - [01/Feb/2020 16:40:01] \"GET /_dash-component-suites/dash_renderer/prop-types@15.7.2.min.js?v=1.1.2&m=1576595738 HTTP/1.1\" 200 -\n",
      "127.0.0.1 - - [01/Feb/2020 16:40:01] \"GET /_dash-component-suites/dash_renderer/react@16.8.6.min.js?v=1.1.2&m=1576595738 HTTP/1.1\" 200 -\n",
      "127.0.0.1 - - [01/Feb/2020 16:40:01] \"GET /_dash-component-suites/dash_renderer/react-dom@16.8.6.min.js?v=1.1.2&m=1576595738 HTTP/1.1\" 200 -\n",
      "127.0.0.1 - - [01/Feb/2020 16:40:01] \"GET /_dash-component-suites/dash_html_components/dash_html_components.min.js?v=1.0.1&m=1576596177 HTTP/1.1\" 200 -\n",
      "127.0.0.1 - - [01/Feb/2020 16:40:01] \"GET /_dash-component-suites/dash_core_components/highlight.pack.js?v=1.3.1&m=1576595950 HTTP/1.1\" 200 -\n",
      "127.0.0.1 - - [01/Feb/2020 16:40:01] \"GET /_dash-component-suites/dash_bootstrap_components/_components/dash_bootstrap_components.min.js?v=0.8.2&m=1580284437 HTTP/1.1\" 200 -\n",
      "127.0.0.1 - - [01/Feb/2020 16:40:01] \"GET /_dash-component-suites/dash_renderer/dash_renderer.min.js?v=1.1.2&m=1576595738 HTTP/1.1\" 200 -\n",
      "127.0.0.1 - - [01/Feb/2020 16:40:01] \"GET /_dash-component-suites/dash_core_components/dash_core_components.min.js?v=1.3.1&m=1576595950 HTTP/1.1\" 200 -\n",
      "127.0.0.1 - - [01/Feb/2020 16:40:01] \"GET /_dash-component-suites/dash_core_components/plotly-1.50.1.min.js?v=1.3.1&m=1576595950 HTTP/1.1\" 200 -\n",
      "127.0.0.1 - - [01/Feb/2020 16:40:02] \"GET /_dash-dependencies HTTP/1.1\" 200 -\n",
      "127.0.0.1 - - [01/Feb/2020 16:40:02] \"GET /_dash-layout HTTP/1.1\" 200 -\n"
     ]
    }
   ],
   "source": [
    "if __name__ == '__main__':\n",
    "    app.run_server(port=8882)"
   ]
  },
  {
   "cell_type": "code",
   "execution_count": null,
   "metadata": {},
   "outputs": [],
   "source": []
  },
  {
   "cell_type": "code",
   "execution_count": null,
   "metadata": {},
   "outputs": [],
   "source": []
  },
  {
   "cell_type": "code",
   "execution_count": null,
   "metadata": {},
   "outputs": [],
   "source": []
  }
 ],
 "metadata": {
  "kernelspec": {
   "display_name": "Python 3",
   "language": "python",
   "name": "python3"
  },
  "language_info": {
   "codemirror_mode": {
    "name": "ipython",
    "version": 3
   },
   "file_extension": ".py",
   "mimetype": "text/x-python",
   "name": "python",
   "nbconvert_exporter": "python",
   "pygments_lexer": "ipython3",
   "version": "3.6.9"
  },
  "toc": {
   "base_numbering": 1,
   "nav_menu": {},
   "number_sections": true,
   "sideBar": true,
   "skip_h1_title": false,
   "title_cell": "Table of Contents",
   "title_sidebar": "Contents",
   "toc_cell": false,
   "toc_position": {},
   "toc_section_display": true,
   "toc_window_display": false
  },
  "varInspector": {
   "cols": {
    "lenName": 16,
    "lenType": 16,
    "lenVar": 40
   },
   "kernels_config": {
    "python": {
     "delete_cmd_postfix": "",
     "delete_cmd_prefix": "del ",
     "library": "var_list.py",
     "varRefreshCmd": "print(var_dic_list())"
    },
    "r": {
     "delete_cmd_postfix": ") ",
     "delete_cmd_prefix": "rm(",
     "library": "var_list.r",
     "varRefreshCmd": "cat(var_dic_list()) "
    }
   },
   "types_to_exclude": [
    "module",
    "function",
    "builtin_function_or_method",
    "instance",
    "_Feature"
   ],
   "window_display": false
  }
 },
 "nbformat": 4,
 "nbformat_minor": 2
}
