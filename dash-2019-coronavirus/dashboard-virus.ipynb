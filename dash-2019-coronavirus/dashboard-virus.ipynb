{
 "cells": [
  {
   "cell_type": "code",
   "execution_count": 1,
   "metadata": {},
   "outputs": [],
   "source": [
    "import pandas as pd\n",
    "import numpy as np\n",
    "from datetime import datetime\n",
    "import math \n",
    "\n",
    "import plotly.graph_objects as go\n",
    "from plotly.subplots import make_subplots"
   ]
  },
  {
   "cell_type": "code",
   "execution_count": 2,
   "metadata": {},
   "outputs": [],
   "source": [
    "# Import xlsx file and store each sheet in to a df list\n",
    "xl_file = pd.ExcelFile('./data.xlsx',)\n",
    "\n",
    "dfs = {sheet_name: xl_file.parse(sheet_name) \n",
    "          for sheet_name in xl_file.sheet_names}"
   ]
  },
  {
   "cell_type": "code",
   "execution_count": 3,
   "metadata": {},
   "outputs": [],
   "source": [
    "# Data from each sheet can be accessed via key\n",
    "keyList = list(dfs.keys())"
   ]
  },
  {
   "cell_type": "code",
   "execution_count": 4,
   "metadata": {
    "scrolled": true
   },
   "outputs": [],
   "source": [
    "# Data cleansing\n",
    "for key, df in dfs.items():\n",
    "    dfs[key].loc[:,'Confirmed'].fillna(value=0, inplace=True)\n",
    "    dfs[key].loc[:,'Deaths'].fillna(value=0, inplace=True)\n",
    "    dfs[key].loc[:,'Recovered'].fillna(value=0, inplace=True)\n",
    "    dfs[key]=dfs[key].astype({'Confirmed':'int64', 'Deaths':'int64', 'Recovered':'int64'})\n",
    "    # Change as China for coordinate search\n",
    "    dfs[key]=dfs[key].replace({'Country/Region':'Mainland China'}, 'China')\n",
    "    dfs[key]=dfs[key].replace({'Province/State':'Queensland'}, 'Brisbane')\n",
    "    dfs[key]=dfs[key].replace({'Province/State':'New South Wales'}, 'Sydney')\n",
    "    dfs[key]=dfs[key].replace({'Province/State':'Victoria'}, 'Melbourne')\n",
    "    # Add a zero to the date so can be convert by datetime.strptime as 0-padded date\n",
    "    dfs[key]['Last Update'] = '0' + dfs[key]['Last Update']\n",
    "    dfs[key]['Date_last_updated'] = [datetime.strptime(d, '%m/%d/%Y %H:%M') for d in dfs[key]['Last Update']]"
   ]
  },
  {
   "cell_type": "code",
   "execution_count": 5,
   "metadata": {},
   "outputs": [
    {
     "data": {
      "text/html": [
       "<div>\n",
       "<style scoped>\n",
       "    .dataframe tbody tr th:only-of-type {\n",
       "        vertical-align: middle;\n",
       "    }\n",
       "\n",
       "    .dataframe tbody tr th {\n",
       "        vertical-align: top;\n",
       "    }\n",
       "\n",
       "    .dataframe thead th {\n",
       "        text-align: right;\n",
       "    }\n",
       "</style>\n",
       "<table border=\"1\" class=\"dataframe\">\n",
       "  <thead>\n",
       "    <tr style=\"text-align: right;\">\n",
       "      <th></th>\n",
       "      <th>Province/State</th>\n",
       "      <th>Country/Region</th>\n",
       "      <th>Last Update</th>\n",
       "      <th>Confirmed</th>\n",
       "      <th>Deaths</th>\n",
       "      <th>Recovered</th>\n",
       "      <th>Date_last_updated</th>\n",
       "    </tr>\n",
       "  </thead>\n",
       "  <tbody>\n",
       "    <tr>\n",
       "      <th>0</th>\n",
       "      <td>Hubei</td>\n",
       "      <td>China</td>\n",
       "      <td>01/30/2020 21:30</td>\n",
       "      <td>5806</td>\n",
       "      <td>204</td>\n",
       "      <td>116</td>\n",
       "      <td>2020-01-30 21:30:00</td>\n",
       "    </tr>\n",
       "    <tr>\n",
       "      <th>1</th>\n",
       "      <td>Zhejiang</td>\n",
       "      <td>China</td>\n",
       "      <td>01/30/2020 21:30</td>\n",
       "      <td>537</td>\n",
       "      <td>0</td>\n",
       "      <td>9</td>\n",
       "      <td>2020-01-30 21:30:00</td>\n",
       "    </tr>\n",
       "    <tr>\n",
       "      <th>2</th>\n",
       "      <td>Guangdong</td>\n",
       "      <td>China</td>\n",
       "      <td>01/30/2020 21:30</td>\n",
       "      <td>393</td>\n",
       "      <td>0</td>\n",
       "      <td>11</td>\n",
       "      <td>2020-01-30 21:30:00</td>\n",
       "    </tr>\n",
       "    <tr>\n",
       "      <th>3</th>\n",
       "      <td>Henan</td>\n",
       "      <td>China</td>\n",
       "      <td>01/30/2020 21:30</td>\n",
       "      <td>352</td>\n",
       "      <td>2</td>\n",
       "      <td>3</td>\n",
       "      <td>2020-01-30 21:30:00</td>\n",
       "    </tr>\n",
       "    <tr>\n",
       "      <th>4</th>\n",
       "      <td>Hunan</td>\n",
       "      <td>China</td>\n",
       "      <td>01/30/2020 21:30</td>\n",
       "      <td>332</td>\n",
       "      <td>0</td>\n",
       "      <td>2</td>\n",
       "      <td>2020-01-30 21:30:00</td>\n",
       "    </tr>\n",
       "  </tbody>\n",
       "</table>\n",
       "</div>"
      ],
      "text/plain": [
       "  Province/State Country/Region       Last Update  Confirmed  Deaths  \\\n",
       "0          Hubei          China  01/30/2020 21:30       5806     204   \n",
       "1       Zhejiang          China  01/30/2020 21:30        537       0   \n",
       "2      Guangdong          China  01/30/2020 21:30        393       0   \n",
       "3          Henan          China  01/30/2020 21:30        352       2   \n",
       "4          Hunan          China  01/30/2020 21:30        332       0   \n",
       "\n",
       "   Recovered   Date_last_updated  \n",
       "0        116 2020-01-30 21:30:00  \n",
       "1          9 2020-01-30 21:30:00  \n",
       "2         11 2020-01-30 21:30:00  \n",
       "3          3 2020-01-30 21:30:00  \n",
       "4          2 2020-01-30 21:30:00  "
      ]
     },
     "execution_count": 5,
     "metadata": {},
     "output_type": "execute_result"
    }
   ],
   "source": [
    "# Check \n",
    "dfs[keyList[0]].head()"
   ]
  },
  {
   "cell_type": "code",
   "execution_count": 6,
   "metadata": {},
   "outputs": [],
   "source": [
    "# Add coordinates for each area in the list for the latest table sheet\n",
    "# As there are limit for free account, we only call coordinates for the latest table sheet\n",
    "from opencage.geocoder import OpenCageGeocode\n",
    "key = 'b33700b33d0a446aa6e16c0b57fc82d1'  # get api key from:  https://opencagedata.com\n",
    "geocoder = OpenCageGeocode(key)\n",
    "\n",
    "list_lat = []   # create empty lists\n",
    "list_long = []    \n",
    "for index, row in dfs[keyList[0]].iterrows(): # iterate over rows in dataframe\n",
    "    City = row['Province/State']\n",
    "    State = row['Country/Region']\n",
    "\n",
    "    if City:\n",
    "        if City == 'Macau' or City == 'Hong Kong':\n",
    "            query = str(City)+','+'China'\n",
    "            results = geocoder.geocode(query)   \n",
    "            lat = results[0]['geometry']['lat']\n",
    "            long = results[0]['geometry']['lng']\n",
    "\n",
    "            list_lat.append(lat)\n",
    "            list_long.append(long)\n",
    "        else:\n",
    "            query = str(City)+','+str(State)\n",
    "            results = geocoder.geocode(query)   \n",
    "            lat = results[0]['geometry']['lat']\n",
    "            long = results[0]['geometry']['lng']\n",
    "\n",
    "            list_lat.append(lat)\n",
    "            list_long.append(long)\n",
    "\n",
    "    else:\n",
    "        query = str(State)\n",
    "        results = geocoder.geocode(query)   \n",
    "        lat = results[0]['geometry']['lat']\n",
    "        long = results[0]['geometry']['lng']\n",
    "\n",
    "        list_lat.append(lat)\n",
    "        list_long.append(long)\n",
    "# create new columns from lists    \n",
    "dfs[keyList[0]]['lat'] = list_lat   \n",
    "dfs[keyList[0]]['lon'] = list_long"
   ]
  },
  {
   "cell_type": "code",
   "execution_count": 7,
   "metadata": {
    "scrolled": true
   },
   "outputs": [
    {
     "data": {
      "text/html": [
       "<div>\n",
       "<style scoped>\n",
       "    .dataframe tbody tr th:only-of-type {\n",
       "        vertical-align: middle;\n",
       "    }\n",
       "\n",
       "    .dataframe tbody tr th {\n",
       "        vertical-align: top;\n",
       "    }\n",
       "\n",
       "    .dataframe thead th {\n",
       "        text-align: right;\n",
       "    }\n",
       "</style>\n",
       "<table border=\"1\" class=\"dataframe\">\n",
       "  <thead>\n",
       "    <tr style=\"text-align: right;\">\n",
       "      <th></th>\n",
       "      <th>Province/State</th>\n",
       "      <th>Country/Region</th>\n",
       "      <th>Last Update</th>\n",
       "      <th>Confirmed</th>\n",
       "      <th>Deaths</th>\n",
       "      <th>Recovered</th>\n",
       "      <th>Date_last_updated</th>\n",
       "      <th>lat</th>\n",
       "      <th>lon</th>\n",
       "    </tr>\n",
       "  </thead>\n",
       "  <tbody>\n",
       "    <tr>\n",
       "      <th>0</th>\n",
       "      <td>Hubei</td>\n",
       "      <td>China</td>\n",
       "      <td>01/30/2020 21:30</td>\n",
       "      <td>5806</td>\n",
       "      <td>204</td>\n",
       "      <td>116</td>\n",
       "      <td>2020-01-30 21:30:00</td>\n",
       "      <td>31.151725</td>\n",
       "      <td>112.878322</td>\n",
       "    </tr>\n",
       "    <tr>\n",
       "      <th>1</th>\n",
       "      <td>Zhejiang</td>\n",
       "      <td>China</td>\n",
       "      <td>01/30/2020 21:30</td>\n",
       "      <td>537</td>\n",
       "      <td>0</td>\n",
       "      <td>9</td>\n",
       "      <td>2020-01-30 21:30:00</td>\n",
       "      <td>29.000000</td>\n",
       "      <td>120.000000</td>\n",
       "    </tr>\n",
       "    <tr>\n",
       "      <th>2</th>\n",
       "      <td>Guangdong</td>\n",
       "      <td>China</td>\n",
       "      <td>01/30/2020 21:30</td>\n",
       "      <td>393</td>\n",
       "      <td>0</td>\n",
       "      <td>11</td>\n",
       "      <td>2020-01-30 21:30:00</td>\n",
       "      <td>23.135769</td>\n",
       "      <td>113.198269</td>\n",
       "    </tr>\n",
       "    <tr>\n",
       "      <th>3</th>\n",
       "      <td>Henan</td>\n",
       "      <td>China</td>\n",
       "      <td>01/30/2020 21:30</td>\n",
       "      <td>352</td>\n",
       "      <td>2</td>\n",
       "      <td>3</td>\n",
       "      <td>2020-01-30 21:30:00</td>\n",
       "      <td>34.000000</td>\n",
       "      <td>114.000000</td>\n",
       "    </tr>\n",
       "    <tr>\n",
       "      <th>4</th>\n",
       "      <td>Hunan</td>\n",
       "      <td>China</td>\n",
       "      <td>01/30/2020 21:30</td>\n",
       "      <td>332</td>\n",
       "      <td>0</td>\n",
       "      <td>2</td>\n",
       "      <td>2020-01-30 21:30:00</td>\n",
       "      <td>27.666209</td>\n",
       "      <td>111.748706</td>\n",
       "    </tr>\n",
       "    <tr>\n",
       "      <th>5</th>\n",
       "      <td>Jiangxi</td>\n",
       "      <td>China</td>\n",
       "      <td>01/30/2020 21:30</td>\n",
       "      <td>240</td>\n",
       "      <td>0</td>\n",
       "      <td>7</td>\n",
       "      <td>2020-01-30 21:30:00</td>\n",
       "      <td>28.000000</td>\n",
       "      <td>116.000000</td>\n",
       "    </tr>\n",
       "    <tr>\n",
       "      <th>6</th>\n",
       "      <td>Anhui</td>\n",
       "      <td>China</td>\n",
       "      <td>01/30/2020 21:30</td>\n",
       "      <td>237</td>\n",
       "      <td>0</td>\n",
       "      <td>3</td>\n",
       "      <td>2020-01-30 21:30:00</td>\n",
       "      <td>32.000000</td>\n",
       "      <td>117.000000</td>\n",
       "    </tr>\n",
       "    <tr>\n",
       "      <th>7</th>\n",
       "      <td>Chongqing</td>\n",
       "      <td>China</td>\n",
       "      <td>01/30/2020 21:30</td>\n",
       "      <td>206</td>\n",
       "      <td>0</td>\n",
       "      <td>1</td>\n",
       "      <td>2020-01-30 21:30:00</td>\n",
       "      <td>29.558571</td>\n",
       "      <td>106.549282</td>\n",
       "    </tr>\n",
       "    <tr>\n",
       "      <th>8</th>\n",
       "      <td>Shandong</td>\n",
       "      <td>China</td>\n",
       "      <td>01/30/2020 21:30</td>\n",
       "      <td>178</td>\n",
       "      <td>0</td>\n",
       "      <td>2</td>\n",
       "      <td>2020-01-30 21:30:00</td>\n",
       "      <td>36.000000</td>\n",
       "      <td>119.000000</td>\n",
       "    </tr>\n",
       "    <tr>\n",
       "      <th>9</th>\n",
       "      <td>Sichuan</td>\n",
       "      <td>China</td>\n",
       "      <td>01/30/2020 21:30</td>\n",
       "      <td>177</td>\n",
       "      <td>1</td>\n",
       "      <td>1</td>\n",
       "      <td>2020-01-30 21:30:00</td>\n",
       "      <td>30.500000</td>\n",
       "      <td>102.500000</td>\n",
       "    </tr>\n",
       "    <tr>\n",
       "      <th>10</th>\n",
       "      <td>Jiangsu</td>\n",
       "      <td>China</td>\n",
       "      <td>01/30/2020 21:30</td>\n",
       "      <td>168</td>\n",
       "      <td>0</td>\n",
       "      <td>2</td>\n",
       "      <td>2020-01-30 21:30:00</td>\n",
       "      <td>33.000000</td>\n",
       "      <td>120.000000</td>\n",
       "    </tr>\n",
       "    <tr>\n",
       "      <th>11</th>\n",
       "      <td>Shanghai</td>\n",
       "      <td>China</td>\n",
       "      <td>01/30/2020 21:30</td>\n",
       "      <td>128</td>\n",
       "      <td>1</td>\n",
       "      <td>9</td>\n",
       "      <td>2020-01-30 21:30:00</td>\n",
       "      <td>31.225299</td>\n",
       "      <td>121.489050</td>\n",
       "    </tr>\n",
       "    <tr>\n",
       "      <th>12</th>\n",
       "      <td>Beijing</td>\n",
       "      <td>China</td>\n",
       "      <td>01/30/2020 21:30</td>\n",
       "      <td>121</td>\n",
       "      <td>1</td>\n",
       "      <td>5</td>\n",
       "      <td>2020-01-30 21:30:00</td>\n",
       "      <td>39.906217</td>\n",
       "      <td>116.391276</td>\n",
       "    </tr>\n",
       "    <tr>\n",
       "      <th>13</th>\n",
       "      <td>Fujian</td>\n",
       "      <td>China</td>\n",
       "      <td>01/30/2020 21:30</td>\n",
       "      <td>101</td>\n",
       "      <td>0</td>\n",
       "      <td>0</td>\n",
       "      <td>2020-01-30 21:30:00</td>\n",
       "      <td>26.545000</td>\n",
       "      <td>117.842778</td>\n",
       "    </tr>\n",
       "    <tr>\n",
       "      <th>14</th>\n",
       "      <td>Guangxi</td>\n",
       "      <td>China</td>\n",
       "      <td>01/30/2020 21:30</td>\n",
       "      <td>87</td>\n",
       "      <td>0</td>\n",
       "      <td>2</td>\n",
       "      <td>2020-01-30 21:30:00</td>\n",
       "      <td>24.000000</td>\n",
       "      <td>109.000000</td>\n",
       "    </tr>\n",
       "    <tr>\n",
       "      <th>15</th>\n",
       "      <td>Hebei</td>\n",
       "      <td>China</td>\n",
       "      <td>01/30/2020 21:30</td>\n",
       "      <td>82</td>\n",
       "      <td>1</td>\n",
       "      <td>0</td>\n",
       "      <td>2020-01-30 21:30:00</td>\n",
       "      <td>39.000000</td>\n",
       "      <td>116.000000</td>\n",
       "    </tr>\n",
       "    <tr>\n",
       "      <th>16</th>\n",
       "      <td>Yunnan</td>\n",
       "      <td>China</td>\n",
       "      <td>01/30/2020 21:30</td>\n",
       "      <td>76</td>\n",
       "      <td>0</td>\n",
       "      <td>0</td>\n",
       "      <td>2020-01-30 21:30:00</td>\n",
       "      <td>25.000000</td>\n",
       "      <td>102.000000</td>\n",
       "    </tr>\n",
       "    <tr>\n",
       "      <th>17</th>\n",
       "      <td>Shaanxi</td>\n",
       "      <td>China</td>\n",
       "      <td>01/30/2020 21:30</td>\n",
       "      <td>87</td>\n",
       "      <td>0</td>\n",
       "      <td>0</td>\n",
       "      <td>2020-01-30 21:30:00</td>\n",
       "      <td>36.000000</td>\n",
       "      <td>109.000000</td>\n",
       "    </tr>\n",
       "    <tr>\n",
       "      <th>18</th>\n",
       "      <td>Heilongjiang</td>\n",
       "      <td>China</td>\n",
       "      <td>01/30/2020 21:30</td>\n",
       "      <td>59</td>\n",
       "      <td>2</td>\n",
       "      <td>0</td>\n",
       "      <td>2020-01-30 21:30:00</td>\n",
       "      <td>48.000005</td>\n",
       "      <td>127.999992</td>\n",
       "    </tr>\n",
       "    <tr>\n",
       "      <th>19</th>\n",
       "      <td>Hainan</td>\n",
       "      <td>China</td>\n",
       "      <td>01/30/2020 21:30</td>\n",
       "      <td>50</td>\n",
       "      <td>1</td>\n",
       "      <td>1</td>\n",
       "      <td>2020-01-30 21:30:00</td>\n",
       "      <td>19.200000</td>\n",
       "      <td>109.600000</td>\n",
       "    </tr>\n",
       "    <tr>\n",
       "      <th>20</th>\n",
       "      <td>Liaoning</td>\n",
       "      <td>China</td>\n",
       "      <td>01/30/2020 21:30</td>\n",
       "      <td>45</td>\n",
       "      <td>0</td>\n",
       "      <td>1</td>\n",
       "      <td>2020-01-30 21:30:00</td>\n",
       "      <td>40.973912</td>\n",
       "      <td>122.326391</td>\n",
       "    </tr>\n",
       "    <tr>\n",
       "      <th>21</th>\n",
       "      <td>Shanxi</td>\n",
       "      <td>China</td>\n",
       "      <td>01/30/2020 21:30</td>\n",
       "      <td>39</td>\n",
       "      <td>0</td>\n",
       "      <td>1</td>\n",
       "      <td>2020-01-30 21:30:00</td>\n",
       "      <td>37.000000</td>\n",
       "      <td>112.000000</td>\n",
       "    </tr>\n",
       "    <tr>\n",
       "      <th>22</th>\n",
       "      <td>Tianjin</td>\n",
       "      <td>China</td>\n",
       "      <td>01/30/2020 21:30</td>\n",
       "      <td>32</td>\n",
       "      <td>0</td>\n",
       "      <td>0</td>\n",
       "      <td>2020-01-30 21:30:00</td>\n",
       "      <td>39.123564</td>\n",
       "      <td>117.198078</td>\n",
       "    </tr>\n",
       "    <tr>\n",
       "      <th>23</th>\n",
       "      <td>Gansu</td>\n",
       "      <td>China</td>\n",
       "      <td>01/30/2020 21:30</td>\n",
       "      <td>29</td>\n",
       "      <td>0</td>\n",
       "      <td>0</td>\n",
       "      <td>2020-01-30 21:30:00</td>\n",
       "      <td>38.000000</td>\n",
       "      <td>102.000000</td>\n",
       "    </tr>\n",
       "    <tr>\n",
       "      <th>24</th>\n",
       "      <td>Ningxia</td>\n",
       "      <td>China</td>\n",
       "      <td>01/30/2020 21:30</td>\n",
       "      <td>21</td>\n",
       "      <td>0</td>\n",
       "      <td>1</td>\n",
       "      <td>2020-01-30 21:30:00</td>\n",
       "      <td>37.309553</td>\n",
       "      <td>105.960855</td>\n",
       "    </tr>\n",
       "    <tr>\n",
       "      <th>25</th>\n",
       "      <td>Inner Mongolia</td>\n",
       "      <td>China</td>\n",
       "      <td>01/30/2020 21:30</td>\n",
       "      <td>20</td>\n",
       "      <td>0</td>\n",
       "      <td>0</td>\n",
       "      <td>2020-01-30 21:30:00</td>\n",
       "      <td>43.244324</td>\n",
       "      <td>114.325166</td>\n",
       "    </tr>\n",
       "    <tr>\n",
       "      <th>26</th>\n",
       "      <td>Xinjiang</td>\n",
       "      <td>China</td>\n",
       "      <td>01/30/2020 21:30</td>\n",
       "      <td>17</td>\n",
       "      <td>0</td>\n",
       "      <td>0</td>\n",
       "      <td>2020-01-30 21:30:00</td>\n",
       "      <td>41.757477</td>\n",
       "      <td>87.167384</td>\n",
       "    </tr>\n",
       "    <tr>\n",
       "      <th>27</th>\n",
       "      <td>Guizhou</td>\n",
       "      <td>China</td>\n",
       "      <td>01/30/2020 21:30</td>\n",
       "      <td>15</td>\n",
       "      <td>0</td>\n",
       "      <td>1</td>\n",
       "      <td>2020-01-30 21:30:00</td>\n",
       "      <td>27.000000</td>\n",
       "      <td>107.000000</td>\n",
       "    </tr>\n",
       "    <tr>\n",
       "      <th>28</th>\n",
       "      <td>Jilin</td>\n",
       "      <td>China</td>\n",
       "      <td>01/30/2020 21:30</td>\n",
       "      <td>14</td>\n",
       "      <td>0</td>\n",
       "      <td>1</td>\n",
       "      <td>2020-01-30 21:30:00</td>\n",
       "      <td>42.999503</td>\n",
       "      <td>125.981605</td>\n",
       "    </tr>\n",
       "    <tr>\n",
       "      <th>29</th>\n",
       "      <td>Hong Kong</td>\n",
       "      <td>Hong Kong</td>\n",
       "      <td>01/30/2020 21:30</td>\n",
       "      <td>12</td>\n",
       "      <td>0</td>\n",
       "      <td>0</td>\n",
       "      <td>2020-01-30 21:30:00</td>\n",
       "      <td>22.279328</td>\n",
       "      <td>114.162813</td>\n",
       "    </tr>\n",
       "    <tr>\n",
       "      <th>30</th>\n",
       "      <td>Taiwan</td>\n",
       "      <td>Taiwan</td>\n",
       "      <td>01/30/2020 21:30</td>\n",
       "      <td>9</td>\n",
       "      <td>0</td>\n",
       "      <td>0</td>\n",
       "      <td>2020-01-30 21:30:00</td>\n",
       "      <td>23.973937</td>\n",
       "      <td>120.982018</td>\n",
       "    </tr>\n",
       "    <tr>\n",
       "      <th>31</th>\n",
       "      <td>Qinghai</td>\n",
       "      <td>China</td>\n",
       "      <td>01/30/2020 21:30</td>\n",
       "      <td>8</td>\n",
       "      <td>0</td>\n",
       "      <td>0</td>\n",
       "      <td>2020-01-30 21:30:00</td>\n",
       "      <td>35.407095</td>\n",
       "      <td>95.952116</td>\n",
       "    </tr>\n",
       "    <tr>\n",
       "      <th>32</th>\n",
       "      <td>Macau</td>\n",
       "      <td>Macau</td>\n",
       "      <td>01/30/2020 21:30</td>\n",
       "      <td>7</td>\n",
       "      <td>0</td>\n",
       "      <td>0</td>\n",
       "      <td>2020-01-30 21:30:00</td>\n",
       "      <td>22.175760</td>\n",
       "      <td>113.551414</td>\n",
       "    </tr>\n",
       "    <tr>\n",
       "      <th>33</th>\n",
       "      <td>Tibet</td>\n",
       "      <td>China</td>\n",
       "      <td>01/30/2020 21:30</td>\n",
       "      <td>1</td>\n",
       "      <td>0</td>\n",
       "      <td>0</td>\n",
       "      <td>2020-01-30 21:30:00</td>\n",
       "      <td>31.894343</td>\n",
       "      <td>87.078137</td>\n",
       "    </tr>\n",
       "    <tr>\n",
       "      <th>34</th>\n",
       "      <td>Washington</td>\n",
       "      <td>US</td>\n",
       "      <td>01/30/2020 21:30</td>\n",
       "      <td>1</td>\n",
       "      <td>0</td>\n",
       "      <td>0</td>\n",
       "      <td>2020-01-30 21:30:00</td>\n",
       "      <td>38.894893</td>\n",
       "      <td>-77.036553</td>\n",
       "    </tr>\n",
       "    <tr>\n",
       "      <th>35</th>\n",
       "      <td>Illinois</td>\n",
       "      <td>US</td>\n",
       "      <td>01/30/2020 21:30</td>\n",
       "      <td>2</td>\n",
       "      <td>0</td>\n",
       "      <td>0</td>\n",
       "      <td>2020-01-30 21:30:00</td>\n",
       "      <td>40.079661</td>\n",
       "      <td>-89.433729</td>\n",
       "    </tr>\n",
       "    <tr>\n",
       "      <th>36</th>\n",
       "      <td>California</td>\n",
       "      <td>US</td>\n",
       "      <td>01/30/2020 21:30</td>\n",
       "      <td>2</td>\n",
       "      <td>0</td>\n",
       "      <td>0</td>\n",
       "      <td>2020-01-30 21:30:00</td>\n",
       "      <td>36.701463</td>\n",
       "      <td>-118.755997</td>\n",
       "    </tr>\n",
       "    <tr>\n",
       "      <th>37</th>\n",
       "      <td>Arizona</td>\n",
       "      <td>US</td>\n",
       "      <td>01/30/2020 21:30</td>\n",
       "      <td>1</td>\n",
       "      <td>0</td>\n",
       "      <td>0</td>\n",
       "      <td>2020-01-30 21:30:00</td>\n",
       "      <td>34.395342</td>\n",
       "      <td>-111.763276</td>\n",
       "    </tr>\n",
       "    <tr>\n",
       "      <th>38</th>\n",
       "      <td>NaN</td>\n",
       "      <td>Japan</td>\n",
       "      <td>01/30/2020 21:30</td>\n",
       "      <td>11</td>\n",
       "      <td>0</td>\n",
       "      <td>1</td>\n",
       "      <td>2020-01-30 21:30:00</td>\n",
       "      <td>34.904657</td>\n",
       "      <td>136.631050</td>\n",
       "    </tr>\n",
       "    <tr>\n",
       "      <th>39</th>\n",
       "      <td>NaN</td>\n",
       "      <td>Thailand</td>\n",
       "      <td>01/30/2020 21:30</td>\n",
       "      <td>14</td>\n",
       "      <td>0</td>\n",
       "      <td>5</td>\n",
       "      <td>2020-01-30 21:30:00</td>\n",
       "      <td>18.754459</td>\n",
       "      <td>100.624804</td>\n",
       "    </tr>\n",
       "    <tr>\n",
       "      <th>40</th>\n",
       "      <td>NaN</td>\n",
       "      <td>South Korea</td>\n",
       "      <td>01/30/2020 21:30</td>\n",
       "      <td>6</td>\n",
       "      <td>0</td>\n",
       "      <td>0</td>\n",
       "      <td>2020-01-30 21:30:00</td>\n",
       "      <td>36.558191</td>\n",
       "      <td>127.940856</td>\n",
       "    </tr>\n",
       "    <tr>\n",
       "      <th>41</th>\n",
       "      <td>NaN</td>\n",
       "      <td>Singapore</td>\n",
       "      <td>01/30/2020 21:30</td>\n",
       "      <td>10</td>\n",
       "      <td>0</td>\n",
       "      <td>0</td>\n",
       "      <td>2020-01-30 21:30:00</td>\n",
       "      <td>1.340863</td>\n",
       "      <td>103.830392</td>\n",
       "    </tr>\n",
       "    <tr>\n",
       "      <th>42</th>\n",
       "      <td>NaN</td>\n",
       "      <td>Vietnam</td>\n",
       "      <td>01/30/2020 21:30</td>\n",
       "      <td>2</td>\n",
       "      <td>0</td>\n",
       "      <td>0</td>\n",
       "      <td>2020-01-30 21:30:00</td>\n",
       "      <td>13.290403</td>\n",
       "      <td>108.426511</td>\n",
       "    </tr>\n",
       "    <tr>\n",
       "      <th>43</th>\n",
       "      <td>NaN</td>\n",
       "      <td>France</td>\n",
       "      <td>01/30/2020 21:30</td>\n",
       "      <td>5</td>\n",
       "      <td>0</td>\n",
       "      <td>0</td>\n",
       "      <td>2020-01-30 21:30:00</td>\n",
       "      <td>45.156258</td>\n",
       "      <td>5.451583</td>\n",
       "    </tr>\n",
       "    <tr>\n",
       "      <th>44</th>\n",
       "      <td>NaN</td>\n",
       "      <td>Nepal</td>\n",
       "      <td>01/30/2020 21:30</td>\n",
       "      <td>1</td>\n",
       "      <td>0</td>\n",
       "      <td>0</td>\n",
       "      <td>2020-01-30 21:30:00</td>\n",
       "      <td>28.108393</td>\n",
       "      <td>84.091714</td>\n",
       "    </tr>\n",
       "    <tr>\n",
       "      <th>45</th>\n",
       "      <td>NaN</td>\n",
       "      <td>Malaysia</td>\n",
       "      <td>01/30/2020 21:30</td>\n",
       "      <td>8</td>\n",
       "      <td>0</td>\n",
       "      <td>0</td>\n",
       "      <td>2020-01-30 21:30:00</td>\n",
       "      <td>4.569375</td>\n",
       "      <td>102.265682</td>\n",
       "    </tr>\n",
       "    <tr>\n",
       "      <th>46</th>\n",
       "      <td>Ontario</td>\n",
       "      <td>Canada</td>\n",
       "      <td>01/30/2020 21:30</td>\n",
       "      <td>2</td>\n",
       "      <td>0</td>\n",
       "      <td>0</td>\n",
       "      <td>2020-01-30 21:30:00</td>\n",
       "      <td>50.000678</td>\n",
       "      <td>-86.000977</td>\n",
       "    </tr>\n",
       "    <tr>\n",
       "      <th>47</th>\n",
       "      <td>British Columbia</td>\n",
       "      <td>Canada</td>\n",
       "      <td>01/30/2020 21:30</td>\n",
       "      <td>1</td>\n",
       "      <td>0</td>\n",
       "      <td>0</td>\n",
       "      <td>2020-01-30 21:30:00</td>\n",
       "      <td>55.001251</td>\n",
       "      <td>-125.002441</td>\n",
       "    </tr>\n",
       "    <tr>\n",
       "      <th>48</th>\n",
       "      <td>NaN</td>\n",
       "      <td>Cambodia</td>\n",
       "      <td>01/30/2020 21:30</td>\n",
       "      <td>1</td>\n",
       "      <td>0</td>\n",
       "      <td>0</td>\n",
       "      <td>2020-01-30 21:30:00</td>\n",
       "      <td>13.506639</td>\n",
       "      <td>104.869423</td>\n",
       "    </tr>\n",
       "    <tr>\n",
       "      <th>49</th>\n",
       "      <td>NaN</td>\n",
       "      <td>Sri Lanka</td>\n",
       "      <td>01/30/2020 21:30</td>\n",
       "      <td>1</td>\n",
       "      <td>0</td>\n",
       "      <td>0</td>\n",
       "      <td>2020-01-30 21:30:00</td>\n",
       "      <td>7.189522</td>\n",
       "      <td>79.954857</td>\n",
       "    </tr>\n",
       "    <tr>\n",
       "      <th>50</th>\n",
       "      <td>Sydney</td>\n",
       "      <td>Australia</td>\n",
       "      <td>01/30/2020 21:30</td>\n",
       "      <td>4</td>\n",
       "      <td>0</td>\n",
       "      <td>2</td>\n",
       "      <td>2020-01-30 21:30:00</td>\n",
       "      <td>-33.854816</td>\n",
       "      <td>151.216454</td>\n",
       "    </tr>\n",
       "    <tr>\n",
       "      <th>51</th>\n",
       "      <td>Melbourne</td>\n",
       "      <td>Australia</td>\n",
       "      <td>01/30/2020 21:30</td>\n",
       "      <td>2</td>\n",
       "      <td>0</td>\n",
       "      <td>0</td>\n",
       "      <td>2020-01-30 21:30:00</td>\n",
       "      <td>-37.814218</td>\n",
       "      <td>144.963161</td>\n",
       "    </tr>\n",
       "    <tr>\n",
       "      <th>52</th>\n",
       "      <td>Brisbane</td>\n",
       "      <td>Australia</td>\n",
       "      <td>01/30/2020 21:30</td>\n",
       "      <td>3</td>\n",
       "      <td>0</td>\n",
       "      <td>0</td>\n",
       "      <td>2020-01-30 21:30:00</td>\n",
       "      <td>-27.468968</td>\n",
       "      <td>153.023499</td>\n",
       "    </tr>\n",
       "    <tr>\n",
       "      <th>53</th>\n",
       "      <td>Bavaria</td>\n",
       "      <td>Germany</td>\n",
       "      <td>01/30/2020 21:30</td>\n",
       "      <td>4</td>\n",
       "      <td>0</td>\n",
       "      <td>0</td>\n",
       "      <td>2020-01-30 21:30:00</td>\n",
       "      <td>48.946756</td>\n",
       "      <td>11.403872</td>\n",
       "    </tr>\n",
       "    <tr>\n",
       "      <th>54</th>\n",
       "      <td>NaN</td>\n",
       "      <td>Finland</td>\n",
       "      <td>01/30/2020 21:30</td>\n",
       "      <td>1</td>\n",
       "      <td>0</td>\n",
       "      <td>0</td>\n",
       "      <td>2020-01-30 21:30:00</td>\n",
       "      <td>63.246778</td>\n",
       "      <td>25.920916</td>\n",
       "    </tr>\n",
       "    <tr>\n",
       "      <th>55</th>\n",
       "      <td>NaN</td>\n",
       "      <td>United Arab Emirates</td>\n",
       "      <td>01/30/2020 21:30</td>\n",
       "      <td>4</td>\n",
       "      <td>0</td>\n",
       "      <td>0</td>\n",
       "      <td>2020-01-30 21:30:00</td>\n",
       "      <td>24.000249</td>\n",
       "      <td>53.999483</td>\n",
       "    </tr>\n",
       "    <tr>\n",
       "      <th>56</th>\n",
       "      <td>NaN</td>\n",
       "      <td>Philippines</td>\n",
       "      <td>01/30/2020 21:30</td>\n",
       "      <td>1</td>\n",
       "      <td>0</td>\n",
       "      <td>0</td>\n",
       "      <td>2020-01-30 21:30:00</td>\n",
       "      <td>12.750349</td>\n",
       "      <td>122.731210</td>\n",
       "    </tr>\n",
       "    <tr>\n",
       "      <th>57</th>\n",
       "      <td>NaN</td>\n",
       "      <td>India</td>\n",
       "      <td>01/30/2020 21:30</td>\n",
       "      <td>1</td>\n",
       "      <td>0</td>\n",
       "      <td>0</td>\n",
       "      <td>2020-01-30 21:30:00</td>\n",
       "      <td>16.387699</td>\n",
       "      <td>73.730591</td>\n",
       "    </tr>\n",
       "    <tr>\n",
       "      <th>58</th>\n",
       "      <td>NaN</td>\n",
       "      <td>Italy</td>\n",
       "      <td>01/30/2020 21:30</td>\n",
       "      <td>2</td>\n",
       "      <td>0</td>\n",
       "      <td>0</td>\n",
       "      <td>2020-01-30 21:30:00</td>\n",
       "      <td>46.314475</td>\n",
       "      <td>11.048029</td>\n",
       "    </tr>\n",
       "  </tbody>\n",
       "</table>\n",
       "</div>"
      ],
      "text/plain": [
       "      Province/State        Country/Region       Last Update  Confirmed  \\\n",
       "0              Hubei                 China  01/30/2020 21:30       5806   \n",
       "1           Zhejiang                 China  01/30/2020 21:30        537   \n",
       "2          Guangdong                 China  01/30/2020 21:30        393   \n",
       "3              Henan                 China  01/30/2020 21:30        352   \n",
       "4              Hunan                 China  01/30/2020 21:30        332   \n",
       "5            Jiangxi                 China  01/30/2020 21:30        240   \n",
       "6              Anhui                 China  01/30/2020 21:30        237   \n",
       "7          Chongqing                 China  01/30/2020 21:30        206   \n",
       "8           Shandong                 China  01/30/2020 21:30        178   \n",
       "9            Sichuan                 China  01/30/2020 21:30        177   \n",
       "10           Jiangsu                 China  01/30/2020 21:30        168   \n",
       "11          Shanghai                 China  01/30/2020 21:30        128   \n",
       "12           Beijing                 China  01/30/2020 21:30        121   \n",
       "13            Fujian                 China  01/30/2020 21:30        101   \n",
       "14           Guangxi                 China  01/30/2020 21:30         87   \n",
       "15             Hebei                 China  01/30/2020 21:30         82   \n",
       "16            Yunnan                 China  01/30/2020 21:30         76   \n",
       "17           Shaanxi                 China  01/30/2020 21:30         87   \n",
       "18      Heilongjiang                 China  01/30/2020 21:30         59   \n",
       "19            Hainan                 China  01/30/2020 21:30         50   \n",
       "20          Liaoning                 China  01/30/2020 21:30         45   \n",
       "21            Shanxi                 China  01/30/2020 21:30         39   \n",
       "22           Tianjin                 China  01/30/2020 21:30         32   \n",
       "23             Gansu                 China  01/30/2020 21:30         29   \n",
       "24           Ningxia                 China  01/30/2020 21:30         21   \n",
       "25    Inner Mongolia                 China  01/30/2020 21:30         20   \n",
       "26          Xinjiang                 China  01/30/2020 21:30         17   \n",
       "27           Guizhou                 China  01/30/2020 21:30         15   \n",
       "28             Jilin                 China  01/30/2020 21:30         14   \n",
       "29         Hong Kong             Hong Kong  01/30/2020 21:30         12   \n",
       "30            Taiwan                Taiwan  01/30/2020 21:30          9   \n",
       "31           Qinghai                 China  01/30/2020 21:30          8   \n",
       "32             Macau                 Macau  01/30/2020 21:30          7   \n",
       "33             Tibet                 China  01/30/2020 21:30          1   \n",
       "34        Washington                    US  01/30/2020 21:30          1   \n",
       "35          Illinois                    US  01/30/2020 21:30          2   \n",
       "36        California                    US  01/30/2020 21:30          2   \n",
       "37           Arizona                    US  01/30/2020 21:30          1   \n",
       "38               NaN                 Japan  01/30/2020 21:30         11   \n",
       "39               NaN              Thailand  01/30/2020 21:30         14   \n",
       "40               NaN           South Korea  01/30/2020 21:30          6   \n",
       "41               NaN             Singapore  01/30/2020 21:30         10   \n",
       "42               NaN               Vietnam  01/30/2020 21:30          2   \n",
       "43               NaN                France  01/30/2020 21:30          5   \n",
       "44               NaN                 Nepal  01/30/2020 21:30          1   \n",
       "45               NaN              Malaysia  01/30/2020 21:30          8   \n",
       "46           Ontario                Canada  01/30/2020 21:30          2   \n",
       "47  British Columbia                Canada  01/30/2020 21:30          1   \n",
       "48               NaN              Cambodia  01/30/2020 21:30          1   \n",
       "49               NaN             Sri Lanka  01/30/2020 21:30          1   \n",
       "50            Sydney             Australia  01/30/2020 21:30          4   \n",
       "51         Melbourne             Australia  01/30/2020 21:30          2   \n",
       "52          Brisbane             Australia  01/30/2020 21:30          3   \n",
       "53           Bavaria               Germany  01/30/2020 21:30          4   \n",
       "54               NaN               Finland  01/30/2020 21:30          1   \n",
       "55               NaN  United Arab Emirates  01/30/2020 21:30          4   \n",
       "56               NaN           Philippines  01/30/2020 21:30          1   \n",
       "57               NaN                 India  01/30/2020 21:30          1   \n",
       "58               NaN                 Italy  01/30/2020 21:30          2   \n",
       "\n",
       "    Deaths  Recovered   Date_last_updated        lat         lon  \n",
       "0      204        116 2020-01-30 21:30:00  31.151725  112.878322  \n",
       "1        0          9 2020-01-30 21:30:00  29.000000  120.000000  \n",
       "2        0         11 2020-01-30 21:30:00  23.135769  113.198269  \n",
       "3        2          3 2020-01-30 21:30:00  34.000000  114.000000  \n",
       "4        0          2 2020-01-30 21:30:00  27.666209  111.748706  \n",
       "5        0          7 2020-01-30 21:30:00  28.000000  116.000000  \n",
       "6        0          3 2020-01-30 21:30:00  32.000000  117.000000  \n",
       "7        0          1 2020-01-30 21:30:00  29.558571  106.549282  \n",
       "8        0          2 2020-01-30 21:30:00  36.000000  119.000000  \n",
       "9        1          1 2020-01-30 21:30:00  30.500000  102.500000  \n",
       "10       0          2 2020-01-30 21:30:00  33.000000  120.000000  \n",
       "11       1          9 2020-01-30 21:30:00  31.225299  121.489050  \n",
       "12       1          5 2020-01-30 21:30:00  39.906217  116.391276  \n",
       "13       0          0 2020-01-30 21:30:00  26.545000  117.842778  \n",
       "14       0          2 2020-01-30 21:30:00  24.000000  109.000000  \n",
       "15       1          0 2020-01-30 21:30:00  39.000000  116.000000  \n",
       "16       0          0 2020-01-30 21:30:00  25.000000  102.000000  \n",
       "17       0          0 2020-01-30 21:30:00  36.000000  109.000000  \n",
       "18       2          0 2020-01-30 21:30:00  48.000005  127.999992  \n",
       "19       1          1 2020-01-30 21:30:00  19.200000  109.600000  \n",
       "20       0          1 2020-01-30 21:30:00  40.973912  122.326391  \n",
       "21       0          1 2020-01-30 21:30:00  37.000000  112.000000  \n",
       "22       0          0 2020-01-30 21:30:00  39.123564  117.198078  \n",
       "23       0          0 2020-01-30 21:30:00  38.000000  102.000000  \n",
       "24       0          1 2020-01-30 21:30:00  37.309553  105.960855  \n",
       "25       0          0 2020-01-30 21:30:00  43.244324  114.325166  \n",
       "26       0          0 2020-01-30 21:30:00  41.757477   87.167384  \n",
       "27       0          1 2020-01-30 21:30:00  27.000000  107.000000  \n",
       "28       0          1 2020-01-30 21:30:00  42.999503  125.981605  \n",
       "29       0          0 2020-01-30 21:30:00  22.279328  114.162813  \n",
       "30       0          0 2020-01-30 21:30:00  23.973937  120.982018  \n",
       "31       0          0 2020-01-30 21:30:00  35.407095   95.952116  \n",
       "32       0          0 2020-01-30 21:30:00  22.175760  113.551414  \n",
       "33       0          0 2020-01-30 21:30:00  31.894343   87.078137  \n",
       "34       0          0 2020-01-30 21:30:00  38.894893  -77.036553  \n",
       "35       0          0 2020-01-30 21:30:00  40.079661  -89.433729  \n",
       "36       0          0 2020-01-30 21:30:00  36.701463 -118.755997  \n",
       "37       0          0 2020-01-30 21:30:00  34.395342 -111.763276  \n",
       "38       0          1 2020-01-30 21:30:00  34.904657  136.631050  \n",
       "39       0          5 2020-01-30 21:30:00  18.754459  100.624804  \n",
       "40       0          0 2020-01-30 21:30:00  36.558191  127.940856  \n",
       "41       0          0 2020-01-30 21:30:00   1.340863  103.830392  \n",
       "42       0          0 2020-01-30 21:30:00  13.290403  108.426511  \n",
       "43       0          0 2020-01-30 21:30:00  45.156258    5.451583  \n",
       "44       0          0 2020-01-30 21:30:00  28.108393   84.091714  \n",
       "45       0          0 2020-01-30 21:30:00   4.569375  102.265682  \n",
       "46       0          0 2020-01-30 21:30:00  50.000678  -86.000977  \n",
       "47       0          0 2020-01-30 21:30:00  55.001251 -125.002441  \n",
       "48       0          0 2020-01-30 21:30:00  13.506639  104.869423  \n",
       "49       0          0 2020-01-30 21:30:00   7.189522   79.954857  \n",
       "50       0          2 2020-01-30 21:30:00 -33.854816  151.216454  \n",
       "51       0          0 2020-01-30 21:30:00 -37.814218  144.963161  \n",
       "52       0          0 2020-01-30 21:30:00 -27.468968  153.023499  \n",
       "53       0          0 2020-01-30 21:30:00  48.946756   11.403872  \n",
       "54       0          0 2020-01-30 21:30:00  63.246778   25.920916  \n",
       "55       0          0 2020-01-30 21:30:00  24.000249   53.999483  \n",
       "56       0          0 2020-01-30 21:30:00  12.750349  122.731210  \n",
       "57       0          0 2020-01-30 21:30:00  16.387699   73.730591  \n",
       "58       0          0 2020-01-30 21:30:00  46.314475   11.048029  "
      ]
     },
     "execution_count": 7,
     "metadata": {},
     "output_type": "execute_result"
    }
   ],
   "source": [
    "dfs[keyList[0]]"
   ]
  },
  {
   "cell_type": "code",
   "execution_count": 8,
   "metadata": {},
   "outputs": [],
   "source": [
    "# Save numbers into variables to use in the app\n",
    "confirmedCases=dfs[keyList[0]]['Confirmed'].sum()\n",
    "deathsCases=dfs[keyList[0]]['Deaths'].sum()\n",
    "recoveredCases=dfs[keyList[0]]['Recovered'].sum()\n"
   ]
  },
  {
   "cell_type": "code",
   "execution_count": 9,
   "metadata": {},
   "outputs": [],
   "source": [
    "# Construct new dataframe for line plot\n",
    "DateList = []\n",
    "ChinaList =[]\n",
    "OtherList = []\n",
    "\n",
    "for key, df in dfs.items():\n",
    "    dfTpm = df.groupby(['Country/Region'])['Confirmed'].agg(np.sum)\n",
    "    dfTpm = pd.DataFrame({'Code':dfTpm.index, 'Confirmed':dfTpm.values})\n",
    "    dfTpm = dfTpm.sort_values(by='Confirmed', ascending=False).reset_index(drop=True)\n",
    "    DateList.append(df['Date_last_updated'][0])\n",
    "    ChinaList.append(dfTpm['Confirmed'][0])\n",
    "    OtherList.append(dfTpm['Confirmed'][1:].sum())\n",
    "    \n",
    "df_confirmed = pd.DataFrame({'Date':DateList,\n",
    "                             'Mainland China':ChinaList,\n",
    "                             'Other locations':OtherList})    \n"
   ]
  },
  {
   "cell_type": "code",
   "execution_count": 10,
   "metadata": {},
   "outputs": [
    {
     "data": {
      "text/html": [
       "<div>\n",
       "<style scoped>\n",
       "    .dataframe tbody tr th:only-of-type {\n",
       "        vertical-align: middle;\n",
       "    }\n",
       "\n",
       "    .dataframe tbody tr th {\n",
       "        vertical-align: top;\n",
       "    }\n",
       "\n",
       "    .dataframe thead th {\n",
       "        text-align: right;\n",
       "    }\n",
       "</style>\n",
       "<table border=\"1\" class=\"dataframe\">\n",
       "  <thead>\n",
       "    <tr style=\"text-align: right;\">\n",
       "      <th></th>\n",
       "      <th>Date</th>\n",
       "      <th>Mainland China</th>\n",
       "      <th>Other locations</th>\n",
       "    </tr>\n",
       "  </thead>\n",
       "  <tbody>\n",
       "    <tr>\n",
       "      <th>0</th>\n",
       "      <td>2020-01-30 21:30:00</td>\n",
       "      <td>9658</td>\n",
       "      <td>118</td>\n",
       "    </tr>\n",
       "    <tr>\n",
       "      <th>1</th>\n",
       "      <td>2020-01-30 11:00:00</td>\n",
       "      <td>8124</td>\n",
       "      <td>111</td>\n",
       "    </tr>\n",
       "    <tr>\n",
       "      <th>2</th>\n",
       "      <td>2020-01-29 21:00:00</td>\n",
       "      <td>7678</td>\n",
       "      <td>105</td>\n",
       "    </tr>\n",
       "    <tr>\n",
       "      <th>3</th>\n",
       "      <td>2020-01-29 14:30:00</td>\n",
       "      <td>6070</td>\n",
       "      <td>95</td>\n",
       "    </tr>\n",
       "    <tr>\n",
       "      <th>4</th>\n",
       "      <td>2020-01-29 13:30:00</td>\n",
       "      <td>6070</td>\n",
       "      <td>94</td>\n",
       "    </tr>\n",
       "  </tbody>\n",
       "</table>\n",
       "</div>"
      ],
      "text/plain": [
       "                 Date  Mainland China  Other locations\n",
       "0 2020-01-30 21:30:00            9658              118\n",
       "1 2020-01-30 11:00:00            8124              111\n",
       "2 2020-01-29 21:00:00            7678              105\n",
       "3 2020-01-29 14:30:00            6070               95\n",
       "4 2020-01-29 13:30:00            6070               94"
      ]
     },
     "execution_count": 10,
     "metadata": {},
     "output_type": "execute_result"
    }
   ],
   "source": [
    "df_confirmed.head()"
   ]
  },
  {
   "cell_type": "code",
   "execution_count": 160,
   "metadata": {},
   "outputs": [],
   "source": [
    "# Save numbers into variables to use in the app\n",
    "latestDate=datetime.strftime(df_confirmed['Date'][0], '%b %d %Y %H:%M EST')\n",
    "daysOutbreak=(df_confirmed['Date'][0] - datetime.strptime('12/31/2019', '%m/%d/%Y')).days"
   ]
  },
  {
   "cell_type": "code",
   "execution_count": 98,
   "metadata": {},
   "outputs": [
    {
     "data": {
      "application/vnd.plotly.v1+json": {
       "config": {
        "plotlyServerURL": "https://plot.ly"
       },
       "data": [
        {
         "hovertemplate": "<b>%{text}</b><br></br>Mainland China confirmed<br>%{y} cases<br><extra></extra>",
         "line": {
          "color": "#fe582c",
          "width": 2
         },
         "marker": {
          "size": 8
         },
         "mode": "lines+markers",
         "name": "Mainland China",
         "text": [
          "Jan 30 2020 21:30 EST",
          "Jan 30 2020 11:00 EST",
          "Jan 29 2020 21:00 EST",
          "Jan 29 2020 14:30 EST",
          "Jan 29 2020 13:30 EST",
          "Jan 28 2020 23:00 EST",
          "Jan 28 2020 18:00 EST",
          "Jan 28 2020 13:00 EST",
          "Jan 27 2020 20:30 EST",
          "Jan 27 2020 19:00 EST",
          "Jan 27 2020 09:00 EST",
          "Jan 26 2020 23:00 EST",
          "Jan 26 2020 11:00 EST",
          "Jan 25 2020 22:00 EST",
          "Jan 25 2020 12:00 EST",
          "Jan 25 2020 00:00 EST",
          "Jan 24 2020 12:00 EST",
          "Jan 24 2020 00:00 EST",
          "Jan 23 2020 12:00 EST",
          "Jan 22 2020 12:00 EST",
          "Jan 21 2020 00:00 EST"
         ],
         "type": "scatter",
         "x": [
          "2020-01-30T21:30:00",
          "2020-01-30T11:00:00",
          "2020-01-29T21:00:00",
          "2020-01-29T14:30:00",
          "2020-01-29T13:30:00",
          "2020-01-28T23:00:00",
          "2020-01-28T18:00:00",
          "2020-01-28T13:00:00",
          "2020-01-27T20:30:00",
          "2020-01-27T19:00:00",
          "2020-01-27T09:00:00",
          "2020-01-26T23:00:00",
          "2020-01-26T11:00:00",
          "2020-01-25T22:00:00",
          "2020-01-25T12:00:00",
          "2020-01-25T00:00:00",
          "2020-01-24T12:00:00",
          "2020-01-24T00:00:00",
          "2020-01-23T12:00:00",
          "2020-01-22T12:00:00",
          "2020-01-21T00:00:00"
         ],
         "y": [
          9658,
          8124,
          7678,
          6070,
          6070,
          5970,
          5494,
          4610,
          4409,
          2863,
          2825,
          2737,
          2062,
          1979,
          1399,
          1320,
          916,
          865,
          639,
          549,
          327
         ]
        },
        {
         "hovertemplate": "<b>%{text}</b><br></br>Other region confirmed<br>%{y} cases<br><extra></extra>",
         "line": {
          "color": "#2cfec1",
          "width": 2
         },
         "marker": {
          "size": 8
         },
         "mode": "lines+markers",
         "name": "Other Region",
         "text": [
          "Jan 30 2020 21:30 EST",
          "Jan 30 2020 11:00 EST",
          "Jan 29 2020 21:00 EST",
          "Jan 29 2020 14:30 EST",
          "Jan 29 2020 13:30 EST",
          "Jan 28 2020 23:00 EST",
          "Jan 28 2020 18:00 EST",
          "Jan 28 2020 13:00 EST",
          "Jan 27 2020 20:30 EST",
          "Jan 27 2020 19:00 EST",
          "Jan 27 2020 09:00 EST",
          "Jan 26 2020 23:00 EST",
          "Jan 26 2020 11:00 EST",
          "Jan 25 2020 22:00 EST",
          "Jan 25 2020 12:00 EST",
          "Jan 25 2020 00:00 EST",
          "Jan 24 2020 12:00 EST",
          "Jan 24 2020 00:00 EST",
          "Jan 23 2020 12:00 EST",
          "Jan 22 2020 12:00 EST",
          "Jan 21 2020 00:00 EST"
         ],
         "type": "scatter",
         "x": [
          "2020-01-30T21:30:00",
          "2020-01-30T11:00:00",
          "2020-01-29T21:00:00",
          "2020-01-29T14:30:00",
          "2020-01-29T13:30:00",
          "2020-01-28T23:00:00",
          "2020-01-28T18:00:00",
          "2020-01-28T13:00:00",
          "2020-01-27T20:30:00",
          "2020-01-27T19:00:00",
          "2020-01-27T09:00:00",
          "2020-01-26T23:00:00",
          "2020-01-26T11:00:00",
          "2020-01-25T22:00:00",
          "2020-01-25T12:00:00",
          "2020-01-25T00:00:00",
          "2020-01-24T12:00:00",
          "2020-01-24T00:00:00",
          "2020-01-23T12:00:00",
          "2020-01-22T12:00:00",
          "2020-01-21T00:00:00"
         ],
         "y": [
          118,
          111,
          105,
          95,
          94,
          87,
          84,
          80,
          64,
          64,
          61,
          57,
          54,
          40,
          39,
          34,
          25,
          16,
          14,
          6,
          5
         ]
        }
       ],
       "layout": {
        "font": {
         "color": "#7fafdf"
        },
        "legend": {
         "orientation": "h"
        },
        "margin": {
         "b": 10,
         "l": 5,
         "pad": 0,
         "r": 10,
         "t": 50
        },
        "paper_bgcolor": "#272e3e",
        "plot_bgcolor": "#151920",
        "template": {
         "data": {
          "bar": [
           {
            "error_x": {
             "color": "#2a3f5f"
            },
            "error_y": {
             "color": "#2a3f5f"
            },
            "marker": {
             "line": {
              "color": "#E5ECF6",
              "width": 0.5
             }
            },
            "type": "bar"
           }
          ],
          "barpolar": [
           {
            "marker": {
             "line": {
              "color": "#E5ECF6",
              "width": 0.5
             }
            },
            "type": "barpolar"
           }
          ],
          "carpet": [
           {
            "aaxis": {
             "endlinecolor": "#2a3f5f",
             "gridcolor": "white",
             "linecolor": "white",
             "minorgridcolor": "white",
             "startlinecolor": "#2a3f5f"
            },
            "baxis": {
             "endlinecolor": "#2a3f5f",
             "gridcolor": "white",
             "linecolor": "white",
             "minorgridcolor": "white",
             "startlinecolor": "#2a3f5f"
            },
            "type": "carpet"
           }
          ],
          "choropleth": [
           {
            "colorbar": {
             "outlinewidth": 0,
             "ticks": ""
            },
            "type": "choropleth"
           }
          ],
          "contour": [
           {
            "colorbar": {
             "outlinewidth": 0,
             "ticks": ""
            },
            "colorscale": [
             [
              0,
              "#0d0887"
             ],
             [
              0.1111111111111111,
              "#46039f"
             ],
             [
              0.2222222222222222,
              "#7201a8"
             ],
             [
              0.3333333333333333,
              "#9c179e"
             ],
             [
              0.4444444444444444,
              "#bd3786"
             ],
             [
              0.5555555555555556,
              "#d8576b"
             ],
             [
              0.6666666666666666,
              "#ed7953"
             ],
             [
              0.7777777777777778,
              "#fb9f3a"
             ],
             [
              0.8888888888888888,
              "#fdca26"
             ],
             [
              1,
              "#f0f921"
             ]
            ],
            "type": "contour"
           }
          ],
          "contourcarpet": [
           {
            "colorbar": {
             "outlinewidth": 0,
             "ticks": ""
            },
            "type": "contourcarpet"
           }
          ],
          "heatmap": [
           {
            "colorbar": {
             "outlinewidth": 0,
             "ticks": ""
            },
            "colorscale": [
             [
              0,
              "#0d0887"
             ],
             [
              0.1111111111111111,
              "#46039f"
             ],
             [
              0.2222222222222222,
              "#7201a8"
             ],
             [
              0.3333333333333333,
              "#9c179e"
             ],
             [
              0.4444444444444444,
              "#bd3786"
             ],
             [
              0.5555555555555556,
              "#d8576b"
             ],
             [
              0.6666666666666666,
              "#ed7953"
             ],
             [
              0.7777777777777778,
              "#fb9f3a"
             ],
             [
              0.8888888888888888,
              "#fdca26"
             ],
             [
              1,
              "#f0f921"
             ]
            ],
            "type": "heatmap"
           }
          ],
          "heatmapgl": [
           {
            "colorbar": {
             "outlinewidth": 0,
             "ticks": ""
            },
            "colorscale": [
             [
              0,
              "#0d0887"
             ],
             [
              0.1111111111111111,
              "#46039f"
             ],
             [
              0.2222222222222222,
              "#7201a8"
             ],
             [
              0.3333333333333333,
              "#9c179e"
             ],
             [
              0.4444444444444444,
              "#bd3786"
             ],
             [
              0.5555555555555556,
              "#d8576b"
             ],
             [
              0.6666666666666666,
              "#ed7953"
             ],
             [
              0.7777777777777778,
              "#fb9f3a"
             ],
             [
              0.8888888888888888,
              "#fdca26"
             ],
             [
              1,
              "#f0f921"
             ]
            ],
            "type": "heatmapgl"
           }
          ],
          "histogram": [
           {
            "marker": {
             "colorbar": {
              "outlinewidth": 0,
              "ticks": ""
             }
            },
            "type": "histogram"
           }
          ],
          "histogram2d": [
           {
            "colorbar": {
             "outlinewidth": 0,
             "ticks": ""
            },
            "colorscale": [
             [
              0,
              "#0d0887"
             ],
             [
              0.1111111111111111,
              "#46039f"
             ],
             [
              0.2222222222222222,
              "#7201a8"
             ],
             [
              0.3333333333333333,
              "#9c179e"
             ],
             [
              0.4444444444444444,
              "#bd3786"
             ],
             [
              0.5555555555555556,
              "#d8576b"
             ],
             [
              0.6666666666666666,
              "#ed7953"
             ],
             [
              0.7777777777777778,
              "#fb9f3a"
             ],
             [
              0.8888888888888888,
              "#fdca26"
             ],
             [
              1,
              "#f0f921"
             ]
            ],
            "type": "histogram2d"
           }
          ],
          "histogram2dcontour": [
           {
            "colorbar": {
             "outlinewidth": 0,
             "ticks": ""
            },
            "colorscale": [
             [
              0,
              "#0d0887"
             ],
             [
              0.1111111111111111,
              "#46039f"
             ],
             [
              0.2222222222222222,
              "#7201a8"
             ],
             [
              0.3333333333333333,
              "#9c179e"
             ],
             [
              0.4444444444444444,
              "#bd3786"
             ],
             [
              0.5555555555555556,
              "#d8576b"
             ],
             [
              0.6666666666666666,
              "#ed7953"
             ],
             [
              0.7777777777777778,
              "#fb9f3a"
             ],
             [
              0.8888888888888888,
              "#fdca26"
             ],
             [
              1,
              "#f0f921"
             ]
            ],
            "type": "histogram2dcontour"
           }
          ],
          "mesh3d": [
           {
            "colorbar": {
             "outlinewidth": 0,
             "ticks": ""
            },
            "type": "mesh3d"
           }
          ],
          "parcoords": [
           {
            "line": {
             "colorbar": {
              "outlinewidth": 0,
              "ticks": ""
             }
            },
            "type": "parcoords"
           }
          ],
          "pie": [
           {
            "automargin": true,
            "type": "pie"
           }
          ],
          "scatter": [
           {
            "marker": {
             "colorbar": {
              "outlinewidth": 0,
              "ticks": ""
             }
            },
            "type": "scatter"
           }
          ],
          "scatter3d": [
           {
            "line": {
             "colorbar": {
              "outlinewidth": 0,
              "ticks": ""
             }
            },
            "marker": {
             "colorbar": {
              "outlinewidth": 0,
              "ticks": ""
             }
            },
            "type": "scatter3d"
           }
          ],
          "scattercarpet": [
           {
            "marker": {
             "colorbar": {
              "outlinewidth": 0,
              "ticks": ""
             }
            },
            "type": "scattercarpet"
           }
          ],
          "scattergeo": [
           {
            "marker": {
             "colorbar": {
              "outlinewidth": 0,
              "ticks": ""
             }
            },
            "type": "scattergeo"
           }
          ],
          "scattergl": [
           {
            "marker": {
             "colorbar": {
              "outlinewidth": 0,
              "ticks": ""
             }
            },
            "type": "scattergl"
           }
          ],
          "scattermapbox": [
           {
            "marker": {
             "colorbar": {
              "outlinewidth": 0,
              "ticks": ""
             }
            },
            "type": "scattermapbox"
           }
          ],
          "scatterpolar": [
           {
            "marker": {
             "colorbar": {
              "outlinewidth": 0,
              "ticks": ""
             }
            },
            "type": "scatterpolar"
           }
          ],
          "scatterpolargl": [
           {
            "marker": {
             "colorbar": {
              "outlinewidth": 0,
              "ticks": ""
             }
            },
            "type": "scatterpolargl"
           }
          ],
          "scatterternary": [
           {
            "marker": {
             "colorbar": {
              "outlinewidth": 0,
              "ticks": ""
             }
            },
            "type": "scatterternary"
           }
          ],
          "surface": [
           {
            "colorbar": {
             "outlinewidth": 0,
             "ticks": ""
            },
            "colorscale": [
             [
              0,
              "#0d0887"
             ],
             [
              0.1111111111111111,
              "#46039f"
             ],
             [
              0.2222222222222222,
              "#7201a8"
             ],
             [
              0.3333333333333333,
              "#9c179e"
             ],
             [
              0.4444444444444444,
              "#bd3786"
             ],
             [
              0.5555555555555556,
              "#d8576b"
             ],
             [
              0.6666666666666666,
              "#ed7953"
             ],
             [
              0.7777777777777778,
              "#fb9f3a"
             ],
             [
              0.8888888888888888,
              "#fdca26"
             ],
             [
              1,
              "#f0f921"
             ]
            ],
            "type": "surface"
           }
          ],
          "table": [
           {
            "cells": {
             "fill": {
              "color": "#EBF0F8"
             },
             "line": {
              "color": "white"
             }
            },
            "header": {
             "fill": {
              "color": "#C8D4E3"
             },
             "line": {
              "color": "white"
             }
            },
            "type": "table"
           }
          ]
         },
         "layout": {
          "annotationdefaults": {
           "arrowcolor": "#2a3f5f",
           "arrowhead": 0,
           "arrowwidth": 1
          },
          "coloraxis": {
           "colorbar": {
            "outlinewidth": 0,
            "ticks": ""
           }
          },
          "colorscale": {
           "diverging": [
            [
             0,
             "#8e0152"
            ],
            [
             0.1,
             "#c51b7d"
            ],
            [
             0.2,
             "#de77ae"
            ],
            [
             0.3,
             "#f1b6da"
            ],
            [
             0.4,
             "#fde0ef"
            ],
            [
             0.5,
             "#f7f7f7"
            ],
            [
             0.6,
             "#e6f5d0"
            ],
            [
             0.7,
             "#b8e186"
            ],
            [
             0.8,
             "#7fbc41"
            ],
            [
             0.9,
             "#4d9221"
            ],
            [
             1,
             "#276419"
            ]
           ],
           "sequential": [
            [
             0,
             "#0d0887"
            ],
            [
             0.1111111111111111,
             "#46039f"
            ],
            [
             0.2222222222222222,
             "#7201a8"
            ],
            [
             0.3333333333333333,
             "#9c179e"
            ],
            [
             0.4444444444444444,
             "#bd3786"
            ],
            [
             0.5555555555555556,
             "#d8576b"
            ],
            [
             0.6666666666666666,
             "#ed7953"
            ],
            [
             0.7777777777777778,
             "#fb9f3a"
            ],
            [
             0.8888888888888888,
             "#fdca26"
            ],
            [
             1,
             "#f0f921"
            ]
           ],
           "sequentialminus": [
            [
             0,
             "#0d0887"
            ],
            [
             0.1111111111111111,
             "#46039f"
            ],
            [
             0.2222222222222222,
             "#7201a8"
            ],
            [
             0.3333333333333333,
             "#9c179e"
            ],
            [
             0.4444444444444444,
             "#bd3786"
            ],
            [
             0.5555555555555556,
             "#d8576b"
            ],
            [
             0.6666666666666666,
             "#ed7953"
            ],
            [
             0.7777777777777778,
             "#fb9f3a"
            ],
            [
             0.8888888888888888,
             "#fdca26"
            ],
            [
             1,
             "#f0f921"
            ]
           ]
          },
          "colorway": [
           "#636efa",
           "#EF553B",
           "#00cc96",
           "#ab63fa",
           "#FFA15A",
           "#19d3f3",
           "#FF6692",
           "#B6E880",
           "#FF97FF",
           "#FECB52"
          ],
          "font": {
           "color": "#2a3f5f"
          },
          "geo": {
           "bgcolor": "white",
           "lakecolor": "white",
           "landcolor": "#E5ECF6",
           "showlakes": true,
           "showland": true,
           "subunitcolor": "white"
          },
          "hoverlabel": {
           "align": "left"
          },
          "hovermode": "closest",
          "mapbox": {
           "style": "light"
          },
          "paper_bgcolor": "white",
          "plot_bgcolor": "#E5ECF6",
          "polar": {
           "angularaxis": {
            "gridcolor": "white",
            "linecolor": "white",
            "ticks": ""
           },
           "bgcolor": "#E5ECF6",
           "radialaxis": {
            "gridcolor": "white",
            "linecolor": "white",
            "ticks": ""
           }
          },
          "scene": {
           "xaxis": {
            "backgroundcolor": "#E5ECF6",
            "gridcolor": "white",
            "gridwidth": 2,
            "linecolor": "white",
            "showbackground": true,
            "ticks": "",
            "zerolinecolor": "white"
           },
           "yaxis": {
            "backgroundcolor": "#E5ECF6",
            "gridcolor": "white",
            "gridwidth": 2,
            "linecolor": "white",
            "showbackground": true,
            "ticks": "",
            "zerolinecolor": "white"
           },
           "zaxis": {
            "backgroundcolor": "#E5ECF6",
            "gridcolor": "white",
            "gridwidth": 2,
            "linecolor": "white",
            "showbackground": true,
            "ticks": "",
            "zerolinecolor": "white"
           }
          },
          "shapedefaults": {
           "line": {
            "color": "#2a3f5f"
           }
          },
          "ternary": {
           "aaxis": {
            "gridcolor": "white",
            "linecolor": "white",
            "ticks": ""
           },
           "baxis": {
            "gridcolor": "white",
            "linecolor": "white",
            "ticks": ""
           },
           "bgcolor": "#E5ECF6",
           "caxis": {
            "gridcolor": "white",
            "linecolor": "white",
            "ticks": ""
           }
          },
          "title": {
           "x": 0.05
          },
          "xaxis": {
           "automargin": true,
           "gridcolor": "white",
           "linecolor": "white",
           "ticks": "",
           "title": {
            "standoff": 15
           },
           "zerolinecolor": "white",
           "zerolinewidth": 2
          },
          "yaxis": {
           "automargin": true,
           "gridcolor": "white",
           "linecolor": "white",
           "ticks": "",
           "title": {
            "standoff": 15
           },
           "zerolinecolor": "white",
           "zerolinewidth": 2
          }
         }
        },
        "title": {
         "font": {
          "color": "#7fafdf",
          "family": "sans-serif",
          "size": 20
         },
         "text": "<b>Confirmed Cases Timeline<b>",
         "x": 0.5,
         "xanchor": "center",
         "y": 0.96,
         "yanchor": "top"
        },
        "xaxis": {
         "gridcolor": "#272e3e",
         "gridwidth": 0.1,
         "linecolor": "#272e3e",
         "showline": true,
         "tickformat": "%b %d",
         "zeroline": false
        },
        "yaxis": {
         "gridcolor": "#272e3e",
         "gridwidth": 0.1,
         "linecolor": "#272e3e",
         "showline": true,
         "tickmode": "array",
         "ticktext": [
          "0k",
          "1k",
          "2k",
          "3k",
          "4k",
          "5k",
          "6k",
          "7k",
          "8k",
          "9k",
          "10k"
         ],
         "tickvals": [
          0,
          1000,
          2000,
          3000,
          4000,
          5000,
          6000,
          7000,
          8000,
          9000,
          10000
         ],
         "zeroline": false
        }
       }
      },
      "text/html": [
       "<div>\n",
       "        \n",
       "        \n",
       "            <div id=\"96414d54-6dde-4b4b-9147-9b70e05f8b23\" class=\"plotly-graph-div\" style=\"height:525px; width:100%;\"></div>\n",
       "            <script type=\"text/javascript\">\n",
       "                require([\"plotly\"], function(Plotly) {\n",
       "                    window.PLOTLYENV=window.PLOTLYENV || {};\n",
       "                    \n",
       "                if (document.getElementById(\"96414d54-6dde-4b4b-9147-9b70e05f8b23\")) {\n",
       "                    Plotly.newPlot(\n",
       "                        '96414d54-6dde-4b4b-9147-9b70e05f8b23',\n",
       "                        [{\"hovertemplate\": \"<b>%{text}</b><br></br>Mainland China confirmed<br>%{y} cases<br><extra></extra>\", \"line\": {\"color\": \"#fe582c\", \"width\": 2}, \"marker\": {\"size\": 8}, \"mode\": \"lines+markers\", \"name\": \"Mainland China\", \"text\": [\"Jan 30 2020 21:30 EST\", \"Jan 30 2020 11:00 EST\", \"Jan 29 2020 21:00 EST\", \"Jan 29 2020 14:30 EST\", \"Jan 29 2020 13:30 EST\", \"Jan 28 2020 23:00 EST\", \"Jan 28 2020 18:00 EST\", \"Jan 28 2020 13:00 EST\", \"Jan 27 2020 20:30 EST\", \"Jan 27 2020 19:00 EST\", \"Jan 27 2020 09:00 EST\", \"Jan 26 2020 23:00 EST\", \"Jan 26 2020 11:00 EST\", \"Jan 25 2020 22:00 EST\", \"Jan 25 2020 12:00 EST\", \"Jan 25 2020 00:00 EST\", \"Jan 24 2020 12:00 EST\", \"Jan 24 2020 00:00 EST\", \"Jan 23 2020 12:00 EST\", \"Jan 22 2020 12:00 EST\", \"Jan 21 2020 00:00 EST\"], \"type\": \"scatter\", \"x\": [\"2020-01-30T21:30:00\", \"2020-01-30T11:00:00\", \"2020-01-29T21:00:00\", \"2020-01-29T14:30:00\", \"2020-01-29T13:30:00\", \"2020-01-28T23:00:00\", \"2020-01-28T18:00:00\", \"2020-01-28T13:00:00\", \"2020-01-27T20:30:00\", \"2020-01-27T19:00:00\", \"2020-01-27T09:00:00\", \"2020-01-26T23:00:00\", \"2020-01-26T11:00:00\", \"2020-01-25T22:00:00\", \"2020-01-25T12:00:00\", \"2020-01-25T00:00:00\", \"2020-01-24T12:00:00\", \"2020-01-24T00:00:00\", \"2020-01-23T12:00:00\", \"2020-01-22T12:00:00\", \"2020-01-21T00:00:00\"], \"y\": [9658, 8124, 7678, 6070, 6070, 5970, 5494, 4610, 4409, 2863, 2825, 2737, 2062, 1979, 1399, 1320, 916, 865, 639, 549, 327]}, {\"hovertemplate\": \"<b>%{text}</b><br></br>Other region confirmed<br>%{y} cases<br><extra></extra>\", \"line\": {\"color\": \"#2cfec1\", \"width\": 2}, \"marker\": {\"size\": 8}, \"mode\": \"lines+markers\", \"name\": \"Other Region\", \"text\": [\"Jan 30 2020 21:30 EST\", \"Jan 30 2020 11:00 EST\", \"Jan 29 2020 21:00 EST\", \"Jan 29 2020 14:30 EST\", \"Jan 29 2020 13:30 EST\", \"Jan 28 2020 23:00 EST\", \"Jan 28 2020 18:00 EST\", \"Jan 28 2020 13:00 EST\", \"Jan 27 2020 20:30 EST\", \"Jan 27 2020 19:00 EST\", \"Jan 27 2020 09:00 EST\", \"Jan 26 2020 23:00 EST\", \"Jan 26 2020 11:00 EST\", \"Jan 25 2020 22:00 EST\", \"Jan 25 2020 12:00 EST\", \"Jan 25 2020 00:00 EST\", \"Jan 24 2020 12:00 EST\", \"Jan 24 2020 00:00 EST\", \"Jan 23 2020 12:00 EST\", \"Jan 22 2020 12:00 EST\", \"Jan 21 2020 00:00 EST\"], \"type\": \"scatter\", \"x\": [\"2020-01-30T21:30:00\", \"2020-01-30T11:00:00\", \"2020-01-29T21:00:00\", \"2020-01-29T14:30:00\", \"2020-01-29T13:30:00\", \"2020-01-28T23:00:00\", \"2020-01-28T18:00:00\", \"2020-01-28T13:00:00\", \"2020-01-27T20:30:00\", \"2020-01-27T19:00:00\", \"2020-01-27T09:00:00\", \"2020-01-26T23:00:00\", \"2020-01-26T11:00:00\", \"2020-01-25T22:00:00\", \"2020-01-25T12:00:00\", \"2020-01-25T00:00:00\", \"2020-01-24T12:00:00\", \"2020-01-24T00:00:00\", \"2020-01-23T12:00:00\", \"2020-01-22T12:00:00\", \"2020-01-21T00:00:00\"], \"y\": [118, 111, 105, 95, 94, 87, 84, 80, 64, 64, 61, 57, 54, 40, 39, 34, 25, 16, 14, 6, 5]}],\n",
       "                        {\"font\": {\"color\": \"#7fafdf\"}, \"legend\": {\"orientation\": \"h\"}, \"margin\": {\"b\": 10, \"l\": 5, \"pad\": 0, \"r\": 10, \"t\": 50}, \"paper_bgcolor\": \"#272e3e\", \"plot_bgcolor\": \"#151920\", \"template\": {\"data\": {\"bar\": [{\"error_x\": {\"color\": \"#2a3f5f\"}, \"error_y\": {\"color\": \"#2a3f5f\"}, \"marker\": {\"line\": {\"color\": \"#E5ECF6\", \"width\": 0.5}}, \"type\": \"bar\"}], \"barpolar\": [{\"marker\": {\"line\": {\"color\": \"#E5ECF6\", \"width\": 0.5}}, \"type\": \"barpolar\"}], \"carpet\": [{\"aaxis\": {\"endlinecolor\": \"#2a3f5f\", \"gridcolor\": \"white\", \"linecolor\": \"white\", \"minorgridcolor\": \"white\", \"startlinecolor\": \"#2a3f5f\"}, \"baxis\": {\"endlinecolor\": \"#2a3f5f\", \"gridcolor\": \"white\", \"linecolor\": \"white\", \"minorgridcolor\": \"white\", \"startlinecolor\": \"#2a3f5f\"}, \"type\": \"carpet\"}], \"choropleth\": [{\"colorbar\": {\"outlinewidth\": 0, \"ticks\": \"\"}, \"type\": \"choropleth\"}], \"contour\": [{\"colorbar\": {\"outlinewidth\": 0, \"ticks\": \"\"}, \"colorscale\": [[0.0, \"#0d0887\"], [0.1111111111111111, \"#46039f\"], [0.2222222222222222, \"#7201a8\"], [0.3333333333333333, \"#9c179e\"], [0.4444444444444444, \"#bd3786\"], [0.5555555555555556, \"#d8576b\"], [0.6666666666666666, \"#ed7953\"], [0.7777777777777778, \"#fb9f3a\"], [0.8888888888888888, \"#fdca26\"], [1.0, \"#f0f921\"]], \"type\": \"contour\"}], \"contourcarpet\": [{\"colorbar\": {\"outlinewidth\": 0, \"ticks\": \"\"}, \"type\": \"contourcarpet\"}], \"heatmap\": [{\"colorbar\": {\"outlinewidth\": 0, \"ticks\": \"\"}, \"colorscale\": [[0.0, \"#0d0887\"], [0.1111111111111111, \"#46039f\"], [0.2222222222222222, \"#7201a8\"], [0.3333333333333333, \"#9c179e\"], [0.4444444444444444, \"#bd3786\"], [0.5555555555555556, \"#d8576b\"], [0.6666666666666666, \"#ed7953\"], [0.7777777777777778, \"#fb9f3a\"], [0.8888888888888888, \"#fdca26\"], [1.0, \"#f0f921\"]], \"type\": \"heatmap\"}], \"heatmapgl\": [{\"colorbar\": {\"outlinewidth\": 0, \"ticks\": \"\"}, \"colorscale\": [[0.0, \"#0d0887\"], [0.1111111111111111, \"#46039f\"], [0.2222222222222222, \"#7201a8\"], [0.3333333333333333, \"#9c179e\"], [0.4444444444444444, \"#bd3786\"], [0.5555555555555556, \"#d8576b\"], [0.6666666666666666, \"#ed7953\"], [0.7777777777777778, \"#fb9f3a\"], [0.8888888888888888, \"#fdca26\"], [1.0, \"#f0f921\"]], \"type\": \"heatmapgl\"}], \"histogram\": [{\"marker\": {\"colorbar\": {\"outlinewidth\": 0, \"ticks\": \"\"}}, \"type\": \"histogram\"}], \"histogram2d\": [{\"colorbar\": {\"outlinewidth\": 0, \"ticks\": \"\"}, \"colorscale\": [[0.0, \"#0d0887\"], [0.1111111111111111, \"#46039f\"], [0.2222222222222222, \"#7201a8\"], [0.3333333333333333, \"#9c179e\"], [0.4444444444444444, \"#bd3786\"], [0.5555555555555556, \"#d8576b\"], [0.6666666666666666, \"#ed7953\"], [0.7777777777777778, \"#fb9f3a\"], [0.8888888888888888, \"#fdca26\"], [1.0, \"#f0f921\"]], \"type\": \"histogram2d\"}], \"histogram2dcontour\": [{\"colorbar\": {\"outlinewidth\": 0, \"ticks\": \"\"}, \"colorscale\": [[0.0, \"#0d0887\"], [0.1111111111111111, \"#46039f\"], [0.2222222222222222, \"#7201a8\"], [0.3333333333333333, \"#9c179e\"], [0.4444444444444444, \"#bd3786\"], [0.5555555555555556, \"#d8576b\"], [0.6666666666666666, \"#ed7953\"], [0.7777777777777778, \"#fb9f3a\"], [0.8888888888888888, \"#fdca26\"], [1.0, \"#f0f921\"]], \"type\": \"histogram2dcontour\"}], \"mesh3d\": [{\"colorbar\": {\"outlinewidth\": 0, \"ticks\": \"\"}, \"type\": \"mesh3d\"}], \"parcoords\": [{\"line\": {\"colorbar\": {\"outlinewidth\": 0, \"ticks\": \"\"}}, \"type\": \"parcoords\"}], \"pie\": [{\"automargin\": true, \"type\": \"pie\"}], \"scatter\": [{\"marker\": {\"colorbar\": {\"outlinewidth\": 0, \"ticks\": \"\"}}, \"type\": \"scatter\"}], \"scatter3d\": [{\"line\": {\"colorbar\": {\"outlinewidth\": 0, \"ticks\": \"\"}}, \"marker\": {\"colorbar\": {\"outlinewidth\": 0, \"ticks\": \"\"}}, \"type\": \"scatter3d\"}], \"scattercarpet\": [{\"marker\": {\"colorbar\": {\"outlinewidth\": 0, \"ticks\": \"\"}}, \"type\": \"scattercarpet\"}], \"scattergeo\": [{\"marker\": {\"colorbar\": {\"outlinewidth\": 0, \"ticks\": \"\"}}, \"type\": \"scattergeo\"}], \"scattergl\": [{\"marker\": {\"colorbar\": {\"outlinewidth\": 0, \"ticks\": \"\"}}, \"type\": \"scattergl\"}], \"scattermapbox\": [{\"marker\": {\"colorbar\": {\"outlinewidth\": 0, \"ticks\": \"\"}}, \"type\": \"scattermapbox\"}], \"scatterpolar\": [{\"marker\": {\"colorbar\": {\"outlinewidth\": 0, \"ticks\": \"\"}}, \"type\": \"scatterpolar\"}], \"scatterpolargl\": [{\"marker\": {\"colorbar\": {\"outlinewidth\": 0, \"ticks\": \"\"}}, \"type\": \"scatterpolargl\"}], \"scatterternary\": [{\"marker\": {\"colorbar\": {\"outlinewidth\": 0, \"ticks\": \"\"}}, \"type\": \"scatterternary\"}], \"surface\": [{\"colorbar\": {\"outlinewidth\": 0, \"ticks\": \"\"}, \"colorscale\": [[0.0, \"#0d0887\"], [0.1111111111111111, \"#46039f\"], [0.2222222222222222, \"#7201a8\"], [0.3333333333333333, \"#9c179e\"], [0.4444444444444444, \"#bd3786\"], [0.5555555555555556, \"#d8576b\"], [0.6666666666666666, \"#ed7953\"], [0.7777777777777778, \"#fb9f3a\"], [0.8888888888888888, \"#fdca26\"], [1.0, \"#f0f921\"]], \"type\": \"surface\"}], \"table\": [{\"cells\": {\"fill\": {\"color\": \"#EBF0F8\"}, \"line\": {\"color\": \"white\"}}, \"header\": {\"fill\": {\"color\": \"#C8D4E3\"}, \"line\": {\"color\": \"white\"}}, \"type\": \"table\"}]}, \"layout\": {\"annotationdefaults\": {\"arrowcolor\": \"#2a3f5f\", \"arrowhead\": 0, \"arrowwidth\": 1}, \"coloraxis\": {\"colorbar\": {\"outlinewidth\": 0, \"ticks\": \"\"}}, \"colorscale\": {\"diverging\": [[0, \"#8e0152\"], [0.1, \"#c51b7d\"], [0.2, \"#de77ae\"], [0.3, \"#f1b6da\"], [0.4, \"#fde0ef\"], [0.5, \"#f7f7f7\"], [0.6, \"#e6f5d0\"], [0.7, \"#b8e186\"], [0.8, \"#7fbc41\"], [0.9, \"#4d9221\"], [1, \"#276419\"]], \"sequential\": [[0.0, \"#0d0887\"], [0.1111111111111111, \"#46039f\"], [0.2222222222222222, \"#7201a8\"], [0.3333333333333333, \"#9c179e\"], [0.4444444444444444, \"#bd3786\"], [0.5555555555555556, \"#d8576b\"], [0.6666666666666666, \"#ed7953\"], [0.7777777777777778, \"#fb9f3a\"], [0.8888888888888888, \"#fdca26\"], [1.0, \"#f0f921\"]], \"sequentialminus\": [[0.0, \"#0d0887\"], [0.1111111111111111, \"#46039f\"], [0.2222222222222222, \"#7201a8\"], [0.3333333333333333, \"#9c179e\"], [0.4444444444444444, \"#bd3786\"], [0.5555555555555556, \"#d8576b\"], [0.6666666666666666, \"#ed7953\"], [0.7777777777777778, \"#fb9f3a\"], [0.8888888888888888, \"#fdca26\"], [1.0, \"#f0f921\"]]}, \"colorway\": [\"#636efa\", \"#EF553B\", \"#00cc96\", \"#ab63fa\", \"#FFA15A\", \"#19d3f3\", \"#FF6692\", \"#B6E880\", \"#FF97FF\", \"#FECB52\"], \"font\": {\"color\": \"#2a3f5f\"}, \"geo\": {\"bgcolor\": \"white\", \"lakecolor\": \"white\", \"landcolor\": \"#E5ECF6\", \"showlakes\": true, \"showland\": true, \"subunitcolor\": \"white\"}, \"hoverlabel\": {\"align\": \"left\"}, \"hovermode\": \"closest\", \"mapbox\": {\"style\": \"light\"}, \"paper_bgcolor\": \"white\", \"plot_bgcolor\": \"#E5ECF6\", \"polar\": {\"angularaxis\": {\"gridcolor\": \"white\", \"linecolor\": \"white\", \"ticks\": \"\"}, \"bgcolor\": \"#E5ECF6\", \"radialaxis\": {\"gridcolor\": \"white\", \"linecolor\": \"white\", \"ticks\": \"\"}}, \"scene\": {\"xaxis\": {\"backgroundcolor\": \"#E5ECF6\", \"gridcolor\": \"white\", \"gridwidth\": 2, \"linecolor\": \"white\", \"showbackground\": true, \"ticks\": \"\", \"zerolinecolor\": \"white\"}, \"yaxis\": {\"backgroundcolor\": \"#E5ECF6\", \"gridcolor\": \"white\", \"gridwidth\": 2, \"linecolor\": \"white\", \"showbackground\": true, \"ticks\": \"\", \"zerolinecolor\": \"white\"}, \"zaxis\": {\"backgroundcolor\": \"#E5ECF6\", \"gridcolor\": \"white\", \"gridwidth\": 2, \"linecolor\": \"white\", \"showbackground\": true, \"ticks\": \"\", \"zerolinecolor\": \"white\"}}, \"shapedefaults\": {\"line\": {\"color\": \"#2a3f5f\"}}, \"ternary\": {\"aaxis\": {\"gridcolor\": \"white\", \"linecolor\": \"white\", \"ticks\": \"\"}, \"baxis\": {\"gridcolor\": \"white\", \"linecolor\": \"white\", \"ticks\": \"\"}, \"bgcolor\": \"#E5ECF6\", \"caxis\": {\"gridcolor\": \"white\", \"linecolor\": \"white\", \"ticks\": \"\"}}, \"title\": {\"x\": 0.05}, \"xaxis\": {\"automargin\": true, \"gridcolor\": \"white\", \"linecolor\": \"white\", \"ticks\": \"\", \"title\": {\"standoff\": 15}, \"zerolinecolor\": \"white\", \"zerolinewidth\": 2}, \"yaxis\": {\"automargin\": true, \"gridcolor\": \"white\", \"linecolor\": \"white\", \"ticks\": \"\", \"title\": {\"standoff\": 15}, \"zerolinecolor\": \"white\", \"zerolinewidth\": 2}}}, \"title\": {\"font\": {\"color\": \"#7fafdf\", \"family\": \"sans-serif\", \"size\": 20}, \"text\": \"<b>Confirmed Cases Timeline<b>\", \"x\": 0.5, \"xanchor\": \"center\", \"y\": 0.96, \"yanchor\": \"top\"}, \"xaxis\": {\"gridcolor\": \"#272e3e\", \"gridwidth\": 0.1, \"linecolor\": \"#272e3e\", \"showline\": true, \"tickformat\": \"%b %d\", \"zeroline\": false}, \"yaxis\": {\"gridcolor\": \"#272e3e\", \"gridwidth\": 0.1, \"linecolor\": \"#272e3e\", \"showline\": true, \"tickmode\": \"array\", \"ticktext\": [\"0k\", \"1k\", \"2k\", \"3k\", \"4k\", \"5k\", \"6k\", \"7k\", \"8k\", \"9k\", \"10k\"], \"tickvals\": [0, 1000, 2000, 3000, 4000, 5000, 6000, 7000, 8000, 9000, 10000], \"zeroline\": false}},\n",
       "                        {\"responsive\": true}\n",
       "                    ).then(function(){\n",
       "                            \n",
       "var gd = document.getElementById('96414d54-6dde-4b4b-9147-9b70e05f8b23');\n",
       "var x = new MutationObserver(function (mutations, observer) {{\n",
       "        var display = window.getComputedStyle(gd).display;\n",
       "        if (!display || display === 'none') {{\n",
       "            console.log([gd, 'removed!']);\n",
       "            Plotly.purge(gd);\n",
       "            observer.disconnect();\n",
       "        }}\n",
       "}});\n",
       "\n",
       "// Listen for the removal of the full notebook cells\n",
       "var notebookContainer = gd.closest('#notebook-container');\n",
       "if (notebookContainer) {{\n",
       "    x.observe(notebookContainer, {childList: true});\n",
       "}}\n",
       "\n",
       "// Listen for the clearing of the current output cell\n",
       "var outputEl = gd.closest('.output');\n",
       "if (outputEl) {{\n",
       "    x.observe(outputEl, {childList: true});\n",
       "}}\n",
       "\n",
       "                        })\n",
       "                };\n",
       "                });\n",
       "            </script>\n",
       "        </div>"
      ]
     },
     "metadata": {},
     "output_type": "display_data"
    }
   ],
   "source": [
    "# Set up tick scale based on confirmed case number\n",
    "tickList = list(np.arange(0, df_confirmed['Mainland China'].max()+1000, 1000))\n",
    "\n",
    "# Create empty figure canvas\n",
    "fig = go.Figure()\n",
    "# Add trace to the figure\n",
    "fig.add_trace(go.Scatter(x=df_confirmed['Date'], y=df_confirmed['Mainland China'],\n",
    "                         mode='lines+markers',\n",
    "                         name='Mainland China',\n",
    "                         line=dict(color='#fe582c', width=2),\n",
    "                         marker=dict(size=8),\n",
    "                         text=[datetime.strftime(d, '%b %d %Y %H:%M EST') for d in df_confirmed['Date']],\n",
    "                         hovertemplate='<b>%{text}</b><br></br>'+\n",
    "                                       'Mainland China confirmed<br>'+\n",
    "                                       '%{y} cases<br>'+\n",
    "                                       '<extra></extra>'))\n",
    "fig.add_trace(go.Scatter(x=df_confirmed['Date'], y=df_confirmed['Other locations'],\n",
    "                         mode='lines+markers',\n",
    "                         name='Other Region',\n",
    "                         line=dict(color='#2cfec1', width=2),\n",
    "                         marker=dict(size=8),\n",
    "                         text=[datetime.strftime(d, '%b %d %Y %H:%M EST') for d in df_confirmed['Date']],\n",
    "                         hovertemplate='<b>%{text}</b><br></br>'+\n",
    "                                       'Other region confirmed<br>'+\n",
    "                                       '%{y} cases<br>'+\n",
    "                                       '<extra></extra>'))\n",
    "# Customise layout\n",
    "fig.update_layout(\n",
    "    title=dict(\n",
    "        text=\"<b>Confirmed Cases Timeline<b>\",\n",
    "        y=0.96, x=0.5, xanchor='center', yanchor='top',\n",
    "        font=dict(size=20, color=\"#7fafdf\", family=\"sans-serif\")\n",
    "    ),\n",
    "    margin=go.layout.Margin(\n",
    "        l=5,\n",
    "        r=10,\n",
    "        b=10,\n",
    "        t=50,\n",
    "        pad=0\n",
    "    ),\n",
    "    yaxis=dict(\n",
    "        showline=True, linecolor='#272e3e',\n",
    "        zeroline=False,\n",
    "        gridcolor='#272e3e',\n",
    "        gridwidth = .1,\n",
    "        tickmode='array',\n",
    "        # Set tick range based on the maximum number\n",
    "        tickvals=tickList,\n",
    "        # Set tick label accordingly\n",
    "        ticktext=['{:.0f}k'.format(i/1000) for i in tickList]\n",
    "    ),\n",
    "#    yaxis_title=\"Confirmed case number\",\n",
    "    xaxis=dict(\n",
    "        showline=True, linecolor='#272e3e',\n",
    "        gridcolor='#272e3e',\n",
    "        gridwidth = .1,\n",
    "        zeroline=False\n",
    "    ),\n",
    "    xaxis_tickformat='%b %d',\n",
    "    legend_orientation=\"h\",\n",
    "    plot_bgcolor='#151920',\n",
    "    paper_bgcolor='#272e3e',\n",
    "    font=dict(color='#7fafdf')\n",
    ")\n",
    "\n",
    "fig.show()"
   ]
  },
  {
   "cell_type": "code",
   "execution_count": 99,
   "metadata": {},
   "outputs": [
    {
     "data": {
      "application/vnd.plotly.v1+json": {
       "config": {
        "plotlyServerURL": "https://plot.ly"
       },
       "data": [
        {
         "hovertemplate": "<b>%{text}</b><br><br>%{hovertext}<br><extra></extra>",
         "hovertext": [
          "Comfirmed: 5806<br>Death: 204<br>Recovered: 116",
          "Comfirmed: 537<br>Death: 0<br>Recovered: 9",
          "Comfirmed: 393<br>Death: 0<br>Recovered: 11",
          "Comfirmed: 352<br>Death: 2<br>Recovered: 3",
          "Comfirmed: 332<br>Death: 0<br>Recovered: 2",
          "Comfirmed: 240<br>Death: 0<br>Recovered: 7",
          "Comfirmed: 237<br>Death: 0<br>Recovered: 3",
          "Comfirmed: 206<br>Death: 0<br>Recovered: 1",
          "Comfirmed: 178<br>Death: 0<br>Recovered: 2",
          "Comfirmed: 177<br>Death: 1<br>Recovered: 1",
          "Comfirmed: 168<br>Death: 0<br>Recovered: 2",
          "Comfirmed: 128<br>Death: 1<br>Recovered: 9",
          "Comfirmed: 121<br>Death: 1<br>Recovered: 5",
          "Comfirmed: 101<br>Death: 0<br>Recovered: 0",
          "Comfirmed: 87<br>Death: 0<br>Recovered: 2",
          "Comfirmed: 82<br>Death: 1<br>Recovered: 0",
          "Comfirmed: 76<br>Death: 0<br>Recovered: 0",
          "Comfirmed: 87<br>Death: 0<br>Recovered: 0",
          "Comfirmed: 59<br>Death: 2<br>Recovered: 0",
          "Comfirmed: 50<br>Death: 1<br>Recovered: 1",
          "Comfirmed: 45<br>Death: 0<br>Recovered: 1",
          "Comfirmed: 39<br>Death: 0<br>Recovered: 1",
          "Comfirmed: 32<br>Death: 0<br>Recovered: 0",
          "Comfirmed: 29<br>Death: 0<br>Recovered: 0",
          "Comfirmed: 21<br>Death: 0<br>Recovered: 1",
          "Comfirmed: 20<br>Death: 0<br>Recovered: 0",
          "Comfirmed: 17<br>Death: 0<br>Recovered: 0",
          "Comfirmed: 15<br>Death: 0<br>Recovered: 1",
          "Comfirmed: 14<br>Death: 0<br>Recovered: 1",
          "Comfirmed: 12<br>Death: 0<br>Recovered: 0",
          "Comfirmed: 9<br>Death: 0<br>Recovered: 0",
          "Comfirmed: 8<br>Death: 0<br>Recovered: 0",
          "Comfirmed: 7<br>Death: 0<br>Recovered: 0",
          "Comfirmed: 1<br>Death: 0<br>Recovered: 0",
          "Comfirmed: 1<br>Death: 0<br>Recovered: 0",
          "Comfirmed: 2<br>Death: 0<br>Recovered: 0",
          "Comfirmed: 2<br>Death: 0<br>Recovered: 0",
          "Comfirmed: 1<br>Death: 0<br>Recovered: 0",
          "Comfirmed: 11<br>Death: 0<br>Recovered: 1",
          "Comfirmed: 14<br>Death: 0<br>Recovered: 5",
          "Comfirmed: 6<br>Death: 0<br>Recovered: 0",
          "Comfirmed: 10<br>Death: 0<br>Recovered: 0",
          "Comfirmed: 2<br>Death: 0<br>Recovered: 0",
          "Comfirmed: 5<br>Death: 0<br>Recovered: 0",
          "Comfirmed: 1<br>Death: 0<br>Recovered: 0",
          "Comfirmed: 8<br>Death: 0<br>Recovered: 0",
          "Comfirmed: 2<br>Death: 0<br>Recovered: 0",
          "Comfirmed: 1<br>Death: 0<br>Recovered: 0",
          "Comfirmed: 1<br>Death: 0<br>Recovered: 0",
          "Comfirmed: 1<br>Death: 0<br>Recovered: 0",
          "Comfirmed: 4<br>Death: 0<br>Recovered: 2",
          "Comfirmed: 2<br>Death: 0<br>Recovered: 0",
          "Comfirmed: 3<br>Death: 0<br>Recovered: 0",
          "Comfirmed: 4<br>Death: 0<br>Recovered: 0",
          "Comfirmed: 1<br>Death: 0<br>Recovered: 0",
          "Comfirmed: 4<br>Death: 0<br>Recovered: 0",
          "Comfirmed: 1<br>Death: 0<br>Recovered: 0",
          "Comfirmed: 1<br>Death: 0<br>Recovered: 0",
          "Comfirmed: 2<br>Death: 0<br>Recovered: 0"
         ],
         "lat": [
          31.1517252,
          29.0000001,
          23.1357694,
          34.0000001,
          27.6662087,
          28,
          32,
          29.5585712,
          36.0000001,
          30.5000001,
          33.0000001,
          31.2252985,
          39.906217,
          26.5450001,
          24,
          39.0000001,
          25,
          36,
          48.0000047,
          19.2000001,
          40.9739116,
          37,
          39.1235635,
          38.0000001,
          37.3095528,
          43.2443242,
          41.7574769,
          27,
          42.9995032,
          22.2793278,
          23.9739374,
          35.4070952,
          22.1757605,
          31.8943432,
          38.8948932,
          40.0796606,
          36.7014631,
          34.395342,
          34.9046568,
          18.7544594,
          36.5581914,
          1.340863,
          13.2904027,
          45.1562575,
          28.1083929,
          4.5693754,
          50.000678,
          55.001251,
          13.5066394,
          7.1895221,
          -33.8548157,
          -37.8142176,
          -27.4689682,
          48.9467562,
          63.2467777,
          24.0002488,
          12.7503486,
          16.3876987,
          46.3144754
         ],
         "lon": [
          112.8783222,
          119.9999999,
          113.1982688,
          113.9999999,
          111.7487063,
          116,
          117,
          106.5492822,
          118.9999999,
          102.4999999,
          119.9999999,
          121.4890497,
          116.3912757,
          117.842778,
          109,
          116,
          102,
          109,
          127.999992,
          109.5999999,
          122.3263915,
          112,
          117.1980785,
          101.9999999,
          105.9608553,
          114.3251664,
          87.1673842,
          107,
          125.9816054,
          114.1628131,
          120.9820179,
          95.9521157,
          113.5514142,
          87.0781371,
          -77.0365529,
          -89.4337288,
          -118.7559974,
          -111.7632755,
          136.6310496,
          100.624804,
          127.9408564,
          103.8303918,
          108.4265113,
          5.4515829,
          84.0917139,
          102.2656823,
          -86.000977,
          -125.002441,
          104.869423,
          79.9548574,
          151.2164539,
          144.9631608,
          153.0234991,
          11.4038717,
          25.9209164,
          53.9994829,
          122.7312101,
          73.7305913,
          11.0480288
         ],
         "marker": {
          "color": "#ff1414",
          "size": [
           5806,
           537,
           393,
           352,
           332,
           240,
           237,
           206,
           178,
           177,
           168,
           128,
           121,
           101,
           87,
           82,
           76,
           87,
           59,
           50,
           45,
           39,
           32,
           29,
           21,
           20,
           17,
           15,
           14,
           12,
           9,
           8,
           7,
           1,
           1,
           2,
           2,
           1,
           11,
           14,
           6,
           10,
           2,
           5,
           1,
           8,
           2,
           1,
           1,
           1,
           4,
           2,
           3,
           4,
           1,
           4,
           1,
           1,
           2
          ],
          "sizemin": 2,
          "sizemode": "area",
          "sizeref": 7.2575
         },
         "mode": "markers",
         "text": [
          "Hubei, China",
          "Zhejiang, China",
          "Guangdong, China",
          "Henan, China",
          "Hunan, China",
          "Jiangxi, China",
          "Anhui, China",
          "Chongqing, China",
          "Shandong, China",
          "Sichuan, China",
          "Jiangsu, China",
          "Shanghai, China",
          "Beijing, China",
          "Fujian, China",
          "Guangxi, China",
          "Hebei, China",
          "Yunnan, China",
          "Shaanxi, China",
          "Heilongjiang, China",
          "Hainan, China",
          "Liaoning, China",
          "Shanxi, China",
          "Tianjin, China",
          "Gansu, China",
          "Ningxia, China",
          "Inner Mongolia, China",
          "Xinjiang, China",
          "Guizhou, China",
          "Jilin, China",
          "Hong Kong",
          "Taiwan",
          "Qinghai, China",
          "Macau",
          "Tibet, China",
          "Washington, US",
          "Illinois, US",
          "California, US",
          "Arizona, US",
          "Japan",
          "Thailand",
          "South Korea",
          "Singapore",
          "Vietnam",
          "France",
          "Nepal",
          "Malaysia",
          "Ontario, Canada",
          "British Columbia, Canada",
          "Cambodia",
          "Sri Lanka",
          "Sydney, Australia",
          "Melbourne, Australia",
          "Brisbane, Australia",
          "Bavaria, Germany",
          "Finland",
          "United Arab Emirates",
          "Philippines",
          "India",
          "Italy"
         ],
         "type": "scattermapbox"
        }
       ],
       "layout": {
        "hovermode": "closest",
        "mapbox": {
         "accesstoken": "pk.eyJ1IjoicGxvdGx5bWFwYm94IiwiYSI6ImNqdnBvNDMyaTAxYzkzeW5ubWdpZ2VjbmMifQ.TXcBE-xg9BFdV2ocecc_7g",
         "bearing": 0,
         "center": {
          "lat": 29.53886,
          "lon": 173.304781
         },
         "pitch": 0,
         "style": "mapbox://styles/plotlymapbox/cjvprkf3t1kns1cqjxuxmwixz",
         "zoom": 2
        },
        "margin": {
         "b": 10,
         "l": 10,
         "pad": 40,
         "r": 10,
         "t": 50
        },
        "paper_bgcolor": "#272e3e",
        "plot_bgcolor": "#151920",
        "template": {
         "data": {
          "bar": [
           {
            "error_x": {
             "color": "#2a3f5f"
            },
            "error_y": {
             "color": "#2a3f5f"
            },
            "marker": {
             "line": {
              "color": "#E5ECF6",
              "width": 0.5
             }
            },
            "type": "bar"
           }
          ],
          "barpolar": [
           {
            "marker": {
             "line": {
              "color": "#E5ECF6",
              "width": 0.5
             }
            },
            "type": "barpolar"
           }
          ],
          "carpet": [
           {
            "aaxis": {
             "endlinecolor": "#2a3f5f",
             "gridcolor": "white",
             "linecolor": "white",
             "minorgridcolor": "white",
             "startlinecolor": "#2a3f5f"
            },
            "baxis": {
             "endlinecolor": "#2a3f5f",
             "gridcolor": "white",
             "linecolor": "white",
             "minorgridcolor": "white",
             "startlinecolor": "#2a3f5f"
            },
            "type": "carpet"
           }
          ],
          "choropleth": [
           {
            "colorbar": {
             "outlinewidth": 0,
             "ticks": ""
            },
            "type": "choropleth"
           }
          ],
          "contour": [
           {
            "colorbar": {
             "outlinewidth": 0,
             "ticks": ""
            },
            "colorscale": [
             [
              0,
              "#0d0887"
             ],
             [
              0.1111111111111111,
              "#46039f"
             ],
             [
              0.2222222222222222,
              "#7201a8"
             ],
             [
              0.3333333333333333,
              "#9c179e"
             ],
             [
              0.4444444444444444,
              "#bd3786"
             ],
             [
              0.5555555555555556,
              "#d8576b"
             ],
             [
              0.6666666666666666,
              "#ed7953"
             ],
             [
              0.7777777777777778,
              "#fb9f3a"
             ],
             [
              0.8888888888888888,
              "#fdca26"
             ],
             [
              1,
              "#f0f921"
             ]
            ],
            "type": "contour"
           }
          ],
          "contourcarpet": [
           {
            "colorbar": {
             "outlinewidth": 0,
             "ticks": ""
            },
            "type": "contourcarpet"
           }
          ],
          "heatmap": [
           {
            "colorbar": {
             "outlinewidth": 0,
             "ticks": ""
            },
            "colorscale": [
             [
              0,
              "#0d0887"
             ],
             [
              0.1111111111111111,
              "#46039f"
             ],
             [
              0.2222222222222222,
              "#7201a8"
             ],
             [
              0.3333333333333333,
              "#9c179e"
             ],
             [
              0.4444444444444444,
              "#bd3786"
             ],
             [
              0.5555555555555556,
              "#d8576b"
             ],
             [
              0.6666666666666666,
              "#ed7953"
             ],
             [
              0.7777777777777778,
              "#fb9f3a"
             ],
             [
              0.8888888888888888,
              "#fdca26"
             ],
             [
              1,
              "#f0f921"
             ]
            ],
            "type": "heatmap"
           }
          ],
          "heatmapgl": [
           {
            "colorbar": {
             "outlinewidth": 0,
             "ticks": ""
            },
            "colorscale": [
             [
              0,
              "#0d0887"
             ],
             [
              0.1111111111111111,
              "#46039f"
             ],
             [
              0.2222222222222222,
              "#7201a8"
             ],
             [
              0.3333333333333333,
              "#9c179e"
             ],
             [
              0.4444444444444444,
              "#bd3786"
             ],
             [
              0.5555555555555556,
              "#d8576b"
             ],
             [
              0.6666666666666666,
              "#ed7953"
             ],
             [
              0.7777777777777778,
              "#fb9f3a"
             ],
             [
              0.8888888888888888,
              "#fdca26"
             ],
             [
              1,
              "#f0f921"
             ]
            ],
            "type": "heatmapgl"
           }
          ],
          "histogram": [
           {
            "marker": {
             "colorbar": {
              "outlinewidth": 0,
              "ticks": ""
             }
            },
            "type": "histogram"
           }
          ],
          "histogram2d": [
           {
            "colorbar": {
             "outlinewidth": 0,
             "ticks": ""
            },
            "colorscale": [
             [
              0,
              "#0d0887"
             ],
             [
              0.1111111111111111,
              "#46039f"
             ],
             [
              0.2222222222222222,
              "#7201a8"
             ],
             [
              0.3333333333333333,
              "#9c179e"
             ],
             [
              0.4444444444444444,
              "#bd3786"
             ],
             [
              0.5555555555555556,
              "#d8576b"
             ],
             [
              0.6666666666666666,
              "#ed7953"
             ],
             [
              0.7777777777777778,
              "#fb9f3a"
             ],
             [
              0.8888888888888888,
              "#fdca26"
             ],
             [
              1,
              "#f0f921"
             ]
            ],
            "type": "histogram2d"
           }
          ],
          "histogram2dcontour": [
           {
            "colorbar": {
             "outlinewidth": 0,
             "ticks": ""
            },
            "colorscale": [
             [
              0,
              "#0d0887"
             ],
             [
              0.1111111111111111,
              "#46039f"
             ],
             [
              0.2222222222222222,
              "#7201a8"
             ],
             [
              0.3333333333333333,
              "#9c179e"
             ],
             [
              0.4444444444444444,
              "#bd3786"
             ],
             [
              0.5555555555555556,
              "#d8576b"
             ],
             [
              0.6666666666666666,
              "#ed7953"
             ],
             [
              0.7777777777777778,
              "#fb9f3a"
             ],
             [
              0.8888888888888888,
              "#fdca26"
             ],
             [
              1,
              "#f0f921"
             ]
            ],
            "type": "histogram2dcontour"
           }
          ],
          "mesh3d": [
           {
            "colorbar": {
             "outlinewidth": 0,
             "ticks": ""
            },
            "type": "mesh3d"
           }
          ],
          "parcoords": [
           {
            "line": {
             "colorbar": {
              "outlinewidth": 0,
              "ticks": ""
             }
            },
            "type": "parcoords"
           }
          ],
          "pie": [
           {
            "automargin": true,
            "type": "pie"
           }
          ],
          "scatter": [
           {
            "marker": {
             "colorbar": {
              "outlinewidth": 0,
              "ticks": ""
             }
            },
            "type": "scatter"
           }
          ],
          "scatter3d": [
           {
            "line": {
             "colorbar": {
              "outlinewidth": 0,
              "ticks": ""
             }
            },
            "marker": {
             "colorbar": {
              "outlinewidth": 0,
              "ticks": ""
             }
            },
            "type": "scatter3d"
           }
          ],
          "scattercarpet": [
           {
            "marker": {
             "colorbar": {
              "outlinewidth": 0,
              "ticks": ""
             }
            },
            "type": "scattercarpet"
           }
          ],
          "scattergeo": [
           {
            "marker": {
             "colorbar": {
              "outlinewidth": 0,
              "ticks": ""
             }
            },
            "type": "scattergeo"
           }
          ],
          "scattergl": [
           {
            "marker": {
             "colorbar": {
              "outlinewidth": 0,
              "ticks": ""
             }
            },
            "type": "scattergl"
           }
          ],
          "scattermapbox": [
           {
            "marker": {
             "colorbar": {
              "outlinewidth": 0,
              "ticks": ""
             }
            },
            "type": "scattermapbox"
           }
          ],
          "scatterpolar": [
           {
            "marker": {
             "colorbar": {
              "outlinewidth": 0,
              "ticks": ""
             }
            },
            "type": "scatterpolar"
           }
          ],
          "scatterpolargl": [
           {
            "marker": {
             "colorbar": {
              "outlinewidth": 0,
              "ticks": ""
             }
            },
            "type": "scatterpolargl"
           }
          ],
          "scatterternary": [
           {
            "marker": {
             "colorbar": {
              "outlinewidth": 0,
              "ticks": ""
             }
            },
            "type": "scatterternary"
           }
          ],
          "surface": [
           {
            "colorbar": {
             "outlinewidth": 0,
             "ticks": ""
            },
            "colorscale": [
             [
              0,
              "#0d0887"
             ],
             [
              0.1111111111111111,
              "#46039f"
             ],
             [
              0.2222222222222222,
              "#7201a8"
             ],
             [
              0.3333333333333333,
              "#9c179e"
             ],
             [
              0.4444444444444444,
              "#bd3786"
             ],
             [
              0.5555555555555556,
              "#d8576b"
             ],
             [
              0.6666666666666666,
              "#ed7953"
             ],
             [
              0.7777777777777778,
              "#fb9f3a"
             ],
             [
              0.8888888888888888,
              "#fdca26"
             ],
             [
              1,
              "#f0f921"
             ]
            ],
            "type": "surface"
           }
          ],
          "table": [
           {
            "cells": {
             "fill": {
              "color": "#EBF0F8"
             },
             "line": {
              "color": "white"
             }
            },
            "header": {
             "fill": {
              "color": "#C8D4E3"
             },
             "line": {
              "color": "white"
             }
            },
            "type": "table"
           }
          ]
         },
         "layout": {
          "annotationdefaults": {
           "arrowcolor": "#2a3f5f",
           "arrowhead": 0,
           "arrowwidth": 1
          },
          "coloraxis": {
           "colorbar": {
            "outlinewidth": 0,
            "ticks": ""
           }
          },
          "colorscale": {
           "diverging": [
            [
             0,
             "#8e0152"
            ],
            [
             0.1,
             "#c51b7d"
            ],
            [
             0.2,
             "#de77ae"
            ],
            [
             0.3,
             "#f1b6da"
            ],
            [
             0.4,
             "#fde0ef"
            ],
            [
             0.5,
             "#f7f7f7"
            ],
            [
             0.6,
             "#e6f5d0"
            ],
            [
             0.7,
             "#b8e186"
            ],
            [
             0.8,
             "#7fbc41"
            ],
            [
             0.9,
             "#4d9221"
            ],
            [
             1,
             "#276419"
            ]
           ],
           "sequential": [
            [
             0,
             "#0d0887"
            ],
            [
             0.1111111111111111,
             "#46039f"
            ],
            [
             0.2222222222222222,
             "#7201a8"
            ],
            [
             0.3333333333333333,
             "#9c179e"
            ],
            [
             0.4444444444444444,
             "#bd3786"
            ],
            [
             0.5555555555555556,
             "#d8576b"
            ],
            [
             0.6666666666666666,
             "#ed7953"
            ],
            [
             0.7777777777777778,
             "#fb9f3a"
            ],
            [
             0.8888888888888888,
             "#fdca26"
            ],
            [
             1,
             "#f0f921"
            ]
           ],
           "sequentialminus": [
            [
             0,
             "#0d0887"
            ],
            [
             0.1111111111111111,
             "#46039f"
            ],
            [
             0.2222222222222222,
             "#7201a8"
            ],
            [
             0.3333333333333333,
             "#9c179e"
            ],
            [
             0.4444444444444444,
             "#bd3786"
            ],
            [
             0.5555555555555556,
             "#d8576b"
            ],
            [
             0.6666666666666666,
             "#ed7953"
            ],
            [
             0.7777777777777778,
             "#fb9f3a"
            ],
            [
             0.8888888888888888,
             "#fdca26"
            ],
            [
             1,
             "#f0f921"
            ]
           ]
          },
          "colorway": [
           "#636efa",
           "#EF553B",
           "#00cc96",
           "#ab63fa",
           "#FFA15A",
           "#19d3f3",
           "#FF6692",
           "#B6E880",
           "#FF97FF",
           "#FECB52"
          ],
          "font": {
           "color": "#2a3f5f"
          },
          "geo": {
           "bgcolor": "white",
           "lakecolor": "white",
           "landcolor": "#E5ECF6",
           "showlakes": true,
           "showland": true,
           "subunitcolor": "white"
          },
          "hoverlabel": {
           "align": "left"
          },
          "hovermode": "closest",
          "mapbox": {
           "style": "light"
          },
          "paper_bgcolor": "white",
          "plot_bgcolor": "#E5ECF6",
          "polar": {
           "angularaxis": {
            "gridcolor": "white",
            "linecolor": "white",
            "ticks": ""
           },
           "bgcolor": "#E5ECF6",
           "radialaxis": {
            "gridcolor": "white",
            "linecolor": "white",
            "ticks": ""
           }
          },
          "scene": {
           "xaxis": {
            "backgroundcolor": "#E5ECF6",
            "gridcolor": "white",
            "gridwidth": 2,
            "linecolor": "white",
            "showbackground": true,
            "ticks": "",
            "zerolinecolor": "white"
           },
           "yaxis": {
            "backgroundcolor": "#E5ECF6",
            "gridcolor": "white",
            "gridwidth": 2,
            "linecolor": "white",
            "showbackground": true,
            "ticks": "",
            "zerolinecolor": "white"
           },
           "zaxis": {
            "backgroundcolor": "#E5ECF6",
            "gridcolor": "white",
            "gridwidth": 2,
            "linecolor": "white",
            "showbackground": true,
            "ticks": "",
            "zerolinecolor": "white"
           }
          },
          "shapedefaults": {
           "line": {
            "color": "#2a3f5f"
           }
          },
          "ternary": {
           "aaxis": {
            "gridcolor": "white",
            "linecolor": "white",
            "ticks": ""
           },
           "baxis": {
            "gridcolor": "white",
            "linecolor": "white",
            "ticks": ""
           },
           "bgcolor": "#E5ECF6",
           "caxis": {
            "gridcolor": "white",
            "linecolor": "white",
            "ticks": ""
           }
          },
          "title": {
           "x": 0.05
          },
          "xaxis": {
           "automargin": true,
           "gridcolor": "white",
           "linecolor": "white",
           "ticks": "",
           "title": {
            "standoff": 15
           },
           "zerolinecolor": "white",
           "zerolinewidth": 2
          },
          "yaxis": {
           "automargin": true,
           "gridcolor": "white",
           "linecolor": "white",
           "ticks": "",
           "title": {
            "standoff": 15
           },
           "zerolinecolor": "white",
           "zerolinewidth": 2
          }
         }
        },
        "title": {
         "font": {
          "color": "#7fafdf",
          "family": "sans-serif",
          "size": 20
         },
         "text": "<b>Latest Coronavirus Outbreak Map<b>",
         "x": 0.5,
         "xanchor": "center",
         "y": 0.96,
         "yanchor": "top"
        }
       }
      },
      "text/html": [
       "<div>\n",
       "        \n",
       "        \n",
       "            <div id=\"65e17e34-0f75-4965-9972-e3f901807f1c\" class=\"plotly-graph-div\" style=\"height:525px; width:100%;\"></div>\n",
       "            <script type=\"text/javascript\">\n",
       "                require([\"plotly\"], function(Plotly) {\n",
       "                    window.PLOTLYENV=window.PLOTLYENV || {};\n",
       "                    \n",
       "                if (document.getElementById(\"65e17e34-0f75-4965-9972-e3f901807f1c\")) {\n",
       "                    Plotly.newPlot(\n",
       "                        '65e17e34-0f75-4965-9972-e3f901807f1c',\n",
       "                        [{\"hovertemplate\": \"<b>%{text}</b><br><br>%{hovertext}<br><extra></extra>\", \"hovertext\": [\"Comfirmed: 5806<br>Death: 204<br>Recovered: 116\", \"Comfirmed: 537<br>Death: 0<br>Recovered: 9\", \"Comfirmed: 393<br>Death: 0<br>Recovered: 11\", \"Comfirmed: 352<br>Death: 2<br>Recovered: 3\", \"Comfirmed: 332<br>Death: 0<br>Recovered: 2\", \"Comfirmed: 240<br>Death: 0<br>Recovered: 7\", \"Comfirmed: 237<br>Death: 0<br>Recovered: 3\", \"Comfirmed: 206<br>Death: 0<br>Recovered: 1\", \"Comfirmed: 178<br>Death: 0<br>Recovered: 2\", \"Comfirmed: 177<br>Death: 1<br>Recovered: 1\", \"Comfirmed: 168<br>Death: 0<br>Recovered: 2\", \"Comfirmed: 128<br>Death: 1<br>Recovered: 9\", \"Comfirmed: 121<br>Death: 1<br>Recovered: 5\", \"Comfirmed: 101<br>Death: 0<br>Recovered: 0\", \"Comfirmed: 87<br>Death: 0<br>Recovered: 2\", \"Comfirmed: 82<br>Death: 1<br>Recovered: 0\", \"Comfirmed: 76<br>Death: 0<br>Recovered: 0\", \"Comfirmed: 87<br>Death: 0<br>Recovered: 0\", \"Comfirmed: 59<br>Death: 2<br>Recovered: 0\", \"Comfirmed: 50<br>Death: 1<br>Recovered: 1\", \"Comfirmed: 45<br>Death: 0<br>Recovered: 1\", \"Comfirmed: 39<br>Death: 0<br>Recovered: 1\", \"Comfirmed: 32<br>Death: 0<br>Recovered: 0\", \"Comfirmed: 29<br>Death: 0<br>Recovered: 0\", \"Comfirmed: 21<br>Death: 0<br>Recovered: 1\", \"Comfirmed: 20<br>Death: 0<br>Recovered: 0\", \"Comfirmed: 17<br>Death: 0<br>Recovered: 0\", \"Comfirmed: 15<br>Death: 0<br>Recovered: 1\", \"Comfirmed: 14<br>Death: 0<br>Recovered: 1\", \"Comfirmed: 12<br>Death: 0<br>Recovered: 0\", \"Comfirmed: 9<br>Death: 0<br>Recovered: 0\", \"Comfirmed: 8<br>Death: 0<br>Recovered: 0\", \"Comfirmed: 7<br>Death: 0<br>Recovered: 0\", \"Comfirmed: 1<br>Death: 0<br>Recovered: 0\", \"Comfirmed: 1<br>Death: 0<br>Recovered: 0\", \"Comfirmed: 2<br>Death: 0<br>Recovered: 0\", \"Comfirmed: 2<br>Death: 0<br>Recovered: 0\", \"Comfirmed: 1<br>Death: 0<br>Recovered: 0\", \"Comfirmed: 11<br>Death: 0<br>Recovered: 1\", \"Comfirmed: 14<br>Death: 0<br>Recovered: 5\", \"Comfirmed: 6<br>Death: 0<br>Recovered: 0\", \"Comfirmed: 10<br>Death: 0<br>Recovered: 0\", \"Comfirmed: 2<br>Death: 0<br>Recovered: 0\", \"Comfirmed: 5<br>Death: 0<br>Recovered: 0\", \"Comfirmed: 1<br>Death: 0<br>Recovered: 0\", \"Comfirmed: 8<br>Death: 0<br>Recovered: 0\", \"Comfirmed: 2<br>Death: 0<br>Recovered: 0\", \"Comfirmed: 1<br>Death: 0<br>Recovered: 0\", \"Comfirmed: 1<br>Death: 0<br>Recovered: 0\", \"Comfirmed: 1<br>Death: 0<br>Recovered: 0\", \"Comfirmed: 4<br>Death: 0<br>Recovered: 2\", \"Comfirmed: 2<br>Death: 0<br>Recovered: 0\", \"Comfirmed: 3<br>Death: 0<br>Recovered: 0\", \"Comfirmed: 4<br>Death: 0<br>Recovered: 0\", \"Comfirmed: 1<br>Death: 0<br>Recovered: 0\", \"Comfirmed: 4<br>Death: 0<br>Recovered: 0\", \"Comfirmed: 1<br>Death: 0<br>Recovered: 0\", \"Comfirmed: 1<br>Death: 0<br>Recovered: 0\", \"Comfirmed: 2<br>Death: 0<br>Recovered: 0\"], \"lat\": [31.1517252, 29.0000001, 23.1357694, 34.0000001, 27.6662087, 28.0, 32.0, 29.5585712, 36.0000001, 30.5000001, 33.0000001, 31.2252985, 39.906217, 26.5450001, 24.0, 39.0000001, 25.0, 36.0, 48.0000047, 19.2000001, 40.9739116, 37.0, 39.1235635, 38.0000001, 37.3095528, 43.2443242, 41.7574769, 27.0, 42.9995032, 22.2793278, 23.9739374, 35.4070952, 22.1757605, 31.8943432, 38.8948932, 40.0796606, 36.7014631, 34.395342, 34.9046568, 18.7544594, 36.5581914, 1.340863, 13.2904027, 45.1562575, 28.1083929, 4.5693754, 50.000678, 55.001251, 13.5066394, 7.1895221, -33.8548157, -37.8142176, -27.4689682, 48.9467562, 63.2467777, 24.0002488, 12.7503486, 16.3876987, 46.3144754], \"lon\": [112.8783222, 119.9999999, 113.1982688, 113.9999999, 111.7487063, 116.0, 117.0, 106.5492822, 118.9999999, 102.4999999, 119.9999999, 121.4890497, 116.3912757, 117.842778, 109.0, 116.0, 102.0, 109.0, 127.999992, 109.5999999, 122.3263915, 112.0, 117.1980785, 101.9999999, 105.9608553, 114.3251664, 87.1673842, 107.0, 125.9816054, 114.1628131, 120.9820179, 95.9521157, 113.5514142, 87.0781371, -77.0365529, -89.4337288, -118.7559974, -111.7632755, 136.6310496, 100.624804, 127.9408564, 103.8303918, 108.4265113, 5.4515829, 84.0917139, 102.2656823, -86.000977, -125.002441, 104.869423, 79.9548574, 151.2164539, 144.9631608, 153.0234991, 11.4038717, 25.9209164, 53.9994829, 122.7312101, 73.7305913, 11.0480288], \"marker\": {\"color\": \"#ff1414\", \"size\": [5806, 537, 393, 352, 332, 240, 237, 206, 178, 177, 168, 128, 121, 101, 87, 82, 76, 87, 59, 50, 45, 39, 32, 29, 21, 20, 17, 15, 14, 12, 9, 8, 7, 1, 1, 2, 2, 1, 11, 14, 6, 10, 2, 5, 1, 8, 2, 1, 1, 1, 4, 2, 3, 4, 1, 4, 1, 1, 2], \"sizemin\": 2, \"sizemode\": \"area\", \"sizeref\": 7.2575}, \"mode\": \"markers\", \"text\": [\"Hubei, China\", \"Zhejiang, China\", \"Guangdong, China\", \"Henan, China\", \"Hunan, China\", \"Jiangxi, China\", \"Anhui, China\", \"Chongqing, China\", \"Shandong, China\", \"Sichuan, China\", \"Jiangsu, China\", \"Shanghai, China\", \"Beijing, China\", \"Fujian, China\", \"Guangxi, China\", \"Hebei, China\", \"Yunnan, China\", \"Shaanxi, China\", \"Heilongjiang, China\", \"Hainan, China\", \"Liaoning, China\", \"Shanxi, China\", \"Tianjin, China\", \"Gansu, China\", \"Ningxia, China\", \"Inner Mongolia, China\", \"Xinjiang, China\", \"Guizhou, China\", \"Jilin, China\", \"Hong Kong\", \"Taiwan\", \"Qinghai, China\", \"Macau\", \"Tibet, China\", \"Washington, US\", \"Illinois, US\", \"California, US\", \"Arizona, US\", \"Japan\", \"Thailand\", \"South Korea\", \"Singapore\", \"Vietnam\", \"France\", \"Nepal\", \"Malaysia\", \"Ontario, Canada\", \"British Columbia, Canada\", \"Cambodia\", \"Sri Lanka\", \"Sydney, Australia\", \"Melbourne, Australia\", \"Brisbane, Australia\", \"Bavaria, Germany\", \"Finland\", \"United Arab Emirates\", \"Philippines\", \"India\", \"Italy\"], \"type\": \"scattermapbox\"}],\n",
       "                        {\"hovermode\": \"closest\", \"mapbox\": {\"accesstoken\": \"pk.eyJ1IjoicGxvdGx5bWFwYm94IiwiYSI6ImNqdnBvNDMyaTAxYzkzeW5ubWdpZ2VjbmMifQ.TXcBE-xg9BFdV2ocecc_7g\", \"bearing\": 0, \"center\": {\"lat\": 29.53886, \"lon\": 173.304781}, \"pitch\": 0, \"style\": \"mapbox://styles/plotlymapbox/cjvprkf3t1kns1cqjxuxmwixz\", \"zoom\": 2}, \"margin\": {\"b\": 10, \"l\": 10, \"pad\": 40, \"r\": 10, \"t\": 50}, \"paper_bgcolor\": \"#272e3e\", \"plot_bgcolor\": \"#151920\", \"template\": {\"data\": {\"bar\": [{\"error_x\": {\"color\": \"#2a3f5f\"}, \"error_y\": {\"color\": \"#2a3f5f\"}, \"marker\": {\"line\": {\"color\": \"#E5ECF6\", \"width\": 0.5}}, \"type\": \"bar\"}], \"barpolar\": [{\"marker\": {\"line\": {\"color\": \"#E5ECF6\", \"width\": 0.5}}, \"type\": \"barpolar\"}], \"carpet\": [{\"aaxis\": {\"endlinecolor\": \"#2a3f5f\", \"gridcolor\": \"white\", \"linecolor\": \"white\", \"minorgridcolor\": \"white\", \"startlinecolor\": \"#2a3f5f\"}, \"baxis\": {\"endlinecolor\": \"#2a3f5f\", \"gridcolor\": \"white\", \"linecolor\": \"white\", \"minorgridcolor\": \"white\", \"startlinecolor\": \"#2a3f5f\"}, \"type\": \"carpet\"}], \"choropleth\": [{\"colorbar\": {\"outlinewidth\": 0, \"ticks\": \"\"}, \"type\": \"choropleth\"}], \"contour\": [{\"colorbar\": {\"outlinewidth\": 0, \"ticks\": \"\"}, \"colorscale\": [[0.0, \"#0d0887\"], [0.1111111111111111, \"#46039f\"], [0.2222222222222222, \"#7201a8\"], [0.3333333333333333, \"#9c179e\"], [0.4444444444444444, \"#bd3786\"], [0.5555555555555556, \"#d8576b\"], [0.6666666666666666, \"#ed7953\"], [0.7777777777777778, \"#fb9f3a\"], [0.8888888888888888, \"#fdca26\"], [1.0, \"#f0f921\"]], \"type\": \"contour\"}], \"contourcarpet\": [{\"colorbar\": {\"outlinewidth\": 0, \"ticks\": \"\"}, \"type\": \"contourcarpet\"}], \"heatmap\": [{\"colorbar\": {\"outlinewidth\": 0, \"ticks\": \"\"}, \"colorscale\": [[0.0, \"#0d0887\"], [0.1111111111111111, \"#46039f\"], [0.2222222222222222, \"#7201a8\"], [0.3333333333333333, \"#9c179e\"], [0.4444444444444444, \"#bd3786\"], [0.5555555555555556, \"#d8576b\"], [0.6666666666666666, \"#ed7953\"], [0.7777777777777778, \"#fb9f3a\"], [0.8888888888888888, \"#fdca26\"], [1.0, \"#f0f921\"]], \"type\": \"heatmap\"}], \"heatmapgl\": [{\"colorbar\": {\"outlinewidth\": 0, \"ticks\": \"\"}, \"colorscale\": [[0.0, \"#0d0887\"], [0.1111111111111111, \"#46039f\"], [0.2222222222222222, \"#7201a8\"], [0.3333333333333333, \"#9c179e\"], [0.4444444444444444, \"#bd3786\"], [0.5555555555555556, \"#d8576b\"], [0.6666666666666666, \"#ed7953\"], [0.7777777777777778, \"#fb9f3a\"], [0.8888888888888888, \"#fdca26\"], [1.0, \"#f0f921\"]], \"type\": \"heatmapgl\"}], \"histogram\": [{\"marker\": {\"colorbar\": {\"outlinewidth\": 0, \"ticks\": \"\"}}, \"type\": \"histogram\"}], \"histogram2d\": [{\"colorbar\": {\"outlinewidth\": 0, \"ticks\": \"\"}, \"colorscale\": [[0.0, \"#0d0887\"], [0.1111111111111111, \"#46039f\"], [0.2222222222222222, \"#7201a8\"], [0.3333333333333333, \"#9c179e\"], [0.4444444444444444, \"#bd3786\"], [0.5555555555555556, \"#d8576b\"], [0.6666666666666666, \"#ed7953\"], [0.7777777777777778, \"#fb9f3a\"], [0.8888888888888888, \"#fdca26\"], [1.0, \"#f0f921\"]], \"type\": \"histogram2d\"}], \"histogram2dcontour\": [{\"colorbar\": {\"outlinewidth\": 0, \"ticks\": \"\"}, \"colorscale\": [[0.0, \"#0d0887\"], [0.1111111111111111, \"#46039f\"], [0.2222222222222222, \"#7201a8\"], [0.3333333333333333, \"#9c179e\"], [0.4444444444444444, \"#bd3786\"], [0.5555555555555556, \"#d8576b\"], [0.6666666666666666, \"#ed7953\"], [0.7777777777777778, \"#fb9f3a\"], [0.8888888888888888, \"#fdca26\"], [1.0, \"#f0f921\"]], \"type\": \"histogram2dcontour\"}], \"mesh3d\": [{\"colorbar\": {\"outlinewidth\": 0, \"ticks\": \"\"}, \"type\": \"mesh3d\"}], \"parcoords\": [{\"line\": {\"colorbar\": {\"outlinewidth\": 0, \"ticks\": \"\"}}, \"type\": \"parcoords\"}], \"pie\": [{\"automargin\": true, \"type\": \"pie\"}], \"scatter\": [{\"marker\": {\"colorbar\": {\"outlinewidth\": 0, \"ticks\": \"\"}}, \"type\": \"scatter\"}], \"scatter3d\": [{\"line\": {\"colorbar\": {\"outlinewidth\": 0, \"ticks\": \"\"}}, \"marker\": {\"colorbar\": {\"outlinewidth\": 0, \"ticks\": \"\"}}, \"type\": \"scatter3d\"}], \"scattercarpet\": [{\"marker\": {\"colorbar\": {\"outlinewidth\": 0, \"ticks\": \"\"}}, \"type\": \"scattercarpet\"}], \"scattergeo\": [{\"marker\": {\"colorbar\": {\"outlinewidth\": 0, \"ticks\": \"\"}}, \"type\": \"scattergeo\"}], \"scattergl\": [{\"marker\": {\"colorbar\": {\"outlinewidth\": 0, \"ticks\": \"\"}}, \"type\": \"scattergl\"}], \"scattermapbox\": [{\"marker\": {\"colorbar\": {\"outlinewidth\": 0, \"ticks\": \"\"}}, \"type\": \"scattermapbox\"}], \"scatterpolar\": [{\"marker\": {\"colorbar\": {\"outlinewidth\": 0, \"ticks\": \"\"}}, \"type\": \"scatterpolar\"}], \"scatterpolargl\": [{\"marker\": {\"colorbar\": {\"outlinewidth\": 0, \"ticks\": \"\"}}, \"type\": \"scatterpolargl\"}], \"scatterternary\": [{\"marker\": {\"colorbar\": {\"outlinewidth\": 0, \"ticks\": \"\"}}, \"type\": \"scatterternary\"}], \"surface\": [{\"colorbar\": {\"outlinewidth\": 0, \"ticks\": \"\"}, \"colorscale\": [[0.0, \"#0d0887\"], [0.1111111111111111, \"#46039f\"], [0.2222222222222222, \"#7201a8\"], [0.3333333333333333, \"#9c179e\"], [0.4444444444444444, \"#bd3786\"], [0.5555555555555556, \"#d8576b\"], [0.6666666666666666, \"#ed7953\"], [0.7777777777777778, \"#fb9f3a\"], [0.8888888888888888, \"#fdca26\"], [1.0, \"#f0f921\"]], \"type\": \"surface\"}], \"table\": [{\"cells\": {\"fill\": {\"color\": \"#EBF0F8\"}, \"line\": {\"color\": \"white\"}}, \"header\": {\"fill\": {\"color\": \"#C8D4E3\"}, \"line\": {\"color\": \"white\"}}, \"type\": \"table\"}]}, \"layout\": {\"annotationdefaults\": {\"arrowcolor\": \"#2a3f5f\", \"arrowhead\": 0, \"arrowwidth\": 1}, \"coloraxis\": {\"colorbar\": {\"outlinewidth\": 0, \"ticks\": \"\"}}, \"colorscale\": {\"diverging\": [[0, \"#8e0152\"], [0.1, \"#c51b7d\"], [0.2, \"#de77ae\"], [0.3, \"#f1b6da\"], [0.4, \"#fde0ef\"], [0.5, \"#f7f7f7\"], [0.6, \"#e6f5d0\"], [0.7, \"#b8e186\"], [0.8, \"#7fbc41\"], [0.9, \"#4d9221\"], [1, \"#276419\"]], \"sequential\": [[0.0, \"#0d0887\"], [0.1111111111111111, \"#46039f\"], [0.2222222222222222, \"#7201a8\"], [0.3333333333333333, \"#9c179e\"], [0.4444444444444444, \"#bd3786\"], [0.5555555555555556, \"#d8576b\"], [0.6666666666666666, \"#ed7953\"], [0.7777777777777778, \"#fb9f3a\"], [0.8888888888888888, \"#fdca26\"], [1.0, \"#f0f921\"]], \"sequentialminus\": [[0.0, \"#0d0887\"], [0.1111111111111111, \"#46039f\"], [0.2222222222222222, \"#7201a8\"], [0.3333333333333333, \"#9c179e\"], [0.4444444444444444, \"#bd3786\"], [0.5555555555555556, \"#d8576b\"], [0.6666666666666666, \"#ed7953\"], [0.7777777777777778, \"#fb9f3a\"], [0.8888888888888888, \"#fdca26\"], [1.0, \"#f0f921\"]]}, \"colorway\": [\"#636efa\", \"#EF553B\", \"#00cc96\", \"#ab63fa\", \"#FFA15A\", \"#19d3f3\", \"#FF6692\", \"#B6E880\", \"#FF97FF\", \"#FECB52\"], \"font\": {\"color\": \"#2a3f5f\"}, \"geo\": {\"bgcolor\": \"white\", \"lakecolor\": \"white\", \"landcolor\": \"#E5ECF6\", \"showlakes\": true, \"showland\": true, \"subunitcolor\": \"white\"}, \"hoverlabel\": {\"align\": \"left\"}, \"hovermode\": \"closest\", \"mapbox\": {\"style\": \"light\"}, \"paper_bgcolor\": \"white\", \"plot_bgcolor\": \"#E5ECF6\", \"polar\": {\"angularaxis\": {\"gridcolor\": \"white\", \"linecolor\": \"white\", \"ticks\": \"\"}, \"bgcolor\": \"#E5ECF6\", \"radialaxis\": {\"gridcolor\": \"white\", \"linecolor\": \"white\", \"ticks\": \"\"}}, \"scene\": {\"xaxis\": {\"backgroundcolor\": \"#E5ECF6\", \"gridcolor\": \"white\", \"gridwidth\": 2, \"linecolor\": \"white\", \"showbackground\": true, \"ticks\": \"\", \"zerolinecolor\": \"white\"}, \"yaxis\": {\"backgroundcolor\": \"#E5ECF6\", \"gridcolor\": \"white\", \"gridwidth\": 2, \"linecolor\": \"white\", \"showbackground\": true, \"ticks\": \"\", \"zerolinecolor\": \"white\"}, \"zaxis\": {\"backgroundcolor\": \"#E5ECF6\", \"gridcolor\": \"white\", \"gridwidth\": 2, \"linecolor\": \"white\", \"showbackground\": true, \"ticks\": \"\", \"zerolinecolor\": \"white\"}}, \"shapedefaults\": {\"line\": {\"color\": \"#2a3f5f\"}}, \"ternary\": {\"aaxis\": {\"gridcolor\": \"white\", \"linecolor\": \"white\", \"ticks\": \"\"}, \"baxis\": {\"gridcolor\": \"white\", \"linecolor\": \"white\", \"ticks\": \"\"}, \"bgcolor\": \"#E5ECF6\", \"caxis\": {\"gridcolor\": \"white\", \"linecolor\": \"white\", \"ticks\": \"\"}}, \"title\": {\"x\": 0.05}, \"xaxis\": {\"automargin\": true, \"gridcolor\": \"white\", \"linecolor\": \"white\", \"ticks\": \"\", \"title\": {\"standoff\": 15}, \"zerolinecolor\": \"white\", \"zerolinewidth\": 2}, \"yaxis\": {\"automargin\": true, \"gridcolor\": \"white\", \"linecolor\": \"white\", \"ticks\": \"\", \"title\": {\"standoff\": 15}, \"zerolinecolor\": \"white\", \"zerolinewidth\": 2}}}, \"title\": {\"font\": {\"color\": \"#7fafdf\", \"family\": \"sans-serif\", \"size\": 20}, \"text\": \"<b>Latest Coronavirus Outbreak Map<b>\", \"x\": 0.5, \"xanchor\": \"center\", \"y\": 0.96, \"yanchor\": \"top\"}},\n",
       "                        {\"responsive\": true}\n",
       "                    ).then(function(){\n",
       "                            \n",
       "var gd = document.getElementById('65e17e34-0f75-4965-9972-e3f901807f1c');\n",
       "var x = new MutationObserver(function (mutations, observer) {{\n",
       "        var display = window.getComputedStyle(gd).display;\n",
       "        if (!display || display === 'none') {{\n",
       "            console.log([gd, 'removed!']);\n",
       "            Plotly.purge(gd);\n",
       "            observer.disconnect();\n",
       "        }}\n",
       "}});\n",
       "\n",
       "// Listen for the removal of the full notebook cells\n",
       "var notebookContainer = gd.closest('#notebook-container');\n",
       "if (notebookContainer) {{\n",
       "    x.observe(notebookContainer, {childList: true});\n",
       "}}\n",
       "\n",
       "// Listen for the clearing of the current output cell\n",
       "var outputEl = gd.closest('.output');\n",
       "if (outputEl) {{\n",
       "    x.observe(outputEl, {childList: true});\n",
       "}}\n",
       "\n",
       "                        })\n",
       "                };\n",
       "                });\n",
       "            </script>\n",
       "        </div>"
      ]
     },
     "metadata": {},
     "output_type": "display_data"
    }
   ],
   "source": [
    "mapbox_access_token = \"pk.eyJ1IjoicGxvdGx5bWFwYm94IiwiYSI6ImNqdnBvNDMyaTAxYzkzeW5ubWdpZ2VjbmMifQ.TXcBE-xg9BFdV2ocecc_7g\"\n",
    "\n",
    "textList=[]\n",
    "for area, region in zip(dfs[keyList[0]]['Province/State'], dfs[keyList[0]]['Country/Region']):\n",
    "    \n",
    "    if type(area) is str:\n",
    "        if region == \"Hong Kong\" or region == \"Macau\" or region == \"Taiwan\":\n",
    "            textList.append(area)\n",
    "        else:\n",
    "            textList.append(area+', '+region)\n",
    "    else:\n",
    "        textList.append(region)\n",
    "\n",
    "fig2 = go.Figure(go.Scattermapbox(\n",
    "        lat=dfs[keyList[0]]['lat'],\n",
    "        lon=dfs[keyList[0]]['lon'],\n",
    "        mode='markers',\n",
    "        marker=go.scattermapbox.Marker(\n",
    "            color='#ff1414',\n",
    "            size=dfs[keyList[0]]['Confirmed'].tolist(), \n",
    "            sizemin=2,\n",
    "            sizemode='area',\n",
    "            sizeref=2.*max(dfs[keyList[0]]['Confirmed'].tolist())/(40.**2),\n",
    "        ),\n",
    "        text=textList,\n",
    "        hovertext=['Comfirmed: {}<br>Death: {}<br>Recovered: {}'.format(i, j, k) for i, j, k in zip(dfs[keyList[0]]['Confirmed'],\n",
    "                                                                                                    dfs[keyList[0]]['Deaths'],\n",
    "                                                                                                    dfs[keyList[0]]['Recovered'])],\n",
    "    \n",
    "        hovertemplate = \"<b>%{text}</b><br><br>\" +\n",
    "                        \"%{hovertext}<br>\" +\n",
    "                        \"<extra></extra>\")\n",
    "    \n",
    "        )\n",
    "\n",
    "fig2.update_layout(\n",
    "    title=dict(\n",
    "        text=\"<b>Latest Coronavirus Outbreak Map<b>\",\n",
    "        y=0.96, x=0.5, xanchor='center', yanchor='top',\n",
    "        font=dict(size=20, color=\"#7fafdf\", family=\"sans-serif\")\n",
    "    ),\n",
    "    plot_bgcolor='#151920',\n",
    "    paper_bgcolor='#272e3e',\n",
    "    margin=go.layout.Margin(\n",
    "        l=10,\n",
    "        r=10,\n",
    "        b=10,\n",
    "        t=50,\n",
    "        pad=40\n",
    "    ),\n",
    "    hovermode='closest',\n",
    "    mapbox=go.layout.Mapbox(\n",
    "        accesstoken=mapbox_access_token,\n",
    "        style=\"mapbox://styles/plotlymapbox/cjvprkf3t1kns1cqjxuxmwixz\",\n",
    "        bearing=0,\n",
    "        center=go.layout.mapbox.Center(\n",
    "            lat=29.538860, \n",
    "            lon=173.304781\n",
    "        ),\n",
    "        pitch=0,\n",
    "        zoom=2\n",
    "    )\n",
    ")\n",
    "\n",
    "fig2.show()"
   ]
  },
  {
   "cell_type": "code",
   "execution_count": 13,
   "metadata": {},
   "outputs": [],
   "source": [
    "import dash\n",
    "import dash_core_components as dcc\n",
    "import dash_html_components as html \n",
    "import dash_bootstrap_components as dbc"
   ]
  },
  {
   "cell_type": "code",
   "execution_count": 172,
   "metadata": {},
   "outputs": [],
   "source": [
    "app = dash.Dash(__name__, assets_folder='./assets/',\n",
    "                meta_tags=[\n",
    "                    {\"name\": \"viewport\", \"content\": \"width=device-width, height=device-height, initial-scale=1.0\"}\n",
    "    ])"
   ]
  },
  {
   "cell_type": "code",
   "execution_count": 177,
   "metadata": {},
   "outputs": [],
   "source": [
    "app.layout = html.Div(style={'backgroundColor':'#151920'},\n",
    "    children=[\n",
    "        html.Div(\n",
    "            id=\"header\",\n",
    "            children=[\n",
    "                html.P(id=\"logo\", children=[\"Data source from \", html.A('JHU CSSE', href='https://docs.google.com/spreadsheets/d/1yZv9w9zRKwrGTaR-YzmAqMefw4wMlaXocejdxZaTs6w/htmlview?usp=sharing&sle=true#')]),\n",
    "                html.H4(children=\"Wuhan Coronavirus (2019-nCoV) Outbreak Monitor\"),\n",
    "                html.P(\n",
    "                    id=\"description\",\n",
    "                    children=\"On Dec 31, 2019, the World Health Organization (WHO) was informed of \\\n",
    "                    an outbreak of “pneumonia of unknown cause” detected in Wuhan City, Hubei Province, China – the \\\n",
    "                    seventh-largest city in China with 11 million residents. As of {}, there are over {} cases \\\n",
    "                    of 2019-nCoV confirmed globally.\\\n",
    "                    This dash board is developed to visualise and track the recent reported \\\n",
    "                    cases on a daily timescale.\".format(latestDate, confirmedCases),\n",
    "                ),\n",
    "                html.P(\n",
    "                    children=\"Last updated on {}\".format(latestDate))\n",
    "            ]        \n",
    "        ),\n",
    "        html.Div(style={'marginLeft':'1.5%','marginRight':'1.5%'},\n",
    "                 children=[\n",
    "                     html.Div(\n",
    "                         children=[\n",
    "                             html.Div(style={'width':'24.6%','backgroundColor':'#272e3e','display':'inline-block','marginRight':'10px'},\n",
    "                                 children=[html.P(style={'textAlign':'center','fontSize':'3rem',\n",
    "                                                         'fontWeight':'bold','color':'#ffffbf','padding':'1rem'},\n",
    "                                                  children=\"Days Since Outbreak\"),\n",
    "                                           html.H3(style={'textAlign':'center','fontSize':'6rem',\n",
    "                                                          'fontWeight':'bold','color':'#ffffbf'},\n",
    "                                                  children='{}'.format(daysOutbreak))]),\n",
    "                             html.Div(style={'width':'24.6%','backgroundColor':'#272e3e','display':'inline-block','marginRight':'10px'},\n",
    "                                 children=[html.P(style={'textAlign':'center','fontSize':'3rem',\n",
    "                                                         'fontWeight':'bold','color':'#d7191c','padding':'1rem'},\n",
    "                                                  children=\"Confirmed Cases\"),\n",
    "                                           html.H3(style={'textAlign':'center','fontSize':'6rem',\n",
    "                                                          'fontWeight':'bold','color':'#d7191c'},\n",
    "                                                  children='{}'.format(confirmedCases))]),\n",
    "                             html.Div(style={'width':'24.6%','backgroundColor':'#272e3e','display':'inline-block','marginRight':'10px'},\n",
    "                                 children=[html.P(style={'textAlign':'center','fontSize':'3rem',\n",
    "                                                         'fontWeight':'bold','color':'#a6d96a','padding':'1rem'},\n",
    "                                                  children=\"Recovered Cases\"),\n",
    "                                           html.H3(style={'textAlign':'center','fontSize':'6rem',\n",
    "                                                          'fontWeight':'bold','color':'#a6d96a'},\n",
    "                                                   children='{}'.format(recoveredCases))]),\n",
    "                             html.Div(style={'width':'24.6%','backgroundColor':'#272e3e','display':'inline-block','marginTop':'10px'},\n",
    "                                  children=[html.P(style={'textAlign':'center','fontSize':'3rem',\n",
    "                                                          'fontWeight':'bold','color':'#fdae61','padding':'1rem'},\n",
    "                                                  children=\"Death Cases\"),\n",
    "                                            html.H3(style={'textAlign':'center','fontSize':'6rem',\n",
    "                                                           'fontWeight':'bold','color':'#fdae61'},\n",
    "                                                children='{}'.format(deathsCases))]),\n",
    "                             html.Div(style={'width':'100%','marginTop':'10px'},\n",
    "                                 children=[dcc.Graph(figure=fig2)]),\n",
    "                             html.Div(style={'width':'100%','display':'inline-block','marginTop':'10px','marginBottom':'1.5%'},\n",
    "                                  children=[dcc.Graph(figure=fig)])])\n",
    "                 ]),\n",
    "])\n"
   ]
  },
  {
   "cell_type": "code",
   "execution_count": null,
   "metadata": {},
   "outputs": [
    {
     "name": "stdout",
     "output_type": "stream",
     "text": [
      " * Serving Flask app \"__main__\" (lazy loading)\n",
      " * Environment: production\n",
      "   WARNING: This is a development server. Do not use it in a production deployment.\n",
      "   Use a production WSGI server instead.\n",
      " * Debug mode: off\n"
     ]
    },
    {
     "name": "stderr",
     "output_type": "stream",
     "text": [
      " * Running on http://127.0.0.1:8882/ (Press CTRL+C to quit)\n",
      "127.0.0.1 - - [31/Jan/2020 18:00:11] \"GET / HTTP/1.1\" 200 -\n",
      "127.0.0.1 - - [31/Jan/2020 18:00:11] \"GET /_dash-component-suites/dash_renderer/react@16.8.6.min.js?v=1.1.2&m=1576595738 HTTP/1.1\" 200 -\n",
      "127.0.0.1 - - [31/Jan/2020 18:00:11] \"GET /_dash-component-suites/dash_renderer/prop-types@15.7.2.min.js?v=1.1.2&m=1576595738 HTTP/1.1\" 200 -\n",
      "127.0.0.1 - - [31/Jan/2020 18:00:11] \"GET /_dash-component-suites/dash_renderer/react-dom@16.8.6.min.js?v=1.1.2&m=1576595738 HTTP/1.1\" 200 -\n",
      "127.0.0.1 - - [31/Jan/2020 18:00:11] \"GET /_dash-component-suites/dash_html_components/dash_html_components.min.js?v=1.0.1&m=1576596177 HTTP/1.1\" 200 -\n",
      "127.0.0.1 - - [31/Jan/2020 18:00:11] \"GET /_dash-component-suites/dash_core_components/highlight.pack.js?v=1.3.1&m=1576595950 HTTP/1.1\" 200 -\n",
      "127.0.0.1 - - [31/Jan/2020 18:00:11] \"GET /_dash-component-suites/dash_bootstrap_components/_components/dash_bootstrap_components.min.js?v=0.8.2&m=1580284437 HTTP/1.1\" 200 -\n",
      "127.0.0.1 - - [31/Jan/2020 18:00:11] \"GET /_dash-component-suites/dash_renderer/dash_renderer.min.js?v=1.1.2&m=1576595738 HTTP/1.1\" 200 -\n",
      "127.0.0.1 - - [31/Jan/2020 18:00:11] \"GET /_dash-component-suites/dash_core_components/dash_core_components.min.js?v=1.3.1&m=1576595950 HTTP/1.1\" 200 -\n",
      "127.0.0.1 - - [31/Jan/2020 18:00:11] \"GET /_dash-component-suites/dash_core_components/plotly-1.50.1.min.js?v=1.3.1&m=1576595950 HTTP/1.1\" 200 -\n",
      "127.0.0.1 - - [31/Jan/2020 18:00:11] \"GET /_dash-dependencies HTTP/1.1\" 200 -\n",
      "127.0.0.1 - - [31/Jan/2020 18:00:11] \"GET /_dash-layout HTTP/1.1\" 200 -\n"
     ]
    }
   ],
   "source": [
    "if __name__ == '__main__':\n",
    "    app.run_server(port=8882)"
   ]
  },
  {
   "cell_type": "code",
   "execution_count": null,
   "metadata": {},
   "outputs": [],
   "source": []
  },
  {
   "cell_type": "code",
   "execution_count": null,
   "metadata": {},
   "outputs": [],
   "source": []
  },
  {
   "cell_type": "code",
   "execution_count": null,
   "metadata": {},
   "outputs": [],
   "source": []
  },
  {
   "cell_type": "code",
   "execution_count": null,
   "metadata": {},
   "outputs": [],
   "source": []
  }
 ],
 "metadata": {
  "kernelspec": {
   "display_name": "Python 3",
   "language": "python",
   "name": "python3"
  },
  "language_info": {
   "codemirror_mode": {
    "name": "ipython",
    "version": 3
   },
   "file_extension": ".py",
   "mimetype": "text/x-python",
   "name": "python",
   "nbconvert_exporter": "python",
   "pygments_lexer": "ipython3",
   "version": "3.6.9"
  },
  "toc": {
   "base_numbering": 1,
   "nav_menu": {},
   "number_sections": true,
   "sideBar": true,
   "skip_h1_title": false,
   "title_cell": "Table of Contents",
   "title_sidebar": "Contents",
   "toc_cell": false,
   "toc_position": {},
   "toc_section_display": true,
   "toc_window_display": false
  },
  "varInspector": {
   "cols": {
    "lenName": 16,
    "lenType": 16,
    "lenVar": 40
   },
   "kernels_config": {
    "python": {
     "delete_cmd_postfix": "",
     "delete_cmd_prefix": "del ",
     "library": "var_list.py",
     "varRefreshCmd": "print(var_dic_list())"
    },
    "r": {
     "delete_cmd_postfix": ") ",
     "delete_cmd_prefix": "rm(",
     "library": "var_list.r",
     "varRefreshCmd": "cat(var_dic_list()) "
    }
   },
   "types_to_exclude": [
    "module",
    "function",
    "builtin_function_or_method",
    "instance",
    "_Feature"
   ],
   "window_display": false
  }
 },
 "nbformat": 4,
 "nbformat_minor": 2
}
