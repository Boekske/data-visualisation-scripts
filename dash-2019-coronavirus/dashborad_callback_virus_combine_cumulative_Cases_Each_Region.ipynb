{
 "cells": [
  {
   "cell_type": "code",
   "execution_count": 1,
   "metadata": {},
   "outputs": [],
   "source": [
    "import pandas as pd\n",
    "import numpy as np\n",
    "from datetime import datetime, timedelta\n",
    "import math \n",
    "import os\n",
    "\n",
    "import plotly.graph_objects as go\n",
    "from plotly.subplots import make_subplots\n",
    "\n",
    "import dash\n",
    "import dash_table\n",
    "import dash_core_components as dcc\n",
    "import dash_html_components as html \n",
    "import dash_bootstrap_components as dbc\n",
    "from dash.dependencies import Input, Output"
   ]
  },
  {
   "cell_type": "code",
   "execution_count": 12,
   "metadata": {},
   "outputs": [],
   "source": [
    "def df_for_lineplot_diff(dfs, CaseType):\n",
    "    '''This is the function for construct df for line plot'''\n",
    "    \n",
    "    assert type(CaseType) is str, \"CaseType must be one of the following three strings Confirmed/Recovered/Deaths\"\n",
    "    \n",
    "    \n",
    "    # Construct confirmed cases dataframe for line plot\n",
    "    DateList = []\n",
    "    ChinaList =[]\n",
    "    OtherList = []\n",
    "\n",
    "    for key, df in dfs.items():\n",
    "        dfTpm = df.groupby(['Country/Region'])[CaseType].agg(np.sum)\n",
    "        dfTpm = pd.DataFrame({'Region':dfTpm.index, CaseType:dfTpm.values})\n",
    "        #dfTpm = dfTpm.sort_values(by=CaseType, ascending=False).reset_index(drop=True)\n",
    "        DateList.append(df['Date_last_updated_AEDT'][0])\n",
    "        ChinaList.append(dfTpm.loc[dfTpm['Region'] == 'China', CaseType].iloc[0])\n",
    "        OtherList.append(dfTpm.loc[dfTpm['Region'] != 'China', CaseType].sum())\n",
    "\n",
    "    df = pd.DataFrame({'Date':DateList,\n",
    "                       'Mainland China':ChinaList,\n",
    "                       'Other locations':OtherList})\n",
    "    df['Total']=df['Mainland China']+df['Other locations']\n",
    "\n",
    "    # Calculate differenec in a 24-hour window\n",
    "    for index, _ in df.iterrows():\n",
    "        # Calculate the time differnece in hour\n",
    "        diff=(df['Date'][0] - df['Date'][index]).total_seconds()/3600\n",
    "        # find out the latest time after 24-hour\n",
    "        if diff >= 24:\n",
    "            break\n",
    "    plusNum = df['Total'][0] - df['Total'][index]\n",
    "    plusPercentNum = (df['Total'][0] - df['Total'][index])/df['Total'][index]\n",
    "\n",
    "    # Select the latest data from a given date\n",
    "    df['date_day']=[d.date() for d in df['Date']]\n",
    "    df=df.groupby(by=df['date_day'], sort=False).transform(max).drop_duplicates(['Date'])\n",
    "    \n",
    "    df['plusNum'] = plusNum\n",
    "    df['plusPercentNum'] = plusPercentNum\n",
    "    \n",
    "    df=df.reset_index(drop=True)\n",
    "    \n",
    "    return df, plusNum, plusPercentNum "
   ]
  },
  {
   "cell_type": "code",
   "execution_count": 7,
   "metadata": {},
   "outputs": [
    {
     "name": "stdout",
     "output_type": "stream",
     "text": [
      "CPU times: user 4.11 s, sys: 48.9 ms, total: 4.16 s\n",
      "Wall time: 4.55 s\n"
     ]
    }
   ],
   "source": [
    "%%time\n",
    "################################################################################\n",
    "#### Data processing\n",
    "################################################################################\n",
    "# Method #1\n",
    "# Import csv file and store each csv in to a df list\n",
    "\n",
    "filename = os.listdir('./raw_data/')\n",
    "sheet_name = [i.replace('.csv', '') for i in filename if 'data' not in i and i.endswith('.csv')]\n",
    "sheet_name.sort(reverse=True)\n",
    "\n",
    "dfs = {sheet_name: pd.read_csv('./raw_data/{}.csv'.format(sheet_name))\n",
    "          for sheet_name in sheet_name}\n",
    "\n",
    "# Method #2\n",
    "# Import xls file and store each sheet in to a df list\n",
    "#xl_file = pd.ExcelFile('./data.xls')\n",
    "\n",
    "#dfs = {sheet_name: xl_file.parse(sheet_name) for sheet_name in xl_file.sheet_names}\n",
    "\n",
    "# Data from each sheet can be accessed via key\n",
    "keyList = list(dfs.keys())\n",
    "# Data cleansing\n",
    "for key, df in dfs.items():\n",
    "    dfs[key].loc[:,'Confirmed'].fillna(value=0, inplace=True)\n",
    "    dfs[key].loc[:,'Deaths'].fillna(value=0, inplace=True)\n",
    "    dfs[key].loc[:,'Recovered'].fillna(value=0, inplace=True)\n",
    "    dfs[key]=dfs[key].astype({'Confirmed':'int64', 'Deaths':'int64', 'Recovered':'int64'})\n",
    "    # Change as China for coordinate search\n",
    "    dfs[key]=dfs[key].replace({'Country/Region':'Mainland China'}, 'China')\n",
    "    # Add a zero to the date so can be convert by datetime.strptime as 0-padded date\n",
    "    dfs[key]['Last Update'] = '0' + dfs[key]['Last Update']\n",
    "    # Convert time as Australian eastern daylight time\n",
    "    dfs[key]['Date_last_updated_AEDT'] = [datetime.strptime(d, '%m/%d/%Y %H:%M') for d in dfs[key]['Last Update']]\n",
    "    dfs[key]['Date_last_updated_AEDT'] = dfs[key]['Date_last_updated_AEDT'] + timedelta(hours=16)\n",
    "    dfs[key]['Remaining'] = dfs[key]['Confirmed'] - dfs[key]['Recovered'] - dfs[key]['Deaths']\n",
    "    \n",
    "# Add coordinates for each area in the list for the latest table sheet\n",
    "# To save time, coordinates calling was done seperately\n",
    "# Import the data with coordinates\n",
    "dfs[keyList[0]]=pd.read_csv('{}_data.csv'.format(keyList[0]))\n",
    "dfs[keyList[0]]=dfs[keyList[0]].astype({'Date_last_updated_AEDT':'datetime64'})"
   ]
  },
  {
   "cell_type": "code",
   "execution_count": 9,
   "metadata": {},
   "outputs": [
    {
     "data": {
      "text/html": [
       "<div>\n",
       "<style scoped>\n",
       "    .dataframe tbody tr th:only-of-type {\n",
       "        vertical-align: middle;\n",
       "    }\n",
       "\n",
       "    .dataframe tbody tr th {\n",
       "        vertical-align: top;\n",
       "    }\n",
       "\n",
       "    .dataframe thead th {\n",
       "        text-align: right;\n",
       "    }\n",
       "</style>\n",
       "<table border=\"1\" class=\"dataframe\">\n",
       "  <thead>\n",
       "    <tr style=\"text-align: right;\">\n",
       "      <th></th>\n",
       "      <th>Province/State</th>\n",
       "      <th>Country/Region</th>\n",
       "      <th>Last Update</th>\n",
       "      <th>Confirmed</th>\n",
       "      <th>Deaths</th>\n",
       "      <th>Recovered</th>\n",
       "      <th>Date_last_updated_AEDT</th>\n",
       "      <th>Remaining</th>\n",
       "      <th>lat</th>\n",
       "      <th>lon</th>\n",
       "    </tr>\n",
       "  </thead>\n",
       "  <tbody>\n",
       "    <tr>\n",
       "      <th>0</th>\n",
       "      <td>Hubei</td>\n",
       "      <td>China</td>\n",
       "      <td>03/17/2020 02:30</td>\n",
       "      <td>67799</td>\n",
       "      <td>3111</td>\n",
       "      <td>55987</td>\n",
       "      <td>2020-03-17 18:30:00</td>\n",
       "      <td>8701</td>\n",
       "      <td>31.151725</td>\n",
       "      <td>112.878322</td>\n",
       "    </tr>\n",
       "    <tr>\n",
       "      <th>1</th>\n",
       "      <td>Beijing</td>\n",
       "      <td>China</td>\n",
       "      <td>03/17/2020 02:30</td>\n",
       "      <td>452</td>\n",
       "      <td>8</td>\n",
       "      <td>360</td>\n",
       "      <td>2020-03-17 18:30:00</td>\n",
       "      <td>84</td>\n",
       "      <td>39.906217</td>\n",
       "      <td>116.391276</td>\n",
       "    </tr>\n",
       "    <tr>\n",
       "      <th>2</th>\n",
       "      <td>Guangdong</td>\n",
       "      <td>China</td>\n",
       "      <td>03/17/2020 02:30</td>\n",
       "      <td>1361</td>\n",
       "      <td>8</td>\n",
       "      <td>1306</td>\n",
       "      <td>2020-03-17 18:30:00</td>\n",
       "      <td>47</td>\n",
       "      <td>23.135769</td>\n",
       "      <td>113.198269</td>\n",
       "    </tr>\n",
       "    <tr>\n",
       "      <th>3</th>\n",
       "      <td>Gansu</td>\n",
       "      <td>China</td>\n",
       "      <td>03/17/2020 02:30</td>\n",
       "      <td>133</td>\n",
       "      <td>2</td>\n",
       "      <td>91</td>\n",
       "      <td>2020-03-17 18:30:00</td>\n",
       "      <td>40</td>\n",
       "      <td>38.000000</td>\n",
       "      <td>102.000000</td>\n",
       "    </tr>\n",
       "    <tr>\n",
       "      <th>4</th>\n",
       "      <td>Shanghai</td>\n",
       "      <td>China</td>\n",
       "      <td>03/17/2020 02:30</td>\n",
       "      <td>355</td>\n",
       "      <td>3</td>\n",
       "      <td>325</td>\n",
       "      <td>2020-03-17 18:30:00</td>\n",
       "      <td>27</td>\n",
       "      <td>31.225298</td>\n",
       "      <td>121.489050</td>\n",
       "    </tr>\n",
       "    <tr>\n",
       "      <th>...</th>\n",
       "      <td>...</td>\n",
       "      <td>...</td>\n",
       "      <td>...</td>\n",
       "      <td>...</td>\n",
       "      <td>...</td>\n",
       "      <td>...</td>\n",
       "      <td>...</td>\n",
       "      <td>...</td>\n",
       "      <td>...</td>\n",
       "      <td>...</td>\n",
       "    </tr>\n",
       "    <tr>\n",
       "      <th>254</th>\n",
       "      <td>NaN</td>\n",
       "      <td>Suriname</td>\n",
       "      <td>03/17/2020 02:30</td>\n",
       "      <td>1</td>\n",
       "      <td>0</td>\n",
       "      <td>0</td>\n",
       "      <td>2020-03-17 18:30:00</td>\n",
       "      <td>1</td>\n",
       "      <td>4.141303</td>\n",
       "      <td>-56.077119</td>\n",
       "    </tr>\n",
       "    <tr>\n",
       "      <th>255</th>\n",
       "      <td>NaN</td>\n",
       "      <td>Eswatini</td>\n",
       "      <td>03/17/2020 02:30</td>\n",
       "      <td>1</td>\n",
       "      <td>0</td>\n",
       "      <td>0</td>\n",
       "      <td>2020-03-17 18:30:00</td>\n",
       "      <td>1</td>\n",
       "      <td>-26.562481</td>\n",
       "      <td>31.399132</td>\n",
       "    </tr>\n",
       "    <tr>\n",
       "      <th>256</th>\n",
       "      <td>NaN</td>\n",
       "      <td>Tanzania</td>\n",
       "      <td>03/17/2020 02:30</td>\n",
       "      <td>1</td>\n",
       "      <td>0</td>\n",
       "      <td>0</td>\n",
       "      <td>2020-03-17 18:30:00</td>\n",
       "      <td>1</td>\n",
       "      <td>-6.524712</td>\n",
       "      <td>35.787844</td>\n",
       "    </tr>\n",
       "    <tr>\n",
       "      <th>257</th>\n",
       "      <td>NaN</td>\n",
       "      <td>Togo</td>\n",
       "      <td>03/17/2020 02:30</td>\n",
       "      <td>1</td>\n",
       "      <td>0</td>\n",
       "      <td>0</td>\n",
       "      <td>2020-03-17 18:30:00</td>\n",
       "      <td>1</td>\n",
       "      <td>8.780026</td>\n",
       "      <td>1.019976</td>\n",
       "    </tr>\n",
       "    <tr>\n",
       "      <th>258</th>\n",
       "      <td>NaN</td>\n",
       "      <td>U.S. Virgin Islands</td>\n",
       "      <td>03/17/2020 02:30</td>\n",
       "      <td>1</td>\n",
       "      <td>0</td>\n",
       "      <td>0</td>\n",
       "      <td>2020-03-17 18:30:00</td>\n",
       "      <td>1</td>\n",
       "      <td>17.789187</td>\n",
       "      <td>-64.708057</td>\n",
       "    </tr>\n",
       "  </tbody>\n",
       "</table>\n",
       "<p>259 rows × 10 columns</p>\n",
       "</div>"
      ],
      "text/plain": [
       "    Province/State       Country/Region       Last Update  Confirmed  Deaths  \\\n",
       "0            Hubei                China  03/17/2020 02:30      67799    3111   \n",
       "1          Beijing                China  03/17/2020 02:30        452       8   \n",
       "2        Guangdong                China  03/17/2020 02:30       1361       8   \n",
       "3            Gansu                China  03/17/2020 02:30        133       2   \n",
       "4         Shanghai                China  03/17/2020 02:30        355       3   \n",
       "..             ...                  ...               ...        ...     ...   \n",
       "254            NaN             Suriname  03/17/2020 02:30          1       0   \n",
       "255            NaN             Eswatini  03/17/2020 02:30          1       0   \n",
       "256            NaN             Tanzania  03/17/2020 02:30          1       0   \n",
       "257            NaN                 Togo  03/17/2020 02:30          1       0   \n",
       "258            NaN  U.S. Virgin Islands  03/17/2020 02:30          1       0   \n",
       "\n",
       "     Recovered Date_last_updated_AEDT  Remaining        lat         lon  \n",
       "0        55987    2020-03-17 18:30:00       8701  31.151725  112.878322  \n",
       "1          360    2020-03-17 18:30:00         84  39.906217  116.391276  \n",
       "2         1306    2020-03-17 18:30:00         47  23.135769  113.198269  \n",
       "3           91    2020-03-17 18:30:00         40  38.000000  102.000000  \n",
       "4          325    2020-03-17 18:30:00         27  31.225298  121.489050  \n",
       "..         ...                    ...        ...        ...         ...  \n",
       "254          0    2020-03-17 18:30:00          1   4.141303  -56.077119  \n",
       "255          0    2020-03-17 18:30:00          1 -26.562481   31.399132  \n",
       "256          0    2020-03-17 18:30:00          1  -6.524712   35.787844  \n",
       "257          0    2020-03-17 18:30:00          1   8.780026    1.019976  \n",
       "258          0    2020-03-17 18:30:00          1  17.789187  -64.708057  \n",
       "\n",
       "[259 rows x 10 columns]"
      ]
     },
     "execution_count": 9,
     "metadata": {},
     "output_type": "execute_result"
    }
   ],
   "source": [
    "dfs[keyList[0]]"
   ]
  },
  {
   "cell_type": "code",
   "execution_count": 15,
   "metadata": {
    "scrolled": true
   },
   "outputs": [],
   "source": [
    "def make_country_table(countryName):\n",
    "    '''This is the function for building df for Province/State of a given country'''\n",
    "    countryTable = dfs[keyList[0]].loc[dfs[keyList[0]]['Country/Region'] == countryName]\n",
    "    # Suppress SettingWithCopyWarning\n",
    "    pd.options.mode.chained_assignment = None\n",
    "    countryTable['Remaining'] = countryTable['Confirmed'] - countryTable['Recovered'] - countryTable['Deaths']\n",
    "    countryTable = countryTable[['Province/State','Remaining','Confirmed','Recovered','Deaths','lat','lon']]\n",
    "    countryTable = countryTable.sort_values(by=['Remaining', 'Confirmed'], ascending=False).reset_index(drop=True)\n",
    "    # Set row ids pass to selected_row_ids\n",
    "    countryTable['id'] = countryTable['Province/State']\n",
    "    countryTable.set_index('id', inplace=True, drop=False)\n",
    "    # Turn on SettingWithCopyWarning\n",
    "    pd.options.mode.chained_assignment = 'warn'\n",
    "    return countryTable"
   ]
  },
  {
   "cell_type": "code",
   "execution_count": 16,
   "metadata": {
    "scrolled": true
   },
   "outputs": [
    {
     "name": "stdout",
     "output_type": "stream",
     "text": [
      "CPU times: user 22.7 ms, sys: 919 µs, total: 23.6 ms\n",
      "Wall time: 28.5 ms\n"
     ]
    }
   ],
   "source": [
    "%%time\n",
    "CNTable = make_country_table('China')\n",
    "AUSTable = make_country_table('Australia')\n",
    "USTable = make_country_table('US')\n",
    "CANTable = make_country_table('Canada')"
   ]
  },
  {
   "cell_type": "code",
   "execution_count": 17,
   "metadata": {},
   "outputs": [
    {
     "data": {
      "text/html": [
       "<div>\n",
       "<style scoped>\n",
       "    .dataframe tbody tr th:only-of-type {\n",
       "        vertical-align: middle;\n",
       "    }\n",
       "\n",
       "    .dataframe tbody tr th {\n",
       "        vertical-align: top;\n",
       "    }\n",
       "\n",
       "    .dataframe thead th {\n",
       "        text-align: right;\n",
       "    }\n",
       "</style>\n",
       "<table border=\"1\" class=\"dataframe\">\n",
       "  <thead>\n",
       "    <tr style=\"text-align: right;\">\n",
       "      <th></th>\n",
       "      <th>Province/State</th>\n",
       "      <th>Remaining</th>\n",
       "      <th>Confirmed</th>\n",
       "      <th>Recovered</th>\n",
       "      <th>Deaths</th>\n",
       "      <th>lat</th>\n",
       "      <th>lon</th>\n",
       "      <th>id</th>\n",
       "    </tr>\n",
       "    <tr>\n",
       "      <th>id</th>\n",
       "      <th></th>\n",
       "      <th></th>\n",
       "      <th></th>\n",
       "      <th></th>\n",
       "      <th></th>\n",
       "      <th></th>\n",
       "      <th></th>\n",
       "      <th></th>\n",
       "    </tr>\n",
       "  </thead>\n",
       "  <tbody>\n",
       "    <tr>\n",
       "      <th>Ontario</th>\n",
       "      <td>Ontario</td>\n",
       "      <td>140</td>\n",
       "      <td>145</td>\n",
       "      <td>5</td>\n",
       "      <td>0</td>\n",
       "      <td>50.000678</td>\n",
       "      <td>-86.000977</td>\n",
       "      <td>Ontario</td>\n",
       "    </tr>\n",
       "    <tr>\n",
       "      <th>British Columbia</th>\n",
       "      <td>British Columbia</td>\n",
       "      <td>68</td>\n",
       "      <td>73</td>\n",
       "      <td>4</td>\n",
       "      <td>1</td>\n",
       "      <td>55.001251</td>\n",
       "      <td>-125.002441</td>\n",
       "      <td>British Columbia</td>\n",
       "    </tr>\n",
       "    <tr>\n",
       "      <th>Alberta</th>\n",
       "      <td>Alberta</td>\n",
       "      <td>56</td>\n",
       "      <td>56</td>\n",
       "      <td>0</td>\n",
       "      <td>0</td>\n",
       "      <td>55.001251</td>\n",
       "      <td>-115.002136</td>\n",
       "      <td>Alberta</td>\n",
       "    </tr>\n",
       "    <tr>\n",
       "      <th>Quebec</th>\n",
       "      <td>Quebec</td>\n",
       "      <td>39</td>\n",
       "      <td>39</td>\n",
       "      <td>0</td>\n",
       "      <td>0</td>\n",
       "      <td>52.476089</td>\n",
       "      <td>-71.825867</td>\n",
       "      <td>Quebec</td>\n",
       "    </tr>\n",
       "    <tr>\n",
       "      <th>Manitoba</th>\n",
       "      <td>Manitoba</td>\n",
       "      <td>7</td>\n",
       "      <td>7</td>\n",
       "      <td>0</td>\n",
       "      <td>0</td>\n",
       "      <td>55.001251</td>\n",
       "      <td>-97.001038</td>\n",
       "      <td>Manitoba</td>\n",
       "    </tr>\n",
       "    <tr>\n",
       "      <th>New Brunswick</th>\n",
       "      <td>New Brunswick</td>\n",
       "      <td>6</td>\n",
       "      <td>6</td>\n",
       "      <td>0</td>\n",
       "      <td>0</td>\n",
       "      <td>46.500283</td>\n",
       "      <td>-66.750183</td>\n",
       "      <td>New Brunswick</td>\n",
       "    </tr>\n",
       "    <tr>\n",
       "      <th>Saskatchewan</th>\n",
       "      <td>Saskatchewan</td>\n",
       "      <td>6</td>\n",
       "      <td>6</td>\n",
       "      <td>0</td>\n",
       "      <td>0</td>\n",
       "      <td>55.532126</td>\n",
       "      <td>-106.141224</td>\n",
       "      <td>Saskatchewan</td>\n",
       "    </tr>\n",
       "    <tr>\n",
       "      <th>Nova Scotia</th>\n",
       "      <td>Nova Scotia</td>\n",
       "      <td>3</td>\n",
       "      <td>3</td>\n",
       "      <td>0</td>\n",
       "      <td>0</td>\n",
       "      <td>45.196040</td>\n",
       "      <td>-63.165379</td>\n",
       "      <td>Nova Scotia</td>\n",
       "    </tr>\n",
       "    <tr>\n",
       "      <th>Prince Edward Island</th>\n",
       "      <td>Prince Edward Island</td>\n",
       "      <td>1</td>\n",
       "      <td>1</td>\n",
       "      <td>0</td>\n",
       "      <td>0</td>\n",
       "      <td>46.503545</td>\n",
       "      <td>-63.595517</td>\n",
       "      <td>Prince Edward Island</td>\n",
       "    </tr>\n",
       "    <tr>\n",
       "      <th>Newfoundland and labrador</th>\n",
       "      <td>Newfoundland and labrador</td>\n",
       "      <td>1</td>\n",
       "      <td>1</td>\n",
       "      <td>0</td>\n",
       "      <td>0</td>\n",
       "      <td>53.821733</td>\n",
       "      <td>-61.229553</td>\n",
       "      <td>Newfoundland and labrador</td>\n",
       "    </tr>\n",
       "  </tbody>\n",
       "</table>\n",
       "</div>"
      ],
      "text/plain": [
       "                                      Province/State  Remaining  Confirmed  \\\n",
       "id                                                                           \n",
       "Ontario                                      Ontario        140        145   \n",
       "British Columbia                    British Columbia         68         73   \n",
       "Alberta                                      Alberta         56         56   \n",
       "Quebec                                        Quebec         39         39   \n",
       "Manitoba                                    Manitoba          7          7   \n",
       "New Brunswick                          New Brunswick          6          6   \n",
       "Saskatchewan                            Saskatchewan          6          6   \n",
       "Nova Scotia                              Nova Scotia          3          3   \n",
       "Prince Edward Island            Prince Edward Island          1          1   \n",
       "Newfoundland and labrador  Newfoundland and labrador          1          1   \n",
       "\n",
       "                           Recovered  Deaths        lat         lon  \\\n",
       "id                                                                    \n",
       "Ontario                            5       0  50.000678  -86.000977   \n",
       "British Columbia                   4       1  55.001251 -125.002441   \n",
       "Alberta                            0       0  55.001251 -115.002136   \n",
       "Quebec                             0       0  52.476089  -71.825867   \n",
       "Manitoba                           0       0  55.001251  -97.001038   \n",
       "New Brunswick                      0       0  46.500283  -66.750183   \n",
       "Saskatchewan                       0       0  55.532126 -106.141224   \n",
       "Nova Scotia                        0       0  45.196040  -63.165379   \n",
       "Prince Edward Island               0       0  46.503545  -63.595517   \n",
       "Newfoundland and labrador          0       0  53.821733  -61.229553   \n",
       "\n",
       "                                                  id  \n",
       "id                                                    \n",
       "Ontario                                      Ontario  \n",
       "British Columbia                    British Columbia  \n",
       "Alberta                                      Alberta  \n",
       "Quebec                                        Quebec  \n",
       "Manitoba                                    Manitoba  \n",
       "New Brunswick                          New Brunswick  \n",
       "Saskatchewan                            Saskatchewan  \n",
       "Nova Scotia                              Nova Scotia  \n",
       "Prince Edward Island            Prince Edward Island  \n",
       "Newfoundland and labrador  Newfoundland and labrador  "
      ]
     },
     "execution_count": 17,
     "metadata": {},
     "output_type": "execute_result"
    }
   ],
   "source": [
    "CANTable"
   ]
  },
  {
   "cell_type": "code",
   "execution_count": 13,
   "metadata": {},
   "outputs": [
    {
     "name": "stdout",
     "output_type": "stream",
     "text": [
      "CPU times: user 5.34 s, sys: 25.4 ms, total: 5.36 s\n",
      "Wall time: 5.49 s\n"
     ]
    },
    {
     "data": {
      "application/vnd.plotly.v1+json": {
       "config": {
        "plotlyServerURL": "https://plot.ly"
       },
       "data": [
        {
         "hovertemplate": "<b>%{text}</b><br></br>%{hovertext}<extra></extra>",
         "hovertext": [
          "Mainland China death rate<br>3.99%",
          "Mainland China death rate<br>3.97%",
          "Mainland China death rate<br>3.96%",
          "Mainland China death rate<br>3.95%",
          "Mainland China death rate<br>3.93%",
          "Mainland China death rate<br>3.92%",
          "Mainland China death rate<br>3.91%",
          "Mainland China death rate<br>3.88%",
          "Mainland China death rate<br>3.86%",
          "Mainland China death rate<br>3.84%",
          "Mainland China death rate<br>3.81%",
          "Mainland China death rate<br>3.78%",
          "Mainland China death rate<br>3.75%",
          "Mainland China death rate<br>3.71%",
          "Mainland China death rate<br>3.67%",
          "Mainland China death rate<br>3.64%",
          "Mainland China death rate<br>3.60%",
          "Mainland China death rate<br>3.58%",
          "Mainland China death rate<br>3.54%",
          "Mainland China death rate<br>3.50%",
          "Mainland China death rate<br>3.48%",
          "Mainland China death rate<br>3.43%",
          "Mainland China death rate<br>3.36%",
          "Mainland China death rate<br>3.17%",
          "Mainland China death rate<br>3.07%",
          "Mainland China death rate<br>2.97%",
          "Mainland China death rate<br>2.84%",
          "Mainland China death rate<br>2.70%",
          "Mainland China death rate<br>2.58%",
          "Mainland China death rate<br>2.51%",
          "Mainland China death rate<br>2.43%",
          "Mainland China death rate<br>2.29%",
          "Mainland China death rate<br>2.16%",
          "Mainland China death rate<br>2.29%",
          "Mainland China death rate<br>2.49%",
          "Mainland China death rate<br>2.38%",
          "Mainland China death rate<br>2.26%",
          "Mainland China death rate<br>2.18%",
          "Mainland China death rate<br>2.09%",
          "Mainland China death rate<br>2.04%",
          "Mainland China death rate<br>2.00%",
          "Mainland China death rate<br>2.02%",
          "Mainland China death rate<br>2.07%",
          "Mainland China death rate<br>2.09%",
          "Mainland China death rate<br>2.10%",
          "Mainland China death rate<br>2.31%",
          "Mainland China death rate<br>2.21%",
          "Mainland China death rate<br>2.21%",
          "Mainland China death rate<br>2.21%",
          "Mainland China death rate<br>2.43%",
          "Mainland China death rate<br>2.92%",
          "Mainland China death rate<br>2.83%",
          "Mainland China death rate<br>3.11%",
          "Mainland China death rate<br>3.01%",
          "Mainland China death rate<br>2.82%",
          "Mainland China death rate<br>3.10%",
          "Mainland China death rate<br>1.83%"
         ],
         "line": {
          "color": "#626262",
          "shape": "spline",
          "width": 4
         },
         "marker": {
          "color": "#f4f4f2",
          "line": {
           "color": "#626262",
           "width": 1
          },
          "size": 4
         },
         "mode": "lines+markers",
         "name": "Mainland China",
         "text": [
          "Mar 17 2020 AEDT",
          "Mar 16 2020 AEDT",
          "Mar 15 2020 AEDT",
          "Mar 14 2020 AEDT",
          "Mar 13 2020 AEDT",
          "Mar 12 2020 AEDT",
          "Mar 11 2020 AEDT",
          "Mar 10 2020 AEDT",
          "Mar 09 2020 AEDT",
          "Mar 08 2020 AEDT",
          "Mar 07 2020 AEDT",
          "Mar 06 2020 AEDT",
          "Mar 05 2020 AEDT",
          "Mar 04 2020 AEDT",
          "Mar 03 2020 AEDT",
          "Mar 02 2020 AEDT",
          "Mar 01 2020 AEDT",
          "Feb 29 2020 AEDT",
          "Feb 28 2020 AEDT",
          "Feb 27 2020 AEDT",
          "Feb 26 2020 AEDT",
          "Feb 25 2020 AEDT",
          "Feb 24 2020 AEDT",
          "Feb 23 2020 AEDT",
          "Feb 22 2020 AEDT",
          "Feb 21 2020 AEDT",
          "Feb 20 2020 AEDT",
          "Feb 19 2020 AEDT",
          "Feb 18 2020 AEDT",
          "Feb 17 2020 AEDT",
          "Feb 16 2020 AEDT",
          "Feb 15 2020 AEDT",
          "Feb 14 2020 AEDT",
          "Feb 13 2020 AEDT",
          "Feb 12 2020 AEDT",
          "Feb 11 2020 AEDT",
          "Feb 10 2020 AEDT",
          "Feb 09 2020 AEDT",
          "Feb 08 2020 AEDT",
          "Feb 07 2020 AEDT",
          "Feb 06 2020 AEDT",
          "Feb 05 2020 AEDT",
          "Feb 04 2020 AEDT",
          "Feb 03 2020 AEDT",
          "Feb 02 2020 AEDT",
          "Feb 01 2020 AEDT",
          "Jan 31 2020 AEDT",
          "Jan 30 2020 AEDT",
          "Jan 29 2020 AEDT",
          "Jan 28 2020 AEDT",
          "Jan 27 2020 AEDT",
          "Jan 26 2020 AEDT",
          "Jan 25 2020 AEDT",
          "Jan 24 2020 AEDT",
          "Jan 23 2020 AEDT",
          "Jan 22 2020 AEDT",
          "Jan 21 2020 AEDT"
         ],
         "type": "scatter",
         "x": [
          "2020-03-17T18:30:00",
          "2020-03-16T22:00:00",
          "2020-03-15T22:00:00",
          "2020-03-14T22:00:00",
          "2020-03-13T22:00:00",
          "2020-03-12T22:00:00",
          "2020-03-11T22:00:00",
          "2020-03-10T22:00:00",
          "2020-03-09T22:00:00",
          "2020-03-08T22:00:00",
          "2020-03-07T22:00:00",
          "2020-03-06T22:00:00",
          "2020-03-05T22:00:00",
          "2020-03-04T22:00:00",
          "2020-03-03T22:00:00",
          "2020-03-02T22:00:00",
          "2020-03-01T22:00:00",
          "2020-02-29T22:00:00",
          "2020-02-28T22:00:00",
          "2020-02-27T22:00:00",
          "2020-02-26T22:00:00",
          "2020-02-25T22:00:00",
          "2020-02-24T22:00:00",
          "2020-02-23T22:00:00",
          "2020-02-22T22:00:00",
          "2020-02-21T22:00:00",
          "2020-02-20T22:00:00",
          "2020-02-19T22:00:00",
          "2020-02-18T22:00:00",
          "2020-02-17T22:00:00",
          "2020-02-16T22:00:00",
          "2020-02-15T22:00:00",
          "2020-02-14T22:00:00",
          "2020-02-13T22:00:00",
          "2020-02-12T22:00:00",
          "2020-02-11T21:30:00",
          "2020-02-10T22:00:00",
          "2020-02-09T22:00:00",
          "2020-02-08T22:00:00",
          "2020-02-07T22:00:00",
          "2020-02-06T22:00:00",
          "2020-02-05T22:00:00",
          "2020-02-04T21:00:00",
          "2020-02-03T21:00:00",
          "2020-02-02T21:00:00",
          "2020-02-01T11:00:00",
          "2020-01-31T13:30:00",
          "2020-01-30T13:00:00",
          "2020-01-29T15:00:00",
          "2020-01-28T12:30:00",
          "2020-01-27T15:00:00",
          "2020-01-26T14:00:00",
          "2020-01-25T16:00:00",
          "2020-01-24T16:00:00",
          "2020-01-23T16:00:00",
          "2020-01-22T16:00:00",
          "2020-01-21T16:00:00"
         ],
         "y": [
          3.9879310984431613,
          3.973239680459031,
          3.9572973106707243,
          3.945610214787687,
          3.9306444227175406,
          3.9223695122102162,
          3.9094803040431803,
          3.8833989647571636,
          3.8632563324456553,
          3.837908172749241,
          3.806524407632887,
          3.7764894290573676,
          3.745895930753159,
          3.713901278249819,
          3.6718194408054794,
          3.6388173843500864,
          3.595454944063741,
          3.577241927546656,
          3.536993808992185,
          3.4956749939488136,
          3.477915556466489,
          3.429049703837239,
          3.359688917692806,
          3.1740667567848604,
          3.0737570617766186,
          2.971547038420136,
          2.839979618654295,
          2.704087134692117,
          2.5787570059913305,
          2.508752285515853,
          2.4304085713868653,
          2.2903633301251203,
          2.1624753374463688,
          2.2851125004179065,
          2.493006601767931,
          2.381733789676028,
          2.25898743624829,
          2.181036798280956,
          2.0890519806986623,
          2.0393112514829896,
          2.0046288054121417,
          2.017633791265122,
          2.0748913733339847,
          2.0864639926020114,
          2.1036606463220537,
          2.30817217716781,
          2.205425553944916,
          2.2141182599635325,
          2.21105527638191,
          2.4268541619414834,
          2.9229082937522834,
          2.829711975745326,
          3.106060606060606,
          3.005780346820809,
          2.8169014084507045,
          3.096539162112933,
          1.834862385321101
         ]
        },
        {
         "hovertemplate": "<b>%{text}</b><br></br>%{hovertext}<extra></extra>",
         "hovertext": [
          "Other region death rate<br>3.87%",
          "Other region death rate<br>3.67%",
          "Other region death rate<br>3.44%",
          "Other region death rate<br>3.51%",
          "Other region death rate<br>3.29%",
          "Other region death rate<br>3.29%",
          "Other region death rate<br>3.03%",
          "Other region death rate<br>2.64%",
          "Other region death rate<br>2.47%",
          "Other region death rate<br>2.08%",
          "Other region death rate<br>1.96%",
          "Other region death rate<br>1.88%",
          "Other region death rate<br>1.82%",
          "Other region death rate<br>1.67%",
          "Other region death rate<br>1.53%",
          "Other region death rate<br>1.59%",
          "Other region death rate<br>1.52%",
          "Other region death rate<br>1.53%",
          "Other region death rate<br>1.57%",
          "Other region death rate<br>1.62%",
          "Other region death rate<br>1.71%",
          "Other region death rate<br>1.61%",
          "Other region death rate<br>1.40%",
          "Other region death rate<br>1.18%",
          "Other region death rate<br>1.04%",
          "Other region death rate<br>0.97%",
          "Other region death rate<br>0.93%",
          "Other region death rate<br>0.54%",
          "Other region death rate<br>0.51%",
          "Other region death rate<br>0.56%",
          "Other region death rate<br>0.52%",
          "Other region death rate<br>0.58%",
          "Other region death rate<br>0.51%",
          "Other region death rate<br>0.35%",
          "Other region death rate<br>0.38%",
          "Other region death rate<br>0.42%",
          "Other region death rate<br>0.44%",
          "Other region death rate<br>0.54%",
          "Other region death rate<br>0.58%",
          "Other region death rate<br>0.62%",
          "Other region death rate<br>0.76%",
          "Other region death rate<br>0.87%",
          "Other region death rate<br>1.03%",
          "Other region death rate<br>0.55%",
          "Other region death rate<br>0.56%",
          "Other region death rate<br>0.00%",
          "Other region death rate<br>0.00%",
          "Other region death rate<br>0.00%",
          "Other region death rate<br>0.00%",
          "Other region death rate<br>0.00%",
          "Other region death rate<br>0.00%",
          "Other region death rate<br>0.00%",
          "Other region death rate<br>0.00%",
          "Other region death rate<br>0.00%",
          "Other region death rate<br>0.00%",
          "Other region death rate<br>0.00%",
          "Other region death rate<br>0.00%"
         ],
         "line": {
          "color": "#a7a7a7",
          "shape": "spline",
          "width": 4
         },
         "marker": {
          "color": "#f4f4f2",
          "line": {
           "color": "#a7a7a7",
           "width": 1
          },
          "size": 4
         },
         "mode": "lines+markers",
         "name": "Other Region",
         "text": [
          "Mar 17 2020 AEDT",
          "Mar 16 2020 AEDT",
          "Mar 15 2020 AEDT",
          "Mar 14 2020 AEDT",
          "Mar 13 2020 AEDT",
          "Mar 12 2020 AEDT",
          "Mar 11 2020 AEDT",
          "Mar 10 2020 AEDT",
          "Mar 09 2020 AEDT",
          "Mar 08 2020 AEDT",
          "Mar 07 2020 AEDT",
          "Mar 06 2020 AEDT",
          "Mar 05 2020 AEDT",
          "Mar 04 2020 AEDT",
          "Mar 03 2020 AEDT",
          "Mar 02 2020 AEDT",
          "Mar 01 2020 AEDT",
          "Feb 29 2020 AEDT",
          "Feb 28 2020 AEDT",
          "Feb 27 2020 AEDT",
          "Feb 26 2020 AEDT",
          "Feb 25 2020 AEDT",
          "Feb 24 2020 AEDT",
          "Feb 23 2020 AEDT",
          "Feb 22 2020 AEDT",
          "Feb 21 2020 AEDT",
          "Feb 20 2020 AEDT",
          "Feb 19 2020 AEDT",
          "Feb 18 2020 AEDT",
          "Feb 17 2020 AEDT",
          "Feb 16 2020 AEDT",
          "Feb 15 2020 AEDT",
          "Feb 14 2020 AEDT",
          "Feb 13 2020 AEDT",
          "Feb 12 2020 AEDT",
          "Feb 11 2020 AEDT",
          "Feb 10 2020 AEDT",
          "Feb 09 2020 AEDT",
          "Feb 08 2020 AEDT",
          "Feb 07 2020 AEDT",
          "Feb 06 2020 AEDT",
          "Feb 05 2020 AEDT",
          "Feb 04 2020 AEDT",
          "Feb 03 2020 AEDT",
          "Feb 02 2020 AEDT",
          "Feb 01 2020 AEDT",
          "Jan 31 2020 AEDT",
          "Jan 30 2020 AEDT",
          "Jan 29 2020 AEDT",
          "Jan 28 2020 AEDT",
          "Jan 27 2020 AEDT",
          "Jan 26 2020 AEDT",
          "Jan 25 2020 AEDT",
          "Jan 24 2020 AEDT",
          "Jan 23 2020 AEDT",
          "Jan 22 2020 AEDT",
          "Jan 21 2020 AEDT"
         ],
         "type": "scatter",
         "x": [
          "2020-03-17T18:30:00",
          "2020-03-16T22:00:00",
          "2020-03-15T22:00:00",
          "2020-03-14T22:00:00",
          "2020-03-13T22:00:00",
          "2020-03-12T22:00:00",
          "2020-03-11T22:00:00",
          "2020-03-10T22:00:00",
          "2020-03-09T22:00:00",
          "2020-03-08T22:00:00",
          "2020-03-07T22:00:00",
          "2020-03-06T22:00:00",
          "2020-03-05T22:00:00",
          "2020-03-04T22:00:00",
          "2020-03-03T22:00:00",
          "2020-03-02T22:00:00",
          "2020-03-01T22:00:00",
          "2020-02-29T22:00:00",
          "2020-02-28T22:00:00",
          "2020-02-27T22:00:00",
          "2020-02-26T22:00:00",
          "2020-02-25T22:00:00",
          "2020-02-24T22:00:00",
          "2020-02-23T22:00:00",
          "2020-02-22T22:00:00",
          "2020-02-21T22:00:00",
          "2020-02-20T22:00:00",
          "2020-02-19T22:00:00",
          "2020-02-18T22:00:00",
          "2020-02-17T22:00:00",
          "2020-02-16T22:00:00",
          "2020-02-15T22:00:00",
          "2020-02-14T22:00:00",
          "2020-02-13T22:00:00",
          "2020-02-12T22:00:00",
          "2020-02-11T21:30:00",
          "2020-02-10T22:00:00",
          "2020-02-09T22:00:00",
          "2020-02-08T22:00:00",
          "2020-02-07T22:00:00",
          "2020-02-06T22:00:00",
          "2020-02-05T22:00:00",
          "2020-02-04T21:00:00",
          "2020-02-03T21:00:00",
          "2020-02-02T21:00:00",
          "2020-02-01T11:00:00",
          "2020-01-31T13:30:00",
          "2020-01-30T13:00:00",
          "2020-01-29T15:00:00",
          "2020-01-28T12:30:00",
          "2020-01-27T15:00:00",
          "2020-01-26T14:00:00",
          "2020-01-25T16:00:00",
          "2020-01-24T16:00:00",
          "2020-01-23T16:00:00",
          "2020-01-22T16:00:00",
          "2020-01-21T16:00:00"
         ],
         "y": [
          3.8709740692793537,
          3.6721754840998018,
          3.4382428202164,
          3.5123072559819684,
          3.2918521209919156,
          3.293496090837434,
          3.029922683000301,
          2.635380125578516,
          2.4688932547478717,
          2.07909604519774,
          1.9550653967096567,
          1.8833006749401262,
          1.8209408194233687,
          1.670680313064419,
          1.5302727877578177,
          1.5907224958949098,
          1.5221337801982964,
          1.5262420183771999,
          1.5687053216838762,
          1.6245938515371157,
          1.7104846373139058,
          1.6122984626921637,
          1.3983050847457628,
          1.1806981519507187,
          1.040391676866585,
          0.9723261032161555,
          0.9298393913778529,
          0.5424954792043399,
          0.5070993914807302,
          0.562429696287964,
          0.5161290322580645,
          0.5805515239477503,
          0.5076142131979695,
          0.34965034965034963,
          0.38314176245210724,
          0.42283298097251587,
          0.4424778761061947,
          0.5405405405405406,
          0.5763688760806917,
          0.6230529595015576,
          0.7604562737642585,
          0.8658008658008658,
          1.0309278350515463,
          0.5524861878453038,
          0.5649717514124294,
          0,
          0,
          0,
          0,
          0,
          0,
          0,
          0,
          0,
          0,
          0,
          0
         ]
        }
       ],
       "layout": {
        "font": {
         "color": "#292929"
        },
        "hovermode": "x",
        "legend": {
         "orientation": "h"
        },
        "margin": {
         "b": 10,
         "l": 10,
         "pad": 0,
         "r": 10,
         "t": 5
        },
        "paper_bgcolor": "#cbd2d3",
        "plot_bgcolor": "#f4f4f2",
        "template": {
         "data": {
          "bar": [
           {
            "error_x": {
             "color": "#2a3f5f"
            },
            "error_y": {
             "color": "#2a3f5f"
            },
            "marker": {
             "line": {
              "color": "#E5ECF6",
              "width": 0.5
             }
            },
            "type": "bar"
           }
          ],
          "barpolar": [
           {
            "marker": {
             "line": {
              "color": "#E5ECF6",
              "width": 0.5
             }
            },
            "type": "barpolar"
           }
          ],
          "carpet": [
           {
            "aaxis": {
             "endlinecolor": "#2a3f5f",
             "gridcolor": "white",
             "linecolor": "white",
             "minorgridcolor": "white",
             "startlinecolor": "#2a3f5f"
            },
            "baxis": {
             "endlinecolor": "#2a3f5f",
             "gridcolor": "white",
             "linecolor": "white",
             "minorgridcolor": "white",
             "startlinecolor": "#2a3f5f"
            },
            "type": "carpet"
           }
          ],
          "choropleth": [
           {
            "colorbar": {
             "outlinewidth": 0,
             "ticks": ""
            },
            "type": "choropleth"
           }
          ],
          "contour": [
           {
            "colorbar": {
             "outlinewidth": 0,
             "ticks": ""
            },
            "colorscale": [
             [
              0,
              "#0d0887"
             ],
             [
              0.1111111111111111,
              "#46039f"
             ],
             [
              0.2222222222222222,
              "#7201a8"
             ],
             [
              0.3333333333333333,
              "#9c179e"
             ],
             [
              0.4444444444444444,
              "#bd3786"
             ],
             [
              0.5555555555555556,
              "#d8576b"
             ],
             [
              0.6666666666666666,
              "#ed7953"
             ],
             [
              0.7777777777777778,
              "#fb9f3a"
             ],
             [
              0.8888888888888888,
              "#fdca26"
             ],
             [
              1,
              "#f0f921"
             ]
            ],
            "type": "contour"
           }
          ],
          "contourcarpet": [
           {
            "colorbar": {
             "outlinewidth": 0,
             "ticks": ""
            },
            "type": "contourcarpet"
           }
          ],
          "heatmap": [
           {
            "colorbar": {
             "outlinewidth": 0,
             "ticks": ""
            },
            "colorscale": [
             [
              0,
              "#0d0887"
             ],
             [
              0.1111111111111111,
              "#46039f"
             ],
             [
              0.2222222222222222,
              "#7201a8"
             ],
             [
              0.3333333333333333,
              "#9c179e"
             ],
             [
              0.4444444444444444,
              "#bd3786"
             ],
             [
              0.5555555555555556,
              "#d8576b"
             ],
             [
              0.6666666666666666,
              "#ed7953"
             ],
             [
              0.7777777777777778,
              "#fb9f3a"
             ],
             [
              0.8888888888888888,
              "#fdca26"
             ],
             [
              1,
              "#f0f921"
             ]
            ],
            "type": "heatmap"
           }
          ],
          "heatmapgl": [
           {
            "colorbar": {
             "outlinewidth": 0,
             "ticks": ""
            },
            "colorscale": [
             [
              0,
              "#0d0887"
             ],
             [
              0.1111111111111111,
              "#46039f"
             ],
             [
              0.2222222222222222,
              "#7201a8"
             ],
             [
              0.3333333333333333,
              "#9c179e"
             ],
             [
              0.4444444444444444,
              "#bd3786"
             ],
             [
              0.5555555555555556,
              "#d8576b"
             ],
             [
              0.6666666666666666,
              "#ed7953"
             ],
             [
              0.7777777777777778,
              "#fb9f3a"
             ],
             [
              0.8888888888888888,
              "#fdca26"
             ],
             [
              1,
              "#f0f921"
             ]
            ],
            "type": "heatmapgl"
           }
          ],
          "histogram": [
           {
            "marker": {
             "colorbar": {
              "outlinewidth": 0,
              "ticks": ""
             }
            },
            "type": "histogram"
           }
          ],
          "histogram2d": [
           {
            "colorbar": {
             "outlinewidth": 0,
             "ticks": ""
            },
            "colorscale": [
             [
              0,
              "#0d0887"
             ],
             [
              0.1111111111111111,
              "#46039f"
             ],
             [
              0.2222222222222222,
              "#7201a8"
             ],
             [
              0.3333333333333333,
              "#9c179e"
             ],
             [
              0.4444444444444444,
              "#bd3786"
             ],
             [
              0.5555555555555556,
              "#d8576b"
             ],
             [
              0.6666666666666666,
              "#ed7953"
             ],
             [
              0.7777777777777778,
              "#fb9f3a"
             ],
             [
              0.8888888888888888,
              "#fdca26"
             ],
             [
              1,
              "#f0f921"
             ]
            ],
            "type": "histogram2d"
           }
          ],
          "histogram2dcontour": [
           {
            "colorbar": {
             "outlinewidth": 0,
             "ticks": ""
            },
            "colorscale": [
             [
              0,
              "#0d0887"
             ],
             [
              0.1111111111111111,
              "#46039f"
             ],
             [
              0.2222222222222222,
              "#7201a8"
             ],
             [
              0.3333333333333333,
              "#9c179e"
             ],
             [
              0.4444444444444444,
              "#bd3786"
             ],
             [
              0.5555555555555556,
              "#d8576b"
             ],
             [
              0.6666666666666666,
              "#ed7953"
             ],
             [
              0.7777777777777778,
              "#fb9f3a"
             ],
             [
              0.8888888888888888,
              "#fdca26"
             ],
             [
              1,
              "#f0f921"
             ]
            ],
            "type": "histogram2dcontour"
           }
          ],
          "mesh3d": [
           {
            "colorbar": {
             "outlinewidth": 0,
             "ticks": ""
            },
            "type": "mesh3d"
           }
          ],
          "parcoords": [
           {
            "line": {
             "colorbar": {
              "outlinewidth": 0,
              "ticks": ""
             }
            },
            "type": "parcoords"
           }
          ],
          "pie": [
           {
            "automargin": true,
            "type": "pie"
           }
          ],
          "scatter": [
           {
            "marker": {
             "colorbar": {
              "outlinewidth": 0,
              "ticks": ""
             }
            },
            "type": "scatter"
           }
          ],
          "scatter3d": [
           {
            "line": {
             "colorbar": {
              "outlinewidth": 0,
              "ticks": ""
             }
            },
            "marker": {
             "colorbar": {
              "outlinewidth": 0,
              "ticks": ""
             }
            },
            "type": "scatter3d"
           }
          ],
          "scattercarpet": [
           {
            "marker": {
             "colorbar": {
              "outlinewidth": 0,
              "ticks": ""
             }
            },
            "type": "scattercarpet"
           }
          ],
          "scattergeo": [
           {
            "marker": {
             "colorbar": {
              "outlinewidth": 0,
              "ticks": ""
             }
            },
            "type": "scattergeo"
           }
          ],
          "scattergl": [
           {
            "marker": {
             "colorbar": {
              "outlinewidth": 0,
              "ticks": ""
             }
            },
            "type": "scattergl"
           }
          ],
          "scattermapbox": [
           {
            "marker": {
             "colorbar": {
              "outlinewidth": 0,
              "ticks": ""
             }
            },
            "type": "scattermapbox"
           }
          ],
          "scatterpolar": [
           {
            "marker": {
             "colorbar": {
              "outlinewidth": 0,
              "ticks": ""
             }
            },
            "type": "scatterpolar"
           }
          ],
          "scatterpolargl": [
           {
            "marker": {
             "colorbar": {
              "outlinewidth": 0,
              "ticks": ""
             }
            },
            "type": "scatterpolargl"
           }
          ],
          "scatterternary": [
           {
            "marker": {
             "colorbar": {
              "outlinewidth": 0,
              "ticks": ""
             }
            },
            "type": "scatterternary"
           }
          ],
          "surface": [
           {
            "colorbar": {
             "outlinewidth": 0,
             "ticks": ""
            },
            "colorscale": [
             [
              0,
              "#0d0887"
             ],
             [
              0.1111111111111111,
              "#46039f"
             ],
             [
              0.2222222222222222,
              "#7201a8"
             ],
             [
              0.3333333333333333,
              "#9c179e"
             ],
             [
              0.4444444444444444,
              "#bd3786"
             ],
             [
              0.5555555555555556,
              "#d8576b"
             ],
             [
              0.6666666666666666,
              "#ed7953"
             ],
             [
              0.7777777777777778,
              "#fb9f3a"
             ],
             [
              0.8888888888888888,
              "#fdca26"
             ],
             [
              1,
              "#f0f921"
             ]
            ],
            "type": "surface"
           }
          ],
          "table": [
           {
            "cells": {
             "fill": {
              "color": "#EBF0F8"
             },
             "line": {
              "color": "white"
             }
            },
            "header": {
             "fill": {
              "color": "#C8D4E3"
             },
             "line": {
              "color": "white"
             }
            },
            "type": "table"
           }
          ]
         },
         "layout": {
          "annotationdefaults": {
           "arrowcolor": "#2a3f5f",
           "arrowhead": 0,
           "arrowwidth": 1
          },
          "coloraxis": {
           "colorbar": {
            "outlinewidth": 0,
            "ticks": ""
           }
          },
          "colorscale": {
           "diverging": [
            [
             0,
             "#8e0152"
            ],
            [
             0.1,
             "#c51b7d"
            ],
            [
             0.2,
             "#de77ae"
            ],
            [
             0.3,
             "#f1b6da"
            ],
            [
             0.4,
             "#fde0ef"
            ],
            [
             0.5,
             "#f7f7f7"
            ],
            [
             0.6,
             "#e6f5d0"
            ],
            [
             0.7,
             "#b8e186"
            ],
            [
             0.8,
             "#7fbc41"
            ],
            [
             0.9,
             "#4d9221"
            ],
            [
             1,
             "#276419"
            ]
           ],
           "sequential": [
            [
             0,
             "#0d0887"
            ],
            [
             0.1111111111111111,
             "#46039f"
            ],
            [
             0.2222222222222222,
             "#7201a8"
            ],
            [
             0.3333333333333333,
             "#9c179e"
            ],
            [
             0.4444444444444444,
             "#bd3786"
            ],
            [
             0.5555555555555556,
             "#d8576b"
            ],
            [
             0.6666666666666666,
             "#ed7953"
            ],
            [
             0.7777777777777778,
             "#fb9f3a"
            ],
            [
             0.8888888888888888,
             "#fdca26"
            ],
            [
             1,
             "#f0f921"
            ]
           ],
           "sequentialminus": [
            [
             0,
             "#0d0887"
            ],
            [
             0.1111111111111111,
             "#46039f"
            ],
            [
             0.2222222222222222,
             "#7201a8"
            ],
            [
             0.3333333333333333,
             "#9c179e"
            ],
            [
             0.4444444444444444,
             "#bd3786"
            ],
            [
             0.5555555555555556,
             "#d8576b"
            ],
            [
             0.6666666666666666,
             "#ed7953"
            ],
            [
             0.7777777777777778,
             "#fb9f3a"
            ],
            [
             0.8888888888888888,
             "#fdca26"
            ],
            [
             1,
             "#f0f921"
            ]
           ]
          },
          "colorway": [
           "#636efa",
           "#EF553B",
           "#00cc96",
           "#ab63fa",
           "#FFA15A",
           "#19d3f3",
           "#FF6692",
           "#B6E880",
           "#FF97FF",
           "#FECB52"
          ],
          "font": {
           "color": "#2a3f5f"
          },
          "geo": {
           "bgcolor": "white",
           "lakecolor": "white",
           "landcolor": "#E5ECF6",
           "showlakes": true,
           "showland": true,
           "subunitcolor": "white"
          },
          "hoverlabel": {
           "align": "left"
          },
          "hovermode": "closest",
          "mapbox": {
           "style": "light"
          },
          "paper_bgcolor": "white",
          "plot_bgcolor": "#E5ECF6",
          "polar": {
           "angularaxis": {
            "gridcolor": "white",
            "linecolor": "white",
            "ticks": ""
           },
           "bgcolor": "#E5ECF6",
           "radialaxis": {
            "gridcolor": "white",
            "linecolor": "white",
            "ticks": ""
           }
          },
          "scene": {
           "xaxis": {
            "backgroundcolor": "#E5ECF6",
            "gridcolor": "white",
            "gridwidth": 2,
            "linecolor": "white",
            "showbackground": true,
            "ticks": "",
            "zerolinecolor": "white"
           },
           "yaxis": {
            "backgroundcolor": "#E5ECF6",
            "gridcolor": "white",
            "gridwidth": 2,
            "linecolor": "white",
            "showbackground": true,
            "ticks": "",
            "zerolinecolor": "white"
           },
           "zaxis": {
            "backgroundcolor": "#E5ECF6",
            "gridcolor": "white",
            "gridwidth": 2,
            "linecolor": "white",
            "showbackground": true,
            "ticks": "",
            "zerolinecolor": "white"
           }
          },
          "shapedefaults": {
           "line": {
            "color": "#2a3f5f"
           }
          },
          "ternary": {
           "aaxis": {
            "gridcolor": "white",
            "linecolor": "white",
            "ticks": ""
           },
           "baxis": {
            "gridcolor": "white",
            "linecolor": "white",
            "ticks": ""
           },
           "bgcolor": "#E5ECF6",
           "caxis": {
            "gridcolor": "white",
            "linecolor": "white",
            "ticks": ""
           }
          },
          "title": {
           "x": 0.05
          },
          "xaxis": {
           "automargin": true,
           "gridcolor": "white",
           "linecolor": "white",
           "ticks": "",
           "title": {
            "standoff": 15
           },
           "zerolinecolor": "white",
           "zerolinewidth": 2
          },
          "yaxis": {
           "automargin": true,
           "gridcolor": "white",
           "linecolor": "white",
           "ticks": "",
           "title": {
            "standoff": 15
           },
           "zerolinecolor": "white",
           "zerolinewidth": 2
          }
         }
        },
        "xaxis": {
         "gridcolor": "rgba(203, 210, 211,.3)",
         "gridwidth": 0.1,
         "linecolor": "#272e3e",
         "showgrid": false,
         "showline": false,
         "tickformat": "%b %d",
         "zeroline": false
        },
        "yaxis": {
         "gridcolor": "rgba(203, 210, 211,.3)",
         "gridwidth": 0.1,
         "linecolor": "#272e3e",
         "showline": false,
         "tickmode": "array",
         "ticktext": [
          "0.0",
          "0.5",
          "1.0",
          "1.5",
          "2.0",
          "2.5",
          "3.0",
          "3.5"
         ],
         "tickvals": [
          0,
          0.5,
          1,
          1.5,
          2,
          2.5,
          3,
          3.5
         ],
         "zeroline": false
        }
       }
      },
      "text/html": [
       "<div>\n",
       "        \n",
       "        \n",
       "            <div id=\"21fcaf46-f5fa-4821-b4e2-30459e26b8d3\" class=\"plotly-graph-div\" style=\"height:525px; width:100%;\"></div>\n",
       "            <script type=\"text/javascript\">\n",
       "                require([\"plotly\"], function(Plotly) {\n",
       "                    window.PLOTLYENV=window.PLOTLYENV || {};\n",
       "                    \n",
       "                if (document.getElementById(\"21fcaf46-f5fa-4821-b4e2-30459e26b8d3\")) {\n",
       "                    Plotly.newPlot(\n",
       "                        '21fcaf46-f5fa-4821-b4e2-30459e26b8d3',\n",
       "                        [{\"hovertemplate\": \"<b>%{text}</b><br></br>%{hovertext}<extra></extra>\", \"hovertext\": [\"Mainland China death rate<br>3.99%\", \"Mainland China death rate<br>3.97%\", \"Mainland China death rate<br>3.96%\", \"Mainland China death rate<br>3.95%\", \"Mainland China death rate<br>3.93%\", \"Mainland China death rate<br>3.92%\", \"Mainland China death rate<br>3.91%\", \"Mainland China death rate<br>3.88%\", \"Mainland China death rate<br>3.86%\", \"Mainland China death rate<br>3.84%\", \"Mainland China death rate<br>3.81%\", \"Mainland China death rate<br>3.78%\", \"Mainland China death rate<br>3.75%\", \"Mainland China death rate<br>3.71%\", \"Mainland China death rate<br>3.67%\", \"Mainland China death rate<br>3.64%\", \"Mainland China death rate<br>3.60%\", \"Mainland China death rate<br>3.58%\", \"Mainland China death rate<br>3.54%\", \"Mainland China death rate<br>3.50%\", \"Mainland China death rate<br>3.48%\", \"Mainland China death rate<br>3.43%\", \"Mainland China death rate<br>3.36%\", \"Mainland China death rate<br>3.17%\", \"Mainland China death rate<br>3.07%\", \"Mainland China death rate<br>2.97%\", \"Mainland China death rate<br>2.84%\", \"Mainland China death rate<br>2.70%\", \"Mainland China death rate<br>2.58%\", \"Mainland China death rate<br>2.51%\", \"Mainland China death rate<br>2.43%\", \"Mainland China death rate<br>2.29%\", \"Mainland China death rate<br>2.16%\", \"Mainland China death rate<br>2.29%\", \"Mainland China death rate<br>2.49%\", \"Mainland China death rate<br>2.38%\", \"Mainland China death rate<br>2.26%\", \"Mainland China death rate<br>2.18%\", \"Mainland China death rate<br>2.09%\", \"Mainland China death rate<br>2.04%\", \"Mainland China death rate<br>2.00%\", \"Mainland China death rate<br>2.02%\", \"Mainland China death rate<br>2.07%\", \"Mainland China death rate<br>2.09%\", \"Mainland China death rate<br>2.10%\", \"Mainland China death rate<br>2.31%\", \"Mainland China death rate<br>2.21%\", \"Mainland China death rate<br>2.21%\", \"Mainland China death rate<br>2.21%\", \"Mainland China death rate<br>2.43%\", \"Mainland China death rate<br>2.92%\", \"Mainland China death rate<br>2.83%\", \"Mainland China death rate<br>3.11%\", \"Mainland China death rate<br>3.01%\", \"Mainland China death rate<br>2.82%\", \"Mainland China death rate<br>3.10%\", \"Mainland China death rate<br>1.83%\"], \"line\": {\"color\": \"#626262\", \"shape\": \"spline\", \"width\": 4}, \"marker\": {\"color\": \"#f4f4f2\", \"line\": {\"color\": \"#626262\", \"width\": 1}, \"size\": 4}, \"mode\": \"lines+markers\", \"name\": \"Mainland China\", \"text\": [\"Mar 17 2020 AEDT\", \"Mar 16 2020 AEDT\", \"Mar 15 2020 AEDT\", \"Mar 14 2020 AEDT\", \"Mar 13 2020 AEDT\", \"Mar 12 2020 AEDT\", \"Mar 11 2020 AEDT\", \"Mar 10 2020 AEDT\", \"Mar 09 2020 AEDT\", \"Mar 08 2020 AEDT\", \"Mar 07 2020 AEDT\", \"Mar 06 2020 AEDT\", \"Mar 05 2020 AEDT\", \"Mar 04 2020 AEDT\", \"Mar 03 2020 AEDT\", \"Mar 02 2020 AEDT\", \"Mar 01 2020 AEDT\", \"Feb 29 2020 AEDT\", \"Feb 28 2020 AEDT\", \"Feb 27 2020 AEDT\", \"Feb 26 2020 AEDT\", \"Feb 25 2020 AEDT\", \"Feb 24 2020 AEDT\", \"Feb 23 2020 AEDT\", \"Feb 22 2020 AEDT\", \"Feb 21 2020 AEDT\", \"Feb 20 2020 AEDT\", \"Feb 19 2020 AEDT\", \"Feb 18 2020 AEDT\", \"Feb 17 2020 AEDT\", \"Feb 16 2020 AEDT\", \"Feb 15 2020 AEDT\", \"Feb 14 2020 AEDT\", \"Feb 13 2020 AEDT\", \"Feb 12 2020 AEDT\", \"Feb 11 2020 AEDT\", \"Feb 10 2020 AEDT\", \"Feb 09 2020 AEDT\", \"Feb 08 2020 AEDT\", \"Feb 07 2020 AEDT\", \"Feb 06 2020 AEDT\", \"Feb 05 2020 AEDT\", \"Feb 04 2020 AEDT\", \"Feb 03 2020 AEDT\", \"Feb 02 2020 AEDT\", \"Feb 01 2020 AEDT\", \"Jan 31 2020 AEDT\", \"Jan 30 2020 AEDT\", \"Jan 29 2020 AEDT\", \"Jan 28 2020 AEDT\", \"Jan 27 2020 AEDT\", \"Jan 26 2020 AEDT\", \"Jan 25 2020 AEDT\", \"Jan 24 2020 AEDT\", \"Jan 23 2020 AEDT\", \"Jan 22 2020 AEDT\", \"Jan 21 2020 AEDT\"], \"type\": \"scatter\", \"x\": [\"2020-03-17T18:30:00\", \"2020-03-16T22:00:00\", \"2020-03-15T22:00:00\", \"2020-03-14T22:00:00\", \"2020-03-13T22:00:00\", \"2020-03-12T22:00:00\", \"2020-03-11T22:00:00\", \"2020-03-10T22:00:00\", \"2020-03-09T22:00:00\", \"2020-03-08T22:00:00\", \"2020-03-07T22:00:00\", \"2020-03-06T22:00:00\", \"2020-03-05T22:00:00\", \"2020-03-04T22:00:00\", \"2020-03-03T22:00:00\", \"2020-03-02T22:00:00\", \"2020-03-01T22:00:00\", \"2020-02-29T22:00:00\", \"2020-02-28T22:00:00\", \"2020-02-27T22:00:00\", \"2020-02-26T22:00:00\", \"2020-02-25T22:00:00\", \"2020-02-24T22:00:00\", \"2020-02-23T22:00:00\", \"2020-02-22T22:00:00\", \"2020-02-21T22:00:00\", \"2020-02-20T22:00:00\", \"2020-02-19T22:00:00\", \"2020-02-18T22:00:00\", \"2020-02-17T22:00:00\", \"2020-02-16T22:00:00\", \"2020-02-15T22:00:00\", \"2020-02-14T22:00:00\", \"2020-02-13T22:00:00\", \"2020-02-12T22:00:00\", \"2020-02-11T21:30:00\", \"2020-02-10T22:00:00\", \"2020-02-09T22:00:00\", \"2020-02-08T22:00:00\", \"2020-02-07T22:00:00\", \"2020-02-06T22:00:00\", \"2020-02-05T22:00:00\", \"2020-02-04T21:00:00\", \"2020-02-03T21:00:00\", \"2020-02-02T21:00:00\", \"2020-02-01T11:00:00\", \"2020-01-31T13:30:00\", \"2020-01-30T13:00:00\", \"2020-01-29T15:00:00\", \"2020-01-28T12:30:00\", \"2020-01-27T15:00:00\", \"2020-01-26T14:00:00\", \"2020-01-25T16:00:00\", \"2020-01-24T16:00:00\", \"2020-01-23T16:00:00\", \"2020-01-22T16:00:00\", \"2020-01-21T16:00:00\"], \"y\": [3.9879310984431613, 3.973239680459031, 3.9572973106707243, 3.945610214787687, 3.9306444227175406, 3.9223695122102162, 3.9094803040431803, 3.8833989647571636, 3.8632563324456553, 3.837908172749241, 3.806524407632887, 3.7764894290573676, 3.745895930753159, 3.713901278249819, 3.6718194408054794, 3.6388173843500864, 3.595454944063741, 3.577241927546656, 3.536993808992185, 3.4956749939488136, 3.477915556466489, 3.429049703837239, 3.359688917692806, 3.1740667567848604, 3.0737570617766186, 2.971547038420136, 2.839979618654295, 2.704087134692117, 2.5787570059913305, 2.508752285515853, 2.4304085713868653, 2.2903633301251203, 2.1624753374463688, 2.2851125004179065, 2.493006601767931, 2.381733789676028, 2.25898743624829, 2.181036798280956, 2.0890519806986623, 2.0393112514829896, 2.0046288054121417, 2.017633791265122, 2.0748913733339847, 2.0864639926020114, 2.1036606463220537, 2.30817217716781, 2.205425553944916, 2.2141182599635325, 2.21105527638191, 2.4268541619414834, 2.9229082937522834, 2.829711975745326, 3.106060606060606, 3.005780346820809, 2.8169014084507045, 3.096539162112933, 1.834862385321101]}, {\"hovertemplate\": \"<b>%{text}</b><br></br>%{hovertext}<extra></extra>\", \"hovertext\": [\"Other region death rate<br>3.87%\", \"Other region death rate<br>3.67%\", \"Other region death rate<br>3.44%\", \"Other region death rate<br>3.51%\", \"Other region death rate<br>3.29%\", \"Other region death rate<br>3.29%\", \"Other region death rate<br>3.03%\", \"Other region death rate<br>2.64%\", \"Other region death rate<br>2.47%\", \"Other region death rate<br>2.08%\", \"Other region death rate<br>1.96%\", \"Other region death rate<br>1.88%\", \"Other region death rate<br>1.82%\", \"Other region death rate<br>1.67%\", \"Other region death rate<br>1.53%\", \"Other region death rate<br>1.59%\", \"Other region death rate<br>1.52%\", \"Other region death rate<br>1.53%\", \"Other region death rate<br>1.57%\", \"Other region death rate<br>1.62%\", \"Other region death rate<br>1.71%\", \"Other region death rate<br>1.61%\", \"Other region death rate<br>1.40%\", \"Other region death rate<br>1.18%\", \"Other region death rate<br>1.04%\", \"Other region death rate<br>0.97%\", \"Other region death rate<br>0.93%\", \"Other region death rate<br>0.54%\", \"Other region death rate<br>0.51%\", \"Other region death rate<br>0.56%\", \"Other region death rate<br>0.52%\", \"Other region death rate<br>0.58%\", \"Other region death rate<br>0.51%\", \"Other region death rate<br>0.35%\", \"Other region death rate<br>0.38%\", \"Other region death rate<br>0.42%\", \"Other region death rate<br>0.44%\", \"Other region death rate<br>0.54%\", \"Other region death rate<br>0.58%\", \"Other region death rate<br>0.62%\", \"Other region death rate<br>0.76%\", \"Other region death rate<br>0.87%\", \"Other region death rate<br>1.03%\", \"Other region death rate<br>0.55%\", \"Other region death rate<br>0.56%\", \"Other region death rate<br>0.00%\", \"Other region death rate<br>0.00%\", \"Other region death rate<br>0.00%\", \"Other region death rate<br>0.00%\", \"Other region death rate<br>0.00%\", \"Other region death rate<br>0.00%\", \"Other region death rate<br>0.00%\", \"Other region death rate<br>0.00%\", \"Other region death rate<br>0.00%\", \"Other region death rate<br>0.00%\", \"Other region death rate<br>0.00%\", \"Other region death rate<br>0.00%\"], \"line\": {\"color\": \"#a7a7a7\", \"shape\": \"spline\", \"width\": 4}, \"marker\": {\"color\": \"#f4f4f2\", \"line\": {\"color\": \"#a7a7a7\", \"width\": 1}, \"size\": 4}, \"mode\": \"lines+markers\", \"name\": \"Other Region\", \"text\": [\"Mar 17 2020 AEDT\", \"Mar 16 2020 AEDT\", \"Mar 15 2020 AEDT\", \"Mar 14 2020 AEDT\", \"Mar 13 2020 AEDT\", \"Mar 12 2020 AEDT\", \"Mar 11 2020 AEDT\", \"Mar 10 2020 AEDT\", \"Mar 09 2020 AEDT\", \"Mar 08 2020 AEDT\", \"Mar 07 2020 AEDT\", \"Mar 06 2020 AEDT\", \"Mar 05 2020 AEDT\", \"Mar 04 2020 AEDT\", \"Mar 03 2020 AEDT\", \"Mar 02 2020 AEDT\", \"Mar 01 2020 AEDT\", \"Feb 29 2020 AEDT\", \"Feb 28 2020 AEDT\", \"Feb 27 2020 AEDT\", \"Feb 26 2020 AEDT\", \"Feb 25 2020 AEDT\", \"Feb 24 2020 AEDT\", \"Feb 23 2020 AEDT\", \"Feb 22 2020 AEDT\", \"Feb 21 2020 AEDT\", \"Feb 20 2020 AEDT\", \"Feb 19 2020 AEDT\", \"Feb 18 2020 AEDT\", \"Feb 17 2020 AEDT\", \"Feb 16 2020 AEDT\", \"Feb 15 2020 AEDT\", \"Feb 14 2020 AEDT\", \"Feb 13 2020 AEDT\", \"Feb 12 2020 AEDT\", \"Feb 11 2020 AEDT\", \"Feb 10 2020 AEDT\", \"Feb 09 2020 AEDT\", \"Feb 08 2020 AEDT\", \"Feb 07 2020 AEDT\", \"Feb 06 2020 AEDT\", \"Feb 05 2020 AEDT\", \"Feb 04 2020 AEDT\", \"Feb 03 2020 AEDT\", \"Feb 02 2020 AEDT\", \"Feb 01 2020 AEDT\", \"Jan 31 2020 AEDT\", \"Jan 30 2020 AEDT\", \"Jan 29 2020 AEDT\", \"Jan 28 2020 AEDT\", \"Jan 27 2020 AEDT\", \"Jan 26 2020 AEDT\", \"Jan 25 2020 AEDT\", \"Jan 24 2020 AEDT\", \"Jan 23 2020 AEDT\", \"Jan 22 2020 AEDT\", \"Jan 21 2020 AEDT\"], \"type\": \"scatter\", \"x\": [\"2020-03-17T18:30:00\", \"2020-03-16T22:00:00\", \"2020-03-15T22:00:00\", \"2020-03-14T22:00:00\", \"2020-03-13T22:00:00\", \"2020-03-12T22:00:00\", \"2020-03-11T22:00:00\", \"2020-03-10T22:00:00\", \"2020-03-09T22:00:00\", \"2020-03-08T22:00:00\", \"2020-03-07T22:00:00\", \"2020-03-06T22:00:00\", \"2020-03-05T22:00:00\", \"2020-03-04T22:00:00\", \"2020-03-03T22:00:00\", \"2020-03-02T22:00:00\", \"2020-03-01T22:00:00\", \"2020-02-29T22:00:00\", \"2020-02-28T22:00:00\", \"2020-02-27T22:00:00\", \"2020-02-26T22:00:00\", \"2020-02-25T22:00:00\", \"2020-02-24T22:00:00\", \"2020-02-23T22:00:00\", \"2020-02-22T22:00:00\", \"2020-02-21T22:00:00\", \"2020-02-20T22:00:00\", \"2020-02-19T22:00:00\", \"2020-02-18T22:00:00\", \"2020-02-17T22:00:00\", \"2020-02-16T22:00:00\", \"2020-02-15T22:00:00\", \"2020-02-14T22:00:00\", \"2020-02-13T22:00:00\", \"2020-02-12T22:00:00\", \"2020-02-11T21:30:00\", \"2020-02-10T22:00:00\", \"2020-02-09T22:00:00\", \"2020-02-08T22:00:00\", \"2020-02-07T22:00:00\", \"2020-02-06T22:00:00\", \"2020-02-05T22:00:00\", \"2020-02-04T21:00:00\", \"2020-02-03T21:00:00\", \"2020-02-02T21:00:00\", \"2020-02-01T11:00:00\", \"2020-01-31T13:30:00\", \"2020-01-30T13:00:00\", \"2020-01-29T15:00:00\", \"2020-01-28T12:30:00\", \"2020-01-27T15:00:00\", \"2020-01-26T14:00:00\", \"2020-01-25T16:00:00\", \"2020-01-24T16:00:00\", \"2020-01-23T16:00:00\", \"2020-01-22T16:00:00\", \"2020-01-21T16:00:00\"], \"y\": [3.8709740692793537, 3.6721754840998018, 3.4382428202164, 3.5123072559819684, 3.2918521209919156, 3.293496090837434, 3.029922683000301, 2.635380125578516, 2.4688932547478717, 2.07909604519774, 1.9550653967096567, 1.8833006749401262, 1.8209408194233687, 1.670680313064419, 1.5302727877578177, 1.5907224958949098, 1.5221337801982964, 1.5262420183771999, 1.5687053216838762, 1.6245938515371157, 1.7104846373139058, 1.6122984626921637, 1.3983050847457628, 1.1806981519507187, 1.040391676866585, 0.9723261032161555, 0.9298393913778529, 0.5424954792043399, 0.5070993914807302, 0.562429696287964, 0.5161290322580645, 0.5805515239477503, 0.5076142131979695, 0.34965034965034963, 0.38314176245210724, 0.42283298097251587, 0.4424778761061947, 0.5405405405405406, 0.5763688760806917, 0.6230529595015576, 0.7604562737642585, 0.8658008658008658, 1.0309278350515463, 0.5524861878453038, 0.5649717514124294, 0.0, 0.0, 0.0, 0.0, 0.0, 0.0, 0.0, 0.0, 0.0, 0.0, 0.0, 0.0]}],\n",
       "                        {\"font\": {\"color\": \"#292929\"}, \"hovermode\": \"x\", \"legend\": {\"orientation\": \"h\"}, \"margin\": {\"b\": 10, \"l\": 10, \"pad\": 0, \"r\": 10, \"t\": 5}, \"paper_bgcolor\": \"#cbd2d3\", \"plot_bgcolor\": \"#f4f4f2\", \"template\": {\"data\": {\"bar\": [{\"error_x\": {\"color\": \"#2a3f5f\"}, \"error_y\": {\"color\": \"#2a3f5f\"}, \"marker\": {\"line\": {\"color\": \"#E5ECF6\", \"width\": 0.5}}, \"type\": \"bar\"}], \"barpolar\": [{\"marker\": {\"line\": {\"color\": \"#E5ECF6\", \"width\": 0.5}}, \"type\": \"barpolar\"}], \"carpet\": [{\"aaxis\": {\"endlinecolor\": \"#2a3f5f\", \"gridcolor\": \"white\", \"linecolor\": \"white\", \"minorgridcolor\": \"white\", \"startlinecolor\": \"#2a3f5f\"}, \"baxis\": {\"endlinecolor\": \"#2a3f5f\", \"gridcolor\": \"white\", \"linecolor\": \"white\", \"minorgridcolor\": \"white\", \"startlinecolor\": \"#2a3f5f\"}, \"type\": \"carpet\"}], \"choropleth\": [{\"colorbar\": {\"outlinewidth\": 0, \"ticks\": \"\"}, \"type\": \"choropleth\"}], \"contour\": [{\"colorbar\": {\"outlinewidth\": 0, \"ticks\": \"\"}, \"colorscale\": [[0.0, \"#0d0887\"], [0.1111111111111111, \"#46039f\"], [0.2222222222222222, \"#7201a8\"], [0.3333333333333333, \"#9c179e\"], [0.4444444444444444, \"#bd3786\"], [0.5555555555555556, \"#d8576b\"], [0.6666666666666666, \"#ed7953\"], [0.7777777777777778, \"#fb9f3a\"], [0.8888888888888888, \"#fdca26\"], [1.0, \"#f0f921\"]], \"type\": \"contour\"}], \"contourcarpet\": [{\"colorbar\": {\"outlinewidth\": 0, \"ticks\": \"\"}, \"type\": \"contourcarpet\"}], \"heatmap\": [{\"colorbar\": {\"outlinewidth\": 0, \"ticks\": \"\"}, \"colorscale\": [[0.0, \"#0d0887\"], [0.1111111111111111, \"#46039f\"], [0.2222222222222222, \"#7201a8\"], [0.3333333333333333, \"#9c179e\"], [0.4444444444444444, \"#bd3786\"], [0.5555555555555556, \"#d8576b\"], [0.6666666666666666, \"#ed7953\"], [0.7777777777777778, \"#fb9f3a\"], [0.8888888888888888, \"#fdca26\"], [1.0, \"#f0f921\"]], \"type\": \"heatmap\"}], \"heatmapgl\": [{\"colorbar\": {\"outlinewidth\": 0, \"ticks\": \"\"}, \"colorscale\": [[0.0, \"#0d0887\"], [0.1111111111111111, \"#46039f\"], [0.2222222222222222, \"#7201a8\"], [0.3333333333333333, \"#9c179e\"], [0.4444444444444444, \"#bd3786\"], [0.5555555555555556, \"#d8576b\"], [0.6666666666666666, \"#ed7953\"], [0.7777777777777778, \"#fb9f3a\"], [0.8888888888888888, \"#fdca26\"], [1.0, \"#f0f921\"]], \"type\": \"heatmapgl\"}], \"histogram\": [{\"marker\": {\"colorbar\": {\"outlinewidth\": 0, \"ticks\": \"\"}}, \"type\": \"histogram\"}], \"histogram2d\": [{\"colorbar\": {\"outlinewidth\": 0, \"ticks\": \"\"}, \"colorscale\": [[0.0, \"#0d0887\"], [0.1111111111111111, \"#46039f\"], [0.2222222222222222, \"#7201a8\"], [0.3333333333333333, \"#9c179e\"], [0.4444444444444444, \"#bd3786\"], [0.5555555555555556, \"#d8576b\"], [0.6666666666666666, \"#ed7953\"], [0.7777777777777778, \"#fb9f3a\"], [0.8888888888888888, \"#fdca26\"], [1.0, \"#f0f921\"]], \"type\": \"histogram2d\"}], \"histogram2dcontour\": [{\"colorbar\": {\"outlinewidth\": 0, \"ticks\": \"\"}, \"colorscale\": [[0.0, \"#0d0887\"], [0.1111111111111111, \"#46039f\"], [0.2222222222222222, \"#7201a8\"], [0.3333333333333333, \"#9c179e\"], [0.4444444444444444, \"#bd3786\"], [0.5555555555555556, \"#d8576b\"], [0.6666666666666666, \"#ed7953\"], [0.7777777777777778, \"#fb9f3a\"], [0.8888888888888888, \"#fdca26\"], [1.0, \"#f0f921\"]], \"type\": \"histogram2dcontour\"}], \"mesh3d\": [{\"colorbar\": {\"outlinewidth\": 0, \"ticks\": \"\"}, \"type\": \"mesh3d\"}], \"parcoords\": [{\"line\": {\"colorbar\": {\"outlinewidth\": 0, \"ticks\": \"\"}}, \"type\": \"parcoords\"}], \"pie\": [{\"automargin\": true, \"type\": \"pie\"}], \"scatter\": [{\"marker\": {\"colorbar\": {\"outlinewidth\": 0, \"ticks\": \"\"}}, \"type\": \"scatter\"}], \"scatter3d\": [{\"line\": {\"colorbar\": {\"outlinewidth\": 0, \"ticks\": \"\"}}, \"marker\": {\"colorbar\": {\"outlinewidth\": 0, \"ticks\": \"\"}}, \"type\": \"scatter3d\"}], \"scattercarpet\": [{\"marker\": {\"colorbar\": {\"outlinewidth\": 0, \"ticks\": \"\"}}, \"type\": \"scattercarpet\"}], \"scattergeo\": [{\"marker\": {\"colorbar\": {\"outlinewidth\": 0, \"ticks\": \"\"}}, \"type\": \"scattergeo\"}], \"scattergl\": [{\"marker\": {\"colorbar\": {\"outlinewidth\": 0, \"ticks\": \"\"}}, \"type\": \"scattergl\"}], \"scattermapbox\": [{\"marker\": {\"colorbar\": {\"outlinewidth\": 0, \"ticks\": \"\"}}, \"type\": \"scattermapbox\"}], \"scatterpolar\": [{\"marker\": {\"colorbar\": {\"outlinewidth\": 0, \"ticks\": \"\"}}, \"type\": \"scatterpolar\"}], \"scatterpolargl\": [{\"marker\": {\"colorbar\": {\"outlinewidth\": 0, \"ticks\": \"\"}}, \"type\": \"scatterpolargl\"}], \"scatterternary\": [{\"marker\": {\"colorbar\": {\"outlinewidth\": 0, \"ticks\": \"\"}}, \"type\": \"scatterternary\"}], \"surface\": [{\"colorbar\": {\"outlinewidth\": 0, \"ticks\": \"\"}, \"colorscale\": [[0.0, \"#0d0887\"], [0.1111111111111111, \"#46039f\"], [0.2222222222222222, \"#7201a8\"], [0.3333333333333333, \"#9c179e\"], [0.4444444444444444, \"#bd3786\"], [0.5555555555555556, \"#d8576b\"], [0.6666666666666666, \"#ed7953\"], [0.7777777777777778, \"#fb9f3a\"], [0.8888888888888888, \"#fdca26\"], [1.0, \"#f0f921\"]], \"type\": \"surface\"}], \"table\": [{\"cells\": {\"fill\": {\"color\": \"#EBF0F8\"}, \"line\": {\"color\": \"white\"}}, \"header\": {\"fill\": {\"color\": \"#C8D4E3\"}, \"line\": {\"color\": \"white\"}}, \"type\": \"table\"}]}, \"layout\": {\"annotationdefaults\": {\"arrowcolor\": \"#2a3f5f\", \"arrowhead\": 0, \"arrowwidth\": 1}, \"coloraxis\": {\"colorbar\": {\"outlinewidth\": 0, \"ticks\": \"\"}}, \"colorscale\": {\"diverging\": [[0, \"#8e0152\"], [0.1, \"#c51b7d\"], [0.2, \"#de77ae\"], [0.3, \"#f1b6da\"], [0.4, \"#fde0ef\"], [0.5, \"#f7f7f7\"], [0.6, \"#e6f5d0\"], [0.7, \"#b8e186\"], [0.8, \"#7fbc41\"], [0.9, \"#4d9221\"], [1, \"#276419\"]], \"sequential\": [[0.0, \"#0d0887\"], [0.1111111111111111, \"#46039f\"], [0.2222222222222222, \"#7201a8\"], [0.3333333333333333, \"#9c179e\"], [0.4444444444444444, \"#bd3786\"], [0.5555555555555556, \"#d8576b\"], [0.6666666666666666, \"#ed7953\"], [0.7777777777777778, \"#fb9f3a\"], [0.8888888888888888, \"#fdca26\"], [1.0, \"#f0f921\"]], \"sequentialminus\": [[0.0, \"#0d0887\"], [0.1111111111111111, \"#46039f\"], [0.2222222222222222, \"#7201a8\"], [0.3333333333333333, \"#9c179e\"], [0.4444444444444444, \"#bd3786\"], [0.5555555555555556, \"#d8576b\"], [0.6666666666666666, \"#ed7953\"], [0.7777777777777778, \"#fb9f3a\"], [0.8888888888888888, \"#fdca26\"], [1.0, \"#f0f921\"]]}, \"colorway\": [\"#636efa\", \"#EF553B\", \"#00cc96\", \"#ab63fa\", \"#FFA15A\", \"#19d3f3\", \"#FF6692\", \"#B6E880\", \"#FF97FF\", \"#FECB52\"], \"font\": {\"color\": \"#2a3f5f\"}, \"geo\": {\"bgcolor\": \"white\", \"lakecolor\": \"white\", \"landcolor\": \"#E5ECF6\", \"showlakes\": true, \"showland\": true, \"subunitcolor\": \"white\"}, \"hoverlabel\": {\"align\": \"left\"}, \"hovermode\": \"closest\", \"mapbox\": {\"style\": \"light\"}, \"paper_bgcolor\": \"white\", \"plot_bgcolor\": \"#E5ECF6\", \"polar\": {\"angularaxis\": {\"gridcolor\": \"white\", \"linecolor\": \"white\", \"ticks\": \"\"}, \"bgcolor\": \"#E5ECF6\", \"radialaxis\": {\"gridcolor\": \"white\", \"linecolor\": \"white\", \"ticks\": \"\"}}, \"scene\": {\"xaxis\": {\"backgroundcolor\": \"#E5ECF6\", \"gridcolor\": \"white\", \"gridwidth\": 2, \"linecolor\": \"white\", \"showbackground\": true, \"ticks\": \"\", \"zerolinecolor\": \"white\"}, \"yaxis\": {\"backgroundcolor\": \"#E5ECF6\", \"gridcolor\": \"white\", \"gridwidth\": 2, \"linecolor\": \"white\", \"showbackground\": true, \"ticks\": \"\", \"zerolinecolor\": \"white\"}, \"zaxis\": {\"backgroundcolor\": \"#E5ECF6\", \"gridcolor\": \"white\", \"gridwidth\": 2, \"linecolor\": \"white\", \"showbackground\": true, \"ticks\": \"\", \"zerolinecolor\": \"white\"}}, \"shapedefaults\": {\"line\": {\"color\": \"#2a3f5f\"}}, \"ternary\": {\"aaxis\": {\"gridcolor\": \"white\", \"linecolor\": \"white\", \"ticks\": \"\"}, \"baxis\": {\"gridcolor\": \"white\", \"linecolor\": \"white\", \"ticks\": \"\"}, \"bgcolor\": \"#E5ECF6\", \"caxis\": {\"gridcolor\": \"white\", \"linecolor\": \"white\", \"ticks\": \"\"}}, \"title\": {\"x\": 0.05}, \"xaxis\": {\"automargin\": true, \"gridcolor\": \"white\", \"linecolor\": \"white\", \"ticks\": \"\", \"title\": {\"standoff\": 15}, \"zerolinecolor\": \"white\", \"zerolinewidth\": 2}, \"yaxis\": {\"automargin\": true, \"gridcolor\": \"white\", \"linecolor\": \"white\", \"ticks\": \"\", \"title\": {\"standoff\": 15}, \"zerolinecolor\": \"white\", \"zerolinewidth\": 2}}}, \"xaxis\": {\"gridcolor\": \"rgba(203, 210, 211,.3)\", \"gridwidth\": 0.1, \"linecolor\": \"#272e3e\", \"showgrid\": false, \"showline\": false, \"tickformat\": \"%b %d\", \"zeroline\": false}, \"yaxis\": {\"gridcolor\": \"rgba(203, 210, 211,.3)\", \"gridwidth\": 0.1, \"linecolor\": \"#272e3e\", \"showline\": false, \"tickmode\": \"array\", \"ticktext\": [\"0.0\", \"0.5\", \"1.0\", \"1.5\", \"2.0\", \"2.5\", \"3.0\", \"3.5\"], \"tickvals\": [0.0, 0.5, 1.0, 1.5, 2.0, 2.5, 3.0, 3.5], \"zeroline\": false}},\n",
       "                        {\"responsive\": true}\n",
       "                    ).then(function(){\n",
       "                            \n",
       "var gd = document.getElementById('21fcaf46-f5fa-4821-b4e2-30459e26b8d3');\n",
       "var x = new MutationObserver(function (mutations, observer) {{\n",
       "        var display = window.getComputedStyle(gd).display;\n",
       "        if (!display || display === 'none') {{\n",
       "            console.log([gd, 'removed!']);\n",
       "            Plotly.purge(gd);\n",
       "            observer.disconnect();\n",
       "        }}\n",
       "}});\n",
       "\n",
       "// Listen for the removal of the full notebook cells\n",
       "var notebookContainer = gd.closest('#notebook-container');\n",
       "if (notebookContainer) {{\n",
       "    x.observe(notebookContainer, {childList: true});\n",
       "}}\n",
       "\n",
       "// Listen for the clearing of the current output cell\n",
       "var outputEl = gd.closest('.output');\n",
       "if (outputEl) {{\n",
       "    x.observe(outputEl, {childList: true});\n",
       "}}\n",
       "\n",
       "                        })\n",
       "                };\n",
       "                });\n",
       "            </script>\n",
       "        </div>"
      ]
     },
     "metadata": {},
     "output_type": "display_data"
    }
   ],
   "source": [
    "%%time\n",
    "# Save numbers into variables to use in the app\n",
    "confirmedCases=dfs[keyList[0]]['Confirmed'].sum()\n",
    "deathsCases=dfs[keyList[0]]['Deaths'].sum()\n",
    "recoveredCases=dfs[keyList[0]]['Recovered'].sum()\n",
    "\n",
    "# Construct confirmed cases dataframe for line plot and 24-hour window case difference\n",
    "df_confirmed, plusConfirmedNum, plusPercentNum1 = df_for_lineplot_diff(dfs, 'Confirmed')\n",
    "\n",
    "\n",
    "# Construct recovered cases dataframe for line plot and 24-hour window case difference\n",
    "df_recovered, plusRecoveredNum, plusPercentNum2 = df_for_lineplot_diff(dfs, 'Recovered')\n",
    "\n",
    "\n",
    "# Construct death case dataframe for line plot and 24-hour window case difference\n",
    "df_deaths, plusDeathNum, plusPercentNum3 = df_for_lineplot_diff(dfs, 'Deaths')\n",
    "\n",
    "# Construct remaining case dataframe for line plot and 24-hour window case difference\n",
    "df_remaining, plusRemainNum, plusRemainNum3 = df_for_lineplot_diff(dfs, 'Remaining')\n",
    "\n",
    "# Create data table to show in app\n",
    "# Generate sum values for Country/Region level\n",
    "dfCase = dfs[keyList[0]].groupby(by='Country/Region', sort=False).sum().reset_index()\n",
    "dfCase = dfCase.sort_values(by=['Confirmed'], ascending=False).reset_index(drop=True)\n",
    "# As lat and lon also underwent sum(), which is not desired, remove from this table.\n",
    "dfCase = dfCase.drop(columns=['lat','lon'])\n",
    "\n",
    "# Grep lat and lon by the first instance to represent its Country/Region\n",
    "dfGPS = dfs[keyList[0]].groupby(by=['Country/Region'], sort=False).first().reset_index()\n",
    "dfGPS = dfGPS[['Country/Region','lat','lon']]\n",
    "\n",
    "# Merge two dataframes\n",
    "dfSum = pd.merge(dfCase, dfGPS, how='inner', on='Country/Region')\n",
    "dfSum = dfSum.replace({'Country/Region':'China'}, 'Mainland China')\n",
    "dfSum['Remaining'] = dfSum['Confirmed'] - dfSum['Recovered'] - dfSum['Deaths']\n",
    "# Rearrange columns to correspond to the number plate order\n",
    "dfSum = dfSum[['Country/Region','Remaining','Confirmed','Recovered','Deaths','lat','lon']]\n",
    "# Sort value based on Remaining cases and then Confirmed cases\n",
    "dfSum = dfSum.sort_values(by=['Remaining', 'Confirmed'], ascending=False).reset_index(drop=True)\n",
    "# Set row ids pass to selected_row_ids\n",
    "dfSum['id'] = dfSum['Country/Region']\n",
    "dfSum.set_index('id', inplace=True, drop=False)\n",
    "\n",
    "# Save numbers into variables to use in the app\n",
    "latestDate=datetime.strftime(df_confirmed['Date'][0], '%b %d, %Y %H:%M AEDT')\n",
    "secondLastDate=datetime.strftime(df_confirmed['Date'][1], '%b %d')\n",
    "daysOutbreak=(df_confirmed['Date'][0] - datetime.strptime('12/31/2019', '%m/%d/%Y')).days\n",
    "\n",
    "#############################################################################################\n",
    "#### Start to make plots\n",
    "#############################################################################################\n",
    "# Line plot for confirmed cases\n",
    "# Set up tick scale based on confirmed case number\n",
    "tickList = list(np.arange(0, df_confirmed['Mainland China'].max()+1000, 10000))\n",
    "\n",
    "# Create empty figure canvas\n",
    "fig_confirmed = go.Figure()\n",
    "# Add trace to the figure\n",
    "fig_confirmed.add_trace(go.Scatter(x=df_confirmed['Date'], y=df_confirmed['Mainland China'],\n",
    "                                   mode='lines+markers',\n",
    "                                   line_shape='spline',\n",
    "                                   name='Mainland China',\n",
    "                                   line=dict(color='#921113', width=4),\n",
    "                                   marker=dict(size=4, color='#f4f4f2',\n",
    "                                               line=dict(width=1,color='#921113')),\n",
    "                                   text=[datetime.strftime(d, '%b %d %Y AEDT') for d in df_confirmed['Date']],\n",
    "                                   hovertext=['Mainland China confirmed<br>{:,d} cases<br>'.format(i) for i in df_confirmed['Mainland China']],\n",
    "                                   hovertemplate='<b>%{text}</b><br></br>'+\n",
    "                                                 '%{hovertext}'+\n",
    "                                                 '<extra></extra>'))\n",
    "fig_confirmed.add_trace(go.Scatter(x=df_confirmed['Date'], y=df_confirmed['Other locations'],\n",
    "                                   mode='lines+markers',\n",
    "                                   line_shape='spline',\n",
    "                                   name='Other Region',\n",
    "                                   line=dict(color='#eb5254', width=4),\n",
    "                                   marker=dict(size=4, color='#f4f4f2',\n",
    "                                               line=dict(width=1,color='#eb5254')),\n",
    "                                   text=[datetime.strftime(d, '%b %d %Y AEDT') for d in df_confirmed['Date']],\n",
    "                                   hovertext=['Other region confirmed<br>{:,d} cases<br>'.format(i) for i in df_confirmed['Other locations']],\n",
    "                                   hovertemplate='<b>%{text}</b><br></br>'+\n",
    "                                                 '%{hovertext}'+\n",
    "                                                 '<extra></extra>'))\n",
    "# Customise layout\n",
    "fig_confirmed.update_layout(\n",
    "#    title=dict(\n",
    "#    text=\"<b>Confirmed Cases Timeline<b>\",\n",
    "#    y=0.96, x=0.5, xanchor='center', yanchor='top',\n",
    "#    font=dict(size=20, color=\"#292929\", family=\"Playfair Display\")\n",
    "#   ),\n",
    "    margin=go.layout.Margin(\n",
    "        l=10,\n",
    "        r=10,\n",
    "        b=10,\n",
    "        t=5,\n",
    "        pad=0\n",
    "    ),\n",
    "    yaxis=dict(\n",
    "        showline=False, linecolor='#272e3e',\n",
    "        zeroline=False,\n",
    "        #showgrid=False,\n",
    "        gridcolor='rgba(203, 210, 211,.3)',\n",
    "        gridwidth = .1,\n",
    "        tickmode='array',\n",
    "        # Set tick range based on the maximum number\n",
    "        tickvals=tickList,\n",
    "        # Set tick label accordingly\n",
    "        ticktext=[\"{:.0f}k\".format(i/1000) for i in tickList]\n",
    "    ),\n",
    "#    yaxis_title=\"Total Confirmed Case Number\",\n",
    "    xaxis=dict(\n",
    "        showline=False, linecolor='#272e3e',\n",
    "        showgrid=False,\n",
    "        gridcolor='rgba(203, 210, 211,.3)',\n",
    "        gridwidth = .1,\n",
    "        zeroline=False\n",
    "    ),\n",
    "    xaxis_tickformat='%b %d',\n",
    "    hovermode = 'x',\n",
    "    legend_orientation=\"h\",\n",
    "#    legend=dict(x=.35, y=-.05),\n",
    "    plot_bgcolor='#f4f4f2',\n",
    "    paper_bgcolor='#cbd2d3',\n",
    "    font=dict(color='#292929')\n",
    ")\n",
    "\n",
    "# Line plot for combine cases\n",
    "# Set up tick scale based on confirmed case number\n",
    "tickList = list(np.arange(0, df_remaining['Total'].max()+2000, 10000))\n",
    "\n",
    "# Create empty figure canvas\n",
    "fig_combine = go.Figure()\n",
    "# Add trace to the figure\n",
    "fig_combine.add_trace(go.Scatter(x=df_recovered['Date'], y=df_recovered['Total'],\n",
    "                                   mode='lines+markers',\n",
    "                                   line_shape='spline',\n",
    "                                   name='Total Recovered Cases',\n",
    "                                   line=dict(color='#168038', width=4),\n",
    "                                   marker=dict(size=4, color='#f4f4f2',\n",
    "                                               line=dict(width=1,color='#168038')),\n",
    "                                   text=[datetime.strftime(d, '%b %d %Y AEDT') for d in df_recovered['Date']],\n",
    "                                   hovertext=['Total recovered<br>{:,d} cases<br>'.format(i) for i in df_recovered['Total']],\n",
    "                                   hovertemplate='<b>%{text}</b><br></br>'+\n",
    "                                                 '%{hovertext}'+\n",
    "                                                 '<extra></extra>'))\n",
    "fig_combine.add_trace(go.Scatter(x=df_deaths['Date'], y=df_deaths['Total'],\n",
    "                                mode='lines+markers',\n",
    "                                line_shape='spline',\n",
    "                                name='Total Death Cases',\n",
    "                                line=dict(color='#626262', width=4),\n",
    "                                marker=dict(size=4, color='#f4f4f2',\n",
    "                                            line=dict(width=1,color='#626262')),\n",
    "                                text=[datetime.strftime(d, '%b %d %Y AEDT') for d in df_deaths['Date']],\n",
    "                                hovertext=['Total death<br>{:,d} cases<br>'.format(i) for i in df_deaths['Total']],\n",
    "                                hovertemplate='<b>%{text}</b><br></br>'+\n",
    "                                              '%{hovertext}'+\n",
    "                                              '<extra></extra>'))\n",
    "fig_combine.add_trace(go.Scatter(x=df_remaining['Date'], y=df_remaining['Total'],\n",
    "                                mode='lines+markers',\n",
    "                                line_shape='spline',\n",
    "                                name='Total Remaining Cases',\n",
    "                                line=dict(color='#e36209', width=4),\n",
    "                                marker=dict(size=4, color='#f4f4f2',\n",
    "                                            line=dict(width=1,color='#e36209')),\n",
    "                                text=[datetime.strftime(d, '%b %d %Y AEDT') for d in df_deaths['Date']],\n",
    "                                hovertext=['Total remaining<br>{:,d} cases<br>'.format(i) for i in df_remaining['Total']],\n",
    "                                hovertemplate='<b>%{text}</b><br></br>'+\n",
    "                                              '%{hovertext}'+\n",
    "                                              '<extra></extra>'))\n",
    "\n",
    "# Customise layout\n",
    "fig_combine.update_layout(\n",
    "#    title=dict(\n",
    "#    text=\"<b>Confirmed Cases Timeline<b>\",\n",
    "#    y=0.96, x=0.5, xanchor='center', yanchor='top',\n",
    "#    font=dict(size=20, color=\"#292929\", family=\"Playfair Display\")\n",
    "#   ),\n",
    "    margin=go.layout.Margin(\n",
    "        l=10,\n",
    "        r=10,\n",
    "        b=10,\n",
    "        t=5,\n",
    "        pad=0\n",
    "    ),\n",
    "    yaxis=dict(\n",
    "        showline=False, linecolor='#272e3e',\n",
    "        zeroline=False,\n",
    "        #showgrid=False,\n",
    "        gridcolor='rgba(203, 210, 211,.3)',\n",
    "        gridwidth = .1,\n",
    "        tickmode='array',\n",
    "        # Set tick range based on the maximum number\n",
    "        tickvals=tickList,\n",
    "        # Set tick label accordingly\n",
    "        ticktext=[\"{:.0f}k\".format(i/1000) for i in tickList]\n",
    "    ),\n",
    "#    yaxis_title=\"Total Confirmed Case Number\",\n",
    "    xaxis=dict(\n",
    "        showline=False, linecolor='#272e3e',\n",
    "        showgrid=False,\n",
    "        gridcolor='rgba(203, 210, 211,.3)',\n",
    "        gridwidth = .1,\n",
    "        zeroline=False\n",
    "    ),\n",
    "    xaxis_tickformat='%b %d',\n",
    "    hovermode = 'x',\n",
    "    legend_orientation=\"h\",\n",
    "#    legend=dict(x=.35, y=-.05),\n",
    "    plot_bgcolor='#f4f4f2',\n",
    "    paper_bgcolor='#cbd2d3',\n",
    "    font=dict(color='#292929')\n",
    ")\n",
    "\n",
    "# Line plot for death rate cases\n",
    "# Set up tick scale based on confirmed case number\n",
    "tickList = list(np.arange(0, (df_deaths['Mainland China']/df_confirmed['Mainland China']*100).max(), 0.5))\n",
    "\n",
    "# Create empty figure canvas\n",
    "fig_rate = go.Figure()\n",
    "# Add trace to the figure\n",
    "fig_rate.add_trace(go.Scatter(x=df_deaths['Date'], y=df_deaths['Mainland China']/df_confirmed['Mainland China']*100,\n",
    "                                mode='lines+markers',\n",
    "                                line_shape='spline',\n",
    "                                name='Mainland China',\n",
    "                                line=dict(color='#626262', width=4),\n",
    "                                marker=dict(size=4, color='#f4f4f2',\n",
    "                                            line=dict(width=1,color='#626262')),\n",
    "                                text=[datetime.strftime(d, '%b %d %Y AEDT') for d in df_deaths['Date']],\n",
    "                                hovertext=['Mainland China death rate<br>{:.2f}%'.format(i) for i in df_deaths['Mainland China']/df_confirmed['Mainland China']*100],\n",
    "                                hovertemplate='<b>%{text}</b><br></br>'+\n",
    "                                              '%{hovertext}'+\n",
    "                                              '<extra></extra>'))\n",
    "fig_rate.add_trace(go.Scatter(x=df_deaths['Date'], y=df_deaths['Other locations']/df_confirmed['Other locations']*100,\n",
    "                                mode='lines+markers',\n",
    "                                line_shape='spline',\n",
    "                                name='Other Region',\n",
    "                                line=dict(color='#a7a7a7', width=4),\n",
    "                                marker=dict(size=4, color='#f4f4f2',\n",
    "                                            line=dict(width=1,color='#a7a7a7')),\n",
    "                                text=[datetime.strftime(d, '%b %d %Y AEDT') for d in df_deaths['Date']],\n",
    "                                hovertext=['Other region death rate<br>{:.2f}%'.format(i) for i in df_deaths['Other locations']/df_confirmed['Other locations']*100],\n",
    "                                hovertemplate='<b>%{text}</b><br></br>'+\n",
    "                                              '%{hovertext}'+\n",
    "                                              '<extra></extra>'))\n",
    "\n",
    "# Customise layout\n",
    "fig_rate.update_layout(\n",
    "    margin=go.layout.Margin(\n",
    "        l=10,\n",
    "        r=10,\n",
    "        b=10,\n",
    "        t=5,\n",
    "        pad=0\n",
    "    ),\n",
    "    yaxis=dict(\n",
    "        showline=False, linecolor='#272e3e',\n",
    "        zeroline=False,\n",
    "        #showgrid=False,\n",
    "        gridcolor='rgba(203, 210, 211,.3)',\n",
    "        gridwidth = .1,\n",
    "        tickmode='array',\n",
    "        # Set tick range based on the maximum number\n",
    "        tickvals=tickList,\n",
    "        # Set tick label accordingly\n",
    "        ticktext=['{:.1f}'.format(i) for i in tickList]\n",
    "    ),\n",
    "#    yaxis_title=\"Total Confirmed Case Number\",\n",
    "    xaxis=dict(\n",
    "        showline=False, linecolor='#272e3e',\n",
    "        showgrid=False,\n",
    "        gridcolor='rgba(203, 210, 211,.3)',\n",
    "        gridwidth = .1,\n",
    "        zeroline=False\n",
    "    ),\n",
    "    xaxis_tickformat='%b %d',\n",
    "    hovermode = 'x',\n",
    "    legend_orientation=\"h\",\n",
    "#    legend=dict(x=.35, y=-.05),\n",
    "    plot_bgcolor='#f4f4f2',\n",
    "    paper_bgcolor='#cbd2d3',\n",
    "    font=dict(color='#292929')\n",
    ")"
   ]
  },
  {
   "cell_type": "code",
   "execution_count": 14,
   "metadata": {},
   "outputs": [
    {
     "data": {
      "text/html": [
       "<div>\n",
       "<style scoped>\n",
       "    .dataframe tbody tr th:only-of-type {\n",
       "        vertical-align: middle;\n",
       "    }\n",
       "\n",
       "    .dataframe tbody tr th {\n",
       "        vertical-align: top;\n",
       "    }\n",
       "\n",
       "    .dataframe thead th {\n",
       "        text-align: right;\n",
       "    }\n",
       "</style>\n",
       "<table border=\"1\" class=\"dataframe\">\n",
       "  <thead>\n",
       "    <tr style=\"text-align: right;\">\n",
       "      <th></th>\n",
       "      <th>Date</th>\n",
       "      <th>Mainland China</th>\n",
       "      <th>Other locations</th>\n",
       "      <th>Total</th>\n",
       "      <th>plusNum</th>\n",
       "      <th>plusPercentNum</th>\n",
       "    </tr>\n",
       "  </thead>\n",
       "  <tbody>\n",
       "    <tr>\n",
       "      <th>0</th>\n",
       "      <td>2020-03-17 18:30:00</td>\n",
       "      <td>80869</td>\n",
       "      <td>101964</td>\n",
       "      <td>182833</td>\n",
       "      <td>13082</td>\n",
       "      <td>0.077066</td>\n",
       "    </tr>\n",
       "    <tr>\n",
       "      <th>1</th>\n",
       "      <td>2020-03-16 22:00:00</td>\n",
       "      <td>80866</td>\n",
       "      <td>90219</td>\n",
       "      <td>171085</td>\n",
       "      <td>13082</td>\n",
       "      <td>0.077066</td>\n",
       "    </tr>\n",
       "    <tr>\n",
       "      <th>2</th>\n",
       "      <td>2020-03-15 22:00:00</td>\n",
       "      <td>80838</td>\n",
       "      <td>76987</td>\n",
       "      <td>157825</td>\n",
       "      <td>13082</td>\n",
       "      <td>0.077066</td>\n",
       "    </tr>\n",
       "    <tr>\n",
       "      <th>3</th>\n",
       "      <td>2020-03-14 22:00:00</td>\n",
       "      <td>80824</td>\n",
       "      <td>66993</td>\n",
       "      <td>147817</td>\n",
       "      <td>13082</td>\n",
       "      <td>0.077066</td>\n",
       "    </tr>\n",
       "    <tr>\n",
       "      <th>4</th>\n",
       "      <td>2020-03-13 22:00:00</td>\n",
       "      <td>80801</td>\n",
       "      <td>55045</td>\n",
       "      <td>135846</td>\n",
       "      <td>13082</td>\n",
       "      <td>0.077066</td>\n",
       "    </tr>\n",
       "    <tr>\n",
       "      <th>5</th>\n",
       "      <td>2020-03-12 22:00:00</td>\n",
       "      <td>80793</td>\n",
       "      <td>46941</td>\n",
       "      <td>127734</td>\n",
       "      <td>13082</td>\n",
       "      <td>0.077066</td>\n",
       "    </tr>\n",
       "    <tr>\n",
       "      <th>6</th>\n",
       "      <td>2020-03-11 22:00:00</td>\n",
       "      <td>80778</td>\n",
       "      <td>39836</td>\n",
       "      <td>120614</td>\n",
       "      <td>13082</td>\n",
       "      <td>0.077066</td>\n",
       "    </tr>\n",
       "    <tr>\n",
       "      <th>7</th>\n",
       "      <td>2020-03-10 22:00:00</td>\n",
       "      <td>80754</td>\n",
       "      <td>33923</td>\n",
       "      <td>114677</td>\n",
       "      <td>13082</td>\n",
       "      <td>0.077066</td>\n",
       "    </tr>\n",
       "    <tr>\n",
       "      <th>8</th>\n",
       "      <td>2020-03-09 22:00:00</td>\n",
       "      <td>80735</td>\n",
       "      <td>30540</td>\n",
       "      <td>111275</td>\n",
       "      <td>13082</td>\n",
       "      <td>0.077066</td>\n",
       "    </tr>\n",
       "    <tr>\n",
       "      <th>9</th>\n",
       "      <td>2020-03-08 22:00:00</td>\n",
       "      <td>80695</td>\n",
       "      <td>26550</td>\n",
       "      <td>107245</td>\n",
       "      <td>13082</td>\n",
       "      <td>0.077066</td>\n",
       "    </tr>\n",
       "    <tr>\n",
       "      <th>10</th>\n",
       "      <td>2020-03-07 22:00:00</td>\n",
       "      <td>80651</td>\n",
       "      <td>21943</td>\n",
       "      <td>102594</td>\n",
       "      <td>13082</td>\n",
       "      <td>0.077066</td>\n",
       "    </tr>\n",
       "    <tr>\n",
       "      <th>11</th>\n",
       "      <td>2020-03-06 22:00:00</td>\n",
       "      <td>80551</td>\n",
       "      <td>18372</td>\n",
       "      <td>98923</td>\n",
       "      <td>13082</td>\n",
       "      <td>0.077066</td>\n",
       "    </tr>\n",
       "    <tr>\n",
       "      <th>12</th>\n",
       "      <td>2020-03-05 22:00:00</td>\n",
       "      <td>80408</td>\n",
       "      <td>15816</td>\n",
       "      <td>96224</td>\n",
       "      <td>13082</td>\n",
       "      <td>0.077066</td>\n",
       "    </tr>\n",
       "    <tr>\n",
       "      <th>13</th>\n",
       "      <td>2020-03-04 22:00:00</td>\n",
       "      <td>80266</td>\n",
       "      <td>13288</td>\n",
       "      <td>93554</td>\n",
       "      <td>13082</td>\n",
       "      <td>0.077066</td>\n",
       "    </tr>\n",
       "    <tr>\n",
       "      <th>14</th>\n",
       "      <td>2020-03-03 22:00:00</td>\n",
       "      <td>80151</td>\n",
       "      <td>12024</td>\n",
       "      <td>92175</td>\n",
       "      <td>13082</td>\n",
       "      <td>0.077066</td>\n",
       "    </tr>\n",
       "    <tr>\n",
       "      <th>15</th>\n",
       "      <td>2020-03-02 22:00:00</td>\n",
       "      <td>80026</td>\n",
       "      <td>9744</td>\n",
       "      <td>89770</td>\n",
       "      <td>13082</td>\n",
       "      <td>0.077066</td>\n",
       "    </tr>\n",
       "    <tr>\n",
       "      <th>16</th>\n",
       "      <td>2020-03-01 22:00:00</td>\n",
       "      <td>79823</td>\n",
       "      <td>7161</td>\n",
       "      <td>86984</td>\n",
       "      <td>13082</td>\n",
       "      <td>0.077066</td>\n",
       "    </tr>\n",
       "    <tr>\n",
       "      <th>17</th>\n",
       "      <td>2020-02-29 22:00:00</td>\n",
       "      <td>79251</td>\n",
       "      <td>6421</td>\n",
       "      <td>85672</td>\n",
       "      <td>13082</td>\n",
       "      <td>0.077066</td>\n",
       "    </tr>\n",
       "    <tr>\n",
       "      <th>18</th>\n",
       "      <td>2020-02-28 22:00:00</td>\n",
       "      <td>78824</td>\n",
       "      <td>5036</td>\n",
       "      <td>83860</td>\n",
       "      <td>13082</td>\n",
       "      <td>0.077066</td>\n",
       "    </tr>\n",
       "    <tr>\n",
       "      <th>19</th>\n",
       "      <td>2020-02-27 22:00:00</td>\n",
       "      <td>78497</td>\n",
       "      <td>4001</td>\n",
       "      <td>82498</td>\n",
       "      <td>13082</td>\n",
       "      <td>0.077066</td>\n",
       "    </tr>\n",
       "    <tr>\n",
       "      <th>20</th>\n",
       "      <td>2020-02-26 22:00:00</td>\n",
       "      <td>78064</td>\n",
       "      <td>3157</td>\n",
       "      <td>81221</td>\n",
       "      <td>13082</td>\n",
       "      <td>0.077066</td>\n",
       "    </tr>\n",
       "    <tr>\n",
       "      <th>21</th>\n",
       "      <td>2020-02-25 22:00:00</td>\n",
       "      <td>77660</td>\n",
       "      <td>2667</td>\n",
       "      <td>80327</td>\n",
       "      <td>13082</td>\n",
       "      <td>0.077066</td>\n",
       "    </tr>\n",
       "    <tr>\n",
       "      <th>22</th>\n",
       "      <td>2020-02-24 22:00:00</td>\n",
       "      <td>77150</td>\n",
       "      <td>2360</td>\n",
       "      <td>79510</td>\n",
       "      <td>13082</td>\n",
       "      <td>0.077066</td>\n",
       "    </tr>\n",
       "    <tr>\n",
       "      <th>23</th>\n",
       "      <td>2020-02-23 22:00:00</td>\n",
       "      <td>76936</td>\n",
       "      <td>1948</td>\n",
       "      <td>78884</td>\n",
       "      <td>13082</td>\n",
       "      <td>0.077066</td>\n",
       "    </tr>\n",
       "    <tr>\n",
       "      <th>24</th>\n",
       "      <td>2020-02-22 22:00:00</td>\n",
       "      <td>76291</td>\n",
       "      <td>1634</td>\n",
       "      <td>77925</td>\n",
       "      <td>13082</td>\n",
       "      <td>0.077066</td>\n",
       "    </tr>\n",
       "    <tr>\n",
       "      <th>25</th>\n",
       "      <td>2020-02-21 22:00:00</td>\n",
       "      <td>75247</td>\n",
       "      <td>1337</td>\n",
       "      <td>76584</td>\n",
       "      <td>13082</td>\n",
       "      <td>0.077066</td>\n",
       "    </tr>\n",
       "    <tr>\n",
       "      <th>26</th>\n",
       "      <td>2020-02-20 22:00:00</td>\n",
       "      <td>74578</td>\n",
       "      <td>1183</td>\n",
       "      <td>75761</td>\n",
       "      <td>13082</td>\n",
       "      <td>0.077066</td>\n",
       "    </tr>\n",
       "    <tr>\n",
       "      <th>27</th>\n",
       "      <td>2020-02-19 22:00:00</td>\n",
       "      <td>74184</td>\n",
       "      <td>1106</td>\n",
       "      <td>75290</td>\n",
       "      <td>13082</td>\n",
       "      <td>0.077066</td>\n",
       "    </tr>\n",
       "    <tr>\n",
       "      <th>28</th>\n",
       "      <td>2020-02-18 22:00:00</td>\n",
       "      <td>72438</td>\n",
       "      <td>986</td>\n",
       "      <td>73424</td>\n",
       "      <td>13082</td>\n",
       "      <td>0.077066</td>\n",
       "    </tr>\n",
       "    <tr>\n",
       "      <th>29</th>\n",
       "      <td>2020-02-17 22:00:00</td>\n",
       "      <td>70553</td>\n",
       "      <td>889</td>\n",
       "      <td>71442</td>\n",
       "      <td>13082</td>\n",
       "      <td>0.077066</td>\n",
       "    </tr>\n",
       "    <tr>\n",
       "      <th>30</th>\n",
       "      <td>2020-02-16 22:00:00</td>\n",
       "      <td>68507</td>\n",
       "      <td>775</td>\n",
       "      <td>69282</td>\n",
       "      <td>13082</td>\n",
       "      <td>0.077066</td>\n",
       "    </tr>\n",
       "    <tr>\n",
       "      <th>31</th>\n",
       "      <td>2020-02-15 22:00:00</td>\n",
       "      <td>66496</td>\n",
       "      <td>689</td>\n",
       "      <td>67185</td>\n",
       "      <td>13082</td>\n",
       "      <td>0.077066</td>\n",
       "    </tr>\n",
       "    <tr>\n",
       "      <th>32</th>\n",
       "      <td>2020-02-14 22:00:00</td>\n",
       "      <td>63862</td>\n",
       "      <td>591</td>\n",
       "      <td>64453</td>\n",
       "      <td>13082</td>\n",
       "      <td>0.077066</td>\n",
       "    </tr>\n",
       "    <tr>\n",
       "      <th>33</th>\n",
       "      <td>2020-02-13 22:00:00</td>\n",
       "      <td>59822</td>\n",
       "      <td>572</td>\n",
       "      <td>60394</td>\n",
       "      <td>13082</td>\n",
       "      <td>0.077066</td>\n",
       "    </tr>\n",
       "    <tr>\n",
       "      <th>34</th>\n",
       "      <td>2020-02-12 22:00:00</td>\n",
       "      <td>44685</td>\n",
       "      <td>522</td>\n",
       "      <td>45207</td>\n",
       "      <td>13082</td>\n",
       "      <td>0.077066</td>\n",
       "    </tr>\n",
       "    <tr>\n",
       "      <th>35</th>\n",
       "      <td>2020-02-11 21:30:00</td>\n",
       "      <td>42658</td>\n",
       "      <td>473</td>\n",
       "      <td>43131</td>\n",
       "      <td>13082</td>\n",
       "      <td>0.077066</td>\n",
       "    </tr>\n",
       "    <tr>\n",
       "      <th>36</th>\n",
       "      <td>2020-02-10 22:00:00</td>\n",
       "      <td>40195</td>\n",
       "      <td>452</td>\n",
       "      <td>40647</td>\n",
       "      <td>13082</td>\n",
       "      <td>0.077066</td>\n",
       "    </tr>\n",
       "    <tr>\n",
       "      <th>37</th>\n",
       "      <td>2020-02-09 22:00:00</td>\n",
       "      <td>37230</td>\n",
       "      <td>370</td>\n",
       "      <td>37600</td>\n",
       "      <td>13082</td>\n",
       "      <td>0.077066</td>\n",
       "    </tr>\n",
       "    <tr>\n",
       "      <th>38</th>\n",
       "      <td>2020-02-08 22:00:00</td>\n",
       "      <td>34609</td>\n",
       "      <td>347</td>\n",
       "      <td>34956</td>\n",
       "      <td>13082</td>\n",
       "      <td>0.077066</td>\n",
       "    </tr>\n",
       "    <tr>\n",
       "      <th>39</th>\n",
       "      <td>2020-02-07 22:00:00</td>\n",
       "      <td>31187</td>\n",
       "      <td>321</td>\n",
       "      <td>31508</td>\n",
       "      <td>13082</td>\n",
       "      <td>0.077066</td>\n",
       "    </tr>\n",
       "    <tr>\n",
       "      <th>40</th>\n",
       "      <td>2020-02-06 22:00:00</td>\n",
       "      <td>28085</td>\n",
       "      <td>263</td>\n",
       "      <td>28348</td>\n",
       "      <td>13082</td>\n",
       "      <td>0.077066</td>\n",
       "    </tr>\n",
       "    <tr>\n",
       "      <th>41</th>\n",
       "      <td>2020-02-05 22:00:00</td>\n",
       "      <td>24385</td>\n",
       "      <td>231</td>\n",
       "      <td>24616</td>\n",
       "      <td>13082</td>\n",
       "      <td>0.077066</td>\n",
       "    </tr>\n",
       "    <tr>\n",
       "      <th>42</th>\n",
       "      <td>2020-02-04 21:00:00</td>\n",
       "      <td>20483</td>\n",
       "      <td>194</td>\n",
       "      <td>20677</td>\n",
       "      <td>13082</td>\n",
       "      <td>0.077066</td>\n",
       "    </tr>\n",
       "    <tr>\n",
       "      <th>43</th>\n",
       "      <td>2020-02-03 21:00:00</td>\n",
       "      <td>17302</td>\n",
       "      <td>181</td>\n",
       "      <td>17483</td>\n",
       "      <td>13082</td>\n",
       "      <td>0.077066</td>\n",
       "    </tr>\n",
       "    <tr>\n",
       "      <th>44</th>\n",
       "      <td>2020-02-02 21:00:00</td>\n",
       "      <td>14451</td>\n",
       "      <td>177</td>\n",
       "      <td>14628</td>\n",
       "      <td>13082</td>\n",
       "      <td>0.077066</td>\n",
       "    </tr>\n",
       "    <tr>\n",
       "      <th>45</th>\n",
       "      <td>2020-02-01 11:00:00</td>\n",
       "      <td>11221</td>\n",
       "      <td>153</td>\n",
       "      <td>11374</td>\n",
       "      <td>13082</td>\n",
       "      <td>0.077066</td>\n",
       "    </tr>\n",
       "    <tr>\n",
       "      <th>46</th>\n",
       "      <td>2020-01-31 13:30:00</td>\n",
       "      <td>9658</td>\n",
       "      <td>117</td>\n",
       "      <td>9775</td>\n",
       "      <td>13082</td>\n",
       "      <td>0.077066</td>\n",
       "    </tr>\n",
       "    <tr>\n",
       "      <th>47</th>\n",
       "      <td>2020-01-30 13:00:00</td>\n",
       "      <td>7678</td>\n",
       "      <td>105</td>\n",
       "      <td>7783</td>\n",
       "      <td>13082</td>\n",
       "      <td>0.077066</td>\n",
       "    </tr>\n",
       "    <tr>\n",
       "      <th>48</th>\n",
       "      <td>2020-01-29 15:00:00</td>\n",
       "      <td>5970</td>\n",
       "      <td>87</td>\n",
       "      <td>6057</td>\n",
       "      <td>13082</td>\n",
       "      <td>0.077066</td>\n",
       "    </tr>\n",
       "    <tr>\n",
       "      <th>49</th>\n",
       "      <td>2020-01-28 12:30:00</td>\n",
       "      <td>4409</td>\n",
       "      <td>64</td>\n",
       "      <td>4473</td>\n",
       "      <td>13082</td>\n",
       "      <td>0.077066</td>\n",
       "    </tr>\n",
       "    <tr>\n",
       "      <th>50</th>\n",
       "      <td>2020-01-27 15:00:00</td>\n",
       "      <td>2737</td>\n",
       "      <td>57</td>\n",
       "      <td>2794</td>\n",
       "      <td>13082</td>\n",
       "      <td>0.077066</td>\n",
       "    </tr>\n",
       "    <tr>\n",
       "      <th>51</th>\n",
       "      <td>2020-01-26 14:00:00</td>\n",
       "      <td>1979</td>\n",
       "      <td>40</td>\n",
       "      <td>2019</td>\n",
       "      <td>13082</td>\n",
       "      <td>0.077066</td>\n",
       "    </tr>\n",
       "    <tr>\n",
       "      <th>52</th>\n",
       "      <td>2020-01-25 16:00:00</td>\n",
       "      <td>1320</td>\n",
       "      <td>37</td>\n",
       "      <td>1357</td>\n",
       "      <td>13082</td>\n",
       "      <td>0.077066</td>\n",
       "    </tr>\n",
       "    <tr>\n",
       "      <th>53</th>\n",
       "      <td>2020-01-24 16:00:00</td>\n",
       "      <td>865</td>\n",
       "      <td>16</td>\n",
       "      <td>881</td>\n",
       "      <td>13082</td>\n",
       "      <td>0.077066</td>\n",
       "    </tr>\n",
       "    <tr>\n",
       "      <th>54</th>\n",
       "      <td>2020-01-23 16:00:00</td>\n",
       "      <td>639</td>\n",
       "      <td>17</td>\n",
       "      <td>656</td>\n",
       "      <td>13082</td>\n",
       "      <td>0.077066</td>\n",
       "    </tr>\n",
       "    <tr>\n",
       "      <th>55</th>\n",
       "      <td>2020-01-22 16:00:00</td>\n",
       "      <td>549</td>\n",
       "      <td>6</td>\n",
       "      <td>555</td>\n",
       "      <td>13082</td>\n",
       "      <td>0.077066</td>\n",
       "    </tr>\n",
       "    <tr>\n",
       "      <th>56</th>\n",
       "      <td>2020-01-21 16:00:00</td>\n",
       "      <td>327</td>\n",
       "      <td>5</td>\n",
       "      <td>332</td>\n",
       "      <td>13082</td>\n",
       "      <td>0.077066</td>\n",
       "    </tr>\n",
       "  </tbody>\n",
       "</table>\n",
       "</div>"
      ],
      "text/plain": [
       "                  Date  Mainland China  Other locations   Total  plusNum  \\\n",
       "0  2020-03-17 18:30:00           80869           101964  182833    13082   \n",
       "1  2020-03-16 22:00:00           80866            90219  171085    13082   \n",
       "2  2020-03-15 22:00:00           80838            76987  157825    13082   \n",
       "3  2020-03-14 22:00:00           80824            66993  147817    13082   \n",
       "4  2020-03-13 22:00:00           80801            55045  135846    13082   \n",
       "5  2020-03-12 22:00:00           80793            46941  127734    13082   \n",
       "6  2020-03-11 22:00:00           80778            39836  120614    13082   \n",
       "7  2020-03-10 22:00:00           80754            33923  114677    13082   \n",
       "8  2020-03-09 22:00:00           80735            30540  111275    13082   \n",
       "9  2020-03-08 22:00:00           80695            26550  107245    13082   \n",
       "10 2020-03-07 22:00:00           80651            21943  102594    13082   \n",
       "11 2020-03-06 22:00:00           80551            18372   98923    13082   \n",
       "12 2020-03-05 22:00:00           80408            15816   96224    13082   \n",
       "13 2020-03-04 22:00:00           80266            13288   93554    13082   \n",
       "14 2020-03-03 22:00:00           80151            12024   92175    13082   \n",
       "15 2020-03-02 22:00:00           80026             9744   89770    13082   \n",
       "16 2020-03-01 22:00:00           79823             7161   86984    13082   \n",
       "17 2020-02-29 22:00:00           79251             6421   85672    13082   \n",
       "18 2020-02-28 22:00:00           78824             5036   83860    13082   \n",
       "19 2020-02-27 22:00:00           78497             4001   82498    13082   \n",
       "20 2020-02-26 22:00:00           78064             3157   81221    13082   \n",
       "21 2020-02-25 22:00:00           77660             2667   80327    13082   \n",
       "22 2020-02-24 22:00:00           77150             2360   79510    13082   \n",
       "23 2020-02-23 22:00:00           76936             1948   78884    13082   \n",
       "24 2020-02-22 22:00:00           76291             1634   77925    13082   \n",
       "25 2020-02-21 22:00:00           75247             1337   76584    13082   \n",
       "26 2020-02-20 22:00:00           74578             1183   75761    13082   \n",
       "27 2020-02-19 22:00:00           74184             1106   75290    13082   \n",
       "28 2020-02-18 22:00:00           72438              986   73424    13082   \n",
       "29 2020-02-17 22:00:00           70553              889   71442    13082   \n",
       "30 2020-02-16 22:00:00           68507              775   69282    13082   \n",
       "31 2020-02-15 22:00:00           66496              689   67185    13082   \n",
       "32 2020-02-14 22:00:00           63862              591   64453    13082   \n",
       "33 2020-02-13 22:00:00           59822              572   60394    13082   \n",
       "34 2020-02-12 22:00:00           44685              522   45207    13082   \n",
       "35 2020-02-11 21:30:00           42658              473   43131    13082   \n",
       "36 2020-02-10 22:00:00           40195              452   40647    13082   \n",
       "37 2020-02-09 22:00:00           37230              370   37600    13082   \n",
       "38 2020-02-08 22:00:00           34609              347   34956    13082   \n",
       "39 2020-02-07 22:00:00           31187              321   31508    13082   \n",
       "40 2020-02-06 22:00:00           28085              263   28348    13082   \n",
       "41 2020-02-05 22:00:00           24385              231   24616    13082   \n",
       "42 2020-02-04 21:00:00           20483              194   20677    13082   \n",
       "43 2020-02-03 21:00:00           17302              181   17483    13082   \n",
       "44 2020-02-02 21:00:00           14451              177   14628    13082   \n",
       "45 2020-02-01 11:00:00           11221              153   11374    13082   \n",
       "46 2020-01-31 13:30:00            9658              117    9775    13082   \n",
       "47 2020-01-30 13:00:00            7678              105    7783    13082   \n",
       "48 2020-01-29 15:00:00            5970               87    6057    13082   \n",
       "49 2020-01-28 12:30:00            4409               64    4473    13082   \n",
       "50 2020-01-27 15:00:00            2737               57    2794    13082   \n",
       "51 2020-01-26 14:00:00            1979               40    2019    13082   \n",
       "52 2020-01-25 16:00:00            1320               37    1357    13082   \n",
       "53 2020-01-24 16:00:00             865               16     881    13082   \n",
       "54 2020-01-23 16:00:00             639               17     656    13082   \n",
       "55 2020-01-22 16:00:00             549                6     555    13082   \n",
       "56 2020-01-21 16:00:00             327                5     332    13082   \n",
       "\n",
       "    plusPercentNum  \n",
       "0         0.077066  \n",
       "1         0.077066  \n",
       "2         0.077066  \n",
       "3         0.077066  \n",
       "4         0.077066  \n",
       "5         0.077066  \n",
       "6         0.077066  \n",
       "7         0.077066  \n",
       "8         0.077066  \n",
       "9         0.077066  \n",
       "10        0.077066  \n",
       "11        0.077066  \n",
       "12        0.077066  \n",
       "13        0.077066  \n",
       "14        0.077066  \n",
       "15        0.077066  \n",
       "16        0.077066  \n",
       "17        0.077066  \n",
       "18        0.077066  \n",
       "19        0.077066  \n",
       "20        0.077066  \n",
       "21        0.077066  \n",
       "22        0.077066  \n",
       "23        0.077066  \n",
       "24        0.077066  \n",
       "25        0.077066  \n",
       "26        0.077066  \n",
       "27        0.077066  \n",
       "28        0.077066  \n",
       "29        0.077066  \n",
       "30        0.077066  \n",
       "31        0.077066  \n",
       "32        0.077066  \n",
       "33        0.077066  \n",
       "34        0.077066  \n",
       "35        0.077066  \n",
       "36        0.077066  \n",
       "37        0.077066  \n",
       "38        0.077066  \n",
       "39        0.077066  \n",
       "40        0.077066  \n",
       "41        0.077066  \n",
       "42        0.077066  \n",
       "43        0.077066  \n",
       "44        0.077066  \n",
       "45        0.077066  \n",
       "46        0.077066  \n",
       "47        0.077066  \n",
       "48        0.077066  \n",
       "49        0.077066  \n",
       "50        0.077066  \n",
       "51        0.077066  \n",
       "52        0.077066  \n",
       "53        0.077066  \n",
       "54        0.077066  \n",
       "55        0.077066  \n",
       "56        0.077066  "
      ]
     },
     "execution_count": 14,
     "metadata": {},
     "output_type": "execute_result"
    }
   ],
   "source": [
    "df_confirmed"
   ]
  },
  {
   "cell_type": "code",
   "execution_count": 15,
   "metadata": {},
   "outputs": [
    {
     "name": "stdout",
     "output_type": "stream",
     "text": [
      "CPU times: user 186 ms, sys: 4.15 ms, total: 190 ms\n",
      "Wall time: 196 ms\n"
     ]
    },
    {
     "data": {
      "application/vnd.plotly.v1+json": {
       "config": {
        "plotlyServerURL": "https://plot.ly"
       },
       "data": [
        {
         "hovertemplate": "<b>%{text}</b><br></br>%{hovertext}<extra></extra>",
         "hovertext": [
          "Iraq confirmed<br>110 cases<br>",
          "Iraq confirmed<br>101 cases<br>",
          "Iraq confirmed<br>83 cases<br>",
          "Iraq confirmed<br>71 cases<br>",
          "Iraq confirmed<br>71 cases<br>",
          "Iraq confirmed<br>71 cases<br>",
          "Iraq confirmed<br>65 cases<br>",
          "Iraq confirmed<br>54 cases<br>",
          "Iraq confirmed<br>46 cases<br>",
          "Iraq confirmed<br>40 cases<br>",
          "Iraq confirmed<br>35 cases<br>",
          "Iraq confirmed<br>32 cases<br>",
          "Iraq confirmed<br>26 cases<br>",
          "Iraq confirmed<br>21 cases<br>",
          "Iraq confirmed<br>13 cases<br>",
          "Iraq confirmed<br>8 cases<br>",
          "Iraq confirmed<br>7 cases<br>",
          "Iraq confirmed<br>6 cases<br>",
          "Iraq confirmed<br>5 cases<br>",
          "Iraq confirmed<br>5 cases<br>",
          "Iraq confirmed<br>1 cases<br>",
          "Iraq confirmed<br>1 cases<br>",
          "Iraq confirmed<br>0 cases<br>",
          "Iraq confirmed<br>0 cases<br>",
          "Iraq confirmed<br>0 cases<br>",
          "Iraq confirmed<br>0 cases<br>",
          "Iraq confirmed<br>0 cases<br>",
          "Iraq confirmed<br>0 cases<br>",
          "Iraq confirmed<br>0 cases<br>",
          "Iraq confirmed<br>0 cases<br>",
          "Iraq confirmed<br>0 cases<br>",
          "Iraq confirmed<br>0 cases<br>",
          "Iraq confirmed<br>0 cases<br>",
          "Iraq confirmed<br>0 cases<br>",
          "Iraq confirmed<br>0 cases<br>",
          "Iraq confirmed<br>0 cases<br>",
          "Iraq confirmed<br>0 cases<br>",
          "Iraq confirmed<br>0 cases<br>",
          "Iraq confirmed<br>0 cases<br>",
          "Iraq confirmed<br>0 cases<br>",
          "Iraq confirmed<br>0 cases<br>",
          "Iraq confirmed<br>0 cases<br>",
          "Iraq confirmed<br>0 cases<br>",
          "Iraq confirmed<br>0 cases<br>",
          "Iraq confirmed<br>0 cases<br>",
          "Iraq confirmed<br>0 cases<br>",
          "Iraq confirmed<br>0 cases<br>",
          "Iraq confirmed<br>0 cases<br>",
          "Iraq confirmed<br>0 cases<br>",
          "Iraq confirmed<br>0 cases<br>",
          "Iraq confirmed<br>0 cases<br>",
          "Iraq confirmed<br>0 cases<br>",
          "Iraq confirmed<br>0 cases<br>",
          "Iraq confirmed<br>0 cases<br>",
          "Iraq confirmed<br>0 cases<br>"
         ],
         "line": {
          "color": "#d7191c",
          "width": 2
         },
         "mode": "lines+markers",
         "name": "Confirmed case",
         "text": [
          "Mar 15 2020 AEDT",
          "Mar 14 2020 AEDT",
          "Mar 13 2020 AEDT",
          "Mar 12 2020 AEDT",
          "Mar 11 2020 AEDT",
          "Mar 10 2020 AEDT",
          "Mar 09 2020 AEDT",
          "Mar 08 2020 AEDT",
          "Mar 07 2020 AEDT",
          "Mar 06 2020 AEDT",
          "Mar 05 2020 AEDT",
          "Mar 04 2020 AEDT",
          "Mar 03 2020 AEDT",
          "Mar 02 2020 AEDT",
          "Mar 01 2020 AEDT",
          "Feb 29 2020 AEDT",
          "Feb 28 2020 AEDT",
          "Feb 27 2020 AEDT",
          "Feb 26 2020 AEDT",
          "Feb 25 2020 AEDT",
          "Feb 24 2020 AEDT",
          "Feb 23 2020 AEDT",
          "Feb 22 2020 AEDT",
          "Feb 21 2020 AEDT",
          "Feb 20 2020 AEDT",
          "Feb 19 2020 AEDT",
          "Feb 18 2020 AEDT",
          "Feb 17 2020 AEDT",
          "Feb 16 2020 AEDT",
          "Feb 15 2020 AEDT",
          "Feb 14 2020 AEDT",
          "Feb 13 2020 AEDT",
          "Feb 12 2020 AEDT",
          "Feb 11 2020 AEDT",
          "Feb 10 2020 AEDT",
          "Feb 09 2020 AEDT",
          "Feb 08 2020 AEDT",
          "Feb 07 2020 AEDT",
          "Feb 06 2020 AEDT",
          "Feb 05 2020 AEDT",
          "Feb 04 2020 AEDT",
          "Feb 03 2020 AEDT",
          "Feb 02 2020 AEDT",
          "Feb 01 2020 AEDT",
          "Jan 31 2020 AEDT",
          "Jan 30 2020 AEDT",
          "Jan 29 2020 AEDT",
          "Jan 28 2020 AEDT",
          "Jan 27 2020 AEDT",
          "Jan 26 2020 AEDT",
          "Jan 25 2020 AEDT",
          "Jan 24 2020 AEDT",
          "Jan 23 2020 AEDT",
          "Jan 22 2020 AEDT",
          "Jan 21 2020 AEDT"
         ],
         "type": "scatter",
         "x": [
          "2020-03-15T00:00:00",
          "2020-03-14T00:00:00",
          "2020-03-13T00:00:00",
          "2020-03-12T00:00:00",
          "2020-03-11T00:00:00",
          "2020-03-10T00:00:00",
          "2020-03-09T00:00:00",
          "2020-03-08T00:00:00",
          "2020-03-07T00:00:00",
          "2020-03-06T00:00:00",
          "2020-03-05T00:00:00",
          "2020-03-04T00:00:00",
          "2020-03-03T00:00:00",
          "2020-03-02T00:00:00",
          "2020-03-01T00:00:00",
          "2020-02-29T00:00:00",
          "2020-02-28T00:00:00",
          "2020-02-27T00:00:00",
          "2020-02-26T00:00:00",
          "2020-02-25T00:00:00",
          "2020-02-24T00:00:00",
          "2020-02-23T00:00:00",
          "2020-02-22T00:00:00",
          "2020-02-21T00:00:00",
          "2020-02-20T00:00:00",
          "2020-02-19T00:00:00",
          "2020-02-18T00:00:00",
          "2020-02-17T00:00:00",
          "2020-02-16T00:00:00",
          "2020-02-15T00:00:00",
          "2020-02-14T00:00:00",
          "2020-02-13T00:00:00",
          "2020-02-12T00:00:00",
          "2020-02-11T00:00:00",
          "2020-02-10T00:00:00",
          "2020-02-09T00:00:00",
          "2020-02-08T00:00:00",
          "2020-02-07T00:00:00",
          "2020-02-06T00:00:00",
          "2020-02-05T00:00:00",
          "2020-02-04T00:00:00",
          "2020-02-03T00:00:00",
          "2020-02-02T00:00:00",
          "2020-02-01T00:00:00",
          "2020-01-31T00:00:00",
          "2020-01-30T00:00:00",
          "2020-01-29T00:00:00",
          "2020-01-28T00:00:00",
          "2020-01-27T00:00:00",
          "2020-01-26T00:00:00",
          "2020-01-25T00:00:00",
          "2020-01-24T00:00:00",
          "2020-01-23T00:00:00",
          "2020-01-22T00:00:00",
          "2020-01-21T00:00:00"
         ],
         "y": [
          110,
          101,
          83,
          71,
          71,
          71,
          65,
          54,
          46,
          40,
          35,
          32,
          26,
          21,
          13,
          8,
          7,
          6,
          5,
          5,
          1,
          1,
          0,
          0,
          0,
          0,
          0,
          0,
          0,
          0,
          0,
          0,
          0,
          0,
          0,
          0,
          0,
          0,
          0,
          0,
          0,
          0,
          0,
          0,
          0,
          0,
          0,
          0,
          0,
          0,
          0,
          0,
          0,
          0,
          0
         ]
        },
        {
         "hovertemplate": "<b>%{text}</b><br></br>%{hovertext}<extra></extra>",
         "hovertext": [
          "Iraq Recovered<br>26 cases<br>",
          "Iraq Recovered<br>24 cases<br>",
          "Iraq Recovered<br>24 cases<br>",
          "Iraq Recovered<br>15 cases<br>",
          "Iraq Recovered<br>15 cases<br>",
          "Iraq Recovered<br>3 cases<br>",
          "Iraq Recovered<br>1 cases<br>",
          "Iraq Recovered<br>1 cases<br>",
          "Iraq Recovered<br>1 cases<br>",
          "Iraq Recovered<br>1 cases<br>",
          "Iraq Recovered<br>0 cases<br>",
          "Iraq Recovered<br>0 cases<br>",
          "Iraq Recovered<br>0 cases<br>",
          "Iraq Recovered<br>0 cases<br>",
          "Iraq Recovered<br>0 cases<br>",
          "Iraq Recovered<br>0 cases<br>",
          "Iraq Recovered<br>0 cases<br>",
          "Iraq Recovered<br>0 cases<br>",
          "Iraq Recovered<br>0 cases<br>",
          "Iraq Recovered<br>0 cases<br>",
          "Iraq Recovered<br>0 cases<br>",
          "Iraq Recovered<br>0 cases<br>",
          "Iraq Recovered<br>0 cases<br>",
          "Iraq Recovered<br>0 cases<br>",
          "Iraq Recovered<br>0 cases<br>",
          "Iraq Recovered<br>0 cases<br>",
          "Iraq Recovered<br>0 cases<br>",
          "Iraq Recovered<br>0 cases<br>",
          "Iraq Recovered<br>0 cases<br>",
          "Iraq Recovered<br>0 cases<br>",
          "Iraq Recovered<br>0 cases<br>",
          "Iraq Recovered<br>0 cases<br>",
          "Iraq Recovered<br>0 cases<br>",
          "Iraq Recovered<br>0 cases<br>",
          "Iraq Recovered<br>0 cases<br>",
          "Iraq Recovered<br>0 cases<br>",
          "Iraq Recovered<br>0 cases<br>",
          "Iraq Recovered<br>0 cases<br>",
          "Iraq Recovered<br>0 cases<br>",
          "Iraq Recovered<br>0 cases<br>",
          "Iraq Recovered<br>0 cases<br>",
          "Iraq Recovered<br>0 cases<br>",
          "Iraq Recovered<br>0 cases<br>",
          "Iraq Recovered<br>0 cases<br>",
          "Iraq Recovered<br>0 cases<br>",
          "Iraq Recovered<br>0 cases<br>",
          "Iraq Recovered<br>0 cases<br>",
          "Iraq Recovered<br>0 cases<br>",
          "Iraq Recovered<br>0 cases<br>",
          "Iraq Recovered<br>0 cases<br>",
          "Iraq Recovered<br>0 cases<br>",
          "Iraq Recovered<br>0 cases<br>",
          "Iraq Recovered<br>0 cases<br>",
          "Iraq Recovered<br>0 cases<br>",
          "Iraq Recovered<br>0 cases<br>"
         ],
         "line": {
          "color": "#1a9622",
          "width": 2
         },
         "mode": "lines+markers",
         "name": "Recovered case",
         "text": [
          "Mar 15 2020 AEDT",
          "Mar 14 2020 AEDT",
          "Mar 13 2020 AEDT",
          "Mar 12 2020 AEDT",
          "Mar 11 2020 AEDT",
          "Mar 10 2020 AEDT",
          "Mar 09 2020 AEDT",
          "Mar 08 2020 AEDT",
          "Mar 07 2020 AEDT",
          "Mar 06 2020 AEDT",
          "Mar 05 2020 AEDT",
          "Mar 04 2020 AEDT",
          "Mar 03 2020 AEDT",
          "Mar 02 2020 AEDT",
          "Mar 01 2020 AEDT",
          "Feb 29 2020 AEDT",
          "Feb 28 2020 AEDT",
          "Feb 27 2020 AEDT",
          "Feb 26 2020 AEDT",
          "Feb 25 2020 AEDT",
          "Feb 24 2020 AEDT",
          "Feb 23 2020 AEDT",
          "Feb 22 2020 AEDT",
          "Feb 21 2020 AEDT",
          "Feb 20 2020 AEDT",
          "Feb 19 2020 AEDT",
          "Feb 18 2020 AEDT",
          "Feb 17 2020 AEDT",
          "Feb 16 2020 AEDT",
          "Feb 15 2020 AEDT",
          "Feb 14 2020 AEDT",
          "Feb 13 2020 AEDT",
          "Feb 12 2020 AEDT",
          "Feb 11 2020 AEDT",
          "Feb 10 2020 AEDT",
          "Feb 09 2020 AEDT",
          "Feb 08 2020 AEDT",
          "Feb 07 2020 AEDT",
          "Feb 06 2020 AEDT",
          "Feb 05 2020 AEDT",
          "Feb 04 2020 AEDT",
          "Feb 03 2020 AEDT",
          "Feb 02 2020 AEDT",
          "Feb 01 2020 AEDT",
          "Jan 31 2020 AEDT",
          "Jan 30 2020 AEDT",
          "Jan 29 2020 AEDT",
          "Jan 28 2020 AEDT",
          "Jan 27 2020 AEDT",
          "Jan 26 2020 AEDT",
          "Jan 25 2020 AEDT",
          "Jan 24 2020 AEDT",
          "Jan 23 2020 AEDT",
          "Jan 22 2020 AEDT",
          "Jan 21 2020 AEDT"
         ],
         "type": "scatter",
         "x": [
          "2020-03-15T00:00:00",
          "2020-03-14T00:00:00",
          "2020-03-13T00:00:00",
          "2020-03-12T00:00:00",
          "2020-03-11T00:00:00",
          "2020-03-10T00:00:00",
          "2020-03-09T00:00:00",
          "2020-03-08T00:00:00",
          "2020-03-07T00:00:00",
          "2020-03-06T00:00:00",
          "2020-03-05T00:00:00",
          "2020-03-04T00:00:00",
          "2020-03-03T00:00:00",
          "2020-03-02T00:00:00",
          "2020-03-01T00:00:00",
          "2020-02-29T00:00:00",
          "2020-02-28T00:00:00",
          "2020-02-27T00:00:00",
          "2020-02-26T00:00:00",
          "2020-02-25T00:00:00",
          "2020-02-24T00:00:00",
          "2020-02-23T00:00:00",
          "2020-02-22T00:00:00",
          "2020-02-21T00:00:00",
          "2020-02-20T00:00:00",
          "2020-02-19T00:00:00",
          "2020-02-18T00:00:00",
          "2020-02-17T00:00:00",
          "2020-02-16T00:00:00",
          "2020-02-15T00:00:00",
          "2020-02-14T00:00:00",
          "2020-02-13T00:00:00",
          "2020-02-12T00:00:00",
          "2020-02-11T00:00:00",
          "2020-02-10T00:00:00",
          "2020-02-09T00:00:00",
          "2020-02-08T00:00:00",
          "2020-02-07T00:00:00",
          "2020-02-06T00:00:00",
          "2020-02-05T00:00:00",
          "2020-02-04T00:00:00",
          "2020-02-03T00:00:00",
          "2020-02-02T00:00:00",
          "2020-02-01T00:00:00",
          "2020-01-31T00:00:00",
          "2020-01-30T00:00:00",
          "2020-01-29T00:00:00",
          "2020-01-28T00:00:00",
          "2020-01-27T00:00:00",
          "2020-01-26T00:00:00",
          "2020-01-25T00:00:00",
          "2020-01-24T00:00:00",
          "2020-01-23T00:00:00",
          "2020-01-22T00:00:00",
          "2020-01-21T00:00:00"
         ],
         "y": [
          26,
          24,
          24,
          15,
          15,
          3,
          1,
          1,
          1,
          1,
          0,
          0,
          0,
          0,
          0,
          0,
          0,
          0,
          0,
          0,
          0,
          0,
          0,
          0,
          0,
          0,
          0,
          0,
          0,
          0,
          0,
          0,
          0,
          0,
          0,
          0,
          0,
          0,
          0,
          0,
          0,
          0,
          0,
          0,
          0,
          0,
          0,
          0,
          0,
          0,
          0,
          0,
          0,
          0,
          0
         ]
        },
        {
         "hovertemplate": "<b>%{text}</b><br></br>%{hovertext}<extra></extra>",
         "hovertext": [
          "Iraq Deaths<br>10 cases<br>",
          "Iraq Deaths<br>9 cases<br>",
          "Iraq Deaths<br>8 cases<br>",
          "Iraq Deaths<br>8 cases<br>",
          "Iraq Deaths<br>7 cases<br>",
          "Iraq Deaths<br>7 cases<br>",
          "Iraq Deaths<br>6 cases<br>",
          "Iraq Deaths<br>4 cases<br>",
          "Iraq Deaths<br>4 cases<br>",
          "Iraq Deaths<br>3 cases<br>",
          "Iraq Deaths<br>1 cases<br>",
          "Iraq Deaths<br>1 cases<br>",
          "Iraq Deaths<br>0 cases<br>",
          "Iraq Deaths<br>0 cases<br>",
          "Iraq Deaths<br>0 cases<br>",
          "Iraq Deaths<br>0 cases<br>",
          "Iraq Deaths<br>0 cases<br>",
          "Iraq Deaths<br>0 cases<br>",
          "Iraq Deaths<br>0 cases<br>",
          "Iraq Deaths<br>0 cases<br>",
          "Iraq Deaths<br>0 cases<br>",
          "Iraq Deaths<br>0 cases<br>",
          "Iraq Deaths<br>0 cases<br>",
          "Iraq Deaths<br>0 cases<br>",
          "Iraq Deaths<br>0 cases<br>",
          "Iraq Deaths<br>0 cases<br>",
          "Iraq Deaths<br>0 cases<br>",
          "Iraq Deaths<br>0 cases<br>",
          "Iraq Deaths<br>0 cases<br>",
          "Iraq Deaths<br>0 cases<br>",
          "Iraq Deaths<br>0 cases<br>",
          "Iraq Deaths<br>0 cases<br>",
          "Iraq Deaths<br>0 cases<br>",
          "Iraq Deaths<br>0 cases<br>",
          "Iraq Deaths<br>0 cases<br>",
          "Iraq Deaths<br>0 cases<br>",
          "Iraq Deaths<br>0 cases<br>",
          "Iraq Deaths<br>0 cases<br>",
          "Iraq Deaths<br>0 cases<br>",
          "Iraq Deaths<br>0 cases<br>",
          "Iraq Deaths<br>0 cases<br>",
          "Iraq Deaths<br>0 cases<br>",
          "Iraq Deaths<br>0 cases<br>",
          "Iraq Deaths<br>0 cases<br>",
          "Iraq Deaths<br>0 cases<br>",
          "Iraq Deaths<br>0 cases<br>",
          "Iraq Deaths<br>0 cases<br>",
          "Iraq Deaths<br>0 cases<br>",
          "Iraq Deaths<br>0 cases<br>",
          "Iraq Deaths<br>0 cases<br>",
          "Iraq Deaths<br>0 cases<br>",
          "Iraq Deaths<br>0 cases<br>",
          "Iraq Deaths<br>0 cases<br>",
          "Iraq Deaths<br>0 cases<br>",
          "Iraq Deaths<br>0 cases<br>"
         ],
         "line": {
          "color": "#626262",
          "width": 2
         },
         "mode": "lines+markers",
         "name": "Death case",
         "text": [
          "Mar 15 2020 AEDT",
          "Mar 14 2020 AEDT",
          "Mar 13 2020 AEDT",
          "Mar 12 2020 AEDT",
          "Mar 11 2020 AEDT",
          "Mar 10 2020 AEDT",
          "Mar 09 2020 AEDT",
          "Mar 08 2020 AEDT",
          "Mar 07 2020 AEDT",
          "Mar 06 2020 AEDT",
          "Mar 05 2020 AEDT",
          "Mar 04 2020 AEDT",
          "Mar 03 2020 AEDT",
          "Mar 02 2020 AEDT",
          "Mar 01 2020 AEDT",
          "Feb 29 2020 AEDT",
          "Feb 28 2020 AEDT",
          "Feb 27 2020 AEDT",
          "Feb 26 2020 AEDT",
          "Feb 25 2020 AEDT",
          "Feb 24 2020 AEDT",
          "Feb 23 2020 AEDT",
          "Feb 22 2020 AEDT",
          "Feb 21 2020 AEDT",
          "Feb 20 2020 AEDT",
          "Feb 19 2020 AEDT",
          "Feb 18 2020 AEDT",
          "Feb 17 2020 AEDT",
          "Feb 16 2020 AEDT",
          "Feb 15 2020 AEDT",
          "Feb 14 2020 AEDT",
          "Feb 13 2020 AEDT",
          "Feb 12 2020 AEDT",
          "Feb 11 2020 AEDT",
          "Feb 10 2020 AEDT",
          "Feb 09 2020 AEDT",
          "Feb 08 2020 AEDT",
          "Feb 07 2020 AEDT",
          "Feb 06 2020 AEDT",
          "Feb 05 2020 AEDT",
          "Feb 04 2020 AEDT",
          "Feb 03 2020 AEDT",
          "Feb 02 2020 AEDT",
          "Feb 01 2020 AEDT",
          "Jan 31 2020 AEDT",
          "Jan 30 2020 AEDT",
          "Jan 29 2020 AEDT",
          "Jan 28 2020 AEDT",
          "Jan 27 2020 AEDT",
          "Jan 26 2020 AEDT",
          "Jan 25 2020 AEDT",
          "Jan 24 2020 AEDT",
          "Jan 23 2020 AEDT",
          "Jan 22 2020 AEDT",
          "Jan 21 2020 AEDT"
         ],
         "type": "scatter",
         "x": [
          "2020-03-15T00:00:00",
          "2020-03-14T00:00:00",
          "2020-03-13T00:00:00",
          "2020-03-12T00:00:00",
          "2020-03-11T00:00:00",
          "2020-03-10T00:00:00",
          "2020-03-09T00:00:00",
          "2020-03-08T00:00:00",
          "2020-03-07T00:00:00",
          "2020-03-06T00:00:00",
          "2020-03-05T00:00:00",
          "2020-03-04T00:00:00",
          "2020-03-03T00:00:00",
          "2020-03-02T00:00:00",
          "2020-03-01T00:00:00",
          "2020-02-29T00:00:00",
          "2020-02-28T00:00:00",
          "2020-02-27T00:00:00",
          "2020-02-26T00:00:00",
          "2020-02-25T00:00:00",
          "2020-02-24T00:00:00",
          "2020-02-23T00:00:00",
          "2020-02-22T00:00:00",
          "2020-02-21T00:00:00",
          "2020-02-20T00:00:00",
          "2020-02-19T00:00:00",
          "2020-02-18T00:00:00",
          "2020-02-17T00:00:00",
          "2020-02-16T00:00:00",
          "2020-02-15T00:00:00",
          "2020-02-14T00:00:00",
          "2020-02-13T00:00:00",
          "2020-02-12T00:00:00",
          "2020-02-11T00:00:00",
          "2020-02-10T00:00:00",
          "2020-02-09T00:00:00",
          "2020-02-08T00:00:00",
          "2020-02-07T00:00:00",
          "2020-02-06T00:00:00",
          "2020-02-05T00:00:00",
          "2020-02-04T00:00:00",
          "2020-02-03T00:00:00",
          "2020-02-02T00:00:00",
          "2020-02-01T00:00:00",
          "2020-01-31T00:00:00",
          "2020-01-30T00:00:00",
          "2020-01-29T00:00:00",
          "2020-01-28T00:00:00",
          "2020-01-27T00:00:00",
          "2020-01-26T00:00:00",
          "2020-01-25T00:00:00",
          "2020-01-24T00:00:00",
          "2020-01-23T00:00:00",
          "2020-01-22T00:00:00",
          "2020-01-21T00:00:00"
         ],
         "y": [
          10,
          9,
          8,
          8,
          7,
          7,
          6,
          4,
          4,
          3,
          1,
          1,
          0,
          0,
          0,
          0,
          0,
          0,
          0,
          0,
          0,
          0,
          0,
          0,
          0,
          0,
          0,
          0,
          0,
          0,
          0,
          0,
          0,
          0,
          0,
          0,
          0,
          0,
          0,
          0,
          0,
          0,
          0,
          0,
          0,
          0,
          0,
          0,
          0,
          0,
          0,
          0,
          0,
          0,
          0
         ]
        },
        {
         "hovertemplate": "<b>%{text}</b><br></br>%{hovertext}<extra></extra>",
         "hovertext": [
          "Iraq New<br>9 cases<br>",
          "Iraq New<br>18 cases<br>",
          "Iraq New<br>12 cases<br>",
          "Iraq New<br>0 cases<br>",
          "Iraq New<br>0 cases<br>",
          "Iraq New<br>6 cases<br>",
          "Iraq New<br>11 cases<br>",
          "Iraq New<br>8 cases<br>",
          "Iraq New<br>6 cases<br>",
          "Iraq New<br>5 cases<br>",
          "Iraq New<br>3 cases<br>",
          "Iraq New<br>6 cases<br>",
          "Iraq New<br>5 cases<br>",
          "Iraq New<br>8 cases<br>",
          "Iraq New<br>5 cases<br>",
          "Iraq New<br>1 cases<br>",
          "Iraq New<br>1 cases<br>",
          "Iraq New<br>1 cases<br>",
          "Iraq New<br>0 cases<br>",
          "Iraq New<br>4 cases<br>",
          "Iraq New<br>0 cases<br>",
          "Iraq New<br>1 cases<br>",
          "Iraq New<br>0 cases<br>",
          "Iraq New<br>0 cases<br>",
          "Iraq New<br>0 cases<br>",
          "Iraq New<br>0 cases<br>",
          "Iraq New<br>0 cases<br>",
          "Iraq New<br>0 cases<br>",
          "Iraq New<br>0 cases<br>",
          "Iraq New<br>0 cases<br>",
          "Iraq New<br>0 cases<br>",
          "Iraq New<br>0 cases<br>",
          "Iraq New<br>0 cases<br>",
          "Iraq New<br>0 cases<br>",
          "Iraq New<br>0 cases<br>",
          "Iraq New<br>0 cases<br>",
          "Iraq New<br>0 cases<br>",
          "Iraq New<br>0 cases<br>",
          "Iraq New<br>0 cases<br>",
          "Iraq New<br>0 cases<br>",
          "Iraq New<br>0 cases<br>",
          "Iraq New<br>0 cases<br>",
          "Iraq New<br>0 cases<br>",
          "Iraq New<br>0 cases<br>",
          "Iraq New<br>0 cases<br>",
          "Iraq New<br>0 cases<br>",
          "Iraq New<br>0 cases<br>",
          "Iraq New<br>0 cases<br>",
          "Iraq New<br>0 cases<br>",
          "Iraq New<br>0 cases<br>",
          "Iraq New<br>0 cases<br>",
          "Iraq New<br>0 cases<br>",
          "Iraq New<br>0 cases<br>",
          "Iraq New<br>0 cases<br>",
          "Iraq New<br>0 cases<br>"
         ],
         "marker": {
          "color": "#626262"
         },
         "name": "Daily New Cases",
         "opacity": 0.3,
         "text": [
          "Mar 15 2020 AEDT",
          "Mar 14 2020 AEDT",
          "Mar 13 2020 AEDT",
          "Mar 12 2020 AEDT",
          "Mar 11 2020 AEDT",
          "Mar 10 2020 AEDT",
          "Mar 09 2020 AEDT",
          "Mar 08 2020 AEDT",
          "Mar 07 2020 AEDT",
          "Mar 06 2020 AEDT",
          "Mar 05 2020 AEDT",
          "Mar 04 2020 AEDT",
          "Mar 03 2020 AEDT",
          "Mar 02 2020 AEDT",
          "Mar 01 2020 AEDT",
          "Feb 29 2020 AEDT",
          "Feb 28 2020 AEDT",
          "Feb 27 2020 AEDT",
          "Feb 26 2020 AEDT",
          "Feb 25 2020 AEDT",
          "Feb 24 2020 AEDT",
          "Feb 23 2020 AEDT",
          "Feb 22 2020 AEDT",
          "Feb 21 2020 AEDT",
          "Feb 20 2020 AEDT",
          "Feb 19 2020 AEDT",
          "Feb 18 2020 AEDT",
          "Feb 17 2020 AEDT",
          "Feb 16 2020 AEDT",
          "Feb 15 2020 AEDT",
          "Feb 14 2020 AEDT",
          "Feb 13 2020 AEDT",
          "Feb 12 2020 AEDT",
          "Feb 11 2020 AEDT",
          "Feb 10 2020 AEDT",
          "Feb 09 2020 AEDT",
          "Feb 08 2020 AEDT",
          "Feb 07 2020 AEDT",
          "Feb 06 2020 AEDT",
          "Feb 05 2020 AEDT",
          "Feb 04 2020 AEDT",
          "Feb 03 2020 AEDT",
          "Feb 02 2020 AEDT",
          "Feb 01 2020 AEDT",
          "Jan 31 2020 AEDT",
          "Jan 30 2020 AEDT",
          "Jan 29 2020 AEDT",
          "Jan 28 2020 AEDT",
          "Jan 27 2020 AEDT",
          "Jan 26 2020 AEDT",
          "Jan 25 2020 AEDT",
          "Jan 24 2020 AEDT",
          "Jan 23 2020 AEDT",
          "Jan 22 2020 AEDT",
          "Jan 21 2020 AEDT"
         ],
         "type": "bar",
         "x": [
          "2020-03-15T00:00:00",
          "2020-03-14T00:00:00",
          "2020-03-13T00:00:00",
          "2020-03-12T00:00:00",
          "2020-03-11T00:00:00",
          "2020-03-10T00:00:00",
          "2020-03-09T00:00:00",
          "2020-03-08T00:00:00",
          "2020-03-07T00:00:00",
          "2020-03-06T00:00:00",
          "2020-03-05T00:00:00",
          "2020-03-04T00:00:00",
          "2020-03-03T00:00:00",
          "2020-03-02T00:00:00",
          "2020-03-01T00:00:00",
          "2020-02-29T00:00:00",
          "2020-02-28T00:00:00",
          "2020-02-27T00:00:00",
          "2020-02-26T00:00:00",
          "2020-02-25T00:00:00",
          "2020-02-24T00:00:00",
          "2020-02-23T00:00:00",
          "2020-02-22T00:00:00",
          "2020-02-21T00:00:00",
          "2020-02-20T00:00:00",
          "2020-02-19T00:00:00",
          "2020-02-18T00:00:00",
          "2020-02-17T00:00:00",
          "2020-02-16T00:00:00",
          "2020-02-15T00:00:00",
          "2020-02-14T00:00:00",
          "2020-02-13T00:00:00",
          "2020-02-12T00:00:00",
          "2020-02-11T00:00:00",
          "2020-02-10T00:00:00",
          "2020-02-09T00:00:00",
          "2020-02-08T00:00:00",
          "2020-02-07T00:00:00",
          "2020-02-06T00:00:00",
          "2020-02-05T00:00:00",
          "2020-02-04T00:00:00",
          "2020-02-03T00:00:00",
          "2020-02-02T00:00:00",
          "2020-02-01T00:00:00",
          "2020-01-31T00:00:00",
          "2020-01-30T00:00:00",
          "2020-01-29T00:00:00",
          "2020-01-28T00:00:00",
          "2020-01-27T00:00:00",
          "2020-01-26T00:00:00",
          "2020-01-25T00:00:00",
          "2020-01-24T00:00:00",
          "2020-01-23T00:00:00",
          "2020-01-22T00:00:00",
          "2020-01-21T00:00:00"
         ],
         "y": [
          9,
          18,
          12,
          0,
          0,
          6,
          11,
          8,
          6,
          5,
          3,
          6,
          5,
          8,
          5,
          1,
          1,
          1,
          0,
          4,
          0,
          1,
          0,
          0,
          0,
          0,
          0,
          0,
          0,
          0,
          0,
          0,
          0,
          0,
          0,
          0,
          0,
          0,
          0,
          0,
          0,
          0,
          0,
          0,
          0,
          0,
          0,
          0,
          0,
          0,
          0,
          0,
          0,
          0,
          0
         ]
        }
       ],
       "layout": {
        "annotations": [
         {
          "font": {
           "color": "grey",
           "family": "Arial, sans-serif",
           "size": 60
          },
          "opacity": 0.5,
          "text": "Iraq",
          "x": 0.5,
          "xref": "paper",
          "y": 0.4,
          "yref": "paper"
         }
        ],
        "font": {
         "color": "#292929"
        },
        "hovermode": "x",
        "legend": {
         "bgcolor": "rgba(0,0,0,0)",
         "orientation": "v",
         "x": 0.02,
         "y": 0.95
        },
        "margin": {
         "b": 0,
         "l": 0,
         "pad": 0,
         "r": 10,
         "t": 10
        },
        "paper_bgcolor": "#cbd2d3",
        "plot_bgcolor": "#f4f4f2",
        "template": {
         "data": {
          "bar": [
           {
            "error_x": {
             "color": "#2a3f5f"
            },
            "error_y": {
             "color": "#2a3f5f"
            },
            "marker": {
             "line": {
              "color": "#E5ECF6",
              "width": 0.5
             }
            },
            "type": "bar"
           }
          ],
          "barpolar": [
           {
            "marker": {
             "line": {
              "color": "#E5ECF6",
              "width": 0.5
             }
            },
            "type": "barpolar"
           }
          ],
          "carpet": [
           {
            "aaxis": {
             "endlinecolor": "#2a3f5f",
             "gridcolor": "white",
             "linecolor": "white",
             "minorgridcolor": "white",
             "startlinecolor": "#2a3f5f"
            },
            "baxis": {
             "endlinecolor": "#2a3f5f",
             "gridcolor": "white",
             "linecolor": "white",
             "minorgridcolor": "white",
             "startlinecolor": "#2a3f5f"
            },
            "type": "carpet"
           }
          ],
          "choropleth": [
           {
            "colorbar": {
             "outlinewidth": 0,
             "ticks": ""
            },
            "type": "choropleth"
           }
          ],
          "contour": [
           {
            "colorbar": {
             "outlinewidth": 0,
             "ticks": ""
            },
            "colorscale": [
             [
              0,
              "#0d0887"
             ],
             [
              0.1111111111111111,
              "#46039f"
             ],
             [
              0.2222222222222222,
              "#7201a8"
             ],
             [
              0.3333333333333333,
              "#9c179e"
             ],
             [
              0.4444444444444444,
              "#bd3786"
             ],
             [
              0.5555555555555556,
              "#d8576b"
             ],
             [
              0.6666666666666666,
              "#ed7953"
             ],
             [
              0.7777777777777778,
              "#fb9f3a"
             ],
             [
              0.8888888888888888,
              "#fdca26"
             ],
             [
              1,
              "#f0f921"
             ]
            ],
            "type": "contour"
           }
          ],
          "contourcarpet": [
           {
            "colorbar": {
             "outlinewidth": 0,
             "ticks": ""
            },
            "type": "contourcarpet"
           }
          ],
          "heatmap": [
           {
            "colorbar": {
             "outlinewidth": 0,
             "ticks": ""
            },
            "colorscale": [
             [
              0,
              "#0d0887"
             ],
             [
              0.1111111111111111,
              "#46039f"
             ],
             [
              0.2222222222222222,
              "#7201a8"
             ],
             [
              0.3333333333333333,
              "#9c179e"
             ],
             [
              0.4444444444444444,
              "#bd3786"
             ],
             [
              0.5555555555555556,
              "#d8576b"
             ],
             [
              0.6666666666666666,
              "#ed7953"
             ],
             [
              0.7777777777777778,
              "#fb9f3a"
             ],
             [
              0.8888888888888888,
              "#fdca26"
             ],
             [
              1,
              "#f0f921"
             ]
            ],
            "type": "heatmap"
           }
          ],
          "heatmapgl": [
           {
            "colorbar": {
             "outlinewidth": 0,
             "ticks": ""
            },
            "colorscale": [
             [
              0,
              "#0d0887"
             ],
             [
              0.1111111111111111,
              "#46039f"
             ],
             [
              0.2222222222222222,
              "#7201a8"
             ],
             [
              0.3333333333333333,
              "#9c179e"
             ],
             [
              0.4444444444444444,
              "#bd3786"
             ],
             [
              0.5555555555555556,
              "#d8576b"
             ],
             [
              0.6666666666666666,
              "#ed7953"
             ],
             [
              0.7777777777777778,
              "#fb9f3a"
             ],
             [
              0.8888888888888888,
              "#fdca26"
             ],
             [
              1,
              "#f0f921"
             ]
            ],
            "type": "heatmapgl"
           }
          ],
          "histogram": [
           {
            "marker": {
             "colorbar": {
              "outlinewidth": 0,
              "ticks": ""
             }
            },
            "type": "histogram"
           }
          ],
          "histogram2d": [
           {
            "colorbar": {
             "outlinewidth": 0,
             "ticks": ""
            },
            "colorscale": [
             [
              0,
              "#0d0887"
             ],
             [
              0.1111111111111111,
              "#46039f"
             ],
             [
              0.2222222222222222,
              "#7201a8"
             ],
             [
              0.3333333333333333,
              "#9c179e"
             ],
             [
              0.4444444444444444,
              "#bd3786"
             ],
             [
              0.5555555555555556,
              "#d8576b"
             ],
             [
              0.6666666666666666,
              "#ed7953"
             ],
             [
              0.7777777777777778,
              "#fb9f3a"
             ],
             [
              0.8888888888888888,
              "#fdca26"
             ],
             [
              1,
              "#f0f921"
             ]
            ],
            "type": "histogram2d"
           }
          ],
          "histogram2dcontour": [
           {
            "colorbar": {
             "outlinewidth": 0,
             "ticks": ""
            },
            "colorscale": [
             [
              0,
              "#0d0887"
             ],
             [
              0.1111111111111111,
              "#46039f"
             ],
             [
              0.2222222222222222,
              "#7201a8"
             ],
             [
              0.3333333333333333,
              "#9c179e"
             ],
             [
              0.4444444444444444,
              "#bd3786"
             ],
             [
              0.5555555555555556,
              "#d8576b"
             ],
             [
              0.6666666666666666,
              "#ed7953"
             ],
             [
              0.7777777777777778,
              "#fb9f3a"
             ],
             [
              0.8888888888888888,
              "#fdca26"
             ],
             [
              1,
              "#f0f921"
             ]
            ],
            "type": "histogram2dcontour"
           }
          ],
          "mesh3d": [
           {
            "colorbar": {
             "outlinewidth": 0,
             "ticks": ""
            },
            "type": "mesh3d"
           }
          ],
          "parcoords": [
           {
            "line": {
             "colorbar": {
              "outlinewidth": 0,
              "ticks": ""
             }
            },
            "type": "parcoords"
           }
          ],
          "pie": [
           {
            "automargin": true,
            "type": "pie"
           }
          ],
          "scatter": [
           {
            "marker": {
             "colorbar": {
              "outlinewidth": 0,
              "ticks": ""
             }
            },
            "type": "scatter"
           }
          ],
          "scatter3d": [
           {
            "line": {
             "colorbar": {
              "outlinewidth": 0,
              "ticks": ""
             }
            },
            "marker": {
             "colorbar": {
              "outlinewidth": 0,
              "ticks": ""
             }
            },
            "type": "scatter3d"
           }
          ],
          "scattercarpet": [
           {
            "marker": {
             "colorbar": {
              "outlinewidth": 0,
              "ticks": ""
             }
            },
            "type": "scattercarpet"
           }
          ],
          "scattergeo": [
           {
            "marker": {
             "colorbar": {
              "outlinewidth": 0,
              "ticks": ""
             }
            },
            "type": "scattergeo"
           }
          ],
          "scattergl": [
           {
            "marker": {
             "colorbar": {
              "outlinewidth": 0,
              "ticks": ""
             }
            },
            "type": "scattergl"
           }
          ],
          "scattermapbox": [
           {
            "marker": {
             "colorbar": {
              "outlinewidth": 0,
              "ticks": ""
             }
            },
            "type": "scattermapbox"
           }
          ],
          "scatterpolar": [
           {
            "marker": {
             "colorbar": {
              "outlinewidth": 0,
              "ticks": ""
             }
            },
            "type": "scatterpolar"
           }
          ],
          "scatterpolargl": [
           {
            "marker": {
             "colorbar": {
              "outlinewidth": 0,
              "ticks": ""
             }
            },
            "type": "scatterpolargl"
           }
          ],
          "scatterternary": [
           {
            "marker": {
             "colorbar": {
              "outlinewidth": 0,
              "ticks": ""
             }
            },
            "type": "scatterternary"
           }
          ],
          "surface": [
           {
            "colorbar": {
             "outlinewidth": 0,
             "ticks": ""
            },
            "colorscale": [
             [
              0,
              "#0d0887"
             ],
             [
              0.1111111111111111,
              "#46039f"
             ],
             [
              0.2222222222222222,
              "#7201a8"
             ],
             [
              0.3333333333333333,
              "#9c179e"
             ],
             [
              0.4444444444444444,
              "#bd3786"
             ],
             [
              0.5555555555555556,
              "#d8576b"
             ],
             [
              0.6666666666666666,
              "#ed7953"
             ],
             [
              0.7777777777777778,
              "#fb9f3a"
             ],
             [
              0.8888888888888888,
              "#fdca26"
             ],
             [
              1,
              "#f0f921"
             ]
            ],
            "type": "surface"
           }
          ],
          "table": [
           {
            "cells": {
             "fill": {
              "color": "#EBF0F8"
             },
             "line": {
              "color": "white"
             }
            },
            "header": {
             "fill": {
              "color": "#C8D4E3"
             },
             "line": {
              "color": "white"
             }
            },
            "type": "table"
           }
          ]
         },
         "layout": {
          "annotationdefaults": {
           "arrowcolor": "#2a3f5f",
           "arrowhead": 0,
           "arrowwidth": 1
          },
          "coloraxis": {
           "colorbar": {
            "outlinewidth": 0,
            "ticks": ""
           }
          },
          "colorscale": {
           "diverging": [
            [
             0,
             "#8e0152"
            ],
            [
             0.1,
             "#c51b7d"
            ],
            [
             0.2,
             "#de77ae"
            ],
            [
             0.3,
             "#f1b6da"
            ],
            [
             0.4,
             "#fde0ef"
            ],
            [
             0.5,
             "#f7f7f7"
            ],
            [
             0.6,
             "#e6f5d0"
            ],
            [
             0.7,
             "#b8e186"
            ],
            [
             0.8,
             "#7fbc41"
            ],
            [
             0.9,
             "#4d9221"
            ],
            [
             1,
             "#276419"
            ]
           ],
           "sequential": [
            [
             0,
             "#0d0887"
            ],
            [
             0.1111111111111111,
             "#46039f"
            ],
            [
             0.2222222222222222,
             "#7201a8"
            ],
            [
             0.3333333333333333,
             "#9c179e"
            ],
            [
             0.4444444444444444,
             "#bd3786"
            ],
            [
             0.5555555555555556,
             "#d8576b"
            ],
            [
             0.6666666666666666,
             "#ed7953"
            ],
            [
             0.7777777777777778,
             "#fb9f3a"
            ],
            [
             0.8888888888888888,
             "#fdca26"
            ],
            [
             1,
             "#f0f921"
            ]
           ],
           "sequentialminus": [
            [
             0,
             "#0d0887"
            ],
            [
             0.1111111111111111,
             "#46039f"
            ],
            [
             0.2222222222222222,
             "#7201a8"
            ],
            [
             0.3333333333333333,
             "#9c179e"
            ],
            [
             0.4444444444444444,
             "#bd3786"
            ],
            [
             0.5555555555555556,
             "#d8576b"
            ],
            [
             0.6666666666666666,
             "#ed7953"
            ],
            [
             0.7777777777777778,
             "#fb9f3a"
            ],
            [
             0.8888888888888888,
             "#fdca26"
            ],
            [
             1,
             "#f0f921"
            ]
           ]
          },
          "colorway": [
           "#636efa",
           "#EF553B",
           "#00cc96",
           "#ab63fa",
           "#FFA15A",
           "#19d3f3",
           "#FF6692",
           "#B6E880",
           "#FF97FF",
           "#FECB52"
          ],
          "font": {
           "color": "#2a3f5f"
          },
          "geo": {
           "bgcolor": "white",
           "lakecolor": "white",
           "landcolor": "#E5ECF6",
           "showlakes": true,
           "showland": true,
           "subunitcolor": "white"
          },
          "hoverlabel": {
           "align": "left"
          },
          "hovermode": "closest",
          "mapbox": {
           "style": "light"
          },
          "paper_bgcolor": "white",
          "plot_bgcolor": "#E5ECF6",
          "polar": {
           "angularaxis": {
            "gridcolor": "white",
            "linecolor": "white",
            "ticks": ""
           },
           "bgcolor": "#E5ECF6",
           "radialaxis": {
            "gridcolor": "white",
            "linecolor": "white",
            "ticks": ""
           }
          },
          "scene": {
           "xaxis": {
            "backgroundcolor": "#E5ECF6",
            "gridcolor": "white",
            "gridwidth": 2,
            "linecolor": "white",
            "showbackground": true,
            "ticks": "",
            "zerolinecolor": "white"
           },
           "yaxis": {
            "backgroundcolor": "#E5ECF6",
            "gridcolor": "white",
            "gridwidth": 2,
            "linecolor": "white",
            "showbackground": true,
            "ticks": "",
            "zerolinecolor": "white"
           },
           "zaxis": {
            "backgroundcolor": "#E5ECF6",
            "gridcolor": "white",
            "gridwidth": 2,
            "linecolor": "white",
            "showbackground": true,
            "ticks": "",
            "zerolinecolor": "white"
           }
          },
          "shapedefaults": {
           "line": {
            "color": "#2a3f5f"
           }
          },
          "ternary": {
           "aaxis": {
            "gridcolor": "white",
            "linecolor": "white",
            "ticks": ""
           },
           "baxis": {
            "gridcolor": "white",
            "linecolor": "white",
            "ticks": ""
           },
           "bgcolor": "#E5ECF6",
           "caxis": {
            "gridcolor": "white",
            "linecolor": "white",
            "ticks": ""
           }
          },
          "title": {
           "x": 0.05
          },
          "xaxis": {
           "automargin": true,
           "gridcolor": "white",
           "linecolor": "white",
           "ticks": "",
           "title": {
            "standoff": 15
           },
           "zerolinecolor": "white",
           "zerolinewidth": 2
          },
          "yaxis": {
           "automargin": true,
           "gridcolor": "white",
           "linecolor": "white",
           "ticks": "",
           "title": {
            "standoff": 15
           },
           "zerolinecolor": "white",
           "zerolinewidth": 2
          }
         }
        },
        "xaxis": {
         "automargin": true,
         "gridcolor": "rgba(203, 210, 211,.3)",
         "gridwidth": 0.1,
         "linecolor": "#272e3e",
         "showgrid": false,
         "showline": false,
         "tickformat": "%b %d",
         "title": {
          "text": "Cumulative Cases (Select Country/Region From Table)"
         },
         "zeroline": false
        },
        "yaxis": {
         "gridcolor": "rgba(203, 210, 211,.3)",
         "gridwidth": 0.1,
         "linecolor": "#272e3e",
         "mirror": true,
         "showline": false,
         "zeroline": false
        },
        "yaxis2": {
         "linecolor": "#272e3e",
         "showgrid": false,
         "showline": false,
         "zeroline": false
        }
       }
      },
      "text/html": [
       "<div>\n",
       "        \n",
       "        \n",
       "            <div id=\"5b1ee9af-5c24-438b-a351-21b83506d45e\" class=\"plotly-graph-div\" style=\"height:525px; width:100%;\"></div>\n",
       "            <script type=\"text/javascript\">\n",
       "                require([\"plotly\"], function(Plotly) {\n",
       "                    window.PLOTLYENV=window.PLOTLYENV || {};\n",
       "                    \n",
       "                if (document.getElementById(\"5b1ee9af-5c24-438b-a351-21b83506d45e\")) {\n",
       "                    Plotly.newPlot(\n",
       "                        '5b1ee9af-5c24-438b-a351-21b83506d45e',\n",
       "                        [{\"hovertemplate\": \"<b>%{text}</b><br></br>%{hovertext}<extra></extra>\", \"hovertext\": [\"Iraq confirmed<br>110 cases<br>\", \"Iraq confirmed<br>101 cases<br>\", \"Iraq confirmed<br>83 cases<br>\", \"Iraq confirmed<br>71 cases<br>\", \"Iraq confirmed<br>71 cases<br>\", \"Iraq confirmed<br>71 cases<br>\", \"Iraq confirmed<br>65 cases<br>\", \"Iraq confirmed<br>54 cases<br>\", \"Iraq confirmed<br>46 cases<br>\", \"Iraq confirmed<br>40 cases<br>\", \"Iraq confirmed<br>35 cases<br>\", \"Iraq confirmed<br>32 cases<br>\", \"Iraq confirmed<br>26 cases<br>\", \"Iraq confirmed<br>21 cases<br>\", \"Iraq confirmed<br>13 cases<br>\", \"Iraq confirmed<br>8 cases<br>\", \"Iraq confirmed<br>7 cases<br>\", \"Iraq confirmed<br>6 cases<br>\", \"Iraq confirmed<br>5 cases<br>\", \"Iraq confirmed<br>5 cases<br>\", \"Iraq confirmed<br>1 cases<br>\", \"Iraq confirmed<br>1 cases<br>\", \"Iraq confirmed<br>0 cases<br>\", \"Iraq confirmed<br>0 cases<br>\", \"Iraq confirmed<br>0 cases<br>\", \"Iraq confirmed<br>0 cases<br>\", \"Iraq confirmed<br>0 cases<br>\", \"Iraq confirmed<br>0 cases<br>\", \"Iraq confirmed<br>0 cases<br>\", \"Iraq confirmed<br>0 cases<br>\", \"Iraq confirmed<br>0 cases<br>\", \"Iraq confirmed<br>0 cases<br>\", \"Iraq confirmed<br>0 cases<br>\", \"Iraq confirmed<br>0 cases<br>\", \"Iraq confirmed<br>0 cases<br>\", \"Iraq confirmed<br>0 cases<br>\", \"Iraq confirmed<br>0 cases<br>\", \"Iraq confirmed<br>0 cases<br>\", \"Iraq confirmed<br>0 cases<br>\", \"Iraq confirmed<br>0 cases<br>\", \"Iraq confirmed<br>0 cases<br>\", \"Iraq confirmed<br>0 cases<br>\", \"Iraq confirmed<br>0 cases<br>\", \"Iraq confirmed<br>0 cases<br>\", \"Iraq confirmed<br>0 cases<br>\", \"Iraq confirmed<br>0 cases<br>\", \"Iraq confirmed<br>0 cases<br>\", \"Iraq confirmed<br>0 cases<br>\", \"Iraq confirmed<br>0 cases<br>\", \"Iraq confirmed<br>0 cases<br>\", \"Iraq confirmed<br>0 cases<br>\", \"Iraq confirmed<br>0 cases<br>\", \"Iraq confirmed<br>0 cases<br>\", \"Iraq confirmed<br>0 cases<br>\", \"Iraq confirmed<br>0 cases<br>\"], \"line\": {\"color\": \"#d7191c\", \"width\": 2}, \"mode\": \"lines+markers\", \"name\": \"Confirmed case\", \"text\": [\"Mar 15 2020 AEDT\", \"Mar 14 2020 AEDT\", \"Mar 13 2020 AEDT\", \"Mar 12 2020 AEDT\", \"Mar 11 2020 AEDT\", \"Mar 10 2020 AEDT\", \"Mar 09 2020 AEDT\", \"Mar 08 2020 AEDT\", \"Mar 07 2020 AEDT\", \"Mar 06 2020 AEDT\", \"Mar 05 2020 AEDT\", \"Mar 04 2020 AEDT\", \"Mar 03 2020 AEDT\", \"Mar 02 2020 AEDT\", \"Mar 01 2020 AEDT\", \"Feb 29 2020 AEDT\", \"Feb 28 2020 AEDT\", \"Feb 27 2020 AEDT\", \"Feb 26 2020 AEDT\", \"Feb 25 2020 AEDT\", \"Feb 24 2020 AEDT\", \"Feb 23 2020 AEDT\", \"Feb 22 2020 AEDT\", \"Feb 21 2020 AEDT\", \"Feb 20 2020 AEDT\", \"Feb 19 2020 AEDT\", \"Feb 18 2020 AEDT\", \"Feb 17 2020 AEDT\", \"Feb 16 2020 AEDT\", \"Feb 15 2020 AEDT\", \"Feb 14 2020 AEDT\", \"Feb 13 2020 AEDT\", \"Feb 12 2020 AEDT\", \"Feb 11 2020 AEDT\", \"Feb 10 2020 AEDT\", \"Feb 09 2020 AEDT\", \"Feb 08 2020 AEDT\", \"Feb 07 2020 AEDT\", \"Feb 06 2020 AEDT\", \"Feb 05 2020 AEDT\", \"Feb 04 2020 AEDT\", \"Feb 03 2020 AEDT\", \"Feb 02 2020 AEDT\", \"Feb 01 2020 AEDT\", \"Jan 31 2020 AEDT\", \"Jan 30 2020 AEDT\", \"Jan 29 2020 AEDT\", \"Jan 28 2020 AEDT\", \"Jan 27 2020 AEDT\", \"Jan 26 2020 AEDT\", \"Jan 25 2020 AEDT\", \"Jan 24 2020 AEDT\", \"Jan 23 2020 AEDT\", \"Jan 22 2020 AEDT\", \"Jan 21 2020 AEDT\"], \"type\": \"scatter\", \"x\": [\"2020-03-15T00:00:00\", \"2020-03-14T00:00:00\", \"2020-03-13T00:00:00\", \"2020-03-12T00:00:00\", \"2020-03-11T00:00:00\", \"2020-03-10T00:00:00\", \"2020-03-09T00:00:00\", \"2020-03-08T00:00:00\", \"2020-03-07T00:00:00\", \"2020-03-06T00:00:00\", \"2020-03-05T00:00:00\", \"2020-03-04T00:00:00\", \"2020-03-03T00:00:00\", \"2020-03-02T00:00:00\", \"2020-03-01T00:00:00\", \"2020-02-29T00:00:00\", \"2020-02-28T00:00:00\", \"2020-02-27T00:00:00\", \"2020-02-26T00:00:00\", \"2020-02-25T00:00:00\", \"2020-02-24T00:00:00\", \"2020-02-23T00:00:00\", \"2020-02-22T00:00:00\", \"2020-02-21T00:00:00\", \"2020-02-20T00:00:00\", \"2020-02-19T00:00:00\", \"2020-02-18T00:00:00\", \"2020-02-17T00:00:00\", \"2020-02-16T00:00:00\", \"2020-02-15T00:00:00\", \"2020-02-14T00:00:00\", \"2020-02-13T00:00:00\", \"2020-02-12T00:00:00\", \"2020-02-11T00:00:00\", \"2020-02-10T00:00:00\", \"2020-02-09T00:00:00\", \"2020-02-08T00:00:00\", \"2020-02-07T00:00:00\", \"2020-02-06T00:00:00\", \"2020-02-05T00:00:00\", \"2020-02-04T00:00:00\", \"2020-02-03T00:00:00\", \"2020-02-02T00:00:00\", \"2020-02-01T00:00:00\", \"2020-01-31T00:00:00\", \"2020-01-30T00:00:00\", \"2020-01-29T00:00:00\", \"2020-01-28T00:00:00\", \"2020-01-27T00:00:00\", \"2020-01-26T00:00:00\", \"2020-01-25T00:00:00\", \"2020-01-24T00:00:00\", \"2020-01-23T00:00:00\", \"2020-01-22T00:00:00\", \"2020-01-21T00:00:00\"], \"y\": [110, 101, 83, 71, 71, 71, 65, 54, 46, 40, 35, 32, 26, 21, 13, 8, 7, 6, 5, 5, 1, 1, 0, 0, 0, 0, 0, 0, 0, 0, 0, 0, 0, 0, 0, 0, 0, 0, 0, 0, 0, 0, 0, 0, 0, 0, 0, 0, 0, 0, 0, 0, 0, 0, 0]}, {\"hovertemplate\": \"<b>%{text}</b><br></br>%{hovertext}<extra></extra>\", \"hovertext\": [\"Iraq Recovered<br>26 cases<br>\", \"Iraq Recovered<br>24 cases<br>\", \"Iraq Recovered<br>24 cases<br>\", \"Iraq Recovered<br>15 cases<br>\", \"Iraq Recovered<br>15 cases<br>\", \"Iraq Recovered<br>3 cases<br>\", \"Iraq Recovered<br>1 cases<br>\", \"Iraq Recovered<br>1 cases<br>\", \"Iraq Recovered<br>1 cases<br>\", \"Iraq Recovered<br>1 cases<br>\", \"Iraq Recovered<br>0 cases<br>\", \"Iraq Recovered<br>0 cases<br>\", \"Iraq Recovered<br>0 cases<br>\", \"Iraq Recovered<br>0 cases<br>\", \"Iraq Recovered<br>0 cases<br>\", \"Iraq Recovered<br>0 cases<br>\", \"Iraq Recovered<br>0 cases<br>\", \"Iraq Recovered<br>0 cases<br>\", \"Iraq Recovered<br>0 cases<br>\", \"Iraq Recovered<br>0 cases<br>\", \"Iraq Recovered<br>0 cases<br>\", \"Iraq Recovered<br>0 cases<br>\", \"Iraq Recovered<br>0 cases<br>\", \"Iraq Recovered<br>0 cases<br>\", \"Iraq Recovered<br>0 cases<br>\", \"Iraq Recovered<br>0 cases<br>\", \"Iraq Recovered<br>0 cases<br>\", \"Iraq Recovered<br>0 cases<br>\", \"Iraq Recovered<br>0 cases<br>\", \"Iraq Recovered<br>0 cases<br>\", \"Iraq Recovered<br>0 cases<br>\", \"Iraq Recovered<br>0 cases<br>\", \"Iraq Recovered<br>0 cases<br>\", \"Iraq Recovered<br>0 cases<br>\", \"Iraq Recovered<br>0 cases<br>\", \"Iraq Recovered<br>0 cases<br>\", \"Iraq Recovered<br>0 cases<br>\", \"Iraq Recovered<br>0 cases<br>\", \"Iraq Recovered<br>0 cases<br>\", \"Iraq Recovered<br>0 cases<br>\", \"Iraq Recovered<br>0 cases<br>\", \"Iraq Recovered<br>0 cases<br>\", \"Iraq Recovered<br>0 cases<br>\", \"Iraq Recovered<br>0 cases<br>\", \"Iraq Recovered<br>0 cases<br>\", \"Iraq Recovered<br>0 cases<br>\", \"Iraq Recovered<br>0 cases<br>\", \"Iraq Recovered<br>0 cases<br>\", \"Iraq Recovered<br>0 cases<br>\", \"Iraq Recovered<br>0 cases<br>\", \"Iraq Recovered<br>0 cases<br>\", \"Iraq Recovered<br>0 cases<br>\", \"Iraq Recovered<br>0 cases<br>\", \"Iraq Recovered<br>0 cases<br>\", \"Iraq Recovered<br>0 cases<br>\"], \"line\": {\"color\": \"#1a9622\", \"width\": 2}, \"mode\": \"lines+markers\", \"name\": \"Recovered case\", \"text\": [\"Mar 15 2020 AEDT\", \"Mar 14 2020 AEDT\", \"Mar 13 2020 AEDT\", \"Mar 12 2020 AEDT\", \"Mar 11 2020 AEDT\", \"Mar 10 2020 AEDT\", \"Mar 09 2020 AEDT\", \"Mar 08 2020 AEDT\", \"Mar 07 2020 AEDT\", \"Mar 06 2020 AEDT\", \"Mar 05 2020 AEDT\", \"Mar 04 2020 AEDT\", \"Mar 03 2020 AEDT\", \"Mar 02 2020 AEDT\", \"Mar 01 2020 AEDT\", \"Feb 29 2020 AEDT\", \"Feb 28 2020 AEDT\", \"Feb 27 2020 AEDT\", \"Feb 26 2020 AEDT\", \"Feb 25 2020 AEDT\", \"Feb 24 2020 AEDT\", \"Feb 23 2020 AEDT\", \"Feb 22 2020 AEDT\", \"Feb 21 2020 AEDT\", \"Feb 20 2020 AEDT\", \"Feb 19 2020 AEDT\", \"Feb 18 2020 AEDT\", \"Feb 17 2020 AEDT\", \"Feb 16 2020 AEDT\", \"Feb 15 2020 AEDT\", \"Feb 14 2020 AEDT\", \"Feb 13 2020 AEDT\", \"Feb 12 2020 AEDT\", \"Feb 11 2020 AEDT\", \"Feb 10 2020 AEDT\", \"Feb 09 2020 AEDT\", \"Feb 08 2020 AEDT\", \"Feb 07 2020 AEDT\", \"Feb 06 2020 AEDT\", \"Feb 05 2020 AEDT\", \"Feb 04 2020 AEDT\", \"Feb 03 2020 AEDT\", \"Feb 02 2020 AEDT\", \"Feb 01 2020 AEDT\", \"Jan 31 2020 AEDT\", \"Jan 30 2020 AEDT\", \"Jan 29 2020 AEDT\", \"Jan 28 2020 AEDT\", \"Jan 27 2020 AEDT\", \"Jan 26 2020 AEDT\", \"Jan 25 2020 AEDT\", \"Jan 24 2020 AEDT\", \"Jan 23 2020 AEDT\", \"Jan 22 2020 AEDT\", \"Jan 21 2020 AEDT\"], \"type\": \"scatter\", \"x\": [\"2020-03-15T00:00:00\", \"2020-03-14T00:00:00\", \"2020-03-13T00:00:00\", \"2020-03-12T00:00:00\", \"2020-03-11T00:00:00\", \"2020-03-10T00:00:00\", \"2020-03-09T00:00:00\", \"2020-03-08T00:00:00\", \"2020-03-07T00:00:00\", \"2020-03-06T00:00:00\", \"2020-03-05T00:00:00\", \"2020-03-04T00:00:00\", \"2020-03-03T00:00:00\", \"2020-03-02T00:00:00\", \"2020-03-01T00:00:00\", \"2020-02-29T00:00:00\", \"2020-02-28T00:00:00\", \"2020-02-27T00:00:00\", \"2020-02-26T00:00:00\", \"2020-02-25T00:00:00\", \"2020-02-24T00:00:00\", \"2020-02-23T00:00:00\", \"2020-02-22T00:00:00\", \"2020-02-21T00:00:00\", \"2020-02-20T00:00:00\", \"2020-02-19T00:00:00\", \"2020-02-18T00:00:00\", \"2020-02-17T00:00:00\", \"2020-02-16T00:00:00\", \"2020-02-15T00:00:00\", \"2020-02-14T00:00:00\", \"2020-02-13T00:00:00\", \"2020-02-12T00:00:00\", \"2020-02-11T00:00:00\", \"2020-02-10T00:00:00\", \"2020-02-09T00:00:00\", \"2020-02-08T00:00:00\", \"2020-02-07T00:00:00\", \"2020-02-06T00:00:00\", \"2020-02-05T00:00:00\", \"2020-02-04T00:00:00\", \"2020-02-03T00:00:00\", \"2020-02-02T00:00:00\", \"2020-02-01T00:00:00\", \"2020-01-31T00:00:00\", \"2020-01-30T00:00:00\", \"2020-01-29T00:00:00\", \"2020-01-28T00:00:00\", \"2020-01-27T00:00:00\", \"2020-01-26T00:00:00\", \"2020-01-25T00:00:00\", \"2020-01-24T00:00:00\", \"2020-01-23T00:00:00\", \"2020-01-22T00:00:00\", \"2020-01-21T00:00:00\"], \"y\": [26, 24, 24, 15, 15, 3, 1, 1, 1, 1, 0, 0, 0, 0, 0, 0, 0, 0, 0, 0, 0, 0, 0, 0, 0, 0, 0, 0, 0, 0, 0, 0, 0, 0, 0, 0, 0, 0, 0, 0, 0, 0, 0, 0, 0, 0, 0, 0, 0, 0, 0, 0, 0, 0, 0]}, {\"hovertemplate\": \"<b>%{text}</b><br></br>%{hovertext}<extra></extra>\", \"hovertext\": [\"Iraq Deaths<br>10 cases<br>\", \"Iraq Deaths<br>9 cases<br>\", \"Iraq Deaths<br>8 cases<br>\", \"Iraq Deaths<br>8 cases<br>\", \"Iraq Deaths<br>7 cases<br>\", \"Iraq Deaths<br>7 cases<br>\", \"Iraq Deaths<br>6 cases<br>\", \"Iraq Deaths<br>4 cases<br>\", \"Iraq Deaths<br>4 cases<br>\", \"Iraq Deaths<br>3 cases<br>\", \"Iraq Deaths<br>1 cases<br>\", \"Iraq Deaths<br>1 cases<br>\", \"Iraq Deaths<br>0 cases<br>\", \"Iraq Deaths<br>0 cases<br>\", \"Iraq Deaths<br>0 cases<br>\", \"Iraq Deaths<br>0 cases<br>\", \"Iraq Deaths<br>0 cases<br>\", \"Iraq Deaths<br>0 cases<br>\", \"Iraq Deaths<br>0 cases<br>\", \"Iraq Deaths<br>0 cases<br>\", \"Iraq Deaths<br>0 cases<br>\", \"Iraq Deaths<br>0 cases<br>\", \"Iraq Deaths<br>0 cases<br>\", \"Iraq Deaths<br>0 cases<br>\", \"Iraq Deaths<br>0 cases<br>\", \"Iraq Deaths<br>0 cases<br>\", \"Iraq Deaths<br>0 cases<br>\", \"Iraq Deaths<br>0 cases<br>\", \"Iraq Deaths<br>0 cases<br>\", \"Iraq Deaths<br>0 cases<br>\", \"Iraq Deaths<br>0 cases<br>\", \"Iraq Deaths<br>0 cases<br>\", \"Iraq Deaths<br>0 cases<br>\", \"Iraq Deaths<br>0 cases<br>\", \"Iraq Deaths<br>0 cases<br>\", \"Iraq Deaths<br>0 cases<br>\", \"Iraq Deaths<br>0 cases<br>\", \"Iraq Deaths<br>0 cases<br>\", \"Iraq Deaths<br>0 cases<br>\", \"Iraq Deaths<br>0 cases<br>\", \"Iraq Deaths<br>0 cases<br>\", \"Iraq Deaths<br>0 cases<br>\", \"Iraq Deaths<br>0 cases<br>\", \"Iraq Deaths<br>0 cases<br>\", \"Iraq Deaths<br>0 cases<br>\", \"Iraq Deaths<br>0 cases<br>\", \"Iraq Deaths<br>0 cases<br>\", \"Iraq Deaths<br>0 cases<br>\", \"Iraq Deaths<br>0 cases<br>\", \"Iraq Deaths<br>0 cases<br>\", \"Iraq Deaths<br>0 cases<br>\", \"Iraq Deaths<br>0 cases<br>\", \"Iraq Deaths<br>0 cases<br>\", \"Iraq Deaths<br>0 cases<br>\", \"Iraq Deaths<br>0 cases<br>\"], \"line\": {\"color\": \"#626262\", \"width\": 2}, \"mode\": \"lines+markers\", \"name\": \"Death case\", \"text\": [\"Mar 15 2020 AEDT\", \"Mar 14 2020 AEDT\", \"Mar 13 2020 AEDT\", \"Mar 12 2020 AEDT\", \"Mar 11 2020 AEDT\", \"Mar 10 2020 AEDT\", \"Mar 09 2020 AEDT\", \"Mar 08 2020 AEDT\", \"Mar 07 2020 AEDT\", \"Mar 06 2020 AEDT\", \"Mar 05 2020 AEDT\", \"Mar 04 2020 AEDT\", \"Mar 03 2020 AEDT\", \"Mar 02 2020 AEDT\", \"Mar 01 2020 AEDT\", \"Feb 29 2020 AEDT\", \"Feb 28 2020 AEDT\", \"Feb 27 2020 AEDT\", \"Feb 26 2020 AEDT\", \"Feb 25 2020 AEDT\", \"Feb 24 2020 AEDT\", \"Feb 23 2020 AEDT\", \"Feb 22 2020 AEDT\", \"Feb 21 2020 AEDT\", \"Feb 20 2020 AEDT\", \"Feb 19 2020 AEDT\", \"Feb 18 2020 AEDT\", \"Feb 17 2020 AEDT\", \"Feb 16 2020 AEDT\", \"Feb 15 2020 AEDT\", \"Feb 14 2020 AEDT\", \"Feb 13 2020 AEDT\", \"Feb 12 2020 AEDT\", \"Feb 11 2020 AEDT\", \"Feb 10 2020 AEDT\", \"Feb 09 2020 AEDT\", \"Feb 08 2020 AEDT\", \"Feb 07 2020 AEDT\", \"Feb 06 2020 AEDT\", \"Feb 05 2020 AEDT\", \"Feb 04 2020 AEDT\", \"Feb 03 2020 AEDT\", \"Feb 02 2020 AEDT\", \"Feb 01 2020 AEDT\", \"Jan 31 2020 AEDT\", \"Jan 30 2020 AEDT\", \"Jan 29 2020 AEDT\", \"Jan 28 2020 AEDT\", \"Jan 27 2020 AEDT\", \"Jan 26 2020 AEDT\", \"Jan 25 2020 AEDT\", \"Jan 24 2020 AEDT\", \"Jan 23 2020 AEDT\", \"Jan 22 2020 AEDT\", \"Jan 21 2020 AEDT\"], \"type\": \"scatter\", \"x\": [\"2020-03-15T00:00:00\", \"2020-03-14T00:00:00\", \"2020-03-13T00:00:00\", \"2020-03-12T00:00:00\", \"2020-03-11T00:00:00\", \"2020-03-10T00:00:00\", \"2020-03-09T00:00:00\", \"2020-03-08T00:00:00\", \"2020-03-07T00:00:00\", \"2020-03-06T00:00:00\", \"2020-03-05T00:00:00\", \"2020-03-04T00:00:00\", \"2020-03-03T00:00:00\", \"2020-03-02T00:00:00\", \"2020-03-01T00:00:00\", \"2020-02-29T00:00:00\", \"2020-02-28T00:00:00\", \"2020-02-27T00:00:00\", \"2020-02-26T00:00:00\", \"2020-02-25T00:00:00\", \"2020-02-24T00:00:00\", \"2020-02-23T00:00:00\", \"2020-02-22T00:00:00\", \"2020-02-21T00:00:00\", \"2020-02-20T00:00:00\", \"2020-02-19T00:00:00\", \"2020-02-18T00:00:00\", \"2020-02-17T00:00:00\", \"2020-02-16T00:00:00\", \"2020-02-15T00:00:00\", \"2020-02-14T00:00:00\", \"2020-02-13T00:00:00\", \"2020-02-12T00:00:00\", \"2020-02-11T00:00:00\", \"2020-02-10T00:00:00\", \"2020-02-09T00:00:00\", \"2020-02-08T00:00:00\", \"2020-02-07T00:00:00\", \"2020-02-06T00:00:00\", \"2020-02-05T00:00:00\", \"2020-02-04T00:00:00\", \"2020-02-03T00:00:00\", \"2020-02-02T00:00:00\", \"2020-02-01T00:00:00\", \"2020-01-31T00:00:00\", \"2020-01-30T00:00:00\", \"2020-01-29T00:00:00\", \"2020-01-28T00:00:00\", \"2020-01-27T00:00:00\", \"2020-01-26T00:00:00\", \"2020-01-25T00:00:00\", \"2020-01-24T00:00:00\", \"2020-01-23T00:00:00\", \"2020-01-22T00:00:00\", \"2020-01-21T00:00:00\"], \"y\": [10, 9, 8, 8, 7, 7, 6, 4, 4, 3, 1, 1, 0, 0, 0, 0, 0, 0, 0, 0, 0, 0, 0, 0, 0, 0, 0, 0, 0, 0, 0, 0, 0, 0, 0, 0, 0, 0, 0, 0, 0, 0, 0, 0, 0, 0, 0, 0, 0, 0, 0, 0, 0, 0, 0]}, {\"hovertemplate\": \"<b>%{text}</b><br></br>%{hovertext}<extra></extra>\", \"hovertext\": [\"Iraq New<br>9 cases<br>\", \"Iraq New<br>18 cases<br>\", \"Iraq New<br>12 cases<br>\", \"Iraq New<br>0 cases<br>\", \"Iraq New<br>0 cases<br>\", \"Iraq New<br>6 cases<br>\", \"Iraq New<br>11 cases<br>\", \"Iraq New<br>8 cases<br>\", \"Iraq New<br>6 cases<br>\", \"Iraq New<br>5 cases<br>\", \"Iraq New<br>3 cases<br>\", \"Iraq New<br>6 cases<br>\", \"Iraq New<br>5 cases<br>\", \"Iraq New<br>8 cases<br>\", \"Iraq New<br>5 cases<br>\", \"Iraq New<br>1 cases<br>\", \"Iraq New<br>1 cases<br>\", \"Iraq New<br>1 cases<br>\", \"Iraq New<br>0 cases<br>\", \"Iraq New<br>4 cases<br>\", \"Iraq New<br>0 cases<br>\", \"Iraq New<br>1 cases<br>\", \"Iraq New<br>0 cases<br>\", \"Iraq New<br>0 cases<br>\", \"Iraq New<br>0 cases<br>\", \"Iraq New<br>0 cases<br>\", \"Iraq New<br>0 cases<br>\", \"Iraq New<br>0 cases<br>\", \"Iraq New<br>0 cases<br>\", \"Iraq New<br>0 cases<br>\", \"Iraq New<br>0 cases<br>\", \"Iraq New<br>0 cases<br>\", \"Iraq New<br>0 cases<br>\", \"Iraq New<br>0 cases<br>\", \"Iraq New<br>0 cases<br>\", \"Iraq New<br>0 cases<br>\", \"Iraq New<br>0 cases<br>\", \"Iraq New<br>0 cases<br>\", \"Iraq New<br>0 cases<br>\", \"Iraq New<br>0 cases<br>\", \"Iraq New<br>0 cases<br>\", \"Iraq New<br>0 cases<br>\", \"Iraq New<br>0 cases<br>\", \"Iraq New<br>0 cases<br>\", \"Iraq New<br>0 cases<br>\", \"Iraq New<br>0 cases<br>\", \"Iraq New<br>0 cases<br>\", \"Iraq New<br>0 cases<br>\", \"Iraq New<br>0 cases<br>\", \"Iraq New<br>0 cases<br>\", \"Iraq New<br>0 cases<br>\", \"Iraq New<br>0 cases<br>\", \"Iraq New<br>0 cases<br>\", \"Iraq New<br>0 cases<br>\", \"Iraq New<br>0 cases<br>\"], \"marker\": {\"color\": \"#626262\"}, \"name\": \"Daily New Cases\", \"opacity\": 0.3, \"text\": [\"Mar 15 2020 AEDT\", \"Mar 14 2020 AEDT\", \"Mar 13 2020 AEDT\", \"Mar 12 2020 AEDT\", \"Mar 11 2020 AEDT\", \"Mar 10 2020 AEDT\", \"Mar 09 2020 AEDT\", \"Mar 08 2020 AEDT\", \"Mar 07 2020 AEDT\", \"Mar 06 2020 AEDT\", \"Mar 05 2020 AEDT\", \"Mar 04 2020 AEDT\", \"Mar 03 2020 AEDT\", \"Mar 02 2020 AEDT\", \"Mar 01 2020 AEDT\", \"Feb 29 2020 AEDT\", \"Feb 28 2020 AEDT\", \"Feb 27 2020 AEDT\", \"Feb 26 2020 AEDT\", \"Feb 25 2020 AEDT\", \"Feb 24 2020 AEDT\", \"Feb 23 2020 AEDT\", \"Feb 22 2020 AEDT\", \"Feb 21 2020 AEDT\", \"Feb 20 2020 AEDT\", \"Feb 19 2020 AEDT\", \"Feb 18 2020 AEDT\", \"Feb 17 2020 AEDT\", \"Feb 16 2020 AEDT\", \"Feb 15 2020 AEDT\", \"Feb 14 2020 AEDT\", \"Feb 13 2020 AEDT\", \"Feb 12 2020 AEDT\", \"Feb 11 2020 AEDT\", \"Feb 10 2020 AEDT\", \"Feb 09 2020 AEDT\", \"Feb 08 2020 AEDT\", \"Feb 07 2020 AEDT\", \"Feb 06 2020 AEDT\", \"Feb 05 2020 AEDT\", \"Feb 04 2020 AEDT\", \"Feb 03 2020 AEDT\", \"Feb 02 2020 AEDT\", \"Feb 01 2020 AEDT\", \"Jan 31 2020 AEDT\", \"Jan 30 2020 AEDT\", \"Jan 29 2020 AEDT\", \"Jan 28 2020 AEDT\", \"Jan 27 2020 AEDT\", \"Jan 26 2020 AEDT\", \"Jan 25 2020 AEDT\", \"Jan 24 2020 AEDT\", \"Jan 23 2020 AEDT\", \"Jan 22 2020 AEDT\", \"Jan 21 2020 AEDT\"], \"type\": \"bar\", \"x\": [\"2020-03-15T00:00:00\", \"2020-03-14T00:00:00\", \"2020-03-13T00:00:00\", \"2020-03-12T00:00:00\", \"2020-03-11T00:00:00\", \"2020-03-10T00:00:00\", \"2020-03-09T00:00:00\", \"2020-03-08T00:00:00\", \"2020-03-07T00:00:00\", \"2020-03-06T00:00:00\", \"2020-03-05T00:00:00\", \"2020-03-04T00:00:00\", \"2020-03-03T00:00:00\", \"2020-03-02T00:00:00\", \"2020-03-01T00:00:00\", \"2020-02-29T00:00:00\", \"2020-02-28T00:00:00\", \"2020-02-27T00:00:00\", \"2020-02-26T00:00:00\", \"2020-02-25T00:00:00\", \"2020-02-24T00:00:00\", \"2020-02-23T00:00:00\", \"2020-02-22T00:00:00\", \"2020-02-21T00:00:00\", \"2020-02-20T00:00:00\", \"2020-02-19T00:00:00\", \"2020-02-18T00:00:00\", \"2020-02-17T00:00:00\", \"2020-02-16T00:00:00\", \"2020-02-15T00:00:00\", \"2020-02-14T00:00:00\", \"2020-02-13T00:00:00\", \"2020-02-12T00:00:00\", \"2020-02-11T00:00:00\", \"2020-02-10T00:00:00\", \"2020-02-09T00:00:00\", \"2020-02-08T00:00:00\", \"2020-02-07T00:00:00\", \"2020-02-06T00:00:00\", \"2020-02-05T00:00:00\", \"2020-02-04T00:00:00\", \"2020-02-03T00:00:00\", \"2020-02-02T00:00:00\", \"2020-02-01T00:00:00\", \"2020-01-31T00:00:00\", \"2020-01-30T00:00:00\", \"2020-01-29T00:00:00\", \"2020-01-28T00:00:00\", \"2020-01-27T00:00:00\", \"2020-01-26T00:00:00\", \"2020-01-25T00:00:00\", \"2020-01-24T00:00:00\", \"2020-01-23T00:00:00\", \"2020-01-22T00:00:00\", \"2020-01-21T00:00:00\"], \"y\": [9, 18, 12, 0, 0, 6, 11, 8, 6, 5, 3, 6, 5, 8, 5, 1, 1, 1, 0, 4, 0, 1, 0, 0, 0, 0, 0, 0, 0, 0, 0, 0, 0, 0, 0, 0, 0, 0, 0, 0, 0, 0, 0, 0, 0, 0, 0, 0, 0, 0, 0, 0, 0, 0, 0]}],\n",
       "                        {\"annotations\": [{\"font\": {\"color\": \"grey\", \"family\": \"Arial, sans-serif\", \"size\": 60}, \"opacity\": 0.5, \"text\": \"Iraq\", \"x\": 0.5, \"xref\": \"paper\", \"y\": 0.4, \"yref\": \"paper\"}], \"font\": {\"color\": \"#292929\"}, \"hovermode\": \"x\", \"legend\": {\"bgcolor\": \"rgba(0,0,0,0)\", \"orientation\": \"v\", \"x\": 0.02, \"y\": 0.95}, \"margin\": {\"b\": 0, \"l\": 0, \"pad\": 0, \"r\": 10, \"t\": 10}, \"paper_bgcolor\": \"#cbd2d3\", \"plot_bgcolor\": \"#f4f4f2\", \"template\": {\"data\": {\"bar\": [{\"error_x\": {\"color\": \"#2a3f5f\"}, \"error_y\": {\"color\": \"#2a3f5f\"}, \"marker\": {\"line\": {\"color\": \"#E5ECF6\", \"width\": 0.5}}, \"type\": \"bar\"}], \"barpolar\": [{\"marker\": {\"line\": {\"color\": \"#E5ECF6\", \"width\": 0.5}}, \"type\": \"barpolar\"}], \"carpet\": [{\"aaxis\": {\"endlinecolor\": \"#2a3f5f\", \"gridcolor\": \"white\", \"linecolor\": \"white\", \"minorgridcolor\": \"white\", \"startlinecolor\": \"#2a3f5f\"}, \"baxis\": {\"endlinecolor\": \"#2a3f5f\", \"gridcolor\": \"white\", \"linecolor\": \"white\", \"minorgridcolor\": \"white\", \"startlinecolor\": \"#2a3f5f\"}, \"type\": \"carpet\"}], \"choropleth\": [{\"colorbar\": {\"outlinewidth\": 0, \"ticks\": \"\"}, \"type\": \"choropleth\"}], \"contour\": [{\"colorbar\": {\"outlinewidth\": 0, \"ticks\": \"\"}, \"colorscale\": [[0.0, \"#0d0887\"], [0.1111111111111111, \"#46039f\"], [0.2222222222222222, \"#7201a8\"], [0.3333333333333333, \"#9c179e\"], [0.4444444444444444, \"#bd3786\"], [0.5555555555555556, \"#d8576b\"], [0.6666666666666666, \"#ed7953\"], [0.7777777777777778, \"#fb9f3a\"], [0.8888888888888888, \"#fdca26\"], [1.0, \"#f0f921\"]], \"type\": \"contour\"}], \"contourcarpet\": [{\"colorbar\": {\"outlinewidth\": 0, \"ticks\": \"\"}, \"type\": \"contourcarpet\"}], \"heatmap\": [{\"colorbar\": {\"outlinewidth\": 0, \"ticks\": \"\"}, \"colorscale\": [[0.0, \"#0d0887\"], [0.1111111111111111, \"#46039f\"], [0.2222222222222222, \"#7201a8\"], [0.3333333333333333, \"#9c179e\"], [0.4444444444444444, \"#bd3786\"], [0.5555555555555556, \"#d8576b\"], [0.6666666666666666, \"#ed7953\"], [0.7777777777777778, \"#fb9f3a\"], [0.8888888888888888, \"#fdca26\"], [1.0, \"#f0f921\"]], \"type\": \"heatmap\"}], \"heatmapgl\": [{\"colorbar\": {\"outlinewidth\": 0, \"ticks\": \"\"}, \"colorscale\": [[0.0, \"#0d0887\"], [0.1111111111111111, \"#46039f\"], [0.2222222222222222, \"#7201a8\"], [0.3333333333333333, \"#9c179e\"], [0.4444444444444444, \"#bd3786\"], [0.5555555555555556, \"#d8576b\"], [0.6666666666666666, \"#ed7953\"], [0.7777777777777778, \"#fb9f3a\"], [0.8888888888888888, \"#fdca26\"], [1.0, \"#f0f921\"]], \"type\": \"heatmapgl\"}], \"histogram\": [{\"marker\": {\"colorbar\": {\"outlinewidth\": 0, \"ticks\": \"\"}}, \"type\": \"histogram\"}], \"histogram2d\": [{\"colorbar\": {\"outlinewidth\": 0, \"ticks\": \"\"}, \"colorscale\": [[0.0, \"#0d0887\"], [0.1111111111111111, \"#46039f\"], [0.2222222222222222, \"#7201a8\"], [0.3333333333333333, \"#9c179e\"], [0.4444444444444444, \"#bd3786\"], [0.5555555555555556, \"#d8576b\"], [0.6666666666666666, \"#ed7953\"], [0.7777777777777778, \"#fb9f3a\"], [0.8888888888888888, \"#fdca26\"], [1.0, \"#f0f921\"]], \"type\": \"histogram2d\"}], \"histogram2dcontour\": [{\"colorbar\": {\"outlinewidth\": 0, \"ticks\": \"\"}, \"colorscale\": [[0.0, \"#0d0887\"], [0.1111111111111111, \"#46039f\"], [0.2222222222222222, \"#7201a8\"], [0.3333333333333333, \"#9c179e\"], [0.4444444444444444, \"#bd3786\"], [0.5555555555555556, \"#d8576b\"], [0.6666666666666666, \"#ed7953\"], [0.7777777777777778, \"#fb9f3a\"], [0.8888888888888888, \"#fdca26\"], [1.0, \"#f0f921\"]], \"type\": \"histogram2dcontour\"}], \"mesh3d\": [{\"colorbar\": {\"outlinewidth\": 0, \"ticks\": \"\"}, \"type\": \"mesh3d\"}], \"parcoords\": [{\"line\": {\"colorbar\": {\"outlinewidth\": 0, \"ticks\": \"\"}}, \"type\": \"parcoords\"}], \"pie\": [{\"automargin\": true, \"type\": \"pie\"}], \"scatter\": [{\"marker\": {\"colorbar\": {\"outlinewidth\": 0, \"ticks\": \"\"}}, \"type\": \"scatter\"}], \"scatter3d\": [{\"line\": {\"colorbar\": {\"outlinewidth\": 0, \"ticks\": \"\"}}, \"marker\": {\"colorbar\": {\"outlinewidth\": 0, \"ticks\": \"\"}}, \"type\": \"scatter3d\"}], \"scattercarpet\": [{\"marker\": {\"colorbar\": {\"outlinewidth\": 0, \"ticks\": \"\"}}, \"type\": \"scattercarpet\"}], \"scattergeo\": [{\"marker\": {\"colorbar\": {\"outlinewidth\": 0, \"ticks\": \"\"}}, \"type\": \"scattergeo\"}], \"scattergl\": [{\"marker\": {\"colorbar\": {\"outlinewidth\": 0, \"ticks\": \"\"}}, \"type\": \"scattergl\"}], \"scattermapbox\": [{\"marker\": {\"colorbar\": {\"outlinewidth\": 0, \"ticks\": \"\"}}, \"type\": \"scattermapbox\"}], \"scatterpolar\": [{\"marker\": {\"colorbar\": {\"outlinewidth\": 0, \"ticks\": \"\"}}, \"type\": \"scatterpolar\"}], \"scatterpolargl\": [{\"marker\": {\"colorbar\": {\"outlinewidth\": 0, \"ticks\": \"\"}}, \"type\": \"scatterpolargl\"}], \"scatterternary\": [{\"marker\": {\"colorbar\": {\"outlinewidth\": 0, \"ticks\": \"\"}}, \"type\": \"scatterternary\"}], \"surface\": [{\"colorbar\": {\"outlinewidth\": 0, \"ticks\": \"\"}, \"colorscale\": [[0.0, \"#0d0887\"], [0.1111111111111111, \"#46039f\"], [0.2222222222222222, \"#7201a8\"], [0.3333333333333333, \"#9c179e\"], [0.4444444444444444, \"#bd3786\"], [0.5555555555555556, \"#d8576b\"], [0.6666666666666666, \"#ed7953\"], [0.7777777777777778, \"#fb9f3a\"], [0.8888888888888888, \"#fdca26\"], [1.0, \"#f0f921\"]], \"type\": \"surface\"}], \"table\": [{\"cells\": {\"fill\": {\"color\": \"#EBF0F8\"}, \"line\": {\"color\": \"white\"}}, \"header\": {\"fill\": {\"color\": \"#C8D4E3\"}, \"line\": {\"color\": \"white\"}}, \"type\": \"table\"}]}, \"layout\": {\"annotationdefaults\": {\"arrowcolor\": \"#2a3f5f\", \"arrowhead\": 0, \"arrowwidth\": 1}, \"coloraxis\": {\"colorbar\": {\"outlinewidth\": 0, \"ticks\": \"\"}}, \"colorscale\": {\"diverging\": [[0, \"#8e0152\"], [0.1, \"#c51b7d\"], [0.2, \"#de77ae\"], [0.3, \"#f1b6da\"], [0.4, \"#fde0ef\"], [0.5, \"#f7f7f7\"], [0.6, \"#e6f5d0\"], [0.7, \"#b8e186\"], [0.8, \"#7fbc41\"], [0.9, \"#4d9221\"], [1, \"#276419\"]], \"sequential\": [[0.0, \"#0d0887\"], [0.1111111111111111, \"#46039f\"], [0.2222222222222222, \"#7201a8\"], [0.3333333333333333, \"#9c179e\"], [0.4444444444444444, \"#bd3786\"], [0.5555555555555556, \"#d8576b\"], [0.6666666666666666, \"#ed7953\"], [0.7777777777777778, \"#fb9f3a\"], [0.8888888888888888, \"#fdca26\"], [1.0, \"#f0f921\"]], \"sequentialminus\": [[0.0, \"#0d0887\"], [0.1111111111111111, \"#46039f\"], [0.2222222222222222, \"#7201a8\"], [0.3333333333333333, \"#9c179e\"], [0.4444444444444444, \"#bd3786\"], [0.5555555555555556, \"#d8576b\"], [0.6666666666666666, \"#ed7953\"], [0.7777777777777778, \"#fb9f3a\"], [0.8888888888888888, \"#fdca26\"], [1.0, \"#f0f921\"]]}, \"colorway\": [\"#636efa\", \"#EF553B\", \"#00cc96\", \"#ab63fa\", \"#FFA15A\", \"#19d3f3\", \"#FF6692\", \"#B6E880\", \"#FF97FF\", \"#FECB52\"], \"font\": {\"color\": \"#2a3f5f\"}, \"geo\": {\"bgcolor\": \"white\", \"lakecolor\": \"white\", \"landcolor\": \"#E5ECF6\", \"showlakes\": true, \"showland\": true, \"subunitcolor\": \"white\"}, \"hoverlabel\": {\"align\": \"left\"}, \"hovermode\": \"closest\", \"mapbox\": {\"style\": \"light\"}, \"paper_bgcolor\": \"white\", \"plot_bgcolor\": \"#E5ECF6\", \"polar\": {\"angularaxis\": {\"gridcolor\": \"white\", \"linecolor\": \"white\", \"ticks\": \"\"}, \"bgcolor\": \"#E5ECF6\", \"radialaxis\": {\"gridcolor\": \"white\", \"linecolor\": \"white\", \"ticks\": \"\"}}, \"scene\": {\"xaxis\": {\"backgroundcolor\": \"#E5ECF6\", \"gridcolor\": \"white\", \"gridwidth\": 2, \"linecolor\": \"white\", \"showbackground\": true, \"ticks\": \"\", \"zerolinecolor\": \"white\"}, \"yaxis\": {\"backgroundcolor\": \"#E5ECF6\", \"gridcolor\": \"white\", \"gridwidth\": 2, \"linecolor\": \"white\", \"showbackground\": true, \"ticks\": \"\", \"zerolinecolor\": \"white\"}, \"zaxis\": {\"backgroundcolor\": \"#E5ECF6\", \"gridcolor\": \"white\", \"gridwidth\": 2, \"linecolor\": \"white\", \"showbackground\": true, \"ticks\": \"\", \"zerolinecolor\": \"white\"}}, \"shapedefaults\": {\"line\": {\"color\": \"#2a3f5f\"}}, \"ternary\": {\"aaxis\": {\"gridcolor\": \"white\", \"linecolor\": \"white\", \"ticks\": \"\"}, \"baxis\": {\"gridcolor\": \"white\", \"linecolor\": \"white\", \"ticks\": \"\"}, \"bgcolor\": \"#E5ECF6\", \"caxis\": {\"gridcolor\": \"white\", \"linecolor\": \"white\", \"ticks\": \"\"}}, \"title\": {\"x\": 0.05}, \"xaxis\": {\"automargin\": true, \"gridcolor\": \"white\", \"linecolor\": \"white\", \"ticks\": \"\", \"title\": {\"standoff\": 15}, \"zerolinecolor\": \"white\", \"zerolinewidth\": 2}, \"yaxis\": {\"automargin\": true, \"gridcolor\": \"white\", \"linecolor\": \"white\", \"ticks\": \"\", \"title\": {\"standoff\": 15}, \"zerolinecolor\": \"white\", \"zerolinewidth\": 2}}}, \"xaxis\": {\"automargin\": true, \"gridcolor\": \"rgba(203, 210, 211,.3)\", \"gridwidth\": 0.1, \"linecolor\": \"#272e3e\", \"showgrid\": false, \"showline\": false, \"tickformat\": \"%b %d\", \"title\": {\"text\": \"Cumulative Cases (Select Country/Region From Table)\"}, \"zeroline\": false}, \"yaxis\": {\"gridcolor\": \"rgba(203, 210, 211,.3)\", \"gridwidth\": 0.1, \"linecolor\": \"#272e3e\", \"mirror\": true, \"showline\": false, \"zeroline\": false}, \"yaxis2\": {\"linecolor\": \"#272e3e\", \"showgrid\": false, \"showline\": false, \"zeroline\": false}},\n",
       "                        {\"responsive\": true}\n",
       "                    ).then(function(){\n",
       "                            \n",
       "var gd = document.getElementById('5b1ee9af-5c24-438b-a351-21b83506d45e');\n",
       "var x = new MutationObserver(function (mutations, observer) {{\n",
       "        var display = window.getComputedStyle(gd).display;\n",
       "        if (!display || display === 'none') {{\n",
       "            console.log([gd, 'removed!']);\n",
       "            Plotly.purge(gd);\n",
       "            observer.disconnect();\n",
       "        }}\n",
       "}});\n",
       "\n",
       "// Listen for the removal of the full notebook cells\n",
       "var notebookContainer = gd.closest('#notebook-container');\n",
       "if (notebookContainer) {{\n",
       "    x.observe(notebookContainer, {childList: true});\n",
       "}}\n",
       "\n",
       "// Listen for the clearing of the current output cell\n",
       "var outputEl = gd.closest('.output');\n",
       "if (outputEl) {{\n",
       "    x.observe(outputEl, {childList: true});\n",
       "}}\n",
       "\n",
       "                        })\n",
       "                };\n",
       "                });\n",
       "            </script>\n",
       "        </div>"
      ]
     },
     "metadata": {},
     "output_type": "display_data"
    }
   ],
   "source": [
    "%%time\n",
    "\n",
    "# FUnction for generating cumulative line plot for each Country/Region\n",
    "Region = 'Iraq'\n",
    "CaseType = ['Confirmed', 'Recovered', 'Deaths']\n",
    "\n",
    "# Read cumulative data of a given region from ./cumulative_data folder\n",
    "df_region = pd.read_csv('./cumulative_data/{}.csv'.format(Region))\n",
    "df_region=df_region.astype({'Date_last_updated_AEDT':'datetime64', 'date_day':'datetime64'})\n",
    "\n",
    "# Line plot for confirmed cases\n",
    "# Set up tick scale based on confirmed case number\n",
    "#tickList = list(np.arange(0, df_confirmed['Mainland China'].max()+1000, 10000))\n",
    "\n",
    "# Create empty figure canvas\n",
    "#fig = make_subplots(specs=[[{\"secondary_y\": True}]])\n",
    "fig = go.Figure()\n",
    "# Add trace to the figure\n",
    "fig.add_trace(go.Scatter(x=df_region['date_day'], \n",
    "                         y=df_region['Confirmed'],\n",
    "                         mode='lines+markers',\n",
    "                         #line_shape='spline',\n",
    "                         name='Confirmed case',\n",
    "                         line=dict(color='#d7191c', width=2),\n",
    "                         #marker=dict(size=4, color='#f4f4f2',\n",
    "                         #            line=dict(width=1,color='#921113')),\n",
    "                         text=[datetime.strftime(d, '%b %d %Y AEDT') for d in df_region['date_day']],\n",
    "                         hovertext=['{} confirmed<br>{:,d} cases<br>'.format(Region, i) for i in df_region['Confirmed']],\n",
    "                         hovertemplate='<b>%{text}</b><br></br>'+\n",
    "                                                 '%{hovertext}'+\n",
    "                                                 '<extra></extra>'),\n",
    "#             secondary_y=False,\n",
    "             )\n",
    "fig.add_trace(go.Scatter(x=df_region['date_day'], \n",
    "                         y=df_region['Recovered'],\n",
    "                         mode='lines+markers',\n",
    "                         #line_shape='spline',\n",
    "                         name='Recovered case',\n",
    "                         line=dict(color='#1a9622', width=2),                         \n",
    "                         #marker=dict(size=4, color='#f4f4f2',\n",
    "                         #            line=dict(width=1,color='#168038')),\n",
    "                         text=[datetime.strftime(d, '%b %d %Y AEDT') for d in df_region['date_day']],\n",
    "                         hovertext=['{} Recovered<br>{:,d} cases<br>'.format(Region, i) for i in df_region['Recovered']],\n",
    "                         hovertemplate='<b>%{text}</b><br></br>'+\n",
    "                                                 '%{hovertext}'+\n",
    "                                                 '<extra></extra>'),\n",
    "#             secondary_y=False,\n",
    "             )\n",
    "fig.add_trace(go.Scatter(x=df_region['date_day'], \n",
    "                         y=df_region['Deaths'],\n",
    "                         mode='lines+markers',\n",
    "                         #line_shape='spline',\n",
    "                         name='Death case',\n",
    "                         line=dict(color='#626262', width=2),\n",
    "                         #marker=dict(size=4, color='#f4f4f2',\n",
    "                         #            line=dict(width=1,color='#626262')),\n",
    "                         text=[datetime.strftime(d, '%b %d %Y AEDT') for d in df_region['date_day']],\n",
    "                         hovertext=['{} Deaths<br>{:,d} cases<br>'.format(Region, i) for i in df_region['Deaths']],\n",
    "                         hovertemplate='<b>%{text}</b><br></br>'+\n",
    "                                                 '%{hovertext}'+\n",
    "                                                 '<extra></extra>'),\n",
    "#             secondary_y=False,\n",
    "             )\n",
    "\n",
    "fig.add_trace(go.Bar(x=df_region['date_day'], \n",
    "                     y=df_region['New'],\n",
    "                         #mode='lines+markers',\n",
    "                         #line_shape='spline',\n",
    "                     name='Daily New Cases',\n",
    "                     marker_color='#626262',\n",
    "                     opacity = .3,\n",
    "                         #marker=dict(size=4, color='#f4f4f2',\n",
    "                         #            line=dict(width=1,color='#626262')),\n",
    "                     text=[datetime.strftime(d, '%b %d %Y AEDT') for d in df_region['date_day']],\n",
    "                     hovertext=['{} New<br>{} cases<br>'.format(Region, i) for i in df_region['New']],\n",
    "                     hovertemplate='<b>%{text}</b><br></br>'+\n",
    "                                              '%{hovertext}'+\n",
    "                                              '<extra></extra>'\n",
    "                    ),\n",
    "#             secondary_y=True,\n",
    "             )\n",
    "\n",
    "# Customise layout\n",
    "fig.update_layout(\n",
    "    #title=dict(\n",
    "    #    text=\"<b>Confirmed Cases Timeline<b>\",\n",
    "    #    y=0.96, x=0.5, xanchor='center', yanchor='top',\n",
    "    #    font=dict(size=20, color=\"#292929\", family=\"Playfair Display\")\n",
    "    #),\n",
    "    margin=go.layout.Margin(\n",
    "            l=0,\n",
    "            r=10,\n",
    "            b=0,\n",
    "            t=10,\n",
    "            pad=0\n",
    "        ),\n",
    "    annotations=[\n",
    "        dict(x=.5,\n",
    "             y=.4,\n",
    "             xref=\"paper\",\n",
    "             yref=\"paper\",\n",
    "             text=Region,\n",
    "             opacity=0.5,\n",
    "             font=dict(family='Arial, sans-serif',\n",
    "                       size=60,\n",
    "                       color=\"grey\"),\n",
    "        )\n",
    "    ],\n",
    "    yaxis=dict(showline=False, linecolor='#272e3e',\n",
    "               zeroline=False,\n",
    "               #rangemode=\"tozero\",\n",
    "               #automargin=True,\n",
    "               #showgrid=False,\n",
    "               gridcolor='rgba(203, 210, 211,.3)',\n",
    "               gridwidth = .1,\n",
    "               mirror=True,\n",
    "               #tickmode='array',\n",
    "               # Set tick range based on the maximum number\n",
    "               #tickvals=tickList,\n",
    "               # Set tick label accordingly\n",
    "               #ticktext=[\"{:.0f}k\".format(i/1000) for i in tickList]\n",
    "    ),\n",
    "    yaxis2=dict(showline=False, linecolor='#272e3e',\n",
    "                zeroline=False,\n",
    "                showgrid=False,\n",
    "                #automargin=True,\n",
    "                #range=[-1, max(df_region['New'])+100]\n",
    "                #rangemode=\"tozero\",\n",
    "                #mirror='ticks',\n",
    "                #gridcolor='rgba(203, 210, 211,.3)',\n",
    "                #gridwidth = .1,\n",
    "                #tickmode='array',\n",
    "                #anchor=\"free\",\n",
    "                #overlaying=\"y\",\n",
    "                #side=\"right\",\n",
    "                #position=0.15\n",
    "    ),\n",
    "    xaxis_title=\"Cumulative Cases (Select Country/Region From Table)\",\n",
    "    xaxis=dict(showline=False, linecolor='#272e3e',\n",
    "               showgrid=False,\n",
    "               gridcolor='rgba(203, 210, 211,.3)',\n",
    "               gridwidth = .1,\n",
    "               zeroline=False,\n",
    "               automargin=True,\n",
    "    ),\n",
    "    xaxis_tickformat='%b %d',\n",
    "    #transition = {'duration':500},\n",
    "    hovermode = 'x',\n",
    "    legend_orientation=\"v\",\n",
    "    legend=dict(x=.02, y=.95, bgcolor=\"rgba(0,0,0,0)\",),\n",
    "    plot_bgcolor='#f4f4f2',\n",
    "    paper_bgcolor='#cbd2d3',\n",
    "    font=dict(color='#292929')\n",
    "    )\n",
    "\n"
   ]
  },
  {
   "cell_type": "code",
   "execution_count": 13,
   "metadata": {},
   "outputs": [
    {
     "name": "stdout",
     "output_type": "stream",
     "text": [
      " * Serving Flask app \"__main__\" (lazy loading)\n",
      " * Environment: production\n",
      "   WARNING: This is a development server. Do not use it in a production deployment.\n",
      "   Use a production WSGI server instead.\n",
      " * Debug mode: off\n"
     ]
    },
    {
     "name": "stderr",
     "output_type": "stream",
     "text": [
      " * Running on http://127.0.0.1:8882/ (Press CTRL+C to quit)\n",
      "127.0.0.1 - - [13/Mar/2020 11:41:22] \"GET / HTTP/1.1\" 200 -\n",
      "127.0.0.1 - - [13/Mar/2020 11:41:22] \"GET /_dash-component-suites/dash_renderer/react@16.8.6.min.js?v=1.1.2&m=1576595738 HTTP/1.1\" 200 -\n",
      "127.0.0.1 - - [13/Mar/2020 11:41:22] \"GET /_dash-component-suites/dash_renderer/prop-types@15.7.2.min.js?v=1.1.2&m=1576595738 HTTP/1.1\" 200 -\n",
      "127.0.0.1 - - [13/Mar/2020 11:41:22] \"GET /_dash-component-suites/dash_renderer/react-dom@16.8.6.min.js?v=1.1.2&m=1576595738 HTTP/1.1\" 200 -\n",
      "127.0.0.1 - - [13/Mar/2020 11:41:22] \"GET /_dash-component-suites/dash_core_components/highlight.pack.js?v=1.3.1&m=1576595950 HTTP/1.1\" 200 -\n",
      "127.0.0.1 - - [13/Mar/2020 11:41:22] \"GET /_dash-component-suites/dash_html_components/dash_html_components.min.js?v=1.0.1&m=1576596177 HTTP/1.1\" 200 -\n",
      "127.0.0.1 - - [13/Mar/2020 11:41:22] \"GET /_dash-component-suites/dash_bootstrap_components/_components/dash_bootstrap_components.min.js?v=0.8.2&m=1580284437 HTTP/1.1\" 200 -\n",
      "127.0.0.1 - - [13/Mar/2020 11:41:22] \"GET /_dash-component-suites/dash_renderer/dash_renderer.min.js?v=1.1.2&m=1576595738 HTTP/1.1\" 200 -\n",
      "127.0.0.1 - - [13/Mar/2020 11:41:22] \"GET /_dash-component-suites/dash_core_components/dash_core_components.min.js?v=1.3.1&m=1576595950 HTTP/1.1\" 200 -\n",
      "127.0.0.1 - - [13/Mar/2020 11:41:22] \"GET /_dash-component-suites/dash_table/bundle.js?v=4.4.1&m=1576596075 HTTP/1.1\" 200 -\n",
      "127.0.0.1 - - [13/Mar/2020 11:41:22] \"GET /_dash-component-suites/dash_core_components/plotly-1.50.1.min.js?v=1.3.1&m=1576595950 HTTP/1.1\" 200 -\n",
      "127.0.0.1 - - [13/Mar/2020 11:41:23] \"GET /_dash-dependencies HTTP/1.1\" 200 -\n",
      "127.0.0.1 - - [13/Mar/2020 11:41:23] \"GET /_dash-layout HTTP/1.1\" 200 -\n",
      "127.0.0.1 - - [13/Mar/2020 11:41:23] \"POST /_dash-update-component HTTP/1.1\" 200 -\n",
      "127.0.0.1 - - [13/Mar/2020 11:41:23] \"POST /_dash-update-component HTTP/1.1\" 200 -\n",
      "127.0.0.1 - - [13/Mar/2020 11:41:25] \"POST /_dash-update-component HTTP/1.1\" 200 -\n",
      "127.0.0.1 - - [13/Mar/2020 11:41:25] \"POST /_dash-update-component HTTP/1.1\" 200 -\n"
     ]
    }
   ],
   "source": [
    "##################################################################################################\n",
    "#### Start dash app\n",
    "##################################################################################################\n",
    "\n",
    "app = dash.Dash(__name__, \n",
    "                assets_folder='./assets/',\n",
    "                meta_tags=[\n",
    "                    {\"name\": \"author\", \"content\": \"Jun Ye\"},\n",
    "                    {\"name\": \"description\", \"content\": \"The coronavirus COVID-19 monitor provides up-to-date data for the global spread of coronavirus.\"},\n",
    "                    {\"property\": \"og:title\", \"content\": \"Coronavirus COVID-19 Outbreak Global Cases Monitor\"},\n",
    "                    {\"property\": \"og:type\", \"content\": \"website\"},\n",
    "                    {\"property\":\"og:image\", \"content\": \"https://junye0798.com/post/build-a-dashboard-to-track-the-spread-of-coronavirus-using-dash/featured_hu676943c67ca727a9a973d1fe66ac6f83_849996_1200x0_resize_lanczos_2.png\"},\n",
    "                    {\"property\": \"og:url\", \"content\": \"https://dash-coronavirus-2020.herokuapp.com/\"},\n",
    "                    {\"property\":\"og:description\", \"content\": \"The coronavirus COVID-19 monitor provides up-to-date data for the global spread of coronavirus.\"},\n",
    "                    {\"name\": \"twitter:card\", \"content\": \"summary_large_image\"},\n",
    "                    {\"name\": \"twitter:site\", \"content\": \"@perishleaf\"},\n",
    "                    {\"name\": \"twitter:title\", \"content\": \"Coronavirus COVID-19 Outbreak Global Cases Monitor\"},\n",
    "                    {\"name\": \"twitter:description\", \"content\": \"The coronavirus COVID-19 monitor provides up-to-date data for the global spread of coronavirus.\"},\n",
    "                    {\"name\": \"twitter:image\", \"content\": \"https://junye0798.com/post/build-a-dashboard-to-track-the-spread-of-coronavirus-using-dash/featured_hu676943c67ca727a9a973d1fe66ac6f83_849996_1200x0_resize_lanczos_2.png\"},\n",
    "                    {\"name\": \"viewport\", \"content\": \"width=device-width, height=device-height, initial-scale=1.0\"}\n",
    "                ]\n",
    "      )\n",
    "\n",
    "app.title = 'Coronavirus COVID-19 Global Monitor'\n",
    "\n",
    "# Section for Google annlytic and donation #\n",
    "app.index_string = \"\"\"<!DOCTYPE html>\n",
    "<html>\n",
    "    <head>\n",
    "        <script data-name=\"BMC-Widget\" src=\"https://cdnjs.buymeacoffee.com/1.0.0/widget.prod.min.js\" data-id=\"qPsBJAV\" data-description=\"Support the app server for running!\" data-message=\"Please support the app server for running!\" data-color=\"#FF813F\" data-position=\"right\" data-x_margin=\"18\" data-y_margin=\"18\"></script>\n",
    "        <!-- Global site tag (gtag.js) - Google Analytics -->\n",
    "        <script async src=\"https://www.googletagmanager.com/gtag/js?id=UA-154901818-2\"></script>\n",
    "        <script>\n",
    "          window.dataLayer = window.dataLayer || [];\n",
    "          function gtag(){dataLayer.push(arguments);}\n",
    "          gtag('js', new Date());\n",
    "\n",
    "          gtag('config', 'UA-154901818-2');\n",
    "        </script>\n",
    "        {%metas%}\n",
    "        <title>{%title%}</title>\n",
    "        {%favicon%}\n",
    "        {%css%}\n",
    "    </head>\n",
    "    <body>\n",
    "        {%app_entry%}\n",
    "        <footer>\n",
    "            {%config%}\n",
    "            {%scripts%}\n",
    "            {%renderer%}\n",
    "        </footer>\n",
    "    </body>\n",
    "</html>\"\"\"\n",
    "\n",
    "server = app.server\n",
    "\n",
    "app.layout = html.Div(style={'backgroundColor':'#f4f4f2'},\n",
    "    children=[\n",
    "        html.Div(\n",
    "            id=\"header\",\n",
    "            children=[                          \n",
    "                html.H4(children=\"Coronavirus (COVID-19) Outbreak Global Cases Monitor\"),\n",
    "                html.P(\n",
    "                    id=\"description\",\n",
    "                    children=\"On Dec 31, 2019, the World Health Organization (WHO) was informed of \\\n",
    "                    an outbreak of “pneumonia of unknown cause” detected in Wuhan City, Hubei Province, China – the \\\n",
    "                    seventh-largest city in China with 11 million residents. As of {}, there are over {:,d} cases \\\n",
    "                    of COVID-19 confirmed globally.\\\n",
    "                    This dash board is developed to visualise and track the recent reported \\\n",
    "                    cases on a hourly timescale.\".format(latestDate, confirmedCases),\n",
    "                ),\n",
    " #              html.P(\n",
    " #               \tid=\"note\",\n",
    " #               \tchildren=['⚠️ Source from ', \n",
    " #               \thtml.A('The National Health Commission of China', href='http://www.nhc.gov.cn/yjb/s7860/202002/553ff43ca29d4fe88f3837d49d6b6ef1.shtml'),\n",
    " #               \t': in its February 14 official report, deducted \\\n",
    " #                 108 previously reported deaths and 1,043 previously reported cases from the total in Hubei Province due to \"repeated counting.\" \\\n",
    " #               \tData have been corrected for these changes.']\n",
    " #               ),\n",
    " #              html.P(\n",
    " #                id=\"note\",\n",
    " #                children=['⚠️ Source from ', \n",
    " #                html.A('读卖新闻', href='https://www.yomiuri.co.jp/national/20200216-OYT1T50089/'),\n",
    " #                ': Diamond Princess cruise confirmed 70 new infections, bringing the total infected cases to 355.']\n",
    " #               ),\n",
    " #        \t\t    html.P(\n",
    " #                 id=\"note\",\n",
    " #                 children=['⚠️ Source from ',\n",
    " #                           html.A('anews', href='http://www.anews.com.tr/world/2020/02/21/iran-says-two-more-deaths-among-13-new-coronavirus-cases'),\n",
    " #                           ': Iran\\'s health ministry Friday reported two more deaths among 13 new cases of coronavirus in the Islamic republic, bringing the total number of deaths to four and infections to 18.']\n",
    " #               ),\n",
    " #               html.P(\n",
    " #                 id=\"note\",\n",
    " #                 children=['⚠️ Source from ',\n",
    " #                           html.A('The New York Times', href='https://www.nytimes.com/2020/03/01/world/coronavirus-news.html'),\n",
    " #                           ': New York State Reports First Case.']\n",
    " #                ), \t\t\t\t\t\n",
    "                html.P(\n",
    "                  id='time-stamp',\n",
    "                  #style={'fontWeight':'bold'},\n",
    "                       children=\"🔴 Last updated on {}. (Sorry, the app server may experince short period of interruption while updating data)\".format(latestDate))\n",
    "                    ]        \n",
    "                ),\n",
    "        html.Div(\n",
    "            id=\"number-plate\",\n",
    "            style={'marginLeft':'1.5%','marginRight':'1.5%','marginBottom':'.5%'},\n",
    "                 children=[\n",
    "                     html.Div(\n",
    "                         style={'width':'24.4%','backgroundColor':'#cbd2d3','display':'inline-block',\n",
    "                                'marginRight':'.8%','verticalAlign':'top'},\n",
    "                              children=[\n",
    "                                  html.H3(style={'textAlign':'center',\n",
    "                                                 'fontWeight':'bold','color':'#2674f6'},\n",
    "                                               children=[\n",
    "                                                   html.P(style={'color':'#cbd2d3','padding':'.5rem'},\n",
    "                                                              children='xxxx xx xxx xxxx xxx xxxxx'),\n",
    "                                                   '{}'.format(daysOutbreak),\n",
    "                                               ]),\n",
    "                                  html.H5(style={'textAlign':'center','color':'#2674f6','padding':'.1rem'},\n",
    "                                               children=\"Days Since Outbreak\")                                        \n",
    "                                       ]),\n",
    "                     html.Div(\n",
    "                         style={'width':'24.4%','backgroundColor':'#cbd2d3','display':'inline-block',\n",
    "                                'marginRight':'.8%','verticalAlign':'top'},\n",
    "                              children=[\n",
    "                                  html.H3(style={'textAlign':'center',\n",
    "                                                 'fontWeight':'bold','color':'#d7191c'},\n",
    "                                                children=[\n",
    "                                                    html.P(style={'padding':'.5rem'},\n",
    "                                                              children='+ {:,d} in the past 24h ({:.1%})'.format(plusConfirmedNum, plusPercentNum1)),\n",
    "                                                    '{:,d}'.format(confirmedCases)\n",
    "                                                         ]),\n",
    "                                  html.H5(style={'textAlign':'center','color':'#d7191c','padding':'.1rem'},\n",
    "                                               children=\"Confirmed Cases\")                                        \n",
    "                                       ]),\n",
    "                     html.Div(\n",
    "                         style={'width':'24.4%','backgroundColor':'#cbd2d3','display':'inline-block',\n",
    "                                'marginRight':'.8%','verticalAlign':'top'},\n",
    "                              children=[\n",
    "                                  html.H3(style={'textAlign':'center',\n",
    "                                                       'fontWeight':'bold','color':'#1a9622'},\n",
    "                                               children=[\n",
    "                                                   html.P(style={'padding':'.5rem'},\n",
    "                                                              children='+ {:,d} in the past 24h ({:.1%})'.format(plusRecoveredNum, plusPercentNum2)),\n",
    "                                                   '{:,d}'.format(recoveredCases),\n",
    "                                               ]),\n",
    "                                  html.H5(style={'textAlign':'center','color':'#1a9622','padding':'.1rem'},\n",
    "                                               children=\"Recovered Cases\")                                        \n",
    "                                       ]),\n",
    "                     html.Div(\n",
    "                         style={'width':'24.4%','backgroundColor':'#cbd2d3','display':'inline-block',\n",
    "                                'verticalAlign':'top'},\n",
    "                              children=[\n",
    "                                  html.H3(style={'textAlign':'center',\n",
    "                                                       'fontWeight':'bold','color':'#6c6c6c'},\n",
    "                                                children=[\n",
    "                                                    html.P(style={'padding':'.5rem'},\n",
    "                                                              children='+ {:,d} in the past 24h ({:.1%})'.format(plusDeathNum, plusPercentNum3)),\n",
    "                                                    '{:,d}'.format(deathsCases)\n",
    "                                                ]),\n",
    "                                  html.H5(style={'textAlign':'center','color':'#6c6c6c','padding':'.1rem'},\n",
    "                                               children=\"Death Cases\")                                        \n",
    "                                       ])\n",
    "                          ]),\n",
    "        html.Div(\n",
    "            id='dcc-plot',\n",
    "            style={'marginLeft':'1.5%','marginRight':'1.5%','marginBottom':'.35%','marginTop':'.5%'},\n",
    "                 children=[\n",
    "                     html.Div(\n",
    "                         style={'width':'32.79%','display':'inline-block','marginRight':'.8%','verticalAlign':'top'},\n",
    "                              children=[\n",
    "                                  html.H5(style={'textAlign':'center','backgroundColor':'#cbd2d3',\n",
    "                                                 'color':'#292929','padding':'1rem','marginBottom':'0'},\n",
    "                                               children='Confirmed Case Timeline'),\n",
    "                                  dcc.Graph(style={'height':'300px'},figure=fig_confirmed)]),\n",
    "                     html.Div(\n",
    "                         style={'width':'32.79%','display':'inline-block','marginRight':'.8%','verticalAlign':'top'},\n",
    "                              children=[\n",
    "                                  html.H5(style={'textAlign':'center','backgroundColor':'#cbd2d3',\n",
    "                                                 'color':'#292929','padding':'1rem','marginBottom':'0'},\n",
    "                                               children='Recovered/Death Case Timeline'),\n",
    "                                  dcc.Graph(style={'height':'300px'},figure=fig_combine)]),\n",
    "                     html.Div(\n",
    "                         style={'width':'32.79%','display':'inline-block','verticalAlign':'top'},\n",
    "                              children=[\n",
    "                                  html.H5(style={'textAlign':'center','backgroundColor':'#cbd2d3',\n",
    "                                                 'color':'#292929','padding':'1rem','marginBottom':'0'},\n",
    "                                               children='Death Rate (%) Timeline'),\n",
    "                                  dcc.Graph(style={'height':'300px'},figure=fig_rate)])]),\n",
    "        html.Div(\n",
    "            id='dcc-map',\n",
    "            style={'marginLeft':'1.5%','marginRight':'1.5%','marginBottom':'.5%'},\n",
    "                 children=[\n",
    "                     html.Div(style={'width':'66.41%','marginRight':'.8%','display':'inline-block','verticalAlign':'top'},\n",
    "                              children=[\n",
    "                                  html.H5(style={'textAlign':'center','backgroundColor':'#cbd2d3',\n",
    "                                                 'color':'#292929','padding':'1rem','marginBottom':'0'},\n",
    "                                               children='Latest Coronavirus Outbreak Map'),\n",
    "                                  dcc.Graph(\n",
    "                                      id='datatable-interact-map',\n",
    "                                      style={'height':'500px'},),\n",
    "                                  dcc.Graph(\n",
    "                                      id='datatable-interact-lineplot',\n",
    "                                      style={'height':'300px'},),\n",
    "                              ]),\n",
    "                     html.Div(style={'width':'32.79%','display':'inline-block','verticalAlign':'top'},\n",
    "                              children=[\n",
    "                                  html.H5(style={'textAlign':'center','backgroundColor':'#cbd2d3',\n",
    "                                                 'color':'#292929','padding':'1rem','marginBottom':'0'},\n",
    "                                               children='Cases by Country/Region'),\n",
    "                                  dcc.Tabs(\n",
    "                                        value='tab-1',\n",
    "                                        parent_className='custom-tabs',\n",
    "                                        className='custom-tabs-container',\n",
    "                                        children=[\n",
    "                                            dcc.Tab(label='The World',\n",
    "                                                    value='tab-1',\n",
    "                                                className='custom-tab',\n",
    "                                                selected_className='custom-tab--selected',\n",
    "                                                children=[                                                    \n",
    "                                                    dash_table.DataTable(\n",
    "                                                        id='datatable-interact-location',\n",
    "                                                        # Don't show coordinates\n",
    "                                                        columns=[{\"name\": i, \"id\": i} for i in dfSum.columns[0:5]],\n",
    "                                                        # But still store coordinates in the table for interactivity\n",
    "                                                        data=dfSum.to_dict(\"rows\"),\n",
    "                                                        row_selectable=\"single\",\n",
    "                                                        sort_action=\"native\",\n",
    "                                                        style_as_list_view=True,\n",
    "                                                        style_cell={'font_family':'Arial',\n",
    "                                                                    'font_size':'1.2rem',\n",
    "                                                                    'padding':'.1rem',\n",
    "                                                                    'backgroundColor':'#f4f4f2',},\n",
    "                                                        fixed_rows={'headers':True,'data':0},\n",
    "                                                        style_table={'minHeight': '750px', \n",
    "                                                                     'height': '750px', \n",
    "                                                                     'maxHeight': '750px'\n",
    "                                                                    #'Height':'300px',\n",
    "                                                                    #'overflowY':'scroll',\n",
    "                                                                    #'overflowX':'scroll',\n",
    "                                                                    },\n",
    "                                                        style_header={'backgroundColor':'#f4f4f2',\n",
    "                                                                      'fontWeight':'bold'},\n",
    "                                                        style_cell_conditional=[{'if': {'column_id':'Country/Regions'},'width':'28%'},\n",
    "                                                                                {'if': {'column_id':'Remaining'},'width':'18%'},\n",
    "                                                                                {'if': {'column_id':'Confirmed'},'width':'18%'},\n",
    "                                                                                {'if': {'column_id':'Recovered'},'width':'18%'},\n",
    "                                                                                {'if': {'column_id':'Deaths'},'width':'18%'},\n",
    "                                                                                {'if': {'column_id':'Confirmed'},'color':'#d7191c'},\n",
    "                                                                                {'if': {'column_id':'Recovered'},'color':'#1a9622'},\n",
    "                                                                                {'if': {'column_id':'Deaths'},'color':'#6c6c6c'},\n",
    "                                                                                {'textAlign': 'center'}],\n",
    "                                                    )\n",
    "                                        ]),\n",
    "                                        dcc.Tab(label='Australia',\n",
    "                                                className='custom-tab',\n",
    "                                                selected_className='custom-tab--selected',\n",
    "                                                children=[\n",
    "                                            dash_table.DataTable(\n",
    "                                                \n",
    "                                                # Don't show coordinates\n",
    "                                                columns=[{\"name\": i, \"id\": i} for i in AUSTable.columns[0:5]],\n",
    "                                                # But still store coordinates in the table for interactivity\n",
    "                                                data=AUSTable.to_dict(\"rows\"),\n",
    "                                                #row_selectable=\"single\",\n",
    "                                                sort_action=\"native\",\n",
    "                                                style_as_list_view=True,\n",
    "                                                style_cell={'font_family':'Arial',\n",
    "                                                            'font_size':'1.2rem',\n",
    "                                                            'padding':'.1rem',\n",
    "                                                            'backgroundColor':'#f4f4f2',},\n",
    "                                                fixed_rows={'headers':True,'data':0},\n",
    "                                                style_table={'minHeight': '750px', \n",
    "                                                             'height': '750px', \n",
    "                                                             'maxHeight': '750px'\n",
    "                                                            #'Height':'300px',\n",
    "                                                            #'overflowY':'scroll',\n",
    "                                                            #'overflowX':'scroll',\n",
    "                                                            },\n",
    "                                                style_header={'backgroundColor':'#f4f4f2',\n",
    "                                                              'fontWeight':'bold'},\n",
    "                                                style_cell_conditional=[{'if': {'column_id':'Province/State'},'width':'28%'},\n",
    "                                                                        {'if': {'column_id':'Remaining'},'width':'18%'},\n",
    "                                                                        {'if': {'column_id':'Confirmed'},'width':'18%'},\n",
    "                                                                        {'if': {'column_id':'Recovered'},'width':'18%'},\n",
    "                                                                        {'if': {'column_id':'Deaths'},'width':'18%'},\n",
    "                                                                        {'if': {'column_id':'Confirmed'},'color':'#d7191c'},\n",
    "                                                                        {'if': {'column_id':'Recovered'},'color':'#1a9622'},\n",
    "                                                                        {'if': {'column_id':'Deaths'},'color':'#6c6c6c'},\n",
    "                                                                        {'textAlign': 'center'}],\n",
    "                                            )\n",
    "                                        ]),\n",
    "                                        dcc.Tab(label='Canada', \n",
    "                                                className='custom-tab',\n",
    "                                                selected_className='custom-tab--selected',\n",
    "                                                children=[\n",
    "                                            dash_table.DataTable(\n",
    "                                                \n",
    "                                                # Don't show coordinates\n",
    "                                                columns=[{\"name\": i, \"id\": i} for i in CANTable.columns[0:5]],\n",
    "                                                # But still store coordinates in the table for interactivity\n",
    "                                                data=CANTable.to_dict(\"rows\"),\n",
    "                                                #row_selectable=\"single\",\n",
    "                                                sort_action=\"native\",\n",
    "                                                style_as_list_view=True,\n",
    "                                                style_cell={'font_family':'Arial',\n",
    "                                                            'font_size':'1.2rem',\n",
    "                                                            'padding':'.1rem',\n",
    "                                                            'backgroundColor':'#f4f4f2',},\n",
    "                                                fixed_rows={'headers':True,'data':0},\n",
    "                                                style_table={'minHeight': '750px', \n",
    "                                                             'height': '750px', \n",
    "                                                             'maxHeight': '750px'\n",
    "                                                            #'Height':'300px',\n",
    "                                                            #'overflowY':'scroll',\n",
    "                                                            #'overflowX':'scroll',\n",
    "                                                            },\n",
    "                                                style_header={'backgroundColor':'#f4f4f2',\n",
    "                                                              'fontWeight':'bold'},\n",
    "                                                style_cell_conditional=[{'if': {'column_id':'Province/State'},'width':'28%'},\n",
    "                                                                        {'if': {'column_id':'Remaining'},'width':'18%'},\n",
    "                                                                        {'if': {'column_id':'Confirmed'},'width':'18%'},\n",
    "                                                                        {'if': {'column_id':'Recovered'},'width':'18%'},\n",
    "                                                                        {'if': {'column_id':'Deaths'},'width':'18%'},\n",
    "                                                                        {'if': {'column_id':'Confirmed'},'color':'#d7191c'},\n",
    "                                                                        {'if': {'column_id':'Recovered'},'color':'#1a9622'},\n",
    "                                                                        {'if': {'column_id':'Deaths'},'color':'#6c6c6c'},\n",
    "                                                                        {'textAlign': 'center'}],\n",
    "                                            )\n",
    "                                        ]),\n",
    "                                      dcc.Tab(label='Mainland China', \n",
    "                                              className='custom-tab',\n",
    "                                              selected_className='custom-tab--selected',\n",
    "                                              children=[\n",
    "                                              dash_table.DataTable(\n",
    "                                                \n",
    "                                                # Don't show coordinates\n",
    "                                                columns=[{\"name\": i, \"id\": i} for i in CNTable.columns[0:5]],\n",
    "                                                # But still store coordinates in the table for interactivity\n",
    "                                                data=CNTable.to_dict(\"rows\"),\n",
    "                                                #row_selectable=\"single\",\n",
    "                                                sort_action=\"native\",\n",
    "                                                style_as_list_view=True,\n",
    "                                                style_cell={'font_family':'Arial',\n",
    "                                                            'font_size':'1.2rem',\n",
    "                                                            'padding':'.1rem',\n",
    "                                                            'backgroundColor':'#f4f4f2',},\n",
    "                                                fixed_rows={'headers':True,'data':0},\n",
    "                                                style_table={'minHeight': '750px', \n",
    "                                                             'height': '750px', \n",
    "                                                             'maxHeight': '750px'\n",
    "                                                            #'Height':'300px',\n",
    "                                                            #'overflowY':'scroll',\n",
    "                                                            #'overflowX':'scroll',\n",
    "                                                            },\n",
    "                                                style_header={'backgroundColor':'#f4f4f2',\n",
    "                                                              'fontWeight':'bold'},\n",
    "                                                style_cell_conditional=[{'if': {'column_id':'Province/State'},'width':'28%'},\n",
    "                                                                        {'if': {'column_id':'Remaining'},'width':'18%'},\n",
    "                                                                        {'if': {'column_id':'Confirmed'},'width':'18%'},\n",
    "                                                                        {'if': {'column_id':'Recovered'},'width':'18%'},\n",
    "                                                                        {'if': {'column_id':'Deaths'},'width':'18%'},\n",
    "                                                                        {'if': {'column_id':'Confirmed'},'color':'#d7191c'},\n",
    "                                                                        {'if': {'column_id':'Recovered'},'color':'#1a9622'},\n",
    "                                                                        {'if': {'column_id':'Deaths'},'color':'#6c6c6c'},\n",
    "                                                                        {'textAlign': 'center'}],\n",
    "                                            )\n",
    "                                        ]),\n",
    "                                      dcc.Tab(label='United States', \n",
    "                                              className='custom-tab',\n",
    "                                              selected_className='custom-tab--selected',\n",
    "                                              children=[\n",
    "                                              dash_table.DataTable(\n",
    "                                                \n",
    "                                                # Don't show coordinates\n",
    "                                                columns=[{\"name\": i, \"id\": i} for i in USTable.columns[0:5]],\n",
    "                                                # But still store coordinates in the table for interactivity\n",
    "                                                data=USTable.to_dict(\"rows\"),\n",
    "                                                #row_selectable=\"single\",\n",
    "                                                sort_action=\"native\",\n",
    "                                                style_as_list_view=True,\n",
    "                                                style_cell={'font_family':'Arial',\n",
    "                                                            'font_size':'1.2rem',\n",
    "                                                            'padding':'.1rem',\n",
    "                                                            'backgroundColor':'#f4f4f2',},\n",
    "                                                fixed_rows={'headers':True,'data':0},\n",
    "                                                style_table={'minHeight': '760px', \n",
    "                                                             'height': '760px', \n",
    "                                                             'maxHeight': '760px'\n",
    "                                                            #'Height':'300px',\n",
    "                                                            #'overflowY':'scroll',\n",
    "                                                            #'overflowX':'scroll',\n",
    "                                                            },\n",
    "                                                style_header={'backgroundColor':'#f4f4f2',\n",
    "                                                              'fontWeight':'bold'},\n",
    "                                                style_cell_conditional=[{'if': {'column_id':'Province/State'},'width':'28%'},\n",
    "                                                                        {'if': {'column_id':'Remaining'},'width':'18%'},\n",
    "                                                                        {'if': {'column_id':'Confirmed'},'width':'18%'},\n",
    "                                                                        {'if': {'column_id':'Recovered'},'width':'18%'},\n",
    "                                                                        {'if': {'column_id':'Deaths'},'width':'18%'},\n",
    "                                                                        {'if': {'column_id':'Confirmed'},'color':'#d7191c'},\n",
    "                                                                        {'if': {'column_id':'Recovered'},'color':'#1a9622'},\n",
    "                                                                        {'if': {'column_id':'Deaths'},'color':'#6c6c6c'},\n",
    "                                                                        {'textAlign': 'center'}],\n",
    "                                            )\n",
    "                                        ]),]\n",
    "                                    )\n",
    "                              ])\n",
    "                 ]),\n",
    "        html.Div(\n",
    "          id='my-footer',\n",
    "          style={'marginLeft':'1.5%','marginRight':'1.5%'},\n",
    "                 children=[\n",
    "                     html.P(style={'textAlign':'center','margin':'auto'},\n",
    "                            children=[\" 🙏 God Bless the World 🙏 |\",\n",
    "                                      \" Developed by \",html.A('Jun', href='https://junye0798.com/'),\" with ❤️ in Sydney\"])]),\n",
    "        ])\n",
    "\n",
    "@app.callback(\n",
    "    Output('datatable-interact-map', 'figure'),\n",
    "    [Input('datatable-interact-location', 'derived_virtual_selected_rows'),\n",
    "     Input('datatable-interact-location', 'selected_row_ids')]\n",
    ")\n",
    "\n",
    "def update_figures(derived_virtual_selected_rows, selected_row_ids):\n",
    "    # When the table is first rendered, `derived_virtual_data` and\n",
    "    # `derived_virtual_selected_rows` will be `None`. This is due to an\n",
    "    # idiosyncracy in Dash (unsupplied properties are always None and Dash\n",
    "    # calls the dependent callbacks when the component is first rendered).\n",
    "    # So, if `rows` is `None`, then the component was just rendered\n",
    "    # and its value will be the same as the component's dataframe.\n",
    "    # Instead of setting `None` in here, you could also set\n",
    "    # `derived_virtual_data=df.to_rows('dict')` when you initialize\n",
    "    # the component.\n",
    "        \n",
    "    if derived_virtual_selected_rows is None:\n",
    "        derived_virtual_selected_rows = []\n",
    "        \n",
    "    dff = dfSum\n",
    "        \n",
    "    mapbox_access_token = \"pk.eyJ1IjoicGxvdGx5bWFwYm94IiwiYSI6ImNqdnBvNDMyaTAxYzkzeW5ubWdpZ2VjbmMifQ.TXcBE-xg9BFdV2ocecc_7g\"\n",
    "\n",
    "    # Generate a list for hover text display\n",
    "    textList=[]\n",
    "    for area, region in zip(dfs[keyList[0]]['Province/State'], dfs[keyList[0]]['Country/Region']):\n",
    "        \n",
    "        if type(area) is str:\n",
    "            if region == \"Hong Kong\" or region == \"Macau\" or region == \"Taiwan\":\n",
    "                textList.append(area)\n",
    "            else:\n",
    "                textList.append(area+', '+region)\n",
    "        else:\n",
    "            textList.append(region)\n",
    "            \n",
    "    # Generate a list for color gradient display\n",
    "    colorList=[]\n",
    "\n",
    "    for comfirmed, recovered, deaths in zip(dfs[keyList[0]]['Confirmed'],dfs[keyList[0]]['Recovered'],dfs[keyList[0]]['Deaths']):\n",
    "        remaining = comfirmed - deaths - recovered\n",
    "        colorList.append(remaining)\n",
    "\n",
    "    fig2 = go.Figure(go.Scattermapbox(\n",
    "        lat=dfs[keyList[0]]['lat'],\n",
    "        lon=dfs[keyList[0]]['lon'],\n",
    "        mode='markers',\n",
    "        marker=go.scattermapbox.Marker(\n",
    "            color=['#d7191c' if i > 0 else '#1a9622' for i in colorList],\n",
    "            size=[i**(1/3) for i in dfs[keyList[0]]['Confirmed']], \n",
    "            sizemin=1,\n",
    "            sizemode='area',\n",
    "            sizeref=2.*max([math.sqrt(i) for i in dfs[keyList[0]]['Confirmed']])/(100.**2),\n",
    "        ),\n",
    "        text=textList,\n",
    "        hovertext=['Comfirmed: {}<br>Recovered: {}<br>Death: {}'.format(i, j, k) for i, j, k in zip(dfs[keyList[0]]['Confirmed'],\n",
    "                                                                                                    dfs[keyList[0]]['Recovered'],\n",
    "                                                                                                    dfs[keyList[0]]['Deaths'])],\n",
    "        hovertemplate = \"<b>%{text}</b><br><br>\" +\n",
    "                        \"%{hovertext}<br>\" +\n",
    "                        \"<extra></extra>\")\n",
    "    )\n",
    "    fig2.update_layout(\n",
    "        plot_bgcolor='#151920',\n",
    "        paper_bgcolor='#cbd2d3',\n",
    "        margin=go.layout.Margin(l=10,r=10,b=10,t=0,pad=40),\n",
    "        hovermode='closest',\n",
    "        transition = {'duration':50},\n",
    "        annotations=[\n",
    "        dict(\n",
    "            x=.5,\n",
    "            y=-.01,\n",
    "            align='center',\n",
    "            showarrow=False,\n",
    "            text=\"Points are placed based on data geolocation levels.<br><b>Province/State level<b> - China, Australia, United States, and Canada; <b>Country level<b> - other countries.\",\n",
    "            xref=\"paper\",\n",
    "            yref=\"paper\",\n",
    "            font=dict(size=10, color='#292929'),\n",
    "        )],\n",
    "        mapbox=go.layout.Mapbox(\n",
    "            accesstoken=mapbox_access_token,\n",
    "            style=\"light\",\n",
    "            # The direction you're facing, measured clockwise as an angle from true north on a compass\n",
    "            bearing=0,\n",
    "            center=go.layout.mapbox.Center(\n",
    "                lat=14.056159 if len(derived_virtual_selected_rows)==0 else dff.loc[selected_row_ids[0]].lat, \n",
    "                lon=22.920039 if len(derived_virtual_selected_rows)==0 else dff.loc[selected_row_ids[0]].lon\n",
    "            ),\n",
    "            pitch=0,\n",
    "            zoom=1.03 if len(derived_virtual_selected_rows)==0 else 4\n",
    "        )\n",
    "    )\n",
    "\n",
    "    return fig2\n",
    "\n",
    "@app.callback(\n",
    "    Output('datatable-interact-lineplot', 'figure'),\n",
    "    [Input('datatable-interact-location', 'derived_virtual_selected_rows'),\n",
    "     Input('datatable-interact-location', 'selected_row_ids')]\n",
    ")\n",
    "\n",
    "def update_lineplot(derived_virtual_selected_rows, selected_row_ids):\n",
    "    \n",
    "    if derived_virtual_selected_rows is None:\n",
    "        derived_virtual_selected_rows = []\n",
    "        \n",
    "    dff = dfSum\n",
    "    \n",
    "    if selected_row_ids:\n",
    "        if dff.loc[selected_row_ids[0]]['Country/Region'] == 'Mainland China':\n",
    "            Region = 'China'\n",
    "        else:\n",
    "            Region = dff.loc[selected_row_ids[0]]['Country/Region']\n",
    "    else:\n",
    "        Region = 'Australia'\n",
    "        \n",
    "    # Read cumulative data of a given region from ./cumulative_data folder\n",
    "    df_region = pd.read_csv('./cumulative_data/{}.csv'.format(Region))\n",
    "    df_region=df_region.astype({'Date_last_updated_AEDT':'datetime64', 'date_day':'datetime64'})\n",
    "\n",
    "    # Line plot for confirmed cases\n",
    "    # Set up tick scale based on confirmed case number\n",
    "    #tickList = list(np.arange(0, df_confirmed['Mainland China'].max()+1000, 10000))\n",
    "\n",
    "    # Create empty figure canvas\n",
    "    #fig3 = make_subplots(specs=[[{\"secondary_y\": True}]])\n",
    "    fig3 = go.Figure()\n",
    "    # Add trace to the figure\n",
    "    fig3.add_trace(go.Scatter(x=df_region['date_day'], \n",
    "                             y=df_region['Confirmed'],\n",
    "                             mode='lines+markers',\n",
    "                             line_shape='spline',\n",
    "                             name='Confirmed case',\n",
    "                             line=dict(color='#d7191c', width=2),\n",
    "                             #marker=dict(size=4, color='#f4f4f2',\n",
    "                             #            line=dict(width=1,color='#921113')),\n",
    "                             text=[datetime.strftime(d, '%b %d %Y AEDT') for d in df_region['date_day']],\n",
    "                             hovertext=['{} confirmed<br>{:,d} cases<br>'.format(Region, i) for i in df_region['Confirmed']],\n",
    "                             hovertemplate='<b>%{text}</b><br></br>'+\n",
    "                                                     '%{hovertext}'+\n",
    "                                                     '<extra></extra>'),\n",
    "                  #secondary_y=False,\n",
    "                  )\n",
    "    fig3.add_trace(go.Scatter(x=df_region['date_day'], \n",
    "                             y=df_region['Recovered'],\n",
    "                             mode='lines+markers',\n",
    "                             line_shape='spline',\n",
    "                             name='Recovered case',\n",
    "                             line=dict(color='#1a9622', width=2),                         \n",
    "                             #marker=dict(size=4, color='#f4f4f2',\n",
    "                             #            line=dict(width=1,color='#168038')),\n",
    "                             text=[datetime.strftime(d, '%b %d %Y AEDT') for d in df_region['date_day']],\n",
    "                             hovertext=['{} Recovered<br>{:,d} cases<br>'.format(Region, i) for i in df_region['Recovered']],\n",
    "                             hovertemplate='<b>%{text}</b><br></br>'+\n",
    "                                                     '%{hovertext}'+\n",
    "                                                     '<extra></extra>'),\n",
    "                  #secondary_y=False,\n",
    "                  )\n",
    "    fig3.add_trace(go.Scatter(x=df_region['date_day'], \n",
    "                             y=df_region['Deaths'],\n",
    "                             mode='lines+markers',\n",
    "                             line_shape='spline',\n",
    "                             name='Death case',\n",
    "                             line=dict(color='#626262', width=2),\n",
    "                             #marker=dict(size=4, color='#f4f4f2',\n",
    "                             #            line=dict(width=1,color='#626262')),\n",
    "                             text=[datetime.strftime(d, '%b %d %Y AEDT') for d in df_region['date_day']],\n",
    "                             hovertext=['{} Deaths<br>{:,d} cases<br>'.format(Region, i) for i in df_region['Deaths']],\n",
    "                             hovertemplate='<b>%{text}</b><br></br>'+\n",
    "                                                     '%{hovertext}'+\n",
    "                                                     '<extra></extra>'),\n",
    "                  #secondary_y=False,\n",
    "                  )\n",
    "    fig3.add_trace(go.Bar(x=df_region['date_day'], \n",
    "                          y=df_region['New'],\n",
    "                         #mode='lines+markers',\n",
    "                         #line_shape='spline',\n",
    "                         name='Daily New Cases',\n",
    "                         marker_color='#626262',\n",
    "                         opacity = .3,\n",
    "                             #marker=dict(size=4, color='#f4f4f2',\n",
    "                             #            line=dict(width=1,color='#626262')),\n",
    "                         text=[datetime.strftime(d, '%b %d %Y AEDT') for d in df_region['date_day']],\n",
    "                         hovertext=['{} New<br>{} cases<br>'.format(Region, i) for i in df_region['New']],\n",
    "                         hovertemplate='<b>%{text}</b><br></br>'+\n",
    "                                                  '%{hovertext}'+\n",
    "                                                  '<extra></extra>'),\n",
    "             #secondary_y=True,\n",
    "                  )\n",
    "\n",
    "    # Customise layout\n",
    "    fig3.update_layout(\n",
    "        #title=dict(\n",
    "        #    text=\"<b>Confirmed Cases Timeline<b>\",\n",
    "        #    y=0.96, x=0.5, xanchor='center', yanchor='top',\n",
    "        #    font=dict(size=20, color=\"#292929\", family=\"Playfair Display\")\n",
    "        #),\n",
    "        margin=go.layout.Margin(\n",
    "            l=10,\n",
    "            r=10,\n",
    "            b=10,\n",
    "            t=5,\n",
    "            pad=0\n",
    "        ),\n",
    "        annotations=[\n",
    "            dict(\n",
    "                x=.5,\n",
    "                y=.4,\n",
    "                xref=\"paper\",\n",
    "                yref=\"paper\",\n",
    "                text=Region,\n",
    "                opacity=0.5,\n",
    "                font=dict(family='Arial, sans-serif',\n",
    "                          size=60,\n",
    "                          color=\"grey\"),\n",
    "            )\n",
    "        ],\n",
    "        yaxis=dict(\n",
    "            showline=False, linecolor='#272e3e',\n",
    "            zeroline=False,\n",
    "            #showgrid=False,\n",
    "            #rangemode='tozero',\n",
    "            gridcolor='rgba(203, 210, 211,.3)',\n",
    "            gridwidth = .1,\n",
    "            tickmode='array',\n",
    "            # Set tick range based on the maximum number\n",
    "            #tickvals=tickList,\n",
    "            # Set tick label accordingly\n",
    "            #ticktext=[\"{:.0f}k\".format(i/1000) for i in tickList]\n",
    "        ),\n",
    "        yaxis2=dict(showline=False, linecolor='#272e3e',\n",
    "                zeroline=False,\n",
    "                showgrid=False,\n",
    "                automargin=True,\n",
    "                #rangemode=\"tozero\",\n",
    "                #mirror='ticks',\n",
    "                #gridcolor='rgba(203, 210, 211,.3)',\n",
    "                #gridwidth = .1,\n",
    "                #tickmode='array',\n",
    "                #anchor=\"free\",\n",
    "                #overlaying=\"y\",\n",
    "                #side=\"right\",\n",
    "                #position=0.15\n",
    "        ),\n",
    "        xaxis_title=\"Cumulative Cases (Select Country/Region From Table)\",\n",
    "        xaxis=dict(\n",
    "            showline=False, linecolor='#272e3e',\n",
    "            showgrid=False,\n",
    "            gridcolor='rgba(203, 210, 211,.3)',\n",
    "            gridwidth = .1,\n",
    "            zeroline=False\n",
    "        ),\n",
    "        xaxis_tickformat='%b %d',\n",
    "        #transition = {'duration':500},\n",
    "        hovermode = 'x',\n",
    "        legend_orientation=\"v\",\n",
    "        legend=dict(x=.02, y=.95, bgcolor=\"rgba(0,0,0,0)\",),\n",
    "        plot_bgcolor='#f4f4f2',\n",
    "        paper_bgcolor='#cbd2d3',\n",
    "        font=dict(color='#292929')\n",
    "    )\n",
    "    \n",
    "    return fig3\n",
    "\n",
    "if __name__ == '__main__':\n",
    "    app.run_server(port=8882)"
   ]
  },
  {
   "cell_type": "code",
   "execution_count": null,
   "metadata": {},
   "outputs": [],
   "source": []
  }
 ],
 "metadata": {
  "kernelspec": {
   "display_name": "Python 3",
   "language": "python",
   "name": "python3"
  },
  "language_info": {
   "codemirror_mode": {
    "name": "ipython",
    "version": 3
   },
   "file_extension": ".py",
   "mimetype": "text/x-python",
   "name": "python",
   "nbconvert_exporter": "python",
   "pygments_lexer": "ipython3",
   "version": "3.6.9"
  },
  "toc": {
   "base_numbering": 1,
   "nav_menu": {},
   "number_sections": true,
   "sideBar": true,
   "skip_h1_title": false,
   "title_cell": "Table of Contents",
   "title_sidebar": "Contents",
   "toc_cell": false,
   "toc_position": {},
   "toc_section_display": true,
   "toc_window_display": false
  },
  "varInspector": {
   "cols": {
    "lenName": 16,
    "lenType": 16,
    "lenVar": 40
   },
   "kernels_config": {
    "python": {
     "delete_cmd_postfix": "",
     "delete_cmd_prefix": "del ",
     "library": "var_list.py",
     "varRefreshCmd": "print(var_dic_list())"
    },
    "r": {
     "delete_cmd_postfix": ") ",
     "delete_cmd_prefix": "rm(",
     "library": "var_list.r",
     "varRefreshCmd": "cat(var_dic_list()) "
    }
   },
   "types_to_exclude": [
    "module",
    "function",
    "builtin_function_or_method",
    "instance",
    "_Feature"
   ],
   "window_display": false
  }
 },
 "nbformat": 4,
 "nbformat_minor": 2
}
