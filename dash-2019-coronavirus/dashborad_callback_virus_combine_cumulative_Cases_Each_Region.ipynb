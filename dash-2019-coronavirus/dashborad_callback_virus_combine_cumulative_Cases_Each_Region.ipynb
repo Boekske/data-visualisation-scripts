{
 "cells": [
  {
   "cell_type": "code",
   "execution_count": 1,
   "metadata": {},
   "outputs": [],
   "source": [
    "import pandas as pd\n",
    "import numpy as np\n",
    "from datetime import datetime, timedelta\n",
    "import math \n",
    "import os\n",
    "\n",
    "import plotly.graph_objects as go\n",
    "from plotly.subplots import make_subplots\n",
    "\n",
    "import dash\n",
    "import dash_table\n",
    "import dash_core_components as dcc\n",
    "import dash_html_components as html \n",
    "import dash_bootstrap_components as dbc\n",
    "from dash.dependencies import Input, Output"
   ]
  },
  {
   "cell_type": "code",
   "execution_count": 175,
   "metadata": {},
   "outputs": [],
   "source": [
    "def df_for_lineplot_diff(dfs, CaseType):\n",
    "    '''This is the function for construct df for line plot'''\n",
    "    \n",
    "    assert type(CaseType) is str, \"CaseType must be one of the following three strings Confirmed/Recovered/Deaths\"\n",
    "    \n",
    "    \n",
    "    # Construct confirmed cases dataframe for line plot\n",
    "    DateList = []\n",
    "    ChinaList =[]\n",
    "    OtherList = []\n",
    "\n",
    "    for key, df in dfs.items():\n",
    "        dfTpm = df.groupby(['Country/Region'])[CaseType].agg(np.sum)\n",
    "        dfTpm = pd.DataFrame({'Region':dfTpm.index, CaseType:dfTpm.values})\n",
    "        #dfTpm = dfTpm.sort_values(by=CaseType, ascending=False).reset_index(drop=True)\n",
    "        DateList.append(df['Date_last_updated_AEDT'][0])\n",
    "        ChinaList.append(dfTpm.loc[dfTpm['Region'] == 'China', CaseType].iloc[0])\n",
    "        OtherList.append(dfTpm.loc[dfTpm['Region'] != 'China', CaseType].sum())\n",
    "\n",
    "    df = pd.DataFrame({'Date':DateList,\n",
    "                       'Mainland China':ChinaList,\n",
    "                       'Other locations':OtherList})\n",
    "    df['Total']=df['Mainland China']+df['Other locations']\n",
    "\n",
    "    # Calculate differenec in a 24-hour window\n",
    "    for index, _ in df.iterrows():\n",
    "        # Calculate the time differnece in hour\n",
    "        diff=(df['Date'][0] - df['Date'][index]).total_seconds()/3600\n",
    "        # find out the latest time after 24-hour\n",
    "        if diff >= 24:\n",
    "            break\n",
    "    plusNum = df['Total'][0] - df['Total'][index]\n",
    "    plusPercentNum = (df['Total'][0] - df['Total'][index])/df['Total'][index]\n",
    "\n",
    "    # Select the latest data from a given date\n",
    "    df['date_day']=[d.date() for d in df['Date']]\n",
    "    df=df.groupby(by=df['date_day'], sort=False).transform(max).drop_duplicates(['Date'])\n",
    "    \n",
    "    df=df.reset_index(drop=True)\n",
    "    \n",
    "    return df, plusNum, plusPercentNum "
   ]
  },
  {
   "cell_type": "code",
   "execution_count": 176,
   "metadata": {},
   "outputs": [
    {
     "name": "stdout",
     "output_type": "stream",
     "text": [
      "CPU times: user 845 ms, sys: 31 ms, total: 876 ms\n",
      "Wall time: 1.01 s\n"
     ]
    }
   ],
   "source": [
    "%%time\n",
    "################################################################################\n",
    "#### Data processing\n",
    "################################################################################\n",
    "# Method #1\n",
    "# Import csv file and store each csv in to a df list\n",
    "\n",
    "filename = os.listdir('./raw_data/')\n",
    "sheet_name = [i.replace('.csv', '') for i in filename if 'data' not in i and i.endswith('.csv')]\n",
    "sheet_name.sort(reverse=True)\n",
    "\n",
    "dfs = {sheet_name: pd.read_csv('./raw_data/{}.csv'.format(sheet_name))\n",
    "          for sheet_name in sheet_name}\n",
    "\n",
    "# Method #2\n",
    "# Import xls file and store each sheet in to a df list\n",
    "#xl_file = pd.ExcelFile('./data.xls')\n",
    "\n",
    "#dfs = {sheet_name: xl_file.parse(sheet_name) \n",
    "#          for sheet_name in xl_file.sheet_names}"
   ]
  },
  {
   "cell_type": "code",
   "execution_count": 177,
   "metadata": {},
   "outputs": [
    {
     "name": "stdout",
     "output_type": "stream",
     "text": [
      "CPU times: user 1.72 s, sys: 67 ms, total: 1.78 s\n",
      "Wall time: 2.3 s\n"
     ]
    }
   ],
   "source": [
    "%%time\n",
    "# Method #2\n",
    "# Import xls file and store each sheet in to a df list\n",
    "xl_file = pd.ExcelFile('./data.xls')\n",
    "\n",
    "dfs2 = {sheet_name: xl_file.parse(sheet_name) \n",
    "          for sheet_name in xl_file.sheet_names}"
   ]
  },
  {
   "cell_type": "code",
   "execution_count": 178,
   "metadata": {},
   "outputs": [
    {
     "name": "stdout",
     "output_type": "stream",
     "text": [
      "CPU times: user 3.91 s, sys: 84.6 ms, total: 4 s\n",
      "Wall time: 5.02 s\n"
     ]
    }
   ],
   "source": [
    "%%time\n",
    "################################################################################\n",
    "#### Data processing\n",
    "################################################################################\n",
    "# Method #1\n",
    "# Import csv file and store each csv in to a df list\n",
    "\n",
    "filename = os.listdir('./raw_data/')\n",
    "sheet_name = [i.replace('.csv', '') for i in filename if 'data' not in i and i.endswith('.csv')]\n",
    "sheet_name.sort(reverse=True)\n",
    "\n",
    "dfs = {sheet_name: pd.read_csv('./raw_data/{}.csv'.format(sheet_name))\n",
    "          for sheet_name in sheet_name}\n",
    "\n",
    "# Method #2\n",
    "# Import xls file and store each sheet in to a df list\n",
    "#xl_file = pd.ExcelFile('./data.xls')\n",
    "\n",
    "#dfs = {sheet_name: xl_file.parse(sheet_name) \n",
    "#          for sheet_name in xl_file.sheet_names}\n",
    "\n",
    "# Data from each sheet can be accessed via key\n",
    "keyList = list(dfs.keys())\n",
    "# Data cleansing\n",
    "for key, df in dfs.items():\n",
    "    dfs[key].loc[:,'Confirmed'].fillna(value=0, inplace=True)\n",
    "    dfs[key].loc[:,'Deaths'].fillna(value=0, inplace=True)\n",
    "    dfs[key].loc[:,'Recovered'].fillna(value=0, inplace=True)\n",
    "    dfs[key]=dfs[key].astype({'Confirmed':'int64', 'Deaths':'int64', 'Recovered':'int64'})\n",
    "    # Change as China for coordinate search\n",
    "    dfs[key]=dfs[key].replace({'Country/Region':'Mainland China'}, 'China')\n",
    "    # Add a zero to the date so can be convert by datetime.strptime as 0-padded date\n",
    "    dfs[key]['Last Update'] = '0' + dfs[key]['Last Update']\n",
    "    # Convert time as Australian eastern daylight time\n",
    "    dfs[key]['Date_last_updated_AEDT'] = [datetime.strptime(d, '%m/%d/%Y %H:%M') for d in dfs[key]['Last Update']]\n",
    "    dfs[key]['Date_last_updated_AEDT'] = dfs[key]['Date_last_updated_AEDT'] + timedelta(hours=16)\n",
    "    \n",
    "# Add coordinates for each area in the list for the latest table sheet\n",
    "# To save time, coordinates calling was done seperately\n",
    "# Import the data with coordinates\n",
    "dfs[keyList[0]]=pd.read_csv('{}_data.csv'.format(keyList[0]))\n",
    "dfs[keyList[0]]=dfs[keyList[0]].astype({'Date_last_updated_AEDT':'datetime64'})"
   ]
  },
  {
   "cell_type": "code",
   "execution_count": 179,
   "metadata": {},
   "outputs": [
    {
     "data": {
      "text/html": [
       "<div>\n",
       "<style scoped>\n",
       "    .dataframe tbody tr th:only-of-type {\n",
       "        vertical-align: middle;\n",
       "    }\n",
       "\n",
       "    .dataframe tbody tr th {\n",
       "        vertical-align: top;\n",
       "    }\n",
       "\n",
       "    .dataframe thead th {\n",
       "        text-align: right;\n",
       "    }\n",
       "</style>\n",
       "<table border=\"1\" class=\"dataframe\">\n",
       "  <thead>\n",
       "    <tr style=\"text-align: right;\">\n",
       "      <th></th>\n",
       "      <th>Province/State</th>\n",
       "      <th>Country/Region</th>\n",
       "      <th>Last Update</th>\n",
       "      <th>Confirmed</th>\n",
       "      <th>Deaths</th>\n",
       "      <th>Recovered</th>\n",
       "      <th>Date_last_updated_AEDT</th>\n",
       "      <th>lat</th>\n",
       "      <th>lon</th>\n",
       "    </tr>\n",
       "  </thead>\n",
       "  <tbody>\n",
       "    <tr>\n",
       "      <th>0</th>\n",
       "      <td>Hubei</td>\n",
       "      <td>China</td>\n",
       "      <td>03/12/2020 00:00</td>\n",
       "      <td>67781</td>\n",
       "      <td>3056</td>\n",
       "      <td>50298</td>\n",
       "      <td>2020-03-12 16:00:00</td>\n",
       "      <td>31.151725</td>\n",
       "      <td>112.878322</td>\n",
       "    </tr>\n",
       "    <tr>\n",
       "      <th>1</th>\n",
       "      <td>Guangdong</td>\n",
       "      <td>China</td>\n",
       "      <td>03/12/2020 00:00</td>\n",
       "      <td>1356</td>\n",
       "      <td>8</td>\n",
       "      <td>1289</td>\n",
       "      <td>2020-03-12 16:00:00</td>\n",
       "      <td>23.135769</td>\n",
       "      <td>113.198269</td>\n",
       "    </tr>\n",
       "    <tr>\n",
       "      <th>2</th>\n",
       "      <td>Zhejiang</td>\n",
       "      <td>China</td>\n",
       "      <td>03/12/2020 00:00</td>\n",
       "      <td>1215</td>\n",
       "      <td>1</td>\n",
       "      <td>1197</td>\n",
       "      <td>2020-03-12 16:00:00</td>\n",
       "      <td>29.000000</td>\n",
       "      <td>120.000000</td>\n",
       "    </tr>\n",
       "    <tr>\n",
       "      <th>3</th>\n",
       "      <td>Shandong</td>\n",
       "      <td>China</td>\n",
       "      <td>03/12/2020 00:00</td>\n",
       "      <td>760</td>\n",
       "      <td>6</td>\n",
       "      <td>733</td>\n",
       "      <td>2020-03-12 16:00:00</td>\n",
       "      <td>36.000000</td>\n",
       "      <td>119.000000</td>\n",
       "    </tr>\n",
       "    <tr>\n",
       "      <th>4</th>\n",
       "      <td>Henan</td>\n",
       "      <td>China</td>\n",
       "      <td>03/12/2020 00:00</td>\n",
       "      <td>1273</td>\n",
       "      <td>22</td>\n",
       "      <td>1249</td>\n",
       "      <td>2020-03-12 16:00:00</td>\n",
       "      <td>34.000000</td>\n",
       "      <td>114.000000</td>\n",
       "    </tr>\n",
       "    <tr>\n",
       "      <th>...</th>\n",
       "      <td>...</td>\n",
       "      <td>...</td>\n",
       "      <td>...</td>\n",
       "      <td>...</td>\n",
       "      <td>...</td>\n",
       "      <td>...</td>\n",
       "      <td>...</td>\n",
       "      <td>...</td>\n",
       "      <td>...</td>\n",
       "    </tr>\n",
       "    <tr>\n",
       "      <th>206</th>\n",
       "      <td>NaN</td>\n",
       "      <td>Mongolia</td>\n",
       "      <td>03/12/2020 00:00</td>\n",
       "      <td>1</td>\n",
       "      <td>0</td>\n",
       "      <td>0</td>\n",
       "      <td>2020-03-12 16:00:00</td>\n",
       "      <td>46.825039</td>\n",
       "      <td>103.849974</td>\n",
       "    </tr>\n",
       "    <tr>\n",
       "      <th>207</th>\n",
       "      <td>NaN</td>\n",
       "      <td>Reunion</td>\n",
       "      <td>03/12/2020 00:00</td>\n",
       "      <td>1</td>\n",
       "      <td>0</td>\n",
       "      <td>0</td>\n",
       "      <td>2020-03-12 16:00:00</td>\n",
       "      <td>-21.130933</td>\n",
       "      <td>55.526577</td>\n",
       "    </tr>\n",
       "    <tr>\n",
       "      <th>208</th>\n",
       "      <td>NaN</td>\n",
       "      <td>St. Barth</td>\n",
       "      <td>03/12/2020 00:00</td>\n",
       "      <td>1</td>\n",
       "      <td>0</td>\n",
       "      <td>0</td>\n",
       "      <td>2020-03-12 16:00:00</td>\n",
       "      <td>17.903629</td>\n",
       "      <td>-62.811569</td>\n",
       "    </tr>\n",
       "    <tr>\n",
       "      <th>209</th>\n",
       "      <td>NaN</td>\n",
       "      <td>Togo</td>\n",
       "      <td>03/12/2020 00:00</td>\n",
       "      <td>1</td>\n",
       "      <td>0</td>\n",
       "      <td>0</td>\n",
       "      <td>2020-03-12 16:00:00</td>\n",
       "      <td>8.780026</td>\n",
       "      <td>1.019976</td>\n",
       "    </tr>\n",
       "    <tr>\n",
       "      <th>210</th>\n",
       "      <td>NaN</td>\n",
       "      <td>Turkey</td>\n",
       "      <td>03/12/2020 00:00</td>\n",
       "      <td>1</td>\n",
       "      <td>0</td>\n",
       "      <td>0</td>\n",
       "      <td>2020-03-12 16:00:00</td>\n",
       "      <td>38.959759</td>\n",
       "      <td>34.924965</td>\n",
       "    </tr>\n",
       "  </tbody>\n",
       "</table>\n",
       "<p>211 rows × 9 columns</p>\n",
       "</div>"
      ],
      "text/plain": [
       "    Province/State Country/Region       Last Update  Confirmed  Deaths  \\\n",
       "0            Hubei          China  03/12/2020 00:00      67781    3056   \n",
       "1        Guangdong          China  03/12/2020 00:00       1356       8   \n",
       "2         Zhejiang          China  03/12/2020 00:00       1215       1   \n",
       "3         Shandong          China  03/12/2020 00:00        760       6   \n",
       "4            Henan          China  03/12/2020 00:00       1273      22   \n",
       "..             ...            ...               ...        ...     ...   \n",
       "206            NaN       Mongolia  03/12/2020 00:00          1       0   \n",
       "207            NaN        Reunion  03/12/2020 00:00          1       0   \n",
       "208            NaN      St. Barth  03/12/2020 00:00          1       0   \n",
       "209            NaN           Togo  03/12/2020 00:00          1       0   \n",
       "210            NaN         Turkey  03/12/2020 00:00          1       0   \n",
       "\n",
       "     Recovered Date_last_updated_AEDT        lat         lon  \n",
       "0        50298    2020-03-12 16:00:00  31.151725  112.878322  \n",
       "1         1289    2020-03-12 16:00:00  23.135769  113.198269  \n",
       "2         1197    2020-03-12 16:00:00  29.000000  120.000000  \n",
       "3          733    2020-03-12 16:00:00  36.000000  119.000000  \n",
       "4         1249    2020-03-12 16:00:00  34.000000  114.000000  \n",
       "..         ...                    ...        ...         ...  \n",
       "206          0    2020-03-12 16:00:00  46.825039  103.849974  \n",
       "207          0    2020-03-12 16:00:00 -21.130933   55.526577  \n",
       "208          0    2020-03-12 16:00:00  17.903629  -62.811569  \n",
       "209          0    2020-03-12 16:00:00   8.780026    1.019976  \n",
       "210          0    2020-03-12 16:00:00  38.959759   34.924965  \n",
       "\n",
       "[211 rows x 9 columns]"
      ]
     },
     "execution_count": 179,
     "metadata": {},
     "output_type": "execute_result"
    }
   ],
   "source": [
    "dfs[keyList[0]]"
   ]
  },
  {
   "cell_type": "code",
   "execution_count": 180,
   "metadata": {
    "scrolled": true
   },
   "outputs": [],
   "source": [
    "def make_country_table(countryName):\n",
    "    '''This is the function for building df for Province/State of a given country'''\n",
    "    countryTable = dfs[keyList[0]].loc[dfs[keyList[0]]['Country/Region'] == countryName]\n",
    "    # Suppress SettingWithCopyWarning\n",
    "    pd.options.mode.chained_assignment = None\n",
    "    countryTable['Remaining'] = countryTable['Confirmed'] - countryTable['Recovered'] - countryTable['Deaths']\n",
    "    countryTable = countryTable[['Province/State','Remaining','Confirmed','Recovered','Deaths','lat','lon']]\n",
    "    countryTable = countryTable.sort_values(by=['Remaining', 'Confirmed'], ascending=False).reset_index(drop=True)\n",
    "    # Set row ids pass to selected_row_ids\n",
    "    countryTable['id'] = countryTable['Province/State']\n",
    "    countryTable.set_index('id', inplace=True, drop=False)\n",
    "    # Turn on SettingWithCopyWarning\n",
    "    pd.options.mode.chained_assignment = 'warn'\n",
    "    return countryTable"
   ]
  },
  {
   "cell_type": "code",
   "execution_count": 181,
   "metadata": {
    "scrolled": true
   },
   "outputs": [
    {
     "name": "stdout",
     "output_type": "stream",
     "text": [
      "CPU times: user 25.6 ms, sys: 1.59 ms, total: 27.1 ms\n",
      "Wall time: 30.6 ms\n"
     ]
    }
   ],
   "source": [
    "%%time\n",
    "CNTable = make_country_table('China')\n",
    "AUSTable = make_country_table('Australia')\n",
    "USTable = make_country_table('US')\n",
    "CANTable = make_country_table('Canada')"
   ]
  },
  {
   "cell_type": "code",
   "execution_count": 182,
   "metadata": {},
   "outputs": [
    {
     "data": {
      "text/html": [
       "<div>\n",
       "<style scoped>\n",
       "    .dataframe tbody tr th:only-of-type {\n",
       "        vertical-align: middle;\n",
       "    }\n",
       "\n",
       "    .dataframe tbody tr th {\n",
       "        vertical-align: top;\n",
       "    }\n",
       "\n",
       "    .dataframe thead th {\n",
       "        text-align: right;\n",
       "    }\n",
       "</style>\n",
       "<table border=\"1\" class=\"dataframe\">\n",
       "  <thead>\n",
       "    <tr style=\"text-align: right;\">\n",
       "      <th></th>\n",
       "      <th>Province/State</th>\n",
       "      <th>Remaining</th>\n",
       "      <th>Confirmed</th>\n",
       "      <th>Recovered</th>\n",
       "      <th>Deaths</th>\n",
       "      <th>lat</th>\n",
       "      <th>lon</th>\n",
       "      <th>id</th>\n",
       "    </tr>\n",
       "    <tr>\n",
       "      <th>id</th>\n",
       "      <th></th>\n",
       "      <th></th>\n",
       "      <th></th>\n",
       "      <th></th>\n",
       "      <th></th>\n",
       "      <th></th>\n",
       "      <th></th>\n",
       "      <th></th>\n",
       "    </tr>\n",
       "  </thead>\n",
       "  <tbody>\n",
       "    <tr>\n",
       "      <th>British Columbia</th>\n",
       "      <td>British Columbia</td>\n",
       "      <td>42</td>\n",
       "      <td>46</td>\n",
       "      <td>3</td>\n",
       "      <td>1</td>\n",
       "      <td>55.001251</td>\n",
       "      <td>-125.002441</td>\n",
       "      <td>British Columbia</td>\n",
       "    </tr>\n",
       "    <tr>\n",
       "      <th>Ontario</th>\n",
       "      <td>Ontario</td>\n",
       "      <td>39</td>\n",
       "      <td>42</td>\n",
       "      <td>3</td>\n",
       "      <td>0</td>\n",
       "      <td>50.000678</td>\n",
       "      <td>-86.000977</td>\n",
       "      <td>Ontario</td>\n",
       "    </tr>\n",
       "    <tr>\n",
       "      <th>Alberta</th>\n",
       "      <td>Alberta</td>\n",
       "      <td>19</td>\n",
       "      <td>19</td>\n",
       "      <td>0</td>\n",
       "      <td>0</td>\n",
       "      <td>55.001251</td>\n",
       "      <td>-115.002136</td>\n",
       "      <td>Alberta</td>\n",
       "    </tr>\n",
       "    <tr>\n",
       "      <th>Quebec</th>\n",
       "      <td>Quebec</td>\n",
       "      <td>9</td>\n",
       "      <td>9</td>\n",
       "      <td>0</td>\n",
       "      <td>0</td>\n",
       "      <td>52.476089</td>\n",
       "      <td>-71.825867</td>\n",
       "      <td>Quebec</td>\n",
       "    </tr>\n",
       "    <tr>\n",
       "      <th>New Brunswick</th>\n",
       "      <td>New Brunswick</td>\n",
       "      <td>1</td>\n",
       "      <td>1</td>\n",
       "      <td>0</td>\n",
       "      <td>0</td>\n",
       "      <td>46.500283</td>\n",
       "      <td>-66.750183</td>\n",
       "      <td>New Brunswick</td>\n",
       "    </tr>\n",
       "  </tbody>\n",
       "</table>\n",
       "</div>"
      ],
      "text/plain": [
       "                    Province/State  Remaining  Confirmed  Recovered  Deaths  \\\n",
       "id                                                                            \n",
       "British Columbia  British Columbia         42         46          3       1   \n",
       "Ontario                    Ontario         39         42          3       0   \n",
       "Alberta                    Alberta         19         19          0       0   \n",
       "Quebec                      Quebec          9          9          0       0   \n",
       "New Brunswick        New Brunswick          1          1          0       0   \n",
       "\n",
       "                        lat         lon                id  \n",
       "id                                                         \n",
       "British Columbia  55.001251 -125.002441  British Columbia  \n",
       "Ontario           50.000678  -86.000977           Ontario  \n",
       "Alberta           55.001251 -115.002136           Alberta  \n",
       "Quebec            52.476089  -71.825867            Quebec  \n",
       "New Brunswick     46.500283  -66.750183     New Brunswick  "
      ]
     },
     "execution_count": 182,
     "metadata": {},
     "output_type": "execute_result"
    }
   ],
   "source": [
    "CANTable"
   ]
  },
  {
   "cell_type": "code",
   "execution_count": 183,
   "metadata": {},
   "outputs": [
    {
     "name": "stdout",
     "output_type": "stream",
     "text": [
      "CPU times: user 4.17 s, sys: 31.7 ms, total: 4.21 s\n",
      "Wall time: 4.49 s\n"
     ]
    },
    {
     "data": {
      "application/vnd.plotly.v1+json": {
       "config": {
        "plotlyServerURL": "https://plot.ly"
       },
       "data": [
        {
         "hovertemplate": "<b>%{text}</b><br></br>%{hovertext}<extra></extra>",
         "hovertext": [
          "Mainland China death rate<br>3.92%",
          "Mainland China death rate<br>3.91%",
          "Mainland China death rate<br>3.88%",
          "Mainland China death rate<br>3.86%",
          "Mainland China death rate<br>3.84%",
          "Mainland China death rate<br>3.81%",
          "Mainland China death rate<br>3.78%",
          "Mainland China death rate<br>3.75%",
          "Mainland China death rate<br>3.71%",
          "Mainland China death rate<br>3.67%",
          "Mainland China death rate<br>3.64%",
          "Mainland China death rate<br>3.60%",
          "Mainland China death rate<br>3.58%",
          "Mainland China death rate<br>3.54%",
          "Mainland China death rate<br>3.50%",
          "Mainland China death rate<br>3.48%",
          "Mainland China death rate<br>3.43%",
          "Mainland China death rate<br>3.36%",
          "Mainland China death rate<br>3.17%",
          "Mainland China death rate<br>3.07%",
          "Mainland China death rate<br>2.97%",
          "Mainland China death rate<br>2.84%",
          "Mainland China death rate<br>2.70%",
          "Mainland China death rate<br>2.58%",
          "Mainland China death rate<br>2.51%",
          "Mainland China death rate<br>2.43%",
          "Mainland China death rate<br>2.29%",
          "Mainland China death rate<br>2.16%",
          "Mainland China death rate<br>2.29%",
          "Mainland China death rate<br>2.49%",
          "Mainland China death rate<br>2.38%",
          "Mainland China death rate<br>2.26%",
          "Mainland China death rate<br>2.18%",
          "Mainland China death rate<br>2.09%",
          "Mainland China death rate<br>2.04%",
          "Mainland China death rate<br>2.00%",
          "Mainland China death rate<br>2.02%",
          "Mainland China death rate<br>2.07%",
          "Mainland China death rate<br>2.09%",
          "Mainland China death rate<br>2.10%",
          "Mainland China death rate<br>2.31%",
          "Mainland China death rate<br>2.21%",
          "Mainland China death rate<br>2.21%",
          "Mainland China death rate<br>2.21%",
          "Mainland China death rate<br>2.43%",
          "Mainland China death rate<br>2.92%",
          "Mainland China death rate<br>2.83%",
          "Mainland China death rate<br>3.11%",
          "Mainland China death rate<br>3.01%",
          "Mainland China death rate<br>2.82%",
          "Mainland China death rate<br>3.10%",
          "Mainland China death rate<br>1.83%"
         ],
         "line": {
          "color": "#626262",
          "shape": "spline",
          "width": 4
         },
         "marker": {
          "color": "#f4f4f2",
          "line": {
           "color": "#626262",
           "width": 1
          },
          "size": 4
         },
         "mode": "lines+markers",
         "name": "Mainland China",
         "text": [
          "Mar 12 2020 AEDT",
          "Mar 11 2020 AEDT",
          "Mar 10 2020 AEDT",
          "Mar 09 2020 AEDT",
          "Mar 08 2020 AEDT",
          "Mar 07 2020 AEDT",
          "Mar 06 2020 AEDT",
          "Mar 05 2020 AEDT",
          "Mar 04 2020 AEDT",
          "Mar 03 2020 AEDT",
          "Mar 02 2020 AEDT",
          "Mar 01 2020 AEDT",
          "Feb 29 2020 AEDT",
          "Feb 28 2020 AEDT",
          "Feb 27 2020 AEDT",
          "Feb 26 2020 AEDT",
          "Feb 25 2020 AEDT",
          "Feb 24 2020 AEDT",
          "Feb 23 2020 AEDT",
          "Feb 22 2020 AEDT",
          "Feb 21 2020 AEDT",
          "Feb 20 2020 AEDT",
          "Feb 19 2020 AEDT",
          "Feb 18 2020 AEDT",
          "Feb 17 2020 AEDT",
          "Feb 16 2020 AEDT",
          "Feb 15 2020 AEDT",
          "Feb 14 2020 AEDT",
          "Feb 13 2020 AEDT",
          "Feb 12 2020 AEDT",
          "Feb 11 2020 AEDT",
          "Feb 10 2020 AEDT",
          "Feb 09 2020 AEDT",
          "Feb 08 2020 AEDT",
          "Feb 07 2020 AEDT",
          "Feb 06 2020 AEDT",
          "Feb 05 2020 AEDT",
          "Feb 04 2020 AEDT",
          "Feb 03 2020 AEDT",
          "Feb 02 2020 AEDT",
          "Feb 01 2020 AEDT",
          "Jan 31 2020 AEDT",
          "Jan 30 2020 AEDT",
          "Jan 29 2020 AEDT",
          "Jan 28 2020 AEDT",
          "Jan 27 2020 AEDT",
          "Jan 26 2020 AEDT",
          "Jan 25 2020 AEDT",
          "Jan 24 2020 AEDT",
          "Jan 23 2020 AEDT",
          "Jan 22 2020 AEDT",
          "Jan 21 2020 AEDT"
         ],
         "type": "scatter",
         "x": [
          "2020-03-12T16:00:00",
          "2020-03-11T22:00:00",
          "2020-03-10T22:00:00",
          "2020-03-09T22:00:00",
          "2020-03-08T22:00:00",
          "2020-03-07T22:00:00",
          "2020-03-06T22:00:00",
          "2020-03-05T22:00:00",
          "2020-03-04T22:00:00",
          "2020-03-03T22:00:00",
          "2020-03-02T22:00:00",
          "2020-03-01T22:00:00",
          "2020-02-29T22:00:00",
          "2020-02-28T22:00:00",
          "2020-02-27T22:00:00",
          "2020-02-26T22:00:00",
          "2020-02-25T22:00:00",
          "2020-02-24T22:00:00",
          "2020-02-23T22:00:00",
          "2020-02-22T22:00:00",
          "2020-02-21T22:00:00",
          "2020-02-20T22:00:00",
          "2020-02-19T22:00:00",
          "2020-02-18T22:00:00",
          "2020-02-17T22:00:00",
          "2020-02-16T22:00:00",
          "2020-02-15T22:00:00",
          "2020-02-14T22:00:00",
          "2020-02-13T22:00:00",
          "2020-02-12T22:00:00",
          "2020-02-11T21:30:00",
          "2020-02-10T22:00:00",
          "2020-02-09T22:00:00",
          "2020-02-08T22:00:00",
          "2020-02-07T22:00:00",
          "2020-02-06T22:00:00",
          "2020-02-05T22:00:00",
          "2020-02-04T21:00:00",
          "2020-02-03T21:00:00",
          "2020-02-02T21:00:00",
          "2020-02-01T11:00:00",
          "2020-01-31T13:30:00",
          "2020-01-30T13:00:00",
          "2020-01-29T15:00:00",
          "2020-01-28T12:30:00",
          "2020-01-27T15:00:00",
          "2020-01-26T14:00:00",
          "2020-01-25T16:00:00",
          "2020-01-24T16:00:00",
          "2020-01-23T16:00:00",
          "2020-01-22T16:00:00",
          "2020-01-21T16:00:00"
         ],
         "y": [
          3.92246661137998,
          3.9094803040431803,
          3.8833989647571636,
          3.8632563324456553,
          3.837908172749241,
          3.806524407632887,
          3.7764894290573676,
          3.745895930753159,
          3.713901278249819,
          3.6718194408054794,
          3.6388173843500864,
          3.595454944063741,
          3.577241927546656,
          3.536993808992185,
          3.4956749939488136,
          3.477915556466489,
          3.429049703837239,
          3.359688917692806,
          3.1740667567848604,
          3.0737570617766186,
          2.971547038420136,
          2.839979618654295,
          2.704087134692117,
          2.5787570059913305,
          2.508752285515853,
          2.4304085713868653,
          2.2903633301251203,
          2.1624753374463688,
          2.2851125004179065,
          2.493006601767931,
          2.381733789676028,
          2.25898743624829,
          2.181036798280956,
          2.0890519806986623,
          2.0393112514829896,
          2.0046288054121417,
          2.017633791265122,
          2.0748913733339847,
          2.0864639926020114,
          2.1036606463220537,
          2.30817217716781,
          2.205425553944916,
          2.2141182599635325,
          2.21105527638191,
          2.4268541619414834,
          2.9229082937522834,
          2.829711975745326,
          3.106060606060606,
          3.005780346820809,
          2.8169014084507045,
          3.096539162112933,
          1.834862385321101
         ]
        },
        {
         "hovertemplate": "<b>%{text}</b><br></br>%{hovertext}<extra></extra>",
         "hovertext": [
          "Other region death rate<br>3.21%",
          "Other region death rate<br>3.03%",
          "Other region death rate<br>2.64%",
          "Other region death rate<br>2.47%",
          "Other region death rate<br>2.08%",
          "Other region death rate<br>1.96%",
          "Other region death rate<br>1.88%",
          "Other region death rate<br>1.82%",
          "Other region death rate<br>1.67%",
          "Other region death rate<br>1.53%",
          "Other region death rate<br>1.59%",
          "Other region death rate<br>1.52%",
          "Other region death rate<br>1.53%",
          "Other region death rate<br>1.57%",
          "Other region death rate<br>1.62%",
          "Other region death rate<br>1.71%",
          "Other region death rate<br>1.61%",
          "Other region death rate<br>1.40%",
          "Other region death rate<br>1.18%",
          "Other region death rate<br>1.04%",
          "Other region death rate<br>0.97%",
          "Other region death rate<br>0.93%",
          "Other region death rate<br>0.54%",
          "Other region death rate<br>0.51%",
          "Other region death rate<br>0.56%",
          "Other region death rate<br>0.52%",
          "Other region death rate<br>0.58%",
          "Other region death rate<br>0.51%",
          "Other region death rate<br>0.35%",
          "Other region death rate<br>0.38%",
          "Other region death rate<br>0.42%",
          "Other region death rate<br>0.44%",
          "Other region death rate<br>0.54%",
          "Other region death rate<br>0.58%",
          "Other region death rate<br>0.62%",
          "Other region death rate<br>0.76%",
          "Other region death rate<br>0.87%",
          "Other region death rate<br>1.03%",
          "Other region death rate<br>0.55%",
          "Other region death rate<br>0.56%",
          "Other region death rate<br>0.00%",
          "Other region death rate<br>0.00%",
          "Other region death rate<br>0.00%",
          "Other region death rate<br>0.00%",
          "Other region death rate<br>0.00%",
          "Other region death rate<br>0.00%",
          "Other region death rate<br>0.00%",
          "Other region death rate<br>0.00%",
          "Other region death rate<br>0.00%",
          "Other region death rate<br>0.00%",
          "Other region death rate<br>0.00%",
          "Other region death rate<br>0.00%"
         ],
         "line": {
          "color": "#a7a7a7",
          "shape": "spline",
          "width": 4
         },
         "marker": {
          "color": "#f4f4f2",
          "line": {
           "color": "#a7a7a7",
           "width": 1
          },
          "size": 4
         },
         "mode": "lines+markers",
         "name": "Other Region",
         "text": [
          "Mar 12 2020 AEDT",
          "Mar 11 2020 AEDT",
          "Mar 10 2020 AEDT",
          "Mar 09 2020 AEDT",
          "Mar 08 2020 AEDT",
          "Mar 07 2020 AEDT",
          "Mar 06 2020 AEDT",
          "Mar 05 2020 AEDT",
          "Mar 04 2020 AEDT",
          "Mar 03 2020 AEDT",
          "Mar 02 2020 AEDT",
          "Mar 01 2020 AEDT",
          "Feb 29 2020 AEDT",
          "Feb 28 2020 AEDT",
          "Feb 27 2020 AEDT",
          "Feb 26 2020 AEDT",
          "Feb 25 2020 AEDT",
          "Feb 24 2020 AEDT",
          "Feb 23 2020 AEDT",
          "Feb 22 2020 AEDT",
          "Feb 21 2020 AEDT",
          "Feb 20 2020 AEDT",
          "Feb 19 2020 AEDT",
          "Feb 18 2020 AEDT",
          "Feb 17 2020 AEDT",
          "Feb 16 2020 AEDT",
          "Feb 15 2020 AEDT",
          "Feb 14 2020 AEDT",
          "Feb 13 2020 AEDT",
          "Feb 12 2020 AEDT",
          "Feb 11 2020 AEDT",
          "Feb 10 2020 AEDT",
          "Feb 09 2020 AEDT",
          "Feb 08 2020 AEDT",
          "Feb 07 2020 AEDT",
          "Feb 06 2020 AEDT",
          "Feb 05 2020 AEDT",
          "Feb 04 2020 AEDT",
          "Feb 03 2020 AEDT",
          "Feb 02 2020 AEDT",
          "Feb 01 2020 AEDT",
          "Jan 31 2020 AEDT",
          "Jan 30 2020 AEDT",
          "Jan 29 2020 AEDT",
          "Jan 28 2020 AEDT",
          "Jan 27 2020 AEDT",
          "Jan 26 2020 AEDT",
          "Jan 25 2020 AEDT",
          "Jan 24 2020 AEDT",
          "Jan 23 2020 AEDT",
          "Jan 22 2020 AEDT",
          "Jan 21 2020 AEDT"
         ],
         "type": "scatter",
         "x": [
          "2020-03-12T16:00:00",
          "2020-03-11T22:00:00",
          "2020-03-10T22:00:00",
          "2020-03-09T22:00:00",
          "2020-03-08T22:00:00",
          "2020-03-07T22:00:00",
          "2020-03-06T22:00:00",
          "2020-03-05T22:00:00",
          "2020-03-04T22:00:00",
          "2020-03-03T22:00:00",
          "2020-03-02T22:00:00",
          "2020-03-01T22:00:00",
          "2020-02-29T22:00:00",
          "2020-02-28T22:00:00",
          "2020-02-27T22:00:00",
          "2020-02-26T22:00:00",
          "2020-02-25T22:00:00",
          "2020-02-24T22:00:00",
          "2020-02-23T22:00:00",
          "2020-02-22T22:00:00",
          "2020-02-21T22:00:00",
          "2020-02-20T22:00:00",
          "2020-02-19T22:00:00",
          "2020-02-18T22:00:00",
          "2020-02-17T22:00:00",
          "2020-02-16T22:00:00",
          "2020-02-15T22:00:00",
          "2020-02-14T22:00:00",
          "2020-02-13T22:00:00",
          "2020-02-12T22:00:00",
          "2020-02-11T21:30:00",
          "2020-02-10T22:00:00",
          "2020-02-09T22:00:00",
          "2020-02-08T22:00:00",
          "2020-02-07T22:00:00",
          "2020-02-06T22:00:00",
          "2020-02-05T22:00:00",
          "2020-02-04T21:00:00",
          "2020-02-03T21:00:00",
          "2020-02-02T21:00:00",
          "2020-02-01T11:00:00",
          "2020-01-31T13:30:00",
          "2020-01-30T13:00:00",
          "2020-01-29T15:00:00",
          "2020-01-28T12:30:00",
          "2020-01-27T15:00:00",
          "2020-01-26T14:00:00",
          "2020-01-25T16:00:00",
          "2020-01-24T16:00:00",
          "2020-01-23T16:00:00",
          "2020-01-22T16:00:00",
          "2020-01-21T16:00:00"
         ],
         "y": [
          3.2127103952248235,
          3.029922683000301,
          2.635380125578516,
          2.4688932547478717,
          2.07909604519774,
          1.9550653967096567,
          1.8833006749401262,
          1.8209408194233687,
          1.670680313064419,
          1.5302727877578177,
          1.5907224958949098,
          1.5221337801982964,
          1.5262420183771999,
          1.5687053216838762,
          1.6245938515371157,
          1.7104846373139058,
          1.6122984626921637,
          1.3983050847457628,
          1.1806981519507187,
          1.040391676866585,
          0.9723261032161555,
          0.9298393913778529,
          0.5424954792043399,
          0.5070993914807302,
          0.562429696287964,
          0.5161290322580645,
          0.5805515239477503,
          0.5076142131979695,
          0.34965034965034963,
          0.38314176245210724,
          0.42283298097251587,
          0.4424778761061947,
          0.5405405405405406,
          0.5763688760806917,
          0.6230529595015576,
          0.7604562737642585,
          0.8658008658008658,
          1.0309278350515463,
          0.5524861878453038,
          0.5649717514124294,
          0,
          0,
          0,
          0,
          0,
          0,
          0,
          0,
          0,
          0,
          0,
          0
         ]
        }
       ],
       "layout": {
        "font": {
         "color": "#292929"
        },
        "hovermode": "x",
        "legend": {
         "orientation": "h"
        },
        "margin": {
         "b": 10,
         "l": 10,
         "pad": 0,
         "r": 10,
         "t": 5
        },
        "paper_bgcolor": "#cbd2d3",
        "plot_bgcolor": "#f4f4f2",
        "template": {
         "data": {
          "bar": [
           {
            "error_x": {
             "color": "#2a3f5f"
            },
            "error_y": {
             "color": "#2a3f5f"
            },
            "marker": {
             "line": {
              "color": "#E5ECF6",
              "width": 0.5
             }
            },
            "type": "bar"
           }
          ],
          "barpolar": [
           {
            "marker": {
             "line": {
              "color": "#E5ECF6",
              "width": 0.5
             }
            },
            "type": "barpolar"
           }
          ],
          "carpet": [
           {
            "aaxis": {
             "endlinecolor": "#2a3f5f",
             "gridcolor": "white",
             "linecolor": "white",
             "minorgridcolor": "white",
             "startlinecolor": "#2a3f5f"
            },
            "baxis": {
             "endlinecolor": "#2a3f5f",
             "gridcolor": "white",
             "linecolor": "white",
             "minorgridcolor": "white",
             "startlinecolor": "#2a3f5f"
            },
            "type": "carpet"
           }
          ],
          "choropleth": [
           {
            "colorbar": {
             "outlinewidth": 0,
             "ticks": ""
            },
            "type": "choropleth"
           }
          ],
          "contour": [
           {
            "colorbar": {
             "outlinewidth": 0,
             "ticks": ""
            },
            "colorscale": [
             [
              0,
              "#0d0887"
             ],
             [
              0.1111111111111111,
              "#46039f"
             ],
             [
              0.2222222222222222,
              "#7201a8"
             ],
             [
              0.3333333333333333,
              "#9c179e"
             ],
             [
              0.4444444444444444,
              "#bd3786"
             ],
             [
              0.5555555555555556,
              "#d8576b"
             ],
             [
              0.6666666666666666,
              "#ed7953"
             ],
             [
              0.7777777777777778,
              "#fb9f3a"
             ],
             [
              0.8888888888888888,
              "#fdca26"
             ],
             [
              1,
              "#f0f921"
             ]
            ],
            "type": "contour"
           }
          ],
          "contourcarpet": [
           {
            "colorbar": {
             "outlinewidth": 0,
             "ticks": ""
            },
            "type": "contourcarpet"
           }
          ],
          "heatmap": [
           {
            "colorbar": {
             "outlinewidth": 0,
             "ticks": ""
            },
            "colorscale": [
             [
              0,
              "#0d0887"
             ],
             [
              0.1111111111111111,
              "#46039f"
             ],
             [
              0.2222222222222222,
              "#7201a8"
             ],
             [
              0.3333333333333333,
              "#9c179e"
             ],
             [
              0.4444444444444444,
              "#bd3786"
             ],
             [
              0.5555555555555556,
              "#d8576b"
             ],
             [
              0.6666666666666666,
              "#ed7953"
             ],
             [
              0.7777777777777778,
              "#fb9f3a"
             ],
             [
              0.8888888888888888,
              "#fdca26"
             ],
             [
              1,
              "#f0f921"
             ]
            ],
            "type": "heatmap"
           }
          ],
          "heatmapgl": [
           {
            "colorbar": {
             "outlinewidth": 0,
             "ticks": ""
            },
            "colorscale": [
             [
              0,
              "#0d0887"
             ],
             [
              0.1111111111111111,
              "#46039f"
             ],
             [
              0.2222222222222222,
              "#7201a8"
             ],
             [
              0.3333333333333333,
              "#9c179e"
             ],
             [
              0.4444444444444444,
              "#bd3786"
             ],
             [
              0.5555555555555556,
              "#d8576b"
             ],
             [
              0.6666666666666666,
              "#ed7953"
             ],
             [
              0.7777777777777778,
              "#fb9f3a"
             ],
             [
              0.8888888888888888,
              "#fdca26"
             ],
             [
              1,
              "#f0f921"
             ]
            ],
            "type": "heatmapgl"
           }
          ],
          "histogram": [
           {
            "marker": {
             "colorbar": {
              "outlinewidth": 0,
              "ticks": ""
             }
            },
            "type": "histogram"
           }
          ],
          "histogram2d": [
           {
            "colorbar": {
             "outlinewidth": 0,
             "ticks": ""
            },
            "colorscale": [
             [
              0,
              "#0d0887"
             ],
             [
              0.1111111111111111,
              "#46039f"
             ],
             [
              0.2222222222222222,
              "#7201a8"
             ],
             [
              0.3333333333333333,
              "#9c179e"
             ],
             [
              0.4444444444444444,
              "#bd3786"
             ],
             [
              0.5555555555555556,
              "#d8576b"
             ],
             [
              0.6666666666666666,
              "#ed7953"
             ],
             [
              0.7777777777777778,
              "#fb9f3a"
             ],
             [
              0.8888888888888888,
              "#fdca26"
             ],
             [
              1,
              "#f0f921"
             ]
            ],
            "type": "histogram2d"
           }
          ],
          "histogram2dcontour": [
           {
            "colorbar": {
             "outlinewidth": 0,
             "ticks": ""
            },
            "colorscale": [
             [
              0,
              "#0d0887"
             ],
             [
              0.1111111111111111,
              "#46039f"
             ],
             [
              0.2222222222222222,
              "#7201a8"
             ],
             [
              0.3333333333333333,
              "#9c179e"
             ],
             [
              0.4444444444444444,
              "#bd3786"
             ],
             [
              0.5555555555555556,
              "#d8576b"
             ],
             [
              0.6666666666666666,
              "#ed7953"
             ],
             [
              0.7777777777777778,
              "#fb9f3a"
             ],
             [
              0.8888888888888888,
              "#fdca26"
             ],
             [
              1,
              "#f0f921"
             ]
            ],
            "type": "histogram2dcontour"
           }
          ],
          "mesh3d": [
           {
            "colorbar": {
             "outlinewidth": 0,
             "ticks": ""
            },
            "type": "mesh3d"
           }
          ],
          "parcoords": [
           {
            "line": {
             "colorbar": {
              "outlinewidth": 0,
              "ticks": ""
             }
            },
            "type": "parcoords"
           }
          ],
          "pie": [
           {
            "automargin": true,
            "type": "pie"
           }
          ],
          "scatter": [
           {
            "marker": {
             "colorbar": {
              "outlinewidth": 0,
              "ticks": ""
             }
            },
            "type": "scatter"
           }
          ],
          "scatter3d": [
           {
            "line": {
             "colorbar": {
              "outlinewidth": 0,
              "ticks": ""
             }
            },
            "marker": {
             "colorbar": {
              "outlinewidth": 0,
              "ticks": ""
             }
            },
            "type": "scatter3d"
           }
          ],
          "scattercarpet": [
           {
            "marker": {
             "colorbar": {
              "outlinewidth": 0,
              "ticks": ""
             }
            },
            "type": "scattercarpet"
           }
          ],
          "scattergeo": [
           {
            "marker": {
             "colorbar": {
              "outlinewidth": 0,
              "ticks": ""
             }
            },
            "type": "scattergeo"
           }
          ],
          "scattergl": [
           {
            "marker": {
             "colorbar": {
              "outlinewidth": 0,
              "ticks": ""
             }
            },
            "type": "scattergl"
           }
          ],
          "scattermapbox": [
           {
            "marker": {
             "colorbar": {
              "outlinewidth": 0,
              "ticks": ""
             }
            },
            "type": "scattermapbox"
           }
          ],
          "scatterpolar": [
           {
            "marker": {
             "colorbar": {
              "outlinewidth": 0,
              "ticks": ""
             }
            },
            "type": "scatterpolar"
           }
          ],
          "scatterpolargl": [
           {
            "marker": {
             "colorbar": {
              "outlinewidth": 0,
              "ticks": ""
             }
            },
            "type": "scatterpolargl"
           }
          ],
          "scatterternary": [
           {
            "marker": {
             "colorbar": {
              "outlinewidth": 0,
              "ticks": ""
             }
            },
            "type": "scatterternary"
           }
          ],
          "surface": [
           {
            "colorbar": {
             "outlinewidth": 0,
             "ticks": ""
            },
            "colorscale": [
             [
              0,
              "#0d0887"
             ],
             [
              0.1111111111111111,
              "#46039f"
             ],
             [
              0.2222222222222222,
              "#7201a8"
             ],
             [
              0.3333333333333333,
              "#9c179e"
             ],
             [
              0.4444444444444444,
              "#bd3786"
             ],
             [
              0.5555555555555556,
              "#d8576b"
             ],
             [
              0.6666666666666666,
              "#ed7953"
             ],
             [
              0.7777777777777778,
              "#fb9f3a"
             ],
             [
              0.8888888888888888,
              "#fdca26"
             ],
             [
              1,
              "#f0f921"
             ]
            ],
            "type": "surface"
           }
          ],
          "table": [
           {
            "cells": {
             "fill": {
              "color": "#EBF0F8"
             },
             "line": {
              "color": "white"
             }
            },
            "header": {
             "fill": {
              "color": "#C8D4E3"
             },
             "line": {
              "color": "white"
             }
            },
            "type": "table"
           }
          ]
         },
         "layout": {
          "annotationdefaults": {
           "arrowcolor": "#2a3f5f",
           "arrowhead": 0,
           "arrowwidth": 1
          },
          "coloraxis": {
           "colorbar": {
            "outlinewidth": 0,
            "ticks": ""
           }
          },
          "colorscale": {
           "diverging": [
            [
             0,
             "#8e0152"
            ],
            [
             0.1,
             "#c51b7d"
            ],
            [
             0.2,
             "#de77ae"
            ],
            [
             0.3,
             "#f1b6da"
            ],
            [
             0.4,
             "#fde0ef"
            ],
            [
             0.5,
             "#f7f7f7"
            ],
            [
             0.6,
             "#e6f5d0"
            ],
            [
             0.7,
             "#b8e186"
            ],
            [
             0.8,
             "#7fbc41"
            ],
            [
             0.9,
             "#4d9221"
            ],
            [
             1,
             "#276419"
            ]
           ],
           "sequential": [
            [
             0,
             "#0d0887"
            ],
            [
             0.1111111111111111,
             "#46039f"
            ],
            [
             0.2222222222222222,
             "#7201a8"
            ],
            [
             0.3333333333333333,
             "#9c179e"
            ],
            [
             0.4444444444444444,
             "#bd3786"
            ],
            [
             0.5555555555555556,
             "#d8576b"
            ],
            [
             0.6666666666666666,
             "#ed7953"
            ],
            [
             0.7777777777777778,
             "#fb9f3a"
            ],
            [
             0.8888888888888888,
             "#fdca26"
            ],
            [
             1,
             "#f0f921"
            ]
           ],
           "sequentialminus": [
            [
             0,
             "#0d0887"
            ],
            [
             0.1111111111111111,
             "#46039f"
            ],
            [
             0.2222222222222222,
             "#7201a8"
            ],
            [
             0.3333333333333333,
             "#9c179e"
            ],
            [
             0.4444444444444444,
             "#bd3786"
            ],
            [
             0.5555555555555556,
             "#d8576b"
            ],
            [
             0.6666666666666666,
             "#ed7953"
            ],
            [
             0.7777777777777778,
             "#fb9f3a"
            ],
            [
             0.8888888888888888,
             "#fdca26"
            ],
            [
             1,
             "#f0f921"
            ]
           ]
          },
          "colorway": [
           "#636efa",
           "#EF553B",
           "#00cc96",
           "#ab63fa",
           "#FFA15A",
           "#19d3f3",
           "#FF6692",
           "#B6E880",
           "#FF97FF",
           "#FECB52"
          ],
          "font": {
           "color": "#2a3f5f"
          },
          "geo": {
           "bgcolor": "white",
           "lakecolor": "white",
           "landcolor": "#E5ECF6",
           "showlakes": true,
           "showland": true,
           "subunitcolor": "white"
          },
          "hoverlabel": {
           "align": "left"
          },
          "hovermode": "closest",
          "mapbox": {
           "style": "light"
          },
          "paper_bgcolor": "white",
          "plot_bgcolor": "#E5ECF6",
          "polar": {
           "angularaxis": {
            "gridcolor": "white",
            "linecolor": "white",
            "ticks": ""
           },
           "bgcolor": "#E5ECF6",
           "radialaxis": {
            "gridcolor": "white",
            "linecolor": "white",
            "ticks": ""
           }
          },
          "scene": {
           "xaxis": {
            "backgroundcolor": "#E5ECF6",
            "gridcolor": "white",
            "gridwidth": 2,
            "linecolor": "white",
            "showbackground": true,
            "ticks": "",
            "zerolinecolor": "white"
           },
           "yaxis": {
            "backgroundcolor": "#E5ECF6",
            "gridcolor": "white",
            "gridwidth": 2,
            "linecolor": "white",
            "showbackground": true,
            "ticks": "",
            "zerolinecolor": "white"
           },
           "zaxis": {
            "backgroundcolor": "#E5ECF6",
            "gridcolor": "white",
            "gridwidth": 2,
            "linecolor": "white",
            "showbackground": true,
            "ticks": "",
            "zerolinecolor": "white"
           }
          },
          "shapedefaults": {
           "line": {
            "color": "#2a3f5f"
           }
          },
          "ternary": {
           "aaxis": {
            "gridcolor": "white",
            "linecolor": "white",
            "ticks": ""
           },
           "baxis": {
            "gridcolor": "white",
            "linecolor": "white",
            "ticks": ""
           },
           "bgcolor": "#E5ECF6",
           "caxis": {
            "gridcolor": "white",
            "linecolor": "white",
            "ticks": ""
           }
          },
          "title": {
           "x": 0.05
          },
          "xaxis": {
           "automargin": true,
           "gridcolor": "white",
           "linecolor": "white",
           "ticks": "",
           "title": {
            "standoff": 15
           },
           "zerolinecolor": "white",
           "zerolinewidth": 2
          },
          "yaxis": {
           "automargin": true,
           "gridcolor": "white",
           "linecolor": "white",
           "ticks": "",
           "title": {
            "standoff": 15
           },
           "zerolinecolor": "white",
           "zerolinewidth": 2
          }
         }
        },
        "xaxis": {
         "gridcolor": "rgba(203, 210, 211,.3)",
         "gridwidth": 0.1,
         "linecolor": "#272e3e",
         "showgrid": false,
         "showline": false,
         "tickformat": "%b %d",
         "zeroline": false
        },
        "yaxis": {
         "gridcolor": "rgba(203, 210, 211,.3)",
         "gridwidth": 0.1,
         "linecolor": "#272e3e",
         "showline": false,
         "tickmode": "array",
         "ticktext": [
          "0.0",
          "0.5",
          "1.0",
          "1.5",
          "2.0",
          "2.5",
          "3.0",
          "3.5"
         ],
         "tickvals": [
          0,
          0.5,
          1,
          1.5,
          2,
          2.5,
          3,
          3.5
         ],
         "zeroline": false
        }
       }
      },
      "text/html": [
       "<div>\n",
       "        \n",
       "        \n",
       "            <div id=\"68d6ab04-7ab0-4689-af77-555bc6e3c709\" class=\"plotly-graph-div\" style=\"height:525px; width:100%;\"></div>\n",
       "            <script type=\"text/javascript\">\n",
       "                require([\"plotly\"], function(Plotly) {\n",
       "                    window.PLOTLYENV=window.PLOTLYENV || {};\n",
       "                    \n",
       "                if (document.getElementById(\"68d6ab04-7ab0-4689-af77-555bc6e3c709\")) {\n",
       "                    Plotly.newPlot(\n",
       "                        '68d6ab04-7ab0-4689-af77-555bc6e3c709',\n",
       "                        [{\"hovertemplate\": \"<b>%{text}</b><br></br>%{hovertext}<extra></extra>\", \"hovertext\": [\"Mainland China death rate<br>3.92%\", \"Mainland China death rate<br>3.91%\", \"Mainland China death rate<br>3.88%\", \"Mainland China death rate<br>3.86%\", \"Mainland China death rate<br>3.84%\", \"Mainland China death rate<br>3.81%\", \"Mainland China death rate<br>3.78%\", \"Mainland China death rate<br>3.75%\", \"Mainland China death rate<br>3.71%\", \"Mainland China death rate<br>3.67%\", \"Mainland China death rate<br>3.64%\", \"Mainland China death rate<br>3.60%\", \"Mainland China death rate<br>3.58%\", \"Mainland China death rate<br>3.54%\", \"Mainland China death rate<br>3.50%\", \"Mainland China death rate<br>3.48%\", \"Mainland China death rate<br>3.43%\", \"Mainland China death rate<br>3.36%\", \"Mainland China death rate<br>3.17%\", \"Mainland China death rate<br>3.07%\", \"Mainland China death rate<br>2.97%\", \"Mainland China death rate<br>2.84%\", \"Mainland China death rate<br>2.70%\", \"Mainland China death rate<br>2.58%\", \"Mainland China death rate<br>2.51%\", \"Mainland China death rate<br>2.43%\", \"Mainland China death rate<br>2.29%\", \"Mainland China death rate<br>2.16%\", \"Mainland China death rate<br>2.29%\", \"Mainland China death rate<br>2.49%\", \"Mainland China death rate<br>2.38%\", \"Mainland China death rate<br>2.26%\", \"Mainland China death rate<br>2.18%\", \"Mainland China death rate<br>2.09%\", \"Mainland China death rate<br>2.04%\", \"Mainland China death rate<br>2.00%\", \"Mainland China death rate<br>2.02%\", \"Mainland China death rate<br>2.07%\", \"Mainland China death rate<br>2.09%\", \"Mainland China death rate<br>2.10%\", \"Mainland China death rate<br>2.31%\", \"Mainland China death rate<br>2.21%\", \"Mainland China death rate<br>2.21%\", \"Mainland China death rate<br>2.21%\", \"Mainland China death rate<br>2.43%\", \"Mainland China death rate<br>2.92%\", \"Mainland China death rate<br>2.83%\", \"Mainland China death rate<br>3.11%\", \"Mainland China death rate<br>3.01%\", \"Mainland China death rate<br>2.82%\", \"Mainland China death rate<br>3.10%\", \"Mainland China death rate<br>1.83%\"], \"line\": {\"color\": \"#626262\", \"shape\": \"spline\", \"width\": 4}, \"marker\": {\"color\": \"#f4f4f2\", \"line\": {\"color\": \"#626262\", \"width\": 1}, \"size\": 4}, \"mode\": \"lines+markers\", \"name\": \"Mainland China\", \"text\": [\"Mar 12 2020 AEDT\", \"Mar 11 2020 AEDT\", \"Mar 10 2020 AEDT\", \"Mar 09 2020 AEDT\", \"Mar 08 2020 AEDT\", \"Mar 07 2020 AEDT\", \"Mar 06 2020 AEDT\", \"Mar 05 2020 AEDT\", \"Mar 04 2020 AEDT\", \"Mar 03 2020 AEDT\", \"Mar 02 2020 AEDT\", \"Mar 01 2020 AEDT\", \"Feb 29 2020 AEDT\", \"Feb 28 2020 AEDT\", \"Feb 27 2020 AEDT\", \"Feb 26 2020 AEDT\", \"Feb 25 2020 AEDT\", \"Feb 24 2020 AEDT\", \"Feb 23 2020 AEDT\", \"Feb 22 2020 AEDT\", \"Feb 21 2020 AEDT\", \"Feb 20 2020 AEDT\", \"Feb 19 2020 AEDT\", \"Feb 18 2020 AEDT\", \"Feb 17 2020 AEDT\", \"Feb 16 2020 AEDT\", \"Feb 15 2020 AEDT\", \"Feb 14 2020 AEDT\", \"Feb 13 2020 AEDT\", \"Feb 12 2020 AEDT\", \"Feb 11 2020 AEDT\", \"Feb 10 2020 AEDT\", \"Feb 09 2020 AEDT\", \"Feb 08 2020 AEDT\", \"Feb 07 2020 AEDT\", \"Feb 06 2020 AEDT\", \"Feb 05 2020 AEDT\", \"Feb 04 2020 AEDT\", \"Feb 03 2020 AEDT\", \"Feb 02 2020 AEDT\", \"Feb 01 2020 AEDT\", \"Jan 31 2020 AEDT\", \"Jan 30 2020 AEDT\", \"Jan 29 2020 AEDT\", \"Jan 28 2020 AEDT\", \"Jan 27 2020 AEDT\", \"Jan 26 2020 AEDT\", \"Jan 25 2020 AEDT\", \"Jan 24 2020 AEDT\", \"Jan 23 2020 AEDT\", \"Jan 22 2020 AEDT\", \"Jan 21 2020 AEDT\"], \"type\": \"scatter\", \"x\": [\"2020-03-12T16:00:00\", \"2020-03-11T22:00:00\", \"2020-03-10T22:00:00\", \"2020-03-09T22:00:00\", \"2020-03-08T22:00:00\", \"2020-03-07T22:00:00\", \"2020-03-06T22:00:00\", \"2020-03-05T22:00:00\", \"2020-03-04T22:00:00\", \"2020-03-03T22:00:00\", \"2020-03-02T22:00:00\", \"2020-03-01T22:00:00\", \"2020-02-29T22:00:00\", \"2020-02-28T22:00:00\", \"2020-02-27T22:00:00\", \"2020-02-26T22:00:00\", \"2020-02-25T22:00:00\", \"2020-02-24T22:00:00\", \"2020-02-23T22:00:00\", \"2020-02-22T22:00:00\", \"2020-02-21T22:00:00\", \"2020-02-20T22:00:00\", \"2020-02-19T22:00:00\", \"2020-02-18T22:00:00\", \"2020-02-17T22:00:00\", \"2020-02-16T22:00:00\", \"2020-02-15T22:00:00\", \"2020-02-14T22:00:00\", \"2020-02-13T22:00:00\", \"2020-02-12T22:00:00\", \"2020-02-11T21:30:00\", \"2020-02-10T22:00:00\", \"2020-02-09T22:00:00\", \"2020-02-08T22:00:00\", \"2020-02-07T22:00:00\", \"2020-02-06T22:00:00\", \"2020-02-05T22:00:00\", \"2020-02-04T21:00:00\", \"2020-02-03T21:00:00\", \"2020-02-02T21:00:00\", \"2020-02-01T11:00:00\", \"2020-01-31T13:30:00\", \"2020-01-30T13:00:00\", \"2020-01-29T15:00:00\", \"2020-01-28T12:30:00\", \"2020-01-27T15:00:00\", \"2020-01-26T14:00:00\", \"2020-01-25T16:00:00\", \"2020-01-24T16:00:00\", \"2020-01-23T16:00:00\", \"2020-01-22T16:00:00\", \"2020-01-21T16:00:00\"], \"y\": [3.92246661137998, 3.9094803040431803, 3.8833989647571636, 3.8632563324456553, 3.837908172749241, 3.806524407632887, 3.7764894290573676, 3.745895930753159, 3.713901278249819, 3.6718194408054794, 3.6388173843500864, 3.595454944063741, 3.577241927546656, 3.536993808992185, 3.4956749939488136, 3.477915556466489, 3.429049703837239, 3.359688917692806, 3.1740667567848604, 3.0737570617766186, 2.971547038420136, 2.839979618654295, 2.704087134692117, 2.5787570059913305, 2.508752285515853, 2.4304085713868653, 2.2903633301251203, 2.1624753374463688, 2.2851125004179065, 2.493006601767931, 2.381733789676028, 2.25898743624829, 2.181036798280956, 2.0890519806986623, 2.0393112514829896, 2.0046288054121417, 2.017633791265122, 2.0748913733339847, 2.0864639926020114, 2.1036606463220537, 2.30817217716781, 2.205425553944916, 2.2141182599635325, 2.21105527638191, 2.4268541619414834, 2.9229082937522834, 2.829711975745326, 3.106060606060606, 3.005780346820809, 2.8169014084507045, 3.096539162112933, 1.834862385321101]}, {\"hovertemplate\": \"<b>%{text}</b><br></br>%{hovertext}<extra></extra>\", \"hovertext\": [\"Other region death rate<br>3.21%\", \"Other region death rate<br>3.03%\", \"Other region death rate<br>2.64%\", \"Other region death rate<br>2.47%\", \"Other region death rate<br>2.08%\", \"Other region death rate<br>1.96%\", \"Other region death rate<br>1.88%\", \"Other region death rate<br>1.82%\", \"Other region death rate<br>1.67%\", \"Other region death rate<br>1.53%\", \"Other region death rate<br>1.59%\", \"Other region death rate<br>1.52%\", \"Other region death rate<br>1.53%\", \"Other region death rate<br>1.57%\", \"Other region death rate<br>1.62%\", \"Other region death rate<br>1.71%\", \"Other region death rate<br>1.61%\", \"Other region death rate<br>1.40%\", \"Other region death rate<br>1.18%\", \"Other region death rate<br>1.04%\", \"Other region death rate<br>0.97%\", \"Other region death rate<br>0.93%\", \"Other region death rate<br>0.54%\", \"Other region death rate<br>0.51%\", \"Other region death rate<br>0.56%\", \"Other region death rate<br>0.52%\", \"Other region death rate<br>0.58%\", \"Other region death rate<br>0.51%\", \"Other region death rate<br>0.35%\", \"Other region death rate<br>0.38%\", \"Other region death rate<br>0.42%\", \"Other region death rate<br>0.44%\", \"Other region death rate<br>0.54%\", \"Other region death rate<br>0.58%\", \"Other region death rate<br>0.62%\", \"Other region death rate<br>0.76%\", \"Other region death rate<br>0.87%\", \"Other region death rate<br>1.03%\", \"Other region death rate<br>0.55%\", \"Other region death rate<br>0.56%\", \"Other region death rate<br>0.00%\", \"Other region death rate<br>0.00%\", \"Other region death rate<br>0.00%\", \"Other region death rate<br>0.00%\", \"Other region death rate<br>0.00%\", \"Other region death rate<br>0.00%\", \"Other region death rate<br>0.00%\", \"Other region death rate<br>0.00%\", \"Other region death rate<br>0.00%\", \"Other region death rate<br>0.00%\", \"Other region death rate<br>0.00%\", \"Other region death rate<br>0.00%\"], \"line\": {\"color\": \"#a7a7a7\", \"shape\": \"spline\", \"width\": 4}, \"marker\": {\"color\": \"#f4f4f2\", \"line\": {\"color\": \"#a7a7a7\", \"width\": 1}, \"size\": 4}, \"mode\": \"lines+markers\", \"name\": \"Other Region\", \"text\": [\"Mar 12 2020 AEDT\", \"Mar 11 2020 AEDT\", \"Mar 10 2020 AEDT\", \"Mar 09 2020 AEDT\", \"Mar 08 2020 AEDT\", \"Mar 07 2020 AEDT\", \"Mar 06 2020 AEDT\", \"Mar 05 2020 AEDT\", \"Mar 04 2020 AEDT\", \"Mar 03 2020 AEDT\", \"Mar 02 2020 AEDT\", \"Mar 01 2020 AEDT\", \"Feb 29 2020 AEDT\", \"Feb 28 2020 AEDT\", \"Feb 27 2020 AEDT\", \"Feb 26 2020 AEDT\", \"Feb 25 2020 AEDT\", \"Feb 24 2020 AEDT\", \"Feb 23 2020 AEDT\", \"Feb 22 2020 AEDT\", \"Feb 21 2020 AEDT\", \"Feb 20 2020 AEDT\", \"Feb 19 2020 AEDT\", \"Feb 18 2020 AEDT\", \"Feb 17 2020 AEDT\", \"Feb 16 2020 AEDT\", \"Feb 15 2020 AEDT\", \"Feb 14 2020 AEDT\", \"Feb 13 2020 AEDT\", \"Feb 12 2020 AEDT\", \"Feb 11 2020 AEDT\", \"Feb 10 2020 AEDT\", \"Feb 09 2020 AEDT\", \"Feb 08 2020 AEDT\", \"Feb 07 2020 AEDT\", \"Feb 06 2020 AEDT\", \"Feb 05 2020 AEDT\", \"Feb 04 2020 AEDT\", \"Feb 03 2020 AEDT\", \"Feb 02 2020 AEDT\", \"Feb 01 2020 AEDT\", \"Jan 31 2020 AEDT\", \"Jan 30 2020 AEDT\", \"Jan 29 2020 AEDT\", \"Jan 28 2020 AEDT\", \"Jan 27 2020 AEDT\", \"Jan 26 2020 AEDT\", \"Jan 25 2020 AEDT\", \"Jan 24 2020 AEDT\", \"Jan 23 2020 AEDT\", \"Jan 22 2020 AEDT\", \"Jan 21 2020 AEDT\"], \"type\": \"scatter\", \"x\": [\"2020-03-12T16:00:00\", \"2020-03-11T22:00:00\", \"2020-03-10T22:00:00\", \"2020-03-09T22:00:00\", \"2020-03-08T22:00:00\", \"2020-03-07T22:00:00\", \"2020-03-06T22:00:00\", \"2020-03-05T22:00:00\", \"2020-03-04T22:00:00\", \"2020-03-03T22:00:00\", \"2020-03-02T22:00:00\", \"2020-03-01T22:00:00\", \"2020-02-29T22:00:00\", \"2020-02-28T22:00:00\", \"2020-02-27T22:00:00\", \"2020-02-26T22:00:00\", \"2020-02-25T22:00:00\", \"2020-02-24T22:00:00\", \"2020-02-23T22:00:00\", \"2020-02-22T22:00:00\", \"2020-02-21T22:00:00\", \"2020-02-20T22:00:00\", \"2020-02-19T22:00:00\", \"2020-02-18T22:00:00\", \"2020-02-17T22:00:00\", \"2020-02-16T22:00:00\", \"2020-02-15T22:00:00\", \"2020-02-14T22:00:00\", \"2020-02-13T22:00:00\", \"2020-02-12T22:00:00\", \"2020-02-11T21:30:00\", \"2020-02-10T22:00:00\", \"2020-02-09T22:00:00\", \"2020-02-08T22:00:00\", \"2020-02-07T22:00:00\", \"2020-02-06T22:00:00\", \"2020-02-05T22:00:00\", \"2020-02-04T21:00:00\", \"2020-02-03T21:00:00\", \"2020-02-02T21:00:00\", \"2020-02-01T11:00:00\", \"2020-01-31T13:30:00\", \"2020-01-30T13:00:00\", \"2020-01-29T15:00:00\", \"2020-01-28T12:30:00\", \"2020-01-27T15:00:00\", \"2020-01-26T14:00:00\", \"2020-01-25T16:00:00\", \"2020-01-24T16:00:00\", \"2020-01-23T16:00:00\", \"2020-01-22T16:00:00\", \"2020-01-21T16:00:00\"], \"y\": [3.2127103952248235, 3.029922683000301, 2.635380125578516, 2.4688932547478717, 2.07909604519774, 1.9550653967096567, 1.8833006749401262, 1.8209408194233687, 1.670680313064419, 1.5302727877578177, 1.5907224958949098, 1.5221337801982964, 1.5262420183771999, 1.5687053216838762, 1.6245938515371157, 1.7104846373139058, 1.6122984626921637, 1.3983050847457628, 1.1806981519507187, 1.040391676866585, 0.9723261032161555, 0.9298393913778529, 0.5424954792043399, 0.5070993914807302, 0.562429696287964, 0.5161290322580645, 0.5805515239477503, 0.5076142131979695, 0.34965034965034963, 0.38314176245210724, 0.42283298097251587, 0.4424778761061947, 0.5405405405405406, 0.5763688760806917, 0.6230529595015576, 0.7604562737642585, 0.8658008658008658, 1.0309278350515463, 0.5524861878453038, 0.5649717514124294, 0.0, 0.0, 0.0, 0.0, 0.0, 0.0, 0.0, 0.0, 0.0, 0.0, 0.0, 0.0]}],\n",
       "                        {\"font\": {\"color\": \"#292929\"}, \"hovermode\": \"x\", \"legend\": {\"orientation\": \"h\"}, \"margin\": {\"b\": 10, \"l\": 10, \"pad\": 0, \"r\": 10, \"t\": 5}, \"paper_bgcolor\": \"#cbd2d3\", \"plot_bgcolor\": \"#f4f4f2\", \"template\": {\"data\": {\"bar\": [{\"error_x\": {\"color\": \"#2a3f5f\"}, \"error_y\": {\"color\": \"#2a3f5f\"}, \"marker\": {\"line\": {\"color\": \"#E5ECF6\", \"width\": 0.5}}, \"type\": \"bar\"}], \"barpolar\": [{\"marker\": {\"line\": {\"color\": \"#E5ECF6\", \"width\": 0.5}}, \"type\": \"barpolar\"}], \"carpet\": [{\"aaxis\": {\"endlinecolor\": \"#2a3f5f\", \"gridcolor\": \"white\", \"linecolor\": \"white\", \"minorgridcolor\": \"white\", \"startlinecolor\": \"#2a3f5f\"}, \"baxis\": {\"endlinecolor\": \"#2a3f5f\", \"gridcolor\": \"white\", \"linecolor\": \"white\", \"minorgridcolor\": \"white\", \"startlinecolor\": \"#2a3f5f\"}, \"type\": \"carpet\"}], \"choropleth\": [{\"colorbar\": {\"outlinewidth\": 0, \"ticks\": \"\"}, \"type\": \"choropleth\"}], \"contour\": [{\"colorbar\": {\"outlinewidth\": 0, \"ticks\": \"\"}, \"colorscale\": [[0.0, \"#0d0887\"], [0.1111111111111111, \"#46039f\"], [0.2222222222222222, \"#7201a8\"], [0.3333333333333333, \"#9c179e\"], [0.4444444444444444, \"#bd3786\"], [0.5555555555555556, \"#d8576b\"], [0.6666666666666666, \"#ed7953\"], [0.7777777777777778, \"#fb9f3a\"], [0.8888888888888888, \"#fdca26\"], [1.0, \"#f0f921\"]], \"type\": \"contour\"}], \"contourcarpet\": [{\"colorbar\": {\"outlinewidth\": 0, \"ticks\": \"\"}, \"type\": \"contourcarpet\"}], \"heatmap\": [{\"colorbar\": {\"outlinewidth\": 0, \"ticks\": \"\"}, \"colorscale\": [[0.0, \"#0d0887\"], [0.1111111111111111, \"#46039f\"], [0.2222222222222222, \"#7201a8\"], [0.3333333333333333, \"#9c179e\"], [0.4444444444444444, \"#bd3786\"], [0.5555555555555556, \"#d8576b\"], [0.6666666666666666, \"#ed7953\"], [0.7777777777777778, \"#fb9f3a\"], [0.8888888888888888, \"#fdca26\"], [1.0, \"#f0f921\"]], \"type\": \"heatmap\"}], \"heatmapgl\": [{\"colorbar\": {\"outlinewidth\": 0, \"ticks\": \"\"}, \"colorscale\": [[0.0, \"#0d0887\"], [0.1111111111111111, \"#46039f\"], [0.2222222222222222, \"#7201a8\"], [0.3333333333333333, \"#9c179e\"], [0.4444444444444444, \"#bd3786\"], [0.5555555555555556, \"#d8576b\"], [0.6666666666666666, \"#ed7953\"], [0.7777777777777778, \"#fb9f3a\"], [0.8888888888888888, \"#fdca26\"], [1.0, \"#f0f921\"]], \"type\": \"heatmapgl\"}], \"histogram\": [{\"marker\": {\"colorbar\": {\"outlinewidth\": 0, \"ticks\": \"\"}}, \"type\": \"histogram\"}], \"histogram2d\": [{\"colorbar\": {\"outlinewidth\": 0, \"ticks\": \"\"}, \"colorscale\": [[0.0, \"#0d0887\"], [0.1111111111111111, \"#46039f\"], [0.2222222222222222, \"#7201a8\"], [0.3333333333333333, \"#9c179e\"], [0.4444444444444444, \"#bd3786\"], [0.5555555555555556, \"#d8576b\"], [0.6666666666666666, \"#ed7953\"], [0.7777777777777778, \"#fb9f3a\"], [0.8888888888888888, \"#fdca26\"], [1.0, \"#f0f921\"]], \"type\": \"histogram2d\"}], \"histogram2dcontour\": [{\"colorbar\": {\"outlinewidth\": 0, \"ticks\": \"\"}, \"colorscale\": [[0.0, \"#0d0887\"], [0.1111111111111111, \"#46039f\"], [0.2222222222222222, \"#7201a8\"], [0.3333333333333333, \"#9c179e\"], [0.4444444444444444, \"#bd3786\"], [0.5555555555555556, \"#d8576b\"], [0.6666666666666666, \"#ed7953\"], [0.7777777777777778, \"#fb9f3a\"], [0.8888888888888888, \"#fdca26\"], [1.0, \"#f0f921\"]], \"type\": \"histogram2dcontour\"}], \"mesh3d\": [{\"colorbar\": {\"outlinewidth\": 0, \"ticks\": \"\"}, \"type\": \"mesh3d\"}], \"parcoords\": [{\"line\": {\"colorbar\": {\"outlinewidth\": 0, \"ticks\": \"\"}}, \"type\": \"parcoords\"}], \"pie\": [{\"automargin\": true, \"type\": \"pie\"}], \"scatter\": [{\"marker\": {\"colorbar\": {\"outlinewidth\": 0, \"ticks\": \"\"}}, \"type\": \"scatter\"}], \"scatter3d\": [{\"line\": {\"colorbar\": {\"outlinewidth\": 0, \"ticks\": \"\"}}, \"marker\": {\"colorbar\": {\"outlinewidth\": 0, \"ticks\": \"\"}}, \"type\": \"scatter3d\"}], \"scattercarpet\": [{\"marker\": {\"colorbar\": {\"outlinewidth\": 0, \"ticks\": \"\"}}, \"type\": \"scattercarpet\"}], \"scattergeo\": [{\"marker\": {\"colorbar\": {\"outlinewidth\": 0, \"ticks\": \"\"}}, \"type\": \"scattergeo\"}], \"scattergl\": [{\"marker\": {\"colorbar\": {\"outlinewidth\": 0, \"ticks\": \"\"}}, \"type\": \"scattergl\"}], \"scattermapbox\": [{\"marker\": {\"colorbar\": {\"outlinewidth\": 0, \"ticks\": \"\"}}, \"type\": \"scattermapbox\"}], \"scatterpolar\": [{\"marker\": {\"colorbar\": {\"outlinewidth\": 0, \"ticks\": \"\"}}, \"type\": \"scatterpolar\"}], \"scatterpolargl\": [{\"marker\": {\"colorbar\": {\"outlinewidth\": 0, \"ticks\": \"\"}}, \"type\": \"scatterpolargl\"}], \"scatterternary\": [{\"marker\": {\"colorbar\": {\"outlinewidth\": 0, \"ticks\": \"\"}}, \"type\": \"scatterternary\"}], \"surface\": [{\"colorbar\": {\"outlinewidth\": 0, \"ticks\": \"\"}, \"colorscale\": [[0.0, \"#0d0887\"], [0.1111111111111111, \"#46039f\"], [0.2222222222222222, \"#7201a8\"], [0.3333333333333333, \"#9c179e\"], [0.4444444444444444, \"#bd3786\"], [0.5555555555555556, \"#d8576b\"], [0.6666666666666666, \"#ed7953\"], [0.7777777777777778, \"#fb9f3a\"], [0.8888888888888888, \"#fdca26\"], [1.0, \"#f0f921\"]], \"type\": \"surface\"}], \"table\": [{\"cells\": {\"fill\": {\"color\": \"#EBF0F8\"}, \"line\": {\"color\": \"white\"}}, \"header\": {\"fill\": {\"color\": \"#C8D4E3\"}, \"line\": {\"color\": \"white\"}}, \"type\": \"table\"}]}, \"layout\": {\"annotationdefaults\": {\"arrowcolor\": \"#2a3f5f\", \"arrowhead\": 0, \"arrowwidth\": 1}, \"coloraxis\": {\"colorbar\": {\"outlinewidth\": 0, \"ticks\": \"\"}}, \"colorscale\": {\"diverging\": [[0, \"#8e0152\"], [0.1, \"#c51b7d\"], [0.2, \"#de77ae\"], [0.3, \"#f1b6da\"], [0.4, \"#fde0ef\"], [0.5, \"#f7f7f7\"], [0.6, \"#e6f5d0\"], [0.7, \"#b8e186\"], [0.8, \"#7fbc41\"], [0.9, \"#4d9221\"], [1, \"#276419\"]], \"sequential\": [[0.0, \"#0d0887\"], [0.1111111111111111, \"#46039f\"], [0.2222222222222222, \"#7201a8\"], [0.3333333333333333, \"#9c179e\"], [0.4444444444444444, \"#bd3786\"], [0.5555555555555556, \"#d8576b\"], [0.6666666666666666, \"#ed7953\"], [0.7777777777777778, \"#fb9f3a\"], [0.8888888888888888, \"#fdca26\"], [1.0, \"#f0f921\"]], \"sequentialminus\": [[0.0, \"#0d0887\"], [0.1111111111111111, \"#46039f\"], [0.2222222222222222, \"#7201a8\"], [0.3333333333333333, \"#9c179e\"], [0.4444444444444444, \"#bd3786\"], [0.5555555555555556, \"#d8576b\"], [0.6666666666666666, \"#ed7953\"], [0.7777777777777778, \"#fb9f3a\"], [0.8888888888888888, \"#fdca26\"], [1.0, \"#f0f921\"]]}, \"colorway\": [\"#636efa\", \"#EF553B\", \"#00cc96\", \"#ab63fa\", \"#FFA15A\", \"#19d3f3\", \"#FF6692\", \"#B6E880\", \"#FF97FF\", \"#FECB52\"], \"font\": {\"color\": \"#2a3f5f\"}, \"geo\": {\"bgcolor\": \"white\", \"lakecolor\": \"white\", \"landcolor\": \"#E5ECF6\", \"showlakes\": true, \"showland\": true, \"subunitcolor\": \"white\"}, \"hoverlabel\": {\"align\": \"left\"}, \"hovermode\": \"closest\", \"mapbox\": {\"style\": \"light\"}, \"paper_bgcolor\": \"white\", \"plot_bgcolor\": \"#E5ECF6\", \"polar\": {\"angularaxis\": {\"gridcolor\": \"white\", \"linecolor\": \"white\", \"ticks\": \"\"}, \"bgcolor\": \"#E5ECF6\", \"radialaxis\": {\"gridcolor\": \"white\", \"linecolor\": \"white\", \"ticks\": \"\"}}, \"scene\": {\"xaxis\": {\"backgroundcolor\": \"#E5ECF6\", \"gridcolor\": \"white\", \"gridwidth\": 2, \"linecolor\": \"white\", \"showbackground\": true, \"ticks\": \"\", \"zerolinecolor\": \"white\"}, \"yaxis\": {\"backgroundcolor\": \"#E5ECF6\", \"gridcolor\": \"white\", \"gridwidth\": 2, \"linecolor\": \"white\", \"showbackground\": true, \"ticks\": \"\", \"zerolinecolor\": \"white\"}, \"zaxis\": {\"backgroundcolor\": \"#E5ECF6\", \"gridcolor\": \"white\", \"gridwidth\": 2, \"linecolor\": \"white\", \"showbackground\": true, \"ticks\": \"\", \"zerolinecolor\": \"white\"}}, \"shapedefaults\": {\"line\": {\"color\": \"#2a3f5f\"}}, \"ternary\": {\"aaxis\": {\"gridcolor\": \"white\", \"linecolor\": \"white\", \"ticks\": \"\"}, \"baxis\": {\"gridcolor\": \"white\", \"linecolor\": \"white\", \"ticks\": \"\"}, \"bgcolor\": \"#E5ECF6\", \"caxis\": {\"gridcolor\": \"white\", \"linecolor\": \"white\", \"ticks\": \"\"}}, \"title\": {\"x\": 0.05}, \"xaxis\": {\"automargin\": true, \"gridcolor\": \"white\", \"linecolor\": \"white\", \"ticks\": \"\", \"title\": {\"standoff\": 15}, \"zerolinecolor\": \"white\", \"zerolinewidth\": 2}, \"yaxis\": {\"automargin\": true, \"gridcolor\": \"white\", \"linecolor\": \"white\", \"ticks\": \"\", \"title\": {\"standoff\": 15}, \"zerolinecolor\": \"white\", \"zerolinewidth\": 2}}}, \"xaxis\": {\"gridcolor\": \"rgba(203, 210, 211,.3)\", \"gridwidth\": 0.1, \"linecolor\": \"#272e3e\", \"showgrid\": false, \"showline\": false, \"tickformat\": \"%b %d\", \"zeroline\": false}, \"yaxis\": {\"gridcolor\": \"rgba(203, 210, 211,.3)\", \"gridwidth\": 0.1, \"linecolor\": \"#272e3e\", \"showline\": false, \"tickmode\": \"array\", \"ticktext\": [\"0.0\", \"0.5\", \"1.0\", \"1.5\", \"2.0\", \"2.5\", \"3.0\", \"3.5\"], \"tickvals\": [0.0, 0.5, 1.0, 1.5, 2.0, 2.5, 3.0, 3.5], \"zeroline\": false}},\n",
       "                        {\"responsive\": true}\n",
       "                    ).then(function(){\n",
       "                            \n",
       "var gd = document.getElementById('68d6ab04-7ab0-4689-af77-555bc6e3c709');\n",
       "var x = new MutationObserver(function (mutations, observer) {{\n",
       "        var display = window.getComputedStyle(gd).display;\n",
       "        if (!display || display === 'none') {{\n",
       "            console.log([gd, 'removed!']);\n",
       "            Plotly.purge(gd);\n",
       "            observer.disconnect();\n",
       "        }}\n",
       "}});\n",
       "\n",
       "// Listen for the removal of the full notebook cells\n",
       "var notebookContainer = gd.closest('#notebook-container');\n",
       "if (notebookContainer) {{\n",
       "    x.observe(notebookContainer, {childList: true});\n",
       "}}\n",
       "\n",
       "// Listen for the clearing of the current output cell\n",
       "var outputEl = gd.closest('.output');\n",
       "if (outputEl) {{\n",
       "    x.observe(outputEl, {childList: true});\n",
       "}}\n",
       "\n",
       "                        })\n",
       "                };\n",
       "                });\n",
       "            </script>\n",
       "        </div>"
      ]
     },
     "metadata": {},
     "output_type": "display_data"
    }
   ],
   "source": [
    "%%time\n",
    "# Save numbers into variables to use in the app\n",
    "confirmedCases=dfs[keyList[0]]['Confirmed'].sum()\n",
    "deathsCases=dfs[keyList[0]]['Deaths'].sum()\n",
    "recoveredCases=dfs[keyList[0]]['Recovered'].sum()\n",
    "\n",
    "# Construct confirmed cases dataframe for line plot and 24-hour window case difference\n",
    "df_confirmed, plusConfirmedNum, plusPercentNum1 = df_for_lineplot_diff(dfs, 'Confirmed')\n",
    "\n",
    "\n",
    "# Construct recovered cases dataframe for line plot and 24-hour window case difference\n",
    "df_recovered, plusRecoveredNum, plusPercentNum2 = df_for_lineplot_diff(dfs, 'Recovered')\n",
    "\n",
    "\n",
    "# Construct death case dataframe for line plot and 24-hour window case difference\n",
    "df_deaths, plusDeathNum, plusPercentNum3 = df_for_lineplot_diff(dfs, 'Deaths')\n",
    "\n",
    "# Create data table to show in app\n",
    "# Generate sum values for Country/Region level\n",
    "dfCase = dfs[keyList[0]].groupby(by='Country/Region', sort=False).sum().reset_index()\n",
    "dfCase = dfCase.sort_values(by=['Confirmed'], ascending=False).reset_index(drop=True)\n",
    "# As lat and lon also underwent sum(), which is not desired, remove from this table.\n",
    "dfCase = dfCase.drop(columns=['lat','lon'])\n",
    "\n",
    "# Grep lat and lon by the first instance to represent its Country/Region\n",
    "dfGPS = dfs[keyList[0]].groupby(by=['Country/Region'], sort=False).first().reset_index()\n",
    "dfGPS = dfGPS[['Country/Region','lat','lon']]\n",
    "\n",
    "# Merge two dataframes\n",
    "dfSum = pd.merge(dfCase, dfGPS, how='inner', on='Country/Region')\n",
    "dfSum = dfSum.replace({'Country/Region':'China'}, 'Mainland China')\n",
    "dfSum['Remaining'] = dfSum['Confirmed'] - dfSum['Recovered'] - dfSum['Deaths']\n",
    "# Rearrange columns to correspond to the number plate order\n",
    "dfSum = dfSum[['Country/Region','Remaining','Confirmed','Recovered','Deaths','lat','lon']]\n",
    "# Sort value based on Remaining cases and then Confirmed cases\n",
    "dfSum = dfSum.sort_values(by=['Remaining', 'Confirmed'], ascending=False).reset_index(drop=True)\n",
    "# Set row ids pass to selected_row_ids\n",
    "dfSum['id'] = dfSum['Country/Region']\n",
    "dfSum.set_index('id', inplace=True, drop=False)\n",
    "\n",
    "# Save numbers into variables to use in the app\n",
    "latestDate=datetime.strftime(df_confirmed['Date'][0], '%b %d, %Y %H:%M AEDT')\n",
    "secondLastDate=datetime.strftime(df_confirmed['Date'][1], '%b %d')\n",
    "daysOutbreak=(df_confirmed['Date'][0] - datetime.strptime('12/31/2019', '%m/%d/%Y')).days\n",
    "\n",
    "#############################################################################################\n",
    "#### Start to make plots\n",
    "#############################################################################################\n",
    "# Line plot for confirmed cases\n",
    "# Set up tick scale based on confirmed case number\n",
    "tickList = list(np.arange(0, df_confirmed['Mainland China'].max()+1000, 10000))\n",
    "\n",
    "# Create empty figure canvas\n",
    "fig_confirmed = go.Figure()\n",
    "# Add trace to the figure\n",
    "fig_confirmed.add_trace(go.Scatter(x=df_confirmed['Date'], y=df_confirmed['Mainland China'],\n",
    "                                   mode='lines+markers',\n",
    "                                   line_shape='spline',\n",
    "                                   name='Mainland China',\n",
    "                                   line=dict(color='#921113', width=4),\n",
    "                                   marker=dict(size=4, color='#f4f4f2',\n",
    "                                               line=dict(width=1,color='#921113')),\n",
    "                                   text=[datetime.strftime(d, '%b %d %Y AEDT') for d in df_confirmed['Date']],\n",
    "                                   hovertext=['Mainland China confirmed<br>{:,d} cases<br>'.format(i) for i in df_confirmed['Mainland China']],\n",
    "                                   hovertemplate='<b>%{text}</b><br></br>'+\n",
    "                                                 '%{hovertext}'+\n",
    "                                                 '<extra></extra>'))\n",
    "fig_confirmed.add_trace(go.Scatter(x=df_confirmed['Date'], y=df_confirmed['Other locations'],\n",
    "                                   mode='lines+markers',\n",
    "                                   line_shape='spline',\n",
    "                                   name='Other Region',\n",
    "                                   line=dict(color='#eb5254', width=4),\n",
    "                                   marker=dict(size=4, color='#f4f4f2',\n",
    "                                               line=dict(width=1,color='#eb5254')),\n",
    "                                   text=[datetime.strftime(d, '%b %d %Y AEDT') for d in df_confirmed['Date']],\n",
    "                                   hovertext=['Other region confirmed<br>{:,d} cases<br>'.format(i) for i in df_confirmed['Other locations']],\n",
    "                                   hovertemplate='<b>%{text}</b><br></br>'+\n",
    "                                                 '%{hovertext}'+\n",
    "                                                 '<extra></extra>'))\n",
    "# Customise layout\n",
    "fig_confirmed.update_layout(\n",
    "#    title=dict(\n",
    "#    text=\"<b>Confirmed Cases Timeline<b>\",\n",
    "#    y=0.96, x=0.5, xanchor='center', yanchor='top',\n",
    "#    font=dict(size=20, color=\"#292929\", family=\"Playfair Display\")\n",
    "#   ),\n",
    "    margin=go.layout.Margin(\n",
    "        l=10,\n",
    "        r=10,\n",
    "        b=10,\n",
    "        t=5,\n",
    "        pad=0\n",
    "    ),\n",
    "    yaxis=dict(\n",
    "        showline=False, linecolor='#272e3e',\n",
    "        zeroline=False,\n",
    "        #showgrid=False,\n",
    "        gridcolor='rgba(203, 210, 211,.3)',\n",
    "        gridwidth = .1,\n",
    "        tickmode='array',\n",
    "        # Set tick range based on the maximum number\n",
    "        tickvals=tickList,\n",
    "        # Set tick label accordingly\n",
    "        ticktext=[\"{:.0f}k\".format(i/1000) for i in tickList]\n",
    "    ),\n",
    "#    yaxis_title=\"Total Confirmed Case Number\",\n",
    "    xaxis=dict(\n",
    "        showline=False, linecolor='#272e3e',\n",
    "        showgrid=False,\n",
    "        gridcolor='rgba(203, 210, 211,.3)',\n",
    "        gridwidth = .1,\n",
    "        zeroline=False\n",
    "    ),\n",
    "    xaxis_tickformat='%b %d',\n",
    "    hovermode = 'x',\n",
    "    legend_orientation=\"h\",\n",
    "#    legend=dict(x=.35, y=-.05),\n",
    "    plot_bgcolor='#f4f4f2',\n",
    "    paper_bgcolor='#cbd2d3',\n",
    "    font=dict(color='#292929')\n",
    ")\n",
    "\n",
    "# Line plot for combine cases\n",
    "# Set up tick scale based on confirmed case number\n",
    "tickList = list(np.arange(0, df_recovered['Mainland China'].max()+1000, 5000))\n",
    "\n",
    "# Create empty figure canvas\n",
    "fig_combine = go.Figure()\n",
    "# Add trace to the figure\n",
    "fig_combine.add_trace(go.Scatter(x=df_recovered['Date'], y=df_recovered['Total'],\n",
    "                                   mode='lines+markers',\n",
    "                                   line_shape='spline',\n",
    "                                   name='Total Recovered Cases',\n",
    "                                   line=dict(color='#168038', width=4),\n",
    "                                   marker=dict(size=4, color='#f4f4f2',\n",
    "                                               line=dict(width=1,color='#168038')),\n",
    "                                   text=[datetime.strftime(d, '%b %d %Y AEDT') for d in df_recovered['Date']],\n",
    "                                   hovertext=['Total recovered<br>{:,d} cases<br>'.format(i) for i in df_recovered['Total']],\n",
    "                                   hovertemplate='<b>%{text}</b><br></br>'+\n",
    "                                                 '%{hovertext}'+\n",
    "                                                 '<extra></extra>'))\n",
    "fig_combine.add_trace(go.Scatter(x=df_deaths['Date'], y=df_deaths['Total'],\n",
    "                                mode='lines+markers',\n",
    "                                line_shape='spline',\n",
    "                                name='Total Death Cases',\n",
    "                                line=dict(color='#626262', width=4),\n",
    "                                marker=dict(size=4, color='#f4f4f2',\n",
    "                                            line=dict(width=1,color='#626262')),\n",
    "                                text=[datetime.strftime(d, '%b %d %Y AEDT') for d in df_deaths['Date']],\n",
    "                                hovertext=['Total death<br>{:,d} cases<br>'.format(i) for i in df_deaths['Total']],\n",
    "                                hovertemplate='<b>%{text}</b><br></br>'+\n",
    "                                              '%{hovertext}'+\n",
    "                                              '<extra></extra>'))\n",
    "# Customise layout\n",
    "fig_combine.update_layout(\n",
    "#    title=dict(\n",
    "#    text=\"<b>Confirmed Cases Timeline<b>\",\n",
    "#    y=0.96, x=0.5, xanchor='center', yanchor='top',\n",
    "#    font=dict(size=20, color=\"#292929\", family=\"Playfair Display\")\n",
    "#   ),\n",
    "    margin=go.layout.Margin(\n",
    "        l=10,\n",
    "        r=10,\n",
    "        b=10,\n",
    "        t=5,\n",
    "        pad=0\n",
    "    ),\n",
    "    yaxis=dict(\n",
    "        showline=False, linecolor='#272e3e',\n",
    "        zeroline=False,\n",
    "        #showgrid=False,\n",
    "        gridcolor='rgba(203, 210, 211,.3)',\n",
    "        gridwidth = .1,\n",
    "        tickmode='array',\n",
    "        # Set tick range based on the maximum number\n",
    "        tickvals=tickList,\n",
    "        # Set tick label accordingly\n",
    "        ticktext=[\"{:.0f}k\".format(i/1000) for i in tickList]\n",
    "    ),\n",
    "#    yaxis_title=\"Total Confirmed Case Number\",\n",
    "    xaxis=dict(\n",
    "        showline=False, linecolor='#272e3e',\n",
    "        showgrid=False,\n",
    "        gridcolor='rgba(203, 210, 211,.3)',\n",
    "        gridwidth = .1,\n",
    "        zeroline=False\n",
    "    ),\n",
    "    xaxis_tickformat='%b %d',\n",
    "    hovermode = 'x',\n",
    "    legend_orientation=\"h\",\n",
    "#    legend=dict(x=.35, y=-.05),\n",
    "    plot_bgcolor='#f4f4f2',\n",
    "    paper_bgcolor='#cbd2d3',\n",
    "    font=dict(color='#292929')\n",
    ")\n",
    "\n",
    "# Line plot for death rate cases\n",
    "# Set up tick scale based on confirmed case number\n",
    "tickList = list(np.arange(0, (df_deaths['Mainland China']/df_confirmed['Mainland China']*100).max(), 0.5))\n",
    "\n",
    "# Create empty figure canvas\n",
    "fig_rate = go.Figure()\n",
    "# Add trace to the figure\n",
    "fig_rate.add_trace(go.Scatter(x=df_deaths['Date'], y=df_deaths['Mainland China']/df_confirmed['Mainland China']*100,\n",
    "                                mode='lines+markers',\n",
    "                                line_shape='spline',\n",
    "                                name='Mainland China',\n",
    "                                line=dict(color='#626262', width=4),\n",
    "                                marker=dict(size=4, color='#f4f4f2',\n",
    "                                            line=dict(width=1,color='#626262')),\n",
    "                                text=[datetime.strftime(d, '%b %d %Y AEDT') for d in df_deaths['Date']],\n",
    "                                hovertext=['Mainland China death rate<br>{:.2f}%'.format(i) for i in df_deaths['Mainland China']/df_confirmed['Mainland China']*100],\n",
    "                                hovertemplate='<b>%{text}</b><br></br>'+\n",
    "                                              '%{hovertext}'+\n",
    "                                              '<extra></extra>'))\n",
    "fig_rate.add_trace(go.Scatter(x=df_deaths['Date'], y=df_deaths['Other locations']/df_confirmed['Other locations']*100,\n",
    "                                mode='lines+markers',\n",
    "                                line_shape='spline',\n",
    "                                name='Other Region',\n",
    "                                line=dict(color='#a7a7a7', width=4),\n",
    "                                marker=dict(size=4, color='#f4f4f2',\n",
    "                                            line=dict(width=1,color='#a7a7a7')),\n",
    "                                text=[datetime.strftime(d, '%b %d %Y AEDT') for d in df_deaths['Date']],\n",
    "                                hovertext=['Other region death rate<br>{:.2f}%'.format(i) for i in df_deaths['Other locations']/df_confirmed['Other locations']*100],\n",
    "                                hovertemplate='<b>%{text}</b><br></br>'+\n",
    "                                              '%{hovertext}'+\n",
    "                                              '<extra></extra>'))\n",
    "\n",
    "# Customise layout\n",
    "fig_rate.update_layout(\n",
    "    margin=go.layout.Margin(\n",
    "        l=10,\n",
    "        r=10,\n",
    "        b=10,\n",
    "        t=5,\n",
    "        pad=0\n",
    "    ),\n",
    "    yaxis=dict(\n",
    "        showline=False, linecolor='#272e3e',\n",
    "        zeroline=False,\n",
    "        #showgrid=False,\n",
    "        gridcolor='rgba(203, 210, 211,.3)',\n",
    "        gridwidth = .1,\n",
    "        tickmode='array',\n",
    "        # Set tick range based on the maximum number\n",
    "        tickvals=tickList,\n",
    "        # Set tick label accordingly\n",
    "        ticktext=['{:.1f}'.format(i) for i in tickList]\n",
    "    ),\n",
    "#    yaxis_title=\"Total Confirmed Case Number\",\n",
    "    xaxis=dict(\n",
    "        showline=False, linecolor='#272e3e',\n",
    "        showgrid=False,\n",
    "        gridcolor='rgba(203, 210, 211,.3)',\n",
    "        gridwidth = .1,\n",
    "        zeroline=False\n",
    "    ),\n",
    "    xaxis_tickformat='%b %d',\n",
    "    hovermode = 'x',\n",
    "    legend_orientation=\"h\",\n",
    "#    legend=dict(x=.35, y=-.05),\n",
    "    plot_bgcolor='#f4f4f2',\n",
    "    paper_bgcolor='#cbd2d3',\n",
    "    font=dict(color='#292929')\n",
    ")"
   ]
  },
  {
   "cell_type": "code",
   "execution_count": 184,
   "metadata": {},
   "outputs": [
    {
     "name": "stdout",
     "output_type": "stream",
     "text": [
      "CPU times: user 789 ms, sys: 117 ms, total: 906 ms\n",
      "Wall time: 1.25 s\n"
     ]
    },
    {
     "data": {
      "application/vnd.plotly.v1+json": {
       "config": {
        "plotlyServerURL": "https://plot.ly"
       },
       "data": [
        {
         "hovertemplate": "<b>%{text}</b><br></br>%{hovertext}<extra></extra>",
         "hovertext": [
          "Japan confirmed<br>1,335 cases<br>",
          "Japan confirmed<br>1,283 cases<br>",
          "Japan confirmed<br>1,239 cases<br>",
          "Japan confirmed<br>1,198 cases<br>",
          "Japan confirmed<br>1,157 cases<br>",
          "Japan confirmed<br>1,131 cases<br>",
          "Japan confirmed<br>1,077 cases<br>",
          "Japan confirmed<br>1,027 cases<br>",
          "Japan confirmed<br>995 cases<br>",
          "Japan confirmed<br>979 cases<br>",
          "Japan confirmed<br>952 cases<br>",
          "Japan confirmed<br>937 cases<br>",
          "Japan confirmed<br>937 cases<br>",
          "Japan confirmed<br>922 cases<br>",
          "Japan confirmed<br>903 cases<br>",
          "Japan confirmed<br>863 cases<br>",
          "Japan confirmed<br>851 cases<br>",
          "Japan confirmed<br>837 cases<br>",
          "Japan confirmed<br>780 cases<br>",
          "Japan confirmed<br>744 cases<br>",
          "Japan confirmed<br>731 cases<br>",
          "Japan confirmed<br>712 cases<br>",
          "Japan confirmed<br>701 cases<br>",
          "Japan confirmed<br>608 cases<br>",
          "Japan confirmed<br>519 cases<br>",
          "Japan confirmed<br>414 cases<br>",
          "Japan confirmed<br>337 cases<br>",
          "Japan confirmed<br>253 cases<br>",
          "Japan confirmed<br>248 cases<br>",
          "Japan confirmed<br>203 cases<br>",
          "Japan confirmed<br>163 cases<br>",
          "Japan confirmed<br>161 cases<br>",
          "Japan confirmed<br>96 cases<br>",
          "Japan confirmed<br>89 cases<br>",
          "Japan confirmed<br>86 cases<br>",
          "Japan confirmed<br>35 cases<br>",
          "Japan confirmed<br>33 cases<br>",
          "Japan confirmed<br>20 cases<br>",
          "Japan confirmed<br>20 cases<br>",
          "Japan confirmed<br>20 cases<br>",
          "Japan confirmed<br>17 cases<br>",
          "Japan confirmed<br>11 cases<br>",
          "Japan confirmed<br>11 cases<br>",
          "Japan confirmed<br>7 cases<br>",
          "Japan confirmed<br>4 cases<br>",
          "Japan confirmed<br>4 cases<br>",
          "Japan confirmed<br>2 cases<br>",
          "Japan confirmed<br>2 cases<br>",
          "Japan confirmed<br>2 cases<br>",
          "Japan confirmed<br>2 cases<br>",
          "Japan confirmed<br>2 cases<br>",
          "Japan confirmed<br>1 cases<br>"
         ],
         "line": {
          "color": "#d7191c",
          "width": 2
         },
         "mode": "lines+markers",
         "name": "Confirmed case",
         "text": [
          "Mar 12 2020 AEDT",
          "Mar 11 2020 AEDT",
          "Mar 10 2020 AEDT",
          "Mar 09 2020 AEDT",
          "Mar 08 2020 AEDT",
          "Mar 07 2020 AEDT",
          "Mar 06 2020 AEDT",
          "Mar 05 2020 AEDT",
          "Mar 04 2020 AEDT",
          "Mar 03 2020 AEDT",
          "Mar 02 2020 AEDT",
          "Mar 01 2020 AEDT",
          "Feb 29 2020 AEDT",
          "Feb 28 2020 AEDT",
          "Feb 27 2020 AEDT",
          "Feb 26 2020 AEDT",
          "Feb 25 2020 AEDT",
          "Feb 24 2020 AEDT",
          "Feb 23 2020 AEDT",
          "Feb 22 2020 AEDT",
          "Feb 21 2020 AEDT",
          "Feb 20 2020 AEDT",
          "Feb 19 2020 AEDT",
          "Feb 18 2020 AEDT",
          "Feb 17 2020 AEDT",
          "Feb 16 2020 AEDT",
          "Feb 15 2020 AEDT",
          "Feb 14 2020 AEDT",
          "Feb 13 2020 AEDT",
          "Feb 12 2020 AEDT",
          "Feb 11 2020 AEDT",
          "Feb 10 2020 AEDT",
          "Feb 09 2020 AEDT",
          "Feb 08 2020 AEDT",
          "Feb 07 2020 AEDT",
          "Feb 06 2020 AEDT",
          "Feb 05 2020 AEDT",
          "Feb 04 2020 AEDT",
          "Feb 03 2020 AEDT",
          "Feb 02 2020 AEDT",
          "Feb 01 2020 AEDT",
          "Jan 31 2020 AEDT",
          "Jan 30 2020 AEDT",
          "Jan 29 2020 AEDT",
          "Jan 28 2020 AEDT",
          "Jan 27 2020 AEDT",
          "Jan 26 2020 AEDT",
          "Jan 25 2020 AEDT",
          "Jan 24 2020 AEDT",
          "Jan 23 2020 AEDT",
          "Jan 22 2020 AEDT",
          "Jan 21 2020 AEDT"
         ],
         "type": "scatter",
         "x": [
          "2020-03-12T00:00:00",
          "2020-03-11T00:00:00",
          "2020-03-10T00:00:00",
          "2020-03-09T00:00:00",
          "2020-03-08T00:00:00",
          "2020-03-07T00:00:00",
          "2020-03-06T00:00:00",
          "2020-03-05T00:00:00",
          "2020-03-04T00:00:00",
          "2020-03-03T00:00:00",
          "2020-03-02T00:00:00",
          "2020-03-01T00:00:00",
          "2020-02-29T00:00:00",
          "2020-02-28T00:00:00",
          "2020-02-27T00:00:00",
          "2020-02-26T00:00:00",
          "2020-02-25T00:00:00",
          "2020-02-24T00:00:00",
          "2020-02-23T00:00:00",
          "2020-02-22T00:00:00",
          "2020-02-21T00:00:00",
          "2020-02-20T00:00:00",
          "2020-02-19T00:00:00",
          "2020-02-18T00:00:00",
          "2020-02-17T00:00:00",
          "2020-02-16T00:00:00",
          "2020-02-15T00:00:00",
          "2020-02-14T00:00:00",
          "2020-02-13T00:00:00",
          "2020-02-12T00:00:00",
          "2020-02-11T00:00:00",
          "2020-02-10T00:00:00",
          "2020-02-09T00:00:00",
          "2020-02-08T00:00:00",
          "2020-02-07T00:00:00",
          "2020-02-06T00:00:00",
          "2020-02-05T00:00:00",
          "2020-02-04T00:00:00",
          "2020-02-03T00:00:00",
          "2020-02-02T00:00:00",
          "2020-02-01T00:00:00",
          "2020-01-31T00:00:00",
          "2020-01-30T00:00:00",
          "2020-01-29T00:00:00",
          "2020-01-28T00:00:00",
          "2020-01-27T00:00:00",
          "2020-01-26T00:00:00",
          "2020-01-25T00:00:00",
          "2020-01-24T00:00:00",
          "2020-01-23T00:00:00",
          "2020-01-22T00:00:00",
          "2020-01-21T00:00:00"
         ],
         "y": [
          1335,
          1283,
          1239,
          1198,
          1157,
          1131,
          1077,
          1027,
          995,
          979,
          952,
          937,
          937,
          922,
          903,
          863,
          851,
          837,
          780,
          744,
          731,
          712,
          701,
          608,
          519,
          414,
          337,
          253,
          248,
          203,
          163,
          161,
          96,
          89,
          86,
          35,
          33,
          20,
          20,
          20,
          17,
          11,
          11,
          7,
          4,
          4,
          2,
          2,
          2,
          2,
          2,
          1
         ]
        },
        {
         "hovertemplate": "<b>%{text}</b><br></br>%{hovertext}<extra></extra>",
         "hovertext": [
          "Japan Recovered<br>443 cases<br>",
          "Japan Recovered<br>427 cases<br>",
          "Japan Recovered<br>331 cases<br>",
          "Japan Recovered<br>321 cases<br>",
          "Japan Recovered<br>321 cases<br>",
          "Japan Recovered<br>261 cases<br>",
          "Japan Recovered<br>255 cases<br>",
          "Japan Recovered<br>255 cases<br>",
          "Japan Recovered<br>143 cases<br>",
          "Japan Recovered<br>143 cases<br>",
          "Japan Recovered<br>52 cases<br>",
          "Japan Recovered<br>42 cases<br>",
          "Japan Recovered<br>42 cases<br>",
          "Japan Recovered<br>42 cases<br>",
          "Japan Recovered<br>42 cases<br>",
          "Japan Recovered<br>33 cases<br>",
          "Japan Recovered<br>33 cases<br>",
          "Japan Recovered<br>26 cases<br>",
          "Japan Recovered<br>25 cases<br>",
          "Japan Recovered<br>25 cases<br>",
          "Japan Recovered<br>23 cases<br>",
          "Japan Recovered<br>23 cases<br>",
          "Japan Recovered<br>23 cases<br>",
          "Japan Recovered<br>21 cases<br>",
          "Japan Recovered<br>17 cases<br>",
          "Japan Recovered<br>17 cases<br>",
          "Japan Recovered<br>11 cases<br>",
          "Japan Recovered<br>10 cases<br>",
          "Japan Recovered<br>10 cases<br>",
          "Japan Recovered<br>9 cases<br>",
          "Japan Recovered<br>9 cases<br>",
          "Japan Recovered<br>9 cases<br>",
          "Japan Recovered<br>4 cases<br>",
          "Japan Recovered<br>4 cases<br>",
          "Japan Recovered<br>1 cases<br>",
          "Japan Recovered<br>1 cases<br>",
          "Japan Recovered<br>1 cases<br>",
          "Japan Recovered<br>1 cases<br>",
          "Japan Recovered<br>1 cases<br>",
          "Japan Recovered<br>1 cases<br>",
          "Japan Recovered<br>1 cases<br>",
          "Japan Recovered<br>1 cases<br>",
          "Japan Recovered<br>1 cases<br>",
          "Japan Recovered<br>1 cases<br>",
          "Japan Recovered<br>1 cases<br>",
          "Japan Recovered<br>1 cases<br>",
          "Japan Recovered<br>0 cases<br>",
          "Japan Recovered<br>0 cases<br>",
          "Japan Recovered<br>0 cases<br>",
          "Japan Recovered<br>0 cases<br>",
          "Japan Recovered<br>0 cases<br>",
          "Japan Recovered<br>0 cases<br>"
         ],
         "line": {
          "color": "#1a9622",
          "width": 2
         },
         "mode": "lines+markers",
         "name": "Recovered case",
         "text": [
          "Mar 12 2020 AEDT",
          "Mar 11 2020 AEDT",
          "Mar 10 2020 AEDT",
          "Mar 09 2020 AEDT",
          "Mar 08 2020 AEDT",
          "Mar 07 2020 AEDT",
          "Mar 06 2020 AEDT",
          "Mar 05 2020 AEDT",
          "Mar 04 2020 AEDT",
          "Mar 03 2020 AEDT",
          "Mar 02 2020 AEDT",
          "Mar 01 2020 AEDT",
          "Feb 29 2020 AEDT",
          "Feb 28 2020 AEDT",
          "Feb 27 2020 AEDT",
          "Feb 26 2020 AEDT",
          "Feb 25 2020 AEDT",
          "Feb 24 2020 AEDT",
          "Feb 23 2020 AEDT",
          "Feb 22 2020 AEDT",
          "Feb 21 2020 AEDT",
          "Feb 20 2020 AEDT",
          "Feb 19 2020 AEDT",
          "Feb 18 2020 AEDT",
          "Feb 17 2020 AEDT",
          "Feb 16 2020 AEDT",
          "Feb 15 2020 AEDT",
          "Feb 14 2020 AEDT",
          "Feb 13 2020 AEDT",
          "Feb 12 2020 AEDT",
          "Feb 11 2020 AEDT",
          "Feb 10 2020 AEDT",
          "Feb 09 2020 AEDT",
          "Feb 08 2020 AEDT",
          "Feb 07 2020 AEDT",
          "Feb 06 2020 AEDT",
          "Feb 05 2020 AEDT",
          "Feb 04 2020 AEDT",
          "Feb 03 2020 AEDT",
          "Feb 02 2020 AEDT",
          "Feb 01 2020 AEDT",
          "Jan 31 2020 AEDT",
          "Jan 30 2020 AEDT",
          "Jan 29 2020 AEDT",
          "Jan 28 2020 AEDT",
          "Jan 27 2020 AEDT",
          "Jan 26 2020 AEDT",
          "Jan 25 2020 AEDT",
          "Jan 24 2020 AEDT",
          "Jan 23 2020 AEDT",
          "Jan 22 2020 AEDT",
          "Jan 21 2020 AEDT"
         ],
         "type": "scatter",
         "x": [
          "2020-03-12T00:00:00",
          "2020-03-11T00:00:00",
          "2020-03-10T00:00:00",
          "2020-03-09T00:00:00",
          "2020-03-08T00:00:00",
          "2020-03-07T00:00:00",
          "2020-03-06T00:00:00",
          "2020-03-05T00:00:00",
          "2020-03-04T00:00:00",
          "2020-03-03T00:00:00",
          "2020-03-02T00:00:00",
          "2020-03-01T00:00:00",
          "2020-02-29T00:00:00",
          "2020-02-28T00:00:00",
          "2020-02-27T00:00:00",
          "2020-02-26T00:00:00",
          "2020-02-25T00:00:00",
          "2020-02-24T00:00:00",
          "2020-02-23T00:00:00",
          "2020-02-22T00:00:00",
          "2020-02-21T00:00:00",
          "2020-02-20T00:00:00",
          "2020-02-19T00:00:00",
          "2020-02-18T00:00:00",
          "2020-02-17T00:00:00",
          "2020-02-16T00:00:00",
          "2020-02-15T00:00:00",
          "2020-02-14T00:00:00",
          "2020-02-13T00:00:00",
          "2020-02-12T00:00:00",
          "2020-02-11T00:00:00",
          "2020-02-10T00:00:00",
          "2020-02-09T00:00:00",
          "2020-02-08T00:00:00",
          "2020-02-07T00:00:00",
          "2020-02-06T00:00:00",
          "2020-02-05T00:00:00",
          "2020-02-04T00:00:00",
          "2020-02-03T00:00:00",
          "2020-02-02T00:00:00",
          "2020-02-01T00:00:00",
          "2020-01-31T00:00:00",
          "2020-01-30T00:00:00",
          "2020-01-29T00:00:00",
          "2020-01-28T00:00:00",
          "2020-01-27T00:00:00",
          "2020-01-26T00:00:00",
          "2020-01-25T00:00:00",
          "2020-01-24T00:00:00",
          "2020-01-23T00:00:00",
          "2020-01-22T00:00:00",
          "2020-01-21T00:00:00"
         ],
         "y": [
          443,
          427,
          331,
          321,
          321,
          261,
          255,
          255,
          143,
          143,
          52,
          42,
          42,
          42,
          42,
          33,
          33,
          26,
          25,
          25,
          23,
          23,
          23,
          21,
          17,
          17,
          11,
          10,
          10,
          9,
          9,
          9,
          4,
          4,
          1,
          1,
          1,
          1,
          1,
          1,
          1,
          1,
          1,
          1,
          1,
          1,
          0,
          0,
          0,
          0,
          0,
          0
         ]
        },
        {
         "hovertemplate": "<b>%{text}</b><br></br>%{hovertext}<extra></extra>",
         "hovertext": [
          "Japan Deaths<br>23 cases<br>",
          "Japan Deaths<br>19 cases<br>",
          "Japan Deaths<br>17 cases<br>",
          "Japan Deaths<br>14 cases<br>",
          "Japan Deaths<br>12 cases<br>",
          "Japan Deaths<br>12 cases<br>",
          "Japan Deaths<br>12 cases<br>",
          "Japan Deaths<br>12 cases<br>",
          "Japan Deaths<br>12 cases<br>",
          "Japan Deaths<br>12 cases<br>",
          "Japan Deaths<br>12 cases<br>",
          "Japan Deaths<br>12 cases<br>",
          "Japan Deaths<br>11 cases<br>",
          "Japan Deaths<br>9 cases<br>",
          "Japan Deaths<br>8 cases<br>",
          "Japan Deaths<br>6 cases<br>",
          "Japan Deaths<br>5 cases<br>",
          "Japan Deaths<br>4 cases<br>",
          "Japan Deaths<br>3 cases<br>",
          "Japan Deaths<br>3 cases<br>",
          "Japan Deaths<br>3 cases<br>",
          "Japan Deaths<br>3 cases<br>",
          "Japan Deaths<br>1 cases<br>",
          "Japan Deaths<br>1 cases<br>",
          "Japan Deaths<br>1 cases<br>",
          "Japan Deaths<br>1 cases<br>",
          "Japan Deaths<br>1 cases<br>",
          "Japan Deaths<br>1 cases<br>",
          "Japan Deaths<br>0 cases<br>",
          "Japan Deaths<br>0 cases<br>",
          "Japan Deaths<br>0 cases<br>",
          "Japan Deaths<br>0 cases<br>",
          "Japan Deaths<br>0 cases<br>",
          "Japan Deaths<br>0 cases<br>",
          "Japan Deaths<br>0 cases<br>",
          "Japan Deaths<br>0 cases<br>",
          "Japan Deaths<br>0 cases<br>",
          "Japan Deaths<br>0 cases<br>",
          "Japan Deaths<br>0 cases<br>",
          "Japan Deaths<br>0 cases<br>",
          "Japan Deaths<br>0 cases<br>",
          "Japan Deaths<br>0 cases<br>",
          "Japan Deaths<br>0 cases<br>",
          "Japan Deaths<br>0 cases<br>",
          "Japan Deaths<br>0 cases<br>",
          "Japan Deaths<br>0 cases<br>",
          "Japan Deaths<br>0 cases<br>",
          "Japan Deaths<br>0 cases<br>",
          "Japan Deaths<br>0 cases<br>",
          "Japan Deaths<br>0 cases<br>",
          "Japan Deaths<br>0 cases<br>",
          "Japan Deaths<br>0 cases<br>"
         ],
         "line": {
          "color": "#626262",
          "width": 2
         },
         "mode": "lines+markers",
         "name": "Death case",
         "text": [
          "Mar 12 2020 AEDT",
          "Mar 11 2020 AEDT",
          "Mar 10 2020 AEDT",
          "Mar 09 2020 AEDT",
          "Mar 08 2020 AEDT",
          "Mar 07 2020 AEDT",
          "Mar 06 2020 AEDT",
          "Mar 05 2020 AEDT",
          "Mar 04 2020 AEDT",
          "Mar 03 2020 AEDT",
          "Mar 02 2020 AEDT",
          "Mar 01 2020 AEDT",
          "Feb 29 2020 AEDT",
          "Feb 28 2020 AEDT",
          "Feb 27 2020 AEDT",
          "Feb 26 2020 AEDT",
          "Feb 25 2020 AEDT",
          "Feb 24 2020 AEDT",
          "Feb 23 2020 AEDT",
          "Feb 22 2020 AEDT",
          "Feb 21 2020 AEDT",
          "Feb 20 2020 AEDT",
          "Feb 19 2020 AEDT",
          "Feb 18 2020 AEDT",
          "Feb 17 2020 AEDT",
          "Feb 16 2020 AEDT",
          "Feb 15 2020 AEDT",
          "Feb 14 2020 AEDT",
          "Feb 13 2020 AEDT",
          "Feb 12 2020 AEDT",
          "Feb 11 2020 AEDT",
          "Feb 10 2020 AEDT",
          "Feb 09 2020 AEDT",
          "Feb 08 2020 AEDT",
          "Feb 07 2020 AEDT",
          "Feb 06 2020 AEDT",
          "Feb 05 2020 AEDT",
          "Feb 04 2020 AEDT",
          "Feb 03 2020 AEDT",
          "Feb 02 2020 AEDT",
          "Feb 01 2020 AEDT",
          "Jan 31 2020 AEDT",
          "Jan 30 2020 AEDT",
          "Jan 29 2020 AEDT",
          "Jan 28 2020 AEDT",
          "Jan 27 2020 AEDT",
          "Jan 26 2020 AEDT",
          "Jan 25 2020 AEDT",
          "Jan 24 2020 AEDT",
          "Jan 23 2020 AEDT",
          "Jan 22 2020 AEDT",
          "Jan 21 2020 AEDT"
         ],
         "type": "scatter",
         "x": [
          "2020-03-12T00:00:00",
          "2020-03-11T00:00:00",
          "2020-03-10T00:00:00",
          "2020-03-09T00:00:00",
          "2020-03-08T00:00:00",
          "2020-03-07T00:00:00",
          "2020-03-06T00:00:00",
          "2020-03-05T00:00:00",
          "2020-03-04T00:00:00",
          "2020-03-03T00:00:00",
          "2020-03-02T00:00:00",
          "2020-03-01T00:00:00",
          "2020-02-29T00:00:00",
          "2020-02-28T00:00:00",
          "2020-02-27T00:00:00",
          "2020-02-26T00:00:00",
          "2020-02-25T00:00:00",
          "2020-02-24T00:00:00",
          "2020-02-23T00:00:00",
          "2020-02-22T00:00:00",
          "2020-02-21T00:00:00",
          "2020-02-20T00:00:00",
          "2020-02-19T00:00:00",
          "2020-02-18T00:00:00",
          "2020-02-17T00:00:00",
          "2020-02-16T00:00:00",
          "2020-02-15T00:00:00",
          "2020-02-14T00:00:00",
          "2020-02-13T00:00:00",
          "2020-02-12T00:00:00",
          "2020-02-11T00:00:00",
          "2020-02-10T00:00:00",
          "2020-02-09T00:00:00",
          "2020-02-08T00:00:00",
          "2020-02-07T00:00:00",
          "2020-02-06T00:00:00",
          "2020-02-05T00:00:00",
          "2020-02-04T00:00:00",
          "2020-02-03T00:00:00",
          "2020-02-02T00:00:00",
          "2020-02-01T00:00:00",
          "2020-01-31T00:00:00",
          "2020-01-30T00:00:00",
          "2020-01-29T00:00:00",
          "2020-01-28T00:00:00",
          "2020-01-27T00:00:00",
          "2020-01-26T00:00:00",
          "2020-01-25T00:00:00",
          "2020-01-24T00:00:00",
          "2020-01-23T00:00:00",
          "2020-01-22T00:00:00",
          "2020-01-21T00:00:00"
         ],
         "y": [
          23,
          19,
          17,
          14,
          12,
          12,
          12,
          12,
          12,
          12,
          12,
          12,
          11,
          9,
          8,
          6,
          5,
          4,
          3,
          3,
          3,
          3,
          1,
          1,
          1,
          1,
          1,
          1,
          0,
          0,
          0,
          0,
          0,
          0,
          0,
          0,
          0,
          0,
          0,
          0,
          0,
          0,
          0,
          0,
          0,
          0,
          0,
          0,
          0,
          0,
          0,
          0
         ]
        },
        {
         "hovertemplate": "<b>%{text}</b><br></br>%{hovertext}<extra></extra>",
         "hovertext": [
          "Japan New<br>52 cases<br>",
          "Japan New<br>44 cases<br>",
          "Japan New<br>41 cases<br>",
          "Japan New<br>41 cases<br>",
          "Japan New<br>26 cases<br>",
          "Japan New<br>54 cases<br>",
          "Japan New<br>50 cases<br>",
          "Japan New<br>32 cases<br>",
          "Japan New<br>16 cases<br>",
          "Japan New<br>27 cases<br>",
          "Japan New<br>15 cases<br>",
          "Japan New<br>0 cases<br>",
          "Japan New<br>15 cases<br>",
          "Japan New<br>19 cases<br>",
          "Japan New<br>40 cases<br>",
          "Japan New<br>12 cases<br>",
          "Japan New<br>14 cases<br>",
          "Japan New<br>57 cases<br>",
          "Japan New<br>36 cases<br>",
          "Japan New<br>13 cases<br>",
          "Japan New<br>19 cases<br>",
          "Japan New<br>11 cases<br>",
          "Japan New<br>93 cases<br>",
          "Japan New<br>89 cases<br>",
          "Japan New<br>105 cases<br>",
          "Japan New<br>77 cases<br>",
          "Japan New<br>84 cases<br>",
          "Japan New<br>5 cases<br>",
          "Japan New<br>45 cases<br>",
          "Japan New<br>40 cases<br>",
          "Japan New<br>2 cases<br>",
          "Japan New<br>65 cases<br>",
          "Japan New<br>7 cases<br>",
          "Japan New<br>3 cases<br>",
          "Japan New<br>51 cases<br>",
          "Japan New<br>2 cases<br>",
          "Japan New<br>13 cases<br>",
          "Japan New<br>0 cases<br>",
          "Japan New<br>0 cases<br>",
          "Japan New<br>3 cases<br>",
          "Japan New<br>6 cases<br>",
          "Japan New<br>0 cases<br>",
          "Japan New<br>4 cases<br>",
          "Japan New<br>3 cases<br>",
          "Japan New<br>0 cases<br>",
          "Japan New<br>2 cases<br>",
          "Japan New<br>0 cases<br>",
          "Japan New<br>0 cases<br>",
          "Japan New<br>0 cases<br>",
          "Japan New<br>0 cases<br>",
          "Japan New<br>1 cases<br>",
          "Japan New<br>0 cases<br>"
         ],
         "marker": {
          "color": "#626262"
         },
         "name": "Daily New Cases",
         "opacity": 0.3,
         "text": [
          "Mar 12 2020 AEDT",
          "Mar 11 2020 AEDT",
          "Mar 10 2020 AEDT",
          "Mar 09 2020 AEDT",
          "Mar 08 2020 AEDT",
          "Mar 07 2020 AEDT",
          "Mar 06 2020 AEDT",
          "Mar 05 2020 AEDT",
          "Mar 04 2020 AEDT",
          "Mar 03 2020 AEDT",
          "Mar 02 2020 AEDT",
          "Mar 01 2020 AEDT",
          "Feb 29 2020 AEDT",
          "Feb 28 2020 AEDT",
          "Feb 27 2020 AEDT",
          "Feb 26 2020 AEDT",
          "Feb 25 2020 AEDT",
          "Feb 24 2020 AEDT",
          "Feb 23 2020 AEDT",
          "Feb 22 2020 AEDT",
          "Feb 21 2020 AEDT",
          "Feb 20 2020 AEDT",
          "Feb 19 2020 AEDT",
          "Feb 18 2020 AEDT",
          "Feb 17 2020 AEDT",
          "Feb 16 2020 AEDT",
          "Feb 15 2020 AEDT",
          "Feb 14 2020 AEDT",
          "Feb 13 2020 AEDT",
          "Feb 12 2020 AEDT",
          "Feb 11 2020 AEDT",
          "Feb 10 2020 AEDT",
          "Feb 09 2020 AEDT",
          "Feb 08 2020 AEDT",
          "Feb 07 2020 AEDT",
          "Feb 06 2020 AEDT",
          "Feb 05 2020 AEDT",
          "Feb 04 2020 AEDT",
          "Feb 03 2020 AEDT",
          "Feb 02 2020 AEDT",
          "Feb 01 2020 AEDT",
          "Jan 31 2020 AEDT",
          "Jan 30 2020 AEDT",
          "Jan 29 2020 AEDT",
          "Jan 28 2020 AEDT",
          "Jan 27 2020 AEDT",
          "Jan 26 2020 AEDT",
          "Jan 25 2020 AEDT",
          "Jan 24 2020 AEDT",
          "Jan 23 2020 AEDT",
          "Jan 22 2020 AEDT",
          "Jan 21 2020 AEDT"
         ],
         "type": "bar",
         "x": [
          "2020-03-12T00:00:00",
          "2020-03-11T00:00:00",
          "2020-03-10T00:00:00",
          "2020-03-09T00:00:00",
          "2020-03-08T00:00:00",
          "2020-03-07T00:00:00",
          "2020-03-06T00:00:00",
          "2020-03-05T00:00:00",
          "2020-03-04T00:00:00",
          "2020-03-03T00:00:00",
          "2020-03-02T00:00:00",
          "2020-03-01T00:00:00",
          "2020-02-29T00:00:00",
          "2020-02-28T00:00:00",
          "2020-02-27T00:00:00",
          "2020-02-26T00:00:00",
          "2020-02-25T00:00:00",
          "2020-02-24T00:00:00",
          "2020-02-23T00:00:00",
          "2020-02-22T00:00:00",
          "2020-02-21T00:00:00",
          "2020-02-20T00:00:00",
          "2020-02-19T00:00:00",
          "2020-02-18T00:00:00",
          "2020-02-17T00:00:00",
          "2020-02-16T00:00:00",
          "2020-02-15T00:00:00",
          "2020-02-14T00:00:00",
          "2020-02-13T00:00:00",
          "2020-02-12T00:00:00",
          "2020-02-11T00:00:00",
          "2020-02-10T00:00:00",
          "2020-02-09T00:00:00",
          "2020-02-08T00:00:00",
          "2020-02-07T00:00:00",
          "2020-02-06T00:00:00",
          "2020-02-05T00:00:00",
          "2020-02-04T00:00:00",
          "2020-02-03T00:00:00",
          "2020-02-02T00:00:00",
          "2020-02-01T00:00:00",
          "2020-01-31T00:00:00",
          "2020-01-30T00:00:00",
          "2020-01-29T00:00:00",
          "2020-01-28T00:00:00",
          "2020-01-27T00:00:00",
          "2020-01-26T00:00:00",
          "2020-01-25T00:00:00",
          "2020-01-24T00:00:00",
          "2020-01-23T00:00:00",
          "2020-01-22T00:00:00",
          "2020-01-21T00:00:00"
         ],
         "y": [
          52,
          44,
          41,
          41,
          26,
          54,
          50,
          32,
          16,
          27,
          15,
          0,
          15,
          19,
          40,
          12,
          14,
          57,
          36,
          13,
          19,
          11,
          93,
          89,
          105,
          77,
          84,
          5,
          45,
          40,
          2,
          65,
          7,
          3,
          51,
          2,
          13,
          0,
          0,
          3,
          6,
          0,
          4,
          3,
          0,
          2,
          0,
          0,
          0,
          0,
          1,
          0
         ]
        }
       ],
       "layout": {
        "annotations": [
         {
          "font": {
           "color": "grey",
           "family": "Arial, sans-serif",
           "size": 60
          },
          "opacity": 0.5,
          "text": "Japan",
          "x": 0.5,
          "xref": "paper",
          "y": 0.4,
          "yref": "paper"
         }
        ],
        "font": {
         "color": "#292929"
        },
        "hovermode": "x",
        "legend": {
         "bgcolor": "rgba(0,0,0,0)",
         "orientation": "v",
         "x": 0.02,
         "y": 0.95
        },
        "margin": {
         "b": 0,
         "l": 0,
         "pad": 0,
         "r": 0,
         "t": 0
        },
        "paper_bgcolor": "#cbd2d3",
        "plot_bgcolor": "#f4f4f2",
        "template": {
         "data": {
          "bar": [
           {
            "error_x": {
             "color": "#2a3f5f"
            },
            "error_y": {
             "color": "#2a3f5f"
            },
            "marker": {
             "line": {
              "color": "#E5ECF6",
              "width": 0.5
             }
            },
            "type": "bar"
           }
          ],
          "barpolar": [
           {
            "marker": {
             "line": {
              "color": "#E5ECF6",
              "width": 0.5
             }
            },
            "type": "barpolar"
           }
          ],
          "carpet": [
           {
            "aaxis": {
             "endlinecolor": "#2a3f5f",
             "gridcolor": "white",
             "linecolor": "white",
             "minorgridcolor": "white",
             "startlinecolor": "#2a3f5f"
            },
            "baxis": {
             "endlinecolor": "#2a3f5f",
             "gridcolor": "white",
             "linecolor": "white",
             "minorgridcolor": "white",
             "startlinecolor": "#2a3f5f"
            },
            "type": "carpet"
           }
          ],
          "choropleth": [
           {
            "colorbar": {
             "outlinewidth": 0,
             "ticks": ""
            },
            "type": "choropleth"
           }
          ],
          "contour": [
           {
            "colorbar": {
             "outlinewidth": 0,
             "ticks": ""
            },
            "colorscale": [
             [
              0,
              "#0d0887"
             ],
             [
              0.1111111111111111,
              "#46039f"
             ],
             [
              0.2222222222222222,
              "#7201a8"
             ],
             [
              0.3333333333333333,
              "#9c179e"
             ],
             [
              0.4444444444444444,
              "#bd3786"
             ],
             [
              0.5555555555555556,
              "#d8576b"
             ],
             [
              0.6666666666666666,
              "#ed7953"
             ],
             [
              0.7777777777777778,
              "#fb9f3a"
             ],
             [
              0.8888888888888888,
              "#fdca26"
             ],
             [
              1,
              "#f0f921"
             ]
            ],
            "type": "contour"
           }
          ],
          "contourcarpet": [
           {
            "colorbar": {
             "outlinewidth": 0,
             "ticks": ""
            },
            "type": "contourcarpet"
           }
          ],
          "heatmap": [
           {
            "colorbar": {
             "outlinewidth": 0,
             "ticks": ""
            },
            "colorscale": [
             [
              0,
              "#0d0887"
             ],
             [
              0.1111111111111111,
              "#46039f"
             ],
             [
              0.2222222222222222,
              "#7201a8"
             ],
             [
              0.3333333333333333,
              "#9c179e"
             ],
             [
              0.4444444444444444,
              "#bd3786"
             ],
             [
              0.5555555555555556,
              "#d8576b"
             ],
             [
              0.6666666666666666,
              "#ed7953"
             ],
             [
              0.7777777777777778,
              "#fb9f3a"
             ],
             [
              0.8888888888888888,
              "#fdca26"
             ],
             [
              1,
              "#f0f921"
             ]
            ],
            "type": "heatmap"
           }
          ],
          "heatmapgl": [
           {
            "colorbar": {
             "outlinewidth": 0,
             "ticks": ""
            },
            "colorscale": [
             [
              0,
              "#0d0887"
             ],
             [
              0.1111111111111111,
              "#46039f"
             ],
             [
              0.2222222222222222,
              "#7201a8"
             ],
             [
              0.3333333333333333,
              "#9c179e"
             ],
             [
              0.4444444444444444,
              "#bd3786"
             ],
             [
              0.5555555555555556,
              "#d8576b"
             ],
             [
              0.6666666666666666,
              "#ed7953"
             ],
             [
              0.7777777777777778,
              "#fb9f3a"
             ],
             [
              0.8888888888888888,
              "#fdca26"
             ],
             [
              1,
              "#f0f921"
             ]
            ],
            "type": "heatmapgl"
           }
          ],
          "histogram": [
           {
            "marker": {
             "colorbar": {
              "outlinewidth": 0,
              "ticks": ""
             }
            },
            "type": "histogram"
           }
          ],
          "histogram2d": [
           {
            "colorbar": {
             "outlinewidth": 0,
             "ticks": ""
            },
            "colorscale": [
             [
              0,
              "#0d0887"
             ],
             [
              0.1111111111111111,
              "#46039f"
             ],
             [
              0.2222222222222222,
              "#7201a8"
             ],
             [
              0.3333333333333333,
              "#9c179e"
             ],
             [
              0.4444444444444444,
              "#bd3786"
             ],
             [
              0.5555555555555556,
              "#d8576b"
             ],
             [
              0.6666666666666666,
              "#ed7953"
             ],
             [
              0.7777777777777778,
              "#fb9f3a"
             ],
             [
              0.8888888888888888,
              "#fdca26"
             ],
             [
              1,
              "#f0f921"
             ]
            ],
            "type": "histogram2d"
           }
          ],
          "histogram2dcontour": [
           {
            "colorbar": {
             "outlinewidth": 0,
             "ticks": ""
            },
            "colorscale": [
             [
              0,
              "#0d0887"
             ],
             [
              0.1111111111111111,
              "#46039f"
             ],
             [
              0.2222222222222222,
              "#7201a8"
             ],
             [
              0.3333333333333333,
              "#9c179e"
             ],
             [
              0.4444444444444444,
              "#bd3786"
             ],
             [
              0.5555555555555556,
              "#d8576b"
             ],
             [
              0.6666666666666666,
              "#ed7953"
             ],
             [
              0.7777777777777778,
              "#fb9f3a"
             ],
             [
              0.8888888888888888,
              "#fdca26"
             ],
             [
              1,
              "#f0f921"
             ]
            ],
            "type": "histogram2dcontour"
           }
          ],
          "mesh3d": [
           {
            "colorbar": {
             "outlinewidth": 0,
             "ticks": ""
            },
            "type": "mesh3d"
           }
          ],
          "parcoords": [
           {
            "line": {
             "colorbar": {
              "outlinewidth": 0,
              "ticks": ""
             }
            },
            "type": "parcoords"
           }
          ],
          "pie": [
           {
            "automargin": true,
            "type": "pie"
           }
          ],
          "scatter": [
           {
            "marker": {
             "colorbar": {
              "outlinewidth": 0,
              "ticks": ""
             }
            },
            "type": "scatter"
           }
          ],
          "scatter3d": [
           {
            "line": {
             "colorbar": {
              "outlinewidth": 0,
              "ticks": ""
             }
            },
            "marker": {
             "colorbar": {
              "outlinewidth": 0,
              "ticks": ""
             }
            },
            "type": "scatter3d"
           }
          ],
          "scattercarpet": [
           {
            "marker": {
             "colorbar": {
              "outlinewidth": 0,
              "ticks": ""
             }
            },
            "type": "scattercarpet"
           }
          ],
          "scattergeo": [
           {
            "marker": {
             "colorbar": {
              "outlinewidth": 0,
              "ticks": ""
             }
            },
            "type": "scattergeo"
           }
          ],
          "scattergl": [
           {
            "marker": {
             "colorbar": {
              "outlinewidth": 0,
              "ticks": ""
             }
            },
            "type": "scattergl"
           }
          ],
          "scattermapbox": [
           {
            "marker": {
             "colorbar": {
              "outlinewidth": 0,
              "ticks": ""
             }
            },
            "type": "scattermapbox"
           }
          ],
          "scatterpolar": [
           {
            "marker": {
             "colorbar": {
              "outlinewidth": 0,
              "ticks": ""
             }
            },
            "type": "scatterpolar"
           }
          ],
          "scatterpolargl": [
           {
            "marker": {
             "colorbar": {
              "outlinewidth": 0,
              "ticks": ""
             }
            },
            "type": "scatterpolargl"
           }
          ],
          "scatterternary": [
           {
            "marker": {
             "colorbar": {
              "outlinewidth": 0,
              "ticks": ""
             }
            },
            "type": "scatterternary"
           }
          ],
          "surface": [
           {
            "colorbar": {
             "outlinewidth": 0,
             "ticks": ""
            },
            "colorscale": [
             [
              0,
              "#0d0887"
             ],
             [
              0.1111111111111111,
              "#46039f"
             ],
             [
              0.2222222222222222,
              "#7201a8"
             ],
             [
              0.3333333333333333,
              "#9c179e"
             ],
             [
              0.4444444444444444,
              "#bd3786"
             ],
             [
              0.5555555555555556,
              "#d8576b"
             ],
             [
              0.6666666666666666,
              "#ed7953"
             ],
             [
              0.7777777777777778,
              "#fb9f3a"
             ],
             [
              0.8888888888888888,
              "#fdca26"
             ],
             [
              1,
              "#f0f921"
             ]
            ],
            "type": "surface"
           }
          ],
          "table": [
           {
            "cells": {
             "fill": {
              "color": "#EBF0F8"
             },
             "line": {
              "color": "white"
             }
            },
            "header": {
             "fill": {
              "color": "#C8D4E3"
             },
             "line": {
              "color": "white"
             }
            },
            "type": "table"
           }
          ]
         },
         "layout": {
          "annotationdefaults": {
           "arrowcolor": "#2a3f5f",
           "arrowhead": 0,
           "arrowwidth": 1
          },
          "coloraxis": {
           "colorbar": {
            "outlinewidth": 0,
            "ticks": ""
           }
          },
          "colorscale": {
           "diverging": [
            [
             0,
             "#8e0152"
            ],
            [
             0.1,
             "#c51b7d"
            ],
            [
             0.2,
             "#de77ae"
            ],
            [
             0.3,
             "#f1b6da"
            ],
            [
             0.4,
             "#fde0ef"
            ],
            [
             0.5,
             "#f7f7f7"
            ],
            [
             0.6,
             "#e6f5d0"
            ],
            [
             0.7,
             "#b8e186"
            ],
            [
             0.8,
             "#7fbc41"
            ],
            [
             0.9,
             "#4d9221"
            ],
            [
             1,
             "#276419"
            ]
           ],
           "sequential": [
            [
             0,
             "#0d0887"
            ],
            [
             0.1111111111111111,
             "#46039f"
            ],
            [
             0.2222222222222222,
             "#7201a8"
            ],
            [
             0.3333333333333333,
             "#9c179e"
            ],
            [
             0.4444444444444444,
             "#bd3786"
            ],
            [
             0.5555555555555556,
             "#d8576b"
            ],
            [
             0.6666666666666666,
             "#ed7953"
            ],
            [
             0.7777777777777778,
             "#fb9f3a"
            ],
            [
             0.8888888888888888,
             "#fdca26"
            ],
            [
             1,
             "#f0f921"
            ]
           ],
           "sequentialminus": [
            [
             0,
             "#0d0887"
            ],
            [
             0.1111111111111111,
             "#46039f"
            ],
            [
             0.2222222222222222,
             "#7201a8"
            ],
            [
             0.3333333333333333,
             "#9c179e"
            ],
            [
             0.4444444444444444,
             "#bd3786"
            ],
            [
             0.5555555555555556,
             "#d8576b"
            ],
            [
             0.6666666666666666,
             "#ed7953"
            ],
            [
             0.7777777777777778,
             "#fb9f3a"
            ],
            [
             0.8888888888888888,
             "#fdca26"
            ],
            [
             1,
             "#f0f921"
            ]
           ]
          },
          "colorway": [
           "#636efa",
           "#EF553B",
           "#00cc96",
           "#ab63fa",
           "#FFA15A",
           "#19d3f3",
           "#FF6692",
           "#B6E880",
           "#FF97FF",
           "#FECB52"
          ],
          "font": {
           "color": "#2a3f5f"
          },
          "geo": {
           "bgcolor": "white",
           "lakecolor": "white",
           "landcolor": "#E5ECF6",
           "showlakes": true,
           "showland": true,
           "subunitcolor": "white"
          },
          "hoverlabel": {
           "align": "left"
          },
          "hovermode": "closest",
          "mapbox": {
           "style": "light"
          },
          "paper_bgcolor": "white",
          "plot_bgcolor": "#E5ECF6",
          "polar": {
           "angularaxis": {
            "gridcolor": "white",
            "linecolor": "white",
            "ticks": ""
           },
           "bgcolor": "#E5ECF6",
           "radialaxis": {
            "gridcolor": "white",
            "linecolor": "white",
            "ticks": ""
           }
          },
          "scene": {
           "xaxis": {
            "backgroundcolor": "#E5ECF6",
            "gridcolor": "white",
            "gridwidth": 2,
            "linecolor": "white",
            "showbackground": true,
            "ticks": "",
            "zerolinecolor": "white"
           },
           "yaxis": {
            "backgroundcolor": "#E5ECF6",
            "gridcolor": "white",
            "gridwidth": 2,
            "linecolor": "white",
            "showbackground": true,
            "ticks": "",
            "zerolinecolor": "white"
           },
           "zaxis": {
            "backgroundcolor": "#E5ECF6",
            "gridcolor": "white",
            "gridwidth": 2,
            "linecolor": "white",
            "showbackground": true,
            "ticks": "",
            "zerolinecolor": "white"
           }
          },
          "shapedefaults": {
           "line": {
            "color": "#2a3f5f"
           }
          },
          "ternary": {
           "aaxis": {
            "gridcolor": "white",
            "linecolor": "white",
            "ticks": ""
           },
           "baxis": {
            "gridcolor": "white",
            "linecolor": "white",
            "ticks": ""
           },
           "bgcolor": "#E5ECF6",
           "caxis": {
            "gridcolor": "white",
            "linecolor": "white",
            "ticks": ""
           }
          },
          "title": {
           "x": 0.05
          },
          "xaxis": {
           "automargin": true,
           "gridcolor": "white",
           "linecolor": "white",
           "ticks": "",
           "title": {
            "standoff": 15
           },
           "zerolinecolor": "white",
           "zerolinewidth": 2
          },
          "yaxis": {
           "automargin": true,
           "gridcolor": "white",
           "linecolor": "white",
           "ticks": "",
           "title": {
            "standoff": 15
           },
           "zerolinecolor": "white",
           "zerolinewidth": 2
          }
         }
        },
        "xaxis": {
         "automargin": true,
         "gridcolor": "rgba(203, 210, 211,.3)",
         "gridwidth": 0.1,
         "linecolor": "#272e3e",
         "showgrid": false,
         "showline": false,
         "tickformat": "%b %d",
         "title": {
          "text": "Cumulative Cases (Select Country/Region From Table)"
         },
         "zeroline": false
        },
        "yaxis": {
         "automargin": true,
         "gridcolor": "rgba(203, 210, 211,.3)",
         "gridwidth": 0.1,
         "linecolor": "#272e3e",
         "mirror": true,
         "showline": false,
         "zeroline": false
        },
        "yaxis2": {
         "automargin": true,
         "linecolor": "#272e3e",
         "showgrid": false,
         "showline": false,
         "zeroline": false
        }
       }
      },
      "text/html": [
       "<div>\n",
       "        \n",
       "        \n",
       "            <div id=\"8b9bfa69-2511-444b-b07a-9a0533237289\" class=\"plotly-graph-div\" style=\"height:525px; width:100%;\"></div>\n",
       "            <script type=\"text/javascript\">\n",
       "                require([\"plotly\"], function(Plotly) {\n",
       "                    window.PLOTLYENV=window.PLOTLYENV || {};\n",
       "                    \n",
       "                if (document.getElementById(\"8b9bfa69-2511-444b-b07a-9a0533237289\")) {\n",
       "                    Plotly.newPlot(\n",
       "                        '8b9bfa69-2511-444b-b07a-9a0533237289',\n",
       "                        [{\"hovertemplate\": \"<b>%{text}</b><br></br>%{hovertext}<extra></extra>\", \"hovertext\": [\"Japan confirmed<br>1,335 cases<br>\", \"Japan confirmed<br>1,283 cases<br>\", \"Japan confirmed<br>1,239 cases<br>\", \"Japan confirmed<br>1,198 cases<br>\", \"Japan confirmed<br>1,157 cases<br>\", \"Japan confirmed<br>1,131 cases<br>\", \"Japan confirmed<br>1,077 cases<br>\", \"Japan confirmed<br>1,027 cases<br>\", \"Japan confirmed<br>995 cases<br>\", \"Japan confirmed<br>979 cases<br>\", \"Japan confirmed<br>952 cases<br>\", \"Japan confirmed<br>937 cases<br>\", \"Japan confirmed<br>937 cases<br>\", \"Japan confirmed<br>922 cases<br>\", \"Japan confirmed<br>903 cases<br>\", \"Japan confirmed<br>863 cases<br>\", \"Japan confirmed<br>851 cases<br>\", \"Japan confirmed<br>837 cases<br>\", \"Japan confirmed<br>780 cases<br>\", \"Japan confirmed<br>744 cases<br>\", \"Japan confirmed<br>731 cases<br>\", \"Japan confirmed<br>712 cases<br>\", \"Japan confirmed<br>701 cases<br>\", \"Japan confirmed<br>608 cases<br>\", \"Japan confirmed<br>519 cases<br>\", \"Japan confirmed<br>414 cases<br>\", \"Japan confirmed<br>337 cases<br>\", \"Japan confirmed<br>253 cases<br>\", \"Japan confirmed<br>248 cases<br>\", \"Japan confirmed<br>203 cases<br>\", \"Japan confirmed<br>163 cases<br>\", \"Japan confirmed<br>161 cases<br>\", \"Japan confirmed<br>96 cases<br>\", \"Japan confirmed<br>89 cases<br>\", \"Japan confirmed<br>86 cases<br>\", \"Japan confirmed<br>35 cases<br>\", \"Japan confirmed<br>33 cases<br>\", \"Japan confirmed<br>20 cases<br>\", \"Japan confirmed<br>20 cases<br>\", \"Japan confirmed<br>20 cases<br>\", \"Japan confirmed<br>17 cases<br>\", \"Japan confirmed<br>11 cases<br>\", \"Japan confirmed<br>11 cases<br>\", \"Japan confirmed<br>7 cases<br>\", \"Japan confirmed<br>4 cases<br>\", \"Japan confirmed<br>4 cases<br>\", \"Japan confirmed<br>2 cases<br>\", \"Japan confirmed<br>2 cases<br>\", \"Japan confirmed<br>2 cases<br>\", \"Japan confirmed<br>2 cases<br>\", \"Japan confirmed<br>2 cases<br>\", \"Japan confirmed<br>1 cases<br>\"], \"line\": {\"color\": \"#d7191c\", \"width\": 2}, \"mode\": \"lines+markers\", \"name\": \"Confirmed case\", \"text\": [\"Mar 12 2020 AEDT\", \"Mar 11 2020 AEDT\", \"Mar 10 2020 AEDT\", \"Mar 09 2020 AEDT\", \"Mar 08 2020 AEDT\", \"Mar 07 2020 AEDT\", \"Mar 06 2020 AEDT\", \"Mar 05 2020 AEDT\", \"Mar 04 2020 AEDT\", \"Mar 03 2020 AEDT\", \"Mar 02 2020 AEDT\", \"Mar 01 2020 AEDT\", \"Feb 29 2020 AEDT\", \"Feb 28 2020 AEDT\", \"Feb 27 2020 AEDT\", \"Feb 26 2020 AEDT\", \"Feb 25 2020 AEDT\", \"Feb 24 2020 AEDT\", \"Feb 23 2020 AEDT\", \"Feb 22 2020 AEDT\", \"Feb 21 2020 AEDT\", \"Feb 20 2020 AEDT\", \"Feb 19 2020 AEDT\", \"Feb 18 2020 AEDT\", \"Feb 17 2020 AEDT\", \"Feb 16 2020 AEDT\", \"Feb 15 2020 AEDT\", \"Feb 14 2020 AEDT\", \"Feb 13 2020 AEDT\", \"Feb 12 2020 AEDT\", \"Feb 11 2020 AEDT\", \"Feb 10 2020 AEDT\", \"Feb 09 2020 AEDT\", \"Feb 08 2020 AEDT\", \"Feb 07 2020 AEDT\", \"Feb 06 2020 AEDT\", \"Feb 05 2020 AEDT\", \"Feb 04 2020 AEDT\", \"Feb 03 2020 AEDT\", \"Feb 02 2020 AEDT\", \"Feb 01 2020 AEDT\", \"Jan 31 2020 AEDT\", \"Jan 30 2020 AEDT\", \"Jan 29 2020 AEDT\", \"Jan 28 2020 AEDT\", \"Jan 27 2020 AEDT\", \"Jan 26 2020 AEDT\", \"Jan 25 2020 AEDT\", \"Jan 24 2020 AEDT\", \"Jan 23 2020 AEDT\", \"Jan 22 2020 AEDT\", \"Jan 21 2020 AEDT\"], \"type\": \"scatter\", \"x\": [\"2020-03-12T00:00:00\", \"2020-03-11T00:00:00\", \"2020-03-10T00:00:00\", \"2020-03-09T00:00:00\", \"2020-03-08T00:00:00\", \"2020-03-07T00:00:00\", \"2020-03-06T00:00:00\", \"2020-03-05T00:00:00\", \"2020-03-04T00:00:00\", \"2020-03-03T00:00:00\", \"2020-03-02T00:00:00\", \"2020-03-01T00:00:00\", \"2020-02-29T00:00:00\", \"2020-02-28T00:00:00\", \"2020-02-27T00:00:00\", \"2020-02-26T00:00:00\", \"2020-02-25T00:00:00\", \"2020-02-24T00:00:00\", \"2020-02-23T00:00:00\", \"2020-02-22T00:00:00\", \"2020-02-21T00:00:00\", \"2020-02-20T00:00:00\", \"2020-02-19T00:00:00\", \"2020-02-18T00:00:00\", \"2020-02-17T00:00:00\", \"2020-02-16T00:00:00\", \"2020-02-15T00:00:00\", \"2020-02-14T00:00:00\", \"2020-02-13T00:00:00\", \"2020-02-12T00:00:00\", \"2020-02-11T00:00:00\", \"2020-02-10T00:00:00\", \"2020-02-09T00:00:00\", \"2020-02-08T00:00:00\", \"2020-02-07T00:00:00\", \"2020-02-06T00:00:00\", \"2020-02-05T00:00:00\", \"2020-02-04T00:00:00\", \"2020-02-03T00:00:00\", \"2020-02-02T00:00:00\", \"2020-02-01T00:00:00\", \"2020-01-31T00:00:00\", \"2020-01-30T00:00:00\", \"2020-01-29T00:00:00\", \"2020-01-28T00:00:00\", \"2020-01-27T00:00:00\", \"2020-01-26T00:00:00\", \"2020-01-25T00:00:00\", \"2020-01-24T00:00:00\", \"2020-01-23T00:00:00\", \"2020-01-22T00:00:00\", \"2020-01-21T00:00:00\"], \"y\": [1335, 1283, 1239, 1198, 1157, 1131, 1077, 1027, 995, 979, 952, 937, 937, 922, 903, 863, 851, 837, 780, 744, 731, 712, 701, 608, 519, 414, 337, 253, 248, 203, 163, 161, 96, 89, 86, 35, 33, 20, 20, 20, 17, 11, 11, 7, 4, 4, 2, 2, 2, 2, 2, 1]}, {\"hovertemplate\": \"<b>%{text}</b><br></br>%{hovertext}<extra></extra>\", \"hovertext\": [\"Japan Recovered<br>443 cases<br>\", \"Japan Recovered<br>427 cases<br>\", \"Japan Recovered<br>331 cases<br>\", \"Japan Recovered<br>321 cases<br>\", \"Japan Recovered<br>321 cases<br>\", \"Japan Recovered<br>261 cases<br>\", \"Japan Recovered<br>255 cases<br>\", \"Japan Recovered<br>255 cases<br>\", \"Japan Recovered<br>143 cases<br>\", \"Japan Recovered<br>143 cases<br>\", \"Japan Recovered<br>52 cases<br>\", \"Japan Recovered<br>42 cases<br>\", \"Japan Recovered<br>42 cases<br>\", \"Japan Recovered<br>42 cases<br>\", \"Japan Recovered<br>42 cases<br>\", \"Japan Recovered<br>33 cases<br>\", \"Japan Recovered<br>33 cases<br>\", \"Japan Recovered<br>26 cases<br>\", \"Japan Recovered<br>25 cases<br>\", \"Japan Recovered<br>25 cases<br>\", \"Japan Recovered<br>23 cases<br>\", \"Japan Recovered<br>23 cases<br>\", \"Japan Recovered<br>23 cases<br>\", \"Japan Recovered<br>21 cases<br>\", \"Japan Recovered<br>17 cases<br>\", \"Japan Recovered<br>17 cases<br>\", \"Japan Recovered<br>11 cases<br>\", \"Japan Recovered<br>10 cases<br>\", \"Japan Recovered<br>10 cases<br>\", \"Japan Recovered<br>9 cases<br>\", \"Japan Recovered<br>9 cases<br>\", \"Japan Recovered<br>9 cases<br>\", \"Japan Recovered<br>4 cases<br>\", \"Japan Recovered<br>4 cases<br>\", \"Japan Recovered<br>1 cases<br>\", \"Japan Recovered<br>1 cases<br>\", \"Japan Recovered<br>1 cases<br>\", \"Japan Recovered<br>1 cases<br>\", \"Japan Recovered<br>1 cases<br>\", \"Japan Recovered<br>1 cases<br>\", \"Japan Recovered<br>1 cases<br>\", \"Japan Recovered<br>1 cases<br>\", \"Japan Recovered<br>1 cases<br>\", \"Japan Recovered<br>1 cases<br>\", \"Japan Recovered<br>1 cases<br>\", \"Japan Recovered<br>1 cases<br>\", \"Japan Recovered<br>0 cases<br>\", \"Japan Recovered<br>0 cases<br>\", \"Japan Recovered<br>0 cases<br>\", \"Japan Recovered<br>0 cases<br>\", \"Japan Recovered<br>0 cases<br>\", \"Japan Recovered<br>0 cases<br>\"], \"line\": {\"color\": \"#1a9622\", \"width\": 2}, \"mode\": \"lines+markers\", \"name\": \"Recovered case\", \"text\": [\"Mar 12 2020 AEDT\", \"Mar 11 2020 AEDT\", \"Mar 10 2020 AEDT\", \"Mar 09 2020 AEDT\", \"Mar 08 2020 AEDT\", \"Mar 07 2020 AEDT\", \"Mar 06 2020 AEDT\", \"Mar 05 2020 AEDT\", \"Mar 04 2020 AEDT\", \"Mar 03 2020 AEDT\", \"Mar 02 2020 AEDT\", \"Mar 01 2020 AEDT\", \"Feb 29 2020 AEDT\", \"Feb 28 2020 AEDT\", \"Feb 27 2020 AEDT\", \"Feb 26 2020 AEDT\", \"Feb 25 2020 AEDT\", \"Feb 24 2020 AEDT\", \"Feb 23 2020 AEDT\", \"Feb 22 2020 AEDT\", \"Feb 21 2020 AEDT\", \"Feb 20 2020 AEDT\", \"Feb 19 2020 AEDT\", \"Feb 18 2020 AEDT\", \"Feb 17 2020 AEDT\", \"Feb 16 2020 AEDT\", \"Feb 15 2020 AEDT\", \"Feb 14 2020 AEDT\", \"Feb 13 2020 AEDT\", \"Feb 12 2020 AEDT\", \"Feb 11 2020 AEDT\", \"Feb 10 2020 AEDT\", \"Feb 09 2020 AEDT\", \"Feb 08 2020 AEDT\", \"Feb 07 2020 AEDT\", \"Feb 06 2020 AEDT\", \"Feb 05 2020 AEDT\", \"Feb 04 2020 AEDT\", \"Feb 03 2020 AEDT\", \"Feb 02 2020 AEDT\", \"Feb 01 2020 AEDT\", \"Jan 31 2020 AEDT\", \"Jan 30 2020 AEDT\", \"Jan 29 2020 AEDT\", \"Jan 28 2020 AEDT\", \"Jan 27 2020 AEDT\", \"Jan 26 2020 AEDT\", \"Jan 25 2020 AEDT\", \"Jan 24 2020 AEDT\", \"Jan 23 2020 AEDT\", \"Jan 22 2020 AEDT\", \"Jan 21 2020 AEDT\"], \"type\": \"scatter\", \"x\": [\"2020-03-12T00:00:00\", \"2020-03-11T00:00:00\", \"2020-03-10T00:00:00\", \"2020-03-09T00:00:00\", \"2020-03-08T00:00:00\", \"2020-03-07T00:00:00\", \"2020-03-06T00:00:00\", \"2020-03-05T00:00:00\", \"2020-03-04T00:00:00\", \"2020-03-03T00:00:00\", \"2020-03-02T00:00:00\", \"2020-03-01T00:00:00\", \"2020-02-29T00:00:00\", \"2020-02-28T00:00:00\", \"2020-02-27T00:00:00\", \"2020-02-26T00:00:00\", \"2020-02-25T00:00:00\", \"2020-02-24T00:00:00\", \"2020-02-23T00:00:00\", \"2020-02-22T00:00:00\", \"2020-02-21T00:00:00\", \"2020-02-20T00:00:00\", \"2020-02-19T00:00:00\", \"2020-02-18T00:00:00\", \"2020-02-17T00:00:00\", \"2020-02-16T00:00:00\", \"2020-02-15T00:00:00\", \"2020-02-14T00:00:00\", \"2020-02-13T00:00:00\", \"2020-02-12T00:00:00\", \"2020-02-11T00:00:00\", \"2020-02-10T00:00:00\", \"2020-02-09T00:00:00\", \"2020-02-08T00:00:00\", \"2020-02-07T00:00:00\", \"2020-02-06T00:00:00\", \"2020-02-05T00:00:00\", \"2020-02-04T00:00:00\", \"2020-02-03T00:00:00\", \"2020-02-02T00:00:00\", \"2020-02-01T00:00:00\", \"2020-01-31T00:00:00\", \"2020-01-30T00:00:00\", \"2020-01-29T00:00:00\", \"2020-01-28T00:00:00\", \"2020-01-27T00:00:00\", \"2020-01-26T00:00:00\", \"2020-01-25T00:00:00\", \"2020-01-24T00:00:00\", \"2020-01-23T00:00:00\", \"2020-01-22T00:00:00\", \"2020-01-21T00:00:00\"], \"y\": [443, 427, 331, 321, 321, 261, 255, 255, 143, 143, 52, 42, 42, 42, 42, 33, 33, 26, 25, 25, 23, 23, 23, 21, 17, 17, 11, 10, 10, 9, 9, 9, 4, 4, 1, 1, 1, 1, 1, 1, 1, 1, 1, 1, 1, 1, 0, 0, 0, 0, 0, 0]}, {\"hovertemplate\": \"<b>%{text}</b><br></br>%{hovertext}<extra></extra>\", \"hovertext\": [\"Japan Deaths<br>23 cases<br>\", \"Japan Deaths<br>19 cases<br>\", \"Japan Deaths<br>17 cases<br>\", \"Japan Deaths<br>14 cases<br>\", \"Japan Deaths<br>12 cases<br>\", \"Japan Deaths<br>12 cases<br>\", \"Japan Deaths<br>12 cases<br>\", \"Japan Deaths<br>12 cases<br>\", \"Japan Deaths<br>12 cases<br>\", \"Japan Deaths<br>12 cases<br>\", \"Japan Deaths<br>12 cases<br>\", \"Japan Deaths<br>12 cases<br>\", \"Japan Deaths<br>11 cases<br>\", \"Japan Deaths<br>9 cases<br>\", \"Japan Deaths<br>8 cases<br>\", \"Japan Deaths<br>6 cases<br>\", \"Japan Deaths<br>5 cases<br>\", \"Japan Deaths<br>4 cases<br>\", \"Japan Deaths<br>3 cases<br>\", \"Japan Deaths<br>3 cases<br>\", \"Japan Deaths<br>3 cases<br>\", \"Japan Deaths<br>3 cases<br>\", \"Japan Deaths<br>1 cases<br>\", \"Japan Deaths<br>1 cases<br>\", \"Japan Deaths<br>1 cases<br>\", \"Japan Deaths<br>1 cases<br>\", \"Japan Deaths<br>1 cases<br>\", \"Japan Deaths<br>1 cases<br>\", \"Japan Deaths<br>0 cases<br>\", \"Japan Deaths<br>0 cases<br>\", \"Japan Deaths<br>0 cases<br>\", \"Japan Deaths<br>0 cases<br>\", \"Japan Deaths<br>0 cases<br>\", \"Japan Deaths<br>0 cases<br>\", \"Japan Deaths<br>0 cases<br>\", \"Japan Deaths<br>0 cases<br>\", \"Japan Deaths<br>0 cases<br>\", \"Japan Deaths<br>0 cases<br>\", \"Japan Deaths<br>0 cases<br>\", \"Japan Deaths<br>0 cases<br>\", \"Japan Deaths<br>0 cases<br>\", \"Japan Deaths<br>0 cases<br>\", \"Japan Deaths<br>0 cases<br>\", \"Japan Deaths<br>0 cases<br>\", \"Japan Deaths<br>0 cases<br>\", \"Japan Deaths<br>0 cases<br>\", \"Japan Deaths<br>0 cases<br>\", \"Japan Deaths<br>0 cases<br>\", \"Japan Deaths<br>0 cases<br>\", \"Japan Deaths<br>0 cases<br>\", \"Japan Deaths<br>0 cases<br>\", \"Japan Deaths<br>0 cases<br>\"], \"line\": {\"color\": \"#626262\", \"width\": 2}, \"mode\": \"lines+markers\", \"name\": \"Death case\", \"text\": [\"Mar 12 2020 AEDT\", \"Mar 11 2020 AEDT\", \"Mar 10 2020 AEDT\", \"Mar 09 2020 AEDT\", \"Mar 08 2020 AEDT\", \"Mar 07 2020 AEDT\", \"Mar 06 2020 AEDT\", \"Mar 05 2020 AEDT\", \"Mar 04 2020 AEDT\", \"Mar 03 2020 AEDT\", \"Mar 02 2020 AEDT\", \"Mar 01 2020 AEDT\", \"Feb 29 2020 AEDT\", \"Feb 28 2020 AEDT\", \"Feb 27 2020 AEDT\", \"Feb 26 2020 AEDT\", \"Feb 25 2020 AEDT\", \"Feb 24 2020 AEDT\", \"Feb 23 2020 AEDT\", \"Feb 22 2020 AEDT\", \"Feb 21 2020 AEDT\", \"Feb 20 2020 AEDT\", \"Feb 19 2020 AEDT\", \"Feb 18 2020 AEDT\", \"Feb 17 2020 AEDT\", \"Feb 16 2020 AEDT\", \"Feb 15 2020 AEDT\", \"Feb 14 2020 AEDT\", \"Feb 13 2020 AEDT\", \"Feb 12 2020 AEDT\", \"Feb 11 2020 AEDT\", \"Feb 10 2020 AEDT\", \"Feb 09 2020 AEDT\", \"Feb 08 2020 AEDT\", \"Feb 07 2020 AEDT\", \"Feb 06 2020 AEDT\", \"Feb 05 2020 AEDT\", \"Feb 04 2020 AEDT\", \"Feb 03 2020 AEDT\", \"Feb 02 2020 AEDT\", \"Feb 01 2020 AEDT\", \"Jan 31 2020 AEDT\", \"Jan 30 2020 AEDT\", \"Jan 29 2020 AEDT\", \"Jan 28 2020 AEDT\", \"Jan 27 2020 AEDT\", \"Jan 26 2020 AEDT\", \"Jan 25 2020 AEDT\", \"Jan 24 2020 AEDT\", \"Jan 23 2020 AEDT\", \"Jan 22 2020 AEDT\", \"Jan 21 2020 AEDT\"], \"type\": \"scatter\", \"x\": [\"2020-03-12T00:00:00\", \"2020-03-11T00:00:00\", \"2020-03-10T00:00:00\", \"2020-03-09T00:00:00\", \"2020-03-08T00:00:00\", \"2020-03-07T00:00:00\", \"2020-03-06T00:00:00\", \"2020-03-05T00:00:00\", \"2020-03-04T00:00:00\", \"2020-03-03T00:00:00\", \"2020-03-02T00:00:00\", \"2020-03-01T00:00:00\", \"2020-02-29T00:00:00\", \"2020-02-28T00:00:00\", \"2020-02-27T00:00:00\", \"2020-02-26T00:00:00\", \"2020-02-25T00:00:00\", \"2020-02-24T00:00:00\", \"2020-02-23T00:00:00\", \"2020-02-22T00:00:00\", \"2020-02-21T00:00:00\", \"2020-02-20T00:00:00\", \"2020-02-19T00:00:00\", \"2020-02-18T00:00:00\", \"2020-02-17T00:00:00\", \"2020-02-16T00:00:00\", \"2020-02-15T00:00:00\", \"2020-02-14T00:00:00\", \"2020-02-13T00:00:00\", \"2020-02-12T00:00:00\", \"2020-02-11T00:00:00\", \"2020-02-10T00:00:00\", \"2020-02-09T00:00:00\", \"2020-02-08T00:00:00\", \"2020-02-07T00:00:00\", \"2020-02-06T00:00:00\", \"2020-02-05T00:00:00\", \"2020-02-04T00:00:00\", \"2020-02-03T00:00:00\", \"2020-02-02T00:00:00\", \"2020-02-01T00:00:00\", \"2020-01-31T00:00:00\", \"2020-01-30T00:00:00\", \"2020-01-29T00:00:00\", \"2020-01-28T00:00:00\", \"2020-01-27T00:00:00\", \"2020-01-26T00:00:00\", \"2020-01-25T00:00:00\", \"2020-01-24T00:00:00\", \"2020-01-23T00:00:00\", \"2020-01-22T00:00:00\", \"2020-01-21T00:00:00\"], \"y\": [23, 19, 17, 14, 12, 12, 12, 12, 12, 12, 12, 12, 11, 9, 8, 6, 5, 4, 3, 3, 3, 3, 1, 1, 1, 1, 1, 1, 0, 0, 0, 0, 0, 0, 0, 0, 0, 0, 0, 0, 0, 0, 0, 0, 0, 0, 0, 0, 0, 0, 0, 0]}, {\"hovertemplate\": \"<b>%{text}</b><br></br>%{hovertext}<extra></extra>\", \"hovertext\": [\"Japan New<br>52 cases<br>\", \"Japan New<br>44 cases<br>\", \"Japan New<br>41 cases<br>\", \"Japan New<br>41 cases<br>\", \"Japan New<br>26 cases<br>\", \"Japan New<br>54 cases<br>\", \"Japan New<br>50 cases<br>\", \"Japan New<br>32 cases<br>\", \"Japan New<br>16 cases<br>\", \"Japan New<br>27 cases<br>\", \"Japan New<br>15 cases<br>\", \"Japan New<br>0 cases<br>\", \"Japan New<br>15 cases<br>\", \"Japan New<br>19 cases<br>\", \"Japan New<br>40 cases<br>\", \"Japan New<br>12 cases<br>\", \"Japan New<br>14 cases<br>\", \"Japan New<br>57 cases<br>\", \"Japan New<br>36 cases<br>\", \"Japan New<br>13 cases<br>\", \"Japan New<br>19 cases<br>\", \"Japan New<br>11 cases<br>\", \"Japan New<br>93 cases<br>\", \"Japan New<br>89 cases<br>\", \"Japan New<br>105 cases<br>\", \"Japan New<br>77 cases<br>\", \"Japan New<br>84 cases<br>\", \"Japan New<br>5 cases<br>\", \"Japan New<br>45 cases<br>\", \"Japan New<br>40 cases<br>\", \"Japan New<br>2 cases<br>\", \"Japan New<br>65 cases<br>\", \"Japan New<br>7 cases<br>\", \"Japan New<br>3 cases<br>\", \"Japan New<br>51 cases<br>\", \"Japan New<br>2 cases<br>\", \"Japan New<br>13 cases<br>\", \"Japan New<br>0 cases<br>\", \"Japan New<br>0 cases<br>\", \"Japan New<br>3 cases<br>\", \"Japan New<br>6 cases<br>\", \"Japan New<br>0 cases<br>\", \"Japan New<br>4 cases<br>\", \"Japan New<br>3 cases<br>\", \"Japan New<br>0 cases<br>\", \"Japan New<br>2 cases<br>\", \"Japan New<br>0 cases<br>\", \"Japan New<br>0 cases<br>\", \"Japan New<br>0 cases<br>\", \"Japan New<br>0 cases<br>\", \"Japan New<br>1 cases<br>\", \"Japan New<br>0 cases<br>\"], \"marker\": {\"color\": \"#626262\"}, \"name\": \"Daily New Cases\", \"opacity\": 0.3, \"text\": [\"Mar 12 2020 AEDT\", \"Mar 11 2020 AEDT\", \"Mar 10 2020 AEDT\", \"Mar 09 2020 AEDT\", \"Mar 08 2020 AEDT\", \"Mar 07 2020 AEDT\", \"Mar 06 2020 AEDT\", \"Mar 05 2020 AEDT\", \"Mar 04 2020 AEDT\", \"Mar 03 2020 AEDT\", \"Mar 02 2020 AEDT\", \"Mar 01 2020 AEDT\", \"Feb 29 2020 AEDT\", \"Feb 28 2020 AEDT\", \"Feb 27 2020 AEDT\", \"Feb 26 2020 AEDT\", \"Feb 25 2020 AEDT\", \"Feb 24 2020 AEDT\", \"Feb 23 2020 AEDT\", \"Feb 22 2020 AEDT\", \"Feb 21 2020 AEDT\", \"Feb 20 2020 AEDT\", \"Feb 19 2020 AEDT\", \"Feb 18 2020 AEDT\", \"Feb 17 2020 AEDT\", \"Feb 16 2020 AEDT\", \"Feb 15 2020 AEDT\", \"Feb 14 2020 AEDT\", \"Feb 13 2020 AEDT\", \"Feb 12 2020 AEDT\", \"Feb 11 2020 AEDT\", \"Feb 10 2020 AEDT\", \"Feb 09 2020 AEDT\", \"Feb 08 2020 AEDT\", \"Feb 07 2020 AEDT\", \"Feb 06 2020 AEDT\", \"Feb 05 2020 AEDT\", \"Feb 04 2020 AEDT\", \"Feb 03 2020 AEDT\", \"Feb 02 2020 AEDT\", \"Feb 01 2020 AEDT\", \"Jan 31 2020 AEDT\", \"Jan 30 2020 AEDT\", \"Jan 29 2020 AEDT\", \"Jan 28 2020 AEDT\", \"Jan 27 2020 AEDT\", \"Jan 26 2020 AEDT\", \"Jan 25 2020 AEDT\", \"Jan 24 2020 AEDT\", \"Jan 23 2020 AEDT\", \"Jan 22 2020 AEDT\", \"Jan 21 2020 AEDT\"], \"type\": \"bar\", \"x\": [\"2020-03-12T00:00:00\", \"2020-03-11T00:00:00\", \"2020-03-10T00:00:00\", \"2020-03-09T00:00:00\", \"2020-03-08T00:00:00\", \"2020-03-07T00:00:00\", \"2020-03-06T00:00:00\", \"2020-03-05T00:00:00\", \"2020-03-04T00:00:00\", \"2020-03-03T00:00:00\", \"2020-03-02T00:00:00\", \"2020-03-01T00:00:00\", \"2020-02-29T00:00:00\", \"2020-02-28T00:00:00\", \"2020-02-27T00:00:00\", \"2020-02-26T00:00:00\", \"2020-02-25T00:00:00\", \"2020-02-24T00:00:00\", \"2020-02-23T00:00:00\", \"2020-02-22T00:00:00\", \"2020-02-21T00:00:00\", \"2020-02-20T00:00:00\", \"2020-02-19T00:00:00\", \"2020-02-18T00:00:00\", \"2020-02-17T00:00:00\", \"2020-02-16T00:00:00\", \"2020-02-15T00:00:00\", \"2020-02-14T00:00:00\", \"2020-02-13T00:00:00\", \"2020-02-12T00:00:00\", \"2020-02-11T00:00:00\", \"2020-02-10T00:00:00\", \"2020-02-09T00:00:00\", \"2020-02-08T00:00:00\", \"2020-02-07T00:00:00\", \"2020-02-06T00:00:00\", \"2020-02-05T00:00:00\", \"2020-02-04T00:00:00\", \"2020-02-03T00:00:00\", \"2020-02-02T00:00:00\", \"2020-02-01T00:00:00\", \"2020-01-31T00:00:00\", \"2020-01-30T00:00:00\", \"2020-01-29T00:00:00\", \"2020-01-28T00:00:00\", \"2020-01-27T00:00:00\", \"2020-01-26T00:00:00\", \"2020-01-25T00:00:00\", \"2020-01-24T00:00:00\", \"2020-01-23T00:00:00\", \"2020-01-22T00:00:00\", \"2020-01-21T00:00:00\"], \"y\": [52, 44, 41, 41, 26, 54, 50, 32, 16, 27, 15, 0, 15, 19, 40, 12, 14, 57, 36, 13, 19, 11, 93, 89, 105, 77, 84, 5, 45, 40, 2, 65, 7, 3, 51, 2, 13, 0, 0, 3, 6, 0, 4, 3, 0, 2, 0, 0, 0, 0, 1, 0]}],\n",
       "                        {\"annotations\": [{\"font\": {\"color\": \"grey\", \"family\": \"Arial, sans-serif\", \"size\": 60}, \"opacity\": 0.5, \"text\": \"Japan\", \"x\": 0.5, \"xref\": \"paper\", \"y\": 0.4, \"yref\": \"paper\"}], \"font\": {\"color\": \"#292929\"}, \"hovermode\": \"x\", \"legend\": {\"bgcolor\": \"rgba(0,0,0,0)\", \"orientation\": \"v\", \"x\": 0.02, \"y\": 0.95}, \"margin\": {\"b\": 0, \"l\": 0, \"pad\": 0, \"r\": 0, \"t\": 0}, \"paper_bgcolor\": \"#cbd2d3\", \"plot_bgcolor\": \"#f4f4f2\", \"template\": {\"data\": {\"bar\": [{\"error_x\": {\"color\": \"#2a3f5f\"}, \"error_y\": {\"color\": \"#2a3f5f\"}, \"marker\": {\"line\": {\"color\": \"#E5ECF6\", \"width\": 0.5}}, \"type\": \"bar\"}], \"barpolar\": [{\"marker\": {\"line\": {\"color\": \"#E5ECF6\", \"width\": 0.5}}, \"type\": \"barpolar\"}], \"carpet\": [{\"aaxis\": {\"endlinecolor\": \"#2a3f5f\", \"gridcolor\": \"white\", \"linecolor\": \"white\", \"minorgridcolor\": \"white\", \"startlinecolor\": \"#2a3f5f\"}, \"baxis\": {\"endlinecolor\": \"#2a3f5f\", \"gridcolor\": \"white\", \"linecolor\": \"white\", \"minorgridcolor\": \"white\", \"startlinecolor\": \"#2a3f5f\"}, \"type\": \"carpet\"}], \"choropleth\": [{\"colorbar\": {\"outlinewidth\": 0, \"ticks\": \"\"}, \"type\": \"choropleth\"}], \"contour\": [{\"colorbar\": {\"outlinewidth\": 0, \"ticks\": \"\"}, \"colorscale\": [[0.0, \"#0d0887\"], [0.1111111111111111, \"#46039f\"], [0.2222222222222222, \"#7201a8\"], [0.3333333333333333, \"#9c179e\"], [0.4444444444444444, \"#bd3786\"], [0.5555555555555556, \"#d8576b\"], [0.6666666666666666, \"#ed7953\"], [0.7777777777777778, \"#fb9f3a\"], [0.8888888888888888, \"#fdca26\"], [1.0, \"#f0f921\"]], \"type\": \"contour\"}], \"contourcarpet\": [{\"colorbar\": {\"outlinewidth\": 0, \"ticks\": \"\"}, \"type\": \"contourcarpet\"}], \"heatmap\": [{\"colorbar\": {\"outlinewidth\": 0, \"ticks\": \"\"}, \"colorscale\": [[0.0, \"#0d0887\"], [0.1111111111111111, \"#46039f\"], [0.2222222222222222, \"#7201a8\"], [0.3333333333333333, \"#9c179e\"], [0.4444444444444444, \"#bd3786\"], [0.5555555555555556, \"#d8576b\"], [0.6666666666666666, \"#ed7953\"], [0.7777777777777778, \"#fb9f3a\"], [0.8888888888888888, \"#fdca26\"], [1.0, \"#f0f921\"]], \"type\": \"heatmap\"}], \"heatmapgl\": [{\"colorbar\": {\"outlinewidth\": 0, \"ticks\": \"\"}, \"colorscale\": [[0.0, \"#0d0887\"], [0.1111111111111111, \"#46039f\"], [0.2222222222222222, \"#7201a8\"], [0.3333333333333333, \"#9c179e\"], [0.4444444444444444, \"#bd3786\"], [0.5555555555555556, \"#d8576b\"], [0.6666666666666666, \"#ed7953\"], [0.7777777777777778, \"#fb9f3a\"], [0.8888888888888888, \"#fdca26\"], [1.0, \"#f0f921\"]], \"type\": \"heatmapgl\"}], \"histogram\": [{\"marker\": {\"colorbar\": {\"outlinewidth\": 0, \"ticks\": \"\"}}, \"type\": \"histogram\"}], \"histogram2d\": [{\"colorbar\": {\"outlinewidth\": 0, \"ticks\": \"\"}, \"colorscale\": [[0.0, \"#0d0887\"], [0.1111111111111111, \"#46039f\"], [0.2222222222222222, \"#7201a8\"], [0.3333333333333333, \"#9c179e\"], [0.4444444444444444, \"#bd3786\"], [0.5555555555555556, \"#d8576b\"], [0.6666666666666666, \"#ed7953\"], [0.7777777777777778, \"#fb9f3a\"], [0.8888888888888888, \"#fdca26\"], [1.0, \"#f0f921\"]], \"type\": \"histogram2d\"}], \"histogram2dcontour\": [{\"colorbar\": {\"outlinewidth\": 0, \"ticks\": \"\"}, \"colorscale\": [[0.0, \"#0d0887\"], [0.1111111111111111, \"#46039f\"], [0.2222222222222222, \"#7201a8\"], [0.3333333333333333, \"#9c179e\"], [0.4444444444444444, \"#bd3786\"], [0.5555555555555556, \"#d8576b\"], [0.6666666666666666, \"#ed7953\"], [0.7777777777777778, \"#fb9f3a\"], [0.8888888888888888, \"#fdca26\"], [1.0, \"#f0f921\"]], \"type\": \"histogram2dcontour\"}], \"mesh3d\": [{\"colorbar\": {\"outlinewidth\": 0, \"ticks\": \"\"}, \"type\": \"mesh3d\"}], \"parcoords\": [{\"line\": {\"colorbar\": {\"outlinewidth\": 0, \"ticks\": \"\"}}, \"type\": \"parcoords\"}], \"pie\": [{\"automargin\": true, \"type\": \"pie\"}], \"scatter\": [{\"marker\": {\"colorbar\": {\"outlinewidth\": 0, \"ticks\": \"\"}}, \"type\": \"scatter\"}], \"scatter3d\": [{\"line\": {\"colorbar\": {\"outlinewidth\": 0, \"ticks\": \"\"}}, \"marker\": {\"colorbar\": {\"outlinewidth\": 0, \"ticks\": \"\"}}, \"type\": \"scatter3d\"}], \"scattercarpet\": [{\"marker\": {\"colorbar\": {\"outlinewidth\": 0, \"ticks\": \"\"}}, \"type\": \"scattercarpet\"}], \"scattergeo\": [{\"marker\": {\"colorbar\": {\"outlinewidth\": 0, \"ticks\": \"\"}}, \"type\": \"scattergeo\"}], \"scattergl\": [{\"marker\": {\"colorbar\": {\"outlinewidth\": 0, \"ticks\": \"\"}}, \"type\": \"scattergl\"}], \"scattermapbox\": [{\"marker\": {\"colorbar\": {\"outlinewidth\": 0, \"ticks\": \"\"}}, \"type\": \"scattermapbox\"}], \"scatterpolar\": [{\"marker\": {\"colorbar\": {\"outlinewidth\": 0, \"ticks\": \"\"}}, \"type\": \"scatterpolar\"}], \"scatterpolargl\": [{\"marker\": {\"colorbar\": {\"outlinewidth\": 0, \"ticks\": \"\"}}, \"type\": \"scatterpolargl\"}], \"scatterternary\": [{\"marker\": {\"colorbar\": {\"outlinewidth\": 0, \"ticks\": \"\"}}, \"type\": \"scatterternary\"}], \"surface\": [{\"colorbar\": {\"outlinewidth\": 0, \"ticks\": \"\"}, \"colorscale\": [[0.0, \"#0d0887\"], [0.1111111111111111, \"#46039f\"], [0.2222222222222222, \"#7201a8\"], [0.3333333333333333, \"#9c179e\"], [0.4444444444444444, \"#bd3786\"], [0.5555555555555556, \"#d8576b\"], [0.6666666666666666, \"#ed7953\"], [0.7777777777777778, \"#fb9f3a\"], [0.8888888888888888, \"#fdca26\"], [1.0, \"#f0f921\"]], \"type\": \"surface\"}], \"table\": [{\"cells\": {\"fill\": {\"color\": \"#EBF0F8\"}, \"line\": {\"color\": \"white\"}}, \"header\": {\"fill\": {\"color\": \"#C8D4E3\"}, \"line\": {\"color\": \"white\"}}, \"type\": \"table\"}]}, \"layout\": {\"annotationdefaults\": {\"arrowcolor\": \"#2a3f5f\", \"arrowhead\": 0, \"arrowwidth\": 1}, \"coloraxis\": {\"colorbar\": {\"outlinewidth\": 0, \"ticks\": \"\"}}, \"colorscale\": {\"diverging\": [[0, \"#8e0152\"], [0.1, \"#c51b7d\"], [0.2, \"#de77ae\"], [0.3, \"#f1b6da\"], [0.4, \"#fde0ef\"], [0.5, \"#f7f7f7\"], [0.6, \"#e6f5d0\"], [0.7, \"#b8e186\"], [0.8, \"#7fbc41\"], [0.9, \"#4d9221\"], [1, \"#276419\"]], \"sequential\": [[0.0, \"#0d0887\"], [0.1111111111111111, \"#46039f\"], [0.2222222222222222, \"#7201a8\"], [0.3333333333333333, \"#9c179e\"], [0.4444444444444444, \"#bd3786\"], [0.5555555555555556, \"#d8576b\"], [0.6666666666666666, \"#ed7953\"], [0.7777777777777778, \"#fb9f3a\"], [0.8888888888888888, \"#fdca26\"], [1.0, \"#f0f921\"]], \"sequentialminus\": [[0.0, \"#0d0887\"], [0.1111111111111111, \"#46039f\"], [0.2222222222222222, \"#7201a8\"], [0.3333333333333333, \"#9c179e\"], [0.4444444444444444, \"#bd3786\"], [0.5555555555555556, \"#d8576b\"], [0.6666666666666666, \"#ed7953\"], [0.7777777777777778, \"#fb9f3a\"], [0.8888888888888888, \"#fdca26\"], [1.0, \"#f0f921\"]]}, \"colorway\": [\"#636efa\", \"#EF553B\", \"#00cc96\", \"#ab63fa\", \"#FFA15A\", \"#19d3f3\", \"#FF6692\", \"#B6E880\", \"#FF97FF\", \"#FECB52\"], \"font\": {\"color\": \"#2a3f5f\"}, \"geo\": {\"bgcolor\": \"white\", \"lakecolor\": \"white\", \"landcolor\": \"#E5ECF6\", \"showlakes\": true, \"showland\": true, \"subunitcolor\": \"white\"}, \"hoverlabel\": {\"align\": \"left\"}, \"hovermode\": \"closest\", \"mapbox\": {\"style\": \"light\"}, \"paper_bgcolor\": \"white\", \"plot_bgcolor\": \"#E5ECF6\", \"polar\": {\"angularaxis\": {\"gridcolor\": \"white\", \"linecolor\": \"white\", \"ticks\": \"\"}, \"bgcolor\": \"#E5ECF6\", \"radialaxis\": {\"gridcolor\": \"white\", \"linecolor\": \"white\", \"ticks\": \"\"}}, \"scene\": {\"xaxis\": {\"backgroundcolor\": \"#E5ECF6\", \"gridcolor\": \"white\", \"gridwidth\": 2, \"linecolor\": \"white\", \"showbackground\": true, \"ticks\": \"\", \"zerolinecolor\": \"white\"}, \"yaxis\": {\"backgroundcolor\": \"#E5ECF6\", \"gridcolor\": \"white\", \"gridwidth\": 2, \"linecolor\": \"white\", \"showbackground\": true, \"ticks\": \"\", \"zerolinecolor\": \"white\"}, \"zaxis\": {\"backgroundcolor\": \"#E5ECF6\", \"gridcolor\": \"white\", \"gridwidth\": 2, \"linecolor\": \"white\", \"showbackground\": true, \"ticks\": \"\", \"zerolinecolor\": \"white\"}}, \"shapedefaults\": {\"line\": {\"color\": \"#2a3f5f\"}}, \"ternary\": {\"aaxis\": {\"gridcolor\": \"white\", \"linecolor\": \"white\", \"ticks\": \"\"}, \"baxis\": {\"gridcolor\": \"white\", \"linecolor\": \"white\", \"ticks\": \"\"}, \"bgcolor\": \"#E5ECF6\", \"caxis\": {\"gridcolor\": \"white\", \"linecolor\": \"white\", \"ticks\": \"\"}}, \"title\": {\"x\": 0.05}, \"xaxis\": {\"automargin\": true, \"gridcolor\": \"white\", \"linecolor\": \"white\", \"ticks\": \"\", \"title\": {\"standoff\": 15}, \"zerolinecolor\": \"white\", \"zerolinewidth\": 2}, \"yaxis\": {\"automargin\": true, \"gridcolor\": \"white\", \"linecolor\": \"white\", \"ticks\": \"\", \"title\": {\"standoff\": 15}, \"zerolinecolor\": \"white\", \"zerolinewidth\": 2}}}, \"xaxis\": {\"automargin\": true, \"gridcolor\": \"rgba(203, 210, 211,.3)\", \"gridwidth\": 0.1, \"linecolor\": \"#272e3e\", \"showgrid\": false, \"showline\": false, \"tickformat\": \"%b %d\", \"title\": {\"text\": \"Cumulative Cases (Select Country/Region From Table)\"}, \"zeroline\": false}, \"yaxis\": {\"automargin\": true, \"gridcolor\": \"rgba(203, 210, 211,.3)\", \"gridwidth\": 0.1, \"linecolor\": \"#272e3e\", \"mirror\": true, \"showline\": false, \"zeroline\": false}, \"yaxis2\": {\"automargin\": true, \"linecolor\": \"#272e3e\", \"showgrid\": false, \"showline\": false, \"zeroline\": false}},\n",
       "                        {\"responsive\": true}\n",
       "                    ).then(function(){\n",
       "                            \n",
       "var gd = document.getElementById('8b9bfa69-2511-444b-b07a-9a0533237289');\n",
       "var x = new MutationObserver(function (mutations, observer) {{\n",
       "        var display = window.getComputedStyle(gd).display;\n",
       "        if (!display || display === 'none') {{\n",
       "            console.log([gd, 'removed!']);\n",
       "            Plotly.purge(gd);\n",
       "            observer.disconnect();\n",
       "        }}\n",
       "}});\n",
       "\n",
       "// Listen for the removal of the full notebook cells\n",
       "var notebookContainer = gd.closest('#notebook-container');\n",
       "if (notebookContainer) {{\n",
       "    x.observe(notebookContainer, {childList: true});\n",
       "}}\n",
       "\n",
       "// Listen for the clearing of the current output cell\n",
       "var outputEl = gd.closest('.output');\n",
       "if (outputEl) {{\n",
       "    x.observe(outputEl, {childList: true});\n",
       "}}\n",
       "\n",
       "                        })\n",
       "                };\n",
       "                });\n",
       "            </script>\n",
       "        </div>"
      ]
     },
     "metadata": {},
     "output_type": "display_data"
    }
   ],
   "source": [
    "%%time\n",
    "\n",
    "# FUnction for generating cumulative line plot for each Country/Region\n",
    "Region = 'Japan'\n",
    "CaseType = ['Confirmed', 'Recovered', 'Deaths']\n",
    "\n",
    "# Read cumulative data of a given region from ./cumulative_data folder\n",
    "df_region = pd.read_csv('./cumulative_data/{}.csv'.format(Region))\n",
    "df_region=df_region.astype({'Date_last_updated_AEDT':'datetime64', 'date_day':'datetime64'})\n",
    "\n",
    "# Line plot for confirmed cases\n",
    "# Set up tick scale based on confirmed case number\n",
    "#tickList = list(np.arange(0, df_confirmed['Mainland China'].max()+1000, 10000))\n",
    "\n",
    "# Create empty figure canvas\n",
    "#fig = make_subplots(specs=[[{\"secondary_y\": True}]])\n",
    "fig = go.Figure()\n",
    "# Add trace to the figure\n",
    "fig.add_trace(go.Scatter(x=df_region['date_day'], \n",
    "                         y=df_region['Confirmed'],\n",
    "                         mode='lines+markers',\n",
    "                         #line_shape='spline',\n",
    "                         name='Confirmed case',\n",
    "                         line=dict(color='#d7191c', width=2),\n",
    "                         #marker=dict(size=4, color='#f4f4f2',\n",
    "                         #            line=dict(width=1,color='#921113')),\n",
    "                         text=[datetime.strftime(d, '%b %d %Y AEDT') for d in df_region['date_day']],\n",
    "                         hovertext=['{} confirmed<br>{:,d} cases<br>'.format(Region, i) for i in df_region['Confirmed']],\n",
    "                         hovertemplate='<b>%{text}</b><br></br>'+\n",
    "                                                 '%{hovertext}'+\n",
    "                                                 '<extra></extra>'),\n",
    "#             secondary_y=False,\n",
    "             )\n",
    "fig.add_trace(go.Scatter(x=df_region['date_day'], \n",
    "                         y=df_region['Recovered'],\n",
    "                         mode='lines+markers',\n",
    "                         #line_shape='spline',\n",
    "                         name='Recovered case',\n",
    "                         line=dict(color='#1a9622', width=2),                         \n",
    "                         #marker=dict(size=4, color='#f4f4f2',\n",
    "                         #            line=dict(width=1,color='#168038')),\n",
    "                         text=[datetime.strftime(d, '%b %d %Y AEDT') for d in df_region['date_day']],\n",
    "                         hovertext=['{} Recovered<br>{:,d} cases<br>'.format(Region, i) for i in df_region['Recovered']],\n",
    "                         hovertemplate='<b>%{text}</b><br></br>'+\n",
    "                                                 '%{hovertext}'+\n",
    "                                                 '<extra></extra>'),\n",
    "#             secondary_y=False,\n",
    "             )\n",
    "fig.add_trace(go.Scatter(x=df_region['date_day'], \n",
    "                         y=df_region['Deaths'],\n",
    "                         mode='lines+markers',\n",
    "                         #line_shape='spline',\n",
    "                         name='Death case',\n",
    "                         line=dict(color='#626262', width=2),\n",
    "                         #marker=dict(size=4, color='#f4f4f2',\n",
    "                         #            line=dict(width=1,color='#626262')),\n",
    "                         text=[datetime.strftime(d, '%b %d %Y AEDT') for d in df_region['date_day']],\n",
    "                         hovertext=['{} Deaths<br>{:,d} cases<br>'.format(Region, i) for i in df_region['Deaths']],\n",
    "                         hovertemplate='<b>%{text}</b><br></br>'+\n",
    "                                                 '%{hovertext}'+\n",
    "                                                 '<extra></extra>'),\n",
    "#             secondary_y=False,\n",
    "             )\n",
    "\n",
    "fig.add_trace(go.Bar(x=df_region['date_day'], \n",
    "                     y=df_region['New'],\n",
    "                         #mode='lines+markers',\n",
    "                         #line_shape='spline',\n",
    "                     name='Daily New Cases',\n",
    "                     marker_color='#626262',\n",
    "                     opacity = .3,\n",
    "                         #marker=dict(size=4, color='#f4f4f2',\n",
    "                         #            line=dict(width=1,color='#626262')),\n",
    "                     text=[datetime.strftime(d, '%b %d %Y AEDT') for d in df_region['date_day']],\n",
    "                     hovertext=['{} New<br>{} cases<br>'.format(Region, i) for i in df_region['New']],\n",
    "                     hovertemplate='<b>%{text}</b><br></br>'+\n",
    "                                              '%{hovertext}'+\n",
    "                                              '<extra></extra>'\n",
    "                    ),\n",
    "#             secondary_y=True,\n",
    "             )\n",
    "\n",
    "# Customise layout\n",
    "fig.update_layout(\n",
    "    #title=dict(\n",
    "    #    text=\"<b>Confirmed Cases Timeline<b>\",\n",
    "    #    y=0.96, x=0.5, xanchor='center', yanchor='top',\n",
    "    #    font=dict(size=20, color=\"#292929\", family=\"Playfair Display\")\n",
    "    #),\n",
    "    margin=go.layout.Margin(\n",
    "            l=0,\n",
    "            r=0,\n",
    "            b=0,\n",
    "            t=0,\n",
    "            pad=0\n",
    "        ),\n",
    "    annotations=[\n",
    "        dict(x=.5,\n",
    "             y=.4,\n",
    "             xref=\"paper\",\n",
    "             yref=\"paper\",\n",
    "             text=Region,\n",
    "             opacity=0.5,\n",
    "             font=dict(family='Arial, sans-serif',\n",
    "                       size=60,\n",
    "                       color=\"grey\"),\n",
    "        )\n",
    "    ],\n",
    "    yaxis=dict(showline=False, linecolor='#272e3e',\n",
    "               zeroline=False,\n",
    "               #rangemode=\"tozero\",\n",
    "               automargin=True,\n",
    "               #showgrid=False,\n",
    "               gridcolor='rgba(203, 210, 211,.3)',\n",
    "               gridwidth = .1,\n",
    "               mirror=True,\n",
    "               #tickmode='array',\n",
    "               # Set tick range based on the maximum number\n",
    "               #tickvals=tickList,\n",
    "               # Set tick label accordingly\n",
    "               #ticktext=[\"{:.0f}k\".format(i/1000) for i in tickList]\n",
    "    ),\n",
    "    yaxis2=dict(showline=False, linecolor='#272e3e',\n",
    "                zeroline=False,\n",
    "                showgrid=False,\n",
    "                automargin=True,\n",
    "                #range=[-1, max(df_region['New'])+100]\n",
    "                #rangemode=\"tozero\",\n",
    "                #mirror='ticks',\n",
    "                #gridcolor='rgba(203, 210, 211,.3)',\n",
    "                #gridwidth = .1,\n",
    "                #tickmode='array',\n",
    "                #anchor=\"free\",\n",
    "                #overlaying=\"y\",\n",
    "                #side=\"right\",\n",
    "                #position=0.15\n",
    "    ),\n",
    "    xaxis_title=\"Cumulative Cases (Select Country/Region From Table)\",\n",
    "    xaxis=dict(showline=False, linecolor='#272e3e',\n",
    "               showgrid=False,\n",
    "               gridcolor='rgba(203, 210, 211,.3)',\n",
    "               gridwidth = .1,\n",
    "               zeroline=False,\n",
    "               automargin=True,\n",
    "    ),\n",
    "    xaxis_tickformat='%b %d',\n",
    "    #transition = {'duration':500},\n",
    "    hovermode = 'x',\n",
    "    legend_orientation=\"v\",\n",
    "    legend=dict(x=.02, y=.95, bgcolor=\"rgba(0,0,0,0)\",),\n",
    "    plot_bgcolor='#f4f4f2',\n",
    "    paper_bgcolor='#cbd2d3',\n",
    "    font=dict(color='#292929')\n",
    "    )\n",
    "\n"
   ]
  },
  {
   "cell_type": "code",
   "execution_count": 185,
   "metadata": {},
   "outputs": [
    {
     "name": "stdout",
     "output_type": "stream",
     "text": [
      " * Serving Flask app \"__main__\" (lazy loading)\n",
      " * Environment: production\n",
      "   WARNING: This is a development server. Do not use it in a production deployment.\n",
      "   Use a production WSGI server instead.\n",
      " * Debug mode: off\n"
     ]
    },
    {
     "name": "stderr",
     "output_type": "stream",
     "text": [
      " * Running on http://127.0.0.1:8882/ (Press CTRL+C to quit)\n",
      "127.0.0.1 - - [12/Mar/2020 16:22:46] \"GET / HTTP/1.1\" 200 -\n",
      "127.0.0.1 - - [12/Mar/2020 16:22:46] \"GET /_dash-component-suites/dash_renderer/react@16.8.6.min.js?v=1.1.2&m=1576595738 HTTP/1.1\" 200 -\n",
      "127.0.0.1 - - [12/Mar/2020 16:22:46] \"GET /_dash-component-suites/dash_renderer/prop-types@15.7.2.min.js?v=1.1.2&m=1576595738 HTTP/1.1\" 200 -\n",
      "127.0.0.1 - - [12/Mar/2020 16:22:46] \"GET /_dash-component-suites/dash_renderer/react-dom@16.8.6.min.js?v=1.1.2&m=1576595738 HTTP/1.1\" 200 -\n",
      "127.0.0.1 - - [12/Mar/2020 16:22:46] \"GET /_dash-component-suites/dash_table/bundle.js?v=4.4.1&m=1576596075 HTTP/1.1\" 200 -\n",
      "127.0.0.1 - - [12/Mar/2020 16:22:46] \"GET /_dash-component-suites/dash_bootstrap_components/_components/dash_bootstrap_components.min.js?v=0.8.2&m=1580284437 HTTP/1.1\" 200 -\n",
      "127.0.0.1 - - [12/Mar/2020 16:22:46] \"GET /_dash-component-suites/dash_core_components/highlight.pack.js?v=1.3.1&m=1576595950 HTTP/1.1\" 200 -\n",
      "127.0.0.1 - - [12/Mar/2020 16:22:46] \"GET /_dash-component-suites/dash_html_components/dash_html_components.min.js?v=1.0.1&m=1576596177 HTTP/1.1\" 200 -\n",
      "127.0.0.1 - - [12/Mar/2020 16:22:46] \"GET /_dash-component-suites/dash_core_components/dash_core_components.min.js?v=1.3.1&m=1576595950 HTTP/1.1\" 200 -\n",
      "127.0.0.1 - - [12/Mar/2020 16:22:46] \"GET /_dash-component-suites/dash_core_components/plotly-1.50.1.min.js?v=1.3.1&m=1576595950 HTTP/1.1\" 200 -\n",
      "127.0.0.1 - - [12/Mar/2020 16:22:46] \"GET /_dash-component-suites/dash_renderer/dash_renderer.min.js?v=1.1.2&m=1576595738 HTTP/1.1\" 200 -\n",
      "127.0.0.1 - - [12/Mar/2020 16:22:47] \"GET /_dash-dependencies HTTP/1.1\" 200 -\n",
      "127.0.0.1 - - [12/Mar/2020 16:22:47] \"GET /_dash-layout HTTP/1.1\" 200 -\n",
      "127.0.0.1 - - [12/Mar/2020 16:22:48] \"POST /_dash-update-component HTTP/1.1\" 200 -\n",
      "127.0.0.1 - - [12/Mar/2020 16:22:48] \"POST /_dash-update-component HTTP/1.1\" 200 -\n",
      "127.0.0.1 - - [12/Mar/2020 16:22:49] \"POST /_dash-update-component HTTP/1.1\" 200 -\n",
      "127.0.0.1 - - [12/Mar/2020 16:22:49] \"POST /_dash-update-component HTTP/1.1\" 200 -\n"
     ]
    }
   ],
   "source": [
    "##################################################################################################\n",
    "#### Start dash app\n",
    "##################################################################################################\n",
    "\n",
    "app = dash.Dash(__name__, \n",
    "                assets_folder='./assets/',\n",
    "                meta_tags=[\n",
    "                    {\"name\": \"author\", \"content\": \"Jun Ye\"},\n",
    "                    {\"name\": \"description\", \"content\": \"The coronavirus COVID-19 monitor provides up-to-date data for the global spread of coronavirus.\"},\n",
    "                    {\"property\": \"og:title\", \"content\": \"Coronavirus COVID-19 Outbreak Global Cases Monitor\"},\n",
    "                    {\"property\": \"og:type\", \"content\": \"website\"},\n",
    "                    {\"property\":\"og:image\", \"content\": \"https://junye0798.com/post/build-a-dashboard-to-track-the-spread-of-coronavirus-using-dash/featured_hu676943c67ca727a9a973d1fe66ac6f83_849996_1200x0_resize_lanczos_2.png\"},\n",
    "                    {\"property\": \"og:url\", \"content\": \"https://dash-coronavirus-2020.herokuapp.com/\"},\n",
    "                    {\"property\":\"og:description\", \"content\": \"The coronavirus COVID-19 monitor provides up-to-date data for the global spread of coronavirus.\"},\n",
    "                    {\"name\": \"twitter:card\", \"content\": \"summary_large_image\"},\n",
    "                    {\"name\": \"twitter:site\", \"content\": \"@perishleaf\"},\n",
    "                    {\"name\": \"twitter:title\", \"content\": \"Coronavirus COVID-19 Outbreak Global Cases Monitor\"},\n",
    "                    {\"name\": \"twitter:description\", \"content\": \"The coronavirus COVID-19 monitor provides up-to-date data for the global spread of coronavirus.\"},\n",
    "                    {\"name\": \"twitter:image\", \"content\": \"https://junye0798.com/post/build-a-dashboard-to-track-the-spread-of-coronavirus-using-dash/featured_hu676943c67ca727a9a973d1fe66ac6f83_849996_1200x0_resize_lanczos_2.png\"},\n",
    "                    {\"name\": \"viewport\", \"content\": \"width=device-width, height=device-height, initial-scale=1.0\"}\n",
    "                ]\n",
    "      )\n",
    "\n",
    "app.title = 'Coronavirus COVID-19 Global Monitor'\n",
    "\n",
    "# Section for Google annlytic and donation #\n",
    "app.index_string = \"\"\"<!DOCTYPE html>\n",
    "<html>\n",
    "    <head>\n",
    "        <script data-name=\"BMC-Widget\" src=\"https://cdnjs.buymeacoffee.com/1.0.0/widget.prod.min.js\" data-id=\"qPsBJAV\" data-description=\"Support the app server for running!\" data-message=\"Please support the app server for running!\" data-color=\"#FF813F\" data-position=\"right\" data-x_margin=\"18\" data-y_margin=\"18\"></script>\n",
    "        <!-- Global site tag (gtag.js) - Google Analytics -->\n",
    "        <script async src=\"https://www.googletagmanager.com/gtag/js?id=UA-154901818-2\"></script>\n",
    "        <script>\n",
    "          window.dataLayer = window.dataLayer || [];\n",
    "          function gtag(){dataLayer.push(arguments);}\n",
    "          gtag('js', new Date());\n",
    "\n",
    "          gtag('config', 'UA-154901818-2');\n",
    "        </script>\n",
    "        {%metas%}\n",
    "        <title>{%title%}</title>\n",
    "        {%favicon%}\n",
    "        {%css%}\n",
    "    </head>\n",
    "    <body>\n",
    "        {%app_entry%}\n",
    "        <footer>\n",
    "            {%config%}\n",
    "            {%scripts%}\n",
    "            {%renderer%}\n",
    "        </footer>\n",
    "    </body>\n",
    "</html>\"\"\"\n",
    "\n",
    "server = app.server\n",
    "\n",
    "app.layout = html.Div(style={'backgroundColor':'#f4f4f2'},\n",
    "    children=[\n",
    "        html.Div(\n",
    "            id=\"header\",\n",
    "            children=[                          \n",
    "                html.H4(children=\"Coronavirus (COVID-19) Outbreak Global Cases Monitor\"),\n",
    "                html.P(\n",
    "                    id=\"description\",\n",
    "                    children=\"On Dec 31, 2019, the World Health Organization (WHO) was informed of \\\n",
    "                    an outbreak of “pneumonia of unknown cause” detected in Wuhan City, Hubei Province, China – the \\\n",
    "                    seventh-largest city in China with 11 million residents. As of {}, there are over {:,d} cases \\\n",
    "                    of COVID-19 confirmed globally.\\\n",
    "                    This dash board is developed to visualise and track the recent reported \\\n",
    "                    cases on a hourly timescale.\".format(latestDate, confirmedCases),\n",
    "                ),\n",
    " #              html.P(\n",
    " #               \tid=\"note\",\n",
    " #               \tchildren=['⚠️ Source from ', \n",
    " #               \thtml.A('The National Health Commission of China', href='http://www.nhc.gov.cn/yjb/s7860/202002/553ff43ca29d4fe88f3837d49d6b6ef1.shtml'),\n",
    " #               \t': in its February 14 official report, deducted \\\n",
    " #                 108 previously reported deaths and 1,043 previously reported cases from the total in Hubei Province due to \"repeated counting.\" \\\n",
    " #               \tData have been corrected for these changes.']\n",
    " #               ),\n",
    " #              html.P(\n",
    " #                id=\"note\",\n",
    " #                children=['⚠️ Source from ', \n",
    " #                html.A('读卖新闻', href='https://www.yomiuri.co.jp/national/20200216-OYT1T50089/'),\n",
    " #                ': Diamond Princess cruise confirmed 70 new infections, bringing the total infected cases to 355.']\n",
    " #               ),\n",
    " #        \t\t    html.P(\n",
    " #                 id=\"note\",\n",
    " #                 children=['⚠️ Source from ',\n",
    " #                           html.A('anews', href='http://www.anews.com.tr/world/2020/02/21/iran-says-two-more-deaths-among-13-new-coronavirus-cases'),\n",
    " #                           ': Iran\\'s health ministry Friday reported two more deaths among 13 new cases of coronavirus in the Islamic republic, bringing the total number of deaths to four and infections to 18.']\n",
    " #               ),\n",
    " #               html.P(\n",
    " #                 id=\"note\",\n",
    " #                 children=['⚠️ Source from ',\n",
    " #                           html.A('The New York Times', href='https://www.nytimes.com/2020/03/01/world/coronavirus-news.html'),\n",
    " #                           ': New York State Reports First Case.']\n",
    " #                ), \t\t\t\t\t\n",
    "                html.P(\n",
    "                  id='time-stamp',\n",
    "                  #style={'fontWeight':'bold'},\n",
    "                       children=\"🔴 Last updated on {}. (Sorry, the app server may experince short period of interruption while updating data)\".format(latestDate))\n",
    "                    ]        \n",
    "                ),\n",
    "        html.Div(\n",
    "            id=\"number-plate\",\n",
    "            style={'marginLeft':'1.5%','marginRight':'1.5%','marginBottom':'.5%'},\n",
    "                 children=[\n",
    "                     html.Div(\n",
    "                         style={'width':'24.4%','backgroundColor':'#cbd2d3','display':'inline-block',\n",
    "                                'marginRight':'.8%','verticalAlign':'top'},\n",
    "                              children=[\n",
    "                                  html.H3(style={'textAlign':'center',\n",
    "                                                 'fontWeight':'bold','color':'#2674f6'},\n",
    "                                               children=[\n",
    "                                                   html.P(style={'color':'#cbd2d3','padding':'.5rem'},\n",
    "                                                              children='xxxx xx xxx xxxx xxx xxxxx'),\n",
    "                                                   '{}'.format(daysOutbreak),\n",
    "                                               ]),\n",
    "                                  html.H5(style={'textAlign':'center','color':'#2674f6','padding':'.1rem'},\n",
    "                                               children=\"Days Since Outbreak\")                                        \n",
    "                                       ]),\n",
    "                     html.Div(\n",
    "                         style={'width':'24.4%','backgroundColor':'#cbd2d3','display':'inline-block',\n",
    "                                'marginRight':'.8%','verticalAlign':'top'},\n",
    "                              children=[\n",
    "                                  html.H3(style={'textAlign':'center',\n",
    "                                                 'fontWeight':'bold','color':'#d7191c'},\n",
    "                                                children=[\n",
    "                                                    html.P(style={'padding':'.5rem'},\n",
    "                                                              children='+ {:,d} in the past 24h ({:.1%})'.format(plusConfirmedNum, plusPercentNum1)),\n",
    "                                                    '{:,d}'.format(confirmedCases)\n",
    "                                                         ]),\n",
    "                                  html.H5(style={'textAlign':'center','color':'#d7191c','padding':'.1rem'},\n",
    "                                               children=\"Confirmed Cases\")                                        \n",
    "                                       ]),\n",
    "                     html.Div(\n",
    "                         style={'width':'24.4%','backgroundColor':'#cbd2d3','display':'inline-block',\n",
    "                                'marginRight':'.8%','verticalAlign':'top'},\n",
    "                              children=[\n",
    "                                  html.H3(style={'textAlign':'center',\n",
    "                                                       'fontWeight':'bold','color':'#1a9622'},\n",
    "                                               children=[\n",
    "                                                   html.P(style={'padding':'.5rem'},\n",
    "                                                              children='+ {:,d} in the past 24h ({:.1%})'.format(plusRecoveredNum, plusPercentNum2)),\n",
    "                                                   '{:,d}'.format(recoveredCases),\n",
    "                                               ]),\n",
    "                                  html.H5(style={'textAlign':'center','color':'#1a9622','padding':'.1rem'},\n",
    "                                               children=\"Recovered Cases\")                                        \n",
    "                                       ]),\n",
    "                     html.Div(\n",
    "                         style={'width':'24.4%','backgroundColor':'#cbd2d3','display':'inline-block',\n",
    "                                'verticalAlign':'top'},\n",
    "                              children=[\n",
    "                                  html.H3(style={'textAlign':'center',\n",
    "                                                       'fontWeight':'bold','color':'#6c6c6c'},\n",
    "                                                children=[\n",
    "                                                    html.P(style={'padding':'.5rem'},\n",
    "                                                              children='+ {:,d} in the past 24h ({:.1%})'.format(plusDeathNum, plusPercentNum3)),\n",
    "                                                    '{:,d}'.format(deathsCases)\n",
    "                                                ]),\n",
    "                                  html.H5(style={'textAlign':'center','color':'#6c6c6c','padding':'.1rem'},\n",
    "                                               children=\"Death Cases\")                                        \n",
    "                                       ])\n",
    "                          ]),\n",
    "        html.Div(\n",
    "            id='dcc-plot',\n",
    "            style={'marginLeft':'1.5%','marginRight':'1.5%','marginBottom':'.35%','marginTop':'.5%'},\n",
    "                 children=[\n",
    "                     html.Div(\n",
    "                         style={'width':'32.79%','display':'inline-block','marginRight':'.8%','verticalAlign':'top'},\n",
    "                              children=[\n",
    "                                  html.H5(style={'textAlign':'center','backgroundColor':'#cbd2d3',\n",
    "                                                 'color':'#292929','padding':'1rem','marginBottom':'0'},\n",
    "                                               children='Confirmed Case Timeline'),\n",
    "                                  dcc.Graph(style={'height':'300px'},figure=fig_confirmed)]),\n",
    "                     html.Div(\n",
    "                         style={'width':'32.79%','display':'inline-block','marginRight':'.8%','verticalAlign':'top'},\n",
    "                              children=[\n",
    "                                  html.H5(style={'textAlign':'center','backgroundColor':'#cbd2d3',\n",
    "                                                 'color':'#292929','padding':'1rem','marginBottom':'0'},\n",
    "                                               children='Recovered/Death Case Timeline'),\n",
    "                                  dcc.Graph(style={'height':'300px'},figure=fig_combine)]),\n",
    "                     html.Div(\n",
    "                         style={'width':'32.79%','display':'inline-block','verticalAlign':'top'},\n",
    "                              children=[\n",
    "                                  html.H5(style={'textAlign':'center','backgroundColor':'#cbd2d3',\n",
    "                                                 'color':'#292929','padding':'1rem','marginBottom':'0'},\n",
    "                                               children='Death Rate (%) Timeline'),\n",
    "                                  dcc.Graph(style={'height':'300px'},figure=fig_rate)])]),\n",
    "        html.Div(\n",
    "            id='dcc-map',\n",
    "            style={'marginLeft':'1.5%','marginRight':'1.5%','marginBottom':'.5%'},\n",
    "                 children=[\n",
    "                     html.Div(style={'width':'66.41%','marginRight':'.8%','display':'inline-block','verticalAlign':'top'},\n",
    "                              children=[\n",
    "                                  html.H5(style={'textAlign':'center','backgroundColor':'#cbd2d3',\n",
    "                                                 'color':'#292929','padding':'1rem','marginBottom':'0'},\n",
    "                                               children='Latest Coronavirus Outbreak Map'),\n",
    "                                  dcc.Graph(\n",
    "                                      id='datatable-interact-map',\n",
    "                                      style={'height':'500px'},),\n",
    "                                  dcc.Graph(\n",
    "                                      id='datatable-interact-lineplot',\n",
    "                                      style={'height':'300px'},),\n",
    "                              ]),\n",
    "                     html.Div(style={'width':'32.79%','display':'inline-block','verticalAlign':'top'},\n",
    "                              children=[\n",
    "                                  html.H5(style={'textAlign':'center','backgroundColor':'#cbd2d3',\n",
    "                                                 'color':'#292929','padding':'1rem','marginBottom':'0'},\n",
    "                                               children='Cases by Country/Region'),\n",
    "                                  dcc.Tabs(\n",
    "                                        value='tab-1',\n",
    "                                        parent_className='custom-tabs',\n",
    "                                        className='custom-tabs-container',\n",
    "                                        children=[\n",
    "                                            dcc.Tab(label='The World',\n",
    "                                                    value='tab-1',\n",
    "                                                className='custom-tab',\n",
    "                                                selected_className='custom-tab--selected',\n",
    "                                                children=[                                                    \n",
    "                                                    dash_table.DataTable(\n",
    "                                                        id='datatable-interact-location',\n",
    "                                                        # Don't show coordinates\n",
    "                                                        columns=[{\"name\": i, \"id\": i} for i in dfSum.columns[0:5]],\n",
    "                                                        # But still store coordinates in the table for interactivity\n",
    "                                                        data=dfSum.to_dict(\"rows\"),\n",
    "                                                        row_selectable=\"single\",\n",
    "                                                        sort_action=\"native\",\n",
    "                                                        style_as_list_view=True,\n",
    "                                                        style_cell={'font_family':'Arial',\n",
    "                                                                    'font_size':'1.2rem',\n",
    "                                                                    'padding':'.1rem',\n",
    "                                                                    'backgroundColor':'#f4f4f2',},\n",
    "                                                        fixed_rows={'headers':True,'data':0},\n",
    "                                                        style_table={'minHeight': '750px', \n",
    "                                                                     'height': '750px', \n",
    "                                                                     'maxHeight': '750px'\n",
    "                                                                    #'Height':'300px',\n",
    "                                                                    #'overflowY':'scroll',\n",
    "                                                                    #'overflowX':'scroll',\n",
    "                                                                    },\n",
    "                                                        style_header={'backgroundColor':'#f4f4f2',\n",
    "                                                                      'fontWeight':'bold'},\n",
    "                                                        style_cell_conditional=[{'if': {'column_id':'Country/Regions'},'width':'28%'},\n",
    "                                                                                {'if': {'column_id':'Remaining'},'width':'18%'},\n",
    "                                                                                {'if': {'column_id':'Confirmed'},'width':'18%'},\n",
    "                                                                                {'if': {'column_id':'Recovered'},'width':'18%'},\n",
    "                                                                                {'if': {'column_id':'Deaths'},'width':'18%'},\n",
    "                                                                                {'if': {'column_id':'Confirmed'},'color':'#d7191c'},\n",
    "                                                                                {'if': {'column_id':'Recovered'},'color':'#1a9622'},\n",
    "                                                                                {'if': {'column_id':'Deaths'},'color':'#6c6c6c'},\n",
    "                                                                                {'textAlign': 'center'}],\n",
    "                                                    )\n",
    "                                        ]),\n",
    "                                        dcc.Tab(label='Australia',\n",
    "                                                className='custom-tab',\n",
    "                                                selected_className='custom-tab--selected',\n",
    "                                                children=[\n",
    "                                            dash_table.DataTable(\n",
    "                                                \n",
    "                                                # Don't show coordinates\n",
    "                                                columns=[{\"name\": i, \"id\": i} for i in AUSTable.columns[0:5]],\n",
    "                                                # But still store coordinates in the table for interactivity\n",
    "                                                data=AUSTable.to_dict(\"rows\"),\n",
    "                                                #row_selectable=\"single\",\n",
    "                                                sort_action=\"native\",\n",
    "                                                style_as_list_view=True,\n",
    "                                                style_cell={'font_family':'Arial',\n",
    "                                                            'font_size':'1.2rem',\n",
    "                                                            'padding':'.1rem',\n",
    "                                                            'backgroundColor':'#f4f4f2',},\n",
    "                                                fixed_rows={'headers':True,'data':0},\n",
    "                                                style_table={'minHeight': '750px', \n",
    "                                                             'height': '750px', \n",
    "                                                             'maxHeight': '750px'\n",
    "                                                            #'Height':'300px',\n",
    "                                                            #'overflowY':'scroll',\n",
    "                                                            #'overflowX':'scroll',\n",
    "                                                            },\n",
    "                                                style_header={'backgroundColor':'#f4f4f2',\n",
    "                                                              'fontWeight':'bold'},\n",
    "                                                style_cell_conditional=[{'if': {'column_id':'Province/State'},'width':'28%'},\n",
    "                                                                        {'if': {'column_id':'Remaining'},'width':'18%'},\n",
    "                                                                        {'if': {'column_id':'Confirmed'},'width':'18%'},\n",
    "                                                                        {'if': {'column_id':'Recovered'},'width':'18%'},\n",
    "                                                                        {'if': {'column_id':'Deaths'},'width':'18%'},\n",
    "                                                                        {'if': {'column_id':'Confirmed'},'color':'#d7191c'},\n",
    "                                                                        {'if': {'column_id':'Recovered'},'color':'#1a9622'},\n",
    "                                                                        {'if': {'column_id':'Deaths'},'color':'#6c6c6c'},\n",
    "                                                                        {'textAlign': 'center'}],\n",
    "                                            )\n",
    "                                        ]),\n",
    "                                        dcc.Tab(label='Canada', \n",
    "                                                className='custom-tab',\n",
    "                                                selected_className='custom-tab--selected',\n",
    "                                                children=[\n",
    "                                            dash_table.DataTable(\n",
    "                                                \n",
    "                                                # Don't show coordinates\n",
    "                                                columns=[{\"name\": i, \"id\": i} for i in CANTable.columns[0:5]],\n",
    "                                                # But still store coordinates in the table for interactivity\n",
    "                                                data=CANTable.to_dict(\"rows\"),\n",
    "                                                #row_selectable=\"single\",\n",
    "                                                sort_action=\"native\",\n",
    "                                                style_as_list_view=True,\n",
    "                                                style_cell={'font_family':'Arial',\n",
    "                                                            'font_size':'1.2rem',\n",
    "                                                            'padding':'.1rem',\n",
    "                                                            'backgroundColor':'#f4f4f2',},\n",
    "                                                fixed_rows={'headers':True,'data':0},\n",
    "                                                style_table={'minHeight': '750px', \n",
    "                                                             'height': '750px', \n",
    "                                                             'maxHeight': '750px'\n",
    "                                                            #'Height':'300px',\n",
    "                                                            #'overflowY':'scroll',\n",
    "                                                            #'overflowX':'scroll',\n",
    "                                                            },\n",
    "                                                style_header={'backgroundColor':'#f4f4f2',\n",
    "                                                              'fontWeight':'bold'},\n",
    "                                                style_cell_conditional=[{'if': {'column_id':'Province/State'},'width':'28%'},\n",
    "                                                                        {'if': {'column_id':'Remaining'},'width':'18%'},\n",
    "                                                                        {'if': {'column_id':'Confirmed'},'width':'18%'},\n",
    "                                                                        {'if': {'column_id':'Recovered'},'width':'18%'},\n",
    "                                                                        {'if': {'column_id':'Deaths'},'width':'18%'},\n",
    "                                                                        {'if': {'column_id':'Confirmed'},'color':'#d7191c'},\n",
    "                                                                        {'if': {'column_id':'Recovered'},'color':'#1a9622'},\n",
    "                                                                        {'if': {'column_id':'Deaths'},'color':'#6c6c6c'},\n",
    "                                                                        {'textAlign': 'center'}],\n",
    "                                            )\n",
    "                                        ]),\n",
    "                                      dcc.Tab(label='Mainland China', \n",
    "                                              className='custom-tab',\n",
    "                                              selected_className='custom-tab--selected',\n",
    "                                              children=[\n",
    "                                              dash_table.DataTable(\n",
    "                                                \n",
    "                                                # Don't show coordinates\n",
    "                                                columns=[{\"name\": i, \"id\": i} for i in CNTable.columns[0:5]],\n",
    "                                                # But still store coordinates in the table for interactivity\n",
    "                                                data=CNTable.to_dict(\"rows\"),\n",
    "                                                #row_selectable=\"single\",\n",
    "                                                sort_action=\"native\",\n",
    "                                                style_as_list_view=True,\n",
    "                                                style_cell={'font_family':'Arial',\n",
    "                                                            'font_size':'1.2rem',\n",
    "                                                            'padding':'.1rem',\n",
    "                                                            'backgroundColor':'#f4f4f2',},\n",
    "                                                fixed_rows={'headers':True,'data':0},\n",
    "                                                style_table={'minHeight': '750px', \n",
    "                                                             'height': '750px', \n",
    "                                                             'maxHeight': '750px'\n",
    "                                                            #'Height':'300px',\n",
    "                                                            #'overflowY':'scroll',\n",
    "                                                            #'overflowX':'scroll',\n",
    "                                                            },\n",
    "                                                style_header={'backgroundColor':'#f4f4f2',\n",
    "                                                              'fontWeight':'bold'},\n",
    "                                                style_cell_conditional=[{'if': {'column_id':'Province/State'},'width':'28%'},\n",
    "                                                                        {'if': {'column_id':'Remaining'},'width':'18%'},\n",
    "                                                                        {'if': {'column_id':'Confirmed'},'width':'18%'},\n",
    "                                                                        {'if': {'column_id':'Recovered'},'width':'18%'},\n",
    "                                                                        {'if': {'column_id':'Deaths'},'width':'18%'},\n",
    "                                                                        {'if': {'column_id':'Confirmed'},'color':'#d7191c'},\n",
    "                                                                        {'if': {'column_id':'Recovered'},'color':'#1a9622'},\n",
    "                                                                        {'if': {'column_id':'Deaths'},'color':'#6c6c6c'},\n",
    "                                                                        {'textAlign': 'center'}],\n",
    "                                            )\n",
    "                                        ]),\n",
    "                                      dcc.Tab(label='United States', \n",
    "                                              className='custom-tab',\n",
    "                                              selected_className='custom-tab--selected',\n",
    "                                              children=[\n",
    "                                              dash_table.DataTable(\n",
    "                                                \n",
    "                                                # Don't show coordinates\n",
    "                                                columns=[{\"name\": i, \"id\": i} for i in USTable.columns[0:5]],\n",
    "                                                # But still store coordinates in the table for interactivity\n",
    "                                                data=USTable.to_dict(\"rows\"),\n",
    "                                                #row_selectable=\"single\",\n",
    "                                                sort_action=\"native\",\n",
    "                                                style_as_list_view=True,\n",
    "                                                style_cell={'font_family':'Arial',\n",
    "                                                            'font_size':'1.2rem',\n",
    "                                                            'padding':'.1rem',\n",
    "                                                            'backgroundColor':'#f4f4f2',},\n",
    "                                                fixed_rows={'headers':True,'data':0},\n",
    "                                                style_table={'minHeight': '760px', \n",
    "                                                             'height': '760px', \n",
    "                                                             'maxHeight': '760px'\n",
    "                                                            #'Height':'300px',\n",
    "                                                            #'overflowY':'scroll',\n",
    "                                                            #'overflowX':'scroll',\n",
    "                                                            },\n",
    "                                                style_header={'backgroundColor':'#f4f4f2',\n",
    "                                                              'fontWeight':'bold'},\n",
    "                                                style_cell_conditional=[{'if': {'column_id':'Province/State'},'width':'28%'},\n",
    "                                                                        {'if': {'column_id':'Remaining'},'width':'18%'},\n",
    "                                                                        {'if': {'column_id':'Confirmed'},'width':'18%'},\n",
    "                                                                        {'if': {'column_id':'Recovered'},'width':'18%'},\n",
    "                                                                        {'if': {'column_id':'Deaths'},'width':'18%'},\n",
    "                                                                        {'if': {'column_id':'Confirmed'},'color':'#d7191c'},\n",
    "                                                                        {'if': {'column_id':'Recovered'},'color':'#1a9622'},\n",
    "                                                                        {'if': {'column_id':'Deaths'},'color':'#6c6c6c'},\n",
    "                                                                        {'textAlign': 'center'}],\n",
    "                                            )\n",
    "                                        ]),]\n",
    "                                    )\n",
    "                              ])\n",
    "                 ]),\n",
    "        html.Div(\n",
    "          id='my-footer',\n",
    "          style={'marginLeft':'1.5%','marginRight':'1.5%'},\n",
    "                 children=[\n",
    "                     html.P(style={'textAlign':'center','margin':'auto'},\n",
    "                            children=[\" 🙏 God Bless the World 🙏 |\",\n",
    "                                      \" Developed by \",html.A('Jun', href='https://junye0798.com/'),\" with ❤️ in Sydney\"])]),\n",
    "        ])\n",
    "\n",
    "@app.callback(\n",
    "    Output('datatable-interact-map', 'figure'),\n",
    "    [Input('datatable-interact-location', 'derived_virtual_selected_rows'),\n",
    "     Input('datatable-interact-location', 'selected_row_ids')]\n",
    ")\n",
    "\n",
    "def update_figures(derived_virtual_selected_rows, selected_row_ids):\n",
    "    # When the table is first rendered, `derived_virtual_data` and\n",
    "    # `derived_virtual_selected_rows` will be `None`. This is due to an\n",
    "    # idiosyncracy in Dash (unsupplied properties are always None and Dash\n",
    "    # calls the dependent callbacks when the component is first rendered).\n",
    "    # So, if `rows` is `None`, then the component was just rendered\n",
    "    # and its value will be the same as the component's dataframe.\n",
    "    # Instead of setting `None` in here, you could also set\n",
    "    # `derived_virtual_data=df.to_rows('dict')` when you initialize\n",
    "    # the component.\n",
    "        \n",
    "    if derived_virtual_selected_rows is None:\n",
    "        derived_virtual_selected_rows = []\n",
    "        \n",
    "    dff = dfSum\n",
    "        \n",
    "    mapbox_access_token = \"pk.eyJ1IjoicGxvdGx5bWFwYm94IiwiYSI6ImNqdnBvNDMyaTAxYzkzeW5ubWdpZ2VjbmMifQ.TXcBE-xg9BFdV2ocecc_7g\"\n",
    "\n",
    "    # Generate a list for hover text display\n",
    "    textList=[]\n",
    "    for area, region in zip(dfs[keyList[0]]['Province/State'], dfs[keyList[0]]['Country/Region']):\n",
    "        \n",
    "        if type(area) is str:\n",
    "            if region == \"Hong Kong\" or region == \"Macau\" or region == \"Taiwan\":\n",
    "                textList.append(area)\n",
    "            else:\n",
    "                textList.append(area+', '+region)\n",
    "        else:\n",
    "            textList.append(region)\n",
    "            \n",
    "    # Generate a list for color gradient display\n",
    "    colorList=[]\n",
    "\n",
    "    for comfirmed, recovered, deaths in zip(dfs[keyList[0]]['Confirmed'],dfs[keyList[0]]['Recovered'],dfs[keyList[0]]['Deaths']):\n",
    "        remaining = recovered / (comfirmed - deaths)\n",
    "        colorList.append(remaining)\n",
    "\n",
    "    fig2 = go.Figure(go.Scattermapbox(\n",
    "        lat=dfs[keyList[0]]['lat'],\n",
    "        lon=dfs[keyList[0]]['lon'],\n",
    "        mode='markers',\n",
    "        marker=go.scattermapbox.Marker(\n",
    "            color=['#d7191c' if i < 1 else '#1a9622' for i in colorList],\n",
    "            size=[i**(1/3) for i in dfs[keyList[0]]['Confirmed']], \n",
    "            sizemin=1,\n",
    "            sizemode='area',\n",
    "            sizeref=2.*max([math.sqrt(i) for i in dfs[keyList[0]]['Confirmed']])/(100.**2),\n",
    "        ),\n",
    "        text=textList,\n",
    "        hovertext=['Comfirmed: {}<br>Recovered: {}<br>Death: {}'.format(i, j, k) for i, j, k in zip(dfs[keyList[0]]['Confirmed'],\n",
    "                                                                                                    dfs[keyList[0]]['Recovered'],\n",
    "                                                                                                    dfs[keyList[0]]['Deaths'])],\n",
    "        hovertemplate = \"<b>%{text}</b><br><br>\" +\n",
    "                        \"%{hovertext}<br>\" +\n",
    "                        \"<extra></extra>\")\n",
    "    )\n",
    "    fig2.update_layout(\n",
    "        plot_bgcolor='#151920',\n",
    "        paper_bgcolor='#cbd2d3',\n",
    "        margin=go.layout.Margin(l=10,r=10,b=10,t=0,pad=40),\n",
    "        hovermode='closest',\n",
    "        transition = {'duration':50},\n",
    "        annotations=[\n",
    "        dict(\n",
    "            x=.5,\n",
    "            y=-.01,\n",
    "            align='center',\n",
    "            showarrow=False,\n",
    "            text=\"Points are placed based on data geolocation levels.<br><b>Province/State level<b> - China, Australia, United States, and Canada; <b>Country level<b> - other countries.\",\n",
    "            xref=\"paper\",\n",
    "            yref=\"paper\",\n",
    "            font=dict(size=10, color='#292929'),\n",
    "        )],\n",
    "        mapbox=go.layout.Mapbox(\n",
    "            accesstoken=mapbox_access_token,\n",
    "            style=\"light\",\n",
    "            # The direction you're facing, measured clockwise as an angle from true north on a compass\n",
    "            bearing=0,\n",
    "            center=go.layout.mapbox.Center(\n",
    "                lat=14.056159 if len(derived_virtual_selected_rows)==0 else dff.loc[selected_row_ids[0]].lat, \n",
    "                lon=22.920039 if len(derived_virtual_selected_rows)==0 else dff.loc[selected_row_ids[0]].lon\n",
    "            ),\n",
    "            pitch=0,\n",
    "            zoom=1.03 if len(derived_virtual_selected_rows)==0 else 4\n",
    "        )\n",
    "    )\n",
    "\n",
    "    return fig2\n",
    "\n",
    "@app.callback(\n",
    "    Output('datatable-interact-lineplot', 'figure'),\n",
    "    [Input('datatable-interact-location', 'derived_virtual_selected_rows'),\n",
    "     Input('datatable-interact-location', 'selected_row_ids')]\n",
    ")\n",
    "\n",
    "def update_lineplot(derived_virtual_selected_rows, selected_row_ids):\n",
    "    \n",
    "    if derived_virtual_selected_rows is None:\n",
    "        derived_virtual_selected_rows = []\n",
    "        \n",
    "    dff = dfSum\n",
    "    \n",
    "    if selected_row_ids:\n",
    "        if dff.loc[selected_row_ids[0]]['Country/Region'] == 'Mainland China':\n",
    "            Region = 'China'\n",
    "        else:\n",
    "            Region = dff.loc[selected_row_ids[0]]['Country/Region']\n",
    "    else:\n",
    "        Region = 'Australia'\n",
    "        \n",
    "    # Read cumulative data of a given region from ./cumulative_data folder\n",
    "    df_region = pd.read_csv('./cumulative_data/{}.csv'.format(Region))\n",
    "    df_region=df_region.astype({'Date_last_updated_AEDT':'datetime64', 'date_day':'datetime64'})\n",
    "\n",
    "    # Line plot for confirmed cases\n",
    "    # Set up tick scale based on confirmed case number\n",
    "    #tickList = list(np.arange(0, df_confirmed['Mainland China'].max()+1000, 10000))\n",
    "\n",
    "    # Create empty figure canvas\n",
    "    #fig3 = make_subplots(specs=[[{\"secondary_y\": True}]])\n",
    "    fig3 = go.Figure()\n",
    "    # Add trace to the figure\n",
    "    fig3.add_trace(go.Scatter(x=df_region['date_day'], \n",
    "                             y=df_region['Confirmed'],\n",
    "                             mode='lines+markers',\n",
    "                             line_shape='spline',\n",
    "                             name='Confirmed case',\n",
    "                             line=dict(color='#d7191c', width=2),\n",
    "                             #marker=dict(size=4, color='#f4f4f2',\n",
    "                             #            line=dict(width=1,color='#921113')),\n",
    "                             text=[datetime.strftime(d, '%b %d %Y AEDT') for d in df_region['date_day']],\n",
    "                             hovertext=['{} confirmed<br>{:,d} cases<br>'.format(Region, i) for i in df_region['Confirmed']],\n",
    "                             hovertemplate='<b>%{text}</b><br></br>'+\n",
    "                                                     '%{hovertext}'+\n",
    "                                                     '<extra></extra>'),\n",
    "                  #secondary_y=False,\n",
    "                  )\n",
    "    fig3.add_trace(go.Scatter(x=df_region['date_day'], \n",
    "                             y=df_region['Recovered'],\n",
    "                             mode='lines+markers',\n",
    "                             line_shape='spline',\n",
    "                             name='Recovered case',\n",
    "                             line=dict(color='#1a9622', width=2),                         \n",
    "                             #marker=dict(size=4, color='#f4f4f2',\n",
    "                             #            line=dict(width=1,color='#168038')),\n",
    "                             text=[datetime.strftime(d, '%b %d %Y AEDT') for d in df_region['date_day']],\n",
    "                             hovertext=['{} Recovered<br>{:,d} cases<br>'.format(Region, i) for i in df_region['Recovered']],\n",
    "                             hovertemplate='<b>%{text}</b><br></br>'+\n",
    "                                                     '%{hovertext}'+\n",
    "                                                     '<extra></extra>'),\n",
    "                  #secondary_y=False,\n",
    "                  )\n",
    "    fig3.add_trace(go.Scatter(x=df_region['date_day'], \n",
    "                             y=df_region['Deaths'],\n",
    "                             mode='lines+markers',\n",
    "                             line_shape='spline',\n",
    "                             name='Death case',\n",
    "                             line=dict(color='#626262', width=2),\n",
    "                             #marker=dict(size=4, color='#f4f4f2',\n",
    "                             #            line=dict(width=1,color='#626262')),\n",
    "                             text=[datetime.strftime(d, '%b %d %Y AEDT') for d in df_region['date_day']],\n",
    "                             hovertext=['{} Deaths<br>{:,d} cases<br>'.format(Region, i) for i in df_region['Deaths']],\n",
    "                             hovertemplate='<b>%{text}</b><br></br>'+\n",
    "                                                     '%{hovertext}'+\n",
    "                                                     '<extra></extra>'),\n",
    "                  #secondary_y=False,\n",
    "                  )\n",
    "    fig3.add_trace(go.Bar(x=df_region['date_day'], \n",
    "                          y=df_region['New'],\n",
    "                         #mode='lines+markers',\n",
    "                         #line_shape='spline',\n",
    "                         name='Daily New Cases',\n",
    "                         marker_color='#626262',\n",
    "                         opacity = .3,\n",
    "                             #marker=dict(size=4, color='#f4f4f2',\n",
    "                             #            line=dict(width=1,color='#626262')),\n",
    "                         text=[datetime.strftime(d, '%b %d %Y AEDT') for d in df_region['date_day']],\n",
    "                         hovertext=['{} New<br>{} cases<br>'.format(Region, i) for i in df_region['New']],\n",
    "                         hovertemplate='<b>%{text}</b><br></br>'+\n",
    "                                                  '%{hovertext}'+\n",
    "                                                  '<extra></extra>'),\n",
    "             #secondary_y=True,\n",
    "                  )\n",
    "\n",
    "    # Customise layout\n",
    "    fig3.update_layout(\n",
    "        #title=dict(\n",
    "        #    text=\"<b>Confirmed Cases Timeline<b>\",\n",
    "        #    y=0.96, x=0.5, xanchor='center', yanchor='top',\n",
    "        #    font=dict(size=20, color=\"#292929\", family=\"Playfair Display\")\n",
    "        #),\n",
    "        margin=go.layout.Margin(\n",
    "            l=10,\n",
    "            r=10,\n",
    "            b=10,\n",
    "            t=5,\n",
    "            pad=0\n",
    "        ),\n",
    "        annotations=[\n",
    "            dict(\n",
    "                x=.5,\n",
    "                y=.4,\n",
    "                xref=\"paper\",\n",
    "                yref=\"paper\",\n",
    "                text=Region,\n",
    "                opacity=0.5,\n",
    "                font=dict(family='Arial, sans-serif',\n",
    "                          size=60,\n",
    "                          color=\"grey\"),\n",
    "            )\n",
    "        ],\n",
    "        yaxis=dict(\n",
    "            showline=False, linecolor='#272e3e',\n",
    "            zeroline=False,\n",
    "            #showgrid=False,\n",
    "            #rangemode='tozero',\n",
    "            gridcolor='rgba(203, 210, 211,.3)',\n",
    "            gridwidth = .1,\n",
    "            tickmode='array',\n",
    "            # Set tick range based on the maximum number\n",
    "            #tickvals=tickList,\n",
    "            # Set tick label accordingly\n",
    "            #ticktext=[\"{:.0f}k\".format(i/1000) for i in tickList]\n",
    "        ),\n",
    "        yaxis2=dict(showline=False, linecolor='#272e3e',\n",
    "                zeroline=False,\n",
    "                showgrid=False,\n",
    "                automargin=True,\n",
    "                #rangemode=\"tozero\",\n",
    "                #mirror='ticks',\n",
    "                #gridcolor='rgba(203, 210, 211,.3)',\n",
    "                #gridwidth = .1,\n",
    "                #tickmode='array',\n",
    "                #anchor=\"free\",\n",
    "                #overlaying=\"y\",\n",
    "                #side=\"right\",\n",
    "                #position=0.15\n",
    "        ),\n",
    "        xaxis_title=\"Cumulative Cases (Select Country/Region From Table)\",\n",
    "        xaxis=dict(\n",
    "            showline=False, linecolor='#272e3e',\n",
    "            showgrid=False,\n",
    "            gridcolor='rgba(203, 210, 211,.3)',\n",
    "            gridwidth = .1,\n",
    "            zeroline=False\n",
    "        ),\n",
    "        xaxis_tickformat='%b %d',\n",
    "        #transition = {'duration':500},\n",
    "        hovermode = 'x',\n",
    "        legend_orientation=\"v\",\n",
    "        legend=dict(x=.02, y=.95, bgcolor=\"rgba(0,0,0,0)\",),\n",
    "        plot_bgcolor='#f4f4f2',\n",
    "        paper_bgcolor='#cbd2d3',\n",
    "        font=dict(color='#292929')\n",
    "    )\n",
    "    \n",
    "    return fig3\n",
    "\n",
    "if __name__ == '__main__':\n",
    "    app.run_server(port=8882)"
   ]
  },
  {
   "cell_type": "code",
   "execution_count": null,
   "metadata": {},
   "outputs": [],
   "source": []
  }
 ],
 "metadata": {
  "kernelspec": {
   "display_name": "Python 3",
   "language": "python",
   "name": "python3"
  },
  "language_info": {
   "codemirror_mode": {
    "name": "ipython",
    "version": 3
   },
   "file_extension": ".py",
   "mimetype": "text/x-python",
   "name": "python",
   "nbconvert_exporter": "python",
   "pygments_lexer": "ipython3",
   "version": "3.6.9"
  },
  "toc": {
   "base_numbering": 1,
   "nav_menu": {},
   "number_sections": true,
   "sideBar": true,
   "skip_h1_title": false,
   "title_cell": "Table of Contents",
   "title_sidebar": "Contents",
   "toc_cell": false,
   "toc_position": {},
   "toc_section_display": true,
   "toc_window_display": false
  },
  "varInspector": {
   "cols": {
    "lenName": 16,
    "lenType": 16,
    "lenVar": 40
   },
   "kernels_config": {
    "python": {
     "delete_cmd_postfix": "",
     "delete_cmd_prefix": "del ",
     "library": "var_list.py",
     "varRefreshCmd": "print(var_dic_list())"
    },
    "r": {
     "delete_cmd_postfix": ") ",
     "delete_cmd_prefix": "rm(",
     "library": "var_list.r",
     "varRefreshCmd": "cat(var_dic_list()) "
    }
   },
   "types_to_exclude": [
    "module",
    "function",
    "builtin_function_or_method",
    "instance",
    "_Feature"
   ],
   "window_display": false
  }
 },
 "nbformat": 4,
 "nbformat_minor": 2
}
