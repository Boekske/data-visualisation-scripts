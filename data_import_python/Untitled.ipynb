{
 "cells": [
  {
   "cell_type": "code",
   "execution_count": 19,
   "metadata": {},
   "outputs": [
    {
     "name": "stdout",
     "output_type": "stream",
     "text": [
      "Province/State,Country/Region,Last Update,Confirmed,Deaths,Recovered,City,Date_last_updated_AEDT,lat,lon\n",
      "Hubei,China,02/15/2020 23:00,56249,1596,5623,,2020-02-16 15:00:00,31.1517252,112.8783222\n",
      "Guangdong,China,02/15/2020 23:00,1316,2,442,,2020-02-16 15:00:00,23.1357694,113.1982688\n",
      "Henan,China,02/15/2020 23:00,1231,13,415,,2020-02-16 15:00:00,34.0000001,113.9999999\n"
     ]
    }
   ],
   "source": [
    "with open('sample.txt', 'r') as reader:\n",
    "    # Read & print the entire file\n",
    "    print(reader.read())"
   ]
  },
  {
   "cell_type": "code",
   "execution_count": 17,
   "metadata": {},
   "outputs": [
    {
     "name": "stdout",
     "output_type": "stream",
     "text": [
      "Province/State Country/Region Last Update Confirmed Deaths Recovered City Date_last_updated_AEDT lat lon\n",
      "\n"
     ]
    }
   ],
   "source": [
    "with open('sample.txt', 'r') as reader:\n",
    "    # Read & print the first 5 characters of the line 5 times\n",
    "    print(reader.readline())\n",
    "    #print(reader.readline())\n"
   ]
  },
  {
   "cell_type": "code",
   "execution_count": 11,
   "metadata": {},
   "outputs": [
    {
     "name": "stdout",
     "output_type": "stream",
     "text": [
      "Provi\n",
      "nce/S\n",
      "tate \n",
      "Count\n",
      "ry/Re\n"
     ]
    }
   ],
   "source": [
    "with open('sample.txt', 'r') as reader:\n",
    "    # Read & print the first 5 characters of the line 5 times\n",
    "    print(reader.readline(5))\n",
    "    print(reader.readline(5))\n",
    "    print(reader.readline(5))\n",
    "    print(reader.readline(5))\n",
    "    print(reader.readline(5))"
   ]
  },
  {
   "cell_type": "code",
   "execution_count": 6,
   "metadata": {},
   "outputs": [
    {
     "name": "stdout",
     "output_type": "stream",
     "text": [
      "['Province/State Country/Region Last Update Confirmed Deaths Recovered City Date_last_updated_AEDT lat lon\\n', 'Hubei China 02/15/2020 23:00 56249 1596 5623  2020-02-16 15:00:00 31.1517252 112.8783222\\n', 'Guangdong China 02/15/2020 23:00 1316 2 442  2020-02-16 15:00:00 23.1357694 113.1982688\\n', 'Henan China 02/15/2020 23:00 1231 13 415  2020-02-16 15:00:00 34.0000001 113.9999999']\n"
     ]
    }
   ],
   "source": [
    "with open('sample.txt', 'r') as reader:\n",
    "    print(reader.readlines())"
   ]
  },
  {
   "cell_type": "code",
   "execution_count": 18,
   "metadata": {},
   "outputs": [
    {
     "name": "stdout",
     "output_type": "stream",
     "text": [
      "Province/State Country/Region Last Update Confirmed Deaths Recovered City Date_last_updated_AEDT lat lon\n",
      "Hubei China 02/15/2020 23:00 56249 1596 5623  2020-02-16 15:00:00 31.1517252 112.8783222\n",
      "Guangdong China 02/15/2020 23:00 1316 2 442  2020-02-16 15:00:00 23.1357694 113.1982688\n",
      "Henan China 02/15/2020 23:00 1231 13 415  2020-02-16 15:00:00 34.0000001 113.9999999"
     ]
    }
   ],
   "source": [
    "# Iterating Over Each Line in the File\n",
    "with open('sample.txt', 'r') as reader:\n",
    "    # Read and print the entire file line by line\n",
    "    line = reader.readline()\n",
    "    while line != '':  # The EOF char is an empty string\n",
    "        print(line, end='')\n",
    "        line = reader.readline()      "
   ]
  },
  {
   "cell_type": "code",
   "execution_count": null,
   "metadata": {},
   "outputs": [],
   "source": []
  }
 ],
 "metadata": {
  "kernelspec": {
   "display_name": "Python 3",
   "language": "python",
   "name": "python3"
  },
  "language_info": {
   "codemirror_mode": {
    "name": "ipython",
    "version": 3
   },
   "file_extension": ".py",
   "mimetype": "text/x-python",
   "name": "python",
   "nbconvert_exporter": "python",
   "pygments_lexer": "ipython3",
   "version": "3.6.9"
  },
  "toc": {
   "base_numbering": 1,
   "nav_menu": {},
   "number_sections": true,
   "sideBar": true,
   "skip_h1_title": false,
   "title_cell": "Table of Contents",
   "title_sidebar": "Contents",
   "toc_cell": false,
   "toc_position": {},
   "toc_section_display": true,
   "toc_window_display": false
  },
  "varInspector": {
   "cols": {
    "lenName": 16,
    "lenType": 16,
    "lenVar": 40
   },
   "kernels_config": {
    "python": {
     "delete_cmd_postfix": "",
     "delete_cmd_prefix": "del ",
     "library": "var_list.py",
     "varRefreshCmd": "print(var_dic_list())"
    },
    "r": {
     "delete_cmd_postfix": ") ",
     "delete_cmd_prefix": "rm(",
     "library": "var_list.r",
     "varRefreshCmd": "cat(var_dic_list()) "
    }
   },
   "types_to_exclude": [
    "module",
    "function",
    "builtin_function_or_method",
    "instance",
    "_Feature"
   ],
   "window_display": false
  }
 },
 "nbformat": 4,
 "nbformat_minor": 2
}
